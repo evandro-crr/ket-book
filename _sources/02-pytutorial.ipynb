{
 "cells": [
  {
   "cell_type": "markdown",
   "metadata": {},
   "source": [
    "# Tutorial de Python\n",
    "\n",
    "Este capítulo traz uma breve introdução ao Python. Nosso objetivo é apresentar conceitos básicos, visando um público que não possui familiaridade com linguagens de programação. Caso você já tenha familiaridade com alguma linguagem de programação e/ou queira aprofundar seu conhecimento em Python, recomendamos o [tutorial oficial de Python](https://docs.python.org/pt-br/3.10/tutorial/) e o [Python Tutorial](https://www.w3schools.com/python) da W3Schools (em inglês).\n",
    "\n",
    "## Ambiente de Execução\n",
    "\n",
    "É possível executar e interagir com todo código Python neste site, basta ativar a opção <i class=\"fas fa-rocket\"></i> **Live Code**. Essa é uma ótima maneira de testar seus conhecimentos. No entanto, o código executado não fica salvo, e a página volta ao seu estado inicial sempre que recarregada.\n",
    "\n",
    "Todo o site é construído em Jupyter Notebook, assim, caso queira salvar suas alterações, é possível <i class=\"fas fa-download\"></i> baixar o notebook da página (`.ipynb`) e executá-lo localmente; ou carregar e executar o notebook no <i class=\"fas fa-rocket\"></i> **Binder/Colab** e, em seguida, fazer o download do notebook com suas modificações.\n",
    "\n",
    "```{note}\n",
    "Todo código executado com Live Code é processado pelo Binder.\n",
    "```\n",
    "\n",
    "```{caution}\n",
    "O Binder possui limitações no uso de memória e CPU. Caso você exceda esse limite, será desconectado e poderá encontrar dificuldades para abrir uma nova sessão. Essa é uma restrição aplicada principalmente para impedir o uso da plataforma para minerar criptomoedas.\n",
    "\n",
    "Os limites de uso de recursos do Binder não são bem estabelecidos; no entanto, todo código apresentado no site deve executar sem problemas. Mas fique atento em simulações quânticas, pois o uso de recursos computacionais cresce exponencialmente com o número de qubits e pode exceder rapidamente o limite.\n",
    "```"
   ]
  },
  {
   "cell_type": "markdown",
   "metadata": {},
   "source": [
    "## Variáveis e Tipos de Dados\n",
    "\n",
    "As informações, como números e palavras, são armazenadas em variáveis. Cada variável possui um nome e um valor. Para criar ou atualizar o valor de uma variável, é usado o operador `=` como no exemplo abaixo, onde é atribuído o valor 42 à variável `answer`."
   ]
  },
  {
   "cell_type": "code",
   "execution_count": 163,
   "metadata": {},
   "outputs": [],
   "source": [
    "answer = 42"
   ]
  },
  {
   "cell_type": "markdown",
   "metadata": {},
   "source": [
    "Você pode usar a função `print` para mostrar na tela o valor de uma variável.\n",
    "\n",
    "```{tip}\n",
    "Caso você tenha ativado o Live Code, é necessário executar o código da célula anterior antes de executar o código abaixo. Caso contrário, a variável `answer` não estará disponível. Todas as variáveis definidas em uma célula ficam disponíveis para as demais, no entanto, é necessário executar a célula para isso.\n",
    "``````"
   ]
  },
  {
   "cell_type": "code",
   "execution_count": 164,
   "metadata": {},
   "outputs": [
    {
     "name": "stdout",
     "output_type": "stream",
     "text": [
      "A resposta é 42\n"
     ]
    }
   ],
   "source": [
    "print(\"A resposta é\", answer)"
   ]
  },
  {
   "cell_type": "markdown",
   "metadata": {},
   "source": [
    "Além de números inteiros ({class}`int`), é possível atribuir números reais ({class}`float`), complexos ({class}`complex`), palavras (também chamado de string, {class}`str`) e outras estruturas de dados para variáveis.\n",
    "\n"
   ]
  },
  {
   "cell_type": "code",
   "execution_count": 165,
   "metadata": {},
   "outputs": [],
   "source": [
    "# Isso é um comentário e não é executado\n",
    "\n",
    "numero_inteiro = 10\n",
    "numero_real = 10.5\n",
    "numero_complexo = 2 + 4j  # Representa o número 2 + 4i\n",
    "texto = \"Texto\"  # O valor do texto está sempre entre aspas"
   ]
  },
  {
   "cell_type": "markdown",
   "metadata": {},
   "source": [
    "Toda variável tem um tipo que é dinamicamente definido no momento da atribuição. Conhecer o tipo da variável é importante quando for operar com ela. Por exemplo, é possível somar um número inteiro com um número real, mas não é possível somar um número inteiro com um texto."
   ]
  },
  {
   "cell_type": "code",
   "execution_count": 166,
   "metadata": {},
   "outputs": [
    {
     "name": "stdout",
     "output_type": "stream",
     "text": [
      "10 é do tipo <class 'int'>\n",
      "10.5 é do tipo <class 'float'>\n",
      "(2+4j) é do tipo <class 'complex'>\n",
      "Texto é do tipo <class 'str'>\n"
     ]
    }
   ],
   "source": [
    "print(numero_inteiro, \"é do tipo\", type(numero_inteiro))\n",
    "print(numero_real, \"é do tipo\", type(numero_real))\n",
    "print(numero_complexo, \"é do tipo\", type(numero_complexo))\n",
    "print(texto, \"é do tipo\", type(texto))  # Tipo string"
   ]
  },
  {
   "cell_type": "markdown",
   "metadata": {},
   "source": [
    "## Operações Matemáticas Básicas\n",
    "\n",
    "Operações matemáticas básicas estão disponíveis nativamente no Python. É possível somar (`+`), subtrair (`-`), multiplicar (`*`), dividir (`/`) números e encontrar o resto da divisão inteira (`%`) entre números. Além disso, também é possível realizar operações de potenciação (`**`) e divisão inteira (`//`). As operações seguem a precedência de operadores usual, e é possível usar parênteses para definir a ordem das operações.\n",
    "\n",
    "Abaixo segue exemplos simples de como realizar operações matemáticas básicas em Python. Experimente modificar e executar este código em para ver os resultados das operações."
   ]
  },
  {
   "cell_type": "code",
   "execution_count": 167,
   "metadata": {},
   "outputs": [
    {
     "name": "stdout",
     "output_type": "stream",
     "text": [
      "Soma: 15\n",
      "Subtração: 17\n",
      "Multiplicação: 20\n",
      "Divisão: 5.0\n",
      "Resto da Divisão: 1\n",
      "Potenciação: 8\n",
      "Divisão Inteira: 4\n"
     ]
    }
   ],
   "source": [
    "soma = 10 + 5\n",
    "subtracao = 20 - 3\n",
    "multiplicacao = 5 * 4\n",
    "divisao = 15 / 3\n",
    "resto_divisao = 17 % 4\n",
    "potenciacao = 2**3\n",
    "divisao_inteira = 17 // 4\n",
    "\n",
    "print(\"Soma:\", soma)\n",
    "print(\"Subtração:\", subtracao)\n",
    "print(\"Multiplicação:\", multiplicacao)\n",
    "print(\"Divisão:\", divisao)\n",
    "print(\"Resto da Divisão:\", resto_divisao)\n",
    "print(\"Potenciação:\", potenciacao)\n",
    "print(\"Divisão Inteira:\", divisao_inteira)"
   ]
  },
  {
   "cell_type": "code",
   "execution_count": 168,
   "metadata": {},
   "outputs": [
    {
     "name": "stdout",
     "output_type": "stream",
     "text": [
      "Resultado 1: 20\n",
      "Resultado 2: 30\n"
     ]
    }
   ],
   "source": [
    "resultado1 = 10 + 5 * 2\n",
    "resultado2 = (10 + 5) * 2\n",
    "\n",
    "print(\"Resultado 1:\", resultado1)\n",
    "print(\"Resultado 2:\", resultado2)"
   ]
  },
  {
   "cell_type": "markdown",
   "metadata": {},
   "source": [
    "## Estruturas de Controle\n",
    "\n",
    "Estruturas de controle permitem alterar o fluxo de execução de um código. Por padrão, o código é executado linha por linha, de cima para baixo. No entanto, é possível utilizar instruções para executar um trecho de código de maneira condicional, ou instruir para repetir uma execução dependendo de algum parâmetro.\n",
    "\n",
    "### Condicionais\n",
    "\n",
    "Uma das estruturas de controle mais usadas é o `if-else`, onde um trecho de código é executado dependendo de alguma condição. Por exemplo, o código abaixo verifica se o número é par ou não."
   ]
  },
  {
   "cell_type": "code",
   "execution_count": 169,
   "metadata": {},
   "outputs": [
    {
     "name": "stdout",
     "output_type": "stream",
     "text": [
      "24 é par\n"
     ]
    }
   ],
   "source": [
    "numero = 24\n",
    "\n",
    "if numero % 2 == 0:\n",
    "    print(numero, \"é par\")\n",
    "else:\n",
    "    print(numero, \"é impar\")"
   ]
  },
  {
   "cell_type": "markdown",
   "metadata": {},
   "source": [
    "Note que no trecho de código `numero % 2 == 0`, primeiro é calculado o resto da divisão por dois, e então é usado o operador `==` para verificar se o resultado é igual a 0. Assim, caso verdadeiro, é impresso na tela que o número é par, caso contrário, é impresso que o número é ímpar.\n",
    "\n",
    "Outros operadores de comparação incluem `>`, `<`, `>=` (maior ou igual), `<=` (menor ou igual) e `!=` (diferente). \n",
    "\n",
    "Como teste para executar um trecho de código condicional, normalmente, é usado um valor booleano, que pode assumir `True` (verdadeiro) ou `False` (falso). Assim, considerando que `numero` é par, `numero % 2 == 0` resulta em `True`.\n",
    "\n",
    "É possível definir um trecho alternativo de execução caso uma condição não seja verdadeira. Nesse caso, é usado o `else`. Note que o uso do `else` é opcional e ele apenas executa se a condição falhar.\n",
    "\n",
    "Outro aspecto importante do Python é a indentação. Um trecho de código é definido pela quantidade de espaço no início da linha. Usualmente, 4 espaços são usados para abrir um novo bloco de código. No exemplo anterior, a linha após o `if` está indentada, indicando que a função `print` faz parte do trecho de código controlado pelo `if`. Da mesma forma, a linha após o `else` está indentada para indicar que a linha faz parte do trecho de código do `else`.\n",
    "\n",
    "É possível aninhar operações condicionais, como no exemplo abaixo. Lembre-se sempre de identar corretamente seu código, caso contrário, o Python irá acusar um erro sintático, ou pior, o código pode retornar um valor errado."
   ]
  },
  {
   "cell_type": "code",
   "execution_count": null,
   "metadata": {},
   "outputs": [
    {
     "name": "stdout",
     "output_type": "stream",
     "text": [
      "x é maior que y\n",
      "x não é o maior, mas é maior que y\n"
     ]
    }
   ],
   "source": [
    "x = 10\n",
    "y = 5\n",
    "z = 20\n",
    "\n",
    "if x > y:\n",
    "    print(\"x é maior que y\")\n",
    "    if x > z:\n",
    "        print(\"x é o maior de todos\")\n",
    "    else:\n",
    "        print(\"x não é o maior, mas é maior que y\")\n",
    "else:\n",
    "    print(\"y é maior que x\")- Há uma imagem que referencia uma imagem do TCC do Giovani\n"
   ]
  },
  {
   "cell_type": "markdown",
   "metadata": {},
   "source": [
    "No exemplo acima, primeiro verificamos se `x` é maior que `y`. Se for verdadeiro, verificamos se `x` também é maior que `z`. Se isso for verdadeiro, imprimimos que `x` é o maior de todos. Caso contrário, imprimimos que `x` não é o maior, mas ainda é maior que `y`. Se a primeira condição (`x > y`) for falsa, então imprimimos que `y` é maior que `x`."
   ]
  },
  {
   "cell_type": "markdown",
   "metadata": {},
   "source": [
    "### Laço de Repetição (Loop)\n",
    "\n",
    "Outra estrutura de controle muito usada é o laço de repetição `for`, onde um bloco de código é executado repetidamente. Por exemplo, o código abaixo soma todos os números dos primeiros 1000 números:"
   ]
  },
  {
   "cell_type": "code",
   "execution_count": 171,
   "metadata": {},
   "outputs": [
    {
     "name": "stdout",
     "output_type": "stream",
     "text": [
      "499500\n"
     ]
    }
   ],
   "source": [
    "acc = 0\n",
    "\n",
    "#   ↱ iterador\n",
    "for i in range(1000):\n",
    "    #          ↳ condição de parada\n",
    "    acc = acc + i\n",
    "\n",
    "print(acc)"
   ]
  },
  {
   "cell_type": "markdown",
   "metadata": {},
   "source": [
    "A cada repetição do laço `for`, o iterador assume um novo valor. Usando a função {class}`range`, é possível iterar por todos os números entre 0 e a condição de parada -1. É possível usar `range(início, fim)` para iterar entre início e fim -1.\n",
    "\n",
    "No exemplo a baixo, o laço `for` itera sobre os números de 1 a 5, calcula o quadrado de cada número e adiciona à variável `soma_quadrados`. O resultado final é a soma dos quadrados desses números."
   ]
  },
  {
   "cell_type": "code",
   "execution_count": 172,
   "metadata": {},
   "outputs": [
    {
     "name": "stdout",
     "output_type": "stream",
     "text": [
      "A soma dos quadrados é: 55\n"
     ]
    }
   ],
   "source": [
    "soma_quadrados = 0\n",
    "\n",
    "for num in range(1, 6):  # de 1 a 5\n",
    "    quadrado = num**2\n",
    "    soma_quadrados += quadrado\n",
    "\n",
    "print(\"A soma dos quadrados é:\", soma_quadrados)"
   ]
  },
  {
   "cell_type": "markdown",
   "metadata": {},
   "source": [
    "Além de usar o {class}`range`, é possível iterar sobre outras estruturas de dados. Por exemplo, é possível iterar sobre uma lista de strings (texto)."
   ]
  },
  {
   "cell_type": "code",
   "execution_count": 173,
   "metadata": {},
   "outputs": [
    {
     "name": "stdout",
     "output_type": "stream",
     "text": [
      "rato tem 4 letras\n",
      "cutia tem 5 letras\n",
      "lagarto tem 7 letras\n"
     ]
    }
   ],
   "source": [
    "for animal in [\"rato\", \"cutia\", \"lagarto\"]:\n",
    "    print(animal, \"tem\", len(animal), \"letras\")"
   ]
  },
  {
   "cell_type": "markdown",
   "metadata": {},
   "source": [
    "Neste exemplo, a variável `animal` assume cada valor da lista, e o bloco de código dentro do `for` é executado para cada elemento da lista"
   ]
  },
  {
   "cell_type": "markdown",
   "metadata": {},
   "source": [
    "## Funções \n",
    "\n",
    "Funções são uma ótima maneira de abstrair o funcionamento do seu código e organizá-lo. Funções são blocos de código que com um comportamento específico e normalmente possuem parâmetros de entrada e retornam algum valor. Por exemplo, a função `soma` definida abaixo retorna a soma dos argumentos de entrada."
   ]
  },
  {
   "cell_type": "code",
   "execution_count": 174,
   "metadata": {},
   "outputs": [],
   "source": [
    "def soma(valor_a, valor_b):\n",
    "    resultado = valor_a + valor_b\n",
    "    return resultado"
   ]
  },
  {
   "cell_type": "markdown",
   "metadata": {},
   "source": [
    "O tipo dos parâmetros `valor_a` e `valor_b` é definido dinamicamente, e desde que os valores possam ser somados, essa função executará corretamente.\n",
    "\n",
    "Uma vez tendo a função definida, podemos chamá-la usando a estrutura `<nome da função>(parâmetros...)`.\n",
    "\n",
    "```{tip}\n",
    "Lembre-se de executar o código acima antes de executar o trecho de código abaixo, pois primeiro temos que definir a função para depois chamá-la.\n",
    "```"
   ]
  },
  {
   "cell_type": "code",
   "execution_count": 175,
   "metadata": {},
   "outputs": [
    {
     "name": "stdout",
     "output_type": "stream",
     "text": [
      "43\n"
     ]
    }
   ],
   "source": [
    "a = 10\n",
    "b = 33\n",
    "print(soma(a, b))"
   ]
  },
  {
   "cell_type": "markdown",
   "metadata": {},
   "source": [
    "A instrução `return` é usada para indicar o valor que deve ser retornado da função. É possível que uma função retorne em mais de um lugar. Por exemplo, podemos colocar o `return` dentro de um bloco condicional:"
   ]
  },
  {
   "cell_type": "code",
   "execution_count": 176,
   "metadata": {},
   "outputs": [
    {
     "name": "stdout",
     "output_type": "stream",
     "text": [
      "João é maior de idade.\n"
     ]
    }
   ],
   "source": [
    "def maior_de_idade(name, idade):\n",
    "    if idade >= 18:\n",
    "        return f\"{name} é maior de idade.\"\n",
    "    return f\"{name} é menor de idade.\"\n",
    "\n",
    "\n",
    "print(maior_de_idade(\"João\", 20))"
   ]
  },
  {
   "cell_type": "markdown",
   "metadata": {},
   "source": [
    "O tipo de cada parâmetro de uma função, assim como o tipo do retorno, é definido dinamicamente quando a função é chamada. No entanto, normalmente, as funções são construídas para operar sobre um tipo de dado específico. Por exemplo, no parâmetro `idade` da função `maior_de_idade`, é esperado um número, e essa função retorna um erro se passarmos uma string, por exemplo.\n",
    "\n",
    "Uma maneira de melhorar a clareza dos parâmetros da função é usar anotações de tipo. Essas anotações ajudam o programador a entender quais tipos de dados uma função recebe e que tipo de dado uma função retorna. No entanto, a anotação de tipo não é levada em consideração quando o código é executado. Abaixo segue a mesma função `maior_de_idade` definida com anotação de tipo."
   ]
  },
  {
   "cell_type": "code",
   "execution_count": 177,
   "metadata": {},
   "outputs": [
    {
     "name": "stdout",
     "output_type": "stream",
     "text": [
      "Maria é menor de idade.\n"
     ]
    }
   ],
   "source": [
    "# tipo do parâmetro name ↴           ↱ tipo do parâmetro idade\n",
    "def maior_de_idade(name: str, idade: int) -> str:\n",
    "    #                                        ↳ tipo do retorno da função\n",
    "    if idade >= 18:\n",
    "        return f\"{name} é maior de idade.\"\n",
    "    return f\"{name} é menor de idade.\"\n",
    "\n",
    "\n",
    "print(maior_de_idade(\"Maria\", 12))"
   ]
  },
  {
   "cell_type": "markdown",
   "metadata": {},
   "source": [
    "Você também pode chamar funções já definidas. Por exemplo, `print` é uma função já definida do Python. Além desta, existem diversas outras, como a função {class}`range` vista anteriormente."
   ]
  },
  {
   "cell_type": "markdown",
   "metadata": {},
   "source": [
    "## Importando Módulos\n",
    "\n",
    "Além das funcionalidades básicas do Python, algumas já vistas neste tutorial, a linguagem traz uma vasta biblioteca com módulos específicos para criptografia, processamento de texto, gerenciamento de arquivos e muito mais. Recomendamos consultar a documentação do Python para ver quais bibliotecas o Python traz por padrão: [Documentação Python](https://docs.python.org/pt-br/3.10/library/index.html). Para exemplificar o uso de módulos no Python, vamos importar a biblioteca {mod}`math`.\n",
    "\n",
    "Para importar uma biblioteca, é usada a instrução `import`, como no exemplo abaixo:\n"
   ]
  },
  {
   "cell_type": "code",
   "execution_count": 178,
   "metadata": {},
   "outputs": [
    {
     "name": "stdout",
     "output_type": "stream",
     "text": [
      "Valor de π = 3.141592653589793\n",
      "Valor de e = 2.718281828459045\n",
      "Raiz quadrada de 2 = 1.4142135623730951\n"
     ]
    }
   ],
   "source": [
    "import math\n",
    "\n",
    "print(\"Valor de π =\", math.pi)\n",
    "print(\"Valor de e =\", math.e)\n",
    "print(\"Raiz quadrada de 2 =\", math.sqrt(2))"
   ]
  },
  {
   "cell_type": "markdown",
   "metadata": {},
   "source": [
    "Uma vez que o módulo é importado, você terá acesso às funções e variáveis definidas nele. Além disso, é possível importar elementos específicos de um módulo, como no exemplo a seguir:"
   ]
  },
  {
   "cell_type": "code",
   "execution_count": 179,
   "metadata": {},
   "outputs": [
    {
     "name": "stdout",
     "output_type": "stream",
     "text": [
      "Cosseno de π = -1.0\n",
      "Seno de π = 1.2246467991473532e-16\n"
     ]
    }
   ],
   "source": [
    "from math import cos, sin\n",
    "\n",
    "print(\"Cosseno de π =\", cos(math.pi))\n",
    "print(\"Seno de π =\", sin(math.pi))"
   ]
  },
  {
   "cell_type": "markdown",
   "metadata": {},
   "source": [
    "```{tip}\n",
    "Note que `sin(math.pi)` não retorna zero, como esperado, mas sim um número muito pequeno. Isso acontece devido a erros de arredondamento em operações de ponto flutuante. Como números são armazenados em uma quantidade finita de memória, esses erros são inevitáveis. Muitas aplicações possuem métodos para tratar erros de ponto flutuante, mas não se preocupe muito com isso, na maioria dos casos esses erros são aceitáveis.\n",
    "```"
   ]
  },
  {
   "cell_type": "markdown",
   "metadata": {},
   "source": [
    "## Estruturas de Dados\n",
    "\n",
    "Estruturar seus dados de maneira correta é essencial para conseguir resolver alguns problemas usando programação de maneira eficiente. Dentre as estruturas de dados que o Python implementa, duas são essenciais: listas e dicionários.\n",
    "\n",
    "### Listas\n",
    "\n",
    "Lista ({class}`list`) é uma estrutura de dados simples, onde cada elemento tem uma posição e é possível adicionar e remover elementos da lista, além de iterar sobre a mesma. Em Python, para criar uma lista, basta listar seus itens dentro de colchetes e separados por vírgula como no exemplo abaixo:"
   ]
  },
  {
   "cell_type": "code",
   "execution_count": 180,
   "metadata": {},
   "outputs": [
    {
     "name": "stdout",
     "output_type": "stream",
     "text": [
      "lista_de_pares=[2, 4, 6, 8, 10]\n"
     ]
    }
   ],
   "source": [
    "lista_de_pares = [2, 4, 6, 8, 10]\n",
    "\n",
    "print(f\"{lista_de_pares=}\")"
   ]
  },
  {
   "cell_type": "code",
   "execution_count": 181,
   "metadata": {},
   "outputs": [
    {
     "name": "stdout",
     "output_type": "stream",
     "text": [
      "lista_de_animais=['cachorro', 'gato', 'elefante']\n"
     ]
    }
   ],
   "source": [
    "lista_de_animais = [\"cachorro\", \"gato\", \"elefante\"]\n",
    "\n",
    "print(f\"{lista_de_animais=}\")"
   ]
  },
  {
   "cell_type": "markdown",
   "metadata": {},
   "source": [
    "Além disso, existem outras formas de criar listas, como por exemplo, usando {class}`range` ou iterando sobre outra lista."
   ]
  },
  {
   "cell_type": "code",
   "execution_count": 182,
   "metadata": {},
   "outputs": [
    {
     "name": "stdout",
     "output_type": "stream",
     "text": [
      "lista_de_pares=[0, 2, 4, 6, 8, 10, 12, 14, 16, 18]\n"
     ]
    }
   ],
   "source": [
    "lista_de_pares = [2 * n for n in range(10)]\n",
    "\n",
    "print(f\"{lista_de_pares=}\")"
   ]
  },
  {
   "cell_type": "code",
   "execution_count": 183,
   "metadata": {},
   "outputs": [
    {
     "name": "stdout",
     "output_type": "stream",
     "text": [
      "tamanho_das_palavras=[8, 4, 8]\n"
     ]
    }
   ],
   "source": [
    "tamanho_das_palavras = [len(n) for n in lista_de_animais]\n",
    "\n",
    "print(f\"{tamanho_das_palavras=}\")"
   ]
  },
  {
   "cell_type": "markdown",
   "metadata": {},
   "source": [
    "As operações usuais de lista são:\n",
    "\n",
    "- Acessar elementos da lista pelo índice: Podemos acessar um elemento específico da lista indicando seu índice dentro de colchetes. Por exemplo, `lista_de_pares[0]` retorna o primeiro elemento da lista de pares. Observe que em python a listagem de elementos começa pelo índice 0, portanto para achar o n-ésimo elemento deve-se chamar `lista[n-1]`.\n",
    "- Adicionar elementos à lista: Podemos adicionar elementos à lista utilizando o método `append()` ou `insert()`.\n",
    "  - `append(n)`: insere n no final da lista\n",
    "  - `insert(pos, n)`: insere n na posição pos da lista\n",
    "- Remover elementos da lista: Podemos remover elementos da lista utilizando o método `remove()`, `pop()`.\n",
    "  - `pop(pos)`: remove e retorna o elemento na posição pos da lista, se pos não for especificado, remove o último elemento\n",
    "  - `remove(n)`: remove n da lista\n",
    "- Iterar sobre os elementos da lista: Podemos percorrer todos os elementos de uma lista utilizando um loop `for`.\n",
    "- Verificar se um elemento está na lista: Podemos verificar se um determinado elemento está presente em uma lista utilizando o operador `in`.\n",
    "  \n",
    "Abaixo segue exemplos de como usar essas operações."
   ]
  },
  {
   "cell_type": "code",
   "execution_count": 184,
   "metadata": {},
   "outputs": [
    {
     "name": "stdout",
     "output_type": "stream",
     "text": [
      "Terceiro elemento da lista de pares: 6\n"
     ]
    }
   ],
   "source": [
    "# Criando uma lista de números pares\n",
    "lista_de_pares = [2, 4, 6, 8, 10]\n",
    "\n",
    "# Acessando o terceiro elemento da lista\n",
    "# A indexação começa em 0, então o terceiro elemento é o elemento na posição 2.\n",
    "terceiro_elemento = lista_de_pares[2]\n",
    "print(\"Terceiro elemento da lista de pares:\", terceiro_elemento)"
   ]
  },
  {
   "cell_type": "code",
   "execution_count": 185,
   "metadata": {},
   "outputs": [
    {
     "name": "stdout",
     "output_type": "stream",
     "text": [
      "Lista de pares após adicionar o número 12: [2, 4, 6, 8, 10, 12]\n"
     ]
    }
   ],
   "source": [
    "# Adicionando um novo número par à lista\n",
    "lista_de_pares.append(12)\n",
    "print(\"Lista de pares após adicionar o número 12:\", lista_de_pares)"
   ]
  },
  {
   "cell_type": "code",
   "execution_count": 186,
   "metadata": {},
   "outputs": [
    {
     "name": "stdout",
     "output_type": "stream",
     "text": [
      "Elemento removido da lista de pares: 4\n",
      "Lista de pares após remover o terceiro elemento: [2, 6, 8, 10, 12]\n"
     ]
    }
   ],
   "source": [
    "# Removendo o segundo elemento da lista\n",
    "elemento_removido = lista_de_pares.pop(1)\n",
    "print(\"Elemento removido da lista de pares:\", elemento_removido)\n",
    "print(\"Lista de pares após remover o terceiro elemento:\", lista_de_pares)"
   ]
  },
  {
   "cell_type": "code",
   "execution_count": 187,
   "metadata": {},
   "outputs": [
    {
     "name": "stdout",
     "output_type": "stream",
     "text": [
      "Iterando sobre os elementos da lista de pares:\n",
      "2\n",
      "6\n",
      "8\n",
      "10\n",
      "12\n"
     ]
    }
   ],
   "source": [
    "# Iterando sobre os elementos da lista\n",
    "print(\"Iterando sobre os elementos da lista de pares:\")\n",
    "for numero in lista_de_pares:\n",
    "    print(numero)"
   ]
  },
  {
   "cell_type": "code",
   "execution_count": 188,
   "metadata": {},
   "outputs": [
    {
     "name": "stdout",
     "output_type": "stream",
     "text": [
      "O número 6 está presente na lista de pares.\n"
     ]
    }
   ],
   "source": [
    "# Verificando se o número 6 está presente na lista\n",
    "if 6 in lista_de_pares:\n",
    "    print(\"O número 6 está presente na lista de pares.\")\n",
    "else:\n",
    "    print(\"O número 6 não está presente na lista de pares.\")"
   ]
  },
  {
   "cell_type": "markdown",
   "metadata": {},
   "source": [
    "### Dicionários\n",
    "\n",
    "Dicionário ({class}`dict`) é uma estrutura de dados que mapeia uma chave a um valor, análogo a um dicionário de português que mapeia uma palavra para o seu significado. É possível construir um dicionário diretamente, como no exemplo abaixo:"
   ]
  },
  {
   "cell_type": "code",
   "execution_count": 189,
   "metadata": {},
   "outputs": [
    {
     "name": "stdout",
     "output_type": "stream",
     "text": [
      "Número de Alice é (23) 93901-1295 \n",
      "Número de Bob é (27) 97684-2155 \n",
      "Número de Carlos é (53) 93429-5110 \n",
      "Número de Daniel é (88) 93771-0112 \n"
     ]
    }
   ],
   "source": [
    "telefones = {\n",
    "    \"Alice\": \"(23) 93901-1295\",\n",
    "    \"Bob\": \"(27) 97684-2155\",\n",
    "    \"Carlos\": \"(53) 93429-5110\",\n",
    "    \"Daniel\": \"(88) 93771-0112\",\n",
    "}\n",
    "\n",
    "for nome in telefones:\n",
    "    print(\"Número de\", nome, \"é\", telefones[nome])"
   ]
  },
  {
   "cell_type": "markdown",
   "metadata": {},
   "source": [
    "\n",
    "As operações usuais em dicionários são:\n",
    "- Acessar elementos do dicionário pela chave: Podemos acessar o valor associado a uma chave específica utilizando a notação de colchetes, como `telefones[\"Alice\"]`.\n",
    "- Adicionar novos pares chave-valor ao dicionário: Podemos adicionar novos elementos ao dicionário utilizando a notação de colchetes e o operador de atribuição, como `telefones[\"Eva\"] = \"(99) 99999-9999\"`.\n",
    "- Remover elementos do dicionário: Podemos remover elementos do dicionário utilizando o comando `del`.\n",
    "- Iterar sobre os elementos do dicionário: Podemos percorrer todas as chaves de um dicionário utilizando um loop `for`.\n",
    "- Verificar se uma chave está presente no dicionário: Podemos verificar se uma determinada chave está presente no dicionário utilizando o operador `in`.\n",
    "- Ver quais são as chaves, valores ou pares de (chave,valor) do dicionário utilizando `telefones.keys()`, `telefones.values()` e `telefones.items()` respectivamente.\n",
    "\n",
    "Abaixo seguem mais exemplos de como usar um dicionario."
   ]
  },
  {
   "cell_type": "code",
   "execution_count": 2,
   "metadata": {},
   "outputs": [],
   "source": [
    "# Criando um dicionário de notas dos alunos\n",
    "notas_alunos = {\n",
    "    \"Alice\": 8.5,\n",
    "    \"Bob\": 7.2,\n",
    "    \"Carlos\": 9.0,\n",
    "    \"Daniel\": 6.8,\n",
    "}"
   ]
  },
  {
   "cell_type": "code",
   "execution_count": 191,
   "metadata": {},
   "outputs": [
    {
     "name": "stdout",
     "output_type": "stream",
     "text": [
      "Nota do aluno Carlos: 9.0\n"
     ]
    }
   ],
   "source": [
    "# Acessando a nota do aluno Carlos\n",
    "nota_carlos = notas_alunos[\"Carlos\"]\n",
    "print(\"Nota do aluno Carlos:\", nota_carlos)"
   ]
  },
  {
   "cell_type": "code",
   "execution_count": 192,
   "metadata": {},
   "outputs": [
    {
     "name": "stdout",
     "output_type": "stream",
     "text": [
      "Dicionário de notas após adicionar a nota da aluna Eva: {'Alice': 8.5, 'Bob': 7.2, 'Carlos': 9.0, 'Daniel': 6.8, 'Eva': 9.5}\n"
     ]
    }
   ],
   "source": [
    "# Adicionando uma nova entrada ao dicionário\n",
    "notas_alunos[\"Eva\"] = 9.5\n",
    "print(\"Dicionário de notas após adicionar a nota da aluna Eva:\", notas_alunos)"
   ]
  },
  {
   "cell_type": "code",
   "execution_count": 193,
   "metadata": {},
   "outputs": [
    {
     "name": "stdout",
     "output_type": "stream",
     "text": [
      "Dicionário de notas após remover a nota do aluno Bob: {'Alice': 8.5, 'Carlos': 9.0, 'Daniel': 6.8, 'Eva': 9.5}\n"
     ]
    }
   ],
   "source": [
    "# Removendo a entrada do aluno Bob do dicionário\n",
    "del notas_alunos[\"Bob\"]\n",
    "print(\"Dicionário de notas após remover a nota do aluno Bob:\", notas_alunos)"
   ]
  },
  {
   "cell_type": "code",
   "execution_count": 194,
   "metadata": {},
   "outputs": [
    {
     "name": "stdout",
     "output_type": "stream",
     "text": [
      "Iterando sobre os elementos do dicionário de notas:\n",
      "Nota de Alice: 8.5\n",
      "Nota de Carlos: 9.0\n",
      "Nota de Daniel: 6.8\n",
      "Nota de Eva: 9.5\n"
     ]
    }
   ],
   "source": [
    "# Iterando sobre os elementos do dicionário\n",
    "print(\"Iterando sobre os elementos do dicionário de notas:\")\n",
    "for aluno, nota in notas_alunos.items():\n",
    "    print(f\"Nota de {aluno}: {nota}\")"
   ]
  },
  {
   "cell_type": "code",
   "execution_count": 195,
   "metadata": {},
   "outputs": [
    {
     "name": "stdout",
     "output_type": "stream",
     "text": [
      "A nota do aluno Daniel está presente no dicionário de notas.\n"
     ]
    }
   ],
   "source": [
    "# Verificando se a nota do aluno Daniel está presente no dicionário\n",
    "if \"Daniel\" in notas_alunos:\n",
    "    print(\"A nota do aluno Daniel está presente no dicionário de notas.\")\n",
    "else:\n",
    "    print(\"A nota do aluno Daniel não está presente no dicionário de notas.\")"
   ]
  },
  {
   "cell_type": "code",
   "execution_count": null,
   "metadata": {},
   "outputs": [
    {
     "name": "stdout",
     "output_type": "stream",
     "text": [
      "Chaves do dicionário: ['Alice', 'Bob', 'Carlos', 'Daniel']\n",
      "Valores do dicionário: [8.5, 7.2, 9.0, 6.8]\n",
      "Pares de chave-valor do dicionário: [('Alice', 8.5), ('Bob', 7.2), ('Carlos', 9.0), ('Daniel', 6.8)]\n"
     ]
    }
   ],
   "source": [
    "# Vendo as chaves, valores e pares (chave,valor) do dicionário\n",
    "print(\n",
    "    \"Chaves do dicionário:\", list(notas_alunos.keys())\n",
    ")  # Transformamos em lista para deixar mais legivel a impressao na tela\n",
    "print(\"Valores do dicionário:\", list(notas_alunos.values()))\n",
    "print(\"Pares de chave-valor do dicionário:\", list(notas_alunos.items()))"
   ]
  },
  {
   "cell_type": "markdown",
   "metadata": {},
   "source": [
    "## Operações com Matrizes\n",
    "\n",
    "Como a linguagem da computação quântica é álgebra linear, é interessante sabermos como operar com matrizes no Python. Para isso, é recomendado usar a biblioteca NumPy. Como essa biblioteca não faz parte do Python, é necessário instalá-la. Execute a próxima célula que irá instalar o NumPy e importá-lo. \n",
    "\n",
    "Note que no importe nós renomeamos o módulo `numpy` para `np` no código."
   ]
  },
  {
   "cell_type": "code",
   "execution_count": 196,
   "metadata": {},
   "outputs": [],
   "source": [
    "!pip install -U pip -q\n",
    "!pip install numpy -q\n",
    "\n",
    "import numpy as np"
   ]
  },
  {
   "cell_type": "markdown",
   "metadata": {},
   "source": [
    "```{note}\n",
    "Em outras páginas que usam o NumPy, ou outra biblioteca externa como Ket, as bibliotecas serão instaladas automaticamente ao iniciar o <i class=\"fas fa-rocket\"></i> Live Code.\n",
    "```"
   ]
  },
  {
   "cell_type": "markdown",
   "metadata": {},
   "source": [
    "Para trabalhar com espaços vetoriais, precisamos de 3 elementos: escalares, vetores e matrizes.\n",
    "- Um **escalar** pode ser tanto um número inteiro (`int`), número real (`float`), ou complexo (`complex`).\n",
    "- Para criar um **vetor**, é usada uma lista de escalares.\n",
    "- Para criar uma **matriz**, é usada uma lista de lista de escalares.\n",
    "\n",
    "O exemplo abaixo ilustra como instanciar cada tipo de elemento."
   ]
  },
  {
   "cell_type": "code",
   "execution_count": 197,
   "metadata": {},
   "outputs": [],
   "source": [
    "escalar = 7.8\n",
    "vetor = np.array([2, 8])\n",
    "matriz = np.array([[4, 2], [5, 1]])"
   ]
  },
  {
   "cell_type": "markdown",
   "metadata": {},
   "source": [
    "Todas as operações usuais estão presentes, como soma de vetores/matriz, multiplicação por escalar e multiplicação de matriz-matriz e matriz-vetor.\n",
    "Além disso, operações como soma e multiplicação elemento a elemento também estão definidas.\n",
    "\n",
    "No exemplo abaixo, seguem exemplos de operações permitidas."
   ]
  },
  {
   "cell_type": "code",
   "execution_count": 198,
   "metadata": {},
   "outputs": [
    {
     "name": "stdout",
     "output_type": "stream",
     "text": [
      "Multiplicação vetor-escalar\n",
      "[15.6 62.4]\n"
     ]
    }
   ],
   "source": [
    "print(\"Multiplicação vetor-escalar\")\n",
    "print(vetor * escalar)"
   ]
  },
  {
   "cell_type": "code",
   "execution_count": 199,
   "metadata": {},
   "outputs": [
    {
     "name": "stdout",
     "output_type": "stream",
     "text": [
      "Divisão vetor-escalar\n",
      "[0.25641026 1.02564103]\n"
     ]
    }
   ],
   "source": [
    "print(\"Divisão vetor-escalar\")\n",
    "print(vetor / escalar)"
   ]
  },
  {
   "cell_type": "code",
   "execution_count": 200,
   "metadata": {},
   "outputs": [
    {
     "name": "stdout",
     "output_type": "stream",
     "text": [
      "Multiplicação matrix-escalar\n",
      "[[31.2 15.6]\n",
      " [39.   7.8]]\n"
     ]
    }
   ],
   "source": [
    "print(\"Multiplicação matrix-escalar\")\n",
    "print(matriz * escalar)"
   ]
  },
  {
   "cell_type": "code",
   "execution_count": 201,
   "metadata": {},
   "outputs": [
    {
     "name": "stdout",
     "output_type": "stream",
     "text": [
      "Divisão matrix-escalar\n",
      "[[0.51282051 0.25641026]\n",
      " [0.64102564 0.12820513]]\n"
     ]
    }
   ],
   "source": [
    "print(\"Divisão matrix-escalar\")\n",
    "print(matriz / escalar)"
   ]
  },
  {
   "cell_type": "code",
   "execution_count": 202,
   "metadata": {},
   "outputs": [
    {
     "name": "stdout",
     "output_type": "stream",
     "text": [
      "Soma vetor-vetor\n",
      "[ 4 16]\n"
     ]
    }
   ],
   "source": [
    "print(\"Soma vetor-vetor\")\n",
    "print(vetor + vetor)"
   ]
  },
  {
   "cell_type": "markdown",
   "metadata": {},
   "source": [
    "Note que para a multiplicação matricial usual, é usado o operador `@`, sendo o operador `*` usado para multiplicação elemento a elemento."
   ]
  },
  {
   "cell_type": "code",
   "execution_count": 203,
   "metadata": {},
   "outputs": [
    {
     "name": "stdout",
     "output_type": "stream",
     "text": [
      "Multiplicação matrix-vetor\n",
      "[24 18]\n"
     ]
    }
   ],
   "source": [
    "print(\"Multiplicação matrix-vetor\")\n",
    "print(matriz @ vetor)"
   ]
  },
  {
   "cell_type": "code",
   "execution_count": 204,
   "metadata": {},
   "outputs": [
    {
     "name": "stdout",
     "output_type": "stream",
     "text": [
      "Multiplicação matrix-matrix\n",
      "[[26 10]\n",
      " [25 11]]\n"
     ]
    }
   ],
   "source": [
    "print(\"Multiplicação matrix-matrix\")\n",
    "print(matriz @ matriz)"
   ]
  },
  {
   "cell_type": "markdown",
   "metadata": {},
   "source": [
    "### Vetor Linha e Vetor Coluna\n",
    "\n",
    "Quando um vetor é definido como `np.array([...])`, ele pode operar tanto como um vetor linha quanto como um vetor coluna. Esse é o comportamento esperado para um vetor de uma dimensão, no entanto, em alguns casos, como na computação quântica, diferenciar entre vetor linha e coluna é importante. Vetores linha e coluna possuem duas dimensões como matrizes e podem ser criados como no exemplo a seguir."
   ]
  },
  {
   "cell_type": "code",
   "execution_count": 205,
   "metadata": {},
   "outputs": [
    {
     "name": "stdout",
     "output_type": "stream",
     "text": [
      "[[1 2 3 4]]\n"
     ]
    }
   ],
   "source": [
    "vetor_linha = np.array([[1, 2, 3, 4]])\n",
    "print(vetor_linha)"
   ]
  },
  {
   "cell_type": "code",
   "execution_count": 206,
   "metadata": {},
   "outputs": [
    {
     "name": "stdout",
     "output_type": "stream",
     "text": [
      "[[1]\n",
      " [2]\n",
      " [3]\n",
      " [4]]\n"
     ]
    }
   ],
   "source": [
    "vetor_coluna = np.array([[1], [2], [3], [4]])\n",
    "print(vetor_coluna)"
   ]
  },
  {
   "cell_type": "markdown",
   "metadata": {},
   "source": [
    "Outra maneira mais simples de criar um vetor coluna é instanciar um vetor linha e transpô-lo, como no exemplo abaixo."
   ]
  },
  {
   "cell_type": "code",
   "execution_count": 207,
   "metadata": {},
   "outputs": [
    {
     "name": "stdout",
     "output_type": "stream",
     "text": [
      "[[1]\n",
      " [2]\n",
      " [3]\n",
      " [4]]\n"
     ]
    }
   ],
   "source": [
    "vetor_coluna2 = np.array([[1, 2, 3, 4]]).T\n",
    "print(vetor_coluna2)"
   ]
  },
  {
   "cell_type": "markdown",
   "metadata": {},
   "source": [
    "## Conclusão\n",
    "\n",
    "O objetivo deste tutorial é proporcionar uma breve introdução ao Python e permitir que alunos sem familiaridade com programação possam iniciar sua introdução ao tema.\n",
    "\n",
    "Este material está longe de ser completo e não tem a intenção de ser. Recomendamos aos alunos que busquem materiais externos para complementar seus conhecimentos. Além disso, uma boa maneira de aprender é modificar e executar o código apresentado no site. Portanto, ative o <i class=\"fas fa-rocket\"></i> Live Code e teste!"
   ]
  }
 ],
 "metadata": {
  "kernelspec": {
   "display_name": "Python 3",
   "language": "python",
   "name": "python3"
  },
  "language_info": {
   "codemirror_mode": {
    "name": "ipython",
    "version": 3
   },
   "file_extension": ".py",
   "mimetype": "text/x-python",
   "name": "python",
   "nbconvert_exporter": "python",
   "pygments_lexer": "ipython3",
   "version": "3.13.0"
  }
 },
 "nbformat": 4,
 "nbformat_minor": 2
}

{
 "cells": [
  {
   "cell_type": "code",
   "execution_count": 20,
   "metadata": {
    "tags": [
     "hide-input",
     "thebe-init",
     "remove-output"
    ]
   },
   "outputs": [],
   "source": [
    "!pip install -U -q pip\n",
    "!pip install -U -q 'ket-lang[full]>=0.8.2,<0.9'"
   ]
  },
  {
   "cell_type": "markdown",
   "metadata": {},
   "source": [
    "# Programacão Quântica com Ket\n",
    "\n",
    "Neste capítulo, exploraremos a plataforma de programação quântica Ket, um projeto de código aberto que permite desenvolver e testar aplicações quânticas.\n",
    "\n",
    "## Introdução\n",
    "\n",
    "### Instalação\n",
    "\n",
    "Se você estiver executando esta página com <i class=\"fas fa-rocket\"></i> **Live Code**, o Ket será instalado automaticamente quando o ambiente de execução for carregado. Caso esteja utilizando um Notebook <i class=\"fas fa-download\"></i> baixado desta página ou acessando via <i class=\"fas fa-rocket\"></i> **Binder/Colab**, os comandos de instalação estarão na primeira célula do notebook.\n",
    "\n",
    "Para integrar o Ket em um projeto externo, instale-o via PyPI utilizando o seguinte comando:\n",
    "\n",
    "```bash\n",
    "pip install -U pip\n",
    "pip install ket-lang\n",
    "```\n",
    "\n",
    "### Documentação\n",
    "\n",
    "A documentação completa da API do Ket está disponível em [quantumket.org](https://quantumket.org). Caso tenha dúvidas sobre alguma função ou queira conhecer as funcionalidades disponíveis, recomendamos a consulta à documentação. Além disso, todas as classes, métodos e funções referenciados nesta página possuem links diretos para suas respectivas documentações. Sempre que encontrar um novo elemento, sugerimos a leitura do material correspondente para uma compreensão mais detalhada.\n",
    "\n",
    "### Importando o Ket\n",
    "\n",
    "A célula abaixo importa todas as funcionalidades do Ket, permitindo o acesso direto a todas as suas classes e funções:\n"
   ]
  },
  {
   "cell_type": "code",
   "execution_count": 21,
   "metadata": {
    "tags": [
     "thebe-init"
    ]
   },
   "outputs": [],
   "source": [
    "from ket import *\n",
    "from ket import lib as qulib"
   ]
  },
  {
   "cell_type": "markdown",
   "metadata": {},
   "source": [
    "## Processo Quântico  \n",
    "\n",
    "Por trás de toda execução quântica no Ket, há um processo quântico, uma instância da classe {class}`~ket.base.Process`. Ele é responsável por gerenciar desde a alocação dos qubits até a compilação do código quântico.  \n",
    "\n",
    "Para iniciar uma execução quântica, é necessário instanciar um {class}`~ket.base.Process`. Existem diversas configurações que podem ser ajustadas, mas um bom ponto de partida é utilizar o construtor padrão. Se nenhum argumento for passado, o simulador **KBW Sparse** será utilizado com **32 qubits**, e a **execução dinâmica** (*live execution*) será ativada por padrão.  \n",
    "\n",
    "Exploraremos o significado de cada parâmetro mais adiante neste capítulo.  \n",
    "\n",
    "Abaixo, temos a criação de um processo:"
   ]
  },
  {
   "cell_type": "code",
   "execution_count": 22,
   "metadata": {},
   "outputs": [],
   "source": [
    "processo = Process()"
   ]
  },
  {
   "cell_type": "markdown",
   "metadata": {},
   "source": [
    "### Alocação de Qubits  \n",
    "\n",
    "Na computação quântica, a unidade básica de computação é o **qubit**. No Ket, o elemento fundamental da programação é a classe {class}`~ket.base.Quant`, que nada mais é do que uma lista de qubits. Toda operação quântica, seja a aplicação de portas lógicas ou medições, é realizada sobre um objeto do tipo {class}`~ket.base.Quant`.  \n",
    "\n",
    "Em breve, veremos como aplicar essas operações nos qubits, mas primeiro, vamos entender como instanciá-los.  \n",
    "\n",
    "No Ket, um qubit está sempre associado a um {class}`~ket.base.Process`. Para acessar qubits, é necessário fazer uma chamada de alocação para o processo quântico, utilizando o método {meth}`~ket.base.Process.alloc`. O resultado dessa alocação é uma lista de qubits encapsulada em um objeto {class}`~ket.base.Quant`. Mesmo que apenas um qubit seja alocado, ele ainda estará dentro de um {class}`~ket.base.Quant`.  \n",
    "\n",
    "Em muitos casos, um processo quântico é criado apenas para alocar qubits. No entanto, ele também armazena **metadados** ({meth}`~ket.base.Process.get_metadata`), que podem ser úteis para experimentos e análises.  \n",
    "\n",
    "```{note}  \n",
    "Dentro de um {class}`~ket.base.Quant`, os qubits são referências opacas. Isso significa que eles não armazenam diretamente a informação quântica, mas sim uma referência a essa informação dentro do computador quântico. Além disso, os qubits expostos ao programador são **qubits lógicos**, que, após o processo de compilação, serão mapeados para **qubits físicos** no hardware quântico.  \n",
    "```  \n",
    "\n",
    "A classe {class}`~ket.base.Quant` funciona como uma lista de qubits, e suas instâncias suportam as operações padrão do Python para listas. Por exemplo, é possível:  \n",
    "- **Indexar** qubits usando colchetes `[]`.  \n",
    "- **Concatenar** dois objetos {class}`~ket.base.Quant` utilizando o operador de adição `+`.  \n",
    "\n",
    "Abaixo, temos exemplos de alocação de qubits:"
   ]
  },
  {
   "cell_type": "code",
   "execution_count": 23,
   "metadata": {},
   "outputs": [
    {
     "name": "stdout",
     "output_type": "stream",
     "text": [
      "Qubit alocado: <Ket 'Quant' [0] pid=0x7f0aab6bf670>\n",
      "Par de qubits alocados: <Ket 'Quant' [1, 2] pid=0x7f0aab6bf670>\n",
      "Qubits concatenados: <Ket 'Quant' [0, 1, 2] pid=0x7f0aab6bf670>\n"
     ]
    }
   ],
   "source": [
    "# Instanciando um novo processo quântico\n",
    "processo = Process()\n",
    "\n",
    "# Alocação de um único qubit\n",
    "qubits = processo.alloc()\n",
    "\n",
    "# Alocação de dois qubits\n",
    "par_qubit = processo.alloc(2)\n",
    "\n",
    "# Acessando os qubits individualmente\n",
    "primeiro_qubit = par_qubit[0]\n",
    "segundo_qubit = par_qubit[1]\n",
    "\n",
    "# Concatenando os qubits\n",
    "qubits_concatenados = qubits + primeiro_qubit + segundo_qubit\n",
    "\n",
    "# Mostrando os qubits alocados e concatenados\n",
    "print(\"Qubit alocado:\", qubits)\n",
    "print(\"Par de qubits alocados:\", par_qubit)\n",
    "print(\"Qubits concatenados:\", qubits_concatenados)"
   ]
  },
  {
   "cell_type": "markdown",
   "metadata": {},
   "source": [
    "Ao imprimir na tela uma variável do tipo {class}`~ket.base.Quant`, podemos observar uma lista com os índices dos qubits que esse objeto referencia.  \n",
    "\n",
    "É importante notar que, ao indexarmos elementos em um {class}`~ket.base.Quant`, mesmo que estejamos acessando apenas um qubit, o retorno sempre será outro objeto do tipo {class}`~ket.base.Quant`. No Ket, os qubits estão sempre encapsulados em instâncias dessa classe.  "
   ]
  },
  {
   "cell_type": "markdown",
   "metadata": {},
   "source": [
    "## Portas Lógicas Quânticas  \n",
    "\n",
    "O Ket oferece um conjunto universal de portas lógicas quânticas, permitindo a descrição de qualquer computação quântica. Todas as portas implementadas no Ket estão disponíveis no módulo {mod}`~ket.gates`. Na documentação, é possível visualizar tanto a representação matricial das portas quanto seus efeitos.  \n",
    "\n",
    "### Portas de 1 Qubit  \n",
    "\n",
    "As portas quânticas são aplicadas diretamente a qubits encapsulados em objetos {class}`~ket.base.Quant`. No Ket, os qubits são implementados como **referências opacas**, garantindo que a aplicação de portas quânticas não tenha efeitos colaterais no estado clássico do sistema, afetando apenas o **estado quântico**.  \n",
    "\n",
    "As portas implementadas no Ket seguem a convenção de nomes em letras maiúsculas. Por exemplo, as **portas de Pauli** incluem {func}`~ket.gates.X`, {func}`~ket.gates.Y` e {func}`~ket.gates.Z`, enquanto a **porta de Hadamard** é representada por {func}`~ket.gates.H`.  \n",
    "\n",
    "#### Portas de Pauli e de Hadamard  \n",
    "\n",
    "As **portas de Pauli** e a **porta de Hadamard** são fundamentais para muitos algoritmos quânticos. As portas de Pauli realizam rotações de **180º** nos eixos **X, Y e Z** da [esfera de Bloch](esfera-de-bloch). No entanto, essas portas, por si só, não são suficientes para gerar **superposição**. Para isso, utilizamos a **porta de Hadamard**, que transforma um qubit do estado $\\ket{0}$ ou $\\ket{1}$ para o estado de superposição:  \n",
    "\n",
    "$$\n",
    "\\frac{1}{\\sqrt{2}}(\\ket{0} \\pm \\ket{1})\n",
    "$$  \n",
    "\n",
    "```{tip}  \n",
    "Para visualizar o efeito das portas, podemos utilizar o comando:  \n",
    "`dump(<qubits>).sphere()`  \n",
    "```  \n",
    "\n",
    "A seguir, apresentamos um exemplo que demonstra a aplicação das **portas de Pauli** e da **porta de Hadamard**. Recomendamos que você execute este código e experimente modificar a aplicação das portas para entender melhor seus efeitos:  "
   ]
  },
  {
   "cell_type": "code",
   "execution_count": 24,
   "metadata": {},
   "outputs": [
    {
     "data": {
      "application/vnd.plotly.v1+json": {
       "config": {
        "plotlyServerURL": "https://plot.ly"
       },
       "data": [
        {
         "name": "Bloch Sphere",
         "opacity": 0.02,
         "showscale": false,
         "type": "surface",
         "x": {
          "bdata": "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",
          "dtype": "f8",
          "shape": "40, 20"
         },
         "y": {
          "bdata": "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",
          "dtype": "f8",
          "shape": "40, 20"
         },
         "z": {
          "bdata": "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",
          "dtype": "f8",
          "shape": "40, 20"
         }
        },
        {
         "line": {
          "color": "gray",
          "width": 3
         },
         "mode": "lines",
         "name": "Equator",
         "opacity": 0.1,
         "type": "scatter3d",
         "x": {
          "bdata": "AAAAAAAA8D+VSynBge/vP2j6BgUYvu8/Jek3u/Vr7z8jfxaOb/nuP/FJcov7Zu4/XLHeqjC17T9+NRQyxuTsP1+hBPiS9us/uvBkh4zr6j9WMpEhxsTpPzlQz6Jvg+g/tDkVSdQo5z+WUJVeWbblP0ATccl8LeQ/A6sNgtOP4j9cLKDxB9/gP1a1P3WwOd4/thLH2SiW2j+KU4hOOdfWP1tDY1G+ANM/jFrgSlktzj+Mcwt+GjrGPyLsuGvkX7w/cyCwKKhcqD/N+ijPKj+QvwzJ6KS5SbS/3kQPZF83wr9P3qvaGjfKv5OAwi7oDdG/PSGBd67u1L83i/Tn4LnYv4vJmF6Wa9y/AgAAAAAA4L/P5tyRtrnhv860DJEnYeO/hlh3f5705L/bPrV2e3Lmv11Sx9Q02ee/JuDa0Vgn6b9dHHf9jlvqv4pZi6GZdOu/wfLvCVdx7L/ZTwivwlDtvxstUkL2Ee6/V1DNmyq07r9D8kaHuDbvvwQ9tXAZme+/XjTx7ufa778HB0As4PvvvwcHQCzg+++/XjTx7ufa778EPbVwGZnvv0PyRoe4Nu+/V1DNmyq07r8cLVJC9hHuv9lPCK/CUO2/wvLvCVdx7L+JWYuhmXTrv14cd/2OW+q/JeDa0Vgn6b9eUsfUNNnnv9o+tXZ7cua/iFh3f5705L/MtAyRJ2Hjv9Hm3JG2ueG/+f//////37+IyZhelmvcvzeL9Ofgudi/QSGBd67u1L+MgMIu6A3Rv0jeq9oaN8q/3kQPZF83wr8eyeikuUm0v1T6KM8qP5C/kCCwKKhcqD8R7Lhr5F+8P3xzC34aOsY/k1rgSlktzj9bQ2NRvgDTP4ZTiE4519Y/vRLH2SiW2j9ZtT91sDneP1wsoPEH3+A/AasNgtOP4j9DE3HJfC3kP5dQlV5ZtuU/tDkVSdQo5z83UM+ib4PoP1cykSHGxOk/uvBkh4zr6j9foQT4kvbrP301FDLG5Ow/XbHeqjC17T/xSXKL+2buPyN/Fo5v+e4/Juk3u/Vr7z9o+gYFGL7vP5VLKcGB7+8/AAAAAAAA8D8=",
          "dtype": "f8"
         },
         "y": {
          "bdata": "AAAAAAAAAAADhrXMjDywP/CDAnguNMA/kayggGI5yD+aiNkBzxLQP9ofIiFb+NM/+5MNU1HJ1z+CQNqEwoHbPxlNPurYHd8/C1i7+O1M4T9GhZoMGvniPxwWPFK3keQ/ABg/lCAV5j+GGZN4xoHnP4hAIRwx1ug/lkFFlgER6j93zoZi8zDrPzKcHq/dNOw/EyzujrQb7T/B8a4NiuTtP/0jPCWPju4/3176khQZ7z8XHIGMi4PvPzTGy1KGze8/g6xao7j27z/vOc8G+P7vP2Zmsvw75u8/70I4BJ6s7z+/l/eBWVLvPwOssILL1+4/xVNiW3I97j+TIxAn7YPtP1EHwCL7q+w/qUxY6Hq26z+RVimJaaTqP5aCD4nhduk/oSg6uxkv6D+158MBZM7mP9OHZvErVuU/8XixWvXH4z8mRkW6WiXiP2ITsJELcOA/8qg+VZVT3T/agWKM2KjZP/gLinSo49U/v412/ecH0j/lKaSyIjPMP+bENsZjOcQ/3FNHxZdVuD+s23zJpD6gP8nbfMmkPqC/6lNHxZdVuL/txDbGYznEv9wppLIiM8y/wo12/ecH0r/0C4p0qOPVv92BYozYqNm/7qg+VZVT3b9jE7CRC3DgvyRGRbpaJeK/83ixWvXH47/Rh2bxK1blv7fnwwFkzua/oCg6uxkv6L+Xgg+J4Xbpv5BWKYlppOq/rExY6Hq2679SB8Ai+6vsv5MjECftg+2/xFNiW3I97r8ErLCCy9fuv7+X94FZUu+/70I4BJ6s779lZrL8O+bvv+85zwb4/u+/g6xao7j27780xstShs3vvxgcgYyLg++/3176khQZ77/9Izwlj47uv8Lxrg2K5O2/EizujrQb7b8xnB6v3TTsv3fOhmLzMOu/l0FFlgER6r+GQCEcMdbov4UZk3jGgee/ABg/lCAV5r8fFjxSt5Hkv0SFmgwa+eK/Cli7+O1M4b8bTT7q2B3fv4dA2oTCgdu/9ZMNU1HJ17/ZHyIhW/jTv52I2QHPEtC/gKyggGI5yL/ogwJ4LjTAvwSGtcyMPLC/B1wUMyamsbw=",
          "dtype": "f8"
         },
         "z": {
          "bdata": "AAAAAAAAAAAAAAAAAAAAAAAAAAAAAAAAAAAAAAAAAAAAAAAAAAAAAAAAAAAAAAAAAAAAAAAAAAAAAAAAAAAAAAAAAAAAAAAAAAAAAAAAAAAAAAAAAAAAAAAAAAAAAAAAAAAAAAAAAAAAAAAAAAAAAAAAAAAAAAAAAAAAAAAAAAAAAAAAAAAAAAAAAAAAAAAAAAAAAAAAAAAAAAAAAAAAAAAAAAAAAAAAAAAAAAAAAAAAAAAAAAAAAAAAAAAAAAAAAAAAAAAAAAAAAAAAAAAAAAAAAAAAAAAAAAAAAAAAAAAAAAAAAAAAAAAAAAAAAAAAAAAAAAAAAAAAAAAAAAAAAAAAAAAAAAAAAAAAAAAAAAAAAAAAAAAAAAAAAAAAAAAAAAAAAAAAAAAAAAAAAAAAAAAAAAAAAAAAAAAAAAAAAAAAAAAAAAAAAAAAAAAAAAAAAAAAAAAAAAAAAAAAAAAAAAAAAAAAAAAAAAAAAAAAAAAAAAAAAAAAAAAAAAAAAAAAAAAAAAAAAAAAAAAAAAAAAAAAAAAAAAAAAAAAAAAAAAAAAAAAAAAAAAAAAAAAAAAAAAAAAAAAAAAAAAAAAAAAAAAAAAAAAAAAAAAAAAAAAAAAAAAAAAAAAAAAAAAAAAAAAAAAAAAAAAAAAAAAAAAAAAAAAAAAAAAAAAAAAAAAAAAAAAAAAAAAAAAAAAAAAAAAAAAAAAAAAAAAAAAAAAAAAAAAAAAAAAAAAAAAAAAAAAAAAAAAAAAAAAAAAAAAAAAAAAAAAAAAAAAAAAAAAAAAAAAAAAAAAAAAAAAAAAAAAAAAAAAAAAAAAAAAAAAAAAAAAAAAAAAAAAAAAAAAAAAAAAAAAAAAAAAAAAAAAAAAAAAAAAAAAAAAAAAAAAAAAAAAAAAAAAAAAAAAAAAAAAAAAAAAAAAAAAAAAAAAAAAAAAAAAAAAAAAAAAAAAAAAAAAAAAAAAAAAAAAAAAAAAAAAAAAAAAAAAAAAAAAAAAAAAAAAAAAAAAAAAAAAAAAAAAAAAAAAAAAAAAAAAAAAAAAAAAAAAAAAAAAAAAAAAAAAAAA=",
          "dtype": "f8"
         }
        },
        {
         "line": {
          "color": "gray",
          "width": 3
         },
         "mode": "lines",
         "name": "x line",
         "opacity": 0.1,
         "type": "scatter3d",
         "x": [
          1,
          -1
         ],
         "y": [
          0,
          0
         ],
         "z": [
          0,
          0
         ]
        },
        {
         "line": {
          "color": "gray",
          "width": 3
         },
         "mode": "lines",
         "name": "y line",
         "opacity": 0.1,
         "type": "scatter3d",
         "x": [
          0,
          0
         ],
         "y": [
          1,
          -1
         ],
         "z": [
          0,
          0
         ]
        },
        {
         "line": {
          "color": "gray",
          "width": 3
         },
         "mode": "lines",
         "name": "z line",
         "opacity": 0.1,
         "type": "scatter3d",
         "x": [
          0,
          0
         ],
         "y": [
          0,
          0
         ],
         "z": [
          1,
          -1
         ]
        },
        {
         "mode": "text",
         "name": "|0⟩",
         "text": [
          "|0⟩"
         ],
         "textposition": "middle center",
         "type": "scatter3d",
         "x": [
          0
         ],
         "y": [
          0
         ],
         "z": [
          1
         ]
        },
        {
         "mode": "text",
         "name": "Z",
         "text": [
          "Z"
         ],
         "textposition": "middle center",
         "type": "scatter3d",
         "x": [
          0
         ],
         "y": [
          0
         ],
         "z": [
          0.8
         ]
        },
        {
         "mode": "text",
         "name": "|1⟩",
         "text": [
          "|1⟩"
         ],
         "textposition": "middle center",
         "type": "scatter3d",
         "x": [
          0
         ],
         "y": [
          0
         ],
         "z": [
          -1
         ]
        },
        {
         "mode": "text",
         "name": "|+⟩",
         "text": [
          "|+⟩"
         ],
         "textposition": "middle center",
         "type": "scatter3d",
         "x": [
          1
         ],
         "y": [
          0
         ],
         "z": [
          0
         ]
        },
        {
         "mode": "text",
         "name": "X",
         "text": [
          "X"
         ],
         "textposition": "middle center",
         "type": "scatter3d",
         "x": [
          0.8
         ],
         "y": [
          0
         ],
         "z": [
          0
         ]
        },
        {
         "mode": "text",
         "name": "|‒⟩",
         "text": [
          "|‒⟩"
         ],
         "textposition": "middle center",
         "type": "scatter3d",
         "x": [
          -1
         ],
         "y": [
          0
         ],
         "z": [
          0
         ]
        },
        {
         "mode": "text",
         "name": "|+i⟩",
         "text": [
          "|+i⟩"
         ],
         "textposition": "middle center",
         "type": "scatter3d",
         "x": [
          0
         ],
         "y": [
          1
         ],
         "z": [
          0
         ]
        },
        {
         "mode": "text",
         "name": "Y",
         "text": [
          "Y"
         ],
         "textposition": "middle center",
         "type": "scatter3d",
         "x": [
          0
         ],
         "y": [
          0.8
         ],
         "z": [
          0
         ]
        },
        {
         "mode": "text",
         "name": "|-i⟩",
         "text": [
          "|-i⟩"
         ],
         "textposition": "middle center",
         "type": "scatter3d",
         "x": [
          0
         ],
         "y": [
          -1
         ],
         "z": [
          0
         ]
        },
        {
         "marker": {
          "color": "red",
          "size": 5
         },
         "mode": "markers",
         "name": "qubit",
         "type": "scatter3d",
         "x": [
          1.0000000000000002
         ],
         "y": [
          0
         ],
         "z": [
          0
         ]
        },
        {
         "line": {
          "color": "red",
          "width": 3
         },
         "mode": "lines",
         "name": "qubit line",
         "opacity": 0.5,
         "type": "scatter3d",
         "x": [
          0,
          1.0000000000000002
         ],
         "y": [
          0,
          0
         ],
         "z": [
          0,
          0
         ]
        }
       ],
       "layout": {
        "scene": {
         "aspectmode": "cube",
         "camera": {
          "eye": {
           "x": 0.8,
           "y": 0.8,
           "z": 0.8
          }
         },
         "xaxis": {
          "range": [
           -1,
           1
          ],
          "showbackground": false,
          "showgrid": false,
          "visible": false
         },
         "yaxis": {
          "range": [
           -1,
           1
          ],
          "showbackground": false,
          "showgrid": false,
          "visible": false
         },
         "zaxis": {
          "range": [
           -1,
           1
          ],
          "showbackground": false,
          "showgrid": false,
          "visible": false
         }
        },
        "showlegend": false,
        "template": {
         "data": {
          "bar": [
           {
            "error_x": {
             "color": "#2a3f5f"
            },
            "error_y": {
             "color": "#2a3f5f"
            },
            "marker": {
             "line": {
              "color": "#E5ECF6",
              "width": 0.5
             },
             "pattern": {
              "fillmode": "overlay",
              "size": 10,
              "solidity": 0.2
             }
            },
            "type": "bar"
           }
          ],
          "barpolar": [
           {
            "marker": {
             "line": {
              "color": "#E5ECF6",
              "width": 0.5
             },
             "pattern": {
              "fillmode": "overlay",
              "size": 10,
              "solidity": 0.2
             }
            },
            "type": "barpolar"
           }
          ],
          "carpet": [
           {
            "aaxis": {
             "endlinecolor": "#2a3f5f",
             "gridcolor": "white",
             "linecolor": "white",
             "minorgridcolor": "white",
             "startlinecolor": "#2a3f5f"
            },
            "baxis": {
             "endlinecolor": "#2a3f5f",
             "gridcolor": "white",
             "linecolor": "white",
             "minorgridcolor": "white",
             "startlinecolor": "#2a3f5f"
            },
            "type": "carpet"
           }
          ],
          "choropleth": [
           {
            "colorbar": {
             "outlinewidth": 0,
             "ticks": ""
            },
            "type": "choropleth"
           }
          ],
          "contour": [
           {
            "colorbar": {
             "outlinewidth": 0,
             "ticks": ""
            },
            "colorscale": [
             [
              0,
              "#0d0887"
             ],
             [
              0.1111111111111111,
              "#46039f"
             ],
             [
              0.2222222222222222,
              "#7201a8"
             ],
             [
              0.3333333333333333,
              "#9c179e"
             ],
             [
              0.4444444444444444,
              "#bd3786"
             ],
             [
              0.5555555555555556,
              "#d8576b"
             ],
             [
              0.6666666666666666,
              "#ed7953"
             ],
             [
              0.7777777777777778,
              "#fb9f3a"
             ],
             [
              0.8888888888888888,
              "#fdca26"
             ],
             [
              1,
              "#f0f921"
             ]
            ],
            "type": "contour"
           }
          ],
          "contourcarpet": [
           {
            "colorbar": {
             "outlinewidth": 0,
             "ticks": ""
            },
            "type": "contourcarpet"
           }
          ],
          "heatmap": [
           {
            "colorbar": {
             "outlinewidth": 0,
             "ticks": ""
            },
            "colorscale": [
             [
              0,
              "#0d0887"
             ],
             [
              0.1111111111111111,
              "#46039f"
             ],
             [
              0.2222222222222222,
              "#7201a8"
             ],
             [
              0.3333333333333333,
              "#9c179e"
             ],
             [
              0.4444444444444444,
              "#bd3786"
             ],
             [
              0.5555555555555556,
              "#d8576b"
             ],
             [
              0.6666666666666666,
              "#ed7953"
             ],
             [
              0.7777777777777778,
              "#fb9f3a"
             ],
             [
              0.8888888888888888,
              "#fdca26"
             ],
             [
              1,
              "#f0f921"
             ]
            ],
            "type": "heatmap"
           }
          ],
          "histogram": [
           {
            "marker": {
             "pattern": {
              "fillmode": "overlay",
              "size": 10,
              "solidity": 0.2
             }
            },
            "type": "histogram"
           }
          ],
          "histogram2d": [
           {
            "colorbar": {
             "outlinewidth": 0,
             "ticks": ""
            },
            "colorscale": [
             [
              0,
              "#0d0887"
             ],
             [
              0.1111111111111111,
              "#46039f"
             ],
             [
              0.2222222222222222,
              "#7201a8"
             ],
             [
              0.3333333333333333,
              "#9c179e"
             ],
             [
              0.4444444444444444,
              "#bd3786"
             ],
             [
              0.5555555555555556,
              "#d8576b"
             ],
             [
              0.6666666666666666,
              "#ed7953"
             ],
             [
              0.7777777777777778,
              "#fb9f3a"
             ],
             [
              0.8888888888888888,
              "#fdca26"
             ],
             [
              1,
              "#f0f921"
             ]
            ],
            "type": "histogram2d"
           }
          ],
          "histogram2dcontour": [
           {
            "colorbar": {
             "outlinewidth": 0,
             "ticks": ""
            },
            "colorscale": [
             [
              0,
              "#0d0887"
             ],
             [
              0.1111111111111111,
              "#46039f"
             ],
             [
              0.2222222222222222,
              "#7201a8"
             ],
             [
              0.3333333333333333,
              "#9c179e"
             ],
             [
              0.4444444444444444,
              "#bd3786"
             ],
             [
              0.5555555555555556,
              "#d8576b"
             ],
             [
              0.6666666666666666,
              "#ed7953"
             ],
             [
              0.7777777777777778,
              "#fb9f3a"
             ],
             [
              0.8888888888888888,
              "#fdca26"
             ],
             [
              1,
              "#f0f921"
             ]
            ],
            "type": "histogram2dcontour"
           }
          ],
          "mesh3d": [
           {
            "colorbar": {
             "outlinewidth": 0,
             "ticks": ""
            },
            "type": "mesh3d"
           }
          ],
          "parcoords": [
           {
            "line": {
             "colorbar": {
              "outlinewidth": 0,
              "ticks": ""
             }
            },
            "type": "parcoords"
           }
          ],
          "pie": [
           {
            "automargin": true,
            "type": "pie"
           }
          ],
          "scatter": [
           {
            "fillpattern": {
             "fillmode": "overlay",
             "size": 10,
             "solidity": 0.2
            },
            "type": "scatter"
           }
          ],
          "scatter3d": [
           {
            "line": {
             "colorbar": {
              "outlinewidth": 0,
              "ticks": ""
             }
            },
            "marker": {
             "colorbar": {
              "outlinewidth": 0,
              "ticks": ""
             }
            },
            "type": "scatter3d"
           }
          ],
          "scattercarpet": [
           {
            "marker": {
             "colorbar": {
              "outlinewidth": 0,
              "ticks": ""
             }
            },
            "type": "scattercarpet"
           }
          ],
          "scattergeo": [
           {
            "marker": {
             "colorbar": {
              "outlinewidth": 0,
              "ticks": ""
             }
            },
            "type": "scattergeo"
           }
          ],
          "scattergl": [
           {
            "marker": {
             "colorbar": {
              "outlinewidth": 0,
              "ticks": ""
             }
            },
            "type": "scattergl"
           }
          ],
          "scattermap": [
           {
            "marker": {
             "colorbar": {
              "outlinewidth": 0,
              "ticks": ""
             }
            },
            "type": "scattermap"
           }
          ],
          "scattermapbox": [
           {
            "marker": {
             "colorbar": {
              "outlinewidth": 0,
              "ticks": ""
             }
            },
            "type": "scattermapbox"
           }
          ],
          "scatterpolar": [
           {
            "marker": {
             "colorbar": {
              "outlinewidth": 0,
              "ticks": ""
             }
            },
            "type": "scatterpolar"
           }
          ],
          "scatterpolargl": [
           {
            "marker": {
             "colorbar": {
              "outlinewidth": 0,
              "ticks": ""
             }
            },
            "type": "scatterpolargl"
           }
          ],
          "scatterternary": [
           {
            "marker": {
             "colorbar": {
              "outlinewidth": 0,
              "ticks": ""
             }
            },
            "type": "scatterternary"
           }
          ],
          "surface": [
           {
            "colorbar": {
             "outlinewidth": 0,
             "ticks": ""
            },
            "colorscale": [
             [
              0,
              "#0d0887"
             ],
             [
              0.1111111111111111,
              "#46039f"
             ],
             [
              0.2222222222222222,
              "#7201a8"
             ],
             [
              0.3333333333333333,
              "#9c179e"
             ],
             [
              0.4444444444444444,
              "#bd3786"
             ],
             [
              0.5555555555555556,
              "#d8576b"
             ],
             [
              0.6666666666666666,
              "#ed7953"
             ],
             [
              0.7777777777777778,
              "#fb9f3a"
             ],
             [
              0.8888888888888888,
              "#fdca26"
             ],
             [
              1,
              "#f0f921"
             ]
            ],
            "type": "surface"
           }
          ],
          "table": [
           {
            "cells": {
             "fill": {
              "color": "#EBF0F8"
             },
             "line": {
              "color": "white"
             }
            },
            "header": {
             "fill": {
              "color": "#C8D4E3"
             },
             "line": {
              "color": "white"
             }
            },
            "type": "table"
           }
          ]
         },
         "layout": {
          "annotationdefaults": {
           "arrowcolor": "#2a3f5f",
           "arrowhead": 0,
           "arrowwidth": 1
          },
          "autotypenumbers": "strict",
          "coloraxis": {
           "colorbar": {
            "outlinewidth": 0,
            "ticks": ""
           }
          },
          "colorscale": {
           "diverging": [
            [
             0,
             "#8e0152"
            ],
            [
             0.1,
             "#c51b7d"
            ],
            [
             0.2,
             "#de77ae"
            ],
            [
             0.3,
             "#f1b6da"
            ],
            [
             0.4,
             "#fde0ef"
            ],
            [
             0.5,
             "#f7f7f7"
            ],
            [
             0.6,
             "#e6f5d0"
            ],
            [
             0.7,
             "#b8e186"
            ],
            [
             0.8,
             "#7fbc41"
            ],
            [
             0.9,
             "#4d9221"
            ],
            [
             1,
             "#276419"
            ]
           ],
           "sequential": [
            [
             0,
             "#0d0887"
            ],
            [
             0.1111111111111111,
             "#46039f"
            ],
            [
             0.2222222222222222,
             "#7201a8"
            ],
            [
             0.3333333333333333,
             "#9c179e"
            ],
            [
             0.4444444444444444,
             "#bd3786"
            ],
            [
             0.5555555555555556,
             "#d8576b"
            ],
            [
             0.6666666666666666,
             "#ed7953"
            ],
            [
             0.7777777777777778,
             "#fb9f3a"
            ],
            [
             0.8888888888888888,
             "#fdca26"
            ],
            [
             1,
             "#f0f921"
            ]
           ],
           "sequentialminus": [
            [
             0,
             "#0d0887"
            ],
            [
             0.1111111111111111,
             "#46039f"
            ],
            [
             0.2222222222222222,
             "#7201a8"
            ],
            [
             0.3333333333333333,
             "#9c179e"
            ],
            [
             0.4444444444444444,
             "#bd3786"
            ],
            [
             0.5555555555555556,
             "#d8576b"
            ],
            [
             0.6666666666666666,
             "#ed7953"
            ],
            [
             0.7777777777777778,
             "#fb9f3a"
            ],
            [
             0.8888888888888888,
             "#fdca26"
            ],
            [
             1,
             "#f0f921"
            ]
           ]
          },
          "colorway": [
           "#636efa",
           "#EF553B",
           "#00cc96",
           "#ab63fa",
           "#FFA15A",
           "#19d3f3",
           "#FF6692",
           "#B6E880",
           "#FF97FF",
           "#FECB52"
          ],
          "font": {
           "color": "#2a3f5f"
          },
          "geo": {
           "bgcolor": "white",
           "lakecolor": "white",
           "landcolor": "#E5ECF6",
           "showlakes": true,
           "showland": true,
           "subunitcolor": "white"
          },
          "hoverlabel": {
           "align": "left"
          },
          "hovermode": "closest",
          "mapbox": {
           "style": "light"
          },
          "paper_bgcolor": "white",
          "plot_bgcolor": "#E5ECF6",
          "polar": {
           "angularaxis": {
            "gridcolor": "white",
            "linecolor": "white",
            "ticks": ""
           },
           "bgcolor": "#E5ECF6",
           "radialaxis": {
            "gridcolor": "white",
            "linecolor": "white",
            "ticks": ""
           }
          },
          "scene": {
           "xaxis": {
            "backgroundcolor": "#E5ECF6",
            "gridcolor": "white",
            "gridwidth": 2,
            "linecolor": "white",
            "showbackground": true,
            "ticks": "",
            "zerolinecolor": "white"
           },
           "yaxis": {
            "backgroundcolor": "#E5ECF6",
            "gridcolor": "white",
            "gridwidth": 2,
            "linecolor": "white",
            "showbackground": true,
            "ticks": "",
            "zerolinecolor": "white"
           },
           "zaxis": {
            "backgroundcolor": "#E5ECF6",
            "gridcolor": "white",
            "gridwidth": 2,
            "linecolor": "white",
            "showbackground": true,
            "ticks": "",
            "zerolinecolor": "white"
           }
          },
          "shapedefaults": {
           "line": {
            "color": "#2a3f5f"
           }
          },
          "ternary": {
           "aaxis": {
            "gridcolor": "white",
            "linecolor": "white",
            "ticks": ""
           },
           "baxis": {
            "gridcolor": "white",
            "linecolor": "white",
            "ticks": ""
           },
           "bgcolor": "#E5ECF6",
           "caxis": {
            "gridcolor": "white",
            "linecolor": "white",
            "ticks": ""
           }
          },
          "title": {
           "x": 0.05
          },
          "xaxis": {
           "automargin": true,
           "gridcolor": "white",
           "linecolor": "white",
           "ticks": "",
           "title": {
            "standoff": 15
           },
           "zerolinecolor": "white",
           "zerolinewidth": 2
          },
          "yaxis": {
           "automargin": true,
           "gridcolor": "white",
           "linecolor": "white",
           "ticks": "",
           "title": {
            "standoff": 15
           },
           "zerolinecolor": "white",
           "zerolinewidth": 2
          }
         }
        }
       }
      }
     },
     "metadata": {},
     "output_type": "display_data"
    }
   ],
   "source": [
    "# Instanciando um novo do processo quântico\n",
    "processo = Process()\n",
    "\n",
    "# Alocação de um qubit\n",
    "qubits = processo.alloc()\n",
    "\n",
    "X(qubits)  # Porta de Pauli X\n",
    "Y(qubits)  # Porta de Pauli Y\n",
    "Z(qubits)  # Porta de Pauli Z\n",
    "H(qubits)  # Porta de Hadamard\n",
    "\n",
    "dump(qubits).sphere()  # Mostra o Bloch Sphere"
   ]
  },
  {
   "cell_type": "markdown",
   "metadata": {},
   "source": [
    "#### Portas Parametrizadas  \n",
    "\n",
    "Além das **portas de Pauli** e da **porta de Hadamard**, o Ket também oferece **portas de rotação** e a **porta de fase**, que desempenham um papel essencial na construção de algoritmos quânticos.  \n",
    "\n",
    "As **portas de rotação**, como {func}`~ket.gates.RX`, {func}`~ket.gates.RY` e {func}`~ket.gates.RZ`, realizam rotações controladas em torno dos eixos **X, Y e Z**, respectivamente. Essas portas permitem manipular o estado de um qubit de forma precisa e controlada.  \n",
    "\n",
    "Já a **porta de fase**, representada por {func}`~ket.gates.PHASE`, aplica uma fase ao estado do qubit. Essas portas são chamadas de **portas parametrizadas**, pois recebem um parâmetro clássico (um número real, `float`), que controla a operação aplicada.  \n",
    "\n",
    "A **porta {func}`~ket.gates.RZ` e a {func}`~ket.gates.PHASE` são equivalentes em termos de fase global**, ou seja, ao analisarmos seu efeito na **esfera de Bloch**, não conseguimos distingui-las. No entanto, quando usadas em **operações controladas**, a fase global pode gerar diferenças no estado quântico.  \n",
    "\n",
    "A seguir, apresentamos um exemplo que demonstra a aplicação das **portas parametrizadas**. Recomendamos que você execute este código e experimente modificar os parâmetros das portas para compreender melhor seus efeitos:  "
   ]
  },
  {
   "cell_type": "code",
   "execution_count": 25,
   "metadata": {},
   "outputs": [
    {
     "data": {
      "application/vnd.plotly.v1+json": {
       "config": {
        "plotlyServerURL": "https://plot.ly"
       },
       "data": [
        {
         "name": "Bloch Sphere",
         "opacity": 0.02,
         "showscale": false,
         "type": "surface",
         "x": {
          "bdata": "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",
          "dtype": "f8",
          "shape": "40, 20"
         },
         "y": {
          "bdata": "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",
          "dtype": "f8",
          "shape": "40, 20"
         },
         "z": {
          "bdata": "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",
          "dtype": "f8",
          "shape": "40, 20"
         }
        },
        {
         "line": {
          "color": "gray",
          "width": 3
         },
         "mode": "lines",
         "name": "Equator",
         "opacity": 0.1,
         "type": "scatter3d",
         "x": {
          "bdata": "AAAAAAAA8D+VSynBge/vP2j6BgUYvu8/Jek3u/Vr7z8jfxaOb/nuP/FJcov7Zu4/XLHeqjC17T9+NRQyxuTsP1+hBPiS9us/uvBkh4zr6j9WMpEhxsTpPzlQz6Jvg+g/tDkVSdQo5z+WUJVeWbblP0ATccl8LeQ/A6sNgtOP4j9cLKDxB9/gP1a1P3WwOd4/thLH2SiW2j+KU4hOOdfWP1tDY1G+ANM/jFrgSlktzj+Mcwt+GjrGPyLsuGvkX7w/cyCwKKhcqD/N+ijPKj+QvwzJ6KS5SbS/3kQPZF83wr9P3qvaGjfKv5OAwi7oDdG/PSGBd67u1L83i/Tn4LnYv4vJmF6Wa9y/AgAAAAAA4L/P5tyRtrnhv860DJEnYeO/hlh3f5705L/bPrV2e3Lmv11Sx9Q02ee/JuDa0Vgn6b9dHHf9jlvqv4pZi6GZdOu/wfLvCVdx7L/ZTwivwlDtvxstUkL2Ee6/V1DNmyq07r9D8kaHuDbvvwQ9tXAZme+/XjTx7ufa778HB0As4PvvvwcHQCzg+++/XjTx7ufa778EPbVwGZnvv0PyRoe4Nu+/V1DNmyq07r8cLVJC9hHuv9lPCK/CUO2/wvLvCVdx7L+JWYuhmXTrv14cd/2OW+q/JeDa0Vgn6b9eUsfUNNnnv9o+tXZ7cua/iFh3f5705L/MtAyRJ2Hjv9Hm3JG2ueG/+f//////37+IyZhelmvcvzeL9Ofgudi/QSGBd67u1L+MgMIu6A3Rv0jeq9oaN8q/3kQPZF83wr8eyeikuUm0v1T6KM8qP5C/kCCwKKhcqD8R7Lhr5F+8P3xzC34aOsY/k1rgSlktzj9bQ2NRvgDTP4ZTiE4519Y/vRLH2SiW2j9ZtT91sDneP1wsoPEH3+A/AasNgtOP4j9DE3HJfC3kP5dQlV5ZtuU/tDkVSdQo5z83UM+ib4PoP1cykSHGxOk/uvBkh4zr6j9foQT4kvbrP301FDLG5Ow/XbHeqjC17T/xSXKL+2buPyN/Fo5v+e4/Juk3u/Vr7z9o+gYFGL7vP5VLKcGB7+8/AAAAAAAA8D8=",
          "dtype": "f8"
         },
         "y": {
          "bdata": "AAAAAAAAAAADhrXMjDywP/CDAnguNMA/kayggGI5yD+aiNkBzxLQP9ofIiFb+NM/+5MNU1HJ1z+CQNqEwoHbPxlNPurYHd8/C1i7+O1M4T9GhZoMGvniPxwWPFK3keQ/ABg/lCAV5j+GGZN4xoHnP4hAIRwx1ug/lkFFlgER6j93zoZi8zDrPzKcHq/dNOw/EyzujrQb7T/B8a4NiuTtP/0jPCWPju4/3176khQZ7z8XHIGMi4PvPzTGy1KGze8/g6xao7j27z/vOc8G+P7vP2Zmsvw75u8/70I4BJ6s7z+/l/eBWVLvPwOssILL1+4/xVNiW3I97j+TIxAn7YPtP1EHwCL7q+w/qUxY6Hq26z+RVimJaaTqP5aCD4nhduk/oSg6uxkv6D+158MBZM7mP9OHZvErVuU/8XixWvXH4z8mRkW6WiXiP2ITsJELcOA/8qg+VZVT3T/agWKM2KjZP/gLinSo49U/v412/ecH0j/lKaSyIjPMP+bENsZjOcQ/3FNHxZdVuD+s23zJpD6gP8nbfMmkPqC/6lNHxZdVuL/txDbGYznEv9wppLIiM8y/wo12/ecH0r/0C4p0qOPVv92BYozYqNm/7qg+VZVT3b9jE7CRC3DgvyRGRbpaJeK/83ixWvXH47/Rh2bxK1blv7fnwwFkzua/oCg6uxkv6L+Xgg+J4Xbpv5BWKYlppOq/rExY6Hq2679SB8Ai+6vsv5MjECftg+2/xFNiW3I97r8ErLCCy9fuv7+X94FZUu+/70I4BJ6s779lZrL8O+bvv+85zwb4/u+/g6xao7j27780xstShs3vvxgcgYyLg++/3176khQZ77/9Izwlj47uv8Lxrg2K5O2/EizujrQb7b8xnB6v3TTsv3fOhmLzMOu/l0FFlgER6r+GQCEcMdbov4UZk3jGgee/ABg/lCAV5r8fFjxSt5Hkv0SFmgwa+eK/Cli7+O1M4b8bTT7q2B3fv4dA2oTCgdu/9ZMNU1HJ17/ZHyIhW/jTv52I2QHPEtC/gKyggGI5yL/ogwJ4LjTAvwSGtcyMPLC/B1wUMyamsbw=",
          "dtype": "f8"
         },
         "z": {
          "bdata": "AAAAAAAAAAAAAAAAAAAAAAAAAAAAAAAAAAAAAAAAAAAAAAAAAAAAAAAAAAAAAAAAAAAAAAAAAAAAAAAAAAAAAAAAAAAAAAAAAAAAAAAAAAAAAAAAAAAAAAAAAAAAAAAAAAAAAAAAAAAAAAAAAAAAAAAAAAAAAAAAAAAAAAAAAAAAAAAAAAAAAAAAAAAAAAAAAAAAAAAAAAAAAAAAAAAAAAAAAAAAAAAAAAAAAAAAAAAAAAAAAAAAAAAAAAAAAAAAAAAAAAAAAAAAAAAAAAAAAAAAAAAAAAAAAAAAAAAAAAAAAAAAAAAAAAAAAAAAAAAAAAAAAAAAAAAAAAAAAAAAAAAAAAAAAAAAAAAAAAAAAAAAAAAAAAAAAAAAAAAAAAAAAAAAAAAAAAAAAAAAAAAAAAAAAAAAAAAAAAAAAAAAAAAAAAAAAAAAAAAAAAAAAAAAAAAAAAAAAAAAAAAAAAAAAAAAAAAAAAAAAAAAAAAAAAAAAAAAAAAAAAAAAAAAAAAAAAAAAAAAAAAAAAAAAAAAAAAAAAAAAAAAAAAAAAAAAAAAAAAAAAAAAAAAAAAAAAAAAAAAAAAAAAAAAAAAAAAAAAAAAAAAAAAAAAAAAAAAAAAAAAAAAAAAAAAAAAAAAAAAAAAAAAAAAAAAAAAAAAAAAAAAAAAAAAAAAAAAAAAAAAAAAAAAAAAAAAAAAAAAAAAAAAAAAAAAAAAAAAAAAAAAAAAAAAAAAAAAAAAAAAAAAAAAAAAAAAAAAAAAAAAAAAAAAAAAAAAAAAAAAAAAAAAAAAAAAAAAAAAAAAAAAAAAAAAAAAAAAAAAAAAAAAAAAAAAAAAAAAAAAAAAAAAAAAAAAAAAAAAAAAAAAAAAAAAAAAAAAAAAAAAAAAAAAAAAAAAAAAAAAAAAAAAAAAAAAAAAAAAAAAAAAAAAAAAAAAAAAAAAAAAAAAAAAAAAAAAAAAAAAAAAAAAAAAAAAAAAAAAAAAAAAAAAAAAAAAAAAAAAAAAAAAAAAAAAAAAAAAAAAAAAAAAAAAAAAAAAAAAAAAAAAAAAAAAAAAAAAAAAAAAAAAA=",
          "dtype": "f8"
         }
        },
        {
         "line": {
          "color": "gray",
          "width": 3
         },
         "mode": "lines",
         "name": "x line",
         "opacity": 0.1,
         "type": "scatter3d",
         "x": [
          1,
          -1
         ],
         "y": [
          0,
          0
         ],
         "z": [
          0,
          0
         ]
        },
        {
         "line": {
          "color": "gray",
          "width": 3
         },
         "mode": "lines",
         "name": "y line",
         "opacity": 0.1,
         "type": "scatter3d",
         "x": [
          0,
          0
         ],
         "y": [
          1,
          -1
         ],
         "z": [
          0,
          0
         ]
        },
        {
         "line": {
          "color": "gray",
          "width": 3
         },
         "mode": "lines",
         "name": "z line",
         "opacity": 0.1,
         "type": "scatter3d",
         "x": [
          0,
          0
         ],
         "y": [
          0,
          0
         ],
         "z": [
          1,
          -1
         ]
        },
        {
         "mode": "text",
         "name": "|0⟩",
         "text": [
          "|0⟩"
         ],
         "textposition": "middle center",
         "type": "scatter3d",
         "x": [
          0
         ],
         "y": [
          0
         ],
         "z": [
          1
         ]
        },
        {
         "mode": "text",
         "name": "Z",
         "text": [
          "Z"
         ],
         "textposition": "middle center",
         "type": "scatter3d",
         "x": [
          0
         ],
         "y": [
          0
         ],
         "z": [
          0.8
         ]
        },
        {
         "mode": "text",
         "name": "|1⟩",
         "text": [
          "|1⟩"
         ],
         "textposition": "middle center",
         "type": "scatter3d",
         "x": [
          0
         ],
         "y": [
          0
         ],
         "z": [
          -1
         ]
        },
        {
         "mode": "text",
         "name": "|+⟩",
         "text": [
          "|+⟩"
         ],
         "textposition": "middle center",
         "type": "scatter3d",
         "x": [
          1
         ],
         "y": [
          0
         ],
         "z": [
          0
         ]
        },
        {
         "mode": "text",
         "name": "X",
         "text": [
          "X"
         ],
         "textposition": "middle center",
         "type": "scatter3d",
         "x": [
          0.8
         ],
         "y": [
          0
         ],
         "z": [
          0
         ]
        },
        {
         "mode": "text",
         "name": "|‒⟩",
         "text": [
          "|‒⟩"
         ],
         "textposition": "middle center",
         "type": "scatter3d",
         "x": [
          -1
         ],
         "y": [
          0
         ],
         "z": [
          0
         ]
        },
        {
         "mode": "text",
         "name": "|+i⟩",
         "text": [
          "|+i⟩"
         ],
         "textposition": "middle center",
         "type": "scatter3d",
         "x": [
          0
         ],
         "y": [
          1
         ],
         "z": [
          0
         ]
        },
        {
         "mode": "text",
         "name": "Y",
         "text": [
          "Y"
         ],
         "textposition": "middle center",
         "type": "scatter3d",
         "x": [
          0
         ],
         "y": [
          0.8
         ],
         "z": [
          0
         ]
        },
        {
         "mode": "text",
         "name": "|-i⟩",
         "text": [
          "|-i⟩"
         ],
         "textposition": "middle center",
         "type": "scatter3d",
         "x": [
          0
         ],
         "y": [
          -1
         ],
         "z": [
          0
         ]
        },
        {
         "marker": {
          "color": "red",
          "size": 5
         },
         "mode": "markers",
         "name": "qubit",
         "type": "scatter3d",
         "x": [
          0.14724444986612922
         ],
         "y": [
          0.4884315738049957
         ],
         "z": [
          0.8600893382050472
         ]
        },
        {
         "line": {
          "color": "red",
          "width": 3
         },
         "mode": "lines",
         "name": "qubit line",
         "opacity": 0.5,
         "type": "scatter3d",
         "x": [
          0,
          0.14724444986612922
         ],
         "y": [
          0,
          0.4884315738049957
         ],
         "z": [
          0,
          0.8600893382050472
         ]
        }
       ],
       "layout": {
        "scene": {
         "aspectmode": "cube",
         "camera": {
          "eye": {
           "x": 0.8,
           "y": 0.8,
           "z": 0.8
          }
         },
         "xaxis": {
          "range": [
           -1,
           1
          ],
          "showbackground": false,
          "showgrid": false,
          "visible": false
         },
         "yaxis": {
          "range": [
           -1,
           1
          ],
          "showbackground": false,
          "showgrid": false,
          "visible": false
         },
         "zaxis": {
          "range": [
           -1,
           1
          ],
          "showbackground": false,
          "showgrid": false,
          "visible": false
         }
        },
        "showlegend": false,
        "template": {
         "data": {
          "bar": [
           {
            "error_x": {
             "color": "#2a3f5f"
            },
            "error_y": {
             "color": "#2a3f5f"
            },
            "marker": {
             "line": {
              "color": "#E5ECF6",
              "width": 0.5
             },
             "pattern": {
              "fillmode": "overlay",
              "size": 10,
              "solidity": 0.2
             }
            },
            "type": "bar"
           }
          ],
          "barpolar": [
           {
            "marker": {
             "line": {
              "color": "#E5ECF6",
              "width": 0.5
             },
             "pattern": {
              "fillmode": "overlay",
              "size": 10,
              "solidity": 0.2
             }
            },
            "type": "barpolar"
           }
          ],
          "carpet": [
           {
            "aaxis": {
             "endlinecolor": "#2a3f5f",
             "gridcolor": "white",
             "linecolor": "white",
             "minorgridcolor": "white",
             "startlinecolor": "#2a3f5f"
            },
            "baxis": {
             "endlinecolor": "#2a3f5f",
             "gridcolor": "white",
             "linecolor": "white",
             "minorgridcolor": "white",
             "startlinecolor": "#2a3f5f"
            },
            "type": "carpet"
           }
          ],
          "choropleth": [
           {
            "colorbar": {
             "outlinewidth": 0,
             "ticks": ""
            },
            "type": "choropleth"
           }
          ],
          "contour": [
           {
            "colorbar": {
             "outlinewidth": 0,
             "ticks": ""
            },
            "colorscale": [
             [
              0,
              "#0d0887"
             ],
             [
              0.1111111111111111,
              "#46039f"
             ],
             [
              0.2222222222222222,
              "#7201a8"
             ],
             [
              0.3333333333333333,
              "#9c179e"
             ],
             [
              0.4444444444444444,
              "#bd3786"
             ],
             [
              0.5555555555555556,
              "#d8576b"
             ],
             [
              0.6666666666666666,
              "#ed7953"
             ],
             [
              0.7777777777777778,
              "#fb9f3a"
             ],
             [
              0.8888888888888888,
              "#fdca26"
             ],
             [
              1,
              "#f0f921"
             ]
            ],
            "type": "contour"
           }
          ],
          "contourcarpet": [
           {
            "colorbar": {
             "outlinewidth": 0,
             "ticks": ""
            },
            "type": "contourcarpet"
           }
          ],
          "heatmap": [
           {
            "colorbar": {
             "outlinewidth": 0,
             "ticks": ""
            },
            "colorscale": [
             [
              0,
              "#0d0887"
             ],
             [
              0.1111111111111111,
              "#46039f"
             ],
             [
              0.2222222222222222,
              "#7201a8"
             ],
             [
              0.3333333333333333,
              "#9c179e"
             ],
             [
              0.4444444444444444,
              "#bd3786"
             ],
             [
              0.5555555555555556,
              "#d8576b"
             ],
             [
              0.6666666666666666,
              "#ed7953"
             ],
             [
              0.7777777777777778,
              "#fb9f3a"
             ],
             [
              0.8888888888888888,
              "#fdca26"
             ],
             [
              1,
              "#f0f921"
             ]
            ],
            "type": "heatmap"
           }
          ],
          "histogram": [
           {
            "marker": {
             "pattern": {
              "fillmode": "overlay",
              "size": 10,
              "solidity": 0.2
             }
            },
            "type": "histogram"
           }
          ],
          "histogram2d": [
           {
            "colorbar": {
             "outlinewidth": 0,
             "ticks": ""
            },
            "colorscale": [
             [
              0,
              "#0d0887"
             ],
             [
              0.1111111111111111,
              "#46039f"
             ],
             [
              0.2222222222222222,
              "#7201a8"
             ],
             [
              0.3333333333333333,
              "#9c179e"
             ],
             [
              0.4444444444444444,
              "#bd3786"
             ],
             [
              0.5555555555555556,
              "#d8576b"
             ],
             [
              0.6666666666666666,
              "#ed7953"
             ],
             [
              0.7777777777777778,
              "#fb9f3a"
             ],
             [
              0.8888888888888888,
              "#fdca26"
             ],
             [
              1,
              "#f0f921"
             ]
            ],
            "type": "histogram2d"
           }
          ],
          "histogram2dcontour": [
           {
            "colorbar": {
             "outlinewidth": 0,
             "ticks": ""
            },
            "colorscale": [
             [
              0,
              "#0d0887"
             ],
             [
              0.1111111111111111,
              "#46039f"
             ],
             [
              0.2222222222222222,
              "#7201a8"
             ],
             [
              0.3333333333333333,
              "#9c179e"
             ],
             [
              0.4444444444444444,
              "#bd3786"
             ],
             [
              0.5555555555555556,
              "#d8576b"
             ],
             [
              0.6666666666666666,
              "#ed7953"
             ],
             [
              0.7777777777777778,
              "#fb9f3a"
             ],
             [
              0.8888888888888888,
              "#fdca26"
             ],
             [
              1,
              "#f0f921"
             ]
            ],
            "type": "histogram2dcontour"
           }
          ],
          "mesh3d": [
           {
            "colorbar": {
             "outlinewidth": 0,
             "ticks": ""
            },
            "type": "mesh3d"
           }
          ],
          "parcoords": [
           {
            "line": {
             "colorbar": {
              "outlinewidth": 0,
              "ticks": ""
             }
            },
            "type": "parcoords"
           }
          ],
          "pie": [
           {
            "automargin": true,
            "type": "pie"
           }
          ],
          "scatter": [
           {
            "fillpattern": {
             "fillmode": "overlay",
             "size": 10,
             "solidity": 0.2
            },
            "type": "scatter"
           }
          ],
          "scatter3d": [
           {
            "line": {
             "colorbar": {
              "outlinewidth": 0,
              "ticks": ""
             }
            },
            "marker": {
             "colorbar": {
              "outlinewidth": 0,
              "ticks": ""
             }
            },
            "type": "scatter3d"
           }
          ],
          "scattercarpet": [
           {
            "marker": {
             "colorbar": {
              "outlinewidth": 0,
              "ticks": ""
             }
            },
            "type": "scattercarpet"
           }
          ],
          "scattergeo": [
           {
            "marker": {
             "colorbar": {
              "outlinewidth": 0,
              "ticks": ""
             }
            },
            "type": "scattergeo"
           }
          ],
          "scattergl": [
           {
            "marker": {
             "colorbar": {
              "outlinewidth": 0,
              "ticks": ""
             }
            },
            "type": "scattergl"
           }
          ],
          "scattermap": [
           {
            "marker": {
             "colorbar": {
              "outlinewidth": 0,
              "ticks": ""
             }
            },
            "type": "scattermap"
           }
          ],
          "scattermapbox": [
           {
            "marker": {
             "colorbar": {
              "outlinewidth": 0,
              "ticks": ""
             }
            },
            "type": "scattermapbox"
           }
          ],
          "scatterpolar": [
           {
            "marker": {
             "colorbar": {
              "outlinewidth": 0,
              "ticks": ""
             }
            },
            "type": "scatterpolar"
           }
          ],
          "scatterpolargl": [
           {
            "marker": {
             "colorbar": {
              "outlinewidth": 0,
              "ticks": ""
             }
            },
            "type": "scatterpolargl"
           }
          ],
          "scatterternary": [
           {
            "marker": {
             "colorbar": {
              "outlinewidth": 0,
              "ticks": ""
             }
            },
            "type": "scatterternary"
           }
          ],
          "surface": [
           {
            "colorbar": {
             "outlinewidth": 0,
             "ticks": ""
            },
            "colorscale": [
             [
              0,
              "#0d0887"
             ],
             [
              0.1111111111111111,
              "#46039f"
             ],
             [
              0.2222222222222222,
              "#7201a8"
             ],
             [
              0.3333333333333333,
              "#9c179e"
             ],
             [
              0.4444444444444444,
              "#bd3786"
             ],
             [
              0.5555555555555556,
              "#d8576b"
             ],
             [
              0.6666666666666666,
              "#ed7953"
             ],
             [
              0.7777777777777778,
              "#fb9f3a"
             ],
             [
              0.8888888888888888,
              "#fdca26"
             ],
             [
              1,
              "#f0f921"
             ]
            ],
            "type": "surface"
           }
          ],
          "table": [
           {
            "cells": {
             "fill": {
              "color": "#EBF0F8"
             },
             "line": {
              "color": "white"
             }
            },
            "header": {
             "fill": {
              "color": "#C8D4E3"
             },
             "line": {
              "color": "white"
             }
            },
            "type": "table"
           }
          ]
         },
         "layout": {
          "annotationdefaults": {
           "arrowcolor": "#2a3f5f",
           "arrowhead": 0,
           "arrowwidth": 1
          },
          "autotypenumbers": "strict",
          "coloraxis": {
           "colorbar": {
            "outlinewidth": 0,
            "ticks": ""
           }
          },
          "colorscale": {
           "diverging": [
            [
             0,
             "#8e0152"
            ],
            [
             0.1,
             "#c51b7d"
            ],
            [
             0.2,
             "#de77ae"
            ],
            [
             0.3,
             "#f1b6da"
            ],
            [
             0.4,
             "#fde0ef"
            ],
            [
             0.5,
             "#f7f7f7"
            ],
            [
             0.6,
             "#e6f5d0"
            ],
            [
             0.7,
             "#b8e186"
            ],
            [
             0.8,
             "#7fbc41"
            ],
            [
             0.9,
             "#4d9221"
            ],
            [
             1,
             "#276419"
            ]
           ],
           "sequential": [
            [
             0,
             "#0d0887"
            ],
            [
             0.1111111111111111,
             "#46039f"
            ],
            [
             0.2222222222222222,
             "#7201a8"
            ],
            [
             0.3333333333333333,
             "#9c179e"
            ],
            [
             0.4444444444444444,
             "#bd3786"
            ],
            [
             0.5555555555555556,
             "#d8576b"
            ],
            [
             0.6666666666666666,
             "#ed7953"
            ],
            [
             0.7777777777777778,
             "#fb9f3a"
            ],
            [
             0.8888888888888888,
             "#fdca26"
            ],
            [
             1,
             "#f0f921"
            ]
           ],
           "sequentialminus": [
            [
             0,
             "#0d0887"
            ],
            [
             0.1111111111111111,
             "#46039f"
            ],
            [
             0.2222222222222222,
             "#7201a8"
            ],
            [
             0.3333333333333333,
             "#9c179e"
            ],
            [
             0.4444444444444444,
             "#bd3786"
            ],
            [
             0.5555555555555556,
             "#d8576b"
            ],
            [
             0.6666666666666666,
             "#ed7953"
            ],
            [
             0.7777777777777778,
             "#fb9f3a"
            ],
            [
             0.8888888888888888,
             "#fdca26"
            ],
            [
             1,
             "#f0f921"
            ]
           ]
          },
          "colorway": [
           "#636efa",
           "#EF553B",
           "#00cc96",
           "#ab63fa",
           "#FFA15A",
           "#19d3f3",
           "#FF6692",
           "#B6E880",
           "#FF97FF",
           "#FECB52"
          ],
          "font": {
           "color": "#2a3f5f"
          },
          "geo": {
           "bgcolor": "white",
           "lakecolor": "white",
           "landcolor": "#E5ECF6",
           "showlakes": true,
           "showland": true,
           "subunitcolor": "white"
          },
          "hoverlabel": {
           "align": "left"
          },
          "hovermode": "closest",
          "mapbox": {
           "style": "light"
          },
          "paper_bgcolor": "white",
          "plot_bgcolor": "#E5ECF6",
          "polar": {
           "angularaxis": {
            "gridcolor": "white",
            "linecolor": "white",
            "ticks": ""
           },
           "bgcolor": "#E5ECF6",
           "radialaxis": {
            "gridcolor": "white",
            "linecolor": "white",
            "ticks": ""
           }
          },
          "scene": {
           "xaxis": {
            "backgroundcolor": "#E5ECF6",
            "gridcolor": "white",
            "gridwidth": 2,
            "linecolor": "white",
            "showbackground": true,
            "ticks": "",
            "zerolinecolor": "white"
           },
           "yaxis": {
            "backgroundcolor": "#E5ECF6",
            "gridcolor": "white",
            "gridwidth": 2,
            "linecolor": "white",
            "showbackground": true,
            "ticks": "",
            "zerolinecolor": "white"
           },
           "zaxis": {
            "backgroundcolor": "#E5ECF6",
            "gridcolor": "white",
            "gridwidth": 2,
            "linecolor": "white",
            "showbackground": true,
            "ticks": "",
            "zerolinecolor": "white"
           }
          },
          "shapedefaults": {
           "line": {
            "color": "#2a3f5f"
           }
          },
          "ternary": {
           "aaxis": {
            "gridcolor": "white",
            "linecolor": "white",
            "ticks": ""
           },
           "baxis": {
            "gridcolor": "white",
            "linecolor": "white",
            "ticks": ""
           },
           "bgcolor": "#E5ECF6",
           "caxis": {
            "gridcolor": "white",
            "linecolor": "white",
            "ticks": ""
           }
          },
          "title": {
           "x": 0.05
          },
          "xaxis": {
           "automargin": true,
           "gridcolor": "white",
           "linecolor": "white",
           "ticks": "",
           "title": {
            "standoff": 15
           },
           "zerolinecolor": "white",
           "zerolinewidth": 2
          },
          "yaxis": {
           "automargin": true,
           "gridcolor": "white",
           "linecolor": "white",
           "ticks": "",
           "title": {
            "standoff": 15
           },
           "zerolinecolor": "white",
           "zerolinewidth": 2
          }
         }
        }
       }
      }
     },
     "metadata": {},
     "output_type": "display_data"
    }
   ],
   "source": [
    "# Instanciando um novo do processo quântico\n",
    "processo = Process()\n",
    "\n",
    "# Alocação de um qubit\n",
    "qubits = processo.alloc()\n",
    "\n",
    "# Aplicação das portas parametrizadas\n",
    "RX(0.5, qubits)  # Porta de rotação Rx com ângulo de 0.5 radianos\n",
    "RY(0.2, qubits)  # Porta de rotação Ry com ângulo de 0.2 radianos\n",
    "RZ(2.3, qubits)  # Porta de rotação Rz com ângulo de 2.3 radianos\n",
    "PHASE(0.2, qubits)  # Porta de fase com ângulo de 0.2 radianos\n",
    "\n",
    "dump(qubits).sphere()  # Mostra o Bloch Sphere"
   ]
  },
  {
   "cell_type": "markdown",
   "metadata": {},
   "source": [
    "#### Concatenando Portas Quânticas  \n",
    "\n",
    "Ao listar a aplicação de **portas lógicas quânticas** linha por linha, podemos inflar desnecessariamente o número de linhas de código, tornando o programa menos legível e mais difícil de entender. Para evitar esse problema, uma prática útil na implementação de **algoritmos quânticos** é a **concatenação de portas lógicas**, que permite expressar operações de forma mais concisa.  \n",
    "\n",
    "No Ket, existem **duas maneiras** de concatenar portas lógicas.  \n",
    "\n",
    "##### Encadeamento de chamadas de função\n",
    "\n",
    "Essa abordagem é recomendada quando o número de portas encadeadas não é muito grande. No entanto, o uso excessivo de parênteses pode comprometer a legibilidade do código. Como cada porta implementada no Ket retorna o próprio objeto {class}`~ket.base.Quant` passado como parâmetro, podemos encadear as operações conforme mostrado no exemplo abaixo:  "
   ]
  },
  {
   "cell_type": "code",
   "execution_count": 26,
   "metadata": {},
   "outputs": [
    {
     "data": {
      "application/vnd.plotly.v1+json": {
       "config": {
        "plotlyServerURL": "https://plot.ly"
       },
       "data": [
        {
         "name": "Bloch Sphere",
         "opacity": 0.02,
         "showscale": false,
         "type": "surface",
         "x": {
          "bdata": "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",
          "dtype": "f8",
          "shape": "40, 20"
         },
         "y": {
          "bdata": "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",
          "dtype": "f8",
          "shape": "40, 20"
         },
         "z": {
          "bdata": "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",
          "dtype": "f8",
          "shape": "40, 20"
         }
        },
        {
         "line": {
          "color": "gray",
          "width": 3
         },
         "mode": "lines",
         "name": "Equator",
         "opacity": 0.1,
         "type": "scatter3d",
         "x": {
          "bdata": "AAAAAAAA8D+VSynBge/vP2j6BgUYvu8/Jek3u/Vr7z8jfxaOb/nuP/FJcov7Zu4/XLHeqjC17T9+NRQyxuTsP1+hBPiS9us/uvBkh4zr6j9WMpEhxsTpPzlQz6Jvg+g/tDkVSdQo5z+WUJVeWbblP0ATccl8LeQ/A6sNgtOP4j9cLKDxB9/gP1a1P3WwOd4/thLH2SiW2j+KU4hOOdfWP1tDY1G+ANM/jFrgSlktzj+Mcwt+GjrGPyLsuGvkX7w/cyCwKKhcqD/N+ijPKj+QvwzJ6KS5SbS/3kQPZF83wr9P3qvaGjfKv5OAwi7oDdG/PSGBd67u1L83i/Tn4LnYv4vJmF6Wa9y/AgAAAAAA4L/P5tyRtrnhv860DJEnYeO/hlh3f5705L/bPrV2e3Lmv11Sx9Q02ee/JuDa0Vgn6b9dHHf9jlvqv4pZi6GZdOu/wfLvCVdx7L/ZTwivwlDtvxstUkL2Ee6/V1DNmyq07r9D8kaHuDbvvwQ9tXAZme+/XjTx7ufa778HB0As4PvvvwcHQCzg+++/XjTx7ufa778EPbVwGZnvv0PyRoe4Nu+/V1DNmyq07r8cLVJC9hHuv9lPCK/CUO2/wvLvCVdx7L+JWYuhmXTrv14cd/2OW+q/JeDa0Vgn6b9eUsfUNNnnv9o+tXZ7cua/iFh3f5705L/MtAyRJ2Hjv9Hm3JG2ueG/+f//////37+IyZhelmvcvzeL9Ofgudi/QSGBd67u1L+MgMIu6A3Rv0jeq9oaN8q/3kQPZF83wr8eyeikuUm0v1T6KM8qP5C/kCCwKKhcqD8R7Lhr5F+8P3xzC34aOsY/k1rgSlktzj9bQ2NRvgDTP4ZTiE4519Y/vRLH2SiW2j9ZtT91sDneP1wsoPEH3+A/AasNgtOP4j9DE3HJfC3kP5dQlV5ZtuU/tDkVSdQo5z83UM+ib4PoP1cykSHGxOk/uvBkh4zr6j9foQT4kvbrP301FDLG5Ow/XbHeqjC17T/xSXKL+2buPyN/Fo5v+e4/Juk3u/Vr7z9o+gYFGL7vP5VLKcGB7+8/AAAAAAAA8D8=",
          "dtype": "f8"
         },
         "y": {
          "bdata": "AAAAAAAAAAADhrXMjDywP/CDAnguNMA/kayggGI5yD+aiNkBzxLQP9ofIiFb+NM/+5MNU1HJ1z+CQNqEwoHbPxlNPurYHd8/C1i7+O1M4T9GhZoMGvniPxwWPFK3keQ/ABg/lCAV5j+GGZN4xoHnP4hAIRwx1ug/lkFFlgER6j93zoZi8zDrPzKcHq/dNOw/EyzujrQb7T/B8a4NiuTtP/0jPCWPju4/3176khQZ7z8XHIGMi4PvPzTGy1KGze8/g6xao7j27z/vOc8G+P7vP2Zmsvw75u8/70I4BJ6s7z+/l/eBWVLvPwOssILL1+4/xVNiW3I97j+TIxAn7YPtP1EHwCL7q+w/qUxY6Hq26z+RVimJaaTqP5aCD4nhduk/oSg6uxkv6D+158MBZM7mP9OHZvErVuU/8XixWvXH4z8mRkW6WiXiP2ITsJELcOA/8qg+VZVT3T/agWKM2KjZP/gLinSo49U/v412/ecH0j/lKaSyIjPMP+bENsZjOcQ/3FNHxZdVuD+s23zJpD6gP8nbfMmkPqC/6lNHxZdVuL/txDbGYznEv9wppLIiM8y/wo12/ecH0r/0C4p0qOPVv92BYozYqNm/7qg+VZVT3b9jE7CRC3DgvyRGRbpaJeK/83ixWvXH47/Rh2bxK1blv7fnwwFkzua/oCg6uxkv6L+Xgg+J4Xbpv5BWKYlppOq/rExY6Hq2679SB8Ai+6vsv5MjECftg+2/xFNiW3I97r8ErLCCy9fuv7+X94FZUu+/70I4BJ6s779lZrL8O+bvv+85zwb4/u+/g6xao7j27780xstShs3vvxgcgYyLg++/3176khQZ77/9Izwlj47uv8Lxrg2K5O2/EizujrQb7b8xnB6v3TTsv3fOhmLzMOu/l0FFlgER6r+GQCEcMdbov4UZk3jGgee/ABg/lCAV5r8fFjxSt5Hkv0SFmgwa+eK/Cli7+O1M4b8bTT7q2B3fv4dA2oTCgdu/9ZMNU1HJ17/ZHyIhW/jTv52I2QHPEtC/gKyggGI5yL/ogwJ4LjTAvwSGtcyMPLC/B1wUMyamsbw=",
          "dtype": "f8"
         },
         "z": {
          "bdata": "AAAAAAAAAAAAAAAAAAAAAAAAAAAAAAAAAAAAAAAAAAAAAAAAAAAAAAAAAAAAAAAAAAAAAAAAAAAAAAAAAAAAAAAAAAAAAAAAAAAAAAAAAAAAAAAAAAAAAAAAAAAAAAAAAAAAAAAAAAAAAAAAAAAAAAAAAAAAAAAAAAAAAAAAAAAAAAAAAAAAAAAAAAAAAAAAAAAAAAAAAAAAAAAAAAAAAAAAAAAAAAAAAAAAAAAAAAAAAAAAAAAAAAAAAAAAAAAAAAAAAAAAAAAAAAAAAAAAAAAAAAAAAAAAAAAAAAAAAAAAAAAAAAAAAAAAAAAAAAAAAAAAAAAAAAAAAAAAAAAAAAAAAAAAAAAAAAAAAAAAAAAAAAAAAAAAAAAAAAAAAAAAAAAAAAAAAAAAAAAAAAAAAAAAAAAAAAAAAAAAAAAAAAAAAAAAAAAAAAAAAAAAAAAAAAAAAAAAAAAAAAAAAAAAAAAAAAAAAAAAAAAAAAAAAAAAAAAAAAAAAAAAAAAAAAAAAAAAAAAAAAAAAAAAAAAAAAAAAAAAAAAAAAAAAAAAAAAAAAAAAAAAAAAAAAAAAAAAAAAAAAAAAAAAAAAAAAAAAAAAAAAAAAAAAAAAAAAAAAAAAAAAAAAAAAAAAAAAAAAAAAAAAAAAAAAAAAAAAAAAAAAAAAAAAAAAAAAAAAAAAAAAAAAAAAAAAAAAAAAAAAAAAAAAAAAAAAAAAAAAAAAAAAAAAAAAAAAAAAAAAAAAAAAAAAAAAAAAAAAAAAAAAAAAAAAAAAAAAAAAAAAAAAAAAAAAAAAAAAAAAAAAAAAAAAAAAAAAAAAAAAAAAAAAAAAAAAAAAAAAAAAAAAAAAAAAAAAAAAAAAAAAAAAAAAAAAAAAAAAAAAAAAAAAAAAAAAAAAAAAAAAAAAAAAAAAAAAAAAAAAAAAAAAAAAAAAAAAAAAAAAAAAAAAAAAAAAAAAAAAAAAAAAAAAAAAAAAAAAAAAAAAAAAAAAAAAAAAAAAAAAAAAAAAAAAAAAAAAAAAAAAAAAAAAAAAAAAAAAAAAAAAAAAAAAAAAAAAAAAAAAAAAAA=",
          "dtype": "f8"
         }
        },
        {
         "line": {
          "color": "gray",
          "width": 3
         },
         "mode": "lines",
         "name": "x line",
         "opacity": 0.1,
         "type": "scatter3d",
         "x": [
          1,
          -1
         ],
         "y": [
          0,
          0
         ],
         "z": [
          0,
          0
         ]
        },
        {
         "line": {
          "color": "gray",
          "width": 3
         },
         "mode": "lines",
         "name": "y line",
         "opacity": 0.1,
         "type": "scatter3d",
         "x": [
          0,
          0
         ],
         "y": [
          1,
          -1
         ],
         "z": [
          0,
          0
         ]
        },
        {
         "line": {
          "color": "gray",
          "width": 3
         },
         "mode": "lines",
         "name": "z line",
         "opacity": 0.1,
         "type": "scatter3d",
         "x": [
          0,
          0
         ],
         "y": [
          0,
          0
         ],
         "z": [
          1,
          -1
         ]
        },
        {
         "mode": "text",
         "name": "|0⟩",
         "text": [
          "|0⟩"
         ],
         "textposition": "middle center",
         "type": "scatter3d",
         "x": [
          0
         ],
         "y": [
          0
         ],
         "z": [
          1
         ]
        },
        {
         "mode": "text",
         "name": "Z",
         "text": [
          "Z"
         ],
         "textposition": "middle center",
         "type": "scatter3d",
         "x": [
          0
         ],
         "y": [
          0
         ],
         "z": [
          0.8
         ]
        },
        {
         "mode": "text",
         "name": "|1⟩",
         "text": [
          "|1⟩"
         ],
         "textposition": "middle center",
         "type": "scatter3d",
         "x": [
          0
         ],
         "y": [
          0
         ],
         "z": [
          -1
         ]
        },
        {
         "mode": "text",
         "name": "|+⟩",
         "text": [
          "|+⟩"
         ],
         "textposition": "middle center",
         "type": "scatter3d",
         "x": [
          1
         ],
         "y": [
          0
         ],
         "z": [
          0
         ]
        },
        {
         "mode": "text",
         "name": "X",
         "text": [
          "X"
         ],
         "textposition": "middle center",
         "type": "scatter3d",
         "x": [
          0.8
         ],
         "y": [
          0
         ],
         "z": [
          0
         ]
        },
        {
         "mode": "text",
         "name": "|‒⟩",
         "text": [
          "|‒⟩"
         ],
         "textposition": "middle center",
         "type": "scatter3d",
         "x": [
          -1
         ],
         "y": [
          0
         ],
         "z": [
          0
         ]
        },
        {
         "mode": "text",
         "name": "|+i⟩",
         "text": [
          "|+i⟩"
         ],
         "textposition": "middle center",
         "type": "scatter3d",
         "x": [
          0
         ],
         "y": [
          1
         ],
         "z": [
          0
         ]
        },
        {
         "mode": "text",
         "name": "Y",
         "text": [
          "Y"
         ],
         "textposition": "middle center",
         "type": "scatter3d",
         "x": [
          0
         ],
         "y": [
          0.8
         ],
         "z": [
          0
         ]
        },
        {
         "mode": "text",
         "name": "|-i⟩",
         "text": [
          "|-i⟩"
         ],
         "textposition": "middle center",
         "type": "scatter3d",
         "x": [
          0
         ],
         "y": [
          -1
         ],
         "z": [
          0
         ]
        },
        {
         "marker": {
          "color": "red",
          "size": 5
         },
         "mode": "markers",
         "name": "qubit",
         "type": "scatter3d",
         "x": [
          0
         ],
         "y": [
          0
         ],
         "z": [
          -1.0000000000000004
         ]
        },
        {
         "line": {
          "color": "red",
          "width": 3
         },
         "mode": "lines",
         "name": "qubit line",
         "opacity": 0.5,
         "type": "scatter3d",
         "x": [
          0,
          0
         ],
         "y": [
          0,
          0
         ],
         "z": [
          0,
          -1.0000000000000004
         ]
        }
       ],
       "layout": {
        "scene": {
         "aspectmode": "cube",
         "camera": {
          "eye": {
           "x": 0.8,
           "y": 0.8,
           "z": 0.8
          }
         },
         "xaxis": {
          "range": [
           -1,
           1
          ],
          "showbackground": false,
          "showgrid": false,
          "visible": false
         },
         "yaxis": {
          "range": [
           -1,
           1
          ],
          "showbackground": false,
          "showgrid": false,
          "visible": false
         },
         "zaxis": {
          "range": [
           -1,
           1
          ],
          "showbackground": false,
          "showgrid": false,
          "visible": false
         }
        },
        "showlegend": false,
        "template": {
         "data": {
          "bar": [
           {
            "error_x": {
             "color": "#2a3f5f"
            },
            "error_y": {
             "color": "#2a3f5f"
            },
            "marker": {
             "line": {
              "color": "#E5ECF6",
              "width": 0.5
             },
             "pattern": {
              "fillmode": "overlay",
              "size": 10,
              "solidity": 0.2
             }
            },
            "type": "bar"
           }
          ],
          "barpolar": [
           {
            "marker": {
             "line": {
              "color": "#E5ECF6",
              "width": 0.5
             },
             "pattern": {
              "fillmode": "overlay",
              "size": 10,
              "solidity": 0.2
             }
            },
            "type": "barpolar"
           }
          ],
          "carpet": [
           {
            "aaxis": {
             "endlinecolor": "#2a3f5f",
             "gridcolor": "white",
             "linecolor": "white",
             "minorgridcolor": "white",
             "startlinecolor": "#2a3f5f"
            },
            "baxis": {
             "endlinecolor": "#2a3f5f",
             "gridcolor": "white",
             "linecolor": "white",
             "minorgridcolor": "white",
             "startlinecolor": "#2a3f5f"
            },
            "type": "carpet"
           }
          ],
          "choropleth": [
           {
            "colorbar": {
             "outlinewidth": 0,
             "ticks": ""
            },
            "type": "choropleth"
           }
          ],
          "contour": [
           {
            "colorbar": {
             "outlinewidth": 0,
             "ticks": ""
            },
            "colorscale": [
             [
              0,
              "#0d0887"
             ],
             [
              0.1111111111111111,
              "#46039f"
             ],
             [
              0.2222222222222222,
              "#7201a8"
             ],
             [
              0.3333333333333333,
              "#9c179e"
             ],
             [
              0.4444444444444444,
              "#bd3786"
             ],
             [
              0.5555555555555556,
              "#d8576b"
             ],
             [
              0.6666666666666666,
              "#ed7953"
             ],
             [
              0.7777777777777778,
              "#fb9f3a"
             ],
             [
              0.8888888888888888,
              "#fdca26"
             ],
             [
              1,
              "#f0f921"
             ]
            ],
            "type": "contour"
           }
          ],
          "contourcarpet": [
           {
            "colorbar": {
             "outlinewidth": 0,
             "ticks": ""
            },
            "type": "contourcarpet"
           }
          ],
          "heatmap": [
           {
            "colorbar": {
             "outlinewidth": 0,
             "ticks": ""
            },
            "colorscale": [
             [
              0,
              "#0d0887"
             ],
             [
              0.1111111111111111,
              "#46039f"
             ],
             [
              0.2222222222222222,
              "#7201a8"
             ],
             [
              0.3333333333333333,
              "#9c179e"
             ],
             [
              0.4444444444444444,
              "#bd3786"
             ],
             [
              0.5555555555555556,
              "#d8576b"
             ],
             [
              0.6666666666666666,
              "#ed7953"
             ],
             [
              0.7777777777777778,
              "#fb9f3a"
             ],
             [
              0.8888888888888888,
              "#fdca26"
             ],
             [
              1,
              "#f0f921"
             ]
            ],
            "type": "heatmap"
           }
          ],
          "histogram": [
           {
            "marker": {
             "pattern": {
              "fillmode": "overlay",
              "size": 10,
              "solidity": 0.2
             }
            },
            "type": "histogram"
           }
          ],
          "histogram2d": [
           {
            "colorbar": {
             "outlinewidth": 0,
             "ticks": ""
            },
            "colorscale": [
             [
              0,
              "#0d0887"
             ],
             [
              0.1111111111111111,
              "#46039f"
             ],
             [
              0.2222222222222222,
              "#7201a8"
             ],
             [
              0.3333333333333333,
              "#9c179e"
             ],
             [
              0.4444444444444444,
              "#bd3786"
             ],
             [
              0.5555555555555556,
              "#d8576b"
             ],
             [
              0.6666666666666666,
              "#ed7953"
             ],
             [
              0.7777777777777778,
              "#fb9f3a"
             ],
             [
              0.8888888888888888,
              "#fdca26"
             ],
             [
              1,
              "#f0f921"
             ]
            ],
            "type": "histogram2d"
           }
          ],
          "histogram2dcontour": [
           {
            "colorbar": {
             "outlinewidth": 0,
             "ticks": ""
            },
            "colorscale": [
             [
              0,
              "#0d0887"
             ],
             [
              0.1111111111111111,
              "#46039f"
             ],
             [
              0.2222222222222222,
              "#7201a8"
             ],
             [
              0.3333333333333333,
              "#9c179e"
             ],
             [
              0.4444444444444444,
              "#bd3786"
             ],
             [
              0.5555555555555556,
              "#d8576b"
             ],
             [
              0.6666666666666666,
              "#ed7953"
             ],
             [
              0.7777777777777778,
              "#fb9f3a"
             ],
             [
              0.8888888888888888,
              "#fdca26"
             ],
             [
              1,
              "#f0f921"
             ]
            ],
            "type": "histogram2dcontour"
           }
          ],
          "mesh3d": [
           {
            "colorbar": {
             "outlinewidth": 0,
             "ticks": ""
            },
            "type": "mesh3d"
           }
          ],
          "parcoords": [
           {
            "line": {
             "colorbar": {
              "outlinewidth": 0,
              "ticks": ""
             }
            },
            "type": "parcoords"
           }
          ],
          "pie": [
           {
            "automargin": true,
            "type": "pie"
           }
          ],
          "scatter": [
           {
            "fillpattern": {
             "fillmode": "overlay",
             "size": 10,
             "solidity": 0.2
            },
            "type": "scatter"
           }
          ],
          "scatter3d": [
           {
            "line": {
             "colorbar": {
              "outlinewidth": 0,
              "ticks": ""
             }
            },
            "marker": {
             "colorbar": {
              "outlinewidth": 0,
              "ticks": ""
             }
            },
            "type": "scatter3d"
           }
          ],
          "scattercarpet": [
           {
            "marker": {
             "colorbar": {
              "outlinewidth": 0,
              "ticks": ""
             }
            },
            "type": "scattercarpet"
           }
          ],
          "scattergeo": [
           {
            "marker": {
             "colorbar": {
              "outlinewidth": 0,
              "ticks": ""
             }
            },
            "type": "scattergeo"
           }
          ],
          "scattergl": [
           {
            "marker": {
             "colorbar": {
              "outlinewidth": 0,
              "ticks": ""
             }
            },
            "type": "scattergl"
           }
          ],
          "scattermap": [
           {
            "marker": {
             "colorbar": {
              "outlinewidth": 0,
              "ticks": ""
             }
            },
            "type": "scattermap"
           }
          ],
          "scattermapbox": [
           {
            "marker": {
             "colorbar": {
              "outlinewidth": 0,
              "ticks": ""
             }
            },
            "type": "scattermapbox"
           }
          ],
          "scatterpolar": [
           {
            "marker": {
             "colorbar": {
              "outlinewidth": 0,
              "ticks": ""
             }
            },
            "type": "scatterpolar"
           }
          ],
          "scatterpolargl": [
           {
            "marker": {
             "colorbar": {
              "outlinewidth": 0,
              "ticks": ""
             }
            },
            "type": "scatterpolargl"
           }
          ],
          "scatterternary": [
           {
            "marker": {
             "colorbar": {
              "outlinewidth": 0,
              "ticks": ""
             }
            },
            "type": "scatterternary"
           }
          ],
          "surface": [
           {
            "colorbar": {
             "outlinewidth": 0,
             "ticks": ""
            },
            "colorscale": [
             [
              0,
              "#0d0887"
             ],
             [
              0.1111111111111111,
              "#46039f"
             ],
             [
              0.2222222222222222,
              "#7201a8"
             ],
             [
              0.3333333333333333,
              "#9c179e"
             ],
             [
              0.4444444444444444,
              "#bd3786"
             ],
             [
              0.5555555555555556,
              "#d8576b"
             ],
             [
              0.6666666666666666,
              "#ed7953"
             ],
             [
              0.7777777777777778,
              "#fb9f3a"
             ],
             [
              0.8888888888888888,
              "#fdca26"
             ],
             [
              1,
              "#f0f921"
             ]
            ],
            "type": "surface"
           }
          ],
          "table": [
           {
            "cells": {
             "fill": {
              "color": "#EBF0F8"
             },
             "line": {
              "color": "white"
             }
            },
            "header": {
             "fill": {
              "color": "#C8D4E3"
             },
             "line": {
              "color": "white"
             }
            },
            "type": "table"
           }
          ]
         },
         "layout": {
          "annotationdefaults": {
           "arrowcolor": "#2a3f5f",
           "arrowhead": 0,
           "arrowwidth": 1
          },
          "autotypenumbers": "strict",
          "coloraxis": {
           "colorbar": {
            "outlinewidth": 0,
            "ticks": ""
           }
          },
          "colorscale": {
           "diverging": [
            [
             0,
             "#8e0152"
            ],
            [
             0.1,
             "#c51b7d"
            ],
            [
             0.2,
             "#de77ae"
            ],
            [
             0.3,
             "#f1b6da"
            ],
            [
             0.4,
             "#fde0ef"
            ],
            [
             0.5,
             "#f7f7f7"
            ],
            [
             0.6,
             "#e6f5d0"
            ],
            [
             0.7,
             "#b8e186"
            ],
            [
             0.8,
             "#7fbc41"
            ],
            [
             0.9,
             "#4d9221"
            ],
            [
             1,
             "#276419"
            ]
           ],
           "sequential": [
            [
             0,
             "#0d0887"
            ],
            [
             0.1111111111111111,
             "#46039f"
            ],
            [
             0.2222222222222222,
             "#7201a8"
            ],
            [
             0.3333333333333333,
             "#9c179e"
            ],
            [
             0.4444444444444444,
             "#bd3786"
            ],
            [
             0.5555555555555556,
             "#d8576b"
            ],
            [
             0.6666666666666666,
             "#ed7953"
            ],
            [
             0.7777777777777778,
             "#fb9f3a"
            ],
            [
             0.8888888888888888,
             "#fdca26"
            ],
            [
             1,
             "#f0f921"
            ]
           ],
           "sequentialminus": [
            [
             0,
             "#0d0887"
            ],
            [
             0.1111111111111111,
             "#46039f"
            ],
            [
             0.2222222222222222,
             "#7201a8"
            ],
            [
             0.3333333333333333,
             "#9c179e"
            ],
            [
             0.4444444444444444,
             "#bd3786"
            ],
            [
             0.5555555555555556,
             "#d8576b"
            ],
            [
             0.6666666666666666,
             "#ed7953"
            ],
            [
             0.7777777777777778,
             "#fb9f3a"
            ],
            [
             0.8888888888888888,
             "#fdca26"
            ],
            [
             1,
             "#f0f921"
            ]
           ]
          },
          "colorway": [
           "#636efa",
           "#EF553B",
           "#00cc96",
           "#ab63fa",
           "#FFA15A",
           "#19d3f3",
           "#FF6692",
           "#B6E880",
           "#FF97FF",
           "#FECB52"
          ],
          "font": {
           "color": "#2a3f5f"
          },
          "geo": {
           "bgcolor": "white",
           "lakecolor": "white",
           "landcolor": "#E5ECF6",
           "showlakes": true,
           "showland": true,
           "subunitcolor": "white"
          },
          "hoverlabel": {
           "align": "left"
          },
          "hovermode": "closest",
          "mapbox": {
           "style": "light"
          },
          "paper_bgcolor": "white",
          "plot_bgcolor": "#E5ECF6",
          "polar": {
           "angularaxis": {
            "gridcolor": "white",
            "linecolor": "white",
            "ticks": ""
           },
           "bgcolor": "#E5ECF6",
           "radialaxis": {
            "gridcolor": "white",
            "linecolor": "white",
            "ticks": ""
           }
          },
          "scene": {
           "xaxis": {
            "backgroundcolor": "#E5ECF6",
            "gridcolor": "white",
            "gridwidth": 2,
            "linecolor": "white",
            "showbackground": true,
            "ticks": "",
            "zerolinecolor": "white"
           },
           "yaxis": {
            "backgroundcolor": "#E5ECF6",
            "gridcolor": "white",
            "gridwidth": 2,
            "linecolor": "white",
            "showbackground": true,
            "ticks": "",
            "zerolinecolor": "white"
           },
           "zaxis": {
            "backgroundcolor": "#E5ECF6",
            "gridcolor": "white",
            "gridwidth": 2,
            "linecolor": "white",
            "showbackground": true,
            "ticks": "",
            "zerolinecolor": "white"
           }
          },
          "shapedefaults": {
           "line": {
            "color": "#2a3f5f"
           }
          },
          "ternary": {
           "aaxis": {
            "gridcolor": "white",
            "linecolor": "white",
            "ticks": ""
           },
           "baxis": {
            "gridcolor": "white",
            "linecolor": "white",
            "ticks": ""
           },
           "bgcolor": "#E5ECF6",
           "caxis": {
            "gridcolor": "white",
            "linecolor": "white",
            "ticks": ""
           }
          },
          "title": {
           "x": 0.05
          },
          "xaxis": {
           "automargin": true,
           "gridcolor": "white",
           "linecolor": "white",
           "ticks": "",
           "title": {
            "standoff": 15
           },
           "zerolinecolor": "white",
           "zerolinewidth": 2
          },
          "yaxis": {
           "automargin": true,
           "gridcolor": "white",
           "linecolor": "white",
           "ticks": "",
           "title": {
            "standoff": 15
           },
           "zerolinecolor": "white",
           "zerolinewidth": 2
          }
         }
        }
       }
      }
     },
     "metadata": {},
     "output_type": "display_data"
    }
   ],
   "source": [
    "# Instanciando um novo do processo quântico\n",
    "processo = Process()\n",
    "\n",
    "# Alocação de um qubit\n",
    "qubits = processo.alloc()\n",
    "\n",
    "H(Z(H(qubits)))  # Equivalente a:\n",
    "# H(qubit)\n",
    "# Z(qubit)\n",
    "# H(qubit)\n",
    "\n",
    "dump(qubits).sphere()  # Mostra o Bloch Sphere"
   ]
  },
  {
   "cell_type": "markdown",
   "metadata": {},
   "source": [
    "##### Concatenação de portas\n",
    "\n",
    "A segunda opção é utilizar a função {func}`~ket.operations.cat`, que permite criar uma **nova porta** representando a concatenação das portas passadas como argumento.  \n",
    "\n",
    "Essa abordagem é especialmente útil em situações onde precisamos **armazenar ou reutilizar** uma sequência específica de operações quânticas. Ao criar uma nova porta quântica com {func}`~ket.operations.cat`, podemos encapsular essa sequência de operações em uma única entidade. Isso torna o código **mais modular**, facilita a reutilização de blocos de operações e melhora a organização do programa.  "
   ]
  },
  {
   "cell_type": "code",
   "execution_count": 27,
   "metadata": {},
   "outputs": [
    {
     "data": {
      "application/vnd.plotly.v1+json": {
       "config": {
        "plotlyServerURL": "https://plot.ly"
       },
       "data": [
        {
         "name": "Bloch Sphere",
         "opacity": 0.02,
         "showscale": false,
         "type": "surface",
         "x": {
          "bdata": "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",
          "dtype": "f8",
          "shape": "40, 20"
         },
         "y": {
          "bdata": "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",
          "dtype": "f8",
          "shape": "40, 20"
         },
         "z": {
          "bdata": "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",
          "dtype": "f8",
          "shape": "40, 20"
         }
        },
        {
         "line": {
          "color": "gray",
          "width": 3
         },
         "mode": "lines",
         "name": "Equator",
         "opacity": 0.1,
         "type": "scatter3d",
         "x": {
          "bdata": "AAAAAAAA8D+VSynBge/vP2j6BgUYvu8/Jek3u/Vr7z8jfxaOb/nuP/FJcov7Zu4/XLHeqjC17T9+NRQyxuTsP1+hBPiS9us/uvBkh4zr6j9WMpEhxsTpPzlQz6Jvg+g/tDkVSdQo5z+WUJVeWbblP0ATccl8LeQ/A6sNgtOP4j9cLKDxB9/gP1a1P3WwOd4/thLH2SiW2j+KU4hOOdfWP1tDY1G+ANM/jFrgSlktzj+Mcwt+GjrGPyLsuGvkX7w/cyCwKKhcqD/N+ijPKj+QvwzJ6KS5SbS/3kQPZF83wr9P3qvaGjfKv5OAwi7oDdG/PSGBd67u1L83i/Tn4LnYv4vJmF6Wa9y/AgAAAAAA4L/P5tyRtrnhv860DJEnYeO/hlh3f5705L/bPrV2e3Lmv11Sx9Q02ee/JuDa0Vgn6b9dHHf9jlvqv4pZi6GZdOu/wfLvCVdx7L/ZTwivwlDtvxstUkL2Ee6/V1DNmyq07r9D8kaHuDbvvwQ9tXAZme+/XjTx7ufa778HB0As4PvvvwcHQCzg+++/XjTx7ufa778EPbVwGZnvv0PyRoe4Nu+/V1DNmyq07r8cLVJC9hHuv9lPCK/CUO2/wvLvCVdx7L+JWYuhmXTrv14cd/2OW+q/JeDa0Vgn6b9eUsfUNNnnv9o+tXZ7cua/iFh3f5705L/MtAyRJ2Hjv9Hm3JG2ueG/+f//////37+IyZhelmvcvzeL9Ofgudi/QSGBd67u1L+MgMIu6A3Rv0jeq9oaN8q/3kQPZF83wr8eyeikuUm0v1T6KM8qP5C/kCCwKKhcqD8R7Lhr5F+8P3xzC34aOsY/k1rgSlktzj9bQ2NRvgDTP4ZTiE4519Y/vRLH2SiW2j9ZtT91sDneP1wsoPEH3+A/AasNgtOP4j9DE3HJfC3kP5dQlV5ZtuU/tDkVSdQo5z83UM+ib4PoP1cykSHGxOk/uvBkh4zr6j9foQT4kvbrP301FDLG5Ow/XbHeqjC17T/xSXKL+2buPyN/Fo5v+e4/Juk3u/Vr7z9o+gYFGL7vP5VLKcGB7+8/AAAAAAAA8D8=",
          "dtype": "f8"
         },
         "y": {
          "bdata": "AAAAAAAAAAADhrXMjDywP/CDAnguNMA/kayggGI5yD+aiNkBzxLQP9ofIiFb+NM/+5MNU1HJ1z+CQNqEwoHbPxlNPurYHd8/C1i7+O1M4T9GhZoMGvniPxwWPFK3keQ/ABg/lCAV5j+GGZN4xoHnP4hAIRwx1ug/lkFFlgER6j93zoZi8zDrPzKcHq/dNOw/EyzujrQb7T/B8a4NiuTtP/0jPCWPju4/3176khQZ7z8XHIGMi4PvPzTGy1KGze8/g6xao7j27z/vOc8G+P7vP2Zmsvw75u8/70I4BJ6s7z+/l/eBWVLvPwOssILL1+4/xVNiW3I97j+TIxAn7YPtP1EHwCL7q+w/qUxY6Hq26z+RVimJaaTqP5aCD4nhduk/oSg6uxkv6D+158MBZM7mP9OHZvErVuU/8XixWvXH4z8mRkW6WiXiP2ITsJELcOA/8qg+VZVT3T/agWKM2KjZP/gLinSo49U/v412/ecH0j/lKaSyIjPMP+bENsZjOcQ/3FNHxZdVuD+s23zJpD6gP8nbfMmkPqC/6lNHxZdVuL/txDbGYznEv9wppLIiM8y/wo12/ecH0r/0C4p0qOPVv92BYozYqNm/7qg+VZVT3b9jE7CRC3DgvyRGRbpaJeK/83ixWvXH47/Rh2bxK1blv7fnwwFkzua/oCg6uxkv6L+Xgg+J4Xbpv5BWKYlppOq/rExY6Hq2679SB8Ai+6vsv5MjECftg+2/xFNiW3I97r8ErLCCy9fuv7+X94FZUu+/70I4BJ6s779lZrL8O+bvv+85zwb4/u+/g6xao7j27780xstShs3vvxgcgYyLg++/3176khQZ77/9Izwlj47uv8Lxrg2K5O2/EizujrQb7b8xnB6v3TTsv3fOhmLzMOu/l0FFlgER6r+GQCEcMdbov4UZk3jGgee/ABg/lCAV5r8fFjxSt5Hkv0SFmgwa+eK/Cli7+O1M4b8bTT7q2B3fv4dA2oTCgdu/9ZMNU1HJ17/ZHyIhW/jTv52I2QHPEtC/gKyggGI5yL/ogwJ4LjTAvwSGtcyMPLC/B1wUMyamsbw=",
          "dtype": "f8"
         },
         "z": {
          "bdata": "AAAAAAAAAAAAAAAAAAAAAAAAAAAAAAAAAAAAAAAAAAAAAAAAAAAAAAAAAAAAAAAAAAAAAAAAAAAAAAAAAAAAAAAAAAAAAAAAAAAAAAAAAAAAAAAAAAAAAAAAAAAAAAAAAAAAAAAAAAAAAAAAAAAAAAAAAAAAAAAAAAAAAAAAAAAAAAAAAAAAAAAAAAAAAAAAAAAAAAAAAAAAAAAAAAAAAAAAAAAAAAAAAAAAAAAAAAAAAAAAAAAAAAAAAAAAAAAAAAAAAAAAAAAAAAAAAAAAAAAAAAAAAAAAAAAAAAAAAAAAAAAAAAAAAAAAAAAAAAAAAAAAAAAAAAAAAAAAAAAAAAAAAAAAAAAAAAAAAAAAAAAAAAAAAAAAAAAAAAAAAAAAAAAAAAAAAAAAAAAAAAAAAAAAAAAAAAAAAAAAAAAAAAAAAAAAAAAAAAAAAAAAAAAAAAAAAAAAAAAAAAAAAAAAAAAAAAAAAAAAAAAAAAAAAAAAAAAAAAAAAAAAAAAAAAAAAAAAAAAAAAAAAAAAAAAAAAAAAAAAAAAAAAAAAAAAAAAAAAAAAAAAAAAAAAAAAAAAAAAAAAAAAAAAAAAAAAAAAAAAAAAAAAAAAAAAAAAAAAAAAAAAAAAAAAAAAAAAAAAAAAAAAAAAAAAAAAAAAAAAAAAAAAAAAAAAAAAAAAAAAAAAAAAAAAAAAAAAAAAAAAAAAAAAAAAAAAAAAAAAAAAAAAAAAAAAAAAAAAAAAAAAAAAAAAAAAAAAAAAAAAAAAAAAAAAAAAAAAAAAAAAAAAAAAAAAAAAAAAAAAAAAAAAAAAAAAAAAAAAAAAAAAAAAAAAAAAAAAAAAAAAAAAAAAAAAAAAAAAAAAAAAAAAAAAAAAAAAAAAAAAAAAAAAAAAAAAAAAAAAAAAAAAAAAAAAAAAAAAAAAAAAAAAAAAAAAAAAAAAAAAAAAAAAAAAAAAAAAAAAAAAAAAAAAAAAAAAAAAAAAAAAAAAAAAAAAAAAAAAAAAAAAAAAAAAAAAAAAAAAAAAAAAAAAAAAAAAAAAAAAAAAAAAAAAAAAAAAAAAAAAAAAAA=",
          "dtype": "f8"
         }
        },
        {
         "line": {
          "color": "gray",
          "width": 3
         },
         "mode": "lines",
         "name": "x line",
         "opacity": 0.1,
         "type": "scatter3d",
         "x": [
          1,
          -1
         ],
         "y": [
          0,
          0
         ],
         "z": [
          0,
          0
         ]
        },
        {
         "line": {
          "color": "gray",
          "width": 3
         },
         "mode": "lines",
         "name": "y line",
         "opacity": 0.1,
         "type": "scatter3d",
         "x": [
          0,
          0
         ],
         "y": [
          1,
          -1
         ],
         "z": [
          0,
          0
         ]
        },
        {
         "line": {
          "color": "gray",
          "width": 3
         },
         "mode": "lines",
         "name": "z line",
         "opacity": 0.1,
         "type": "scatter3d",
         "x": [
          0,
          0
         ],
         "y": [
          0,
          0
         ],
         "z": [
          1,
          -1
         ]
        },
        {
         "mode": "text",
         "name": "|0⟩",
         "text": [
          "|0⟩"
         ],
         "textposition": "middle center",
         "type": "scatter3d",
         "x": [
          0
         ],
         "y": [
          0
         ],
         "z": [
          1
         ]
        },
        {
         "mode": "text",
         "name": "Z",
         "text": [
          "Z"
         ],
         "textposition": "middle center",
         "type": "scatter3d",
         "x": [
          0
         ],
         "y": [
          0
         ],
         "z": [
          0.8
         ]
        },
        {
         "mode": "text",
         "name": "|1⟩",
         "text": [
          "|1⟩"
         ],
         "textposition": "middle center",
         "type": "scatter3d",
         "x": [
          0
         ],
         "y": [
          0
         ],
         "z": [
          -1
         ]
        },
        {
         "mode": "text",
         "name": "|+⟩",
         "text": [
          "|+⟩"
         ],
         "textposition": "middle center",
         "type": "scatter3d",
         "x": [
          1
         ],
         "y": [
          0
         ],
         "z": [
          0
         ]
        },
        {
         "mode": "text",
         "name": "X",
         "text": [
          "X"
         ],
         "textposition": "middle center",
         "type": "scatter3d",
         "x": [
          0.8
         ],
         "y": [
          0
         ],
         "z": [
          0
         ]
        },
        {
         "mode": "text",
         "name": "|‒⟩",
         "text": [
          "|‒⟩"
         ],
         "textposition": "middle center",
         "type": "scatter3d",
         "x": [
          -1
         ],
         "y": [
          0
         ],
         "z": [
          0
         ]
        },
        {
         "mode": "text",
         "name": "|+i⟩",
         "text": [
          "|+i⟩"
         ],
         "textposition": "middle center",
         "type": "scatter3d",
         "x": [
          0
         ],
         "y": [
          1
         ],
         "z": [
          0
         ]
        },
        {
         "mode": "text",
         "name": "Y",
         "text": [
          "Y"
         ],
         "textposition": "middle center",
         "type": "scatter3d",
         "x": [
          0
         ],
         "y": [
          0.8
         ],
         "z": [
          0
         ]
        },
        {
         "mode": "text",
         "name": "|-i⟩",
         "text": [
          "|-i⟩"
         ],
         "textposition": "middle center",
         "type": "scatter3d",
         "x": [
          0
         ],
         "y": [
          -1
         ],
         "z": [
          0
         ]
        },
        {
         "marker": {
          "color": "red",
          "size": 5
         },
         "mode": "markers",
         "name": "qubit",
         "type": "scatter3d",
         "x": [
          0
         ],
         "y": [
          0
         ],
         "z": [
          -1.0000000000000004
         ]
        },
        {
         "line": {
          "color": "red",
          "width": 3
         },
         "mode": "lines",
         "name": "qubit line",
         "opacity": 0.5,
         "type": "scatter3d",
         "x": [
          0,
          0
         ],
         "y": [
          0,
          0
         ],
         "z": [
          0,
          -1.0000000000000004
         ]
        }
       ],
       "layout": {
        "scene": {
         "aspectmode": "cube",
         "camera": {
          "eye": {
           "x": 0.8,
           "y": 0.8,
           "z": 0.8
          }
         },
         "xaxis": {
          "range": [
           -1,
           1
          ],
          "showbackground": false,
          "showgrid": false,
          "visible": false
         },
         "yaxis": {
          "range": [
           -1,
           1
          ],
          "showbackground": false,
          "showgrid": false,
          "visible": false
         },
         "zaxis": {
          "range": [
           -1,
           1
          ],
          "showbackground": false,
          "showgrid": false,
          "visible": false
         }
        },
        "showlegend": false,
        "template": {
         "data": {
          "bar": [
           {
            "error_x": {
             "color": "#2a3f5f"
            },
            "error_y": {
             "color": "#2a3f5f"
            },
            "marker": {
             "line": {
              "color": "#E5ECF6",
              "width": 0.5
             },
             "pattern": {
              "fillmode": "overlay",
              "size": 10,
              "solidity": 0.2
             }
            },
            "type": "bar"
           }
          ],
          "barpolar": [
           {
            "marker": {
             "line": {
              "color": "#E5ECF6",
              "width": 0.5
             },
             "pattern": {
              "fillmode": "overlay",
              "size": 10,
              "solidity": 0.2
             }
            },
            "type": "barpolar"
           }
          ],
          "carpet": [
           {
            "aaxis": {
             "endlinecolor": "#2a3f5f",
             "gridcolor": "white",
             "linecolor": "white",
             "minorgridcolor": "white",
             "startlinecolor": "#2a3f5f"
            },
            "baxis": {
             "endlinecolor": "#2a3f5f",
             "gridcolor": "white",
             "linecolor": "white",
             "minorgridcolor": "white",
             "startlinecolor": "#2a3f5f"
            },
            "type": "carpet"
           }
          ],
          "choropleth": [
           {
            "colorbar": {
             "outlinewidth": 0,
             "ticks": ""
            },
            "type": "choropleth"
           }
          ],
          "contour": [
           {
            "colorbar": {
             "outlinewidth": 0,
             "ticks": ""
            },
            "colorscale": [
             [
              0,
              "#0d0887"
             ],
             [
              0.1111111111111111,
              "#46039f"
             ],
             [
              0.2222222222222222,
              "#7201a8"
             ],
             [
              0.3333333333333333,
              "#9c179e"
             ],
             [
              0.4444444444444444,
              "#bd3786"
             ],
             [
              0.5555555555555556,
              "#d8576b"
             ],
             [
              0.6666666666666666,
              "#ed7953"
             ],
             [
              0.7777777777777778,
              "#fb9f3a"
             ],
             [
              0.8888888888888888,
              "#fdca26"
             ],
             [
              1,
              "#f0f921"
             ]
            ],
            "type": "contour"
           }
          ],
          "contourcarpet": [
           {
            "colorbar": {
             "outlinewidth": 0,
             "ticks": ""
            },
            "type": "contourcarpet"
           }
          ],
          "heatmap": [
           {
            "colorbar": {
             "outlinewidth": 0,
             "ticks": ""
            },
            "colorscale": [
             [
              0,
              "#0d0887"
             ],
             [
              0.1111111111111111,
              "#46039f"
             ],
             [
              0.2222222222222222,
              "#7201a8"
             ],
             [
              0.3333333333333333,
              "#9c179e"
             ],
             [
              0.4444444444444444,
              "#bd3786"
             ],
             [
              0.5555555555555556,
              "#d8576b"
             ],
             [
              0.6666666666666666,
              "#ed7953"
             ],
             [
              0.7777777777777778,
              "#fb9f3a"
             ],
             [
              0.8888888888888888,
              "#fdca26"
             ],
             [
              1,
              "#f0f921"
             ]
            ],
            "type": "heatmap"
           }
          ],
          "histogram": [
           {
            "marker": {
             "pattern": {
              "fillmode": "overlay",
              "size": 10,
              "solidity": 0.2
             }
            },
            "type": "histogram"
           }
          ],
          "histogram2d": [
           {
            "colorbar": {
             "outlinewidth": 0,
             "ticks": ""
            },
            "colorscale": [
             [
              0,
              "#0d0887"
             ],
             [
              0.1111111111111111,
              "#46039f"
             ],
             [
              0.2222222222222222,
              "#7201a8"
             ],
             [
              0.3333333333333333,
              "#9c179e"
             ],
             [
              0.4444444444444444,
              "#bd3786"
             ],
             [
              0.5555555555555556,
              "#d8576b"
             ],
             [
              0.6666666666666666,
              "#ed7953"
             ],
             [
              0.7777777777777778,
              "#fb9f3a"
             ],
             [
              0.8888888888888888,
              "#fdca26"
             ],
             [
              1,
              "#f0f921"
             ]
            ],
            "type": "histogram2d"
           }
          ],
          "histogram2dcontour": [
           {
            "colorbar": {
             "outlinewidth": 0,
             "ticks": ""
            },
            "colorscale": [
             [
              0,
              "#0d0887"
             ],
             [
              0.1111111111111111,
              "#46039f"
             ],
             [
              0.2222222222222222,
              "#7201a8"
             ],
             [
              0.3333333333333333,
              "#9c179e"
             ],
             [
              0.4444444444444444,
              "#bd3786"
             ],
             [
              0.5555555555555556,
              "#d8576b"
             ],
             [
              0.6666666666666666,
              "#ed7953"
             ],
             [
              0.7777777777777778,
              "#fb9f3a"
             ],
             [
              0.8888888888888888,
              "#fdca26"
             ],
             [
              1,
              "#f0f921"
             ]
            ],
            "type": "histogram2dcontour"
           }
          ],
          "mesh3d": [
           {
            "colorbar": {
             "outlinewidth": 0,
             "ticks": ""
            },
            "type": "mesh3d"
           }
          ],
          "parcoords": [
           {
            "line": {
             "colorbar": {
              "outlinewidth": 0,
              "ticks": ""
             }
            },
            "type": "parcoords"
           }
          ],
          "pie": [
           {
            "automargin": true,
            "type": "pie"
           }
          ],
          "scatter": [
           {
            "fillpattern": {
             "fillmode": "overlay",
             "size": 10,
             "solidity": 0.2
            },
            "type": "scatter"
           }
          ],
          "scatter3d": [
           {
            "line": {
             "colorbar": {
              "outlinewidth": 0,
              "ticks": ""
             }
            },
            "marker": {
             "colorbar": {
              "outlinewidth": 0,
              "ticks": ""
             }
            },
            "type": "scatter3d"
           }
          ],
          "scattercarpet": [
           {
            "marker": {
             "colorbar": {
              "outlinewidth": 0,
              "ticks": ""
             }
            },
            "type": "scattercarpet"
           }
          ],
          "scattergeo": [
           {
            "marker": {
             "colorbar": {
              "outlinewidth": 0,
              "ticks": ""
             }
            },
            "type": "scattergeo"
           }
          ],
          "scattergl": [
           {
            "marker": {
             "colorbar": {
              "outlinewidth": 0,
              "ticks": ""
             }
            },
            "type": "scattergl"
           }
          ],
          "scattermap": [
           {
            "marker": {
             "colorbar": {
              "outlinewidth": 0,
              "ticks": ""
             }
            },
            "type": "scattermap"
           }
          ],
          "scattermapbox": [
           {
            "marker": {
             "colorbar": {
              "outlinewidth": 0,
              "ticks": ""
             }
            },
            "type": "scattermapbox"
           }
          ],
          "scatterpolar": [
           {
            "marker": {
             "colorbar": {
              "outlinewidth": 0,
              "ticks": ""
             }
            },
            "type": "scatterpolar"
           }
          ],
          "scatterpolargl": [
           {
            "marker": {
             "colorbar": {
              "outlinewidth": 0,
              "ticks": ""
             }
            },
            "type": "scatterpolargl"
           }
          ],
          "scatterternary": [
           {
            "marker": {
             "colorbar": {
              "outlinewidth": 0,
              "ticks": ""
             }
            },
            "type": "scatterternary"
           }
          ],
          "surface": [
           {
            "colorbar": {
             "outlinewidth": 0,
             "ticks": ""
            },
            "colorscale": [
             [
              0,
              "#0d0887"
             ],
             [
              0.1111111111111111,
              "#46039f"
             ],
             [
              0.2222222222222222,
              "#7201a8"
             ],
             [
              0.3333333333333333,
              "#9c179e"
             ],
             [
              0.4444444444444444,
              "#bd3786"
             ],
             [
              0.5555555555555556,
              "#d8576b"
             ],
             [
              0.6666666666666666,
              "#ed7953"
             ],
             [
              0.7777777777777778,
              "#fb9f3a"
             ],
             [
              0.8888888888888888,
              "#fdca26"
             ],
             [
              1,
              "#f0f921"
             ]
            ],
            "type": "surface"
           }
          ],
          "table": [
           {
            "cells": {
             "fill": {
              "color": "#EBF0F8"
             },
             "line": {
              "color": "white"
             }
            },
            "header": {
             "fill": {
              "color": "#C8D4E3"
             },
             "line": {
              "color": "white"
             }
            },
            "type": "table"
           }
          ]
         },
         "layout": {
          "annotationdefaults": {
           "arrowcolor": "#2a3f5f",
           "arrowhead": 0,
           "arrowwidth": 1
          },
          "autotypenumbers": "strict",
          "coloraxis": {
           "colorbar": {
            "outlinewidth": 0,
            "ticks": ""
           }
          },
          "colorscale": {
           "diverging": [
            [
             0,
             "#8e0152"
            ],
            [
             0.1,
             "#c51b7d"
            ],
            [
             0.2,
             "#de77ae"
            ],
            [
             0.3,
             "#f1b6da"
            ],
            [
             0.4,
             "#fde0ef"
            ],
            [
             0.5,
             "#f7f7f7"
            ],
            [
             0.6,
             "#e6f5d0"
            ],
            [
             0.7,
             "#b8e186"
            ],
            [
             0.8,
             "#7fbc41"
            ],
            [
             0.9,
             "#4d9221"
            ],
            [
             1,
             "#276419"
            ]
           ],
           "sequential": [
            [
             0,
             "#0d0887"
            ],
            [
             0.1111111111111111,
             "#46039f"
            ],
            [
             0.2222222222222222,
             "#7201a8"
            ],
            [
             0.3333333333333333,
             "#9c179e"
            ],
            [
             0.4444444444444444,
             "#bd3786"
            ],
            [
             0.5555555555555556,
             "#d8576b"
            ],
            [
             0.6666666666666666,
             "#ed7953"
            ],
            [
             0.7777777777777778,
             "#fb9f3a"
            ],
            [
             0.8888888888888888,
             "#fdca26"
            ],
            [
             1,
             "#f0f921"
            ]
           ],
           "sequentialminus": [
            [
             0,
             "#0d0887"
            ],
            [
             0.1111111111111111,
             "#46039f"
            ],
            [
             0.2222222222222222,
             "#7201a8"
            ],
            [
             0.3333333333333333,
             "#9c179e"
            ],
            [
             0.4444444444444444,
             "#bd3786"
            ],
            [
             0.5555555555555556,
             "#d8576b"
            ],
            [
             0.6666666666666666,
             "#ed7953"
            ],
            [
             0.7777777777777778,
             "#fb9f3a"
            ],
            [
             0.8888888888888888,
             "#fdca26"
            ],
            [
             1,
             "#f0f921"
            ]
           ]
          },
          "colorway": [
           "#636efa",
           "#EF553B",
           "#00cc96",
           "#ab63fa",
           "#FFA15A",
           "#19d3f3",
           "#FF6692",
           "#B6E880",
           "#FF97FF",
           "#FECB52"
          ],
          "font": {
           "color": "#2a3f5f"
          },
          "geo": {
           "bgcolor": "white",
           "lakecolor": "white",
           "landcolor": "#E5ECF6",
           "showlakes": true,
           "showland": true,
           "subunitcolor": "white"
          },
          "hoverlabel": {
           "align": "left"
          },
          "hovermode": "closest",
          "mapbox": {
           "style": "light"
          },
          "paper_bgcolor": "white",
          "plot_bgcolor": "#E5ECF6",
          "polar": {
           "angularaxis": {
            "gridcolor": "white",
            "linecolor": "white",
            "ticks": ""
           },
           "bgcolor": "#E5ECF6",
           "radialaxis": {
            "gridcolor": "white",
            "linecolor": "white",
            "ticks": ""
           }
          },
          "scene": {
           "xaxis": {
            "backgroundcolor": "#E5ECF6",
            "gridcolor": "white",
            "gridwidth": 2,
            "linecolor": "white",
            "showbackground": true,
            "ticks": "",
            "zerolinecolor": "white"
           },
           "yaxis": {
            "backgroundcolor": "#E5ECF6",
            "gridcolor": "white",
            "gridwidth": 2,
            "linecolor": "white",
            "showbackground": true,
            "ticks": "",
            "zerolinecolor": "white"
           },
           "zaxis": {
            "backgroundcolor": "#E5ECF6",
            "gridcolor": "white",
            "gridwidth": 2,
            "linecolor": "white",
            "showbackground": true,
            "ticks": "",
            "zerolinecolor": "white"
           }
          },
          "shapedefaults": {
           "line": {
            "color": "#2a3f5f"
           }
          },
          "ternary": {
           "aaxis": {
            "gridcolor": "white",
            "linecolor": "white",
            "ticks": ""
           },
           "baxis": {
            "gridcolor": "white",
            "linecolor": "white",
            "ticks": ""
           },
           "bgcolor": "#E5ECF6",
           "caxis": {
            "gridcolor": "white",
            "linecolor": "white",
            "ticks": ""
           }
          },
          "title": {
           "x": 0.05
          },
          "xaxis": {
           "automargin": true,
           "gridcolor": "white",
           "linecolor": "white",
           "ticks": "",
           "title": {
            "standoff": 15
           },
           "zerolinecolor": "white",
           "zerolinewidth": 2
          },
          "yaxis": {
           "automargin": true,
           "gridcolor": "white",
           "linecolor": "white",
           "ticks": "",
           "title": {
            "standoff": 15
           },
           "zerolinecolor": "white",
           "zerolinewidth": 2
          }
         }
        }
       }
      }
     },
     "metadata": {},
     "output_type": "display_data"
    }
   ],
   "source": [
    "# Instanciando um novo do processo quântico\n",
    "processo = Process()\n",
    "\n",
    "# Alocação de um qubit\n",
    "qubits = processo.alloc()\n",
    "\n",
    "porta_X = cat(H, Z, H)  # Concatena portas\n",
    "\n",
    "porta_X(qubits)\n",
    "\n",
    "dump(qubits).sphere()  # Mostra o Bloch Sphere"
   ]
  },
  {
   "cell_type": "markdown",
   "metadata": {},
   "source": [
    "Para **concatenar portas parametrizadas** usando a função {func}`~ket.operations.cat`, basta fornecer o **argumento clássico** correspondente. Quando apenas esse argumento é passado, a função cria uma **nova porta** com o parâmetro já aplicado."
   ]
  },
  {
   "cell_type": "code",
   "execution_count": 28,
   "metadata": {},
   "outputs": [
    {
     "data": {
      "application/vnd.plotly.v1+json": {
       "config": {
        "plotlyServerURL": "https://plot.ly"
       },
       "data": [
        {
         "name": "Bloch Sphere",
         "opacity": 0.02,
         "showscale": false,
         "type": "surface",
         "x": {
          "bdata": "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",
          "dtype": "f8",
          "shape": "40, 20"
         },
         "y": {
          "bdata": "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",
          "dtype": "f8",
          "shape": "40, 20"
         },
         "z": {
          "bdata": "AAAAAAAA8D+y8oSURZDvP+EbI4UiRO4/+enjIqYk7D8jzfmYo0DpP/8cCmdKrOU/y8h3bJmA4T/rlvW5YLXZP0HIdIURbM8/+vUghOsjtT/x9SCE6yO1vz3IdIURbM+/5pb1uWC12b/IyHdsmYDhv/0cCmdKrOW/Is35mKNA6b/46eMipiTsv+EbI4UiRO6/svKElEWQ778AAAAAAADwvwAAAAAAAPA/svKElEWQ7z/hGyOFIkTuP/np4yKmJOw/I835mKNA6T//HApnSqzlP8vId2yZgOE/65b1uWC12T9ByHSFEWzPP/r1IITrI7U/8fUghOsjtb89yHSFEWzPv+aW9blgtdm/yMh3bJmA4b/9HApnSqzlvyLN+ZijQOm/+OnjIqYk7L/hGyOFIkTuv7LyhJRFkO+/AAAAAAAA8L8AAAAAAADwP7LyhJRFkO8/4RsjhSJE7j/56eMipiTsPyPN+ZijQOk//xwKZ0qs5T/LyHdsmYDhP+uW9blgtdk/Qch0hRFszz/69SCE6yO1P/H1IITrI7W/Pch0hRFsz7/mlvW5YLXZv8jId2yZgOG//RwKZ0qs5b8izfmYo0Dpv/jp4yKmJOy/4RsjhSJE7r+y8oSURZDvvwAAAAAAAPC/AAAAAAAA8D+y8oSURZDvP+EbI4UiRO4/+enjIqYk7D8jzfmYo0DpP/8cCmdKrOU/y8h3bJmA4T/rlvW5YLXZP0HIdIURbM8/+vUghOsjtT/x9SCE6yO1vz3IdIURbM+/5pb1uWC12b/IyHdsmYDhv/0cCmdKrOW/Is35mKNA6b/46eMipiTsv+EbI4UiRO6/svKElEWQ778AAAAAAADwvwAAAAAAAPA/svKElEWQ7z/hGyOFIkTuP/np4yKmJOw/I835mKNA6T//HApnSqzlP8vId2yZgOE/65b1uWC12T9ByHSFEWzPP/r1IITrI7U/8fUghOsjtb89yHSFEWzPv+aW9blgtdm/yMh3bJmA4b/9HApnSqzlvyLN+ZijQOm/+OnjIqYk7L/hGyOFIkTuv7LyhJRFkO+/AAAAAAAA8L8AAAAAAADwP7LyhJRFkO8/4RsjhSJE7j/56eMipiTsPyPN+ZijQOk//xwKZ0qs5T/LyHdsmYDhP+uW9blgtdk/Qch0hRFszz/69SCE6yO1P/H1IITrI7W/Pch0hRFsz7/mlvW5YLXZv8jId2yZgOG//RwKZ0qs5b8izfmYo0Dpv/jp4yKmJOy/4RsjhSJE7r+y8oSURZDvvwAAAAAAAPC/AAAAAAAA8D+y8oSURZDvP+EbI4UiRO4/+enjIqYk7D8jzfmYo0DpP/8cCmdKrOU/y8h3bJmA4T/rlvW5YLXZP0HIdIURbM8/+vUghOsjtT/x9SCE6yO1vz3IdIURbM+/5pb1uWC12b/IyHdsmYDhv/0cCmdKrOW/Is35mKNA6b/46eMipiTsv+EbI4UiRO6/svKElEWQ778AAAAAAADwvwAAAAAAAPA/svKElEWQ7z/hGyOFIkTuP/np4yKmJOw/I835mKNA6T//HApnSqzlP8vId2yZgOE/65b1uWC12T9ByHSFEWzPP/r1IITrI7U/8fUghOsjtb89yHSFEWzPv+aW9blgtdm/yMh3bJmA4b/9HApnSqzlvyLN+ZijQOm/+OnjIqYk7L/hGyOFIkTuv7LyhJRFkO+/AAAAAAAA8L8AAAAAAADwP7LyhJRFkO8/4RsjhSJE7j/56eMipiTsPyPN+ZijQOk//xwKZ0qs5T/LyHdsmYDhP+uW9blgtdk/Qch0hRFszz/69SCE6yO1P/H1IITrI7W/Pch0hRFsz7/mlvW5YLXZv8jId2yZgOG//RwKZ0qs5b8izfmYo0Dpv/jp4yKmJOy/4RsjhSJE7r+y8oSURZDvvwAAAAAAAPC/AAAAAAAA8D+y8oSURZDvP+EbI4UiRO4/+enjIqYk7D8jzfmYo0DpP/8cCmdKrOU/y8h3bJmA4T/rlvW5YLXZP0HIdIURbM8/+vUghOsjtT/x9SCE6yO1vz3IdIURbM+/5pb1uWC12b/IyHdsmYDhv/0cCmdKrOW/Is35mKNA6b/46eMipiTsv+EbI4UiRO6/svKElEWQ778AAAAAAADwvwAAAAAAAPA/svKElEWQ7z/hGyOFIkTuP/np4yKmJOw/I835mKNA6T//HApnSqzlP8vId2yZgOE/65b1uWC12T9ByHSFEWzPP/r1IITrI7U/8fUghOsjtb89yHSFEWzPv+aW9blgtdm/yMh3bJmA4b/9HApnSqzlvyLN+ZijQOm/+OnjIqYk7L/hGyOFIkTuv7LyhJRFkO+/AAAAAAAA8L8AAAAAAADwP7LyhJRFkO8/4RsjhSJE7j/56eMipiTsPyPN+ZijQOk//xwKZ0qs5T/LyHdsmYDhP+uW9blgtdk/Qch0hRFszz/69SCE6yO1P/H1IITrI7W/Pch0hRFsz7/mlvW5YLXZv8jId2yZgOG//RwKZ0qs5b8izfmYo0Dpv/jp4yKmJOy/4RsjhSJE7r+y8oSURZDvvwAAAAAAAPC/AAAAAAAA8D+y8oSURZDvP+EbI4UiRO4/+enjIqYk7D8jzfmYo0DpP/8cCmdKrOU/y8h3bJmA4T/rlvW5YLXZP0HIdIURbM8/+vUghOsjtT/x9SCE6yO1vz3IdIURbM+/5pb1uWC12b/IyHdsmYDhv/0cCmdKrOW/Is35mKNA6b/46eMipiTsv+EbI4UiRO6/svKElEWQ778AAAAAAADwvwAAAAAAAPA/svKElEWQ7z/hGyOFIkTuP/np4yKmJOw/I835mKNA6T//HApnSqzlP8vId2yZgOE/65b1uWC12T9ByHSFEWzPP/r1IITrI7U/8fUghOsjtb89yHSFEWzPv+aW9blgtdm/yMh3bJmA4b/9HApnSqzlvyLN+ZijQOm/+OnjIqYk7L/hGyOFIkTuv7LyhJRFkO+/AAAAAAAA8L8AAAAAAADwP7LyhJRFkO8/4RsjhSJE7j/56eMipiTsPyPN+ZijQOk//xwKZ0qs5T/LyHdsmYDhP+uW9blgtdk/Qch0hRFszz/69SCE6yO1P/H1IITrI7W/Pch0hRFsz7/mlvW5YLXZv8jId2yZgOG//RwKZ0qs5b8izfmYo0Dpv/jp4yKmJOy/4RsjhSJE7r+y8oSURZDvvwAAAAAAAPC/AAAAAAAA8D+y8oSURZDvP+EbI4UiRO4/+enjIqYk7D8jzfmYo0DpP/8cCmdKrOU/y8h3bJmA4T/rlvW5YLXZP0HIdIURbM8/+vUghOsjtT/x9SCE6yO1vz3IdIURbM+/5pb1uWC12b/IyHdsmYDhv/0cCmdKrOW/Is35mKNA6b/46eMipiTsv+EbI4UiRO6/svKElEWQ778AAAAAAADwvwAAAAAAAPA/svKElEWQ7z/hGyOFIkTuP/np4yKmJOw/I835mKNA6T//HApnSqzlP8vId2yZgOE/65b1uWC12T9ByHSFEWzPP/r1IITrI7U/8fUghOsjtb89yHSFEWzPv+aW9blgtdm/yMh3bJmA4b/9HApnSqzlvyLN+ZijQOm/+OnjIqYk7L/hGyOFIkTuv7LyhJRFkO+/AAAAAAAA8L8AAAAAAADwP7LyhJRFkO8/4RsjhSJE7j/56eMipiTsPyPN+ZijQOk//xwKZ0qs5T/LyHdsmYDhP+uW9blgtdk/Qch0hRFszz/69SCE6yO1P/H1IITrI7W/Pch0hRFsz7/mlvW5YLXZv8jId2yZgOG//RwKZ0qs5b8izfmYo0Dpv/jp4yKmJOy/4RsjhSJE7r+y8oSURZDvvwAAAAAAAPC/AAAAAAAA8D+y8oSURZDvP+EbI4UiRO4/+enjIqYk7D8jzfmYo0DpP/8cCmdKrOU/y8h3bJmA4T/rlvW5YLXZP0HIdIURbM8/+vUghOsjtT/x9SCE6yO1vz3IdIURbM+/5pb1uWC12b/IyHdsmYDhv/0cCmdKrOW/Is35mKNA6b/46eMipiTsv+EbI4UiRO6/svKElEWQ778AAAAAAADwvwAAAAAAAPA/svKElEWQ7z/hGyOFIkTuP/np4yKmJOw/I835mKNA6T//HApnSqzlP8vId2yZgOE/65b1uWC12T9ByHSFEWzPP/r1IITrI7U/8fUghOsjtb89yHSFEWzPv+aW9blgtdm/yMh3bJmA4b/9HApnSqzlvyLN+ZijQOm/+OnjIqYk7L/hGyOFIkTuv7LyhJRFkO+/AAAAAAAA8L8AAAAAAADwP7LyhJRFkO8/4RsjhSJE7j/56eMipiTsPyPN+ZijQOk//xwKZ0qs5T/LyHdsmYDhP+uW9blgtdk/Qch0hRFszz/69SCE6yO1P/H1IITrI7W/Pch0hRFsz7/mlvW5YLXZv8jId2yZgOG//RwKZ0qs5b8izfmYo0Dpv/jp4yKmJOy/4RsjhSJE7r+y8oSURZDvvwAAAAAAAPC/AAAAAAAA8D+y8oSURZDvP+EbI4UiRO4/+enjIqYk7D8jzfmYo0DpP/8cCmdKrOU/y8h3bJmA4T/rlvW5YLXZP0HIdIURbM8/+vUghOsjtT/x9SCE6yO1vz3IdIURbM+/5pb1uWC12b/IyHdsmYDhv/0cCmdKrOW/Is35mKNA6b/46eMipiTsv+EbI4UiRO6/svKElEWQ778AAAAAAADwvwAAAAAAAPA/svKElEWQ7z/hGyOFIkTuP/np4yKmJOw/I835mKNA6T//HApnSqzlP8vId2yZgOE/65b1uWC12T9ByHSFEWzPP/r1IITrI7U/8fUghOsjtb89yHSFEWzPv+aW9blgtdm/yMh3bJmA4b/9HApnSqzlvyLN+ZijQOm/+OnjIqYk7L/hGyOFIkTuv7LyhJRFkO+/AAAAAAAA8L8AAAAAAADwP7LyhJRFkO8/4RsjhSJE7j/56eMipiTsPyPN+ZijQOk//xwKZ0qs5T/LyHdsmYDhP+uW9blgtdk/Qch0hRFszz/69SCE6yO1P/H1IITrI7W/Pch0hRFsz7/mlvW5YLXZv8jId2yZgOG//RwKZ0qs5b8izfmYo0Dpv/jp4yKmJOy/4RsjhSJE7r+y8oSURZDvvwAAAAAAAPC/AAAAAAAA8D+y8oSURZDvP+EbI4UiRO4/+enjIqYk7D8jzfmYo0DpP/8cCmdKrOU/y8h3bJmA4T/rlvW5YLXZP0HIdIURbM8/+vUghOsjtT/x9SCE6yO1vz3IdIURbM+/5pb1uWC12b/IyHdsmYDhv/0cCmdKrOW/Is35mKNA6b/46eMipiTsv+EbI4UiRO6/svKElEWQ778AAAAAAADwvwAAAAAAAPA/svKElEWQ7z/hGyOFIkTuP/np4yKmJOw/I835mKNA6T//HApnSqzlP8vId2yZgOE/65b1uWC12T9ByHSFEWzPP/r1IITrI7U/8fUghOsjtb89yHSFEWzPv+aW9blgtdm/yMh3bJmA4b/9HApnSqzlvyLN+ZijQOm/+OnjIqYk7L/hGyOFIkTuv7LyhJRFkO+/AAAAAAAA8L8AAAAAAADwP7LyhJRFkO8/4RsjhSJE7j/56eMipiTsPyPN+ZijQOk//xwKZ0qs5T/LyHdsmYDhP+uW9blgtdk/Qch0hRFszz/69SCE6yO1P/H1IITrI7W/Pch0hRFsz7/mlvW5YLXZv8jId2yZgOG//RwKZ0qs5b8izfmYo0Dpv/jp4yKmJOy/4RsjhSJE7r+y8oSURZDvvwAAAAAAAPC/AAAAAAAA8D+y8oSURZDvP+EbI4UiRO4/+enjIqYk7D8jzfmYo0DpP/8cCmdKrOU/y8h3bJmA4T/rlvW5YLXZP0HIdIURbM8/+vUghOsjtT/x9SCE6yO1vz3IdIURbM+/5pb1uWC12b/IyHdsmYDhv/0cCmdKrOW/Is35mKNA6b/46eMipiTsv+EbI4UiRO6/svKElEWQ778AAAAAAADwvwAAAAAAAPA/svKElEWQ7z/hGyOFIkTuP/np4yKmJOw/I835mKNA6T//HApnSqzlP8vId2yZgOE/65b1uWC12T9ByHSFEWzPP/r1IITrI7U/8fUghOsjtb89yHSFEWzPv+aW9blgtdm/yMh3bJmA4b/9HApnSqzlvyLN+ZijQOm/+OnjIqYk7L/hGyOFIkTuv7LyhJRFkO+/AAAAAAAA8L8AAAAAAADwP7LyhJRFkO8/4RsjhSJE7j/56eMipiTsPyPN+ZijQOk//xwKZ0qs5T/LyHdsmYDhP+uW9blgtdk/Qch0hRFszz/69SCE6yO1P/H1IITrI7W/Pch0hRFsz7/mlvW5YLXZv8jId2yZgOG//RwKZ0qs5b8izfmYo0Dpv/jp4yKmJOy/4RsjhSJE7r+y8oSURZDvvwAAAAAAAPC/AAAAAAAA8D+y8oSURZDvP+EbI4UiRO4/+enjIqYk7D8jzfmYo0DpP/8cCmdKrOU/y8h3bJmA4T/rlvW5YLXZP0HIdIURbM8/+vUghOsjtT/x9SCE6yO1vz3IdIURbM+/5pb1uWC12b/IyHdsmYDhv/0cCmdKrOW/Is35mKNA6b/46eMipiTsv+EbI4UiRO6/svKElEWQ778AAAAAAADwvwAAAAAAAPA/svKElEWQ7z/hGyOFIkTuP/np4yKmJOw/I835mKNA6T//HApnSqzlP8vId2yZgOE/65b1uWC12T9ByHSFEWzPP/r1IITrI7U/8fUghOsjtb89yHSFEWzPv+aW9blgtdm/yMh3bJmA4b/9HApnSqzlvyLN+ZijQOm/+OnjIqYk7L/hGyOFIkTuv7LyhJRFkO+/AAAAAAAA8L8AAAAAAADwP7LyhJRFkO8/4RsjhSJE7j/56eMipiTsPyPN+ZijQOk//xwKZ0qs5T/LyHdsmYDhP+uW9blgtdk/Qch0hRFszz/69SCE6yO1P/H1IITrI7W/Pch0hRFsz7/mlvW5YLXZv8jId2yZgOG//RwKZ0qs5b8izfmYo0Dpv/jp4yKmJOy/4RsjhSJE7r+y8oSURZDvvwAAAAAAAPC/AAAAAAAA8D+y8oSURZDvP+EbI4UiRO4/+enjIqYk7D8jzfmYo0DpP/8cCmdKrOU/y8h3bJmA4T/rlvW5YLXZP0HIdIURbM8/+vUghOsjtT/x9SCE6yO1vz3IdIURbM+/5pb1uWC12b/IyHdsmYDhv/0cCmdKrOW/Is35mKNA6b/46eMipiTsv+EbI4UiRO6/svKElEWQ778AAAAAAADwvwAAAAAAAPA/svKElEWQ7z/hGyOFIkTuP/np4yKmJOw/I835mKNA6T//HApnSqzlP8vId2yZgOE/65b1uWC12T9ByHSFEWzPP/r1IITrI7U/8fUghOsjtb89yHSFEWzPv+aW9blgtdm/yMh3bJmA4b/9HApnSqzlvyLN+ZijQOm/+OnjIqYk7L/hGyOFIkTuv7LyhJRFkO+/AAAAAAAA8L8AAAAAAADwP7LyhJRFkO8/4RsjhSJE7j/56eMipiTsPyPN+ZijQOk//xwKZ0qs5T/LyHdsmYDhP+uW9blgtdk/Qch0hRFszz/69SCE6yO1P/H1IITrI7W/Pch0hRFsz7/mlvW5YLXZv8jId2yZgOG//RwKZ0qs5b8izfmYo0Dpv/jp4yKmJOy/4RsjhSJE7r+y8oSURZDvvwAAAAAAAPC/AAAAAAAA8D+y8oSURZDvP+EbI4UiRO4/+enjIqYk7D8jzfmYo0DpP/8cCmdKrOU/y8h3bJmA4T/rlvW5YLXZP0HIdIURbM8/+vUghOsjtT/x9SCE6yO1vz3IdIURbM+/5pb1uWC12b/IyHdsmYDhv/0cCmdKrOW/Is35mKNA6b/46eMipiTsv+EbI4UiRO6/svKElEWQ778AAAAAAADwvwAAAAAAAPA/svKElEWQ7z/hGyOFIkTuP/np4yKmJOw/I835mKNA6T//HApnSqzlP8vId2yZgOE/65b1uWC12T9ByHSFEWzPP/r1IITrI7U/8fUghOsjtb89yHSFEWzPv+aW9blgtdm/yMh3bJmA4b/9HApnSqzlvyLN+ZijQOm/+OnjIqYk7L/hGyOFIkTuv7LyhJRFkO+/AAAAAAAA8L8AAAAAAADwP7LyhJRFkO8/4RsjhSJE7j/56eMipiTsPyPN+ZijQOk//xwKZ0qs5T/LyHdsmYDhP+uW9blgtdk/Qch0hRFszz/69SCE6yO1P/H1IITrI7W/Pch0hRFsz7/mlvW5YLXZv8jId2yZgOG//RwKZ0qs5b8izfmYo0Dpv/jp4yKmJOy/4RsjhSJE7r+y8oSURZDvvwAAAAAAAPC/AAAAAAAA8D+y8oSURZDvP+EbI4UiRO4/+enjIqYk7D8jzfmYo0DpP/8cCmdKrOU/y8h3bJmA4T/rlvW5YLXZP0HIdIURbM8/+vUghOsjtT/x9SCE6yO1vz3IdIURbM+/5pb1uWC12b/IyHdsmYDhv/0cCmdKrOW/Is35mKNA6b/46eMipiTsv+EbI4UiRO6/svKElEWQ778AAAAAAADwvw==",
          "dtype": "f8",
          "shape": "40, 20"
         }
        },
        {
         "line": {
          "color": "gray",
          "width": 3
         },
         "mode": "lines",
         "name": "Equator",
         "opacity": 0.1,
         "type": "scatter3d",
         "x": {
          "bdata": "AAAAAAAA8D+VSynBge/vP2j6BgUYvu8/Jek3u/Vr7z8jfxaOb/nuP/FJcov7Zu4/XLHeqjC17T9+NRQyxuTsP1+hBPiS9us/uvBkh4zr6j9WMpEhxsTpPzlQz6Jvg+g/tDkVSdQo5z+WUJVeWbblP0ATccl8LeQ/A6sNgtOP4j9cLKDxB9/gP1a1P3WwOd4/thLH2SiW2j+KU4hOOdfWP1tDY1G+ANM/jFrgSlktzj+Mcwt+GjrGPyLsuGvkX7w/cyCwKKhcqD/N+ijPKj+QvwzJ6KS5SbS/3kQPZF83wr9P3qvaGjfKv5OAwi7oDdG/PSGBd67u1L83i/Tn4LnYv4vJmF6Wa9y/AgAAAAAA4L/P5tyRtrnhv860DJEnYeO/hlh3f5705L/bPrV2e3Lmv11Sx9Q02ee/JuDa0Vgn6b9dHHf9jlvqv4pZi6GZdOu/wfLvCVdx7L/ZTwivwlDtvxstUkL2Ee6/V1DNmyq07r9D8kaHuDbvvwQ9tXAZme+/XjTx7ufa778HB0As4PvvvwcHQCzg+++/XjTx7ufa778EPbVwGZnvv0PyRoe4Nu+/V1DNmyq07r8cLVJC9hHuv9lPCK/CUO2/wvLvCVdx7L+JWYuhmXTrv14cd/2OW+q/JeDa0Vgn6b9eUsfUNNnnv9o+tXZ7cua/iFh3f5705L/MtAyRJ2Hjv9Hm3JG2ueG/+f//////37+IyZhelmvcvzeL9Ofgudi/QSGBd67u1L+MgMIu6A3Rv0jeq9oaN8q/3kQPZF83wr8eyeikuUm0v1T6KM8qP5C/kCCwKKhcqD8R7Lhr5F+8P3xzC34aOsY/k1rgSlktzj9bQ2NRvgDTP4ZTiE4519Y/vRLH2SiW2j9ZtT91sDneP1wsoPEH3+A/AasNgtOP4j9DE3HJfC3kP5dQlV5ZtuU/tDkVSdQo5z83UM+ib4PoP1cykSHGxOk/uvBkh4zr6j9foQT4kvbrP301FDLG5Ow/XbHeqjC17T/xSXKL+2buPyN/Fo5v+e4/Juk3u/Vr7z9o+gYFGL7vP5VLKcGB7+8/AAAAAAAA8D8=",
          "dtype": "f8"
         },
         "y": {
          "bdata": "AAAAAAAAAAADhrXMjDywP/CDAnguNMA/kayggGI5yD+aiNkBzxLQP9ofIiFb+NM/+5MNU1HJ1z+CQNqEwoHbPxlNPurYHd8/C1i7+O1M4T9GhZoMGvniPxwWPFK3keQ/ABg/lCAV5j+GGZN4xoHnP4hAIRwx1ug/lkFFlgER6j93zoZi8zDrPzKcHq/dNOw/EyzujrQb7T/B8a4NiuTtP/0jPCWPju4/3176khQZ7z8XHIGMi4PvPzTGy1KGze8/g6xao7j27z/vOc8G+P7vP2Zmsvw75u8/70I4BJ6s7z+/l/eBWVLvPwOssILL1+4/xVNiW3I97j+TIxAn7YPtP1EHwCL7q+w/qUxY6Hq26z+RVimJaaTqP5aCD4nhduk/oSg6uxkv6D+158MBZM7mP9OHZvErVuU/8XixWvXH4z8mRkW6WiXiP2ITsJELcOA/8qg+VZVT3T/agWKM2KjZP/gLinSo49U/v412/ecH0j/lKaSyIjPMP+bENsZjOcQ/3FNHxZdVuD+s23zJpD6gP8nbfMmkPqC/6lNHxZdVuL/txDbGYznEv9wppLIiM8y/wo12/ecH0r/0C4p0qOPVv92BYozYqNm/7qg+VZVT3b9jE7CRC3DgvyRGRbpaJeK/83ixWvXH47/Rh2bxK1blv7fnwwFkzua/oCg6uxkv6L+Xgg+J4Xbpv5BWKYlppOq/rExY6Hq2679SB8Ai+6vsv5MjECftg+2/xFNiW3I97r8ErLCCy9fuv7+X94FZUu+/70I4BJ6s779lZrL8O+bvv+85zwb4/u+/g6xao7j27780xstShs3vvxgcgYyLg++/3176khQZ77/9Izwlj47uv8Lxrg2K5O2/EizujrQb7b8xnB6v3TTsv3fOhmLzMOu/l0FFlgER6r+GQCEcMdbov4UZk3jGgee/ABg/lCAV5r8fFjxSt5Hkv0SFmgwa+eK/Cli7+O1M4b8bTT7q2B3fv4dA2oTCgdu/9ZMNU1HJ17/ZHyIhW/jTv52I2QHPEtC/gKyggGI5yL/ogwJ4LjTAvwSGtcyMPLC/B1wUMyamsbw=",
          "dtype": "f8"
         },
         "z": {
          "bdata": "AAAAAAAAAAAAAAAAAAAAAAAAAAAAAAAAAAAAAAAAAAAAAAAAAAAAAAAAAAAAAAAAAAAAAAAAAAAAAAAAAAAAAAAAAAAAAAAAAAAAAAAAAAAAAAAAAAAAAAAAAAAAAAAAAAAAAAAAAAAAAAAAAAAAAAAAAAAAAAAAAAAAAAAAAAAAAAAAAAAAAAAAAAAAAAAAAAAAAAAAAAAAAAAAAAAAAAAAAAAAAAAAAAAAAAAAAAAAAAAAAAAAAAAAAAAAAAAAAAAAAAAAAAAAAAAAAAAAAAAAAAAAAAAAAAAAAAAAAAAAAAAAAAAAAAAAAAAAAAAAAAAAAAAAAAAAAAAAAAAAAAAAAAAAAAAAAAAAAAAAAAAAAAAAAAAAAAAAAAAAAAAAAAAAAAAAAAAAAAAAAAAAAAAAAAAAAAAAAAAAAAAAAAAAAAAAAAAAAAAAAAAAAAAAAAAAAAAAAAAAAAAAAAAAAAAAAAAAAAAAAAAAAAAAAAAAAAAAAAAAAAAAAAAAAAAAAAAAAAAAAAAAAAAAAAAAAAAAAAAAAAAAAAAAAAAAAAAAAAAAAAAAAAAAAAAAAAAAAAAAAAAAAAAAAAAAAAAAAAAAAAAAAAAAAAAAAAAAAAAAAAAAAAAAAAAAAAAAAAAAAAAAAAAAAAAAAAAAAAAAAAAAAAAAAAAAAAAAAAAAAAAAAAAAAAAAAAAAAAAAAAAAAAAAAAAAAAAAAAAAAAAAAAAAAAAAAAAAAAAAAAAAAAAAAAAAAAAAAAAAAAAAAAAAAAAAAAAAAAAAAAAAAAAAAAAAAAAAAAAAAAAAAAAAAAAAAAAAAAAAAAAAAAAAAAAAAAAAAAAAAAAAAAAAAAAAAAAAAAAAAAAAAAAAAAAAAAAAAAAAAAAAAAAAAAAAAAAAAAAAAAAAAAAAAAAAAAAAAAAAAAAAAAAAAAAAAAAAAAAAAAAAAAAAAAAAAAAAAAAAAAAAAAAAAAAAAAAAAAAAAAAAAAAAAAAAAAAAAAAAAAAAAAAAAAAAAAAAAAAAAAAAAAAAAAAAAAAAAAAAAAAAAAAAAAAAAAAAAAAAAAAAAAA=",
          "dtype": "f8"
         }
        },
        {
         "line": {
          "color": "gray",
          "width": 3
         },
         "mode": "lines",
         "name": "x line",
         "opacity": 0.1,
         "type": "scatter3d",
         "x": [
          1,
          -1
         ],
         "y": [
          0,
          0
         ],
         "z": [
          0,
          0
         ]
        },
        {
         "line": {
          "color": "gray",
          "width": 3
         },
         "mode": "lines",
         "name": "y line",
         "opacity": 0.1,
         "type": "scatter3d",
         "x": [
          0,
          0
         ],
         "y": [
          1,
          -1
         ],
         "z": [
          0,
          0
         ]
        },
        {
         "line": {
          "color": "gray",
          "width": 3
         },
         "mode": "lines",
         "name": "z line",
         "opacity": 0.1,
         "type": "scatter3d",
         "x": [
          0,
          0
         ],
         "y": [
          0,
          0
         ],
         "z": [
          1,
          -1
         ]
        },
        {
         "mode": "text",
         "name": "|0⟩",
         "text": [
          "|0⟩"
         ],
         "textposition": "middle center",
         "type": "scatter3d",
         "x": [
          0
         ],
         "y": [
          0
         ],
         "z": [
          1
         ]
        },
        {
         "mode": "text",
         "name": "Z",
         "text": [
          "Z"
         ],
         "textposition": "middle center",
         "type": "scatter3d",
         "x": [
          0
         ],
         "y": [
          0
         ],
         "z": [
          0.8
         ]
        },
        {
         "mode": "text",
         "name": "|1⟩",
         "text": [
          "|1⟩"
         ],
         "textposition": "middle center",
         "type": "scatter3d",
         "x": [
          0
         ],
         "y": [
          0
         ],
         "z": [
          -1
         ]
        },
        {
         "mode": "text",
         "name": "|+⟩",
         "text": [
          "|+⟩"
         ],
         "textposition": "middle center",
         "type": "scatter3d",
         "x": [
          1
         ],
         "y": [
          0
         ],
         "z": [
          0
         ]
        },
        {
         "mode": "text",
         "name": "X",
         "text": [
          "X"
         ],
         "textposition": "middle center",
         "type": "scatter3d",
         "x": [
          0.8
         ],
         "y": [
          0
         ],
         "z": [
          0
         ]
        },
        {
         "mode": "text",
         "name": "|‒⟩",
         "text": [
          "|‒⟩"
         ],
         "textposition": "middle center",
         "type": "scatter3d",
         "x": [
          -1
         ],
         "y": [
          0
         ],
         "z": [
          0
         ]
        },
        {
         "mode": "text",
         "name": "|+i⟩",
         "text": [
          "|+i⟩"
         ],
         "textposition": "middle center",
         "type": "scatter3d",
         "x": [
          0
         ],
         "y": [
          1
         ],
         "z": [
          0
         ]
        },
        {
         "mode": "text",
         "name": "Y",
         "text": [
          "Y"
         ],
         "textposition": "middle center",
         "type": "scatter3d",
         "x": [
          0
         ],
         "y": [
          0.8
         ],
         "z": [
          0
         ]
        },
        {
         "mode": "text",
         "name": "|-i⟩",
         "text": [
          "|-i⟩"
         ],
         "textposition": "middle center",
         "type": "scatter3d",
         "x": [
          0
         ],
         "y": [
          -1
         ],
         "z": [
          0
         ]
        },
        {
         "marker": {
          "color": "red",
          "size": 5
         },
         "mode": "markers",
         "name": "qubit",
         "type": "scatter3d",
         "x": [
          0
         ],
         "y": [
          -1.2246467991473532e-16
         ],
         "z": [
          -1
         ]
        },
        {
         "line": {
          "color": "red",
          "width": 3
         },
         "mode": "lines",
         "name": "qubit line",
         "opacity": 0.5,
         "type": "scatter3d",
         "x": [
          0,
          0
         ],
         "y": [
          0,
          -1.2246467991473532e-16
         ],
         "z": [
          0,
          -1
         ]
        }
       ],
       "layout": {
        "scene": {
         "aspectmode": "cube",
         "camera": {
          "eye": {
           "x": 0.8,
           "y": 0.8,
           "z": 0.8
          }
         },
         "xaxis": {
          "range": [
           -1,
           1
          ],
          "showbackground": false,
          "showgrid": false,
          "visible": false
         },
         "yaxis": {
          "range": [
           -1,
           1
          ],
          "showbackground": false,
          "showgrid": false,
          "visible": false
         },
         "zaxis": {
          "range": [
           -1,
           1
          ],
          "showbackground": false,
          "showgrid": false,
          "visible": false
         }
        },
        "showlegend": false,
        "template": {
         "data": {
          "bar": [
           {
            "error_x": {
             "color": "#2a3f5f"
            },
            "error_y": {
             "color": "#2a3f5f"
            },
            "marker": {
             "line": {
              "color": "#E5ECF6",
              "width": 0.5
             },
             "pattern": {
              "fillmode": "overlay",
              "size": 10,
              "solidity": 0.2
             }
            },
            "type": "bar"
           }
          ],
          "barpolar": [
           {
            "marker": {
             "line": {
              "color": "#E5ECF6",
              "width": 0.5
             },
             "pattern": {
              "fillmode": "overlay",
              "size": 10,
              "solidity": 0.2
             }
            },
            "type": "barpolar"
           }
          ],
          "carpet": [
           {
            "aaxis": {
             "endlinecolor": "#2a3f5f",
             "gridcolor": "white",
             "linecolor": "white",
             "minorgridcolor": "white",
             "startlinecolor": "#2a3f5f"
            },
            "baxis": {
             "endlinecolor": "#2a3f5f",
             "gridcolor": "white",
             "linecolor": "white",
             "minorgridcolor": "white",
             "startlinecolor": "#2a3f5f"
            },
            "type": "carpet"
           }
          ],
          "choropleth": [
           {
            "colorbar": {
             "outlinewidth": 0,
             "ticks": ""
            },
            "type": "choropleth"
           }
          ],
          "contour": [
           {
            "colorbar": {
             "outlinewidth": 0,
             "ticks": ""
            },
            "colorscale": [
             [
              0,
              "#0d0887"
             ],
             [
              0.1111111111111111,
              "#46039f"
             ],
             [
              0.2222222222222222,
              "#7201a8"
             ],
             [
              0.3333333333333333,
              "#9c179e"
             ],
             [
              0.4444444444444444,
              "#bd3786"
             ],
             [
              0.5555555555555556,
              "#d8576b"
             ],
             [
              0.6666666666666666,
              "#ed7953"
             ],
             [
              0.7777777777777778,
              "#fb9f3a"
             ],
             [
              0.8888888888888888,
              "#fdca26"
             ],
             [
              1,
              "#f0f921"
             ]
            ],
            "type": "contour"
           }
          ],
          "contourcarpet": [
           {
            "colorbar": {
             "outlinewidth": 0,
             "ticks": ""
            },
            "type": "contourcarpet"
           }
          ],
          "heatmap": [
           {
            "colorbar": {
             "outlinewidth": 0,
             "ticks": ""
            },
            "colorscale": [
             [
              0,
              "#0d0887"
             ],
             [
              0.1111111111111111,
              "#46039f"
             ],
             [
              0.2222222222222222,
              "#7201a8"
             ],
             [
              0.3333333333333333,
              "#9c179e"
             ],
             [
              0.4444444444444444,
              "#bd3786"
             ],
             [
              0.5555555555555556,
              "#d8576b"
             ],
             [
              0.6666666666666666,
              "#ed7953"
             ],
             [
              0.7777777777777778,
              "#fb9f3a"
             ],
             [
              0.8888888888888888,
              "#fdca26"
             ],
             [
              1,
              "#f0f921"
             ]
            ],
            "type": "heatmap"
           }
          ],
          "histogram": [
           {
            "marker": {
             "pattern": {
              "fillmode": "overlay",
              "size": 10,
              "solidity": 0.2
             }
            },
            "type": "histogram"
           }
          ],
          "histogram2d": [
           {
            "colorbar": {
             "outlinewidth": 0,
             "ticks": ""
            },
            "colorscale": [
             [
              0,
              "#0d0887"
             ],
             [
              0.1111111111111111,
              "#46039f"
             ],
             [
              0.2222222222222222,
              "#7201a8"
             ],
             [
              0.3333333333333333,
              "#9c179e"
             ],
             [
              0.4444444444444444,
              "#bd3786"
             ],
             [
              0.5555555555555556,
              "#d8576b"
             ],
             [
              0.6666666666666666,
              "#ed7953"
             ],
             [
              0.7777777777777778,
              "#fb9f3a"
             ],
             [
              0.8888888888888888,
              "#fdca26"
             ],
             [
              1,
              "#f0f921"
             ]
            ],
            "type": "histogram2d"
           }
          ],
          "histogram2dcontour": [
           {
            "colorbar": {
             "outlinewidth": 0,
             "ticks": ""
            },
            "colorscale": [
             [
              0,
              "#0d0887"
             ],
             [
              0.1111111111111111,
              "#46039f"
             ],
             [
              0.2222222222222222,
              "#7201a8"
             ],
             [
              0.3333333333333333,
              "#9c179e"
             ],
             [
              0.4444444444444444,
              "#bd3786"
             ],
             [
              0.5555555555555556,
              "#d8576b"
             ],
             [
              0.6666666666666666,
              "#ed7953"
             ],
             [
              0.7777777777777778,
              "#fb9f3a"
             ],
             [
              0.8888888888888888,
              "#fdca26"
             ],
             [
              1,
              "#f0f921"
             ]
            ],
            "type": "histogram2dcontour"
           }
          ],
          "mesh3d": [
           {
            "colorbar": {
             "outlinewidth": 0,
             "ticks": ""
            },
            "type": "mesh3d"
           }
          ],
          "parcoords": [
           {
            "line": {
             "colorbar": {
              "outlinewidth": 0,
              "ticks": ""
             }
            },
            "type": "parcoords"
           }
          ],
          "pie": [
           {
            "automargin": true,
            "type": "pie"
           }
          ],
          "scatter": [
           {
            "fillpattern": {
             "fillmode": "overlay",
             "size": 10,
             "solidity": 0.2
            },
            "type": "scatter"
           }
          ],
          "scatter3d": [
           {
            "line": {
             "colorbar": {
              "outlinewidth": 0,
              "ticks": ""
             }
            },
            "marker": {
             "colorbar": {
              "outlinewidth": 0,
              "ticks": ""
             }
            },
            "type": "scatter3d"
           }
          ],
          "scattercarpet": [
           {
            "marker": {
             "colorbar": {
              "outlinewidth": 0,
              "ticks": ""
             }
            },
            "type": "scattercarpet"
           }
          ],
          "scattergeo": [
           {
            "marker": {
             "colorbar": {
              "outlinewidth": 0,
              "ticks": ""
             }
            },
            "type": "scattergeo"
           }
          ],
          "scattergl": [
           {
            "marker": {
             "colorbar": {
              "outlinewidth": 0,
              "ticks": ""
             }
            },
            "type": "scattergl"
           }
          ],
          "scattermap": [
           {
            "marker": {
             "colorbar": {
              "outlinewidth": 0,
              "ticks": ""
             }
            },
            "type": "scattermap"
           }
          ],
          "scattermapbox": [
           {
            "marker": {
             "colorbar": {
              "outlinewidth": 0,
              "ticks": ""
             }
            },
            "type": "scattermapbox"
           }
          ],
          "scatterpolar": [
           {
            "marker": {
             "colorbar": {
              "outlinewidth": 0,
              "ticks": ""
             }
            },
            "type": "scatterpolar"
           }
          ],
          "scatterpolargl": [
           {
            "marker": {
             "colorbar": {
              "outlinewidth": 0,
              "ticks": ""
             }
            },
            "type": "scatterpolargl"
           }
          ],
          "scatterternary": [
           {
            "marker": {
             "colorbar": {
              "outlinewidth": 0,
              "ticks": ""
             }
            },
            "type": "scatterternary"
           }
          ],
          "surface": [
           {
            "colorbar": {
             "outlinewidth": 0,
             "ticks": ""
            },
            "colorscale": [
             [
              0,
              "#0d0887"
             ],
             [
              0.1111111111111111,
              "#46039f"
             ],
             [
              0.2222222222222222,
              "#7201a8"
             ],
             [
              0.3333333333333333,
              "#9c179e"
             ],
             [
              0.4444444444444444,
              "#bd3786"
             ],
             [
              0.5555555555555556,
              "#d8576b"
             ],
             [
              0.6666666666666666,
              "#ed7953"
             ],
             [
              0.7777777777777778,
              "#fb9f3a"
             ],
             [
              0.8888888888888888,
              "#fdca26"
             ],
             [
              1,
              "#f0f921"
             ]
            ],
            "type": "surface"
           }
          ],
          "table": [
           {
            "cells": {
             "fill": {
              "color": "#EBF0F8"
             },
             "line": {
              "color": "white"
             }
            },
            "header": {
             "fill": {
              "color": "#C8D4E3"
             },
             "line": {
              "color": "white"
             }
            },
            "type": "table"
           }
          ]
         },
         "layout": {
          "annotationdefaults": {
           "arrowcolor": "#2a3f5f",
           "arrowhead": 0,
           "arrowwidth": 1
          },
          "autotypenumbers": "strict",
          "coloraxis": {
           "colorbar": {
            "outlinewidth": 0,
            "ticks": ""
           }
          },
          "colorscale": {
           "diverging": [
            [
             0,
             "#8e0152"
            ],
            [
             0.1,
             "#c51b7d"
            ],
            [
             0.2,
             "#de77ae"
            ],
            [
             0.3,
             "#f1b6da"
            ],
            [
             0.4,
             "#fde0ef"
            ],
            [
             0.5,
             "#f7f7f7"
            ],
            [
             0.6,
             "#e6f5d0"
            ],
            [
             0.7,
             "#b8e186"
            ],
            [
             0.8,
             "#7fbc41"
            ],
            [
             0.9,
             "#4d9221"
            ],
            [
             1,
             "#276419"
            ]
           ],
           "sequential": [
            [
             0,
             "#0d0887"
            ],
            [
             0.1111111111111111,
             "#46039f"
            ],
            [
             0.2222222222222222,
             "#7201a8"
            ],
            [
             0.3333333333333333,
             "#9c179e"
            ],
            [
             0.4444444444444444,
             "#bd3786"
            ],
            [
             0.5555555555555556,
             "#d8576b"
            ],
            [
             0.6666666666666666,
             "#ed7953"
            ],
            [
             0.7777777777777778,
             "#fb9f3a"
            ],
            [
             0.8888888888888888,
             "#fdca26"
            ],
            [
             1,
             "#f0f921"
            ]
           ],
           "sequentialminus": [
            [
             0,
             "#0d0887"
            ],
            [
             0.1111111111111111,
             "#46039f"
            ],
            [
             0.2222222222222222,
             "#7201a8"
            ],
            [
             0.3333333333333333,
             "#9c179e"
            ],
            [
             0.4444444444444444,
             "#bd3786"
            ],
            [
             0.5555555555555556,
             "#d8576b"
            ],
            [
             0.6666666666666666,
             "#ed7953"
            ],
            [
             0.7777777777777778,
             "#fb9f3a"
            ],
            [
             0.8888888888888888,
             "#fdca26"
            ],
            [
             1,
             "#f0f921"
            ]
           ]
          },
          "colorway": [
           "#636efa",
           "#EF553B",
           "#00cc96",
           "#ab63fa",
           "#FFA15A",
           "#19d3f3",
           "#FF6692",
           "#B6E880",
           "#FF97FF",
           "#FECB52"
          ],
          "font": {
           "color": "#2a3f5f"
          },
          "geo": {
           "bgcolor": "white",
           "lakecolor": "white",
           "landcolor": "#E5ECF6",
           "showlakes": true,
           "showland": true,
           "subunitcolor": "white"
          },
          "hoverlabel": {
           "align": "left"
          },
          "hovermode": "closest",
          "mapbox": {
           "style": "light"
          },
          "paper_bgcolor": "white",
          "plot_bgcolor": "#E5ECF6",
          "polar": {
           "angularaxis": {
            "gridcolor": "white",
            "linecolor": "white",
            "ticks": ""
           },
           "bgcolor": "#E5ECF6",
           "radialaxis": {
            "gridcolor": "white",
            "linecolor": "white",
            "ticks": ""
           }
          },
          "scene": {
           "xaxis": {
            "backgroundcolor": "#E5ECF6",
            "gridcolor": "white",
            "gridwidth": 2,
            "linecolor": "white",
            "showbackground": true,
            "ticks": "",
            "zerolinecolor": "white"
           },
           "yaxis": {
            "backgroundcolor": "#E5ECF6",
            "gridcolor": "white",
            "gridwidth": 2,
            "linecolor": "white",
            "showbackground": true,
            "ticks": "",
            "zerolinecolor": "white"
           },
           "zaxis": {
            "backgroundcolor": "#E5ECF6",
            "gridcolor": "white",
            "gridwidth": 2,
            "linecolor": "white",
            "showbackground": true,
            "ticks": "",
            "zerolinecolor": "white"
           }
          },
          "shapedefaults": {
           "line": {
            "color": "#2a3f5f"
           }
          },
          "ternary": {
           "aaxis": {
            "gridcolor": "white",
            "linecolor": "white",
            "ticks": ""
           },
           "baxis": {
            "gridcolor": "white",
            "linecolor": "white",
            "ticks": ""
           },
           "bgcolor": "#E5ECF6",
           "caxis": {
            "gridcolor": "white",
            "linecolor": "white",
            "ticks": ""
           }
          },
          "title": {
           "x": 0.05
          },
          "xaxis": {
           "automargin": true,
           "gridcolor": "white",
           "linecolor": "white",
           "ticks": "",
           "title": {
            "standoff": 15
           },
           "zerolinecolor": "white",
           "zerolinewidth": 2
          },
          "yaxis": {
           "automargin": true,
           "gridcolor": "white",
           "linecolor": "white",
           "ticks": "",
           "title": {
            "standoff": 15
           },
           "zerolinecolor": "white",
           "zerolinewidth": 2
          }
         }
        }
       }
      }
     },
     "metadata": {},
     "output_type": "display_data"
    }
   ],
   "source": [
    "from math import pi\n",
    "\n",
    "# Instanciando um novo do processo quântico\n",
    "processo = Process()\n",
    "\n",
    "# Alocação de um qubit\n",
    "qubits = processo.alloc()\n",
    "\n",
    "porta_H = cat(RY(pi / 2), RX(pi))\n",
    "porta_X = cat(porta_H, RZ(pi), porta_H)\n",
    "\n",
    "porta_X(qubits)\n",
    "\n",
    "dump(qubits).sphere()  # Mostra o Bloch Sphere"
   ]
  },
  {
   "cell_type": "markdown",
   "metadata": {},
   "source": [
    "### Portas de 2 Qubits  \n",
    "\n",
    "Para explorar todo o potencial da computação quântica, é necessário utilizar o **entrelaçamento** quântico, que requer o uso de **portas que operam em dois qubits**, como a {func}`~ket.gates.CNOT`. Juntas com as portas de 1 qubit apresentadas anteriormente, a porta {func}`~ket.gates.CNOT` forma um conjunto **universal de portas lógicas quânticas**. Além disso, o Ket oferece outras portas para facilitar a implementação de algoritmos quânticos, como {func}`~ket.gates.SWAP`, {func}`~ket.gates.RXX`, {func}`~ket.gates.RYY` e {func}`~ket.gates.RZZ`.  \n",
    "\n",
    "Para exemplificar o uso de portas de 2 qubits, vamos criar um **estado de Bell**:  \n",
    "\n",
    "$$\n",
    "\\frac{1}{\\sqrt{2}}(\\ket{00} + \\ket{11})\n",
    "$$\n",
    "\n",
    "Para isso, podemos utilizar a porta {func}`~ket.gates.CNOT`.  \n",
    "\n",
    "```{tip}  \n",
    "Como a geração de entrelaçamento requer dois ou mais qubits, não podemos mais usar a `dump(<qubits>).sphere()`. No entanto, podemos utilizar a função `dump(qubits).show()` para imprimir o estado quântico com a combinação linear dos estados da base computacional.  \n",
    "```  "
   ]
  },
  {
   "cell_type": "code",
   "execution_count": 29,
   "metadata": {},
   "outputs": [
    {
     "data": {
      "text/latex": [
       "$\\displaystyle \\frac{1}{\\sqrt{2}} \\left|00\\right>+\\frac{1}{\\sqrt{2}} \\left|11\\right>$"
      ],
      "text/plain": [
       "<IPython.core.display.Math object>"
      ]
     },
     "execution_count": 29,
     "metadata": {},
     "output_type": "execute_result"
    }
   ],
   "source": [
    "# Instanciando um novo  processo quântico\n",
    "p = Process()\n",
    "\n",
    "# Alocação de dois qubits\n",
    "a, b = p.alloc(2)\n",
    "\n",
    "# Aplicando a porta Hadamard em 'a' para criar superposição\n",
    "H(a)\n",
    "\n",
    "# Aplicando a porta CNOT controlada por 'a' e alvo 'b'\n",
    "# para criar o estado de Bell\n",
    "CNOT(a, b)\n",
    "\n",
    "# Imprimindo o estado do sistema\n",
    "dump(a + b).show()"
   ]
  },
  {
   "cell_type": "markdown",
   "metadata": {},
   "source": [
    "Assim como ocorre com as portas de 1 qubit, também é possível **concatenar operações** com portas de 2 qubits, como exemplificado no código abaixo, que prepara o estado de Bell:"
   ]
  },
  {
   "cell_type": "code",
   "execution_count": 30,
   "metadata": {},
   "outputs": [
    {
     "data": {
      "text/latex": [
       "$\\displaystyle \\frac{1}{\\sqrt{2}} \\left|00\\right>+\\frac{1}{\\sqrt{2}} \\left|11\\right>$"
      ],
      "text/plain": [
       "<IPython.core.display.Math object>"
      ]
     },
     "execution_count": 30,
     "metadata": {},
     "output_type": "execute_result"
    }
   ],
   "source": [
    "# Instanciando um novo processo quântico\n",
    "p = Process()\n",
    "\n",
    "# Alocação de dois qubits\n",
    "a, b = p.alloc(2)\n",
    "\n",
    "# Aplicando a porta CNOT controlada por 'a' e alvo 'b'\n",
    "# após a aplicação da porta Hadamard em 'a'\n",
    "CNOT(H(a), b)\n",
    "\n",
    "# Imprimindo o estado do sistema\n",
    "dump(a + b).show()"
   ]
  },
  {
   "cell_type": "markdown",
   "metadata": {},
   "source": [
    "#### Produto Tensorial de Portas  \n",
    "\n",
    "É possível criar **portas de múltiplos qubits** utilizando o **produto tensorial** com a função {func}`~ket.operations.kron`. Essa função aceita múltiplas portas como argumentos e gera uma nova porta lógica que opera em múltiplos qubits.  \n",
    "\n",
    "Podemos usar a função {func}`~ket.operations.kron` em conjunto com a função {func}`~ket.operations.cat` para criar uma nova porta de dois qubits que prepara um estado de Bell, como no exemplo abaixo:  "
   ]
  },
  {
   "cell_type": "code",
   "execution_count": 31,
   "metadata": {},
   "outputs": [
    {
     "data": {
      "text/latex": [
       "$\\displaystyle \\frac{1}{\\sqrt{2}} \\left|00\\right>+\\frac{1}{\\sqrt{2}} \\left|11\\right>$"
      ],
      "text/plain": [
       "<IPython.core.display.Math object>"
      ]
     },
     "execution_count": 31,
     "metadata": {},
     "output_type": "execute_result"
    }
   ],
   "source": [
    "# Instanciando um novo processo quântico\n",
    "p = Process()\n",
    "\n",
    "# Alocação de dois qubits\n",
    "a, b = p.alloc(2)\n",
    "\n",
    "# Concatenando as operações para preparar o estado de Bell\n",
    "bell = cat(kron(H, I), CNOT)\n",
    "bell(a, b)\n",
    "\n",
    "# Imprimindo o estado do sistema\n",
    "dump(a + b).show()"
   ]
  },
  {
   "cell_type": "markdown",
   "metadata": {},
   "source": [
    "Neste exemplo, a operação `kron(H, I)` cria uma porta de dois qubits, aplicando a operação Hadamard em `a` e a operação identidade em `b`. Em seguida, a operação `CNOT` é aplicada como uma operação controlada entre `a` e `b`. Isso resulta na preparação do estado de Bell nos qubits `a` e `b`.\n",
    "\n",
    "Aqui está o seu texto corrigido e aprimorado:\n",
    "\n",
    "\n",
    "Como `bell` é considerada uma nova porta lógica quântica, podemos usar a função {func}`~ket.lib.draw` para visualizar o **circuito quântico** que ela representa."
   ]
  },
  {
   "cell_type": "code",
   "execution_count": 32,
   "metadata": {},
   "outputs": [
    {
     "data": {
      "image/png": "[encoded data removed]",
      "text/plain": [
       "<Figure size 287.294x284.278 with 1 Axes>"
      ]
     },
     "execution_count": 32,
     "metadata": {},
     "output_type": "execute_result"
    }
   ],
   "source": [
    "qulib.draw(gate=bell, num_qubits=(1, 1), output=\"mpl\")"
   ]
  },
  {
   "cell_type": "markdown",
   "metadata": {},
   "source": [
    "## Instruções Quânticas\n",
    "\n",
    "Além das portas lógicas quânticas já apresentadas, o Ket oferece **instruções** que aproveitam a especificidade da computação quântica para facilitar a programação.\n",
    "\n",
    "### Operações Controladas\n",
    "\n",
    "É comum criar **portas lógicas quânticas de múltiplos qubits** adicionando **qubits de controle** a portas já existentes. No **Libket**, a biblioteca de tempo de execução do Ket, apenas portas de 1 qubit são implementadas, mas elas permitem a adição de controles. Por exemplo, podemos gerar a porta {func}`~ket.gates.CNOT` a partir da porta {func}`~ket.gates.X`. No Ket, as operações controladas são aplicadas **somente** se todos os qubits de controle estiverem no estado $\\ket{1}$.\n",
    "\n",
    "Existem duas maneiras de realizar operações controladas no Ket:  \n",
    "1. Usando a instrução `with` {func}`~ket.operations.control` para criar um **contexto controlado**.  \n",
    "2. Utilizando a função {func}`~ket.operations.ctrl` para criar uma nova porta controlada.\n",
    "\n",
    "Abaixo, apresentamos exemplos de como criar as portas **CNOT**, **Toffoli (CCNOT)**, **SWAP** e **Fredkin (CSWAP)** a partir da porta {func}`~ket.gates.X`.\n",
    "\n",
    "No Ket, qualquer função Python que aceite **qubits** como argumento e **não realize nenhuma medida ou alocação de qubits** pode ser considerada uma porta lógica quântica, o que facilita a criação de novas portas. Além disso, podemos usar a função {func}`~ket.lib.draw` para visualizar a porta gerada."
   ]
  },
  {
   "cell_type": "code",
   "execution_count": 33,
   "metadata": {},
   "outputs": [
    {
     "data": {
      "image/png": "[encoded data removed]",
      "text/plain": [
       "<Figure size 203.683x284.278 with 1 Axes>"
      ]
     },
     "execution_count": 33,
     "metadata": {},
     "output_type": "execute_result"
    }
   ],
   "source": [
    "def meu_cnot(a, b):\n",
    "    ctrl(a, X)(b)\n",
    "\n",
    "\n",
    "qulib.draw(gate=meu_cnot, num_qubits=(1, 1), output=\"mpl\")"
   ]
  },
  {
   "cell_type": "code",
   "execution_count": 34,
   "metadata": {},
   "outputs": [
    {
     "data": {
      "image/png": "[encoded data removed]",
      "text/plain": [
       "<Figure size 203.683x284.278 with 1 Axes>"
      ]
     },
     "execution_count": 34,
     "metadata": {},
     "output_type": "execute_result"
    }
   ],
   "source": [
    "def meu_cnot2(a, b):\n",
    "    with control(a):\n",
    "        X(b)\n",
    "\n",
    "\n",
    "qulib.draw(gate=meu_cnot2, num_qubits=(1, 1), output=\"mpl\")"
   ]
  },
  {
   "cell_type": "code",
   "execution_count": 35,
   "metadata": {},
   "outputs": [
    {
     "data": {
      "image/png": "[encoded data removed]",
      "text/plain": [
       "<Figure size 203.885x367.889 with 1 Axes>"
      ]
     },
     "execution_count": 35,
     "metadata": {},
     "output_type": "execute_result"
    }
   ],
   "source": [
    "def toffoli(a, b, c):\n",
    "    ctrl(a + b, X)(c)\n",
    "\n",
    "\n",
    "qulib.draw(gate=toffoli, num_qubits=(1, 1, 1), output=\"mpl\")"
   ]
  },
  {
   "cell_type": "code",
   "execution_count": 36,
   "metadata": {},
   "outputs": [
    {
     "data": {
      "image/png": "[encoded data removed]",
      "text/plain": [
       "<Figure size 203.885x367.889 with 1 Axes>"
      ]
     },
     "execution_count": 36,
     "metadata": {},
     "output_type": "execute_result"
    }
   ],
   "source": [
    "def toffoli2(a, b, c):\n",
    "    with control(a + b):\n",
    "        X(c)\n",
    "\n",
    "\n",
    "qulib.draw(gate=toffoli2, num_qubits=(1, 1, 1), output=\"mpl\")"
   ]
  },
  {
   "cell_type": "code",
   "execution_count": null,
   "metadata": {},
   "outputs": [
    {
     "data": {
      "image/png": "[encoded data removed]",
      "text/plain": [
       "<Figure size 370.906x284.278 with 1 Axes>"
      ]
     },
     "execution_count": 37,
     "metadata": {},
     "output_type": "execute_result"
    }
   ],
   "source": [
    "def meu_swap(a, b):\n",
    "    meu_cnot(a, b)\n",
    "    meu_cnot(b, a)\n",
    "    meu_cnot(a, b)\n",
    "\n",
    "\n",
    "qulib.draw(gate=meu_swap, num_qubits=(1, 1), output=\"mpl\")"
   ]
  },
  {
   "cell_type": "markdown",
   "metadata": {},
   "source": [
    "```{tip}\n",
    "Embora a implementação do `meu_swap` acima esteja correta, ela não faz uso de uma otimização introduzida com o `with` {func}`~ket.operations.around`, que veremos mais adiante neste capítulo.\n",
    "\n",
    "O impacto de não usar essa otimização pode ser observado no circuito da porta Fredkin abaixo, que não está na forma otimizada.\n",
    "```"
   ]
  },
  {
   "cell_type": "code",
   "execution_count": 38,
   "metadata": {},
   "outputs": [
    {
     "data": {
      "image/png": "[encoded data removed]",
      "text/plain": [
       "<Figure size 371.107x367.889 with 1 Axes>"
      ]
     },
     "execution_count": 38,
     "metadata": {},
     "output_type": "execute_result"
    }
   ],
   "source": [
    "def fredkin(a, b, c):\n",
    "    with control(a):\n",
    "        meu_swap(b, c)\n",
    "\n",
    "\n",
    "qulib.draw(gate=fredkin, num_qubits=(1, 1, 1), output=\"mpl\")"
   ]
  },
  {
   "cell_type": "markdown",
   "metadata": {},
   "source": [
    "### Exercício: Implementando o Estado GHZ com a Função `ctrl`\n",
    "\n",
    "Neste exercício, o objetivo é usar a função {func}`ket.operations.ctrl` para implementar uma porta quântica que prepara o estado GHZ de $n$ qubits.\n",
    "\n",
    "O estado GHZ é definido como:\n",
    "\n",
    "$$\n",
    "\\begin{aligned}\n",
    "\\ket{\\text{GHZ}} &= \\frac{1}{\\sqrt{2}}(\\ket{0}^{\\otimes n} + \\ket{1}^{\\otimes n})  \\\\\n",
    "&= \\frac{1}{\\sqrt{2}}(\\ket{0} \\otimes \\ket{0} \\otimes \\cdots \\otimes \\ket{0} + \\ket{1} \\otimes \\ket{1} \\otimes \\cdots \\otimes \\ket{1})\n",
    "\\end{aligned}\n",
    "$$\n",
    "\n",
    "Para implementar essa funcionalidade, você precisa completar a função `ghz` que recebe um objeto {class}`~ket.base.Quant` representando os qubits e realiza as operações necessárias para preparar o estado GHZ."
   ]
  },
  {
   "cell_type": "code",
   "execution_count": 14,
   "metadata": {},
   "outputs": [
    {
     "data": {
      "text/latex": [
       "$\\displaystyle  \\left|0000000000\\right>$"
      ],
      "text/plain": [
       "<IPython.core.display.Math object>"
      ]
     },
     "metadata": {},
     "output_type": "display_data"
    }
   ],
   "source": [
    "def ghz(qubits: Quant):\n",
    "    # Implemente aqui a função ghz usando a função ctrl\n",
    "    ...\n",
    "\n",
    "\n",
    "n = 10\n",
    "\n",
    "processo = Process()\n",
    "qubits = processo.alloc(n)\n",
    "\n",
    "ghz(qubits)\n",
    "\n",
    "print_state(qubits)"
   ]
  },
  {
   "cell_type": "markdown",
   "metadata": {},
   "source": [
    "\n",
    "A função {func}`~ket.operations.ctrl` recebe dois argumentos: um objeto do tipo {class}`~ket.base.Quant` com os qubits de controle (sendo possível utilizar múltiplos qubits de controle) e uma função que atua como uma porta lógica quântica. É importante ressaltar que a função {func}`~ket.operations.ctrl` não está limitada a adicionar qubits de controle apenas às portas quânticas disponíveis no módulo {mod}`~ket.gates`, mas pode adicionar qubits de controle a qualquer função. Por exemplo, podemos implementar uma porta de Bell e adicionar qubits de controle a ela como no código abaixo."
   ]
  },
  {
   "cell_type": "code",
   "execution_count": 15,
   "metadata": {},
   "outputs": [
    {
     "data": {
      "text/latex": [
       "$\\displaystyle \\frac{1}{\\sqrt{2}} \\left|000\\right>+\\frac{1}{\\sqrt{4}} \\left|100\\right>+\\frac{1}{\\sqrt{4}} \\left|111\\right>$"
      ],
      "text/plain": [
       "<IPython.core.display.Math object>"
      ]
     },
     "metadata": {},
     "output_type": "display_data"
    }
   ],
   "source": [
    "def bell(a: Quant, b: Quant) -> tuple[Quant, Quant]:\n",
    "    \"\"\"\n",
    "    Implementa a preparação do estado de Bell entre dois qubits.\n",
    "\n",
    "    Parâmetros:\n",
    "        a (Quant): O primeiro qubit.\n",
    "        b (Quant): O segundo qubit.\n",
    "\n",
    "    Retorna:\n",
    "        tuple[Quant, Quant]: Os qubits de entrada a e b.\n",
    "\n",
    "    Observação:\n",
    "        Por convenção, as portas implementadas no Ket retornam os Quants de\n",
    "        entrada para facilitar a concatenação de portas.\n",
    "        No entanto, isso não é necessário.\n",
    "    \"\"\"\n",
    "    H(a)  # Aplica a porta Hadamard ao primeiro qubit\n",
    "    CNOT(a, b)  # Aplica a porta CNOT controlada pelo primeiro qubit 'a' e alvo 'b'\n",
    "    return a, b  # Retorna os qubits de entrada 'a' e 'b'\n",
    "\n",
    "\n",
    "# Instancia um novo processo quântico\n",
    "processo = Process()\n",
    "\n",
    "# Aloca três qubits 'a', 'b' e 'c'\n",
    "a, b, c = processo.alloc(3)\n",
    "\n",
    "# Aplica uma operação controlada com o qubit 'a' e a função bell aos qubits 'b' e 'c'\n",
    "ctrl(H(a), bell)(b, c)\n",
    "\n",
    "# Imprime o estado do sistema\n",
    "print_state(a + b + c)"
   ]
  },
  {
   "cell_type": "markdown",
   "metadata": {},
   "source": [
    "### Operações Inversas\n",
    "\n",
    "Com exceção das operações de medida, toda computação quântica é reversível, ou seja, para todas as portas lógicas quânticas existe uma operação inversa correspondente. Isso é explorado em diversos algoritmos quânticos. Por exemplo, o algoritmo de estimação de fase requer uma operação de transformada de Fourier quântica inversa. No entanto, podemos implementar a transformada normalmente no Ket e usar a função {func}`~ket.operations.adj` para criar a transformada inversa. Podemos ver isso em ação no código abaixo.\n",
    "\n",
    ":::{tip}\n",
    "O código abaixo apresenta algumas operações que ainda não foram vistas neste capítulo. Não se preocupe em entender o código, o objetivo é apenas ilustrar o uso da função {func}`~ket.operations.adj`.\n",
    ":::"
   ]
  },
  {
   "cell_type": "code",
   "execution_count": 16,
   "metadata": {},
   "outputs": [
    {
     "data": {
      "text/plain": [
       "3.141632080078125"
      ]
     },
     "execution_count": 16,
     "metadata": {},
     "output_type": "execute_result"
    }
   ],
   "source": [
    "from math import pi\n",
    "\n",
    "\n",
    "def qft(qubits: Quant, invert: bool = True):\n",
    "    if len(qubits) == 1:\n",
    "        H(qubits)\n",
    "    else:\n",
    "        *head, tail = qubits\n",
    "        H(tail)\n",
    "        for i, ctrl_qubit in enumerate(reversed(head)):\n",
    "            ctrl(ctrl_qubit, PHASE(pi / 2 ** (i + 1)))(tail)\n",
    "        qft(head, invert=False)\n",
    "    if invert:\n",
    "        size = len(qubits)\n",
    "        for i in range(size // 2):\n",
    "            SWAP(qubits[i], qubits[size - i - 1])\n",
    "\n",
    "\n",
    "def estimador_de_fase(oraculo, precisão: int) -> float:\n",
    "    assert precisão <= 20, \"o tempo de computação pode ser muito grande\"\n",
    "    p = Process(simulator=\"dense\", num_qubits=precisão + 1)\n",
    "    ctr = H(p.alloc(precisão))\n",
    "    tgr = X(p.alloc())\n",
    "    for i, c in enumerate(ctr):\n",
    "        ctrl(c, oraculo)(i, tgr)\n",
    "\n",
    "    adj(qft)(ctr)  # <- chada da transformada de Fourier quântica inversa\n",
    "\n",
    "    return measure(reversed(ctr)).value / 2**precisão\n",
    "\n",
    "\n",
    "fase = pi\n",
    "\n",
    "estimador_de_fase(\n",
    "    oraculo=lambda i, tgr: PHASE(2 * pi * (fase / 10) * 2**i, tgr),\n",
    "    precisão=18,\n",
    ") * 10"
   ]
  },
  {
   "cell_type": "markdown",
   "metadata": {},
   "source": [
    "\n",
    "Para realizar operações inversas, uma abordagem alternativa é empregar a instrução `with` {func}`~ket.operations.inverse`. Esta instrução cria um contexto onde as operações são executadas na ordem usual do Python, mas as portas lógicas quânticas são aplicadas de maneira inversa no estado quântico. Abaixo está um exemplo que demonstra o uso dessa instrução. Note que é necessário fornecer o {class}`~ket.base.Process` onde as operações inversas serão aplicadas.\n"
   ]
  },
  {
   "cell_type": "code",
   "execution_count": 17,
   "metadata": {},
   "outputs": [
    {
     "name": "stdout",
     "output_type": "stream",
     "text": [
      "Estado inicial:\n"
     ]
    },
    {
     "data": {
      "text/latex": [
       "$\\displaystyle  \\left|00\\right>$"
      ],
      "text/plain": [
       "<IPython.core.display.Math object>"
      ]
     },
     "metadata": {},
     "output_type": "display_data"
    },
    {
     "name": "stdout",
     "output_type": "stream",
     "text": [
      "Estado após a preparação:\n"
     ]
    },
    {
     "data": {
      "text/latex": [
       "$\\displaystyle \\frac{1}{\\sqrt{2}} \\left|00\\right>+\\frac{1}{\\sqrt{2}} \\left|11\\right>$"
      ],
      "text/plain": [
       "<IPython.core.display.Math object>"
      ]
     },
     "metadata": {},
     "output_type": "display_data"
    },
    {
     "name": "stdout",
     "output_type": "stream",
     "text": [
      "Estado após a inversão da preparação:\n"
     ]
    },
    {
     "data": {
      "text/latex": [
       "$\\displaystyle  \\left|00\\right>$"
      ],
      "text/plain": [
       "<IPython.core.display.Math object>"
      ]
     },
     "metadata": {},
     "output_type": "display_data"
    }
   ],
   "source": [
    "processo = Process()\n",
    "\n",
    "a, b = processo.alloc(2)\n",
    "\n",
    "print(\"Estado inicial:\")\n",
    "print_state(a + b)\n",
    "\n",
    "# Prepara o estado de Bell\n",
    "H(a)\n",
    "CNOT(a, b)\n",
    "\n",
    "print(\"Estado após a preparação:\")\n",
    "print_state(a + b)\n",
    "\n",
    "# Invertendo a preparação do estado de Bell\n",
    "with inverse(processo):\n",
    "    H(a)\n",
    "    CNOT(a, b)\n",
    "\n",
    "print(\"Estado após a inversão da preparação:\")\n",
    "print_state(a + b)"
   ]
  },
  {
   "cell_type": "markdown",
   "metadata": {},
   "source": [
    "### Operações $UVU^\\dagger$\n",
    "\n",
    "Uma construção comum em algoritmos quânticos é aplicar uma operação $U$ em torno de outra operação $V$, seguida pela operação inversa $U^\\dagger$. Essa sequência de operações é representada matematicamente como $UVU^\\dagger$.\n",
    "\n",
    "Um exemplo do uso desse tipo de construção está na implementação do difusor do algoritmo de Grover. Nele, uma operação controlada é envolta por portas de Hadamard. Aqui, as portas $U$ são as portas de Hadamard, e é importante observar que a Hadamard é sua própria inversa. A porta controlada é representada pela porta $V$.\n",
    "\n",
    ":::{figure} https://cnot.io/quantum_algorithms/grover/img/fig14.png\n",
    "\n",
    "Fonte: https://cnot.io.\n",
    ":::\n",
    "\n",
    "Para viabilizar essa construção no Ket, a instrução `with` {func}`~ket.operations.around` é oferecida. No exemplo abaixo, implementamos o difusor de Grover usando essa instrução. No circuito, a porta controlada é aplicada se os qubits estiverem no estado $\\ket{0}$, o que é diferente do comportamento padrão no Ket. Portanto, aplicamos portas X para inverter o controle."
   ]
  },
  {
   "cell_type": "code",
   "execution_count": 18,
   "metadata": {},
   "outputs": [],
   "source": [
    "def difusor(qubits: Quant, auxiliar: Quant):\n",
    "    with around(cat(H, X), qubits):\n",
    "        ctrl(qubits, X)(auxiliar)"
   ]
  },
  {
   "cell_type": "markdown",
   "metadata": {},
   "source": [
    "A título de comparação, a seguir está implementado o difusor de Grover sem usar a instrução `with` {func}`~ket.operations.around`. Além da redução do número de linhas, o uso de `with` {func}`~ket.operations.around` torna o código mais legível e menos propenso a erros, proporcionando uma implementação mais eficiente."
   ]
  },
  {
   "cell_type": "code",
   "execution_count": 19,
   "metadata": {},
   "outputs": [],
   "source": [
    "def difusor(qubits: Quant, auxiliar: Quant):\n",
    "    H(qubits)\n",
    "    X(qubits)\n",
    "    ctrl(qubits, X)(auxiliar)\n",
    "    X(qubits)\n",
    "    H(qubits)"
   ]
  },
  {
   "cell_type": "markdown",
   "metadata": {},
   "source": [
    "#### Alterando o Estado de Controle\n",
    "\n",
    "Por padrão, as operações quânticas são aplicadas apenas quando os qubits de controle estão no estado $\\ket{1}$. No entanto, em certos casos, precisamos alterar esse comportamento. Para isso, podemos usar a função {func}`ket.lib.flip_to_control` em conjunto com a instrução `with` {func}`~ket.operations.around` para mudar o estado de controle de uma operação quântica. \n",
    "\n",
    "O exemplo abaixo ilustra esse uso, onde queremos aplicar operações condicionais de acordo com os dados carregados. Neste exemplo, as operações condicionais são aplicadas nos qubits `qubits` com base nos dados carregados, e em seguida o emaranhamento é removido condicionalmente de acordo com esses mesmos dados.\n"
   ]
  },
  {
   "cell_type": "code",
   "execution_count": 20,
   "metadata": {},
   "outputs": [
    {
     "name": "stdout",
     "output_type": "stream",
     "text": [
      "Dados carregados:\n"
     ]
    },
    {
     "data": {
      "text/latex": [
       "$\\displaystyle \\frac{1}{\\sqrt{4}} \\left|11\\right>\\left|00\\right>+\\frac{1}{\\sqrt{4}} \\left|22\\right>\\left|01\\right>+\\frac{1}{\\sqrt{4}} \\left|33\\right>\\left|10\\right>+\\frac{1}{\\sqrt{4}} \\left|44\\right>\\left|11\\right>$"
      ],
      "text/plain": [
       "<IPython.core.display.Math object>"
      ]
     },
     "metadata": {},
     "output_type": "display_data"
    },
    {
     "name": "stdout",
     "output_type": "stream",
     "text": [
      "Emaranhamento removido condicionalmente:\n"
     ]
    },
    {
     "data": {
      "text/latex": [
       "$\\displaystyle \\frac{1}{\\sqrt{4}} \\left|11\\right>\\left|0\\right>+\\frac{1}{\\sqrt{4}} \\left|22\\right>\\left|0\\right>+\\frac{1}{\\sqrt{4}} \\left|33\\right>\\left|0\\right>+\\frac{1}{\\sqrt{4}} \\left|44\\right>\\left|0\\right>$"
      ],
      "text/plain": [
       "<IPython.core.display.Math object>"
      ]
     },
     "metadata": {},
     "output_type": "display_data"
    }
   ],
   "source": [
    "from ket import lib\n",
    "\n",
    "processo = Process()\n",
    "\n",
    "# Aloca qubits\n",
    "qubits = processo.alloc(8)\n",
    "aux = processo.alloc(2)\n",
    "\n",
    "# Dados para processamento\n",
    "dados = [11, 22, 33, 44]\n",
    "\n",
    "# Aplica a Hadamard no registrador auxiliar\n",
    "H(aux)\n",
    "\n",
    "# Aplica as operações condicionais com base nos dados\n",
    "for i, dado in enumerate(dados):\n",
    "    with around(lib.flip_to_control(i), aux):\n",
    "        with control(aux):\n",
    "            for state, qubit in zip(f\"{dado:0{len(qubits)}b}\", qubits):\n",
    "                if state == \"1\":\n",
    "                    X(qubit)\n",
    "\n",
    "print(\"Dados carregados:\")\n",
    "print_state(qubits, aux, format=[\"int\", \"bin\"])\n",
    "\n",
    "# Remove o emaranhamento condicionalmente com base nos dados\n",
    "for i, dado in enumerate(dados):\n",
    "    with around(lib.flip_to_control(dado), qubits):\n",
    "        with control(qubits):\n",
    "            for state, qubit in zip(f\"{i:0{len(aux)}b}\", aux):\n",
    "                if state == \"1\":\n",
    "                    X(qubit)\n",
    "\n",
    "print(\"Emaranhamento removido condicionalmente:\")\n",
    "print_state(qubits, aux, format=\"int\")"
   ]
  },
  {
   "cell_type": "markdown",
   "metadata": {},
   "source": [
    "#### Exercício: Reimplementando Portas Quânticas com `around`\n",
    "\n",
    "Neste exercício, sua tarefa é utilizar a instrução `with` {func}`~ket.operations.around` para reimplementar as portas lógicas quânticas {func}`~ket.gates.RXX`, {func}`~ket.gates.RYY` e {func}`~ket.gates.RZZ`. Use como base para a reimplementação o circuito quântico de decomposição de cada porta."
   ]
  },
  {
   "cell_type": "code",
   "execution_count": 21,
   "metadata": {
    "tags": [
     "hide-input"
    ]
   },
   "outputs": [
    {
     "data": {
      "text/latex": [
       "\\text{Porta Quântica RXX}(\\theta)"
      ],
      "text/plain": [
       "<IPython.core.display.Latex object>"
      ]
     },
     "metadata": {},
     "output_type": "display_data"
    },
    {
     "data": {
      "image/png": "[encoded data removed]",
      "text/plain": [
       "<Figure size 700x200 with 1 Axes>"
      ]
     },
     "metadata": {},
     "output_type": "display_data"
    }
   ],
   "source": [
    "def plot_rxx():\n",
    "    from sympy.physics.quantum.circuitplot import CircuitPlot, CreateOneQubitGate\n",
    "    from sympy.physics.quantum.gate import CNOT, H\n",
    "    from IPython.display import display, Latex\n",
    "\n",
    "    RZ = CreateOneQubitGate(\"RZ\", \"R_Z(\\\\theta)\")\n",
    "\n",
    "    display(Latex(r\"\\text{Porta Quântica RXX}(\\theta)\"))\n",
    "    CircuitPlot(H(1) * H(0) * CNOT(1, 0) * RZ(0) * CNOT(1, 0) * H(0) * H(1), 2)\n",
    "\n",
    "\n",
    "plot_rxx()"
   ]
  },
  {
   "cell_type": "code",
   "execution_count": 22,
   "metadata": {},
   "outputs": [],
   "source": [
    "def porta_rxx(theta: float, qubits: Quant):\n",
    "    # Implemente a portas RXX(ϴ)\n",
    "    ..."
   ]
  },
  {
   "cell_type": "code",
   "execution_count": 23,
   "metadata": {
    "tags": [
     "hide-input"
    ]
   },
   "outputs": [
    {
     "data": {
      "text/latex": [
       "\\text{Porta Quântica RZZ}(\\theta)"
      ],
      "text/plain": [
       "<IPython.core.display.Latex object>"
      ]
     },
     "metadata": {},
     "output_type": "display_data"
    },
    {
     "data": {
      "image/png": "[encoded data removed]",
      "text/plain": [
       "<Figure size 700x200 with 1 Axes>"
      ]
     },
     "metadata": {},
     "output_type": "display_data"
    }
   ],
   "source": [
    "def plot_ryy():\n",
    "    from sympy.physics.quantum.circuitplot import CircuitPlot, CreateOneQubitGate\n",
    "    from sympy.physics.quantum.gate import CNOT\n",
    "    from IPython.display import display, Latex\n",
    "\n",
    "    RZ = CreateOneQubitGate(\"RZ\", \"R_Z(\\\\theta)\")\n",
    "    RX_PI_2 = CreateOneQubitGate(\"RX(π/2)\", \"R_X(\\\\frac{\\\\pi}{2})\")\n",
    "    RX_mPI_2 = CreateOneQubitGate(\"RX(-π/2)\", \"R_X(\\\\frac{-\\\\pi}{2})\")\n",
    "\n",
    "    display(Latex(r\"\\text{Porta Quântica RZZ}(\\theta)\"))\n",
    "    CircuitPlot(\n",
    "        RX_mPI_2(1)\n",
    "        * RX_mPI_2(0)\n",
    "        * CNOT(1, 0)\n",
    "        * RZ(0)\n",
    "        * CNOT(1, 0)\n",
    "        * RX_PI_2(0)\n",
    "        * RX_PI_2(1),\n",
    "        2,\n",
    "    )\n",
    "\n",
    "\n",
    "plot_ryy()"
   ]
  },
  {
   "cell_type": "code",
   "execution_count": 24,
   "metadata": {},
   "outputs": [],
   "source": [
    "def porta_ryy(theta: float, qubits: Quant):\n",
    "    # Implemente a portas RYY(ϴ)\n",
    "    ..."
   ]
  },
  {
   "cell_type": "code",
   "execution_count": 25,
   "metadata": {
    "tags": [
     "hide-input"
    ]
   },
   "outputs": [
    {
     "data": {
      "text/latex": [
       "\\text{Porta Quântica RZZ}(\\theta)"
      ],
      "text/plain": [
       "<IPython.core.display.Latex object>"
      ]
     },
     "metadata": {},
     "output_type": "display_data"
    },
    {
     "data": {
      "image/png": "[encoded data removed]",
      "text/plain": [
       "<Figure size 300x200 with 1 Axes>"
      ]
     },
     "metadata": {},
     "output_type": "display_data"
    }
   ],
   "source": [
    "def plot_rzz():\n",
    "    from sympy.physics.quantum.circuitplot import CircuitPlot, CreateOneQubitGate\n",
    "    from sympy.physics.quantum.gate import CNOT, H\n",
    "    from IPython.display import display, Latex\n",
    "\n",
    "    RZ = CreateOneQubitGate(\"RZ\", \"R_Z(\\\\theta)\")\n",
    "\n",
    "    display(Latex(r\"\\text{Porta Quântica RZZ}(\\theta)\"))\n",
    "    CircuitPlot(CNOT(1, 0) * RZ(0) * CNOT(1, 0), 2)\n",
    "\n",
    "\n",
    "plot_rzz()"
   ]
  },
  {
   "cell_type": "code",
   "execution_count": 26,
   "metadata": {},
   "outputs": [],
   "source": [
    "def porta_rzz(theta: float, qubits: Quant):\n",
    "    # Implemente a portas RZZ(ϴ)\n",
    "    ..."
   ]
  },
  {
   "cell_type": "markdown",
   "metadata": {},
   "source": [
    "## Medidas\n",
    "\n",
    "Após realizar os cálculos na computação quântica, é necessário extrair os resultados para o ambiente clássico. Isso é feito por meio de medidas nos qubits. Nesta seção, exploraremos diferentes formas de medir qubits no Ket.\n",
    "\n",
    "### Extrair o Estado Quântico\n",
    "\n",
    "Ao simularmos um computador quântico, como fazemos neste capítulo, não estamos restritos às limitações da mecânica quântica. Assim, podemos extrair todo o estado quântico do simulador para manipulá-lo dentro do Python. Para isso, utilizamos a função {func}`~ket.operations.dump`, que retorna uma instância de {class}`~ket.base.QuantumState`.\n",
    "\n",
    "Com o objeto {class}`~ket.base.QuantumState`, é possível iterar sobre o estado quântico usando o atributo {attr}`~ket.base.QuantumState.states`. Neste atributo, o estado quântico é representado por um dicionário que mapeia o estado da base, representado por um número inteiro ({class}`int`), para sua amplitude de probabilidade associada, representada por um número complexo ({class}`complex`).\n",
    "\n",
    ":::{warning}\n",
    "A extração do {class}`~ket.base.QuantumState` só é possível quando estamos em um ambiente simulado. Além disso, o {class}`~ket.base.QuantumState` não tem a capacidade de representar estados mistos. Portanto, se o {class}`~ket.base.QuantumState` representar um qubit entrelaçado com um qubit que não pertence ao mesmo {class}`~ket.base.QuantumState`, a representação não será completa.\n",
    "\n",
    "Tendo isso em mente, o uso da função {func}`~ket.operations.dump` é uma ótima maneira de testar e debugar uma execução quântica. No entanto, não é recomendado substituir uma medida por esta abordagem.\n",
    ":::\n",
    "\n",
    "Além do atributo {attr}`~ket.base.QuantumState.states`, é possível acessar o atributo {attr}`~ket.base.QuantumState.probabilities` para obter as probabilidades de medida. Também podemos utilizar o método {meth}`~ket.base.QuantumState.sample` para simular uma amostragem a partir do {class}`~ket.base.QuantumState`.\n",
    "\n",
    "Abaixo, seguem exemplos de como utilizar a função {func}`~ket.operations.dump` para extrair o estado quântico e iterar sobre ele através do atributo {attr}`~ket.base.QuantumState.states`."
   ]
  },
  {
   "cell_type": "code",
   "execution_count": 27,
   "metadata": {},
   "outputs": [
    {
     "name": "stdout",
     "output_type": "stream",
     "text": [
      "(0.7071067811865476+0j) |0⟩\n",
      "(0.7071067811865476+0j) |3⟩\n"
     ]
    }
   ],
   "source": [
    "processo = Process()\n",
    "\n",
    "qubits = processo.alloc(2)\n",
    "\n",
    "# prepara estado de Bell\n",
    "cat(kron(H, I), CNOT)(*qubits)\n",
    "\n",
    "estado_quântico = dump(qubits)\n",
    "\n",
    "for estado, amplitude in estado_quântico.states.items():\n",
    "    print(f\"{amplitude} |{estado}⟩\")"
   ]
  },
  {
   "cell_type": "markdown",
   "metadata": {},
   "source": [
    "Uma maneira alternativa de exibir o estado quântico é utilizando o método {meth}`~ket.base.QuantumState.show` da classe {class}`~ket.base.QuantumState`."
   ]
  },
  {
   "cell_type": "code",
   "execution_count": 28,
   "metadata": {},
   "outputs": [
    {
     "name": "stdout",
     "output_type": "stream",
     "text": [
      "|00⟩\t(50.00%)\n",
      " 0.707107       \t≅      1/√2\n",
      "|11⟩\t(50.00%)\n",
      " 0.707107       \t≅      1/√2\n"
     ]
    }
   ],
   "source": [
    "print(estado_quântico.show())"
   ]
  },
  {
   "cell_type": "markdown",
   "metadata": {},
   "source": [
    "### Medição de Qubits\n",
    "\n",
    "A função {func}`~ket.operations.measure` é utilizada para medir qubits na base computacional, resultando em um objeto do tipo {class}`~ket.base.Measurement`. Após a medição, o estado do qubit colapsa para o estado correspondente à medida realizada. Para extrair o resultado da medida, basta acessar o atributo {attr}`~ket.base.Measurement.value`, o qual retorna um número inteiro sem sinal. É importante observar que o qubit de índice 0 corresponde ao bit de maior magnitude no resultado final. Portanto, a medição dos qubits $\\ket{\\texttt{xyz}}$ resulta no número binário $\\texttt{0b}\\texttt{xyz}$.\n",
    "\n",
    "Abaixo está um exemplo de uso da função {func}`~ket.operations.measure`. Neste exemplo, estamos medindo o primeiro qubit após a preparação do estado de Bell e exibindo o resultado da medida."
   ]
  },
  {
   "cell_type": "code",
   "execution_count": 29,
   "metadata": {},
   "outputs": [
    {
     "name": "stdout",
     "output_type": "stream",
     "text": [
      "Estado quântico antes da medida\n"
     ]
    },
    {
     "data": {
      "text/latex": [
       "$\\displaystyle \\frac{1}{\\sqrt{2}} \\left|00\\right>+\\frac{1}{\\sqrt{2}} \\left|11\\right>$"
      ],
      "text/plain": [
       "<IPython.core.display.Math object>"
      ]
     },
     "metadata": {},
     "output_type": "display_data"
    },
    {
     "name": "stdout",
     "output_type": "stream",
     "text": [
      "Resultado da medida do primeiro qubit: 0\n",
      "Estado quântico após o colapso\n"
     ]
    },
    {
     "data": {
      "text/latex": [
       "$\\displaystyle  \\left|00\\right>$"
      ],
      "text/plain": [
       "<IPython.core.display.Math object>"
      ]
     },
     "metadata": {},
     "output_type": "display_data"
    }
   ],
   "source": [
    "processo = Process()\n",
    "\n",
    "qubits = processo.alloc(2)\n",
    "\n",
    "# Preparando o estado de Bell\n",
    "cat(kron(H, I), CNOT)(*qubits)\n",
    "\n",
    "estado_quântico = dump(qubits)\n",
    "\n",
    "print(\"Estado quântico antes da medida\")\n",
    "print_state(qubits)\n",
    "\n",
    "medida = measure(qubits[0])\n",
    "print(\"Resultado da medida do primeiro qubit:\", medida.value)\n",
    "\n",
    "print(\"Estado quântico após o colapso\")\n",
    "print_state(qubits)"
   ]
  },
  {
   "cell_type": "markdown",
   "metadata": {},
   "source": [
    "#### Exercício: Medidas em Outras Bases\n",
    "\n",
    "Os computadores quânticos normalmente realizam medidas apenas na base computacional (base Z). No entanto, aplicando algumas operações quânticas, é possível realizar medidas em outras bases. Neste exercício, exploraremos medidas nas bases X e Y.\n",
    "\n",
    "**Medidas na Base X (Hadamard):**\n",
    "\n",
    "Na base X, também conhecida como base de Hadamard, a medida de um qubit no estado $\\frac{1}{\\sqrt{2}}(\\ket{0}+\\ket{1})$ retorna 0, e a medida no estado $\\frac{1}{\\sqrt{2}}(\\ket{0}-\\ket{1})$ retorna 1. Implemente as rotações necessárias nos qubits para efetuar uma medida na base computacional usando a função {func}`~ket.operations.measure`.\n",
    "\n"
   ]
  },
  {
   "cell_type": "code",
   "execution_count": 39,
   "metadata": {},
   "outputs": [],
   "source": [
    "def medir_x(qubit: Quant) -> int: ...\n",
    "\n",
    "\n",
    "def verificar_medir_x():\n",
    "    processo = Process()\n",
    "\n",
    "    a, b = processo.alloc(2)\n",
    "    X(b)\n",
    "    H(a + b)\n",
    "\n",
    "    assert medir_x(a) == 0\n",
    "    assert medir_x(b) == 1\n",
    "    print(\"Verificação concluída com sucesso\")\n",
    "\n",
    "\n",
    "# verificar_medir_x()"
   ]
  },
  {
   "cell_type": "markdown",
   "metadata": {},
   "source": [
    "**Medidas na Base Y:**\n",
    "\n",
    "Na base Y, a medida de um qubit no estado $\\frac{1}{\\sqrt{2}}(\\ket{0}+i\\ket{1})$ retorna 0, e a medida no estado $\\frac{1}{\\sqrt{2}}(\\ket{0}-i\\ket{1})$ retorna 1. Implemente as rotações necessárias nos qubits para efetuar uma medida na base computacional usando a função {func}`~ket.operations.measure`."
   ]
  },
  {
   "cell_type": "code",
   "execution_count": 43,
   "metadata": {},
   "outputs": [],
   "source": [
    "def medir_y(qubit: Quant) -> int: ...\n",
    "\n",
    "\n",
    "def verificar_medir_y():\n",
    "    processo = Process()\n",
    "\n",
    "    a, b = processo.alloc(2)\n",
    "    X(b)\n",
    "    S(H(a + b))\n",
    "\n",
    "    assert medir_y(a) == 0\n",
    "    assert medir_y(b) == 1\n",
    "    print(\"Verificação concluída com sucesso\")\n",
    "\n",
    "\n",
    "# verificar_medir_y()"
   ]
  },
  {
   "cell_type": "markdown",
   "metadata": {},
   "source": [
    "### Amostragem de Qubits\n",
    "\n",
    "Muitos algoritmos quânticos dependem não apenas de uma medida exata, mas de uma distribuição de probabilidades. Portanto, é necessário executar várias medições em vez de apenas uma. Muitos computadores quânticos implementam esse comportamento, e o Ket oferece a função {func}`~ket.operations.sample`, que retorna uma instância de {class}`~ket.base.Samples` com os resultados das medições. Para acessar o resultado, basta ler o atributo {attr}`~ket.base.Samples.value`, que retorna um dicionário mapeando o estado medido ao número de vezes que esse estado foi observado.\n",
    "\n",
    ":::{attention}\n",
    "Nos simuladores padrão do Ket o estado quântico não é colapsado após a chamada da função {func}`~ket.operations.sample`, e os qubits permanecem disponíveis para outras operações. No entanto, esse comportamento não é garantido em computadores quânticos reais, onde os qubits normalmente se tornam indisponíveis após a medição.\n",
    ":::\n",
    "\n",
    "A seguir, apresentamos um exemplo de uso da função {func}`~ket.operations.sample`:"
   ]
  },
  {
   "cell_type": "code",
   "execution_count": 32,
   "metadata": {},
   "outputs": [
    {
     "name": "stdout",
     "output_type": "stream",
     "text": [
      "Estado quântico\n"
     ]
    },
    {
     "data": {
      "text/latex": [
       "$\\displaystyle \\frac{1}{\\sqrt{2}} \\left|0\\right>+\\frac{1}{\\sqrt{2}} \\left|3\\right>$"
      ],
      "text/plain": [
       "<IPython.core.display.Math object>"
      ]
     },
     "metadata": {},
     "output_type": "display_data"
    },
    {
     "name": "stdout",
     "output_type": "stream",
     "text": [
      "Resultado das medidas: {0: 1016, 3: 1032}\n"
     ]
    }
   ],
   "source": [
    "processo = Process()\n",
    "\n",
    "qubits = processo.alloc(2)\n",
    "\n",
    "# Preparando o estado de Bell\n",
    "cat(kron(H, I), CNOT)(*qubits)\n",
    "\n",
    "estado_quântico = dump(qubits)\n",
    "\n",
    "print(\"Estado quântico\")\n",
    "print_state(qubits, format=\"int\")\n",
    "\n",
    "medida = sample(qubits)\n",
    "print(\"Resultado das medidas:\", medida.value)"
   ]
  },
  {
   "cell_type": "markdown",
   "metadata": {},
   "source": [
    "\n",
    "### Calcular Valor Esperado\n",
    "\n",
    "## Execução Quântica e Simulação    \n",
    "\n",
    "### Modos de Execução Quântica\n",
    "\n",
    "### Configuração do Processo e dos Simuladores"
   ]
  }
 ],
 "metadata": {
  "kernelspec": {
   "display_name": "venv",
   "language": "python",
   "name": "python3"
  },
  "language_info": {
   "codemirror_mode": {
    "name": "ipython",
    "version": 3
   },
   "file_extension": ".py",
   "mimetype": "text/x-python",
   "name": "python",
   "nbconvert_exporter": "python",
   "pygments_lexer": "ipython3",
   "version": "3.10.14"
  }
 },
 "nbformat": 4,
 "nbformat_minor": 4
}

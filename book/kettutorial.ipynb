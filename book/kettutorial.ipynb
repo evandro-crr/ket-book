{
 "cells": [
  {
   "cell_type": "code",
   "execution_count": 1,
   "metadata": {
    "tags": [
     "hide-input",
     "thebe-init"
    ]
   },
   "outputs": [],
   "source": [
    "!pip install -U -q pip\n",
    "!pip install -U -q ket-lang numpy plotly matplotlib\n",
    "!pip install sympy\n",
    "\n",
    "from typing import Literal\n",
    "\n",
    "\n",
    "def bloch_sphere(qubit):\n",
    "    from ket import dump\n",
    "    import numpy as np\n",
    "    import plotly.graph_objs as go\n",
    "\n",
    "    \"\"\"Retorna a figura de uma esfera de Bloch com estado do qubit marcado na esfera.\n",
    "\n",
    "    Args:\n",
    "        qubit (ket.Quant): Estado quântico para marcar na esfera.\n",
    "\n",
    "    Returns:\n",
    "        go.Figure: Figura com a esfera de Bloch para plot.\n",
    "    \"\"\"\n",
    "\n",
    "    assert len(qubit) == 1, \"bloch_sphere só pode ser usado com um qubit\"\n",
    "\n",
    "    phi = np.linspace(0, np.pi, 20)\n",
    "    theta = np.linspace(0, 2 * np.pi, 40)\n",
    "    phi, theta = np.meshgrid(phi, theta)\n",
    "    x = np.sin(phi) * np.cos(theta)\n",
    "    y = np.sin(phi) * np.sin(theta)\n",
    "    z = np.cos(phi)\n",
    "    sphere = go.Surface(\n",
    "        x=x, y=y, z=z, showscale=False, opacity=0.02, name=\"Bloch Sphere\"\n",
    "    )\n",
    "\n",
    "    equator_theta = np.linspace(0, 2 * np.pi, 100)\n",
    "    equator_x = np.cos(equator_theta)\n",
    "    equator_y = np.sin(equator_theta)\n",
    "    equator_z = np.zeros_like(equator_theta)\n",
    "\n",
    "    equator = go.Scatter3d(\n",
    "        x=equator_x,\n",
    "        y=equator_y,\n",
    "        z=equator_z,\n",
    "        mode=\"lines\",\n",
    "        line=dict(color=\"gray\", width=3),\n",
    "        opacity=0.1,\n",
    "        name=\"Equator\",\n",
    "    )\n",
    "\n",
    "    z_line = go.Scatter3d(\n",
    "        x=[0, 0],\n",
    "        y=[0, 0],\n",
    "        z=[1, -1],\n",
    "        mode=\"lines\",\n",
    "        line=dict(color=\"gray\", width=3),\n",
    "        opacity=0.1,\n",
    "        name=\"z line\",\n",
    "    )\n",
    "\n",
    "    x_line = go.Scatter3d(\n",
    "        x=[1, -1],\n",
    "        y=[0, 0],\n",
    "        z=[0, 0],\n",
    "        mode=\"lines\",\n",
    "        line=dict(color=\"gray\", width=3),\n",
    "        opacity=0.1,\n",
    "        name=\"x line\",\n",
    "    )\n",
    "\n",
    "    y_line = go.Scatter3d(\n",
    "        x=[0, 0],\n",
    "        y=[1, -1],\n",
    "        z=[0, 0],\n",
    "        mode=\"lines\",\n",
    "        line=dict(color=\"gray\", width=3),\n",
    "        opacity=0.1,\n",
    "        name=\"y line\",\n",
    "    )\n",
    "\n",
    "    basis_points = [\n",
    "        ([0, 0, 1], \"|0⟩\"),\n",
    "        ([0, 0, -1], \"|1⟩\"),\n",
    "        ([1, 0, 0], \"|+⟩\"),\n",
    "        ([-1, 0, 0], \"|‒⟩\"),\n",
    "        ([0, 1, 0], \"|i+⟩\"),\n",
    "        ([0, -1, 0], \"|i‒⟩\"),\n",
    "    ]\n",
    "\n",
    "    basis = [\n",
    "        go.Scatter3d(\n",
    "            x=[p[0]],\n",
    "            y=[p[1]],\n",
    "            z=[p[2]],\n",
    "            mode=\"text\",\n",
    "            text=[text],\n",
    "            textposition=\"middle center\",\n",
    "            name=text,\n",
    "        )\n",
    "        for p, text in basis_points\n",
    "    ]\n",
    "\n",
    "    qubit = dump(qubit)\n",
    "\n",
    "    ket = np.array(\n",
    "        [\n",
    "            [qubit.get()[0] if 0 in qubit.get() else 0.0],\n",
    "            [qubit.get()[1] if 1 in qubit.get() else 0.0],\n",
    "        ]\n",
    "    )\n",
    "\n",
    "    bra = np.conjugate(ket.T)\n",
    "\n",
    "    X = np.array([[0, 1], [1, 0]])\n",
    "    Y = np.array([[0, -1j], [1j, 0]])\n",
    "    Z = np.array([[1, 0], [0, -1]])\n",
    "    exp_x = (bra @ X @ ket).item().real\n",
    "    exp_y = (bra @ Y @ ket).item().real\n",
    "    exp_z = (bra @ Z @ ket).item().real\n",
    "\n",
    "    qubit = go.Scatter3d(\n",
    "        x=[exp_x],\n",
    "        y=[exp_y],\n",
    "        z=[exp_z],\n",
    "        mode=\"markers\",\n",
    "        marker=dict(size=5, color=\"red\"),\n",
    "        name=\"qubit\",\n",
    "    )\n",
    "\n",
    "    line = go.Scatter3d(\n",
    "        x=[0, exp_x],\n",
    "        y=[0, exp_y],\n",
    "        z=[0, exp_z],\n",
    "        mode=\"lines\",\n",
    "        line=dict(color=\"red\", width=3),\n",
    "        opacity=0.5,\n",
    "        name=\"qubit line\",\n",
    "    )\n",
    "\n",
    "    fig = go.Figure(\n",
    "        data=[\n",
    "            sphere,\n",
    "            qubit,\n",
    "            line,\n",
    "            equator,\n",
    "            x_line,\n",
    "            y_line,\n",
    "            z_line,\n",
    "            *basis,\n",
    "        ]\n",
    "    )\n",
    "\n",
    "    fig.update_layout(\n",
    "        scene=dict(\n",
    "            xaxis=dict(\n",
    "                range=[-1, 1],\n",
    "                showgrid=False,\n",
    "                showbackground=False,\n",
    "                visible=False,\n",
    "            ),\n",
    "            yaxis=dict(\n",
    "                range=[-1, 1],\n",
    "                showgrid=False,\n",
    "                showbackground=False,\n",
    "                visible=False,\n",
    "            ),\n",
    "            zaxis=dict(\n",
    "                range=[-1, 1],\n",
    "                showgrid=False,\n",
    "                showbackground=False,\n",
    "                visible=False,\n",
    "            ),\n",
    "            aspectmode=\"cube\",\n",
    "        ),\n",
    "        showlegend=False,\n",
    "    )\n",
    "\n",
    "    return fig\n",
    "\n",
    "\n",
    "def print_state(\n",
    "    *qubits, format: list[Literal[\"int\", \"bin\"]] | Literal[\"int\", \"bin\"] | None = None\n",
    "):\n",
    "    \"\"\"\n",
    "    Imprime o estado do sistema quântico.\n",
    "\n",
    "    Args:\n",
    "        *qubits (Quant): Os qubits cujos estados serão impressos.\n",
    "        format (list[str] | str | None): O formato de impressão para cada qubit. Pode ser uma lista contendo\n",
    "            \"int\" ou \"bin\" para cada qubit, uma string \"int\" ou \"bin\" que será aplicada a todos os qubits,\n",
    "            ou None para usar o formato padrão \"bin\".\n",
    "\n",
    "    Raises:\n",
    "        AssertionError: Se o argumento `format` for uma string diferente de \"int\" ou \"bin\", ou se o tamanho da\n",
    "            lista `format` não for igual ao número de qubits.\n",
    "    \"\"\"\n",
    "    from itertools import accumulate\n",
    "    from functools import reduce\n",
    "    from operator import add\n",
    "    import ket\n",
    "    from IPython.display import Math, display\n",
    "\n",
    "    if isinstance(format, str):\n",
    "        assert format in [\"int\", \"bin\"], \"format deve ser 'int' ou 'bin'\"\n",
    "        format = [format] * len(qubits)\n",
    "    elif format is not None:\n",
    "        assert len(format) == len(qubits), \"format deve ter o mesmo tamanho que qubits\"\n",
    "        assert all(\n",
    "            f in [\"int\", \"bin\"] for f in format\n",
    "        ), \"format deve conter apenas 'int' ou 'bin'\"\n",
    "    else:\n",
    "        format = [\"bin\"] * len(qubits)\n",
    "\n",
    "    qubit_len = list(map(len, qubits))\n",
    "    split_indices = [0] + list(accumulate(qubit_len))\n",
    "\n",
    "    qubits = reduce(add, qubits)\n",
    "    qubits = ket.dump(qubits)\n",
    "    math = []\n",
    "    for state, amp in qubits.get().items():\n",
    "\n",
    "        def float_to_math(num: float, is_complex: bool) -> str | None:\n",
    "            num_str = None\n",
    "            if abs(num) > 1e-14:\n",
    "\n",
    "                sqrt_dem_float = 1 / num**2\n",
    "                sqrt_dem = round(sqrt_dem_float)\n",
    "                if abs(sqrt_dem - sqrt_dem_float) < 1e-10 and sqrt_dem != 1:\n",
    "                    num_str = f\"\\\\frac{{{'-' if num < 0.0 else ''}{'i' if is_complex else '1'}}}{{\\\\sqrt{{{sqrt_dem}}}}}\"\n",
    "                else:\n",
    "                    round_num = round(num)\n",
    "                    if abs(round_num - num) > 1e-14:\n",
    "                        num_str = str(num)\n",
    "                        if \"e\" in num_str:\n",
    "                            num_str = num_str.replace(\"e\", \"\\\\times10^{\") + \"}\"\n",
    "                    else:\n",
    "                        num_str = \"\"\n",
    "                    if is_complex:\n",
    "                        num_str += \"i\"\n",
    "            return num_str\n",
    "\n",
    "        real_str = float_to_math(amp.real, False)\n",
    "        imag_str = float_to_math(amp.imag, True)\n",
    "\n",
    "        state_str = f\"{state:0{len(qubits.qubits)}b}\"\n",
    "        state_str = [\n",
    "            f\"\\\\left|{state_str[start:end] if fmt == 'bin' else int(state_str[start:end], 2)}\\\\right>\"\n",
    "            for start, end, fmt in zip(split_indices, split_indices[1:], format)\n",
    "        ]\n",
    "        state_str = \"\".join(state_str)\n",
    "\n",
    "        if real_str is not None and imag_str is not None:\n",
    "            math.append(f\"({real_str}+{imag_str}i) {state_str}\")\n",
    "        else:\n",
    "            math.append(f\"{real_str if real_str is not None else imag_str} {state_str}\")\n",
    "\n",
    "    display(Math(\"+\".join(math).replace(\"+-\", \"-\")))"
   ]
  },
  {
   "cell_type": "markdown",
   "metadata": {},
   "source": [
    "# Programação Quântica com Ket\n",
    "\n",
    "Neste capítulo, vamos explorar a plataforma de programação quântica Ket, um projeto de código aberto que inclui a biblioteca de tempo de execução *Libket*, o simulador de computação quântica *KBW* e o pacote Python *Ket*. Este último é uma linguagem embarcada em Python que permite a programação e teste de aplicações quânticas de maneira fácil e direta.\n",
    "\n",
    ":::{admonition} Versão do Ket\n",
    ":class: note\n",
    "\n",
    "Embora o Ket esteja pronto para uso, é importante observar que ele está em desenvolvimento ativo e algumas funcionalidades podem mudar nas futuras versões. Este texto baseia-se no uso do Ket 0.7.x.\n",
    ":::\n",
    "\n",
    "## Introdução\n",
    "\n",
    "### Instalação\n",
    "\n",
    "Se você estiver executando esta página com <i class=\"fas fa-rocket\"></i> **Live Code**, a instalação do Ket ocorre automaticamente quando o ambiente de execução é carregado. Caso esteja utilizando o Notebook <i class=\"fas fa-download\"></i> baixado dessa página ou no <i class=\"fas fa-rocket\"></i> **Binder/Colab**, os comandos de instalação estão presentes na primeira célula deste notebook.\n",
    "\n",
    "Para integrar o Ket em um projeto externo, você pode instalá-lo através do PyPI com o pacote `ket-lang` usando o pip:\n",
    "\n",
    "```bash\n",
    "pip install -U pip\n",
    "pip install ket-lang\n",
    "```\n",
    "\n",
    "### Documentação \n",
    "\n",
    "A documentação completa da API do Ket está disponível em https://quantumket.org. Se surgir alguma dúvida sobre alguma função do Ket ou se você quiser conhecer as funções disponíveis, recomendamos que visite a documentação. Além disso, todas as classes, métodos e funções referenciados nesta página são vinculados com a documentação do Ket. Recomendamos que, sempre que uma nova classe, método ou função seja referenciada, você leia a documentação correspondente para obter mais informações detalhadas.\n",
    "\n",
    "### Importando o Ket\n",
    "\n",
    "A célula abaixo importa todas as funcionalidades do Ket. Isso permite que você acesse todas as funcionalidades e classes disponíveis no {mod}`ket` diretamente em seu código.\n",
    "\n",
    "\n",
    ":::{caution}\n",
    "Lembre-se de que é uma prática comum em Python importar apenas o que é necessário para evitar poluir o namespace global. No entanto, ao usar `from ket import *`, você está importando tudo, o que pode ser conveniente em alguns casos, como agora, mas também pode levar a conflitos de nome e tornar seu código menos legível. Portanto, use com cuidado e de acordo com as necessidades do seu projeto.\n",
    ":::"
   ]
  },
  {
   "cell_type": "code",
   "execution_count": 2,
   "metadata": {
    "tags": [
     "thebe-init"
    ]
   },
   "outputs": [],
   "source": [
    "from ket import *"
   ]
  },
  {
   "cell_type": "markdown",
   "metadata": {},
   "source": [
    "## Processo Quântico\n",
    "\n",
    "Todas as operações quânticas são controladas internamente por um processo quântico. Portanto, o primeiro passo para iniciar uma execução quântica é instanciar um objeto da classe {class}`~ket.base.Process`. Entre os principais aspectos de um processo está o gerenciamento de qubits e a execução quântica. Assim, esses são parâmetros usados no construtor da classe {class}`~ket.base.Process`. O construtor padrão da classe {class}`~ket.base.Process` é um bom ponto de partida. Ele cria um processo com 32 qubits usando o simulador esparsa do KBW com execução dinâmica (live execution). Veremos o significado de cada um desses parâmetros posteriormente neste capítulo.\n",
    "\n",
    "Por agora, vamos usar o construtor padrão:"
   ]
  },
  {
   "cell_type": "code",
   "execution_count": 3,
   "metadata": {},
   "outputs": [],
   "source": [
    "processo = Process()"
   ]
  },
  {
   "cell_type": "markdown",
   "metadata": {},
   "source": [
    "### Alocação de Qubits\n",
    "\n",
    "Para manipular o estado quântico, primeiro precisamos ter acesso aos qubits. Para isso, precisamos chamar o método {meth}`~ket.base.Process.alloc` da classe {class}`~ket.base.Process`. Esse método aloca um número determinado de qubits, retornando-os em uma instância da classe {class}`~ket.base.Quant`. O método {meth}`~ket.base.Process.alloc` pode ser chamado inúmeras vezes enquanto ainda houver qubits disponíveis para alocação, isso é gerenciado pelo processo quântico. Por padrão, o método {meth}`~ket.base.Process.alloc` aloca 1 qubit caso nenhum parâmetro seja passado.\n",
    "\n",
    "A classe {class}`~ket.base.Quant` funciona como uma lista de qubits, sendo as operações do Python definidas para listas também presentes para instâncias da classe {class}`~ket.base.Quant`. Por exemplo, é possível indexar qubits usando colchetes, concatenar dois quantis usando o operador de adição `+`. Abaixo temos exemplos de alocação de qubits:"
   ]
  },
  {
   "cell_type": "code",
   "execution_count": 4,
   "metadata": {},
   "outputs": [
    {
     "name": "stdout",
     "output_type": "stream",
     "text": [
      "Qubit alocado: <Ket 'Quant' [0] pid=0x7f9b2b705570>\n",
      "Par de qubits alocados: <Ket 'Quant' [1, 2] pid=0x7f9b2b705570>\n",
      "Qubits concatenados: <Ket 'Quant' [0, 1, 2] pid=0x7f9b2b705570>\n"
     ]
    }
   ],
   "source": [
    "# Instanciando um novo processo quântico\n",
    "processo = Process()\n",
    "\n",
    "# Alocação de um único qubit\n",
    "qubits = processo.alloc()\n",
    "\n",
    "# Alocação de dois qubits\n",
    "par_qubit = processo.alloc(2)\n",
    "\n",
    "# Atribuindo os qubits individualmente\n",
    "primeiro_qubit = par_qubit[0]\n",
    "segundo_qubit = par_qubit[1]\n",
    "\n",
    "# Concatenando os qubits\n",
    "qubits_concatenados = qubits + primeiro_qubit + segundo_qubit\n",
    "\n",
    "# Mostrando os qubits alocados e concatenados\n",
    "print(\"Qubit alocado:\", qubits)\n",
    "print(\"Par de qubits alocados:\", par_qubit)\n",
    "print(\"Qubits concatenados:\", qubits_concatenados)"
   ]
  },
  {
   "cell_type": "markdown",
   "metadata": {},
   "source": [
    "Ao imprimir na tela cada variável do tipo {class}`~ket.base.Quant`, podemos observar a lista com os índices dos qubits que esse objeto referencia. \n",
    "\n",
    "É importante observar também que, ao indexarmos items in um {class}`~ket.base.Quant`, mesmo que estejamos acessando apenas um qubit, sempre será retornado outro objeto do tipo {class}`~ket.base.Quant`. No Ket, os qubits estão sempre encapsulados em instâncias do tipo {class}`~ket.base.Quant`."
   ]
  },
  {
   "cell_type": "markdown",
   "metadata": {},
   "source": [
    "## Portas Lógicas Quânticas\n",
    "\n",
    "O Ket oferece um conjunto universal de portas lógicas quânticas, permitindo a descrição de qualquer computação quântica. Todas as portas implementadas no Ket podem ser encontradas no módulo {mod}`~ket.gates`. Na documentação, é possível visualizar tanto a representação matricial da porta quanto o seu efeito.\n",
    "\n",
    "### Portas de 1 Qubit\n",
    "\n",
    "As portas quânticas são aplicadas diretamente em qubits encapsulados em objetos {class}`~ket.base.Quant`. Os qubits são implementados como referências opacas no Ket, garantindo que a aplicação de portas quânticas não tenha efeito colateral no estado clássico do sistema, afetando apenas o estado quântica.\n",
    "\n",
    "As portas implementadas no Ket seguem a convenção de nomes em letras maiúsculas. Por exemplo, as portas de Pauli incluem {func}`~ket.gates.X`, {func}`~ket.gates.Y` e {func}`~ket.gates.Z`, enquanto a porta de Hadamard é representada por {func}`~ket.gates.H`.\n",
    "\n",
    "#### Portas de Pauli e de Hadamard\n",
    "\n",
    "As portas de Pauli e a porta de Hadamard são essenciais para muitos algoritmos quânticos. As portas de Pauli realizam rotações de 180º nos eixos X, Y e Z, respectivamente, [esfera de Bloch](esfera-de-bloch). No entanto, essas portas, não são suficientes para gerar superposição. Para isso podemos usar a porta de Hadamard, que leva um qubit do estado $\\ket{0/1}$ para o estado de superposição $\\frac{1}{\\sqrt{2}}(\\ket{0}\\pm\\ket{1})$.\n",
    "\n",
    ":::{tip}\n",
    "Para visualizar o efeito das portas, podemos usar a função `bloch_sphere`. Note essa função é específica deste Notebook e não faz parte do Ket.\n",
    ":::\n",
    "\n",
    "A seguir, temos um exemplo que demonstra a aplicação das portas de Pauli e de Hadamard. Recomendamos que você execute este código e experimente alterar a aplicação das portas para entender melhor seu efeito:"
   ]
  },
  {
   "cell_type": "code",
   "execution_count": 5,
   "metadata": {},
   "outputs": [
    {
     "data": {
      "application/vnd.plotly.v1+json": {
       "config": {
        "plotlyServerURL": "https://plot.ly"
       },
       "data": [
        {
         "name": "Bloch Sphere",
         "opacity": 0.02,
         "showscale": false,
         "type": "surface",
         "x": [
          [
           0,
           0.1645945902807339,
           0.32469946920468346,
           0.4759473930370735,
           0.6142127126896678,
           0.7357239106731316,
           0.8371664782625285,
           0.9157733266550574,
           0.9694002659393304,
           0.9965844930066698,
           0.9965844930066698,
           0.9694002659393304,
           0.9157733266550575,
           0.8371664782625287,
           0.7357239106731318,
           0.6142127126896679,
           0.4759473930370737,
           0.3246994692046836,
           0.16459459028073403,
           1.2246467991473532e-16
          ],
          [
           0,
           0.16246313356537806,
           0.3204946963568737,
           0.46978399929907333,
           0.6062588193758816,
           0.7261964792589068,
           0.8263253922406854,
           0.9039143025916696,
           0.9568467870966786,
           0.9836789855631047,
           0.9836789855631047,
           0.9568467870966786,
           0.9039143025916697,
           0.8263253922406855,
           0.7261964792589071,
           0.6062588193758817,
           0.4697839992990735,
           0.3204946963568739,
           0.16246313356537817,
           1.2087879447370743e-16
          ],
          [
           0,
           0.15612396702863554,
           0.3079892792215372,
           0.45145344674540533,
           0.5826031410933619,
           0.6978609404853318,
           0.7940829126085611,
           0.8686443728954891,
           0.919511479076709,
           0.9452967090962465,
           0.9452967090962465,
           0.919511479076709,
           0.8686443728954892,
           0.7940829126085612,
           0.697860940485332,
           0.582603141093362,
           0.45145344674540544,
           0.30798927922153735,
           0.15612396702863568,
           1.161622117505191e-16
          ],
          [
           0,
           0.1457412717539971,
           0.28750710153368586,
           0.42143048705861336,
           0.5438583474838702,
           0.6514511699226683,
           0.7412741026524329,
           0.8108770102192059,
           0.8583613067458042,
           0.882431744405305,
           0.882431744405305,
           0.8583613067458042,
           0.810877010219206,
           0.741274102652433,
           0.6514511699226685,
           0.5438583474838703,
           0.42143048705861347,
           0.28750710153368597,
           0.1457412717539972,
           1.0843708876019402e-16
          ],
          [
           0,
           0.13158395409529697,
           0.2595786409366422,
           0.3804926991242503,
           0.4910279083501888,
           0.588169156250559,
           0.6692666828109729,
           0.7321083589123363,
           0.7749800274466272,
           0.7967122610543294,
           0.7967122610543294,
           0.7749800274466272,
           0.7321083589123364,
           0.669266682810973,
           0.5881691562505591,
           0.49102790835018884,
           0.3804926991242505,
           0.2595786409366423,
           0.13158395409529708,
           9.790350213036125e-17
          ],
          [
           0,
           0.11401868114339879,
           0.22492722988972447,
           0.329700350146186,
           0.4254801043153275,
           0.5096538703825993,
           0.5799256074343183,
           0.6343784856684599,
           0.6715271725148565,
           0.6903583486357373,
           0.6903583486357373,
           0.6715271725148565,
           0.63437848566846,
           0.5799256074343183,
           0.5096538703825996,
           0.42548010431532757,
           0.3297003501461861,
           0.22492722988972458,
           0.11401868114339889,
           8.483426622169505e-17
          ],
          [
           0,
           0.09350038424114347,
           0.18445032173749926,
           0.2703689352829591,
           0.3489125890731124,
           0.4179388169805881,
           0.475564763446017,
           0.5202185428694533,
           0.5506821165519409,
           0.5661245176160313,
           0.5661245176160313,
           0.5506821165519409,
           0.5202185428694533,
           0.4755647634460171,
           0.4179388169805882,
           0.34891258907311246,
           0.2703689352829592,
           0.18445032173749937,
           0.09350038424114356,
           6.95678673792762e-17
          ],
          [
           0,
           0.07056047650053407,
           0.13919624713956788,
           0.20403510701416921,
           0.26330842104925195,
           0.31539936775193667,
           0.35888704188713766,
           0.3925852130683524,
           0.41557468303033346,
           0.4272283589615935,
           0.4272283589615935,
           0.41557468303033346,
           0.3925852130683525,
           0.3588870418871377,
           0.3153993677519367,
           0.26330842104925195,
           0.2040351070141693,
           0.13919624713956794,
           0.07056047650053413,
           5.2499697314053056e-17
          ],
          [
           0,
           0.045793089482273404,
           0.09033706285714538,
           0.13241687664842175,
           0.1708847032297642,
           0.2046912405701735,
           0.23291433445806886,
           0.2547841324643033,
           0.26970408350957537,
           0.2772672102227795,
           0.2772672102227795,
           0.26970408350957537,
           0.25478413246430337,
           0.2329143344580689,
           0.20469124057017354,
           0.17088470322976423,
           0.1324168766484218,
           0.09033706285714542,
           0.045793089482273446,
           3.407181266521781e-17
          ],
          [
           0,
           0.019839685500424753,
           0.0391381960985981,
           0.057369118732864384,
           0.0740351613582292,
           0.08868171777700325,
           0.1009092681108054,
           0.11038427666137432,
           0.11684828989495437,
           0.12012498638095837,
           0.12012498638095837,
           0.11684828989495437,
           0.11038427666137433,
           0.10090926811080542,
           0.08868171777700327,
           0.07403516135822921,
           0.057369118732864405,
           0.03913819609859812,
           0.01983968550042477,
           1.4761485965452956e-17
          ],
          [
           0,
           -0.006627555914577715,
           -0.013074329380554592,
           -0.019164469223262957,
           -0.024731852303603426,
           -0.029624614924228836,
           -0.03370929527532877,
           -0.03687447392489219,
           -0.03903381305036396,
           -0.04012841150937818,
           -0.04012841150937818,
           -0.03903381305036396,
           -0.036874473924892195,
           -0.03370929527532877,
           -0.029624614924228843,
           -0.02473185230360343,
           -0.019164469223262964,
           -0.013074329380554599,
           -0.00662755591457772,
           -4.9311554669653986e-18
          ],
          [
           0,
           -0.03292314711268756,
           -0.06494823659638016,
           -0.09520170749314029,
           -0.122858323981817,
           -0.1471636856600176,
           -0.16745480562051002,
           -0.18317819500577392,
           -0.19390496074119645,
           -0.19934250462010655,
           -0.19934250462010655,
           -0.19390496074119645,
           -0.18317819500577395,
           -0.16745480562051004,
           -0.14716368566001767,
           -0.12285832398181702,
           -0.09520170749314032,
           -0.06494823659638019,
           -0.03292314711268759,
           -2.4496082563006136e-17
          ],
          [
           0,
           -0.05836604609431205,
           -0.115140018600098,
           -0.16877327154610067,
           -0.21780282960340894,
           -0.26089129423873825,
           -0.2968633244600811,
           -0.32473769705508354,
           -0.34375407180242007,
           -0.35339373157097265,
           -0.35339373157097265,
           -0.34375407180242007,
           -0.3247376970550836,
           -0.2968633244600812,
           -0.26089129423873836,
           -0.21780282960340897,
           -0.16877327154610072,
           -0.11514001860009805,
           -0.0583660460943121,
           -4.342657398786498e-17
          ],
          [
           0,
           -0.0822972951403669,
           -0.16234973460234164,
           -0.23797369651853664,
           -0.3071063563448338,
           -0.3678619553365656,
           -0.4185832391312641,
           -0.4578866633275285,
           -0.48470013296966497,
           -0.4982922465033347,
           -0.4982922465033347,
           -0.48470013296966497,
           -0.45788666332752853,
           -0.41858323913126416,
           -0.36786195533656574,
           -0.30710635634483385,
           -0.23797369651853673,
           -0.16234973460234173,
           -0.08229729514036697,
           -6.123233995736764e-17
          ],
          [
           0,
           -0.10409708747106597,
           -0.20535467775677563,
           -0.30101072775297255,
           -0.3884559897724724,
           -0.46530518502016843,
           -0.529462067780604,
           -0.5791766055365858,
           -0.6130927152942584,
           -0.6302852539921319,
           -0.6302852539921319,
           -0.6130927152942584,
           -0.5791766055365859,
           -0.5294620677806041,
           -0.46530518502016854,
           -0.38845598977247253,
           -0.30101072775297266,
           -0.20535467775677574,
           -0.10409708747106605,
           -7.745222048584242e-17
          ],
          [
           0,
           -0.12320081991594793,
           -0.24304104262515694,
           -0.3562517392522649,
           -0.4597448171115447,
           -0.550697254825314,
           -0.6266281069880509,
           -0.685466177889715,
           -0.7256065183355124,
           -0.7459542044761397,
           -0.7459542044761397,
           -0.7256065183355124,
           -0.6854661778897151,
           -0.6266281069880509,
           -0.5506972548253141,
           -0.45974481711154475,
           -0.356251739252265,
           -0.24304104262515705,
           -0.12320081991594804,
           -9.166612918751292e-17
          ],
          [
           0,
           -0.1391137158394193,
           -0.2744327721531311,
           -0.4022660178353502,
           -0.5191264951802664,
           -0.6218265549984392,
           -0.7075648073771038,
           -0.7740025362943134,
           -0.8193274936954399,
           -0.8423033328959264,
           -0.8423033328959264,
           -0.8193274936954399,
           -0.7740025362943134,
           -0.7075648073771038,
           -0.6218265549984394,
           -0.5191264951802665,
           -0.4022660178353503,
           -0.2744327721531313,
           -0.13911371583941942,
           -1.0350593329322857e-16
          ],
          [
           0,
           -0.1514236395957217,
           -0.2987168370352402,
           -0.43786181785711464,
           -0.5650630697084178,
           -0.676850874027562,
           -0.7701759509217782,
           -0.8424926355737105,
           -0.8918283173415814,
           -0.9168372474352875,
           -0.9168372474352875,
           -0.8918283173415814,
           -0.8424926355737105,
           -0.7701759509217783,
           -0.6768508740275623,
           -0.5650630697084179,
           -0.4378618178571148,
           -0.2987168370352404,
           -0.1514236395957218,
           -1.126649880958142e-16
          ],
          [
           0,
           -0.15981177062567214,
           -0.31526429274686973,
           -0.4621172267946076,
           -0.5963648075450915,
           -0.7143451109527726,
           -0.8128399418923868,
           -0.8891626181327629,
           -0.9412312560244315,
           -0.9676255588585165,
           -0.9676255588585165,
           -0.9412312560244315,
           -0.889162618132763,
           -0.812839941892387,
           -0.7143451109527729,
           -0.5963648075450916,
           -0.46211722679460776,
           -0.3152642927468699,
           -0.15981177062567228,
           -1.1890607888691283e-16
          ],
          [
           0,
           -0.1640608607416775,
           -0.32364656887706705,
           -0.4744040422971282,
           -0.6122210101223642,
           -0.7333381847325245,
           -0.8344518053331546,
           -0.9128037559378055,
           -0.9662567995822742,
           -0.9933528765776246,
           -0.9933528765776246,
           -0.9662567995822742,
           -0.9128037559378056,
           -0.8344518053331547,
           -0.7333381847325248,
           -0.6122210101223643,
           -0.47440404229712835,
           -0.3236465688770672,
           -0.16406086074167764,
           -1.2206756469332921e-16
          ],
          [
           0,
           -0.16406086074167753,
           -0.3236465688770671,
           -0.47440404229712824,
           -0.6122210101223643,
           -0.7333381847325247,
           -0.8344518053331547,
           -0.9128037559378056,
           -0.9662567995822743,
           -0.9933528765776247,
           -0.9933528765776247,
           -0.9662567995822743,
           -0.9128037559378057,
           -0.8344518053331548,
           -0.7333381847325249,
           -0.6122210101223644,
           -0.4744040422971284,
           -0.3236465688770673,
           -0.16406086074167767,
           -1.2206756469332924e-16
          ],
          [
           0,
           -0.15981177062567217,
           -0.3152642927468698,
           -0.4621172267946077,
           -0.5963648075450917,
           -0.7143451109527728,
           -0.8128399418923871,
           -0.8891626181327631,
           -0.9412312560244317,
           -0.9676255588585168,
           -0.9676255588585168,
           -0.9412312560244317,
           -0.8891626181327632,
           -0.8128399418923872,
           -0.714345110952773,
           -0.5963648075450918,
           -0.46211722679460787,
           -0.31526429274686996,
           -0.1598117706256723,
           -1.1890607888691286e-16
          ],
          [
           0,
           -0.1514236395957217,
           -0.2987168370352402,
           -0.43786181785711464,
           -0.5650630697084178,
           -0.676850874027562,
           -0.7701759509217782,
           -0.8424926355737105,
           -0.8918283173415814,
           -0.9168372474352875,
           -0.9168372474352875,
           -0.8918283173415814,
           -0.8424926355737105,
           -0.7701759509217783,
           -0.6768508740275623,
           -0.5650630697084179,
           -0.4378618178571148,
           -0.2987168370352404,
           -0.1514236395957218,
           -1.126649880958142e-16
          ],
          [
           0,
           -0.13911371583941937,
           -0.2744327721531313,
           -0.4022660178353504,
           -0.5191264951802668,
           -0.6218265549984395,
           -0.7075648073771041,
           -0.7740025362943137,
           -0.8193274936954403,
           -0.8423033328959268,
           -0.8423033328959268,
           -0.8193274936954403,
           -0.7740025362943138,
           -0.7075648073771043,
           -0.6218265549984398,
           -0.5191264951802669,
           -0.40226601783535054,
           -0.2744327721531314,
           -0.1391137158394195,
           -1.0350593329322863e-16
          ],
          [
           0,
           -0.123200819915948,
           -0.24304104262515708,
           -0.3562517392522651,
           -0.45974481711154497,
           -0.5506972548253142,
           -0.6266281069880513,
           -0.6854661778897153,
           -0.7256065183355127,
           -0.7459542044761401,
           -0.7459542044761401,
           -0.7256065183355127,
           -0.6854661778897154,
           -0.6266281069880514,
           -0.5506972548253144,
           -0.459744817111545,
           -0.3562517392522652,
           -0.24304104262515722,
           -0.12320081991594811,
           -9.166612918751298e-17
          ],
          [
           0,
           -0.10409708747106605,
           -0.20535467775677582,
           -0.30101072775297283,
           -0.3884559897724728,
           -0.4653051850201688,
           -0.5294620677806045,
           -0.5791766055365863,
           -0.6130927152942588,
           -0.6302852539921324,
           -0.6302852539921324,
           -0.6130927152942588,
           -0.5791766055365863,
           -0.5294620677806046,
           -0.465305185020169,
           -0.38845598977247286,
           -0.30101072775297294,
           -0.2053546777567759,
           -0.10409708747106615,
           -7.745222048584248e-17
          ],
          [
           0,
           -0.08229729514036702,
           -0.16234973460234187,
           -0.23797369651853698,
           -0.3071063563448342,
           -0.3678619553365661,
           -0.41858323913126466,
           -0.4578866633275291,
           -0.48470013296966563,
           -0.49829224650333537,
           -0.49829224650333537,
           -0.48470013296966563,
           -0.45788666332752914,
           -0.4185832391312647,
           -0.36786195533656624,
           -0.30710635634483424,
           -0.23797369651853706,
           -0.16234973460234195,
           -0.08229729514036709,
           -6.123233995736771e-17
          ],
          [
           0,
           -0.05836604609431212,
           -0.11514001860009813,
           -0.1687732715461009,
           -0.21780282960340921,
           -0.2608912942387386,
           -0.2968633244600815,
           -0.324737697055084,
           -0.3437540718024205,
           -0.3533937315709731,
           -0.3533937315709731,
           -0.3437540718024205,
           -0.324737697055084,
           -0.29686332446008157,
           -0.2608912942387387,
           -0.21780282960340924,
           -0.16877327154610094,
           -0.1151400186000982,
           -0.05836604609431217,
           -4.3426573987865036e-17
          ],
          [
           0,
           -0.0329231471126876,
           -0.06494823659638023,
           -0.09520170749314039,
           -0.12285832398181713,
           -0.14716368566001778,
           -0.1674548056205102,
           -0.18317819500577415,
           -0.19390496074119667,
           -0.19934250462010678,
           -0.19934250462010678,
           -0.19390496074119667,
           -0.18317819500577417,
           -0.16745480562051024,
           -0.14716368566001783,
           -0.12285832398181716,
           -0.09520170749314043,
           -0.06494823659638026,
           -0.03292314711268763,
           -2.4496082563006164e-17
          ],
          [
           0,
           -0.006627555914577755,
           -0.01307432938055467,
           -0.01916446922326307,
           -0.024731852303603575,
           -0.029624614924229013,
           -0.03370929527532897,
           -0.03687447392489241,
           -0.03903381305036419,
           -0.040128411509378424,
           -0.040128411509378424,
           -0.03903381305036419,
           -0.03687447392489242,
           -0.033709295275328975,
           -0.029624614924229024,
           -0.02473185230360358,
           -0.019164469223263078,
           -0.013074329380554677,
           -0.00662755591457776,
           -4.931155466965428e-18
          ],
          [
           0,
           0.019839685500424604,
           0.03913819609859781,
           0.057369118732863954,
           0.07403516135822864,
           0.08868171777700258,
           0.10090926811080465,
           0.1103842766613735,
           0.1168482898949535,
           0.12012498638095748,
           0.12012498638095748,
           0.1168482898949535,
           0.11038427666137351,
           0.10090926811080467,
           0.08868171777700261,
           0.07403516135822866,
           0.057369118732863975,
           0.03913819609859783,
           0.01983968550042462,
           1.4761485965452845e-17
          ],
          [
           0,
           0.04579308948227329,
           0.09033706285714516,
           0.13241687664842144,
           0.1708847032297638,
           0.204691240570173,
           0.2329143344580683,
           0.2547841324643027,
           0.2697040835095747,
           0.27726721022277884,
           0.27726721022277884,
           0.2697040835095747,
           0.25478413246430276,
           0.23291433445806833,
           0.20469124057017307,
           0.17088470322976385,
           0.13241687664842147,
           0.09033706285714521,
           0.045793089482273334,
           3.4071812665217726e-17
          ],
          [
           0,
           0.070560476500534,
           0.13919624713956774,
           0.20403510701416902,
           0.2633084210492517,
           0.31539936775193633,
           0.3588870418871373,
           0.39258521306835203,
           0.41557468303033307,
           0.42722835896159306,
           0.42722835896159306,
           0.41557468303033307,
           0.3925852130683521,
           0.3588870418871374,
           0.3153993677519364,
           0.2633084210492517,
           0.20403510701416908,
           0.1391962471395678,
           0.07056047650053406,
           5.2499697314053e-17
          ],
          [
           0,
           0.09350038424114342,
           0.18445032173749917,
           0.2703689352829589,
           0.3489125890731122,
           0.4179388169805878,
           0.4755647634460167,
           0.520218542869453,
           0.5506821165519405,
           0.566124517616031,
           0.566124517616031,
           0.5506821165519405,
           0.520218542869453,
           0.47556476344601684,
           0.41793881698058793,
           0.34891258907311223,
           0.270368935282959,
           0.18445032173749926,
           0.0935003842411435,
           6.956786737927616e-17
          ],
          [
           0,
           0.11401868114339876,
           0.22492722988972438,
           0.32970035014618587,
           0.4254801043153274,
           0.5096538703825992,
           0.5799256074343181,
           0.6343784856684597,
           0.6715271725148563,
           0.6903583486357371,
           0.6903583486357371,
           0.6715271725148563,
           0.6343784856684598,
           0.5799256074343182,
           0.5096538703825993,
           0.42548010431532746,
           0.329700350146186,
           0.2249272298897245,
           0.11401868114339886,
           8.483426622169503e-17
          ],
          [
           0,
           0.13158395409529686,
           0.259578640936642,
           0.3804926991242501,
           0.4910279083501884,
           0.5881691562505585,
           0.6692666828109725,
           0.7321083589123357,
           0.7749800274466266,
           0.7967122610543288,
           0.7967122610543288,
           0.7749800274466266,
           0.7321083589123358,
           0.6692666828109726,
           0.5881691562505588,
           0.4910279083501885,
           0.3804926991242502,
           0.2595786409366421,
           0.13158395409529697,
           9.790350213036119e-17
          ],
          [
           0,
           0.14574127175399704,
           0.28750710153368575,
           0.4214304870586132,
           0.54385834748387,
           0.651451169922668,
           0.7412741026524325,
           0.8108770102192056,
           0.8583613067458039,
           0.8824317444053047,
           0.8824317444053047,
           0.8583613067458039,
           0.8108770102192057,
           0.7412741026524327,
           0.6514511699226683,
           0.5438583474838701,
           0.4214304870586133,
           0.28750710153368586,
           0.14574127175399715,
           1.0843708876019398e-16
          ],
          [
           0,
           0.1561239670286355,
           0.3079892792215371,
           0.4514534467454053,
           0.5826031410933618,
           0.6978609404853316,
           0.794082912608561,
           0.868644372895489,
           0.9195114790767089,
           0.9452967090962464,
           0.9452967090962464,
           0.9195114790767089,
           0.8686443728954891,
           0.7940829126085611,
           0.6978609404853319,
           0.5826031410933619,
           0.45145344674540544,
           0.3079892792215373,
           0.15612396702863565,
           1.1616221175051907e-16
          ],
          [
           0,
           0.16246313356537806,
           0.3204946963568737,
           0.46978399929907333,
           0.6062588193758816,
           0.7261964792589068,
           0.8263253922406854,
           0.9039143025916696,
           0.9568467870966786,
           0.9836789855631047,
           0.9836789855631047,
           0.9568467870966786,
           0.9039143025916697,
           0.8263253922406855,
           0.7261964792589071,
           0.6062588193758817,
           0.4697839992990735,
           0.3204946963568739,
           0.16246313356537817,
           1.2087879447370743e-16
          ],
          [
           0,
           0.1645945902807339,
           0.32469946920468346,
           0.4759473930370735,
           0.6142127126896678,
           0.7357239106731316,
           0.8371664782625285,
           0.9157733266550574,
           0.9694002659393304,
           0.9965844930066698,
           0.9965844930066698,
           0.9694002659393304,
           0.9157733266550575,
           0.8371664782625287,
           0.7357239106731318,
           0.6142127126896679,
           0.4759473930370737,
           0.3246994692046836,
           0.16459459028073403,
           1.2246467991473532e-16
          ]
         ],
         "y": [
          [
           0,
           0,
           0,
           0,
           0,
           0,
           0,
           0,
           0,
           0,
           0,
           0,
           0,
           0,
           0,
           0,
           0,
           0,
           0,
           0
          ],
          [
           0,
           0.02640282904919078,
           0.05208545774895815,
           0.0763473309379888,
           0.0985266479616691,
           0.11801841486875742,
           0.1342909470692725,
           0.14690037230410982,
           0.1555027383231814,
           0.15986339500618152,
           0.15986339500618152,
           0.1555027383231814,
           0.14690037230410985,
           0.13429094706927253,
           0.11801841486875746,
           0.09852664796166911,
           0.07634733093798883,
           0.052085457748958175,
           0.0264028290491908,
           1.964471616495832e-17
          ],
          [
           0,
           0.052121838694775345,
           0.10282192950145011,
           0.15071730610809098,
           0.19450150749479733,
           0.23298021478463432,
           0.2651038291492389,
           0.28999610212875754,
           0.30697803740562163,
           0.3155864120540797,
           0.3155864120540797,
           0.30697803740562163,
           0.2899961021287576,
           0.26510382914923897,
           0.2329802147846344,
           0.19450150749479736,
           0.15071730610809103,
           0.10282192950145015,
           0.05212183869477539,
           3.878064450013872e-17
          ],
          [
           0,
           0.07649092009650708,
           0.1508953672897284,
           0.22118378221815102,
           0.28543888015075025,
           0.3419079495164639,
           0.3890506613068728,
           0.42558108523621246,
           0.45050276656739835,
           0.46313590679969047,
           0.46313590679969047,
           0.45050276656739835,
           0.4255810852362125,
           0.3890506613068729,
           0.341907949516464,
           0.2854388801507503,
           0.2211837822181511,
           0.1508953672897285,
           0.07649092009650715,
           5.691217451330058e-17
          ],
          [
           0,
           0.0988789268465705,
           0.1950606943268914,
           0.28592171455125476,
           0.3689835357449422,
           0.44198044795179753,
           0.502921285695566,
           0.5501437417835053,
           0.5823597107132922,
           0.598690424833285,
           0.598690424833285,
           0.5823597107132922,
           0.5501437417835054,
           0.5029212856955662,
           0.4419804479517977,
           0.36898353574494225,
           0.28592171455125487,
           0.19506069432689152,
           0.09887892684657058,
           7.356970910115742e-17
          ],
          [
           0,
           0.1187060213300177,
           0.2341740518416552,
           0.34325442466524575,
           0.4429717115814716,
           0.5306058849468245,
           0.6037665129571378,
           0.6604579643958138,
           0.6991338442511896,
           0.7187391753413048,
           0.7187391753413048,
           0.6991338442511896,
           0.660457964395814,
           0.6037665129571379,
           0.5306058849468246,
           0.44297171158147164,
           0.34325442466524586,
           0.23417405184165535,
           0.1187060213300178,
           8.8321826867684e-17
          ],
          [
           0,
           0.1354586922144208,
           0.26722242441968863,
           0.39169702548365826,
           0.5054871527703725,
           0.605488908236173,
           0.6889745046770733,
           0.7536666726528733,
           0.7978007784610887,
           0.8201729587442986,
           0.8201729587442986,
           0.7978007784610887,
           0.7536666726528733,
           0.6889745046770734,
           0.6054889082361731,
           0.5054871527703726,
           0.39169702548365837,
           0.26722242441968874,
           0.13545869221442092,
           1.0078645571165809e-16
          ],
          [
           0,
           0.14870305412364682,
           0.2933498765707317,
           0.42999487909102246,
           0.5549107422227022,
           0.6646900868508907,
           0.7563384186275245,
           0.8273558099711071,
           0.8758050915743081,
           0.9003646933328433,
           0.9003646933328433,
           0.8758050915743081,
           0.8273558099711072,
           0.7563384186275246,
           0.6646900868508909,
           0.5549107422227023,
           0.42999487909102263,
           0.29334987657073186,
           0.14870305412364695,
           1.1064076829338897e-16
          ],
          [
           0,
           0.15809608504118994,
           0.31187972100819145,
           0.4571560911958444,
           0.5899624349326623,
           0.7066761413618048,
           0.8041135648218102,
           0.8796168664010955,
           0.9311265128549957,
           0.957237455303875,
           0.957237455303875,
           0.9311265128549957,
           0.8796168664010956,
           0.8041135648218103,
           0.706676141361805,
           0.5899624349326624,
           0.45715609119584455,
           0.3118797210081916,
           0.15809608504119008,
           1.1762954309324202e-16
          ],
          [
           0,
           0.16339451040021785,
           0.32233204449441705,
           0.4724772006717372,
           0.6097344104708716,
           0.7303596550113417,
           0.8310625920686276,
           0.9090963080327714,
           0.9623322465509867,
           0.9893182699962312,
           0.9893182699962312,
           0.9623322465509867,
           0.9090963080327715,
           0.8310625920686278,
           0.7303596550113419,
           0.6097344104708717,
           0.4724772006717374,
           0.3223320444944172,
           0.163394510400218,
           1.2157177451493547e-16
          ],
          [
           0,
           0.1644611037670665,
           0.3244361373414681,
           0.4755613988310838,
           0.6137145850566313,
           0.7351272372363558,
           0.8364875347179571,
           0.9150306328127125,
           0.9686140805511727,
           0.9957762611606562,
           0.9957762611606562,
           0.9686140805511727,
           0.9150306328127126,
           0.8364875347179572,
           0.735127237236356,
           0.6137145850566315,
           0.47556139883108395,
           0.32443613734146826,
           0.16446110376706663,
           1.2236536083540634e-16
          ],
          [
           0,
           0.16126824093379016,
           0.31813750464983503,
           0.4663288065616117,
           0.6017998742588596,
           0.7208554101615147,
           0.8202478896047718,
           0.8972661448462753,
           0.9498093186546442,
           0.9764441702182178,
           0.9764441702182178,
           0.9498093186546442,
           0.8972661448462754,
           0.8202478896047719,
           0.7208554101615149,
           0.6017998742588597,
           0.46632880656161185,
           0.3181375046498352,
           0.1612682409337903,
           1.1998974858580612e-16
          ],
          [
           0,
           0.1538986153706371,
           0.30359927769771167,
           0.44501854315344286,
           0.5742988628287095,
           0.6879138066114112,
           0.7827642550072105,
           0.8562629350405349,
           0.9064049943168346,
           0.9318226881696455,
           0.9318226881696455,
           0.9064049943168346,
           0.856262935040535,
           0.7827642550072106,
           0.6879138066114114,
           0.5742988628287096,
           0.44501854315344297,
           0.30359927769771183,
           0.15389861537063723,
           1.145064648755478e-16
          ],
          [
           0,
           0.14254309650860683,
           0.28119798892657893,
           0.4121825332350825,
           0.531923812516605,
           0.6371555968145651,
           0.7250074373721028,
           0.7930829649914648,
           0.8395252567388508,
           0.8630674879614114,
           0.8630674879614114,
           0.8395252567388508,
           0.7930829649914649,
           0.7250074373721029,
           0.6371555968145652,
           0.5319238125166051,
           0.4121825332350827,
           0.28119798892657905,
           0.14254309650860694,
           1.0605752387249069e-16
          ],
          [
           0,
           0.1274957863214463,
           0.25151381994875355,
           0.368671212215454,
           0.4757722148670403,
           0.5698953917426538,
           0.648473307937938,
           0.709362562736425,
           0.7509022559936532,
           0.771959293163464,
           0.771959293163464,
           0.7509022559936532,
           0.7093625627364251,
           0.648473307937938,
           0.569895391742654,
           0.4757722148670404,
           0.3686712122154542,
           0.25151381994875366,
           0.12749578632144642,
           9.486174871058949e-17
          ],
          [
           0,
           0.10914640223901487,
           0.215315575148385,
           0.3156115004535209,
           0.4072983667640625,
           0.4878751953768806,
           0.5551440604555331,
           0.607270042717518,
           0.6428312812490229,
           0.6608577581641384,
           0.6608577581641384,
           0.6428312812490229,
           0.607270042717518,
           0.5551440604555332,
           0.4878751953768808,
           0.4072983667640626,
           0.315611500453521,
           0.21531557514838512,
           0.10914640223901496,
           8.120910408566745e-17
          ],
          [
           0,
           0.08797018367055941,
           0.1735407700517397,
           0.2543776166129328,
           0.32827570490588115,
           0.3932192877198919,
           0.4474368734110843,
           0.48944954757650005,
           0.5181113139837744,
           0.5326403543609658,
           0.5326403543609658,
           0.5181113139837744,
           0.4894495475765001,
           0.44743687341108435,
           0.39321928771989206,
           0.3282757049058812,
           0.2543776166129329,
           0.1735407700517398,
           0.08797018367055948,
           6.545318632210576e-17
          ],
          [
           0,
           0.06451558355364734,
           0.12727135016752564,
           0.18655548612048245,
           0.24075087472592946,
           0.2883792070595441,
           0.3281413063730616,
           0.358952566249266,
           0.3799725358376946,
           0.39062784516294613,
           0.39062784516294613,
           0.3799725358376946,
           0.3589525662492661,
           0.32814130637306166,
           0.28837920705954423,
           0.2407508747259295,
           0.1865554861204825,
           0.12727135016752572,
           0.0645155835536474,
           4.800206541377804e-17
          ],
          [
           0,
           0.039390063711172284,
           0.07770566916653633,
           0.11390166653059874,
           0.14699072335119093,
           0.17607025641498053,
           0.20034705186467258,
           0.21915890200528199,
           0.23199266860380632,
           0.2384982799625705,
           0.2384982799625705,
           0.23199266860380632,
           0.219158902005282,
           0.2003470518646726,
           0.17607025641498059,
           0.14699072335119096,
           0.11390166653059879,
           0.07770566916653637,
           0.03939006371117232,
           2.930771622555806e-17
          ],
          [
           0,
           0.013244361909226048,
           0.026127452151043146,
           0.03829785360736431,
           0.04942358945232989,
           0.059201178614717985,
           0.06736391395045133,
           0.07368913731823402,
           0.07800431311321966,
           0.08019173458854482,
           0.08019173458854482,
           0.07800431311321966,
           0.07368913731823402,
           0.06736391395045134,
           0.059201178614718006,
           0.0494235894523299,
           0.038297853607364325,
           0.02612745215104316,
           0.01324436190922606,
           9.854312581730915e-18
          ],
          [
           0,
           -0.013244361909225935,
           -0.02612745215104292,
           -0.038297853607363985,
           -0.04942358945232946,
           -0.05920117861471748,
           -0.06736391395045074,
           -0.07368913731823339,
           -0.078004313113219,
           -0.08019173458854413,
           -0.08019173458854413,
           -0.078004313113219,
           -0.07368913731823339,
           -0.06736391395045076,
           -0.05920117861471749,
           -0.049423589452329476,
           -0.038297853607364,
           -0.026127452151042934,
           -0.013244361909225946,
           -9.854312581730829e-18
          ],
          [
           0,
           -0.03939006371117217,
           -0.07770566916653612,
           -0.11390166653059844,
           -0.1469907233511905,
           -0.17607025641498006,
           -0.20034705186467203,
           -0.21915890200528138,
           -0.23199266860380569,
           -0.23849827996256984,
           -0.23849827996256984,
           -0.23199266860380569,
           -0.2191589020052814,
           -0.20034705186467205,
           -0.17607025641498011,
           -0.14699072335119054,
           -0.11390166653059848,
           -0.07770566916653616,
           -0.03939006371117221,
           -2.930771622555798e-17
          ],
          [
           0,
           -0.0645155835536473,
           -0.12727135016752558,
           -0.18655548612048234,
           -0.24075087472592932,
           -0.288379207059544,
           -0.32814130637306144,
           -0.35895256624926586,
           -0.37997253583769436,
           -0.3906278451629459,
           -0.3906278451629459,
           -0.37997253583769436,
           -0.35895256624926586,
           -0.32814130637306144,
           -0.28837920705954406,
           -0.24075087472592935,
           -0.1865554861204824,
           -0.12727135016752564,
           -0.06451558355364735,
           -4.8002065413778013e-17
          ],
          [
           0,
           -0.08797018367055931,
           -0.1735407700517395,
           -0.25437761661293257,
           -0.3282757049058808,
           -0.3932192877198915,
           -0.44743687341108385,
           -0.48944954757649956,
           -0.5181113139837739,
           -0.5326403543609652,
           -0.5326403543609652,
           -0.5181113139837739,
           -0.4894495475764996,
           -0.4474368734110839,
           -0.3932192877198916,
           -0.32827570490588087,
           -0.2543776166129326,
           -0.17354077005173962,
           -0.0879701836705594,
           -6.54531863221057e-17
          ],
          [
           0,
           -0.10914640223901477,
           -0.21531557514838484,
           -0.3156115004535206,
           -0.40729836676406217,
           -0.4878751953768802,
           -0.5551440604555327,
           -0.6072700427175175,
           -0.6428312812490223,
           -0.6608577581641378,
           -0.6608577581641378,
           -0.6428312812490223,
           -0.6072700427175176,
           -0.5551440604555327,
           -0.48787519537688034,
           -0.4072983667640623,
           -0.3156115004535207,
           -0.21531557514838495,
           -0.10914640223901487,
           -8.120910408566738e-17
          ],
          [
           0,
           -0.12749578632144626,
           -0.2515138199487534,
           -0.36867121221545385,
           -0.47577221486704,
           -0.5698953917426536,
           -0.6484733079379376,
           -0.7093625627364246,
           -0.7509022559936528,
           -0.7719592931634636,
           -0.7719592931634636,
           -0.7509022559936528,
           -0.7093625627364246,
           -0.6484733079379377,
           -0.5698953917426537,
           -0.47577221486704013,
           -0.36867121221545396,
           -0.25151381994875355,
           -0.12749578632144637,
           -9.486174871058944e-17
          ],
          [
           0,
           -0.14254309650860678,
           -0.2811979889265788,
           -0.41218253323508236,
           -0.5319238125166048,
           -0.6371555968145649,
           -0.7250074373721025,
           -0.7930829649914645,
           -0.8395252567388505,
           -0.8630674879614111,
           -0.8630674879614111,
           -0.8395252567388505,
           -0.7930829649914646,
           -0.7250074373721026,
           -0.637155596814565,
           -0.5319238125166049,
           -0.4121825332350825,
           -0.28119798892657893,
           -0.1425430965086069,
           -1.0605752387249065e-16
          ],
          [
           0,
           -0.1538986153706371,
           -0.30359927769771167,
           -0.4450185431534428,
           -0.5742988628287093,
           -0.6879138066114112,
           -0.7827642550072104,
           -0.8562629350405347,
           -0.9064049943168345,
           -0.9318226881696454,
           -0.9318226881696454,
           -0.9064049943168345,
           -0.8562629350405349,
           -0.7827642550072105,
           -0.6879138066114114,
           -0.5742988628287095,
           -0.44501854315344297,
           -0.3035992776977118,
           -0.1538986153706372,
           -1.145064648755478e-16
          ],
          [
           0,
           -0.16126824093379016,
           -0.31813750464983503,
           -0.4663288065616117,
           -0.6017998742588596,
           -0.7208554101615147,
           -0.8202478896047718,
           -0.8972661448462753,
           -0.9498093186546442,
           -0.9764441702182178,
           -0.9764441702182178,
           -0.9498093186546442,
           -0.8972661448462754,
           -0.8202478896047719,
           -0.7208554101615149,
           -0.6017998742588597,
           -0.46632880656161185,
           -0.3181375046498352,
           -0.1612682409337903,
           -1.1998974858580612e-16
          ],
          [
           0,
           -0.16446110376706646,
           -0.3244361373414681,
           -0.4755613988310837,
           -0.6137145850566313,
           -0.7351272372363558,
           -0.836487534717957,
           -0.9150306328127124,
           -0.9686140805511726,
           -0.9957762611606561,
           -0.9957762611606561,
           -0.9686140805511726,
           -0.9150306328127125,
           -0.8364875347179571,
           -0.735127237236356,
           -0.6137145850566315,
           -0.4755613988310839,
           -0.32443613734146826,
           -0.1644611037670666,
           -1.2236536083540631e-16
          ],
          [
           0,
           -0.16339451040021785,
           -0.3223320444944171,
           -0.47247720067173726,
           -0.6097344104708717,
           -0.7303596550113418,
           -0.8310625920686278,
           -0.9090963080327715,
           -0.9623322465509868,
           -0.9893182699962313,
           -0.9893182699962313,
           -0.9623322465509868,
           -0.9090963080327716,
           -0.8310625920686279,
           -0.730359655011342,
           -0.6097344104708718,
           -0.47247720067173743,
           -0.32233204449441727,
           -0.163394510400218,
           -1.2157177451493547e-16
          ],
          [
           0,
           -0.15809608504118997,
           -0.3118797210081915,
           -0.4571560911958445,
           -0.5899624349326624,
           -0.7066761413618049,
           -0.8041135648218103,
           -0.8796168664010957,
           -0.9311265128549959,
           -0.9572374553038753,
           -0.9572374553038753,
           -0.9311265128549959,
           -0.8796168664010958,
           -0.8041135648218104,
           -0.7066761413618051,
           -0.5899624349326625,
           -0.45715609119584466,
           -0.31187972100819167,
           -0.1580960850411901,
           -1.1762954309324205e-16
          ],
          [
           0,
           -0.14870305412364687,
           -0.29334987657073175,
           -0.4299948790910226,
           -0.5549107422227023,
           -0.6646900868508909,
           -0.7563384186275247,
           -0.8273558099711074,
           -0.8758050915743083,
           -0.9003646933328435,
           -0.9003646933328435,
           -0.8758050915743083,
           -0.8273558099711075,
           -0.7563384186275248,
           -0.6646900868508911,
           -0.5549107422227024,
           -0.42999487909102274,
           -0.2933498765707319,
           -0.14870305412364698,
           -1.10640768293389e-16
          ],
          [
           0,
           -0.13545869221442086,
           -0.2672224244196887,
           -0.39169702548365837,
           -0.5054871527703726,
           -0.6054889082361731,
           -0.6889745046770736,
           -0.7536666726528735,
           -0.7978007784610889,
           -0.8201729587442989,
           -0.8201729587442989,
           -0.7978007784610889,
           -0.7536666726528736,
           -0.6889745046770737,
           -0.6054889082361733,
           -0.5054871527703727,
           -0.3916970254836585,
           -0.2672224244196888,
           -0.13545869221442097,
           -1.0078645571165811e-16
          ],
          [
           0,
           -0.11870602133001773,
           -0.2341740518416553,
           -0.34325442466524586,
           -0.4429717115814717,
           -0.5306058849468246,
           -0.603766512957138,
           -0.6604579643958141,
           -0.6991338442511899,
           -0.718739175341305,
           -0.718739175341305,
           -0.6991338442511899,
           -0.6604579643958141,
           -0.6037665129571381,
           -0.5306058849468247,
           -0.4429717115814718,
           -0.34325442466524597,
           -0.2341740518416554,
           -0.11870602133001784,
           -8.832182686768402e-17
          ],
          [
           0,
           -0.09887892684657063,
           -0.19506069432689166,
           -0.28592171455125515,
           -0.3689835357449427,
           -0.44198044795179814,
           -0.5029212856955667,
           -0.5501437417835061,
           -0.582359710713293,
           -0.5986904248332858,
           -0.5986904248332858,
           -0.582359710713293,
           -0.5501437417835062,
           -0.5029212856955668,
           -0.44198044795179825,
           -0.36898353574494275,
           -0.28592171455125526,
           -0.19506069432689177,
           -0.09887892684657071,
           -7.356970910115752e-17
          ],
          [
           0,
           -0.0764909200965072,
           -0.15089536728972863,
           -0.22118378221815133,
           -0.28543888015075064,
           -0.3419079495164644,
           -0.3890506613068734,
           -0.4255810852362131,
           -0.450502766567399,
           -0.46313590679969113,
           -0.46313590679969113,
           -0.450502766567399,
           -0.42558108523621313,
           -0.38905066130687344,
           -0.34190794951646447,
           -0.2854388801507507,
           -0.2211837822181514,
           -0.15089536728972872,
           -0.07649092009650726,
           -5.691217451330067e-17
          ],
          [
           0,
           -0.052121838694775435,
           -0.10282192950145029,
           -0.15071730610809125,
           -0.19450150749479767,
           -0.23298021478463474,
           -0.2651038291492394,
           -0.28999610212875804,
           -0.3069780374056222,
           -0.3155864120540803,
           -0.3155864120540803,
           -0.3069780374056222,
           -0.2899961021287581,
           -0.2651038291492394,
           -0.2329802147846348,
           -0.1945015074947977,
           -0.1507173061080913,
           -0.10282192950145033,
           -0.05212183869477548,
           -3.8780644500138786e-17
          ],
          [
           0,
           -0.02640282904919084,
           -0.05208545774895828,
           -0.07634733093798898,
           -0.09852664796166934,
           -0.1180184148687577,
           -0.13429094706927283,
           -0.14690037230411018,
           -0.15550273832318176,
           -0.1598633950061819,
           -0.1598633950061819,
           -0.15550273832318176,
           -0.1469003723041102,
           -0.13429094706927283,
           -0.11801841486875773,
           -0.09852664796166936,
           -0.07634733093798901,
           -0.0520854577489583,
           -0.026402829049190866,
           -1.9644716164958365e-17
          ],
          [
           0,
           -4.031404762885416e-17,
           -7.952843312927203e-17,
           -1.1657349028907586e-16,
           -1.5043872651820291e-16,
           -1.8020038645240475e-16,
           -2.0504664959153358e-16,
           -2.242997746465279e-16,
           -2.3743458655503876e-16,
           -2.4409280188810123e-16,
           -2.4409280188810123e-16,
           -2.3743458655503876e-16,
           -2.2429977464652795e-16,
           -2.050466495915336e-16,
           -1.8020038645240483e-16,
           -1.5043872651820294e-16,
           -1.165734902890759e-16,
           -7.952843312927208e-17,
           -4.03140476288542e-17,
           -2.999519565323715e-32
          ]
         ],
         "z": [
          [
           1,
           0.9863613034027223,
           0.9458172417006346,
           0.8794737512064891,
           0.7891405093963936,
           0.6772815716257411,
           0.546948158122427,
           0.40169542465296953,
           0.24548548714079924,
           0.0825793454723324,
           -0.08257934547233227,
           -0.24548548714079912,
           -0.40169542465296926,
           -0.5469481581224267,
           -0.6772815716257409,
           -0.7891405093963935,
           -0.879473751206489,
           -0.9458172417006346,
           -0.9863613034027223,
           -1
          ],
          [
           1,
           0.9863613034027223,
           0.9458172417006346,
           0.8794737512064891,
           0.7891405093963936,
           0.6772815716257411,
           0.546948158122427,
           0.40169542465296953,
           0.24548548714079924,
           0.0825793454723324,
           -0.08257934547233227,
           -0.24548548714079912,
           -0.40169542465296926,
           -0.5469481581224267,
           -0.6772815716257409,
           -0.7891405093963935,
           -0.879473751206489,
           -0.9458172417006346,
           -0.9863613034027223,
           -1
          ],
          [
           1,
           0.9863613034027223,
           0.9458172417006346,
           0.8794737512064891,
           0.7891405093963936,
           0.6772815716257411,
           0.546948158122427,
           0.40169542465296953,
           0.24548548714079924,
           0.0825793454723324,
           -0.08257934547233227,
           -0.24548548714079912,
           -0.40169542465296926,
           -0.5469481581224267,
           -0.6772815716257409,
           -0.7891405093963935,
           -0.879473751206489,
           -0.9458172417006346,
           -0.9863613034027223,
           -1
          ],
          [
           1,
           0.9863613034027223,
           0.9458172417006346,
           0.8794737512064891,
           0.7891405093963936,
           0.6772815716257411,
           0.546948158122427,
           0.40169542465296953,
           0.24548548714079924,
           0.0825793454723324,
           -0.08257934547233227,
           -0.24548548714079912,
           -0.40169542465296926,
           -0.5469481581224267,
           -0.6772815716257409,
           -0.7891405093963935,
           -0.879473751206489,
           -0.9458172417006346,
           -0.9863613034027223,
           -1
          ],
          [
           1,
           0.9863613034027223,
           0.9458172417006346,
           0.8794737512064891,
           0.7891405093963936,
           0.6772815716257411,
           0.546948158122427,
           0.40169542465296953,
           0.24548548714079924,
           0.0825793454723324,
           -0.08257934547233227,
           -0.24548548714079912,
           -0.40169542465296926,
           -0.5469481581224267,
           -0.6772815716257409,
           -0.7891405093963935,
           -0.879473751206489,
           -0.9458172417006346,
           -0.9863613034027223,
           -1
          ],
          [
           1,
           0.9863613034027223,
           0.9458172417006346,
           0.8794737512064891,
           0.7891405093963936,
           0.6772815716257411,
           0.546948158122427,
           0.40169542465296953,
           0.24548548714079924,
           0.0825793454723324,
           -0.08257934547233227,
           -0.24548548714079912,
           -0.40169542465296926,
           -0.5469481581224267,
           -0.6772815716257409,
           -0.7891405093963935,
           -0.879473751206489,
           -0.9458172417006346,
           -0.9863613034027223,
           -1
          ],
          [
           1,
           0.9863613034027223,
           0.9458172417006346,
           0.8794737512064891,
           0.7891405093963936,
           0.6772815716257411,
           0.546948158122427,
           0.40169542465296953,
           0.24548548714079924,
           0.0825793454723324,
           -0.08257934547233227,
           -0.24548548714079912,
           -0.40169542465296926,
           -0.5469481581224267,
           -0.6772815716257409,
           -0.7891405093963935,
           -0.879473751206489,
           -0.9458172417006346,
           -0.9863613034027223,
           -1
          ],
          [
           1,
           0.9863613034027223,
           0.9458172417006346,
           0.8794737512064891,
           0.7891405093963936,
           0.6772815716257411,
           0.546948158122427,
           0.40169542465296953,
           0.24548548714079924,
           0.0825793454723324,
           -0.08257934547233227,
           -0.24548548714079912,
           -0.40169542465296926,
           -0.5469481581224267,
           -0.6772815716257409,
           -0.7891405093963935,
           -0.879473751206489,
           -0.9458172417006346,
           -0.9863613034027223,
           -1
          ],
          [
           1,
           0.9863613034027223,
           0.9458172417006346,
           0.8794737512064891,
           0.7891405093963936,
           0.6772815716257411,
           0.546948158122427,
           0.40169542465296953,
           0.24548548714079924,
           0.0825793454723324,
           -0.08257934547233227,
           -0.24548548714079912,
           -0.40169542465296926,
           -0.5469481581224267,
           -0.6772815716257409,
           -0.7891405093963935,
           -0.879473751206489,
           -0.9458172417006346,
           -0.9863613034027223,
           -1
          ],
          [
           1,
           0.9863613034027223,
           0.9458172417006346,
           0.8794737512064891,
           0.7891405093963936,
           0.6772815716257411,
           0.546948158122427,
           0.40169542465296953,
           0.24548548714079924,
           0.0825793454723324,
           -0.08257934547233227,
           -0.24548548714079912,
           -0.40169542465296926,
           -0.5469481581224267,
           -0.6772815716257409,
           -0.7891405093963935,
           -0.879473751206489,
           -0.9458172417006346,
           -0.9863613034027223,
           -1
          ],
          [
           1,
           0.9863613034027223,
           0.9458172417006346,
           0.8794737512064891,
           0.7891405093963936,
           0.6772815716257411,
           0.546948158122427,
           0.40169542465296953,
           0.24548548714079924,
           0.0825793454723324,
           -0.08257934547233227,
           -0.24548548714079912,
           -0.40169542465296926,
           -0.5469481581224267,
           -0.6772815716257409,
           -0.7891405093963935,
           -0.879473751206489,
           -0.9458172417006346,
           -0.9863613034027223,
           -1
          ],
          [
           1,
           0.9863613034027223,
           0.9458172417006346,
           0.8794737512064891,
           0.7891405093963936,
           0.6772815716257411,
           0.546948158122427,
           0.40169542465296953,
           0.24548548714079924,
           0.0825793454723324,
           -0.08257934547233227,
           -0.24548548714079912,
           -0.40169542465296926,
           -0.5469481581224267,
           -0.6772815716257409,
           -0.7891405093963935,
           -0.879473751206489,
           -0.9458172417006346,
           -0.9863613034027223,
           -1
          ],
          [
           1,
           0.9863613034027223,
           0.9458172417006346,
           0.8794737512064891,
           0.7891405093963936,
           0.6772815716257411,
           0.546948158122427,
           0.40169542465296953,
           0.24548548714079924,
           0.0825793454723324,
           -0.08257934547233227,
           -0.24548548714079912,
           -0.40169542465296926,
           -0.5469481581224267,
           -0.6772815716257409,
           -0.7891405093963935,
           -0.879473751206489,
           -0.9458172417006346,
           -0.9863613034027223,
           -1
          ],
          [
           1,
           0.9863613034027223,
           0.9458172417006346,
           0.8794737512064891,
           0.7891405093963936,
           0.6772815716257411,
           0.546948158122427,
           0.40169542465296953,
           0.24548548714079924,
           0.0825793454723324,
           -0.08257934547233227,
           -0.24548548714079912,
           -0.40169542465296926,
           -0.5469481581224267,
           -0.6772815716257409,
           -0.7891405093963935,
           -0.879473751206489,
           -0.9458172417006346,
           -0.9863613034027223,
           -1
          ],
          [
           1,
           0.9863613034027223,
           0.9458172417006346,
           0.8794737512064891,
           0.7891405093963936,
           0.6772815716257411,
           0.546948158122427,
           0.40169542465296953,
           0.24548548714079924,
           0.0825793454723324,
           -0.08257934547233227,
           -0.24548548714079912,
           -0.40169542465296926,
           -0.5469481581224267,
           -0.6772815716257409,
           -0.7891405093963935,
           -0.879473751206489,
           -0.9458172417006346,
           -0.9863613034027223,
           -1
          ],
          [
           1,
           0.9863613034027223,
           0.9458172417006346,
           0.8794737512064891,
           0.7891405093963936,
           0.6772815716257411,
           0.546948158122427,
           0.40169542465296953,
           0.24548548714079924,
           0.0825793454723324,
           -0.08257934547233227,
           -0.24548548714079912,
           -0.40169542465296926,
           -0.5469481581224267,
           -0.6772815716257409,
           -0.7891405093963935,
           -0.879473751206489,
           -0.9458172417006346,
           -0.9863613034027223,
           -1
          ],
          [
           1,
           0.9863613034027223,
           0.9458172417006346,
           0.8794737512064891,
           0.7891405093963936,
           0.6772815716257411,
           0.546948158122427,
           0.40169542465296953,
           0.24548548714079924,
           0.0825793454723324,
           -0.08257934547233227,
           -0.24548548714079912,
           -0.40169542465296926,
           -0.5469481581224267,
           -0.6772815716257409,
           -0.7891405093963935,
           -0.879473751206489,
           -0.9458172417006346,
           -0.9863613034027223,
           -1
          ],
          [
           1,
           0.9863613034027223,
           0.9458172417006346,
           0.8794737512064891,
           0.7891405093963936,
           0.6772815716257411,
           0.546948158122427,
           0.40169542465296953,
           0.24548548714079924,
           0.0825793454723324,
           -0.08257934547233227,
           -0.24548548714079912,
           -0.40169542465296926,
           -0.5469481581224267,
           -0.6772815716257409,
           -0.7891405093963935,
           -0.879473751206489,
           -0.9458172417006346,
           -0.9863613034027223,
           -1
          ],
          [
           1,
           0.9863613034027223,
           0.9458172417006346,
           0.8794737512064891,
           0.7891405093963936,
           0.6772815716257411,
           0.546948158122427,
           0.40169542465296953,
           0.24548548714079924,
           0.0825793454723324,
           -0.08257934547233227,
           -0.24548548714079912,
           -0.40169542465296926,
           -0.5469481581224267,
           -0.6772815716257409,
           -0.7891405093963935,
           -0.879473751206489,
           -0.9458172417006346,
           -0.9863613034027223,
           -1
          ],
          [
           1,
           0.9863613034027223,
           0.9458172417006346,
           0.8794737512064891,
           0.7891405093963936,
           0.6772815716257411,
           0.546948158122427,
           0.40169542465296953,
           0.24548548714079924,
           0.0825793454723324,
           -0.08257934547233227,
           -0.24548548714079912,
           -0.40169542465296926,
           -0.5469481581224267,
           -0.6772815716257409,
           -0.7891405093963935,
           -0.879473751206489,
           -0.9458172417006346,
           -0.9863613034027223,
           -1
          ],
          [
           1,
           0.9863613034027223,
           0.9458172417006346,
           0.8794737512064891,
           0.7891405093963936,
           0.6772815716257411,
           0.546948158122427,
           0.40169542465296953,
           0.24548548714079924,
           0.0825793454723324,
           -0.08257934547233227,
           -0.24548548714079912,
           -0.40169542465296926,
           -0.5469481581224267,
           -0.6772815716257409,
           -0.7891405093963935,
           -0.879473751206489,
           -0.9458172417006346,
           -0.9863613034027223,
           -1
          ],
          [
           1,
           0.9863613034027223,
           0.9458172417006346,
           0.8794737512064891,
           0.7891405093963936,
           0.6772815716257411,
           0.546948158122427,
           0.40169542465296953,
           0.24548548714079924,
           0.0825793454723324,
           -0.08257934547233227,
           -0.24548548714079912,
           -0.40169542465296926,
           -0.5469481581224267,
           -0.6772815716257409,
           -0.7891405093963935,
           -0.879473751206489,
           -0.9458172417006346,
           -0.9863613034027223,
           -1
          ],
          [
           1,
           0.9863613034027223,
           0.9458172417006346,
           0.8794737512064891,
           0.7891405093963936,
           0.6772815716257411,
           0.546948158122427,
           0.40169542465296953,
           0.24548548714079924,
           0.0825793454723324,
           -0.08257934547233227,
           -0.24548548714079912,
           -0.40169542465296926,
           -0.5469481581224267,
           -0.6772815716257409,
           -0.7891405093963935,
           -0.879473751206489,
           -0.9458172417006346,
           -0.9863613034027223,
           -1
          ],
          [
           1,
           0.9863613034027223,
           0.9458172417006346,
           0.8794737512064891,
           0.7891405093963936,
           0.6772815716257411,
           0.546948158122427,
           0.40169542465296953,
           0.24548548714079924,
           0.0825793454723324,
           -0.08257934547233227,
           -0.24548548714079912,
           -0.40169542465296926,
           -0.5469481581224267,
           -0.6772815716257409,
           -0.7891405093963935,
           -0.879473751206489,
           -0.9458172417006346,
           -0.9863613034027223,
           -1
          ],
          [
           1,
           0.9863613034027223,
           0.9458172417006346,
           0.8794737512064891,
           0.7891405093963936,
           0.6772815716257411,
           0.546948158122427,
           0.40169542465296953,
           0.24548548714079924,
           0.0825793454723324,
           -0.08257934547233227,
           -0.24548548714079912,
           -0.40169542465296926,
           -0.5469481581224267,
           -0.6772815716257409,
           -0.7891405093963935,
           -0.879473751206489,
           -0.9458172417006346,
           -0.9863613034027223,
           -1
          ],
          [
           1,
           0.9863613034027223,
           0.9458172417006346,
           0.8794737512064891,
           0.7891405093963936,
           0.6772815716257411,
           0.546948158122427,
           0.40169542465296953,
           0.24548548714079924,
           0.0825793454723324,
           -0.08257934547233227,
           -0.24548548714079912,
           -0.40169542465296926,
           -0.5469481581224267,
           -0.6772815716257409,
           -0.7891405093963935,
           -0.879473751206489,
           -0.9458172417006346,
           -0.9863613034027223,
           -1
          ],
          [
           1,
           0.9863613034027223,
           0.9458172417006346,
           0.8794737512064891,
           0.7891405093963936,
           0.6772815716257411,
           0.546948158122427,
           0.40169542465296953,
           0.24548548714079924,
           0.0825793454723324,
           -0.08257934547233227,
           -0.24548548714079912,
           -0.40169542465296926,
           -0.5469481581224267,
           -0.6772815716257409,
           -0.7891405093963935,
           -0.879473751206489,
           -0.9458172417006346,
           -0.9863613034027223,
           -1
          ],
          [
           1,
           0.9863613034027223,
           0.9458172417006346,
           0.8794737512064891,
           0.7891405093963936,
           0.6772815716257411,
           0.546948158122427,
           0.40169542465296953,
           0.24548548714079924,
           0.0825793454723324,
           -0.08257934547233227,
           -0.24548548714079912,
           -0.40169542465296926,
           -0.5469481581224267,
           -0.6772815716257409,
           -0.7891405093963935,
           -0.879473751206489,
           -0.9458172417006346,
           -0.9863613034027223,
           -1
          ],
          [
           1,
           0.9863613034027223,
           0.9458172417006346,
           0.8794737512064891,
           0.7891405093963936,
           0.6772815716257411,
           0.546948158122427,
           0.40169542465296953,
           0.24548548714079924,
           0.0825793454723324,
           -0.08257934547233227,
           -0.24548548714079912,
           -0.40169542465296926,
           -0.5469481581224267,
           -0.6772815716257409,
           -0.7891405093963935,
           -0.879473751206489,
           -0.9458172417006346,
           -0.9863613034027223,
           -1
          ],
          [
           1,
           0.9863613034027223,
           0.9458172417006346,
           0.8794737512064891,
           0.7891405093963936,
           0.6772815716257411,
           0.546948158122427,
           0.40169542465296953,
           0.24548548714079924,
           0.0825793454723324,
           -0.08257934547233227,
           -0.24548548714079912,
           -0.40169542465296926,
           -0.5469481581224267,
           -0.6772815716257409,
           -0.7891405093963935,
           -0.879473751206489,
           -0.9458172417006346,
           -0.9863613034027223,
           -1
          ],
          [
           1,
           0.9863613034027223,
           0.9458172417006346,
           0.8794737512064891,
           0.7891405093963936,
           0.6772815716257411,
           0.546948158122427,
           0.40169542465296953,
           0.24548548714079924,
           0.0825793454723324,
           -0.08257934547233227,
           -0.24548548714079912,
           -0.40169542465296926,
           -0.5469481581224267,
           -0.6772815716257409,
           -0.7891405093963935,
           -0.879473751206489,
           -0.9458172417006346,
           -0.9863613034027223,
           -1
          ],
          [
           1,
           0.9863613034027223,
           0.9458172417006346,
           0.8794737512064891,
           0.7891405093963936,
           0.6772815716257411,
           0.546948158122427,
           0.40169542465296953,
           0.24548548714079924,
           0.0825793454723324,
           -0.08257934547233227,
           -0.24548548714079912,
           -0.40169542465296926,
           -0.5469481581224267,
           -0.6772815716257409,
           -0.7891405093963935,
           -0.879473751206489,
           -0.9458172417006346,
           -0.9863613034027223,
           -1
          ],
          [
           1,
           0.9863613034027223,
           0.9458172417006346,
           0.8794737512064891,
           0.7891405093963936,
           0.6772815716257411,
           0.546948158122427,
           0.40169542465296953,
           0.24548548714079924,
           0.0825793454723324,
           -0.08257934547233227,
           -0.24548548714079912,
           -0.40169542465296926,
           -0.5469481581224267,
           -0.6772815716257409,
           -0.7891405093963935,
           -0.879473751206489,
           -0.9458172417006346,
           -0.9863613034027223,
           -1
          ],
          [
           1,
           0.9863613034027223,
           0.9458172417006346,
           0.8794737512064891,
           0.7891405093963936,
           0.6772815716257411,
           0.546948158122427,
           0.40169542465296953,
           0.24548548714079924,
           0.0825793454723324,
           -0.08257934547233227,
           -0.24548548714079912,
           -0.40169542465296926,
           -0.5469481581224267,
           -0.6772815716257409,
           -0.7891405093963935,
           -0.879473751206489,
           -0.9458172417006346,
           -0.9863613034027223,
           -1
          ],
          [
           1,
           0.9863613034027223,
           0.9458172417006346,
           0.8794737512064891,
           0.7891405093963936,
           0.6772815716257411,
           0.546948158122427,
           0.40169542465296953,
           0.24548548714079924,
           0.0825793454723324,
           -0.08257934547233227,
           -0.24548548714079912,
           -0.40169542465296926,
           -0.5469481581224267,
           -0.6772815716257409,
           -0.7891405093963935,
           -0.879473751206489,
           -0.9458172417006346,
           -0.9863613034027223,
           -1
          ],
          [
           1,
           0.9863613034027223,
           0.9458172417006346,
           0.8794737512064891,
           0.7891405093963936,
           0.6772815716257411,
           0.546948158122427,
           0.40169542465296953,
           0.24548548714079924,
           0.0825793454723324,
           -0.08257934547233227,
           -0.24548548714079912,
           -0.40169542465296926,
           -0.5469481581224267,
           -0.6772815716257409,
           -0.7891405093963935,
           -0.879473751206489,
           -0.9458172417006346,
           -0.9863613034027223,
           -1
          ],
          [
           1,
           0.9863613034027223,
           0.9458172417006346,
           0.8794737512064891,
           0.7891405093963936,
           0.6772815716257411,
           0.546948158122427,
           0.40169542465296953,
           0.24548548714079924,
           0.0825793454723324,
           -0.08257934547233227,
           -0.24548548714079912,
           -0.40169542465296926,
           -0.5469481581224267,
           -0.6772815716257409,
           -0.7891405093963935,
           -0.879473751206489,
           -0.9458172417006346,
           -0.9863613034027223,
           -1
          ],
          [
           1,
           0.9863613034027223,
           0.9458172417006346,
           0.8794737512064891,
           0.7891405093963936,
           0.6772815716257411,
           0.546948158122427,
           0.40169542465296953,
           0.24548548714079924,
           0.0825793454723324,
           -0.08257934547233227,
           -0.24548548714079912,
           -0.40169542465296926,
           -0.5469481581224267,
           -0.6772815716257409,
           -0.7891405093963935,
           -0.879473751206489,
           -0.9458172417006346,
           -0.9863613034027223,
           -1
          ],
          [
           1,
           0.9863613034027223,
           0.9458172417006346,
           0.8794737512064891,
           0.7891405093963936,
           0.6772815716257411,
           0.546948158122427,
           0.40169542465296953,
           0.24548548714079924,
           0.0825793454723324,
           -0.08257934547233227,
           -0.24548548714079912,
           -0.40169542465296926,
           -0.5469481581224267,
           -0.6772815716257409,
           -0.7891405093963935,
           -0.879473751206489,
           -0.9458172417006346,
           -0.9863613034027223,
           -1
          ],
          [
           1,
           0.9863613034027223,
           0.9458172417006346,
           0.8794737512064891,
           0.7891405093963936,
           0.6772815716257411,
           0.546948158122427,
           0.40169542465296953,
           0.24548548714079924,
           0.0825793454723324,
           -0.08257934547233227,
           -0.24548548714079912,
           -0.40169542465296926,
           -0.5469481581224267,
           -0.6772815716257409,
           -0.7891405093963935,
           -0.879473751206489,
           -0.9458172417006346,
           -0.9863613034027223,
           -1
          ]
         ]
        },
        {
         "marker": {
          "color": "red",
          "size": 5
         },
         "mode": "markers",
         "name": "qubit",
         "type": "scatter3d",
         "x": [
          1.0000000000000002
         ],
         "y": [
          0
         ],
         "z": [
          0
         ]
        },
        {
         "line": {
          "color": "red",
          "width": 3
         },
         "mode": "lines",
         "name": "qubit line",
         "opacity": 0.5,
         "type": "scatter3d",
         "x": [
          0,
          1.0000000000000002
         ],
         "y": [
          0,
          0
         ],
         "z": [
          0,
          0
         ]
        },
        {
         "line": {
          "color": "gray",
          "width": 3
         },
         "mode": "lines",
         "name": "Equator",
         "opacity": 0.1,
         "type": "scatter3d",
         "x": [
          1,
          0.9979866764718844,
          0.9919548128307953,
          0.9819286972627067,
          0.9679487013963562,
          0.9500711177409454,
          0.9283679330160726,
          0.9029265382866212,
          0.8738493770697849,
          0.8412535328311812,
          0.8052702575310586,
          0.766044443118978,
          0.7237340381050701,
          0.6785094115571322,
          0.6305526670845225,
          0.5800569095711982,
          0.5272254676105024,
          0.4722710747726827,
          0.41541501300188644,
          0.3568862215918719,
          0.2969203753282749,
          0.23575893550942728,
          0.17364817766693041,
          0.1108381999010111,
          0.04758191582374218,
          -0.01586596383480803,
          -0.07924995685678854,
          -0.14231483827328523,
          -0.20480666806519074,
          -0.26647381369003503,
          -0.32706796331742166,
          -0.3863451256931287,
          -0.4440666126057741,
          -0.5000000000000002,
          -0.5539200638661103,
          -0.6056096871376668,
          -0.654860733945285,
          -0.7014748877063214,
          -0.7452644496757547,
          -0.7860530947427875,
          -0.8236765814298327,
          -0.8579834132349771,
          -0.8888354486549234,
          -0.9161084574320696,
          -0.9396926207859083,
          -0.9594929736144974,
          -0.975429786885407,
          -0.9874388886763943,
          -0.9954719225730846,
          -0.9994965423831851,
          -0.9994965423831851,
          -0.9954719225730846,
          -0.9874388886763943,
          -0.975429786885407,
          -0.9594929736144974,
          -0.9396926207859084,
          -0.9161084574320696,
          -0.8888354486549235,
          -0.857983413234977,
          -0.8236765814298328,
          -0.7860530947427874,
          -0.7452644496757548,
          -0.7014748877063213,
          -0.6548607339452852,
          -0.6056096871376666,
          -0.5539200638661105,
          -0.4999999999999996,
          -0.44406661260577396,
          -0.3863451256931287,
          -0.3270679633174219,
          -0.26647381369003464,
          -0.20480666806519054,
          -0.14231483827328523,
          -0.07924995685678879,
          -0.01586596383480761,
          0.04758191582374238,
          0.11083819990101086,
          0.17364817766692997,
          0.23575893550942748,
          0.2969203753282749,
          0.35688622159187167,
          0.4154150130018868,
          0.4722710747726829,
          0.5272254676105024,
          0.5800569095711979,
          0.6305526670845228,
          0.6785094115571323,
          0.7237340381050701,
          0.7660444431189778,
          0.8052702575310587,
          0.8412535328311812,
          0.8738493770697849,
          0.9029265382866211,
          0.9283679330160727,
          0.9500711177409454,
          0.9679487013963562,
          0.9819286972627068,
          0.9919548128307953,
          0.9979866764718844,
          1
         ],
         "y": [
          0,
          0.0634239196565645,
          0.12659245357374926,
          0.18925124436041021,
          0.2511479871810792,
          0.3120334456984871,
          0.3716624556603276,
          0.42979491208917164,
          0.4861967361004687,
          0.5406408174555976,
          0.5929079290546404,
          0.6427876096865393,
          0.690079011482112,
          0.7345917086575333,
          0.7761464642917568,
          0.8145759520503357,
          0.8497254299495144,
          0.8814533634475821,
          0.9096319953545183,
          0.9341478602651067,
          0.9549022414440739,
          0.9718115683235417,
          0.984807753012208,
          0.9938384644612541,
          0.998867339183008,
          0.9998741276738751,
          0.9968547759519424,
          0.9898214418809327,
          0.9788024462147787,
          0.963842158559942,
          0.9450008187146685,
          0.9223542941045814,
          0.8959937742913359,
          0.8660254037844385,
          0.8325698546347714,
          0.795761840530832,
          0.7557495743542583,
          0.7126941713788627,
          0.6667690005162917,
          0.6181589862206051,
          0.5670598638627709,
          0.5136773915734063,
          0.4582265217274105,
          0.4009305354066136,
          0.3420201433256689,
          0.28173255684142967,
          0.2203105327865408,
          0.1580013959733499,
          0.09505604330418244,
          0.031727933498067656,
          -0.03172793349806786,
          -0.09505604330418263,
          -0.15800139597335008,
          -0.22031053278654056,
          -0.28173255684142984,
          -0.34202014332566866,
          -0.4009305354066138,
          -0.4582265217274103,
          -0.5136773915734064,
          -0.5670598638627706,
          -0.6181589862206053,
          -0.6667690005162915,
          -0.7126941713788629,
          -0.7557495743542582,
          -0.7957618405308321,
          -0.8325698546347713,
          -0.8660254037844388,
          -0.895993774291336,
          -0.9223542941045814,
          -0.9450008187146683,
          -0.9638421585599422,
          -0.9788024462147787,
          -0.9898214418809327,
          -0.9968547759519423,
          -0.9998741276738751,
          -0.998867339183008,
          -0.9938384644612541,
          -0.9848077530122081,
          -0.9718115683235417,
          -0.9549022414440739,
          -0.9341478602651068,
          -0.9096319953545182,
          -0.881453363447582,
          -0.8497254299495144,
          -0.8145759520503358,
          -0.7761464642917566,
          -0.7345917086575332,
          -0.690079011482112,
          -0.6427876096865396,
          -0.5929079290546402,
          -0.5406408174555974,
          -0.4861967361004688,
          -0.4297949120891719,
          -0.37166245566032724,
          -0.31203344569848707,
          -0.2511479871810794,
          -0.18925124436040974,
          -0.12659245357374904,
          -0.06342391965656452,
          -2.4492935982947064e-16
         ],
         "z": [
          0,
          0,
          0,
          0,
          0,
          0,
          0,
          0,
          0,
          0,
          0,
          0,
          0,
          0,
          0,
          0,
          0,
          0,
          0,
          0,
          0,
          0,
          0,
          0,
          0,
          0,
          0,
          0,
          0,
          0,
          0,
          0,
          0,
          0,
          0,
          0,
          0,
          0,
          0,
          0,
          0,
          0,
          0,
          0,
          0,
          0,
          0,
          0,
          0,
          0,
          0,
          0,
          0,
          0,
          0,
          0,
          0,
          0,
          0,
          0,
          0,
          0,
          0,
          0,
          0,
          0,
          0,
          0,
          0,
          0,
          0,
          0,
          0,
          0,
          0,
          0,
          0,
          0,
          0,
          0,
          0,
          0,
          0,
          0,
          0,
          0,
          0,
          0,
          0,
          0,
          0,
          0,
          0,
          0,
          0,
          0,
          0,
          0,
          0,
          0
         ]
        },
        {
         "line": {
          "color": "gray",
          "width": 3
         },
         "mode": "lines",
         "name": "x line",
         "opacity": 0.1,
         "type": "scatter3d",
         "x": [
          1,
          -1
         ],
         "y": [
          0,
          0
         ],
         "z": [
          0,
          0
         ]
        },
        {
         "line": {
          "color": "gray",
          "width": 3
         },
         "mode": "lines",
         "name": "y line",
         "opacity": 0.1,
         "type": "scatter3d",
         "x": [
          0,
          0
         ],
         "y": [
          1,
          -1
         ],
         "z": [
          0,
          0
         ]
        },
        {
         "line": {
          "color": "gray",
          "width": 3
         },
         "mode": "lines",
         "name": "z line",
         "opacity": 0.1,
         "type": "scatter3d",
         "x": [
          0,
          0
         ],
         "y": [
          0,
          0
         ],
         "z": [
          1,
          -1
         ]
        },
        {
         "mode": "text",
         "name": "|0⟩",
         "text": [
          "|0⟩"
         ],
         "textposition": "middle center",
         "type": "scatter3d",
         "x": [
          0
         ],
         "y": [
          0
         ],
         "z": [
          1
         ]
        },
        {
         "mode": "text",
         "name": "|1⟩",
         "text": [
          "|1⟩"
         ],
         "textposition": "middle center",
         "type": "scatter3d",
         "x": [
          0
         ],
         "y": [
          0
         ],
         "z": [
          -1
         ]
        },
        {
         "mode": "text",
         "name": "|+⟩",
         "text": [
          "|+⟩"
         ],
         "textposition": "middle center",
         "type": "scatter3d",
         "x": [
          1
         ],
         "y": [
          0
         ],
         "z": [
          0
         ]
        },
        {
         "mode": "text",
         "name": "|‒⟩",
         "text": [
          "|‒⟩"
         ],
         "textposition": "middle center",
         "type": "scatter3d",
         "x": [
          -1
         ],
         "y": [
          0
         ],
         "z": [
          0
         ]
        },
        {
         "mode": "text",
         "name": "|i+⟩",
         "text": [
          "|i+⟩"
         ],
         "textposition": "middle center",
         "type": "scatter3d",
         "x": [
          0
         ],
         "y": [
          1
         ],
         "z": [
          0
         ]
        },
        {
         "mode": "text",
         "name": "|i‒⟩",
         "text": [
          "|i‒⟩"
         ],
         "textposition": "middle center",
         "type": "scatter3d",
         "x": [
          0
         ],
         "y": [
          -1
         ],
         "z": [
          0
         ]
        }
       ],
       "layout": {
        "scene": {
         "aspectmode": "cube",
         "xaxis": {
          "range": [
           -1,
           1
          ],
          "showbackground": false,
          "showgrid": false,
          "visible": false
         },
         "yaxis": {
          "range": [
           -1,
           1
          ],
          "showbackground": false,
          "showgrid": false,
          "visible": false
         },
         "zaxis": {
          "range": [
           -1,
           1
          ],
          "showbackground": false,
          "showgrid": false,
          "visible": false
         }
        },
        "showlegend": false,
        "template": {
         "data": {
          "bar": [
           {
            "error_x": {
             "color": "#2a3f5f"
            },
            "error_y": {
             "color": "#2a3f5f"
            },
            "marker": {
             "line": {
              "color": "#E5ECF6",
              "width": 0.5
             },
             "pattern": {
              "fillmode": "overlay",
              "size": 10,
              "solidity": 0.2
             }
            },
            "type": "bar"
           }
          ],
          "barpolar": [
           {
            "marker": {
             "line": {
              "color": "#E5ECF6",
              "width": 0.5
             },
             "pattern": {
              "fillmode": "overlay",
              "size": 10,
              "solidity": 0.2
             }
            },
            "type": "barpolar"
           }
          ],
          "carpet": [
           {
            "aaxis": {
             "endlinecolor": "#2a3f5f",
             "gridcolor": "white",
             "linecolor": "white",
             "minorgridcolor": "white",
             "startlinecolor": "#2a3f5f"
            },
            "baxis": {
             "endlinecolor": "#2a3f5f",
             "gridcolor": "white",
             "linecolor": "white",
             "minorgridcolor": "white",
             "startlinecolor": "#2a3f5f"
            },
            "type": "carpet"
           }
          ],
          "choropleth": [
           {
            "colorbar": {
             "outlinewidth": 0,
             "ticks": ""
            },
            "type": "choropleth"
           }
          ],
          "contour": [
           {
            "colorbar": {
             "outlinewidth": 0,
             "ticks": ""
            },
            "colorscale": [
             [
              0,
              "#0d0887"
             ],
             [
              0.1111111111111111,
              "#46039f"
             ],
             [
              0.2222222222222222,
              "#7201a8"
             ],
             [
              0.3333333333333333,
              "#9c179e"
             ],
             [
              0.4444444444444444,
              "#bd3786"
             ],
             [
              0.5555555555555556,
              "#d8576b"
             ],
             [
              0.6666666666666666,
              "#ed7953"
             ],
             [
              0.7777777777777778,
              "#fb9f3a"
             ],
             [
              0.8888888888888888,
              "#fdca26"
             ],
             [
              1,
              "#f0f921"
             ]
            ],
            "type": "contour"
           }
          ],
          "contourcarpet": [
           {
            "colorbar": {
             "outlinewidth": 0,
             "ticks": ""
            },
            "type": "contourcarpet"
           }
          ],
          "heatmap": [
           {
            "colorbar": {
             "outlinewidth": 0,
             "ticks": ""
            },
            "colorscale": [
             [
              0,
              "#0d0887"
             ],
             [
              0.1111111111111111,
              "#46039f"
             ],
             [
              0.2222222222222222,
              "#7201a8"
             ],
             [
              0.3333333333333333,
              "#9c179e"
             ],
             [
              0.4444444444444444,
              "#bd3786"
             ],
             [
              0.5555555555555556,
              "#d8576b"
             ],
             [
              0.6666666666666666,
              "#ed7953"
             ],
             [
              0.7777777777777778,
              "#fb9f3a"
             ],
             [
              0.8888888888888888,
              "#fdca26"
             ],
             [
              1,
              "#f0f921"
             ]
            ],
            "type": "heatmap"
           }
          ],
          "heatmapgl": [
           {
            "colorbar": {
             "outlinewidth": 0,
             "ticks": ""
            },
            "colorscale": [
             [
              0,
              "#0d0887"
             ],
             [
              0.1111111111111111,
              "#46039f"
             ],
             [
              0.2222222222222222,
              "#7201a8"
             ],
             [
              0.3333333333333333,
              "#9c179e"
             ],
             [
              0.4444444444444444,
              "#bd3786"
             ],
             [
              0.5555555555555556,
              "#d8576b"
             ],
             [
              0.6666666666666666,
              "#ed7953"
             ],
             [
              0.7777777777777778,
              "#fb9f3a"
             ],
             [
              0.8888888888888888,
              "#fdca26"
             ],
             [
              1,
              "#f0f921"
             ]
            ],
            "type": "heatmapgl"
           }
          ],
          "histogram": [
           {
            "marker": {
             "pattern": {
              "fillmode": "overlay",
              "size": 10,
              "solidity": 0.2
             }
            },
            "type": "histogram"
           }
          ],
          "histogram2d": [
           {
            "colorbar": {
             "outlinewidth": 0,
             "ticks": ""
            },
            "colorscale": [
             [
              0,
              "#0d0887"
             ],
             [
              0.1111111111111111,
              "#46039f"
             ],
             [
              0.2222222222222222,
              "#7201a8"
             ],
             [
              0.3333333333333333,
              "#9c179e"
             ],
             [
              0.4444444444444444,
              "#bd3786"
             ],
             [
              0.5555555555555556,
              "#d8576b"
             ],
             [
              0.6666666666666666,
              "#ed7953"
             ],
             [
              0.7777777777777778,
              "#fb9f3a"
             ],
             [
              0.8888888888888888,
              "#fdca26"
             ],
             [
              1,
              "#f0f921"
             ]
            ],
            "type": "histogram2d"
           }
          ],
          "histogram2dcontour": [
           {
            "colorbar": {
             "outlinewidth": 0,
             "ticks": ""
            },
            "colorscale": [
             [
              0,
              "#0d0887"
             ],
             [
              0.1111111111111111,
              "#46039f"
             ],
             [
              0.2222222222222222,
              "#7201a8"
             ],
             [
              0.3333333333333333,
              "#9c179e"
             ],
             [
              0.4444444444444444,
              "#bd3786"
             ],
             [
              0.5555555555555556,
              "#d8576b"
             ],
             [
              0.6666666666666666,
              "#ed7953"
             ],
             [
              0.7777777777777778,
              "#fb9f3a"
             ],
             [
              0.8888888888888888,
              "#fdca26"
             ],
             [
              1,
              "#f0f921"
             ]
            ],
            "type": "histogram2dcontour"
           }
          ],
          "mesh3d": [
           {
            "colorbar": {
             "outlinewidth": 0,
             "ticks": ""
            },
            "type": "mesh3d"
           }
          ],
          "parcoords": [
           {
            "line": {
             "colorbar": {
              "outlinewidth": 0,
              "ticks": ""
             }
            },
            "type": "parcoords"
           }
          ],
          "pie": [
           {
            "automargin": true,
            "type": "pie"
           }
          ],
          "scatter": [
           {
            "fillpattern": {
             "fillmode": "overlay",
             "size": 10,
             "solidity": 0.2
            },
            "type": "scatter"
           }
          ],
          "scatter3d": [
           {
            "line": {
             "colorbar": {
              "outlinewidth": 0,
              "ticks": ""
             }
            },
            "marker": {
             "colorbar": {
              "outlinewidth": 0,
              "ticks": ""
             }
            },
            "type": "scatter3d"
           }
          ],
          "scattercarpet": [
           {
            "marker": {
             "colorbar": {
              "outlinewidth": 0,
              "ticks": ""
             }
            },
            "type": "scattercarpet"
           }
          ],
          "scattergeo": [
           {
            "marker": {
             "colorbar": {
              "outlinewidth": 0,
              "ticks": ""
             }
            },
            "type": "scattergeo"
           }
          ],
          "scattergl": [
           {
            "marker": {
             "colorbar": {
              "outlinewidth": 0,
              "ticks": ""
             }
            },
            "type": "scattergl"
           }
          ],
          "scattermapbox": [
           {
            "marker": {
             "colorbar": {
              "outlinewidth": 0,
              "ticks": ""
             }
            },
            "type": "scattermapbox"
           }
          ],
          "scatterpolar": [
           {
            "marker": {
             "colorbar": {
              "outlinewidth": 0,
              "ticks": ""
             }
            },
            "type": "scatterpolar"
           }
          ],
          "scatterpolargl": [
           {
            "marker": {
             "colorbar": {
              "outlinewidth": 0,
              "ticks": ""
             }
            },
            "type": "scatterpolargl"
           }
          ],
          "scatterternary": [
           {
            "marker": {
             "colorbar": {
              "outlinewidth": 0,
              "ticks": ""
             }
            },
            "type": "scatterternary"
           }
          ],
          "surface": [
           {
            "colorbar": {
             "outlinewidth": 0,
             "ticks": ""
            },
            "colorscale": [
             [
              0,
              "#0d0887"
             ],
             [
              0.1111111111111111,
              "#46039f"
             ],
             [
              0.2222222222222222,
              "#7201a8"
             ],
             [
              0.3333333333333333,
              "#9c179e"
             ],
             [
              0.4444444444444444,
              "#bd3786"
             ],
             [
              0.5555555555555556,
              "#d8576b"
             ],
             [
              0.6666666666666666,
              "#ed7953"
             ],
             [
              0.7777777777777778,
              "#fb9f3a"
             ],
             [
              0.8888888888888888,
              "#fdca26"
             ],
             [
              1,
              "#f0f921"
             ]
            ],
            "type": "surface"
           }
          ],
          "table": [
           {
            "cells": {
             "fill": {
              "color": "#EBF0F8"
             },
             "line": {
              "color": "white"
             }
            },
            "header": {
             "fill": {
              "color": "#C8D4E3"
             },
             "line": {
              "color": "white"
             }
            },
            "type": "table"
           }
          ]
         },
         "layout": {
          "annotationdefaults": {
           "arrowcolor": "#2a3f5f",
           "arrowhead": 0,
           "arrowwidth": 1
          },
          "autotypenumbers": "strict",
          "coloraxis": {
           "colorbar": {
            "outlinewidth": 0,
            "ticks": ""
           }
          },
          "colorscale": {
           "diverging": [
            [
             0,
             "#8e0152"
            ],
            [
             0.1,
             "#c51b7d"
            ],
            [
             0.2,
             "#de77ae"
            ],
            [
             0.3,
             "#f1b6da"
            ],
            [
             0.4,
             "#fde0ef"
            ],
            [
             0.5,
             "#f7f7f7"
            ],
            [
             0.6,
             "#e6f5d0"
            ],
            [
             0.7,
             "#b8e186"
            ],
            [
             0.8,
             "#7fbc41"
            ],
            [
             0.9,
             "#4d9221"
            ],
            [
             1,
             "#276419"
            ]
           ],
           "sequential": [
            [
             0,
             "#0d0887"
            ],
            [
             0.1111111111111111,
             "#46039f"
            ],
            [
             0.2222222222222222,
             "#7201a8"
            ],
            [
             0.3333333333333333,
             "#9c179e"
            ],
            [
             0.4444444444444444,
             "#bd3786"
            ],
            [
             0.5555555555555556,
             "#d8576b"
            ],
            [
             0.6666666666666666,
             "#ed7953"
            ],
            [
             0.7777777777777778,
             "#fb9f3a"
            ],
            [
             0.8888888888888888,
             "#fdca26"
            ],
            [
             1,
             "#f0f921"
            ]
           ],
           "sequentialminus": [
            [
             0,
             "#0d0887"
            ],
            [
             0.1111111111111111,
             "#46039f"
            ],
            [
             0.2222222222222222,
             "#7201a8"
            ],
            [
             0.3333333333333333,
             "#9c179e"
            ],
            [
             0.4444444444444444,
             "#bd3786"
            ],
            [
             0.5555555555555556,
             "#d8576b"
            ],
            [
             0.6666666666666666,
             "#ed7953"
            ],
            [
             0.7777777777777778,
             "#fb9f3a"
            ],
            [
             0.8888888888888888,
             "#fdca26"
            ],
            [
             1,
             "#f0f921"
            ]
           ]
          },
          "colorway": [
           "#636efa",
           "#EF553B",
           "#00cc96",
           "#ab63fa",
           "#FFA15A",
           "#19d3f3",
           "#FF6692",
           "#B6E880",
           "#FF97FF",
           "#FECB52"
          ],
          "font": {
           "color": "#2a3f5f"
          },
          "geo": {
           "bgcolor": "white",
           "lakecolor": "white",
           "landcolor": "#E5ECF6",
           "showlakes": true,
           "showland": true,
           "subunitcolor": "white"
          },
          "hoverlabel": {
           "align": "left"
          },
          "hovermode": "closest",
          "mapbox": {
           "style": "light"
          },
          "paper_bgcolor": "white",
          "plot_bgcolor": "#E5ECF6",
          "polar": {
           "angularaxis": {
            "gridcolor": "white",
            "linecolor": "white",
            "ticks": ""
           },
           "bgcolor": "#E5ECF6",
           "radialaxis": {
            "gridcolor": "white",
            "linecolor": "white",
            "ticks": ""
           }
          },
          "scene": {
           "xaxis": {
            "backgroundcolor": "#E5ECF6",
            "gridcolor": "white",
            "gridwidth": 2,
            "linecolor": "white",
            "showbackground": true,
            "ticks": "",
            "zerolinecolor": "white"
           },
           "yaxis": {
            "backgroundcolor": "#E5ECF6",
            "gridcolor": "white",
            "gridwidth": 2,
            "linecolor": "white",
            "showbackground": true,
            "ticks": "",
            "zerolinecolor": "white"
           },
           "zaxis": {
            "backgroundcolor": "#E5ECF6",
            "gridcolor": "white",
            "gridwidth": 2,
            "linecolor": "white",
            "showbackground": true,
            "ticks": "",
            "zerolinecolor": "white"
           }
          },
          "shapedefaults": {
           "line": {
            "color": "#2a3f5f"
           }
          },
          "ternary": {
           "aaxis": {
            "gridcolor": "white",
            "linecolor": "white",
            "ticks": ""
           },
           "baxis": {
            "gridcolor": "white",
            "linecolor": "white",
            "ticks": ""
           },
           "bgcolor": "#E5ECF6",
           "caxis": {
            "gridcolor": "white",
            "linecolor": "white",
            "ticks": ""
           }
          },
          "title": {
           "x": 0.05
          },
          "xaxis": {
           "automargin": true,
           "gridcolor": "white",
           "linecolor": "white",
           "ticks": "",
           "title": {
            "standoff": 15
           },
           "zerolinecolor": "white",
           "zerolinewidth": 2
          },
          "yaxis": {
           "automargin": true,
           "gridcolor": "white",
           "linecolor": "white",
           "ticks": "",
           "title": {
            "standoff": 15
           },
           "zerolinecolor": "white",
           "zerolinewidth": 2
          }
         }
        }
       }
      }
     },
     "metadata": {},
     "output_type": "display_data"
    }
   ],
   "source": [
    "# Instanciando um novo do processo quântico\n",
    "processo = Process()\n",
    "\n",
    "# Alocação de um qubit\n",
    "qubits = processo.alloc()\n",
    "\n",
    "X(qubits)  # Porta de Pauli X\n",
    "Y(qubits)  # Porta de Pauli Y\n",
    "Z(qubits)  # Porta de Pauli Z\n",
    "H(qubits)  # Porta de Hadamard\n",
    "\n",
    "bloch_sphere(qubits)  # Mostra o Bloch Sphere"
   ]
  },
  {
   "cell_type": "markdown",
   "metadata": {},
   "source": [
    "#### Portas Parametrizadas\n",
    "\n",
    "Além das portas de Pauli e de Hadamard, o Ket oferece também portas de rotação e a porta de fase, que são fundamentais na construção de algoritmos quânticos. As portas de rotação, como {func}`~ket.gates.RX`, {func}`~ket.gates.RY` e {func}`~ket.gates.RZ`, realizam rotações controladas em torno dos eixos X, Y e Z, respectivamente. Essas portas são essenciais para manipular o estado de um qubit de forma controlada e específica. Já a porta de fase, representada por {func}`~ket.gates.PHASE`, aplica uma fase ao estado do qubit. Essas portas também são conhecidas como portas parametrizadas, pois recebem um parâmetro clássico, um número real (float), que controla a operação aplicada pela porta.\n",
    "\n",
    "A porta {func}`~ket.gates.RZ` e {func}`~ket.gates.PHASE` são equivalentes em termos de fase global, logo não conseguimos diferenciá-las quando olhamos para seu efeito na esfera de Bloch. No entanto, quando usadas em operações controladas, a fase global dessas portas pode gerar diferenças no estado quântico.\n",
    "\n",
    "A seguir, temos um exemplo que demonstra a aplicação das portas parametrizadas. Recomendamos que você execute este código e experimente alterar a aplicação das portas para entender melhor seu efeito:"
   ]
  },
  {
   "cell_type": "code",
   "execution_count": 6,
   "metadata": {},
   "outputs": [
    {
     "data": {
      "application/vnd.plotly.v1+json": {
       "config": {
        "plotlyServerURL": "https://plot.ly"
       },
       "data": [
        {
         "name": "Bloch Sphere",
         "opacity": 0.02,
         "showscale": false,
         "type": "surface",
         "x": [
          [
           0,
           0.1645945902807339,
           0.32469946920468346,
           0.4759473930370735,
           0.6142127126896678,
           0.7357239106731316,
           0.8371664782625285,
           0.9157733266550574,
           0.9694002659393304,
           0.9965844930066698,
           0.9965844930066698,
           0.9694002659393304,
           0.9157733266550575,
           0.8371664782625287,
           0.7357239106731318,
           0.6142127126896679,
           0.4759473930370737,
           0.3246994692046836,
           0.16459459028073403,
           1.2246467991473532e-16
          ],
          [
           0,
           0.16246313356537806,
           0.3204946963568737,
           0.46978399929907333,
           0.6062588193758816,
           0.7261964792589068,
           0.8263253922406854,
           0.9039143025916696,
           0.9568467870966786,
           0.9836789855631047,
           0.9836789855631047,
           0.9568467870966786,
           0.9039143025916697,
           0.8263253922406855,
           0.7261964792589071,
           0.6062588193758817,
           0.4697839992990735,
           0.3204946963568739,
           0.16246313356537817,
           1.2087879447370743e-16
          ],
          [
           0,
           0.15612396702863554,
           0.3079892792215372,
           0.45145344674540533,
           0.5826031410933619,
           0.6978609404853318,
           0.7940829126085611,
           0.8686443728954891,
           0.919511479076709,
           0.9452967090962465,
           0.9452967090962465,
           0.919511479076709,
           0.8686443728954892,
           0.7940829126085612,
           0.697860940485332,
           0.582603141093362,
           0.45145344674540544,
           0.30798927922153735,
           0.15612396702863568,
           1.161622117505191e-16
          ],
          [
           0,
           0.1457412717539971,
           0.28750710153368586,
           0.42143048705861336,
           0.5438583474838702,
           0.6514511699226683,
           0.7412741026524329,
           0.8108770102192059,
           0.8583613067458042,
           0.882431744405305,
           0.882431744405305,
           0.8583613067458042,
           0.810877010219206,
           0.741274102652433,
           0.6514511699226685,
           0.5438583474838703,
           0.42143048705861347,
           0.28750710153368597,
           0.1457412717539972,
           1.0843708876019402e-16
          ],
          [
           0,
           0.13158395409529697,
           0.2595786409366422,
           0.3804926991242503,
           0.4910279083501888,
           0.588169156250559,
           0.6692666828109729,
           0.7321083589123363,
           0.7749800274466272,
           0.7967122610543294,
           0.7967122610543294,
           0.7749800274466272,
           0.7321083589123364,
           0.669266682810973,
           0.5881691562505591,
           0.49102790835018884,
           0.3804926991242505,
           0.2595786409366423,
           0.13158395409529708,
           9.790350213036125e-17
          ],
          [
           0,
           0.11401868114339879,
           0.22492722988972447,
           0.329700350146186,
           0.4254801043153275,
           0.5096538703825993,
           0.5799256074343183,
           0.6343784856684599,
           0.6715271725148565,
           0.6903583486357373,
           0.6903583486357373,
           0.6715271725148565,
           0.63437848566846,
           0.5799256074343183,
           0.5096538703825996,
           0.42548010431532757,
           0.3297003501461861,
           0.22492722988972458,
           0.11401868114339889,
           8.483426622169505e-17
          ],
          [
           0,
           0.09350038424114347,
           0.18445032173749926,
           0.2703689352829591,
           0.3489125890731124,
           0.4179388169805881,
           0.475564763446017,
           0.5202185428694533,
           0.5506821165519409,
           0.5661245176160313,
           0.5661245176160313,
           0.5506821165519409,
           0.5202185428694533,
           0.4755647634460171,
           0.4179388169805882,
           0.34891258907311246,
           0.2703689352829592,
           0.18445032173749937,
           0.09350038424114356,
           6.95678673792762e-17
          ],
          [
           0,
           0.07056047650053407,
           0.13919624713956788,
           0.20403510701416921,
           0.26330842104925195,
           0.31539936775193667,
           0.35888704188713766,
           0.3925852130683524,
           0.41557468303033346,
           0.4272283589615935,
           0.4272283589615935,
           0.41557468303033346,
           0.3925852130683525,
           0.3588870418871377,
           0.3153993677519367,
           0.26330842104925195,
           0.2040351070141693,
           0.13919624713956794,
           0.07056047650053413,
           5.2499697314053056e-17
          ],
          [
           0,
           0.045793089482273404,
           0.09033706285714538,
           0.13241687664842175,
           0.1708847032297642,
           0.2046912405701735,
           0.23291433445806886,
           0.2547841324643033,
           0.26970408350957537,
           0.2772672102227795,
           0.2772672102227795,
           0.26970408350957537,
           0.25478413246430337,
           0.2329143344580689,
           0.20469124057017354,
           0.17088470322976423,
           0.1324168766484218,
           0.09033706285714542,
           0.045793089482273446,
           3.407181266521781e-17
          ],
          [
           0,
           0.019839685500424753,
           0.0391381960985981,
           0.057369118732864384,
           0.0740351613582292,
           0.08868171777700325,
           0.1009092681108054,
           0.11038427666137432,
           0.11684828989495437,
           0.12012498638095837,
           0.12012498638095837,
           0.11684828989495437,
           0.11038427666137433,
           0.10090926811080542,
           0.08868171777700327,
           0.07403516135822921,
           0.057369118732864405,
           0.03913819609859812,
           0.01983968550042477,
           1.4761485965452956e-17
          ],
          [
           0,
           -0.006627555914577715,
           -0.013074329380554592,
           -0.019164469223262957,
           -0.024731852303603426,
           -0.029624614924228836,
           -0.03370929527532877,
           -0.03687447392489219,
           -0.03903381305036396,
           -0.04012841150937818,
           -0.04012841150937818,
           -0.03903381305036396,
           -0.036874473924892195,
           -0.03370929527532877,
           -0.029624614924228843,
           -0.02473185230360343,
           -0.019164469223262964,
           -0.013074329380554599,
           -0.00662755591457772,
           -4.9311554669653986e-18
          ],
          [
           0,
           -0.03292314711268756,
           -0.06494823659638016,
           -0.09520170749314029,
           -0.122858323981817,
           -0.1471636856600176,
           -0.16745480562051002,
           -0.18317819500577392,
           -0.19390496074119645,
           -0.19934250462010655,
           -0.19934250462010655,
           -0.19390496074119645,
           -0.18317819500577395,
           -0.16745480562051004,
           -0.14716368566001767,
           -0.12285832398181702,
           -0.09520170749314032,
           -0.06494823659638019,
           -0.03292314711268759,
           -2.4496082563006136e-17
          ],
          [
           0,
           -0.05836604609431205,
           -0.115140018600098,
           -0.16877327154610067,
           -0.21780282960340894,
           -0.26089129423873825,
           -0.2968633244600811,
           -0.32473769705508354,
           -0.34375407180242007,
           -0.35339373157097265,
           -0.35339373157097265,
           -0.34375407180242007,
           -0.3247376970550836,
           -0.2968633244600812,
           -0.26089129423873836,
           -0.21780282960340897,
           -0.16877327154610072,
           -0.11514001860009805,
           -0.0583660460943121,
           -4.342657398786498e-17
          ],
          [
           0,
           -0.0822972951403669,
           -0.16234973460234164,
           -0.23797369651853664,
           -0.3071063563448338,
           -0.3678619553365656,
           -0.4185832391312641,
           -0.4578866633275285,
           -0.48470013296966497,
           -0.4982922465033347,
           -0.4982922465033347,
           -0.48470013296966497,
           -0.45788666332752853,
           -0.41858323913126416,
           -0.36786195533656574,
           -0.30710635634483385,
           -0.23797369651853673,
           -0.16234973460234173,
           -0.08229729514036697,
           -6.123233995736764e-17
          ],
          [
           0,
           -0.10409708747106597,
           -0.20535467775677563,
           -0.30101072775297255,
           -0.3884559897724724,
           -0.46530518502016843,
           -0.529462067780604,
           -0.5791766055365858,
           -0.6130927152942584,
           -0.6302852539921319,
           -0.6302852539921319,
           -0.6130927152942584,
           -0.5791766055365859,
           -0.5294620677806041,
           -0.46530518502016854,
           -0.38845598977247253,
           -0.30101072775297266,
           -0.20535467775677574,
           -0.10409708747106605,
           -7.745222048584242e-17
          ],
          [
           0,
           -0.12320081991594793,
           -0.24304104262515694,
           -0.3562517392522649,
           -0.4597448171115447,
           -0.550697254825314,
           -0.6266281069880509,
           -0.685466177889715,
           -0.7256065183355124,
           -0.7459542044761397,
           -0.7459542044761397,
           -0.7256065183355124,
           -0.6854661778897151,
           -0.6266281069880509,
           -0.5506972548253141,
           -0.45974481711154475,
           -0.356251739252265,
           -0.24304104262515705,
           -0.12320081991594804,
           -9.166612918751292e-17
          ],
          [
           0,
           -0.1391137158394193,
           -0.2744327721531311,
           -0.4022660178353502,
           -0.5191264951802664,
           -0.6218265549984392,
           -0.7075648073771038,
           -0.7740025362943134,
           -0.8193274936954399,
           -0.8423033328959264,
           -0.8423033328959264,
           -0.8193274936954399,
           -0.7740025362943134,
           -0.7075648073771038,
           -0.6218265549984394,
           -0.5191264951802665,
           -0.4022660178353503,
           -0.2744327721531313,
           -0.13911371583941942,
           -1.0350593329322857e-16
          ],
          [
           0,
           -0.1514236395957217,
           -0.2987168370352402,
           -0.43786181785711464,
           -0.5650630697084178,
           -0.676850874027562,
           -0.7701759509217782,
           -0.8424926355737105,
           -0.8918283173415814,
           -0.9168372474352875,
           -0.9168372474352875,
           -0.8918283173415814,
           -0.8424926355737105,
           -0.7701759509217783,
           -0.6768508740275623,
           -0.5650630697084179,
           -0.4378618178571148,
           -0.2987168370352404,
           -0.1514236395957218,
           -1.126649880958142e-16
          ],
          [
           0,
           -0.15981177062567214,
           -0.31526429274686973,
           -0.4621172267946076,
           -0.5963648075450915,
           -0.7143451109527726,
           -0.8128399418923868,
           -0.8891626181327629,
           -0.9412312560244315,
           -0.9676255588585165,
           -0.9676255588585165,
           -0.9412312560244315,
           -0.889162618132763,
           -0.812839941892387,
           -0.7143451109527729,
           -0.5963648075450916,
           -0.46211722679460776,
           -0.3152642927468699,
           -0.15981177062567228,
           -1.1890607888691283e-16
          ],
          [
           0,
           -0.1640608607416775,
           -0.32364656887706705,
           -0.4744040422971282,
           -0.6122210101223642,
           -0.7333381847325245,
           -0.8344518053331546,
           -0.9128037559378055,
           -0.9662567995822742,
           -0.9933528765776246,
           -0.9933528765776246,
           -0.9662567995822742,
           -0.9128037559378056,
           -0.8344518053331547,
           -0.7333381847325248,
           -0.6122210101223643,
           -0.47440404229712835,
           -0.3236465688770672,
           -0.16406086074167764,
           -1.2206756469332921e-16
          ],
          [
           0,
           -0.16406086074167753,
           -0.3236465688770671,
           -0.47440404229712824,
           -0.6122210101223643,
           -0.7333381847325247,
           -0.8344518053331547,
           -0.9128037559378056,
           -0.9662567995822743,
           -0.9933528765776247,
           -0.9933528765776247,
           -0.9662567995822743,
           -0.9128037559378057,
           -0.8344518053331548,
           -0.7333381847325249,
           -0.6122210101223644,
           -0.4744040422971284,
           -0.3236465688770673,
           -0.16406086074167767,
           -1.2206756469332924e-16
          ],
          [
           0,
           -0.15981177062567217,
           -0.3152642927468698,
           -0.4621172267946077,
           -0.5963648075450917,
           -0.7143451109527728,
           -0.8128399418923871,
           -0.8891626181327631,
           -0.9412312560244317,
           -0.9676255588585168,
           -0.9676255588585168,
           -0.9412312560244317,
           -0.8891626181327632,
           -0.8128399418923872,
           -0.714345110952773,
           -0.5963648075450918,
           -0.46211722679460787,
           -0.31526429274686996,
           -0.1598117706256723,
           -1.1890607888691286e-16
          ],
          [
           0,
           -0.1514236395957217,
           -0.2987168370352402,
           -0.43786181785711464,
           -0.5650630697084178,
           -0.676850874027562,
           -0.7701759509217782,
           -0.8424926355737105,
           -0.8918283173415814,
           -0.9168372474352875,
           -0.9168372474352875,
           -0.8918283173415814,
           -0.8424926355737105,
           -0.7701759509217783,
           -0.6768508740275623,
           -0.5650630697084179,
           -0.4378618178571148,
           -0.2987168370352404,
           -0.1514236395957218,
           -1.126649880958142e-16
          ],
          [
           0,
           -0.13911371583941937,
           -0.2744327721531313,
           -0.4022660178353504,
           -0.5191264951802668,
           -0.6218265549984395,
           -0.7075648073771041,
           -0.7740025362943137,
           -0.8193274936954403,
           -0.8423033328959268,
           -0.8423033328959268,
           -0.8193274936954403,
           -0.7740025362943138,
           -0.7075648073771043,
           -0.6218265549984398,
           -0.5191264951802669,
           -0.40226601783535054,
           -0.2744327721531314,
           -0.1391137158394195,
           -1.0350593329322863e-16
          ],
          [
           0,
           -0.123200819915948,
           -0.24304104262515708,
           -0.3562517392522651,
           -0.45974481711154497,
           -0.5506972548253142,
           -0.6266281069880513,
           -0.6854661778897153,
           -0.7256065183355127,
           -0.7459542044761401,
           -0.7459542044761401,
           -0.7256065183355127,
           -0.6854661778897154,
           -0.6266281069880514,
           -0.5506972548253144,
           -0.459744817111545,
           -0.3562517392522652,
           -0.24304104262515722,
           -0.12320081991594811,
           -9.166612918751298e-17
          ],
          [
           0,
           -0.10409708747106605,
           -0.20535467775677582,
           -0.30101072775297283,
           -0.3884559897724728,
           -0.4653051850201688,
           -0.5294620677806045,
           -0.5791766055365863,
           -0.6130927152942588,
           -0.6302852539921324,
           -0.6302852539921324,
           -0.6130927152942588,
           -0.5791766055365863,
           -0.5294620677806046,
           -0.465305185020169,
           -0.38845598977247286,
           -0.30101072775297294,
           -0.2053546777567759,
           -0.10409708747106615,
           -7.745222048584248e-17
          ],
          [
           0,
           -0.08229729514036702,
           -0.16234973460234187,
           -0.23797369651853698,
           -0.3071063563448342,
           -0.3678619553365661,
           -0.41858323913126466,
           -0.4578866633275291,
           -0.48470013296966563,
           -0.49829224650333537,
           -0.49829224650333537,
           -0.48470013296966563,
           -0.45788666332752914,
           -0.4185832391312647,
           -0.36786195533656624,
           -0.30710635634483424,
           -0.23797369651853706,
           -0.16234973460234195,
           -0.08229729514036709,
           -6.123233995736771e-17
          ],
          [
           0,
           -0.05836604609431212,
           -0.11514001860009813,
           -0.1687732715461009,
           -0.21780282960340921,
           -0.2608912942387386,
           -0.2968633244600815,
           -0.324737697055084,
           -0.3437540718024205,
           -0.3533937315709731,
           -0.3533937315709731,
           -0.3437540718024205,
           -0.324737697055084,
           -0.29686332446008157,
           -0.2608912942387387,
           -0.21780282960340924,
           -0.16877327154610094,
           -0.1151400186000982,
           -0.05836604609431217,
           -4.3426573987865036e-17
          ],
          [
           0,
           -0.0329231471126876,
           -0.06494823659638023,
           -0.09520170749314039,
           -0.12285832398181713,
           -0.14716368566001778,
           -0.1674548056205102,
           -0.18317819500577415,
           -0.19390496074119667,
           -0.19934250462010678,
           -0.19934250462010678,
           -0.19390496074119667,
           -0.18317819500577417,
           -0.16745480562051024,
           -0.14716368566001783,
           -0.12285832398181716,
           -0.09520170749314043,
           -0.06494823659638026,
           -0.03292314711268763,
           -2.4496082563006164e-17
          ],
          [
           0,
           -0.006627555914577755,
           -0.01307432938055467,
           -0.01916446922326307,
           -0.024731852303603575,
           -0.029624614924229013,
           -0.03370929527532897,
           -0.03687447392489241,
           -0.03903381305036419,
           -0.040128411509378424,
           -0.040128411509378424,
           -0.03903381305036419,
           -0.03687447392489242,
           -0.033709295275328975,
           -0.029624614924229024,
           -0.02473185230360358,
           -0.019164469223263078,
           -0.013074329380554677,
           -0.00662755591457776,
           -4.931155466965428e-18
          ],
          [
           0,
           0.019839685500424604,
           0.03913819609859781,
           0.057369118732863954,
           0.07403516135822864,
           0.08868171777700258,
           0.10090926811080465,
           0.1103842766613735,
           0.1168482898949535,
           0.12012498638095748,
           0.12012498638095748,
           0.1168482898949535,
           0.11038427666137351,
           0.10090926811080467,
           0.08868171777700261,
           0.07403516135822866,
           0.057369118732863975,
           0.03913819609859783,
           0.01983968550042462,
           1.4761485965452845e-17
          ],
          [
           0,
           0.04579308948227329,
           0.09033706285714516,
           0.13241687664842144,
           0.1708847032297638,
           0.204691240570173,
           0.2329143344580683,
           0.2547841324643027,
           0.2697040835095747,
           0.27726721022277884,
           0.27726721022277884,
           0.2697040835095747,
           0.25478413246430276,
           0.23291433445806833,
           0.20469124057017307,
           0.17088470322976385,
           0.13241687664842147,
           0.09033706285714521,
           0.045793089482273334,
           3.4071812665217726e-17
          ],
          [
           0,
           0.070560476500534,
           0.13919624713956774,
           0.20403510701416902,
           0.2633084210492517,
           0.31539936775193633,
           0.3588870418871373,
           0.39258521306835203,
           0.41557468303033307,
           0.42722835896159306,
           0.42722835896159306,
           0.41557468303033307,
           0.3925852130683521,
           0.3588870418871374,
           0.3153993677519364,
           0.2633084210492517,
           0.20403510701416908,
           0.1391962471395678,
           0.07056047650053406,
           5.2499697314053e-17
          ],
          [
           0,
           0.09350038424114342,
           0.18445032173749917,
           0.2703689352829589,
           0.3489125890731122,
           0.4179388169805878,
           0.4755647634460167,
           0.520218542869453,
           0.5506821165519405,
           0.566124517616031,
           0.566124517616031,
           0.5506821165519405,
           0.520218542869453,
           0.47556476344601684,
           0.41793881698058793,
           0.34891258907311223,
           0.270368935282959,
           0.18445032173749926,
           0.0935003842411435,
           6.956786737927616e-17
          ],
          [
           0,
           0.11401868114339876,
           0.22492722988972438,
           0.32970035014618587,
           0.4254801043153274,
           0.5096538703825992,
           0.5799256074343181,
           0.6343784856684597,
           0.6715271725148563,
           0.6903583486357371,
           0.6903583486357371,
           0.6715271725148563,
           0.6343784856684598,
           0.5799256074343182,
           0.5096538703825993,
           0.42548010431532746,
           0.329700350146186,
           0.2249272298897245,
           0.11401868114339886,
           8.483426622169503e-17
          ],
          [
           0,
           0.13158395409529686,
           0.259578640936642,
           0.3804926991242501,
           0.4910279083501884,
           0.5881691562505585,
           0.6692666828109725,
           0.7321083589123357,
           0.7749800274466266,
           0.7967122610543288,
           0.7967122610543288,
           0.7749800274466266,
           0.7321083589123358,
           0.6692666828109726,
           0.5881691562505588,
           0.4910279083501885,
           0.3804926991242502,
           0.2595786409366421,
           0.13158395409529697,
           9.790350213036119e-17
          ],
          [
           0,
           0.14574127175399704,
           0.28750710153368575,
           0.4214304870586132,
           0.54385834748387,
           0.651451169922668,
           0.7412741026524325,
           0.8108770102192056,
           0.8583613067458039,
           0.8824317444053047,
           0.8824317444053047,
           0.8583613067458039,
           0.8108770102192057,
           0.7412741026524327,
           0.6514511699226683,
           0.5438583474838701,
           0.4214304870586133,
           0.28750710153368586,
           0.14574127175399715,
           1.0843708876019398e-16
          ],
          [
           0,
           0.1561239670286355,
           0.3079892792215371,
           0.4514534467454053,
           0.5826031410933618,
           0.6978609404853316,
           0.794082912608561,
           0.868644372895489,
           0.9195114790767089,
           0.9452967090962464,
           0.9452967090962464,
           0.9195114790767089,
           0.8686443728954891,
           0.7940829126085611,
           0.6978609404853319,
           0.5826031410933619,
           0.45145344674540544,
           0.3079892792215373,
           0.15612396702863565,
           1.1616221175051907e-16
          ],
          [
           0,
           0.16246313356537806,
           0.3204946963568737,
           0.46978399929907333,
           0.6062588193758816,
           0.7261964792589068,
           0.8263253922406854,
           0.9039143025916696,
           0.9568467870966786,
           0.9836789855631047,
           0.9836789855631047,
           0.9568467870966786,
           0.9039143025916697,
           0.8263253922406855,
           0.7261964792589071,
           0.6062588193758817,
           0.4697839992990735,
           0.3204946963568739,
           0.16246313356537817,
           1.2087879447370743e-16
          ],
          [
           0,
           0.1645945902807339,
           0.32469946920468346,
           0.4759473930370735,
           0.6142127126896678,
           0.7357239106731316,
           0.8371664782625285,
           0.9157733266550574,
           0.9694002659393304,
           0.9965844930066698,
           0.9965844930066698,
           0.9694002659393304,
           0.9157733266550575,
           0.8371664782625287,
           0.7357239106731318,
           0.6142127126896679,
           0.4759473930370737,
           0.3246994692046836,
           0.16459459028073403,
           1.2246467991473532e-16
          ]
         ],
         "y": [
          [
           0,
           0,
           0,
           0,
           0,
           0,
           0,
           0,
           0,
           0,
           0,
           0,
           0,
           0,
           0,
           0,
           0,
           0,
           0,
           0
          ],
          [
           0,
           0.02640282904919078,
           0.05208545774895815,
           0.0763473309379888,
           0.0985266479616691,
           0.11801841486875742,
           0.1342909470692725,
           0.14690037230410982,
           0.1555027383231814,
           0.15986339500618152,
           0.15986339500618152,
           0.1555027383231814,
           0.14690037230410985,
           0.13429094706927253,
           0.11801841486875746,
           0.09852664796166911,
           0.07634733093798883,
           0.052085457748958175,
           0.0264028290491908,
           1.964471616495832e-17
          ],
          [
           0,
           0.052121838694775345,
           0.10282192950145011,
           0.15071730610809098,
           0.19450150749479733,
           0.23298021478463432,
           0.2651038291492389,
           0.28999610212875754,
           0.30697803740562163,
           0.3155864120540797,
           0.3155864120540797,
           0.30697803740562163,
           0.2899961021287576,
           0.26510382914923897,
           0.2329802147846344,
           0.19450150749479736,
           0.15071730610809103,
           0.10282192950145015,
           0.05212183869477539,
           3.878064450013872e-17
          ],
          [
           0,
           0.07649092009650708,
           0.1508953672897284,
           0.22118378221815102,
           0.28543888015075025,
           0.3419079495164639,
           0.3890506613068728,
           0.42558108523621246,
           0.45050276656739835,
           0.46313590679969047,
           0.46313590679969047,
           0.45050276656739835,
           0.4255810852362125,
           0.3890506613068729,
           0.341907949516464,
           0.2854388801507503,
           0.2211837822181511,
           0.1508953672897285,
           0.07649092009650715,
           5.691217451330058e-17
          ],
          [
           0,
           0.0988789268465705,
           0.1950606943268914,
           0.28592171455125476,
           0.3689835357449422,
           0.44198044795179753,
           0.502921285695566,
           0.5501437417835053,
           0.5823597107132922,
           0.598690424833285,
           0.598690424833285,
           0.5823597107132922,
           0.5501437417835054,
           0.5029212856955662,
           0.4419804479517977,
           0.36898353574494225,
           0.28592171455125487,
           0.19506069432689152,
           0.09887892684657058,
           7.356970910115742e-17
          ],
          [
           0,
           0.1187060213300177,
           0.2341740518416552,
           0.34325442466524575,
           0.4429717115814716,
           0.5306058849468245,
           0.6037665129571378,
           0.6604579643958138,
           0.6991338442511896,
           0.7187391753413048,
           0.7187391753413048,
           0.6991338442511896,
           0.660457964395814,
           0.6037665129571379,
           0.5306058849468246,
           0.44297171158147164,
           0.34325442466524586,
           0.23417405184165535,
           0.1187060213300178,
           8.8321826867684e-17
          ],
          [
           0,
           0.1354586922144208,
           0.26722242441968863,
           0.39169702548365826,
           0.5054871527703725,
           0.605488908236173,
           0.6889745046770733,
           0.7536666726528733,
           0.7978007784610887,
           0.8201729587442986,
           0.8201729587442986,
           0.7978007784610887,
           0.7536666726528733,
           0.6889745046770734,
           0.6054889082361731,
           0.5054871527703726,
           0.39169702548365837,
           0.26722242441968874,
           0.13545869221442092,
           1.0078645571165809e-16
          ],
          [
           0,
           0.14870305412364682,
           0.2933498765707317,
           0.42999487909102246,
           0.5549107422227022,
           0.6646900868508907,
           0.7563384186275245,
           0.8273558099711071,
           0.8758050915743081,
           0.9003646933328433,
           0.9003646933328433,
           0.8758050915743081,
           0.8273558099711072,
           0.7563384186275246,
           0.6646900868508909,
           0.5549107422227023,
           0.42999487909102263,
           0.29334987657073186,
           0.14870305412364695,
           1.1064076829338897e-16
          ],
          [
           0,
           0.15809608504118994,
           0.31187972100819145,
           0.4571560911958444,
           0.5899624349326623,
           0.7066761413618048,
           0.8041135648218102,
           0.8796168664010955,
           0.9311265128549957,
           0.957237455303875,
           0.957237455303875,
           0.9311265128549957,
           0.8796168664010956,
           0.8041135648218103,
           0.706676141361805,
           0.5899624349326624,
           0.45715609119584455,
           0.3118797210081916,
           0.15809608504119008,
           1.1762954309324202e-16
          ],
          [
           0,
           0.16339451040021785,
           0.32233204449441705,
           0.4724772006717372,
           0.6097344104708716,
           0.7303596550113417,
           0.8310625920686276,
           0.9090963080327714,
           0.9623322465509867,
           0.9893182699962312,
           0.9893182699962312,
           0.9623322465509867,
           0.9090963080327715,
           0.8310625920686278,
           0.7303596550113419,
           0.6097344104708717,
           0.4724772006717374,
           0.3223320444944172,
           0.163394510400218,
           1.2157177451493547e-16
          ],
          [
           0,
           0.1644611037670665,
           0.3244361373414681,
           0.4755613988310838,
           0.6137145850566313,
           0.7351272372363558,
           0.8364875347179571,
           0.9150306328127125,
           0.9686140805511727,
           0.9957762611606562,
           0.9957762611606562,
           0.9686140805511727,
           0.9150306328127126,
           0.8364875347179572,
           0.735127237236356,
           0.6137145850566315,
           0.47556139883108395,
           0.32443613734146826,
           0.16446110376706663,
           1.2236536083540634e-16
          ],
          [
           0,
           0.16126824093379016,
           0.31813750464983503,
           0.4663288065616117,
           0.6017998742588596,
           0.7208554101615147,
           0.8202478896047718,
           0.8972661448462753,
           0.9498093186546442,
           0.9764441702182178,
           0.9764441702182178,
           0.9498093186546442,
           0.8972661448462754,
           0.8202478896047719,
           0.7208554101615149,
           0.6017998742588597,
           0.46632880656161185,
           0.3181375046498352,
           0.1612682409337903,
           1.1998974858580612e-16
          ],
          [
           0,
           0.1538986153706371,
           0.30359927769771167,
           0.44501854315344286,
           0.5742988628287095,
           0.6879138066114112,
           0.7827642550072105,
           0.8562629350405349,
           0.9064049943168346,
           0.9318226881696455,
           0.9318226881696455,
           0.9064049943168346,
           0.856262935040535,
           0.7827642550072106,
           0.6879138066114114,
           0.5742988628287096,
           0.44501854315344297,
           0.30359927769771183,
           0.15389861537063723,
           1.145064648755478e-16
          ],
          [
           0,
           0.14254309650860683,
           0.28119798892657893,
           0.4121825332350825,
           0.531923812516605,
           0.6371555968145651,
           0.7250074373721028,
           0.7930829649914648,
           0.8395252567388508,
           0.8630674879614114,
           0.8630674879614114,
           0.8395252567388508,
           0.7930829649914649,
           0.7250074373721029,
           0.6371555968145652,
           0.5319238125166051,
           0.4121825332350827,
           0.28119798892657905,
           0.14254309650860694,
           1.0605752387249069e-16
          ],
          [
           0,
           0.1274957863214463,
           0.25151381994875355,
           0.368671212215454,
           0.4757722148670403,
           0.5698953917426538,
           0.648473307937938,
           0.709362562736425,
           0.7509022559936532,
           0.771959293163464,
           0.771959293163464,
           0.7509022559936532,
           0.7093625627364251,
           0.648473307937938,
           0.569895391742654,
           0.4757722148670404,
           0.3686712122154542,
           0.25151381994875366,
           0.12749578632144642,
           9.486174871058949e-17
          ],
          [
           0,
           0.10914640223901487,
           0.215315575148385,
           0.3156115004535209,
           0.4072983667640625,
           0.4878751953768806,
           0.5551440604555331,
           0.607270042717518,
           0.6428312812490229,
           0.6608577581641384,
           0.6608577581641384,
           0.6428312812490229,
           0.607270042717518,
           0.5551440604555332,
           0.4878751953768808,
           0.4072983667640626,
           0.315611500453521,
           0.21531557514838512,
           0.10914640223901496,
           8.120910408566745e-17
          ],
          [
           0,
           0.08797018367055941,
           0.1735407700517397,
           0.2543776166129328,
           0.32827570490588115,
           0.3932192877198919,
           0.4474368734110843,
           0.48944954757650005,
           0.5181113139837744,
           0.5326403543609658,
           0.5326403543609658,
           0.5181113139837744,
           0.4894495475765001,
           0.44743687341108435,
           0.39321928771989206,
           0.3282757049058812,
           0.2543776166129329,
           0.1735407700517398,
           0.08797018367055948,
           6.545318632210576e-17
          ],
          [
           0,
           0.06451558355364734,
           0.12727135016752564,
           0.18655548612048245,
           0.24075087472592946,
           0.2883792070595441,
           0.3281413063730616,
           0.358952566249266,
           0.3799725358376946,
           0.39062784516294613,
           0.39062784516294613,
           0.3799725358376946,
           0.3589525662492661,
           0.32814130637306166,
           0.28837920705954423,
           0.2407508747259295,
           0.1865554861204825,
           0.12727135016752572,
           0.0645155835536474,
           4.800206541377804e-17
          ],
          [
           0,
           0.039390063711172284,
           0.07770566916653633,
           0.11390166653059874,
           0.14699072335119093,
           0.17607025641498053,
           0.20034705186467258,
           0.21915890200528199,
           0.23199266860380632,
           0.2384982799625705,
           0.2384982799625705,
           0.23199266860380632,
           0.219158902005282,
           0.2003470518646726,
           0.17607025641498059,
           0.14699072335119096,
           0.11390166653059879,
           0.07770566916653637,
           0.03939006371117232,
           2.930771622555806e-17
          ],
          [
           0,
           0.013244361909226048,
           0.026127452151043146,
           0.03829785360736431,
           0.04942358945232989,
           0.059201178614717985,
           0.06736391395045133,
           0.07368913731823402,
           0.07800431311321966,
           0.08019173458854482,
           0.08019173458854482,
           0.07800431311321966,
           0.07368913731823402,
           0.06736391395045134,
           0.059201178614718006,
           0.0494235894523299,
           0.038297853607364325,
           0.02612745215104316,
           0.01324436190922606,
           9.854312581730915e-18
          ],
          [
           0,
           -0.013244361909225935,
           -0.02612745215104292,
           -0.038297853607363985,
           -0.04942358945232946,
           -0.05920117861471748,
           -0.06736391395045074,
           -0.07368913731823339,
           -0.078004313113219,
           -0.08019173458854413,
           -0.08019173458854413,
           -0.078004313113219,
           -0.07368913731823339,
           -0.06736391395045076,
           -0.05920117861471749,
           -0.049423589452329476,
           -0.038297853607364,
           -0.026127452151042934,
           -0.013244361909225946,
           -9.854312581730829e-18
          ],
          [
           0,
           -0.03939006371117217,
           -0.07770566916653612,
           -0.11390166653059844,
           -0.1469907233511905,
           -0.17607025641498006,
           -0.20034705186467203,
           -0.21915890200528138,
           -0.23199266860380569,
           -0.23849827996256984,
           -0.23849827996256984,
           -0.23199266860380569,
           -0.2191589020052814,
           -0.20034705186467205,
           -0.17607025641498011,
           -0.14699072335119054,
           -0.11390166653059848,
           -0.07770566916653616,
           -0.03939006371117221,
           -2.930771622555798e-17
          ],
          [
           0,
           -0.0645155835536473,
           -0.12727135016752558,
           -0.18655548612048234,
           -0.24075087472592932,
           -0.288379207059544,
           -0.32814130637306144,
           -0.35895256624926586,
           -0.37997253583769436,
           -0.3906278451629459,
           -0.3906278451629459,
           -0.37997253583769436,
           -0.35895256624926586,
           -0.32814130637306144,
           -0.28837920705954406,
           -0.24075087472592935,
           -0.1865554861204824,
           -0.12727135016752564,
           -0.06451558355364735,
           -4.8002065413778013e-17
          ],
          [
           0,
           -0.08797018367055931,
           -0.1735407700517395,
           -0.25437761661293257,
           -0.3282757049058808,
           -0.3932192877198915,
           -0.44743687341108385,
           -0.48944954757649956,
           -0.5181113139837739,
           -0.5326403543609652,
           -0.5326403543609652,
           -0.5181113139837739,
           -0.4894495475764996,
           -0.4474368734110839,
           -0.3932192877198916,
           -0.32827570490588087,
           -0.2543776166129326,
           -0.17354077005173962,
           -0.0879701836705594,
           -6.54531863221057e-17
          ],
          [
           0,
           -0.10914640223901477,
           -0.21531557514838484,
           -0.3156115004535206,
           -0.40729836676406217,
           -0.4878751953768802,
           -0.5551440604555327,
           -0.6072700427175175,
           -0.6428312812490223,
           -0.6608577581641378,
           -0.6608577581641378,
           -0.6428312812490223,
           -0.6072700427175176,
           -0.5551440604555327,
           -0.48787519537688034,
           -0.4072983667640623,
           -0.3156115004535207,
           -0.21531557514838495,
           -0.10914640223901487,
           -8.120910408566738e-17
          ],
          [
           0,
           -0.12749578632144626,
           -0.2515138199487534,
           -0.36867121221545385,
           -0.47577221486704,
           -0.5698953917426536,
           -0.6484733079379376,
           -0.7093625627364246,
           -0.7509022559936528,
           -0.7719592931634636,
           -0.7719592931634636,
           -0.7509022559936528,
           -0.7093625627364246,
           -0.6484733079379377,
           -0.5698953917426537,
           -0.47577221486704013,
           -0.36867121221545396,
           -0.25151381994875355,
           -0.12749578632144637,
           -9.486174871058944e-17
          ],
          [
           0,
           -0.14254309650860678,
           -0.2811979889265788,
           -0.41218253323508236,
           -0.5319238125166048,
           -0.6371555968145649,
           -0.7250074373721025,
           -0.7930829649914645,
           -0.8395252567388505,
           -0.8630674879614111,
           -0.8630674879614111,
           -0.8395252567388505,
           -0.7930829649914646,
           -0.7250074373721026,
           -0.637155596814565,
           -0.5319238125166049,
           -0.4121825332350825,
           -0.28119798892657893,
           -0.1425430965086069,
           -1.0605752387249065e-16
          ],
          [
           0,
           -0.1538986153706371,
           -0.30359927769771167,
           -0.4450185431534428,
           -0.5742988628287093,
           -0.6879138066114112,
           -0.7827642550072104,
           -0.8562629350405347,
           -0.9064049943168345,
           -0.9318226881696454,
           -0.9318226881696454,
           -0.9064049943168345,
           -0.8562629350405349,
           -0.7827642550072105,
           -0.6879138066114114,
           -0.5742988628287095,
           -0.44501854315344297,
           -0.3035992776977118,
           -0.1538986153706372,
           -1.145064648755478e-16
          ],
          [
           0,
           -0.16126824093379016,
           -0.31813750464983503,
           -0.4663288065616117,
           -0.6017998742588596,
           -0.7208554101615147,
           -0.8202478896047718,
           -0.8972661448462753,
           -0.9498093186546442,
           -0.9764441702182178,
           -0.9764441702182178,
           -0.9498093186546442,
           -0.8972661448462754,
           -0.8202478896047719,
           -0.7208554101615149,
           -0.6017998742588597,
           -0.46632880656161185,
           -0.3181375046498352,
           -0.1612682409337903,
           -1.1998974858580612e-16
          ],
          [
           0,
           -0.16446110376706646,
           -0.3244361373414681,
           -0.4755613988310837,
           -0.6137145850566313,
           -0.7351272372363558,
           -0.836487534717957,
           -0.9150306328127124,
           -0.9686140805511726,
           -0.9957762611606561,
           -0.9957762611606561,
           -0.9686140805511726,
           -0.9150306328127125,
           -0.8364875347179571,
           -0.735127237236356,
           -0.6137145850566315,
           -0.4755613988310839,
           -0.32443613734146826,
           -0.1644611037670666,
           -1.2236536083540631e-16
          ],
          [
           0,
           -0.16339451040021785,
           -0.3223320444944171,
           -0.47247720067173726,
           -0.6097344104708717,
           -0.7303596550113418,
           -0.8310625920686278,
           -0.9090963080327715,
           -0.9623322465509868,
           -0.9893182699962313,
           -0.9893182699962313,
           -0.9623322465509868,
           -0.9090963080327716,
           -0.8310625920686279,
           -0.730359655011342,
           -0.6097344104708718,
           -0.47247720067173743,
           -0.32233204449441727,
           -0.163394510400218,
           -1.2157177451493547e-16
          ],
          [
           0,
           -0.15809608504118997,
           -0.3118797210081915,
           -0.4571560911958445,
           -0.5899624349326624,
           -0.7066761413618049,
           -0.8041135648218103,
           -0.8796168664010957,
           -0.9311265128549959,
           -0.9572374553038753,
           -0.9572374553038753,
           -0.9311265128549959,
           -0.8796168664010958,
           -0.8041135648218104,
           -0.7066761413618051,
           -0.5899624349326625,
           -0.45715609119584466,
           -0.31187972100819167,
           -0.1580960850411901,
           -1.1762954309324205e-16
          ],
          [
           0,
           -0.14870305412364687,
           -0.29334987657073175,
           -0.4299948790910226,
           -0.5549107422227023,
           -0.6646900868508909,
           -0.7563384186275247,
           -0.8273558099711074,
           -0.8758050915743083,
           -0.9003646933328435,
           -0.9003646933328435,
           -0.8758050915743083,
           -0.8273558099711075,
           -0.7563384186275248,
           -0.6646900868508911,
           -0.5549107422227024,
           -0.42999487909102274,
           -0.2933498765707319,
           -0.14870305412364698,
           -1.10640768293389e-16
          ],
          [
           0,
           -0.13545869221442086,
           -0.2672224244196887,
           -0.39169702548365837,
           -0.5054871527703726,
           -0.6054889082361731,
           -0.6889745046770736,
           -0.7536666726528735,
           -0.7978007784610889,
           -0.8201729587442989,
           -0.8201729587442989,
           -0.7978007784610889,
           -0.7536666726528736,
           -0.6889745046770737,
           -0.6054889082361733,
           -0.5054871527703727,
           -0.3916970254836585,
           -0.2672224244196888,
           -0.13545869221442097,
           -1.0078645571165811e-16
          ],
          [
           0,
           -0.11870602133001773,
           -0.2341740518416553,
           -0.34325442466524586,
           -0.4429717115814717,
           -0.5306058849468246,
           -0.603766512957138,
           -0.6604579643958141,
           -0.6991338442511899,
           -0.718739175341305,
           -0.718739175341305,
           -0.6991338442511899,
           -0.6604579643958141,
           -0.6037665129571381,
           -0.5306058849468247,
           -0.4429717115814718,
           -0.34325442466524597,
           -0.2341740518416554,
           -0.11870602133001784,
           -8.832182686768402e-17
          ],
          [
           0,
           -0.09887892684657063,
           -0.19506069432689166,
           -0.28592171455125515,
           -0.3689835357449427,
           -0.44198044795179814,
           -0.5029212856955667,
           -0.5501437417835061,
           -0.582359710713293,
           -0.5986904248332858,
           -0.5986904248332858,
           -0.582359710713293,
           -0.5501437417835062,
           -0.5029212856955668,
           -0.44198044795179825,
           -0.36898353574494275,
           -0.28592171455125526,
           -0.19506069432689177,
           -0.09887892684657071,
           -7.356970910115752e-17
          ],
          [
           0,
           -0.0764909200965072,
           -0.15089536728972863,
           -0.22118378221815133,
           -0.28543888015075064,
           -0.3419079495164644,
           -0.3890506613068734,
           -0.4255810852362131,
           -0.450502766567399,
           -0.46313590679969113,
           -0.46313590679969113,
           -0.450502766567399,
           -0.42558108523621313,
           -0.38905066130687344,
           -0.34190794951646447,
           -0.2854388801507507,
           -0.2211837822181514,
           -0.15089536728972872,
           -0.07649092009650726,
           -5.691217451330067e-17
          ],
          [
           0,
           -0.052121838694775435,
           -0.10282192950145029,
           -0.15071730610809125,
           -0.19450150749479767,
           -0.23298021478463474,
           -0.2651038291492394,
           -0.28999610212875804,
           -0.3069780374056222,
           -0.3155864120540803,
           -0.3155864120540803,
           -0.3069780374056222,
           -0.2899961021287581,
           -0.2651038291492394,
           -0.2329802147846348,
           -0.1945015074947977,
           -0.1507173061080913,
           -0.10282192950145033,
           -0.05212183869477548,
           -3.8780644500138786e-17
          ],
          [
           0,
           -0.02640282904919084,
           -0.05208545774895828,
           -0.07634733093798898,
           -0.09852664796166934,
           -0.1180184148687577,
           -0.13429094706927283,
           -0.14690037230411018,
           -0.15550273832318176,
           -0.1598633950061819,
           -0.1598633950061819,
           -0.15550273832318176,
           -0.1469003723041102,
           -0.13429094706927283,
           -0.11801841486875773,
           -0.09852664796166936,
           -0.07634733093798901,
           -0.0520854577489583,
           -0.026402829049190866,
           -1.9644716164958365e-17
          ],
          [
           0,
           -4.031404762885416e-17,
           -7.952843312927203e-17,
           -1.1657349028907586e-16,
           -1.5043872651820291e-16,
           -1.8020038645240475e-16,
           -2.0504664959153358e-16,
           -2.242997746465279e-16,
           -2.3743458655503876e-16,
           -2.4409280188810123e-16,
           -2.4409280188810123e-16,
           -2.3743458655503876e-16,
           -2.2429977464652795e-16,
           -2.050466495915336e-16,
           -1.8020038645240483e-16,
           -1.5043872651820294e-16,
           -1.165734902890759e-16,
           -7.952843312927208e-17,
           -4.03140476288542e-17,
           -2.999519565323715e-32
          ]
         ],
         "z": [
          [
           1,
           0.9863613034027223,
           0.9458172417006346,
           0.8794737512064891,
           0.7891405093963936,
           0.6772815716257411,
           0.546948158122427,
           0.40169542465296953,
           0.24548548714079924,
           0.0825793454723324,
           -0.08257934547233227,
           -0.24548548714079912,
           -0.40169542465296926,
           -0.5469481581224267,
           -0.6772815716257409,
           -0.7891405093963935,
           -0.879473751206489,
           -0.9458172417006346,
           -0.9863613034027223,
           -1
          ],
          [
           1,
           0.9863613034027223,
           0.9458172417006346,
           0.8794737512064891,
           0.7891405093963936,
           0.6772815716257411,
           0.546948158122427,
           0.40169542465296953,
           0.24548548714079924,
           0.0825793454723324,
           -0.08257934547233227,
           -0.24548548714079912,
           -0.40169542465296926,
           -0.5469481581224267,
           -0.6772815716257409,
           -0.7891405093963935,
           -0.879473751206489,
           -0.9458172417006346,
           -0.9863613034027223,
           -1
          ],
          [
           1,
           0.9863613034027223,
           0.9458172417006346,
           0.8794737512064891,
           0.7891405093963936,
           0.6772815716257411,
           0.546948158122427,
           0.40169542465296953,
           0.24548548714079924,
           0.0825793454723324,
           -0.08257934547233227,
           -0.24548548714079912,
           -0.40169542465296926,
           -0.5469481581224267,
           -0.6772815716257409,
           -0.7891405093963935,
           -0.879473751206489,
           -0.9458172417006346,
           -0.9863613034027223,
           -1
          ],
          [
           1,
           0.9863613034027223,
           0.9458172417006346,
           0.8794737512064891,
           0.7891405093963936,
           0.6772815716257411,
           0.546948158122427,
           0.40169542465296953,
           0.24548548714079924,
           0.0825793454723324,
           -0.08257934547233227,
           -0.24548548714079912,
           -0.40169542465296926,
           -0.5469481581224267,
           -0.6772815716257409,
           -0.7891405093963935,
           -0.879473751206489,
           -0.9458172417006346,
           -0.9863613034027223,
           -1
          ],
          [
           1,
           0.9863613034027223,
           0.9458172417006346,
           0.8794737512064891,
           0.7891405093963936,
           0.6772815716257411,
           0.546948158122427,
           0.40169542465296953,
           0.24548548714079924,
           0.0825793454723324,
           -0.08257934547233227,
           -0.24548548714079912,
           -0.40169542465296926,
           -0.5469481581224267,
           -0.6772815716257409,
           -0.7891405093963935,
           -0.879473751206489,
           -0.9458172417006346,
           -0.9863613034027223,
           -1
          ],
          [
           1,
           0.9863613034027223,
           0.9458172417006346,
           0.8794737512064891,
           0.7891405093963936,
           0.6772815716257411,
           0.546948158122427,
           0.40169542465296953,
           0.24548548714079924,
           0.0825793454723324,
           -0.08257934547233227,
           -0.24548548714079912,
           -0.40169542465296926,
           -0.5469481581224267,
           -0.6772815716257409,
           -0.7891405093963935,
           -0.879473751206489,
           -0.9458172417006346,
           -0.9863613034027223,
           -1
          ],
          [
           1,
           0.9863613034027223,
           0.9458172417006346,
           0.8794737512064891,
           0.7891405093963936,
           0.6772815716257411,
           0.546948158122427,
           0.40169542465296953,
           0.24548548714079924,
           0.0825793454723324,
           -0.08257934547233227,
           -0.24548548714079912,
           -0.40169542465296926,
           -0.5469481581224267,
           -0.6772815716257409,
           -0.7891405093963935,
           -0.879473751206489,
           -0.9458172417006346,
           -0.9863613034027223,
           -1
          ],
          [
           1,
           0.9863613034027223,
           0.9458172417006346,
           0.8794737512064891,
           0.7891405093963936,
           0.6772815716257411,
           0.546948158122427,
           0.40169542465296953,
           0.24548548714079924,
           0.0825793454723324,
           -0.08257934547233227,
           -0.24548548714079912,
           -0.40169542465296926,
           -0.5469481581224267,
           -0.6772815716257409,
           -0.7891405093963935,
           -0.879473751206489,
           -0.9458172417006346,
           -0.9863613034027223,
           -1
          ],
          [
           1,
           0.9863613034027223,
           0.9458172417006346,
           0.8794737512064891,
           0.7891405093963936,
           0.6772815716257411,
           0.546948158122427,
           0.40169542465296953,
           0.24548548714079924,
           0.0825793454723324,
           -0.08257934547233227,
           -0.24548548714079912,
           -0.40169542465296926,
           -0.5469481581224267,
           -0.6772815716257409,
           -0.7891405093963935,
           -0.879473751206489,
           -0.9458172417006346,
           -0.9863613034027223,
           -1
          ],
          [
           1,
           0.9863613034027223,
           0.9458172417006346,
           0.8794737512064891,
           0.7891405093963936,
           0.6772815716257411,
           0.546948158122427,
           0.40169542465296953,
           0.24548548714079924,
           0.0825793454723324,
           -0.08257934547233227,
           -0.24548548714079912,
           -0.40169542465296926,
           -0.5469481581224267,
           -0.6772815716257409,
           -0.7891405093963935,
           -0.879473751206489,
           -0.9458172417006346,
           -0.9863613034027223,
           -1
          ],
          [
           1,
           0.9863613034027223,
           0.9458172417006346,
           0.8794737512064891,
           0.7891405093963936,
           0.6772815716257411,
           0.546948158122427,
           0.40169542465296953,
           0.24548548714079924,
           0.0825793454723324,
           -0.08257934547233227,
           -0.24548548714079912,
           -0.40169542465296926,
           -0.5469481581224267,
           -0.6772815716257409,
           -0.7891405093963935,
           -0.879473751206489,
           -0.9458172417006346,
           -0.9863613034027223,
           -1
          ],
          [
           1,
           0.9863613034027223,
           0.9458172417006346,
           0.8794737512064891,
           0.7891405093963936,
           0.6772815716257411,
           0.546948158122427,
           0.40169542465296953,
           0.24548548714079924,
           0.0825793454723324,
           -0.08257934547233227,
           -0.24548548714079912,
           -0.40169542465296926,
           -0.5469481581224267,
           -0.6772815716257409,
           -0.7891405093963935,
           -0.879473751206489,
           -0.9458172417006346,
           -0.9863613034027223,
           -1
          ],
          [
           1,
           0.9863613034027223,
           0.9458172417006346,
           0.8794737512064891,
           0.7891405093963936,
           0.6772815716257411,
           0.546948158122427,
           0.40169542465296953,
           0.24548548714079924,
           0.0825793454723324,
           -0.08257934547233227,
           -0.24548548714079912,
           -0.40169542465296926,
           -0.5469481581224267,
           -0.6772815716257409,
           -0.7891405093963935,
           -0.879473751206489,
           -0.9458172417006346,
           -0.9863613034027223,
           -1
          ],
          [
           1,
           0.9863613034027223,
           0.9458172417006346,
           0.8794737512064891,
           0.7891405093963936,
           0.6772815716257411,
           0.546948158122427,
           0.40169542465296953,
           0.24548548714079924,
           0.0825793454723324,
           -0.08257934547233227,
           -0.24548548714079912,
           -0.40169542465296926,
           -0.5469481581224267,
           -0.6772815716257409,
           -0.7891405093963935,
           -0.879473751206489,
           -0.9458172417006346,
           -0.9863613034027223,
           -1
          ],
          [
           1,
           0.9863613034027223,
           0.9458172417006346,
           0.8794737512064891,
           0.7891405093963936,
           0.6772815716257411,
           0.546948158122427,
           0.40169542465296953,
           0.24548548714079924,
           0.0825793454723324,
           -0.08257934547233227,
           -0.24548548714079912,
           -0.40169542465296926,
           -0.5469481581224267,
           -0.6772815716257409,
           -0.7891405093963935,
           -0.879473751206489,
           -0.9458172417006346,
           -0.9863613034027223,
           -1
          ],
          [
           1,
           0.9863613034027223,
           0.9458172417006346,
           0.8794737512064891,
           0.7891405093963936,
           0.6772815716257411,
           0.546948158122427,
           0.40169542465296953,
           0.24548548714079924,
           0.0825793454723324,
           -0.08257934547233227,
           -0.24548548714079912,
           -0.40169542465296926,
           -0.5469481581224267,
           -0.6772815716257409,
           -0.7891405093963935,
           -0.879473751206489,
           -0.9458172417006346,
           -0.9863613034027223,
           -1
          ],
          [
           1,
           0.9863613034027223,
           0.9458172417006346,
           0.8794737512064891,
           0.7891405093963936,
           0.6772815716257411,
           0.546948158122427,
           0.40169542465296953,
           0.24548548714079924,
           0.0825793454723324,
           -0.08257934547233227,
           -0.24548548714079912,
           -0.40169542465296926,
           -0.5469481581224267,
           -0.6772815716257409,
           -0.7891405093963935,
           -0.879473751206489,
           -0.9458172417006346,
           -0.9863613034027223,
           -1
          ],
          [
           1,
           0.9863613034027223,
           0.9458172417006346,
           0.8794737512064891,
           0.7891405093963936,
           0.6772815716257411,
           0.546948158122427,
           0.40169542465296953,
           0.24548548714079924,
           0.0825793454723324,
           -0.08257934547233227,
           -0.24548548714079912,
           -0.40169542465296926,
           -0.5469481581224267,
           -0.6772815716257409,
           -0.7891405093963935,
           -0.879473751206489,
           -0.9458172417006346,
           -0.9863613034027223,
           -1
          ],
          [
           1,
           0.9863613034027223,
           0.9458172417006346,
           0.8794737512064891,
           0.7891405093963936,
           0.6772815716257411,
           0.546948158122427,
           0.40169542465296953,
           0.24548548714079924,
           0.0825793454723324,
           -0.08257934547233227,
           -0.24548548714079912,
           -0.40169542465296926,
           -0.5469481581224267,
           -0.6772815716257409,
           -0.7891405093963935,
           -0.879473751206489,
           -0.9458172417006346,
           -0.9863613034027223,
           -1
          ],
          [
           1,
           0.9863613034027223,
           0.9458172417006346,
           0.8794737512064891,
           0.7891405093963936,
           0.6772815716257411,
           0.546948158122427,
           0.40169542465296953,
           0.24548548714079924,
           0.0825793454723324,
           -0.08257934547233227,
           -0.24548548714079912,
           -0.40169542465296926,
           -0.5469481581224267,
           -0.6772815716257409,
           -0.7891405093963935,
           -0.879473751206489,
           -0.9458172417006346,
           -0.9863613034027223,
           -1
          ],
          [
           1,
           0.9863613034027223,
           0.9458172417006346,
           0.8794737512064891,
           0.7891405093963936,
           0.6772815716257411,
           0.546948158122427,
           0.40169542465296953,
           0.24548548714079924,
           0.0825793454723324,
           -0.08257934547233227,
           -0.24548548714079912,
           -0.40169542465296926,
           -0.5469481581224267,
           -0.6772815716257409,
           -0.7891405093963935,
           -0.879473751206489,
           -0.9458172417006346,
           -0.9863613034027223,
           -1
          ],
          [
           1,
           0.9863613034027223,
           0.9458172417006346,
           0.8794737512064891,
           0.7891405093963936,
           0.6772815716257411,
           0.546948158122427,
           0.40169542465296953,
           0.24548548714079924,
           0.0825793454723324,
           -0.08257934547233227,
           -0.24548548714079912,
           -0.40169542465296926,
           -0.5469481581224267,
           -0.6772815716257409,
           -0.7891405093963935,
           -0.879473751206489,
           -0.9458172417006346,
           -0.9863613034027223,
           -1
          ],
          [
           1,
           0.9863613034027223,
           0.9458172417006346,
           0.8794737512064891,
           0.7891405093963936,
           0.6772815716257411,
           0.546948158122427,
           0.40169542465296953,
           0.24548548714079924,
           0.0825793454723324,
           -0.08257934547233227,
           -0.24548548714079912,
           -0.40169542465296926,
           -0.5469481581224267,
           -0.6772815716257409,
           -0.7891405093963935,
           -0.879473751206489,
           -0.9458172417006346,
           -0.9863613034027223,
           -1
          ],
          [
           1,
           0.9863613034027223,
           0.9458172417006346,
           0.8794737512064891,
           0.7891405093963936,
           0.6772815716257411,
           0.546948158122427,
           0.40169542465296953,
           0.24548548714079924,
           0.0825793454723324,
           -0.08257934547233227,
           -0.24548548714079912,
           -0.40169542465296926,
           -0.5469481581224267,
           -0.6772815716257409,
           -0.7891405093963935,
           -0.879473751206489,
           -0.9458172417006346,
           -0.9863613034027223,
           -1
          ],
          [
           1,
           0.9863613034027223,
           0.9458172417006346,
           0.8794737512064891,
           0.7891405093963936,
           0.6772815716257411,
           0.546948158122427,
           0.40169542465296953,
           0.24548548714079924,
           0.0825793454723324,
           -0.08257934547233227,
           -0.24548548714079912,
           -0.40169542465296926,
           -0.5469481581224267,
           -0.6772815716257409,
           -0.7891405093963935,
           -0.879473751206489,
           -0.9458172417006346,
           -0.9863613034027223,
           -1
          ],
          [
           1,
           0.9863613034027223,
           0.9458172417006346,
           0.8794737512064891,
           0.7891405093963936,
           0.6772815716257411,
           0.546948158122427,
           0.40169542465296953,
           0.24548548714079924,
           0.0825793454723324,
           -0.08257934547233227,
           -0.24548548714079912,
           -0.40169542465296926,
           -0.5469481581224267,
           -0.6772815716257409,
           -0.7891405093963935,
           -0.879473751206489,
           -0.9458172417006346,
           -0.9863613034027223,
           -1
          ],
          [
           1,
           0.9863613034027223,
           0.9458172417006346,
           0.8794737512064891,
           0.7891405093963936,
           0.6772815716257411,
           0.546948158122427,
           0.40169542465296953,
           0.24548548714079924,
           0.0825793454723324,
           -0.08257934547233227,
           -0.24548548714079912,
           -0.40169542465296926,
           -0.5469481581224267,
           -0.6772815716257409,
           -0.7891405093963935,
           -0.879473751206489,
           -0.9458172417006346,
           -0.9863613034027223,
           -1
          ],
          [
           1,
           0.9863613034027223,
           0.9458172417006346,
           0.8794737512064891,
           0.7891405093963936,
           0.6772815716257411,
           0.546948158122427,
           0.40169542465296953,
           0.24548548714079924,
           0.0825793454723324,
           -0.08257934547233227,
           -0.24548548714079912,
           -0.40169542465296926,
           -0.5469481581224267,
           -0.6772815716257409,
           -0.7891405093963935,
           -0.879473751206489,
           -0.9458172417006346,
           -0.9863613034027223,
           -1
          ],
          [
           1,
           0.9863613034027223,
           0.9458172417006346,
           0.8794737512064891,
           0.7891405093963936,
           0.6772815716257411,
           0.546948158122427,
           0.40169542465296953,
           0.24548548714079924,
           0.0825793454723324,
           -0.08257934547233227,
           -0.24548548714079912,
           -0.40169542465296926,
           -0.5469481581224267,
           -0.6772815716257409,
           -0.7891405093963935,
           -0.879473751206489,
           -0.9458172417006346,
           -0.9863613034027223,
           -1
          ],
          [
           1,
           0.9863613034027223,
           0.9458172417006346,
           0.8794737512064891,
           0.7891405093963936,
           0.6772815716257411,
           0.546948158122427,
           0.40169542465296953,
           0.24548548714079924,
           0.0825793454723324,
           -0.08257934547233227,
           -0.24548548714079912,
           -0.40169542465296926,
           -0.5469481581224267,
           -0.6772815716257409,
           -0.7891405093963935,
           -0.879473751206489,
           -0.9458172417006346,
           -0.9863613034027223,
           -1
          ],
          [
           1,
           0.9863613034027223,
           0.9458172417006346,
           0.8794737512064891,
           0.7891405093963936,
           0.6772815716257411,
           0.546948158122427,
           0.40169542465296953,
           0.24548548714079924,
           0.0825793454723324,
           -0.08257934547233227,
           -0.24548548714079912,
           -0.40169542465296926,
           -0.5469481581224267,
           -0.6772815716257409,
           -0.7891405093963935,
           -0.879473751206489,
           -0.9458172417006346,
           -0.9863613034027223,
           -1
          ],
          [
           1,
           0.9863613034027223,
           0.9458172417006346,
           0.8794737512064891,
           0.7891405093963936,
           0.6772815716257411,
           0.546948158122427,
           0.40169542465296953,
           0.24548548714079924,
           0.0825793454723324,
           -0.08257934547233227,
           -0.24548548714079912,
           -0.40169542465296926,
           -0.5469481581224267,
           -0.6772815716257409,
           -0.7891405093963935,
           -0.879473751206489,
           -0.9458172417006346,
           -0.9863613034027223,
           -1
          ],
          [
           1,
           0.9863613034027223,
           0.9458172417006346,
           0.8794737512064891,
           0.7891405093963936,
           0.6772815716257411,
           0.546948158122427,
           0.40169542465296953,
           0.24548548714079924,
           0.0825793454723324,
           -0.08257934547233227,
           -0.24548548714079912,
           -0.40169542465296926,
           -0.5469481581224267,
           -0.6772815716257409,
           -0.7891405093963935,
           -0.879473751206489,
           -0.9458172417006346,
           -0.9863613034027223,
           -1
          ],
          [
           1,
           0.9863613034027223,
           0.9458172417006346,
           0.8794737512064891,
           0.7891405093963936,
           0.6772815716257411,
           0.546948158122427,
           0.40169542465296953,
           0.24548548714079924,
           0.0825793454723324,
           -0.08257934547233227,
           -0.24548548714079912,
           -0.40169542465296926,
           -0.5469481581224267,
           -0.6772815716257409,
           -0.7891405093963935,
           -0.879473751206489,
           -0.9458172417006346,
           -0.9863613034027223,
           -1
          ],
          [
           1,
           0.9863613034027223,
           0.9458172417006346,
           0.8794737512064891,
           0.7891405093963936,
           0.6772815716257411,
           0.546948158122427,
           0.40169542465296953,
           0.24548548714079924,
           0.0825793454723324,
           -0.08257934547233227,
           -0.24548548714079912,
           -0.40169542465296926,
           -0.5469481581224267,
           -0.6772815716257409,
           -0.7891405093963935,
           -0.879473751206489,
           -0.9458172417006346,
           -0.9863613034027223,
           -1
          ],
          [
           1,
           0.9863613034027223,
           0.9458172417006346,
           0.8794737512064891,
           0.7891405093963936,
           0.6772815716257411,
           0.546948158122427,
           0.40169542465296953,
           0.24548548714079924,
           0.0825793454723324,
           -0.08257934547233227,
           -0.24548548714079912,
           -0.40169542465296926,
           -0.5469481581224267,
           -0.6772815716257409,
           -0.7891405093963935,
           -0.879473751206489,
           -0.9458172417006346,
           -0.9863613034027223,
           -1
          ],
          [
           1,
           0.9863613034027223,
           0.9458172417006346,
           0.8794737512064891,
           0.7891405093963936,
           0.6772815716257411,
           0.546948158122427,
           0.40169542465296953,
           0.24548548714079924,
           0.0825793454723324,
           -0.08257934547233227,
           -0.24548548714079912,
           -0.40169542465296926,
           -0.5469481581224267,
           -0.6772815716257409,
           -0.7891405093963935,
           -0.879473751206489,
           -0.9458172417006346,
           -0.9863613034027223,
           -1
          ],
          [
           1,
           0.9863613034027223,
           0.9458172417006346,
           0.8794737512064891,
           0.7891405093963936,
           0.6772815716257411,
           0.546948158122427,
           0.40169542465296953,
           0.24548548714079924,
           0.0825793454723324,
           -0.08257934547233227,
           -0.24548548714079912,
           -0.40169542465296926,
           -0.5469481581224267,
           -0.6772815716257409,
           -0.7891405093963935,
           -0.879473751206489,
           -0.9458172417006346,
           -0.9863613034027223,
           -1
          ],
          [
           1,
           0.9863613034027223,
           0.9458172417006346,
           0.8794737512064891,
           0.7891405093963936,
           0.6772815716257411,
           0.546948158122427,
           0.40169542465296953,
           0.24548548714079924,
           0.0825793454723324,
           -0.08257934547233227,
           -0.24548548714079912,
           -0.40169542465296926,
           -0.5469481581224267,
           -0.6772815716257409,
           -0.7891405093963935,
           -0.879473751206489,
           -0.9458172417006346,
           -0.9863613034027223,
           -1
          ],
          [
           1,
           0.9863613034027223,
           0.9458172417006346,
           0.8794737512064891,
           0.7891405093963936,
           0.6772815716257411,
           0.546948158122427,
           0.40169542465296953,
           0.24548548714079924,
           0.0825793454723324,
           -0.08257934547233227,
           -0.24548548714079912,
           -0.40169542465296926,
           -0.5469481581224267,
           -0.6772815716257409,
           -0.7891405093963935,
           -0.879473751206489,
           -0.9458172417006346,
           -0.9863613034027223,
           -1
          ]
         ]
        },
        {
         "marker": {
          "color": "red",
          "size": 5
         },
         "mode": "markers",
         "name": "qubit",
         "type": "scatter3d",
         "x": [
          0.14724444986612922
         ],
         "y": [
          0.4884315738049957
         ],
         "z": [
          0.8600893382050472
         ]
        },
        {
         "line": {
          "color": "red",
          "width": 3
         },
         "mode": "lines",
         "name": "qubit line",
         "opacity": 0.5,
         "type": "scatter3d",
         "x": [
          0,
          0.14724444986612922
         ],
         "y": [
          0,
          0.4884315738049957
         ],
         "z": [
          0,
          0.8600893382050472
         ]
        },
        {
         "line": {
          "color": "gray",
          "width": 3
         },
         "mode": "lines",
         "name": "Equator",
         "opacity": 0.1,
         "type": "scatter3d",
         "x": [
          1,
          0.9979866764718844,
          0.9919548128307953,
          0.9819286972627067,
          0.9679487013963562,
          0.9500711177409454,
          0.9283679330160726,
          0.9029265382866212,
          0.8738493770697849,
          0.8412535328311812,
          0.8052702575310586,
          0.766044443118978,
          0.7237340381050701,
          0.6785094115571322,
          0.6305526670845225,
          0.5800569095711982,
          0.5272254676105024,
          0.4722710747726827,
          0.41541501300188644,
          0.3568862215918719,
          0.2969203753282749,
          0.23575893550942728,
          0.17364817766693041,
          0.1108381999010111,
          0.04758191582374218,
          -0.01586596383480803,
          -0.07924995685678854,
          -0.14231483827328523,
          -0.20480666806519074,
          -0.26647381369003503,
          -0.32706796331742166,
          -0.3863451256931287,
          -0.4440666126057741,
          -0.5000000000000002,
          -0.5539200638661103,
          -0.6056096871376668,
          -0.654860733945285,
          -0.7014748877063214,
          -0.7452644496757547,
          -0.7860530947427875,
          -0.8236765814298327,
          -0.8579834132349771,
          -0.8888354486549234,
          -0.9161084574320696,
          -0.9396926207859083,
          -0.9594929736144974,
          -0.975429786885407,
          -0.9874388886763943,
          -0.9954719225730846,
          -0.9994965423831851,
          -0.9994965423831851,
          -0.9954719225730846,
          -0.9874388886763943,
          -0.975429786885407,
          -0.9594929736144974,
          -0.9396926207859084,
          -0.9161084574320696,
          -0.8888354486549235,
          -0.857983413234977,
          -0.8236765814298328,
          -0.7860530947427874,
          -0.7452644496757548,
          -0.7014748877063213,
          -0.6548607339452852,
          -0.6056096871376666,
          -0.5539200638661105,
          -0.4999999999999996,
          -0.44406661260577396,
          -0.3863451256931287,
          -0.3270679633174219,
          -0.26647381369003464,
          -0.20480666806519054,
          -0.14231483827328523,
          -0.07924995685678879,
          -0.01586596383480761,
          0.04758191582374238,
          0.11083819990101086,
          0.17364817766692997,
          0.23575893550942748,
          0.2969203753282749,
          0.35688622159187167,
          0.4154150130018868,
          0.4722710747726829,
          0.5272254676105024,
          0.5800569095711979,
          0.6305526670845228,
          0.6785094115571323,
          0.7237340381050701,
          0.7660444431189778,
          0.8052702575310587,
          0.8412535328311812,
          0.8738493770697849,
          0.9029265382866211,
          0.9283679330160727,
          0.9500711177409454,
          0.9679487013963562,
          0.9819286972627068,
          0.9919548128307953,
          0.9979866764718844,
          1
         ],
         "y": [
          0,
          0.0634239196565645,
          0.12659245357374926,
          0.18925124436041021,
          0.2511479871810792,
          0.3120334456984871,
          0.3716624556603276,
          0.42979491208917164,
          0.4861967361004687,
          0.5406408174555976,
          0.5929079290546404,
          0.6427876096865393,
          0.690079011482112,
          0.7345917086575333,
          0.7761464642917568,
          0.8145759520503357,
          0.8497254299495144,
          0.8814533634475821,
          0.9096319953545183,
          0.9341478602651067,
          0.9549022414440739,
          0.9718115683235417,
          0.984807753012208,
          0.9938384644612541,
          0.998867339183008,
          0.9998741276738751,
          0.9968547759519424,
          0.9898214418809327,
          0.9788024462147787,
          0.963842158559942,
          0.9450008187146685,
          0.9223542941045814,
          0.8959937742913359,
          0.8660254037844385,
          0.8325698546347714,
          0.795761840530832,
          0.7557495743542583,
          0.7126941713788627,
          0.6667690005162917,
          0.6181589862206051,
          0.5670598638627709,
          0.5136773915734063,
          0.4582265217274105,
          0.4009305354066136,
          0.3420201433256689,
          0.28173255684142967,
          0.2203105327865408,
          0.1580013959733499,
          0.09505604330418244,
          0.031727933498067656,
          -0.03172793349806786,
          -0.09505604330418263,
          -0.15800139597335008,
          -0.22031053278654056,
          -0.28173255684142984,
          -0.34202014332566866,
          -0.4009305354066138,
          -0.4582265217274103,
          -0.5136773915734064,
          -0.5670598638627706,
          -0.6181589862206053,
          -0.6667690005162915,
          -0.7126941713788629,
          -0.7557495743542582,
          -0.7957618405308321,
          -0.8325698546347713,
          -0.8660254037844388,
          -0.895993774291336,
          -0.9223542941045814,
          -0.9450008187146683,
          -0.9638421585599422,
          -0.9788024462147787,
          -0.9898214418809327,
          -0.9968547759519423,
          -0.9998741276738751,
          -0.998867339183008,
          -0.9938384644612541,
          -0.9848077530122081,
          -0.9718115683235417,
          -0.9549022414440739,
          -0.9341478602651068,
          -0.9096319953545182,
          -0.881453363447582,
          -0.8497254299495144,
          -0.8145759520503358,
          -0.7761464642917566,
          -0.7345917086575332,
          -0.690079011482112,
          -0.6427876096865396,
          -0.5929079290546402,
          -0.5406408174555974,
          -0.4861967361004688,
          -0.4297949120891719,
          -0.37166245566032724,
          -0.31203344569848707,
          -0.2511479871810794,
          -0.18925124436040974,
          -0.12659245357374904,
          -0.06342391965656452,
          -2.4492935982947064e-16
         ],
         "z": [
          0,
          0,
          0,
          0,
          0,
          0,
          0,
          0,
          0,
          0,
          0,
          0,
          0,
          0,
          0,
          0,
          0,
          0,
          0,
          0,
          0,
          0,
          0,
          0,
          0,
          0,
          0,
          0,
          0,
          0,
          0,
          0,
          0,
          0,
          0,
          0,
          0,
          0,
          0,
          0,
          0,
          0,
          0,
          0,
          0,
          0,
          0,
          0,
          0,
          0,
          0,
          0,
          0,
          0,
          0,
          0,
          0,
          0,
          0,
          0,
          0,
          0,
          0,
          0,
          0,
          0,
          0,
          0,
          0,
          0,
          0,
          0,
          0,
          0,
          0,
          0,
          0,
          0,
          0,
          0,
          0,
          0,
          0,
          0,
          0,
          0,
          0,
          0,
          0,
          0,
          0,
          0,
          0,
          0,
          0,
          0,
          0,
          0,
          0,
          0
         ]
        },
        {
         "line": {
          "color": "gray",
          "width": 3
         },
         "mode": "lines",
         "name": "x line",
         "opacity": 0.1,
         "type": "scatter3d",
         "x": [
          1,
          -1
         ],
         "y": [
          0,
          0
         ],
         "z": [
          0,
          0
         ]
        },
        {
         "line": {
          "color": "gray",
          "width": 3
         },
         "mode": "lines",
         "name": "y line",
         "opacity": 0.1,
         "type": "scatter3d",
         "x": [
          0,
          0
         ],
         "y": [
          1,
          -1
         ],
         "z": [
          0,
          0
         ]
        },
        {
         "line": {
          "color": "gray",
          "width": 3
         },
         "mode": "lines",
         "name": "z line",
         "opacity": 0.1,
         "type": "scatter3d",
         "x": [
          0,
          0
         ],
         "y": [
          0,
          0
         ],
         "z": [
          1,
          -1
         ]
        },
        {
         "mode": "text",
         "name": "|0⟩",
         "text": [
          "|0⟩"
         ],
         "textposition": "middle center",
         "type": "scatter3d",
         "x": [
          0
         ],
         "y": [
          0
         ],
         "z": [
          1
         ]
        },
        {
         "mode": "text",
         "name": "|1⟩",
         "text": [
          "|1⟩"
         ],
         "textposition": "middle center",
         "type": "scatter3d",
         "x": [
          0
         ],
         "y": [
          0
         ],
         "z": [
          -1
         ]
        },
        {
         "mode": "text",
         "name": "|+⟩",
         "text": [
          "|+⟩"
         ],
         "textposition": "middle center",
         "type": "scatter3d",
         "x": [
          1
         ],
         "y": [
          0
         ],
         "z": [
          0
         ]
        },
        {
         "mode": "text",
         "name": "|‒⟩",
         "text": [
          "|‒⟩"
         ],
         "textposition": "middle center",
         "type": "scatter3d",
         "x": [
          -1
         ],
         "y": [
          0
         ],
         "z": [
          0
         ]
        },
        {
         "mode": "text",
         "name": "|i+⟩",
         "text": [
          "|i+⟩"
         ],
         "textposition": "middle center",
         "type": "scatter3d",
         "x": [
          0
         ],
         "y": [
          1
         ],
         "z": [
          0
         ]
        },
        {
         "mode": "text",
         "name": "|i‒⟩",
         "text": [
          "|i‒⟩"
         ],
         "textposition": "middle center",
         "type": "scatter3d",
         "x": [
          0
         ],
         "y": [
          -1
         ],
         "z": [
          0
         ]
        }
       ],
       "layout": {
        "scene": {
         "aspectmode": "cube",
         "xaxis": {
          "range": [
           -1,
           1
          ],
          "showbackground": false,
          "showgrid": false,
          "visible": false
         },
         "yaxis": {
          "range": [
           -1,
           1
          ],
          "showbackground": false,
          "showgrid": false,
          "visible": false
         },
         "zaxis": {
          "range": [
           -1,
           1
          ],
          "showbackground": false,
          "showgrid": false,
          "visible": false
         }
        },
        "showlegend": false,
        "template": {
         "data": {
          "bar": [
           {
            "error_x": {
             "color": "#2a3f5f"
            },
            "error_y": {
             "color": "#2a3f5f"
            },
            "marker": {
             "line": {
              "color": "#E5ECF6",
              "width": 0.5
             },
             "pattern": {
              "fillmode": "overlay",
              "size": 10,
              "solidity": 0.2
             }
            },
            "type": "bar"
           }
          ],
          "barpolar": [
           {
            "marker": {
             "line": {
              "color": "#E5ECF6",
              "width": 0.5
             },
             "pattern": {
              "fillmode": "overlay",
              "size": 10,
              "solidity": 0.2
             }
            },
            "type": "barpolar"
           }
          ],
          "carpet": [
           {
            "aaxis": {
             "endlinecolor": "#2a3f5f",
             "gridcolor": "white",
             "linecolor": "white",
             "minorgridcolor": "white",
             "startlinecolor": "#2a3f5f"
            },
            "baxis": {
             "endlinecolor": "#2a3f5f",
             "gridcolor": "white",
             "linecolor": "white",
             "minorgridcolor": "white",
             "startlinecolor": "#2a3f5f"
            },
            "type": "carpet"
           }
          ],
          "choropleth": [
           {
            "colorbar": {
             "outlinewidth": 0,
             "ticks": ""
            },
            "type": "choropleth"
           }
          ],
          "contour": [
           {
            "colorbar": {
             "outlinewidth": 0,
             "ticks": ""
            },
            "colorscale": [
             [
              0,
              "#0d0887"
             ],
             [
              0.1111111111111111,
              "#46039f"
             ],
             [
              0.2222222222222222,
              "#7201a8"
             ],
             [
              0.3333333333333333,
              "#9c179e"
             ],
             [
              0.4444444444444444,
              "#bd3786"
             ],
             [
              0.5555555555555556,
              "#d8576b"
             ],
             [
              0.6666666666666666,
              "#ed7953"
             ],
             [
              0.7777777777777778,
              "#fb9f3a"
             ],
             [
              0.8888888888888888,
              "#fdca26"
             ],
             [
              1,
              "#f0f921"
             ]
            ],
            "type": "contour"
           }
          ],
          "contourcarpet": [
           {
            "colorbar": {
             "outlinewidth": 0,
             "ticks": ""
            },
            "type": "contourcarpet"
           }
          ],
          "heatmap": [
           {
            "colorbar": {
             "outlinewidth": 0,
             "ticks": ""
            },
            "colorscale": [
             [
              0,
              "#0d0887"
             ],
             [
              0.1111111111111111,
              "#46039f"
             ],
             [
              0.2222222222222222,
              "#7201a8"
             ],
             [
              0.3333333333333333,
              "#9c179e"
             ],
             [
              0.4444444444444444,
              "#bd3786"
             ],
             [
              0.5555555555555556,
              "#d8576b"
             ],
             [
              0.6666666666666666,
              "#ed7953"
             ],
             [
              0.7777777777777778,
              "#fb9f3a"
             ],
             [
              0.8888888888888888,
              "#fdca26"
             ],
             [
              1,
              "#f0f921"
             ]
            ],
            "type": "heatmap"
           }
          ],
          "heatmapgl": [
           {
            "colorbar": {
             "outlinewidth": 0,
             "ticks": ""
            },
            "colorscale": [
             [
              0,
              "#0d0887"
             ],
             [
              0.1111111111111111,
              "#46039f"
             ],
             [
              0.2222222222222222,
              "#7201a8"
             ],
             [
              0.3333333333333333,
              "#9c179e"
             ],
             [
              0.4444444444444444,
              "#bd3786"
             ],
             [
              0.5555555555555556,
              "#d8576b"
             ],
             [
              0.6666666666666666,
              "#ed7953"
             ],
             [
              0.7777777777777778,
              "#fb9f3a"
             ],
             [
              0.8888888888888888,
              "#fdca26"
             ],
             [
              1,
              "#f0f921"
             ]
            ],
            "type": "heatmapgl"
           }
          ],
          "histogram": [
           {
            "marker": {
             "pattern": {
              "fillmode": "overlay",
              "size": 10,
              "solidity": 0.2
             }
            },
            "type": "histogram"
           }
          ],
          "histogram2d": [
           {
            "colorbar": {
             "outlinewidth": 0,
             "ticks": ""
            },
            "colorscale": [
             [
              0,
              "#0d0887"
             ],
             [
              0.1111111111111111,
              "#46039f"
             ],
             [
              0.2222222222222222,
              "#7201a8"
             ],
             [
              0.3333333333333333,
              "#9c179e"
             ],
             [
              0.4444444444444444,
              "#bd3786"
             ],
             [
              0.5555555555555556,
              "#d8576b"
             ],
             [
              0.6666666666666666,
              "#ed7953"
             ],
             [
              0.7777777777777778,
              "#fb9f3a"
             ],
             [
              0.8888888888888888,
              "#fdca26"
             ],
             [
              1,
              "#f0f921"
             ]
            ],
            "type": "histogram2d"
           }
          ],
          "histogram2dcontour": [
           {
            "colorbar": {
             "outlinewidth": 0,
             "ticks": ""
            },
            "colorscale": [
             [
              0,
              "#0d0887"
             ],
             [
              0.1111111111111111,
              "#46039f"
             ],
             [
              0.2222222222222222,
              "#7201a8"
             ],
             [
              0.3333333333333333,
              "#9c179e"
             ],
             [
              0.4444444444444444,
              "#bd3786"
             ],
             [
              0.5555555555555556,
              "#d8576b"
             ],
             [
              0.6666666666666666,
              "#ed7953"
             ],
             [
              0.7777777777777778,
              "#fb9f3a"
             ],
             [
              0.8888888888888888,
              "#fdca26"
             ],
             [
              1,
              "#f0f921"
             ]
            ],
            "type": "histogram2dcontour"
           }
          ],
          "mesh3d": [
           {
            "colorbar": {
             "outlinewidth": 0,
             "ticks": ""
            },
            "type": "mesh3d"
           }
          ],
          "parcoords": [
           {
            "line": {
             "colorbar": {
              "outlinewidth": 0,
              "ticks": ""
             }
            },
            "type": "parcoords"
           }
          ],
          "pie": [
           {
            "automargin": true,
            "type": "pie"
           }
          ],
          "scatter": [
           {
            "fillpattern": {
             "fillmode": "overlay",
             "size": 10,
             "solidity": 0.2
            },
            "type": "scatter"
           }
          ],
          "scatter3d": [
           {
            "line": {
             "colorbar": {
              "outlinewidth": 0,
              "ticks": ""
             }
            },
            "marker": {
             "colorbar": {
              "outlinewidth": 0,
              "ticks": ""
             }
            },
            "type": "scatter3d"
           }
          ],
          "scattercarpet": [
           {
            "marker": {
             "colorbar": {
              "outlinewidth": 0,
              "ticks": ""
             }
            },
            "type": "scattercarpet"
           }
          ],
          "scattergeo": [
           {
            "marker": {
             "colorbar": {
              "outlinewidth": 0,
              "ticks": ""
             }
            },
            "type": "scattergeo"
           }
          ],
          "scattergl": [
           {
            "marker": {
             "colorbar": {
              "outlinewidth": 0,
              "ticks": ""
             }
            },
            "type": "scattergl"
           }
          ],
          "scattermapbox": [
           {
            "marker": {
             "colorbar": {
              "outlinewidth": 0,
              "ticks": ""
             }
            },
            "type": "scattermapbox"
           }
          ],
          "scatterpolar": [
           {
            "marker": {
             "colorbar": {
              "outlinewidth": 0,
              "ticks": ""
             }
            },
            "type": "scatterpolar"
           }
          ],
          "scatterpolargl": [
           {
            "marker": {
             "colorbar": {
              "outlinewidth": 0,
              "ticks": ""
             }
            },
            "type": "scatterpolargl"
           }
          ],
          "scatterternary": [
           {
            "marker": {
             "colorbar": {
              "outlinewidth": 0,
              "ticks": ""
             }
            },
            "type": "scatterternary"
           }
          ],
          "surface": [
           {
            "colorbar": {
             "outlinewidth": 0,
             "ticks": ""
            },
            "colorscale": [
             [
              0,
              "#0d0887"
             ],
             [
              0.1111111111111111,
              "#46039f"
             ],
             [
              0.2222222222222222,
              "#7201a8"
             ],
             [
              0.3333333333333333,
              "#9c179e"
             ],
             [
              0.4444444444444444,
              "#bd3786"
             ],
             [
              0.5555555555555556,
              "#d8576b"
             ],
             [
              0.6666666666666666,
              "#ed7953"
             ],
             [
              0.7777777777777778,
              "#fb9f3a"
             ],
             [
              0.8888888888888888,
              "#fdca26"
             ],
             [
              1,
              "#f0f921"
             ]
            ],
            "type": "surface"
           }
          ],
          "table": [
           {
            "cells": {
             "fill": {
              "color": "#EBF0F8"
             },
             "line": {
              "color": "white"
             }
            },
            "header": {
             "fill": {
              "color": "#C8D4E3"
             },
             "line": {
              "color": "white"
             }
            },
            "type": "table"
           }
          ]
         },
         "layout": {
          "annotationdefaults": {
           "arrowcolor": "#2a3f5f",
           "arrowhead": 0,
           "arrowwidth": 1
          },
          "autotypenumbers": "strict",
          "coloraxis": {
           "colorbar": {
            "outlinewidth": 0,
            "ticks": ""
           }
          },
          "colorscale": {
           "diverging": [
            [
             0,
             "#8e0152"
            ],
            [
             0.1,
             "#c51b7d"
            ],
            [
             0.2,
             "#de77ae"
            ],
            [
             0.3,
             "#f1b6da"
            ],
            [
             0.4,
             "#fde0ef"
            ],
            [
             0.5,
             "#f7f7f7"
            ],
            [
             0.6,
             "#e6f5d0"
            ],
            [
             0.7,
             "#b8e186"
            ],
            [
             0.8,
             "#7fbc41"
            ],
            [
             0.9,
             "#4d9221"
            ],
            [
             1,
             "#276419"
            ]
           ],
           "sequential": [
            [
             0,
             "#0d0887"
            ],
            [
             0.1111111111111111,
             "#46039f"
            ],
            [
             0.2222222222222222,
             "#7201a8"
            ],
            [
             0.3333333333333333,
             "#9c179e"
            ],
            [
             0.4444444444444444,
             "#bd3786"
            ],
            [
             0.5555555555555556,
             "#d8576b"
            ],
            [
             0.6666666666666666,
             "#ed7953"
            ],
            [
             0.7777777777777778,
             "#fb9f3a"
            ],
            [
             0.8888888888888888,
             "#fdca26"
            ],
            [
             1,
             "#f0f921"
            ]
           ],
           "sequentialminus": [
            [
             0,
             "#0d0887"
            ],
            [
             0.1111111111111111,
             "#46039f"
            ],
            [
             0.2222222222222222,
             "#7201a8"
            ],
            [
             0.3333333333333333,
             "#9c179e"
            ],
            [
             0.4444444444444444,
             "#bd3786"
            ],
            [
             0.5555555555555556,
             "#d8576b"
            ],
            [
             0.6666666666666666,
             "#ed7953"
            ],
            [
             0.7777777777777778,
             "#fb9f3a"
            ],
            [
             0.8888888888888888,
             "#fdca26"
            ],
            [
             1,
             "#f0f921"
            ]
           ]
          },
          "colorway": [
           "#636efa",
           "#EF553B",
           "#00cc96",
           "#ab63fa",
           "#FFA15A",
           "#19d3f3",
           "#FF6692",
           "#B6E880",
           "#FF97FF",
           "#FECB52"
          ],
          "font": {
           "color": "#2a3f5f"
          },
          "geo": {
           "bgcolor": "white",
           "lakecolor": "white",
           "landcolor": "#E5ECF6",
           "showlakes": true,
           "showland": true,
           "subunitcolor": "white"
          },
          "hoverlabel": {
           "align": "left"
          },
          "hovermode": "closest",
          "mapbox": {
           "style": "light"
          },
          "paper_bgcolor": "white",
          "plot_bgcolor": "#E5ECF6",
          "polar": {
           "angularaxis": {
            "gridcolor": "white",
            "linecolor": "white",
            "ticks": ""
           },
           "bgcolor": "#E5ECF6",
           "radialaxis": {
            "gridcolor": "white",
            "linecolor": "white",
            "ticks": ""
           }
          },
          "scene": {
           "xaxis": {
            "backgroundcolor": "#E5ECF6",
            "gridcolor": "white",
            "gridwidth": 2,
            "linecolor": "white",
            "showbackground": true,
            "ticks": "",
            "zerolinecolor": "white"
           },
           "yaxis": {
            "backgroundcolor": "#E5ECF6",
            "gridcolor": "white",
            "gridwidth": 2,
            "linecolor": "white",
            "showbackground": true,
            "ticks": "",
            "zerolinecolor": "white"
           },
           "zaxis": {
            "backgroundcolor": "#E5ECF6",
            "gridcolor": "white",
            "gridwidth": 2,
            "linecolor": "white",
            "showbackground": true,
            "ticks": "",
            "zerolinecolor": "white"
           }
          },
          "shapedefaults": {
           "line": {
            "color": "#2a3f5f"
           }
          },
          "ternary": {
           "aaxis": {
            "gridcolor": "white",
            "linecolor": "white",
            "ticks": ""
           },
           "baxis": {
            "gridcolor": "white",
            "linecolor": "white",
            "ticks": ""
           },
           "bgcolor": "#E5ECF6",
           "caxis": {
            "gridcolor": "white",
            "linecolor": "white",
            "ticks": ""
           }
          },
          "title": {
           "x": 0.05
          },
          "xaxis": {
           "automargin": true,
           "gridcolor": "white",
           "linecolor": "white",
           "ticks": "",
           "title": {
            "standoff": 15
           },
           "zerolinecolor": "white",
           "zerolinewidth": 2
          },
          "yaxis": {
           "automargin": true,
           "gridcolor": "white",
           "linecolor": "white",
           "ticks": "",
           "title": {
            "standoff": 15
           },
           "zerolinecolor": "white",
           "zerolinewidth": 2
          }
         }
        }
       }
      }
     },
     "metadata": {},
     "output_type": "display_data"
    }
   ],
   "source": [
    "# Instanciando um novo do processo quântico\n",
    "processo = Process()\n",
    "\n",
    "# Alocação de um qubit\n",
    "qubits = processo.alloc()\n",
    "\n",
    "# Aplicação das portas parametrizadas\n",
    "RX(0.5, qubits)  # Porta de rotação Rx com ângulo de 0.5 radianos\n",
    "RY(0.2, qubits)  # Porta de rotação Ry com ângulo de 0.2 radianos\n",
    "RZ(2.3, qubits)  # Porta de rotação Rz com ângulo de 2.3 radianos\n",
    "PHASE(0.2, qubits)  # Porta de fase com ângulo de 0.2 radianos\n",
    "\n",
    "bloch_sphere(qubits)  # Mostra o Bloch Sphere"
   ]
  },
  {
   "cell_type": "markdown",
   "metadata": {},
   "source": [
    "#### Concatenando Portas Quânticas\n",
    "\n",
    "Quando listamos linha por linha a aplicação de portas lógicas quânticas, podemos inflar desnecessariamente o número de linhas de código de um programa, tornando-o menos legível e mais difícil de entender. Portanto, concatenar portas lógicas quânticas para utilizá-las de forma mais concisa é uma prática útil na implementação de algoritmos quânticos. No Ket, existem duas maneiras de concatenar portas lógicas.\n",
    "\n",
    "A primeira opção é encadear chamadas de função, o que é recomendado quando não há um encadeamento muito grande de portas. No entanto, o aninhamento excessivo de parênteses pode prejudicar a legibilidade do código. Como cada porta implementada no Ket retorna o {class}`~ket.base.Quant` passado como parâmetro, é possível encadear as portas como no exemplo abaixo:"
   ]
  },
  {
   "cell_type": "code",
   "execution_count": 7,
   "metadata": {},
   "outputs": [
    {
     "data": {
      "application/vnd.plotly.v1+json": {
       "config": {
        "plotlyServerURL": "https://plot.ly"
       },
       "data": [
        {
         "name": "Bloch Sphere",
         "opacity": 0.02,
         "showscale": false,
         "type": "surface",
         "x": [
          [
           0,
           0.1645945902807339,
           0.32469946920468346,
           0.4759473930370735,
           0.6142127126896678,
           0.7357239106731316,
           0.8371664782625285,
           0.9157733266550574,
           0.9694002659393304,
           0.9965844930066698,
           0.9965844930066698,
           0.9694002659393304,
           0.9157733266550575,
           0.8371664782625287,
           0.7357239106731318,
           0.6142127126896679,
           0.4759473930370737,
           0.3246994692046836,
           0.16459459028073403,
           1.2246467991473532e-16
          ],
          [
           0,
           0.16246313356537806,
           0.3204946963568737,
           0.46978399929907333,
           0.6062588193758816,
           0.7261964792589068,
           0.8263253922406854,
           0.9039143025916696,
           0.9568467870966786,
           0.9836789855631047,
           0.9836789855631047,
           0.9568467870966786,
           0.9039143025916697,
           0.8263253922406855,
           0.7261964792589071,
           0.6062588193758817,
           0.4697839992990735,
           0.3204946963568739,
           0.16246313356537817,
           1.2087879447370743e-16
          ],
          [
           0,
           0.15612396702863554,
           0.3079892792215372,
           0.45145344674540533,
           0.5826031410933619,
           0.6978609404853318,
           0.7940829126085611,
           0.8686443728954891,
           0.919511479076709,
           0.9452967090962465,
           0.9452967090962465,
           0.919511479076709,
           0.8686443728954892,
           0.7940829126085612,
           0.697860940485332,
           0.582603141093362,
           0.45145344674540544,
           0.30798927922153735,
           0.15612396702863568,
           1.161622117505191e-16
          ],
          [
           0,
           0.1457412717539971,
           0.28750710153368586,
           0.42143048705861336,
           0.5438583474838702,
           0.6514511699226683,
           0.7412741026524329,
           0.8108770102192059,
           0.8583613067458042,
           0.882431744405305,
           0.882431744405305,
           0.8583613067458042,
           0.810877010219206,
           0.741274102652433,
           0.6514511699226685,
           0.5438583474838703,
           0.42143048705861347,
           0.28750710153368597,
           0.1457412717539972,
           1.0843708876019402e-16
          ],
          [
           0,
           0.13158395409529697,
           0.2595786409366422,
           0.3804926991242503,
           0.4910279083501888,
           0.588169156250559,
           0.6692666828109729,
           0.7321083589123363,
           0.7749800274466272,
           0.7967122610543294,
           0.7967122610543294,
           0.7749800274466272,
           0.7321083589123364,
           0.669266682810973,
           0.5881691562505591,
           0.49102790835018884,
           0.3804926991242505,
           0.2595786409366423,
           0.13158395409529708,
           9.790350213036125e-17
          ],
          [
           0,
           0.11401868114339879,
           0.22492722988972447,
           0.329700350146186,
           0.4254801043153275,
           0.5096538703825993,
           0.5799256074343183,
           0.6343784856684599,
           0.6715271725148565,
           0.6903583486357373,
           0.6903583486357373,
           0.6715271725148565,
           0.63437848566846,
           0.5799256074343183,
           0.5096538703825996,
           0.42548010431532757,
           0.3297003501461861,
           0.22492722988972458,
           0.11401868114339889,
           8.483426622169505e-17
          ],
          [
           0,
           0.09350038424114347,
           0.18445032173749926,
           0.2703689352829591,
           0.3489125890731124,
           0.4179388169805881,
           0.475564763446017,
           0.5202185428694533,
           0.5506821165519409,
           0.5661245176160313,
           0.5661245176160313,
           0.5506821165519409,
           0.5202185428694533,
           0.4755647634460171,
           0.4179388169805882,
           0.34891258907311246,
           0.2703689352829592,
           0.18445032173749937,
           0.09350038424114356,
           6.95678673792762e-17
          ],
          [
           0,
           0.07056047650053407,
           0.13919624713956788,
           0.20403510701416921,
           0.26330842104925195,
           0.31539936775193667,
           0.35888704188713766,
           0.3925852130683524,
           0.41557468303033346,
           0.4272283589615935,
           0.4272283589615935,
           0.41557468303033346,
           0.3925852130683525,
           0.3588870418871377,
           0.3153993677519367,
           0.26330842104925195,
           0.2040351070141693,
           0.13919624713956794,
           0.07056047650053413,
           5.2499697314053056e-17
          ],
          [
           0,
           0.045793089482273404,
           0.09033706285714538,
           0.13241687664842175,
           0.1708847032297642,
           0.2046912405701735,
           0.23291433445806886,
           0.2547841324643033,
           0.26970408350957537,
           0.2772672102227795,
           0.2772672102227795,
           0.26970408350957537,
           0.25478413246430337,
           0.2329143344580689,
           0.20469124057017354,
           0.17088470322976423,
           0.1324168766484218,
           0.09033706285714542,
           0.045793089482273446,
           3.407181266521781e-17
          ],
          [
           0,
           0.019839685500424753,
           0.0391381960985981,
           0.057369118732864384,
           0.0740351613582292,
           0.08868171777700325,
           0.1009092681108054,
           0.11038427666137432,
           0.11684828989495437,
           0.12012498638095837,
           0.12012498638095837,
           0.11684828989495437,
           0.11038427666137433,
           0.10090926811080542,
           0.08868171777700327,
           0.07403516135822921,
           0.057369118732864405,
           0.03913819609859812,
           0.01983968550042477,
           1.4761485965452956e-17
          ],
          [
           0,
           -0.006627555914577715,
           -0.013074329380554592,
           -0.019164469223262957,
           -0.024731852303603426,
           -0.029624614924228836,
           -0.03370929527532877,
           -0.03687447392489219,
           -0.03903381305036396,
           -0.04012841150937818,
           -0.04012841150937818,
           -0.03903381305036396,
           -0.036874473924892195,
           -0.03370929527532877,
           -0.029624614924228843,
           -0.02473185230360343,
           -0.019164469223262964,
           -0.013074329380554599,
           -0.00662755591457772,
           -4.9311554669653986e-18
          ],
          [
           0,
           -0.03292314711268756,
           -0.06494823659638016,
           -0.09520170749314029,
           -0.122858323981817,
           -0.1471636856600176,
           -0.16745480562051002,
           -0.18317819500577392,
           -0.19390496074119645,
           -0.19934250462010655,
           -0.19934250462010655,
           -0.19390496074119645,
           -0.18317819500577395,
           -0.16745480562051004,
           -0.14716368566001767,
           -0.12285832398181702,
           -0.09520170749314032,
           -0.06494823659638019,
           -0.03292314711268759,
           -2.4496082563006136e-17
          ],
          [
           0,
           -0.05836604609431205,
           -0.115140018600098,
           -0.16877327154610067,
           -0.21780282960340894,
           -0.26089129423873825,
           -0.2968633244600811,
           -0.32473769705508354,
           -0.34375407180242007,
           -0.35339373157097265,
           -0.35339373157097265,
           -0.34375407180242007,
           -0.3247376970550836,
           -0.2968633244600812,
           -0.26089129423873836,
           -0.21780282960340897,
           -0.16877327154610072,
           -0.11514001860009805,
           -0.0583660460943121,
           -4.342657398786498e-17
          ],
          [
           0,
           -0.0822972951403669,
           -0.16234973460234164,
           -0.23797369651853664,
           -0.3071063563448338,
           -0.3678619553365656,
           -0.4185832391312641,
           -0.4578866633275285,
           -0.48470013296966497,
           -0.4982922465033347,
           -0.4982922465033347,
           -0.48470013296966497,
           -0.45788666332752853,
           -0.41858323913126416,
           -0.36786195533656574,
           -0.30710635634483385,
           -0.23797369651853673,
           -0.16234973460234173,
           -0.08229729514036697,
           -6.123233995736764e-17
          ],
          [
           0,
           -0.10409708747106597,
           -0.20535467775677563,
           -0.30101072775297255,
           -0.3884559897724724,
           -0.46530518502016843,
           -0.529462067780604,
           -0.5791766055365858,
           -0.6130927152942584,
           -0.6302852539921319,
           -0.6302852539921319,
           -0.6130927152942584,
           -0.5791766055365859,
           -0.5294620677806041,
           -0.46530518502016854,
           -0.38845598977247253,
           -0.30101072775297266,
           -0.20535467775677574,
           -0.10409708747106605,
           -7.745222048584242e-17
          ],
          [
           0,
           -0.12320081991594793,
           -0.24304104262515694,
           -0.3562517392522649,
           -0.4597448171115447,
           -0.550697254825314,
           -0.6266281069880509,
           -0.685466177889715,
           -0.7256065183355124,
           -0.7459542044761397,
           -0.7459542044761397,
           -0.7256065183355124,
           -0.6854661778897151,
           -0.6266281069880509,
           -0.5506972548253141,
           -0.45974481711154475,
           -0.356251739252265,
           -0.24304104262515705,
           -0.12320081991594804,
           -9.166612918751292e-17
          ],
          [
           0,
           -0.1391137158394193,
           -0.2744327721531311,
           -0.4022660178353502,
           -0.5191264951802664,
           -0.6218265549984392,
           -0.7075648073771038,
           -0.7740025362943134,
           -0.8193274936954399,
           -0.8423033328959264,
           -0.8423033328959264,
           -0.8193274936954399,
           -0.7740025362943134,
           -0.7075648073771038,
           -0.6218265549984394,
           -0.5191264951802665,
           -0.4022660178353503,
           -0.2744327721531313,
           -0.13911371583941942,
           -1.0350593329322857e-16
          ],
          [
           0,
           -0.1514236395957217,
           -0.2987168370352402,
           -0.43786181785711464,
           -0.5650630697084178,
           -0.676850874027562,
           -0.7701759509217782,
           -0.8424926355737105,
           -0.8918283173415814,
           -0.9168372474352875,
           -0.9168372474352875,
           -0.8918283173415814,
           -0.8424926355737105,
           -0.7701759509217783,
           -0.6768508740275623,
           -0.5650630697084179,
           -0.4378618178571148,
           -0.2987168370352404,
           -0.1514236395957218,
           -1.126649880958142e-16
          ],
          [
           0,
           -0.15981177062567214,
           -0.31526429274686973,
           -0.4621172267946076,
           -0.5963648075450915,
           -0.7143451109527726,
           -0.8128399418923868,
           -0.8891626181327629,
           -0.9412312560244315,
           -0.9676255588585165,
           -0.9676255588585165,
           -0.9412312560244315,
           -0.889162618132763,
           -0.812839941892387,
           -0.7143451109527729,
           -0.5963648075450916,
           -0.46211722679460776,
           -0.3152642927468699,
           -0.15981177062567228,
           -1.1890607888691283e-16
          ],
          [
           0,
           -0.1640608607416775,
           -0.32364656887706705,
           -0.4744040422971282,
           -0.6122210101223642,
           -0.7333381847325245,
           -0.8344518053331546,
           -0.9128037559378055,
           -0.9662567995822742,
           -0.9933528765776246,
           -0.9933528765776246,
           -0.9662567995822742,
           -0.9128037559378056,
           -0.8344518053331547,
           -0.7333381847325248,
           -0.6122210101223643,
           -0.47440404229712835,
           -0.3236465688770672,
           -0.16406086074167764,
           -1.2206756469332921e-16
          ],
          [
           0,
           -0.16406086074167753,
           -0.3236465688770671,
           -0.47440404229712824,
           -0.6122210101223643,
           -0.7333381847325247,
           -0.8344518053331547,
           -0.9128037559378056,
           -0.9662567995822743,
           -0.9933528765776247,
           -0.9933528765776247,
           -0.9662567995822743,
           -0.9128037559378057,
           -0.8344518053331548,
           -0.7333381847325249,
           -0.6122210101223644,
           -0.4744040422971284,
           -0.3236465688770673,
           -0.16406086074167767,
           -1.2206756469332924e-16
          ],
          [
           0,
           -0.15981177062567217,
           -0.3152642927468698,
           -0.4621172267946077,
           -0.5963648075450917,
           -0.7143451109527728,
           -0.8128399418923871,
           -0.8891626181327631,
           -0.9412312560244317,
           -0.9676255588585168,
           -0.9676255588585168,
           -0.9412312560244317,
           -0.8891626181327632,
           -0.8128399418923872,
           -0.714345110952773,
           -0.5963648075450918,
           -0.46211722679460787,
           -0.31526429274686996,
           -0.1598117706256723,
           -1.1890607888691286e-16
          ],
          [
           0,
           -0.1514236395957217,
           -0.2987168370352402,
           -0.43786181785711464,
           -0.5650630697084178,
           -0.676850874027562,
           -0.7701759509217782,
           -0.8424926355737105,
           -0.8918283173415814,
           -0.9168372474352875,
           -0.9168372474352875,
           -0.8918283173415814,
           -0.8424926355737105,
           -0.7701759509217783,
           -0.6768508740275623,
           -0.5650630697084179,
           -0.4378618178571148,
           -0.2987168370352404,
           -0.1514236395957218,
           -1.126649880958142e-16
          ],
          [
           0,
           -0.13911371583941937,
           -0.2744327721531313,
           -0.4022660178353504,
           -0.5191264951802668,
           -0.6218265549984395,
           -0.7075648073771041,
           -0.7740025362943137,
           -0.8193274936954403,
           -0.8423033328959268,
           -0.8423033328959268,
           -0.8193274936954403,
           -0.7740025362943138,
           -0.7075648073771043,
           -0.6218265549984398,
           -0.5191264951802669,
           -0.40226601783535054,
           -0.2744327721531314,
           -0.1391137158394195,
           -1.0350593329322863e-16
          ],
          [
           0,
           -0.123200819915948,
           -0.24304104262515708,
           -0.3562517392522651,
           -0.45974481711154497,
           -0.5506972548253142,
           -0.6266281069880513,
           -0.6854661778897153,
           -0.7256065183355127,
           -0.7459542044761401,
           -0.7459542044761401,
           -0.7256065183355127,
           -0.6854661778897154,
           -0.6266281069880514,
           -0.5506972548253144,
           -0.459744817111545,
           -0.3562517392522652,
           -0.24304104262515722,
           -0.12320081991594811,
           -9.166612918751298e-17
          ],
          [
           0,
           -0.10409708747106605,
           -0.20535467775677582,
           -0.30101072775297283,
           -0.3884559897724728,
           -0.4653051850201688,
           -0.5294620677806045,
           -0.5791766055365863,
           -0.6130927152942588,
           -0.6302852539921324,
           -0.6302852539921324,
           -0.6130927152942588,
           -0.5791766055365863,
           -0.5294620677806046,
           -0.465305185020169,
           -0.38845598977247286,
           -0.30101072775297294,
           -0.2053546777567759,
           -0.10409708747106615,
           -7.745222048584248e-17
          ],
          [
           0,
           -0.08229729514036702,
           -0.16234973460234187,
           -0.23797369651853698,
           -0.3071063563448342,
           -0.3678619553365661,
           -0.41858323913126466,
           -0.4578866633275291,
           -0.48470013296966563,
           -0.49829224650333537,
           -0.49829224650333537,
           -0.48470013296966563,
           -0.45788666332752914,
           -0.4185832391312647,
           -0.36786195533656624,
           -0.30710635634483424,
           -0.23797369651853706,
           -0.16234973460234195,
           -0.08229729514036709,
           -6.123233995736771e-17
          ],
          [
           0,
           -0.05836604609431212,
           -0.11514001860009813,
           -0.1687732715461009,
           -0.21780282960340921,
           -0.2608912942387386,
           -0.2968633244600815,
           -0.324737697055084,
           -0.3437540718024205,
           -0.3533937315709731,
           -0.3533937315709731,
           -0.3437540718024205,
           -0.324737697055084,
           -0.29686332446008157,
           -0.2608912942387387,
           -0.21780282960340924,
           -0.16877327154610094,
           -0.1151400186000982,
           -0.05836604609431217,
           -4.3426573987865036e-17
          ],
          [
           0,
           -0.0329231471126876,
           -0.06494823659638023,
           -0.09520170749314039,
           -0.12285832398181713,
           -0.14716368566001778,
           -0.1674548056205102,
           -0.18317819500577415,
           -0.19390496074119667,
           -0.19934250462010678,
           -0.19934250462010678,
           -0.19390496074119667,
           -0.18317819500577417,
           -0.16745480562051024,
           -0.14716368566001783,
           -0.12285832398181716,
           -0.09520170749314043,
           -0.06494823659638026,
           -0.03292314711268763,
           -2.4496082563006164e-17
          ],
          [
           0,
           -0.006627555914577755,
           -0.01307432938055467,
           -0.01916446922326307,
           -0.024731852303603575,
           -0.029624614924229013,
           -0.03370929527532897,
           -0.03687447392489241,
           -0.03903381305036419,
           -0.040128411509378424,
           -0.040128411509378424,
           -0.03903381305036419,
           -0.03687447392489242,
           -0.033709295275328975,
           -0.029624614924229024,
           -0.02473185230360358,
           -0.019164469223263078,
           -0.013074329380554677,
           -0.00662755591457776,
           -4.931155466965428e-18
          ],
          [
           0,
           0.019839685500424604,
           0.03913819609859781,
           0.057369118732863954,
           0.07403516135822864,
           0.08868171777700258,
           0.10090926811080465,
           0.1103842766613735,
           0.1168482898949535,
           0.12012498638095748,
           0.12012498638095748,
           0.1168482898949535,
           0.11038427666137351,
           0.10090926811080467,
           0.08868171777700261,
           0.07403516135822866,
           0.057369118732863975,
           0.03913819609859783,
           0.01983968550042462,
           1.4761485965452845e-17
          ],
          [
           0,
           0.04579308948227329,
           0.09033706285714516,
           0.13241687664842144,
           0.1708847032297638,
           0.204691240570173,
           0.2329143344580683,
           0.2547841324643027,
           0.2697040835095747,
           0.27726721022277884,
           0.27726721022277884,
           0.2697040835095747,
           0.25478413246430276,
           0.23291433445806833,
           0.20469124057017307,
           0.17088470322976385,
           0.13241687664842147,
           0.09033706285714521,
           0.045793089482273334,
           3.4071812665217726e-17
          ],
          [
           0,
           0.070560476500534,
           0.13919624713956774,
           0.20403510701416902,
           0.2633084210492517,
           0.31539936775193633,
           0.3588870418871373,
           0.39258521306835203,
           0.41557468303033307,
           0.42722835896159306,
           0.42722835896159306,
           0.41557468303033307,
           0.3925852130683521,
           0.3588870418871374,
           0.3153993677519364,
           0.2633084210492517,
           0.20403510701416908,
           0.1391962471395678,
           0.07056047650053406,
           5.2499697314053e-17
          ],
          [
           0,
           0.09350038424114342,
           0.18445032173749917,
           0.2703689352829589,
           0.3489125890731122,
           0.4179388169805878,
           0.4755647634460167,
           0.520218542869453,
           0.5506821165519405,
           0.566124517616031,
           0.566124517616031,
           0.5506821165519405,
           0.520218542869453,
           0.47556476344601684,
           0.41793881698058793,
           0.34891258907311223,
           0.270368935282959,
           0.18445032173749926,
           0.0935003842411435,
           6.956786737927616e-17
          ],
          [
           0,
           0.11401868114339876,
           0.22492722988972438,
           0.32970035014618587,
           0.4254801043153274,
           0.5096538703825992,
           0.5799256074343181,
           0.6343784856684597,
           0.6715271725148563,
           0.6903583486357371,
           0.6903583486357371,
           0.6715271725148563,
           0.6343784856684598,
           0.5799256074343182,
           0.5096538703825993,
           0.42548010431532746,
           0.329700350146186,
           0.2249272298897245,
           0.11401868114339886,
           8.483426622169503e-17
          ],
          [
           0,
           0.13158395409529686,
           0.259578640936642,
           0.3804926991242501,
           0.4910279083501884,
           0.5881691562505585,
           0.6692666828109725,
           0.7321083589123357,
           0.7749800274466266,
           0.7967122610543288,
           0.7967122610543288,
           0.7749800274466266,
           0.7321083589123358,
           0.6692666828109726,
           0.5881691562505588,
           0.4910279083501885,
           0.3804926991242502,
           0.2595786409366421,
           0.13158395409529697,
           9.790350213036119e-17
          ],
          [
           0,
           0.14574127175399704,
           0.28750710153368575,
           0.4214304870586132,
           0.54385834748387,
           0.651451169922668,
           0.7412741026524325,
           0.8108770102192056,
           0.8583613067458039,
           0.8824317444053047,
           0.8824317444053047,
           0.8583613067458039,
           0.8108770102192057,
           0.7412741026524327,
           0.6514511699226683,
           0.5438583474838701,
           0.4214304870586133,
           0.28750710153368586,
           0.14574127175399715,
           1.0843708876019398e-16
          ],
          [
           0,
           0.1561239670286355,
           0.3079892792215371,
           0.4514534467454053,
           0.5826031410933618,
           0.6978609404853316,
           0.794082912608561,
           0.868644372895489,
           0.9195114790767089,
           0.9452967090962464,
           0.9452967090962464,
           0.9195114790767089,
           0.8686443728954891,
           0.7940829126085611,
           0.6978609404853319,
           0.5826031410933619,
           0.45145344674540544,
           0.3079892792215373,
           0.15612396702863565,
           1.1616221175051907e-16
          ],
          [
           0,
           0.16246313356537806,
           0.3204946963568737,
           0.46978399929907333,
           0.6062588193758816,
           0.7261964792589068,
           0.8263253922406854,
           0.9039143025916696,
           0.9568467870966786,
           0.9836789855631047,
           0.9836789855631047,
           0.9568467870966786,
           0.9039143025916697,
           0.8263253922406855,
           0.7261964792589071,
           0.6062588193758817,
           0.4697839992990735,
           0.3204946963568739,
           0.16246313356537817,
           1.2087879447370743e-16
          ],
          [
           0,
           0.1645945902807339,
           0.32469946920468346,
           0.4759473930370735,
           0.6142127126896678,
           0.7357239106731316,
           0.8371664782625285,
           0.9157733266550574,
           0.9694002659393304,
           0.9965844930066698,
           0.9965844930066698,
           0.9694002659393304,
           0.9157733266550575,
           0.8371664782625287,
           0.7357239106731318,
           0.6142127126896679,
           0.4759473930370737,
           0.3246994692046836,
           0.16459459028073403,
           1.2246467991473532e-16
          ]
         ],
         "y": [
          [
           0,
           0,
           0,
           0,
           0,
           0,
           0,
           0,
           0,
           0,
           0,
           0,
           0,
           0,
           0,
           0,
           0,
           0,
           0,
           0
          ],
          [
           0,
           0.02640282904919078,
           0.05208545774895815,
           0.0763473309379888,
           0.0985266479616691,
           0.11801841486875742,
           0.1342909470692725,
           0.14690037230410982,
           0.1555027383231814,
           0.15986339500618152,
           0.15986339500618152,
           0.1555027383231814,
           0.14690037230410985,
           0.13429094706927253,
           0.11801841486875746,
           0.09852664796166911,
           0.07634733093798883,
           0.052085457748958175,
           0.0264028290491908,
           1.964471616495832e-17
          ],
          [
           0,
           0.052121838694775345,
           0.10282192950145011,
           0.15071730610809098,
           0.19450150749479733,
           0.23298021478463432,
           0.2651038291492389,
           0.28999610212875754,
           0.30697803740562163,
           0.3155864120540797,
           0.3155864120540797,
           0.30697803740562163,
           0.2899961021287576,
           0.26510382914923897,
           0.2329802147846344,
           0.19450150749479736,
           0.15071730610809103,
           0.10282192950145015,
           0.05212183869477539,
           3.878064450013872e-17
          ],
          [
           0,
           0.07649092009650708,
           0.1508953672897284,
           0.22118378221815102,
           0.28543888015075025,
           0.3419079495164639,
           0.3890506613068728,
           0.42558108523621246,
           0.45050276656739835,
           0.46313590679969047,
           0.46313590679969047,
           0.45050276656739835,
           0.4255810852362125,
           0.3890506613068729,
           0.341907949516464,
           0.2854388801507503,
           0.2211837822181511,
           0.1508953672897285,
           0.07649092009650715,
           5.691217451330058e-17
          ],
          [
           0,
           0.0988789268465705,
           0.1950606943268914,
           0.28592171455125476,
           0.3689835357449422,
           0.44198044795179753,
           0.502921285695566,
           0.5501437417835053,
           0.5823597107132922,
           0.598690424833285,
           0.598690424833285,
           0.5823597107132922,
           0.5501437417835054,
           0.5029212856955662,
           0.4419804479517977,
           0.36898353574494225,
           0.28592171455125487,
           0.19506069432689152,
           0.09887892684657058,
           7.356970910115742e-17
          ],
          [
           0,
           0.1187060213300177,
           0.2341740518416552,
           0.34325442466524575,
           0.4429717115814716,
           0.5306058849468245,
           0.6037665129571378,
           0.6604579643958138,
           0.6991338442511896,
           0.7187391753413048,
           0.7187391753413048,
           0.6991338442511896,
           0.660457964395814,
           0.6037665129571379,
           0.5306058849468246,
           0.44297171158147164,
           0.34325442466524586,
           0.23417405184165535,
           0.1187060213300178,
           8.8321826867684e-17
          ],
          [
           0,
           0.1354586922144208,
           0.26722242441968863,
           0.39169702548365826,
           0.5054871527703725,
           0.605488908236173,
           0.6889745046770733,
           0.7536666726528733,
           0.7978007784610887,
           0.8201729587442986,
           0.8201729587442986,
           0.7978007784610887,
           0.7536666726528733,
           0.6889745046770734,
           0.6054889082361731,
           0.5054871527703726,
           0.39169702548365837,
           0.26722242441968874,
           0.13545869221442092,
           1.0078645571165809e-16
          ],
          [
           0,
           0.14870305412364682,
           0.2933498765707317,
           0.42999487909102246,
           0.5549107422227022,
           0.6646900868508907,
           0.7563384186275245,
           0.8273558099711071,
           0.8758050915743081,
           0.9003646933328433,
           0.9003646933328433,
           0.8758050915743081,
           0.8273558099711072,
           0.7563384186275246,
           0.6646900868508909,
           0.5549107422227023,
           0.42999487909102263,
           0.29334987657073186,
           0.14870305412364695,
           1.1064076829338897e-16
          ],
          [
           0,
           0.15809608504118994,
           0.31187972100819145,
           0.4571560911958444,
           0.5899624349326623,
           0.7066761413618048,
           0.8041135648218102,
           0.8796168664010955,
           0.9311265128549957,
           0.957237455303875,
           0.957237455303875,
           0.9311265128549957,
           0.8796168664010956,
           0.8041135648218103,
           0.706676141361805,
           0.5899624349326624,
           0.45715609119584455,
           0.3118797210081916,
           0.15809608504119008,
           1.1762954309324202e-16
          ],
          [
           0,
           0.16339451040021785,
           0.32233204449441705,
           0.4724772006717372,
           0.6097344104708716,
           0.7303596550113417,
           0.8310625920686276,
           0.9090963080327714,
           0.9623322465509867,
           0.9893182699962312,
           0.9893182699962312,
           0.9623322465509867,
           0.9090963080327715,
           0.8310625920686278,
           0.7303596550113419,
           0.6097344104708717,
           0.4724772006717374,
           0.3223320444944172,
           0.163394510400218,
           1.2157177451493547e-16
          ],
          [
           0,
           0.1644611037670665,
           0.3244361373414681,
           0.4755613988310838,
           0.6137145850566313,
           0.7351272372363558,
           0.8364875347179571,
           0.9150306328127125,
           0.9686140805511727,
           0.9957762611606562,
           0.9957762611606562,
           0.9686140805511727,
           0.9150306328127126,
           0.8364875347179572,
           0.735127237236356,
           0.6137145850566315,
           0.47556139883108395,
           0.32443613734146826,
           0.16446110376706663,
           1.2236536083540634e-16
          ],
          [
           0,
           0.16126824093379016,
           0.31813750464983503,
           0.4663288065616117,
           0.6017998742588596,
           0.7208554101615147,
           0.8202478896047718,
           0.8972661448462753,
           0.9498093186546442,
           0.9764441702182178,
           0.9764441702182178,
           0.9498093186546442,
           0.8972661448462754,
           0.8202478896047719,
           0.7208554101615149,
           0.6017998742588597,
           0.46632880656161185,
           0.3181375046498352,
           0.1612682409337903,
           1.1998974858580612e-16
          ],
          [
           0,
           0.1538986153706371,
           0.30359927769771167,
           0.44501854315344286,
           0.5742988628287095,
           0.6879138066114112,
           0.7827642550072105,
           0.8562629350405349,
           0.9064049943168346,
           0.9318226881696455,
           0.9318226881696455,
           0.9064049943168346,
           0.856262935040535,
           0.7827642550072106,
           0.6879138066114114,
           0.5742988628287096,
           0.44501854315344297,
           0.30359927769771183,
           0.15389861537063723,
           1.145064648755478e-16
          ],
          [
           0,
           0.14254309650860683,
           0.28119798892657893,
           0.4121825332350825,
           0.531923812516605,
           0.6371555968145651,
           0.7250074373721028,
           0.7930829649914648,
           0.8395252567388508,
           0.8630674879614114,
           0.8630674879614114,
           0.8395252567388508,
           0.7930829649914649,
           0.7250074373721029,
           0.6371555968145652,
           0.5319238125166051,
           0.4121825332350827,
           0.28119798892657905,
           0.14254309650860694,
           1.0605752387249069e-16
          ],
          [
           0,
           0.1274957863214463,
           0.25151381994875355,
           0.368671212215454,
           0.4757722148670403,
           0.5698953917426538,
           0.648473307937938,
           0.709362562736425,
           0.7509022559936532,
           0.771959293163464,
           0.771959293163464,
           0.7509022559936532,
           0.7093625627364251,
           0.648473307937938,
           0.569895391742654,
           0.4757722148670404,
           0.3686712122154542,
           0.25151381994875366,
           0.12749578632144642,
           9.486174871058949e-17
          ],
          [
           0,
           0.10914640223901487,
           0.215315575148385,
           0.3156115004535209,
           0.4072983667640625,
           0.4878751953768806,
           0.5551440604555331,
           0.607270042717518,
           0.6428312812490229,
           0.6608577581641384,
           0.6608577581641384,
           0.6428312812490229,
           0.607270042717518,
           0.5551440604555332,
           0.4878751953768808,
           0.4072983667640626,
           0.315611500453521,
           0.21531557514838512,
           0.10914640223901496,
           8.120910408566745e-17
          ],
          [
           0,
           0.08797018367055941,
           0.1735407700517397,
           0.2543776166129328,
           0.32827570490588115,
           0.3932192877198919,
           0.4474368734110843,
           0.48944954757650005,
           0.5181113139837744,
           0.5326403543609658,
           0.5326403543609658,
           0.5181113139837744,
           0.4894495475765001,
           0.44743687341108435,
           0.39321928771989206,
           0.3282757049058812,
           0.2543776166129329,
           0.1735407700517398,
           0.08797018367055948,
           6.545318632210576e-17
          ],
          [
           0,
           0.06451558355364734,
           0.12727135016752564,
           0.18655548612048245,
           0.24075087472592946,
           0.2883792070595441,
           0.3281413063730616,
           0.358952566249266,
           0.3799725358376946,
           0.39062784516294613,
           0.39062784516294613,
           0.3799725358376946,
           0.3589525662492661,
           0.32814130637306166,
           0.28837920705954423,
           0.2407508747259295,
           0.1865554861204825,
           0.12727135016752572,
           0.0645155835536474,
           4.800206541377804e-17
          ],
          [
           0,
           0.039390063711172284,
           0.07770566916653633,
           0.11390166653059874,
           0.14699072335119093,
           0.17607025641498053,
           0.20034705186467258,
           0.21915890200528199,
           0.23199266860380632,
           0.2384982799625705,
           0.2384982799625705,
           0.23199266860380632,
           0.219158902005282,
           0.2003470518646726,
           0.17607025641498059,
           0.14699072335119096,
           0.11390166653059879,
           0.07770566916653637,
           0.03939006371117232,
           2.930771622555806e-17
          ],
          [
           0,
           0.013244361909226048,
           0.026127452151043146,
           0.03829785360736431,
           0.04942358945232989,
           0.059201178614717985,
           0.06736391395045133,
           0.07368913731823402,
           0.07800431311321966,
           0.08019173458854482,
           0.08019173458854482,
           0.07800431311321966,
           0.07368913731823402,
           0.06736391395045134,
           0.059201178614718006,
           0.0494235894523299,
           0.038297853607364325,
           0.02612745215104316,
           0.01324436190922606,
           9.854312581730915e-18
          ],
          [
           0,
           -0.013244361909225935,
           -0.02612745215104292,
           -0.038297853607363985,
           -0.04942358945232946,
           -0.05920117861471748,
           -0.06736391395045074,
           -0.07368913731823339,
           -0.078004313113219,
           -0.08019173458854413,
           -0.08019173458854413,
           -0.078004313113219,
           -0.07368913731823339,
           -0.06736391395045076,
           -0.05920117861471749,
           -0.049423589452329476,
           -0.038297853607364,
           -0.026127452151042934,
           -0.013244361909225946,
           -9.854312581730829e-18
          ],
          [
           0,
           -0.03939006371117217,
           -0.07770566916653612,
           -0.11390166653059844,
           -0.1469907233511905,
           -0.17607025641498006,
           -0.20034705186467203,
           -0.21915890200528138,
           -0.23199266860380569,
           -0.23849827996256984,
           -0.23849827996256984,
           -0.23199266860380569,
           -0.2191589020052814,
           -0.20034705186467205,
           -0.17607025641498011,
           -0.14699072335119054,
           -0.11390166653059848,
           -0.07770566916653616,
           -0.03939006371117221,
           -2.930771622555798e-17
          ],
          [
           0,
           -0.0645155835536473,
           -0.12727135016752558,
           -0.18655548612048234,
           -0.24075087472592932,
           -0.288379207059544,
           -0.32814130637306144,
           -0.35895256624926586,
           -0.37997253583769436,
           -0.3906278451629459,
           -0.3906278451629459,
           -0.37997253583769436,
           -0.35895256624926586,
           -0.32814130637306144,
           -0.28837920705954406,
           -0.24075087472592935,
           -0.1865554861204824,
           -0.12727135016752564,
           -0.06451558355364735,
           -4.8002065413778013e-17
          ],
          [
           0,
           -0.08797018367055931,
           -0.1735407700517395,
           -0.25437761661293257,
           -0.3282757049058808,
           -0.3932192877198915,
           -0.44743687341108385,
           -0.48944954757649956,
           -0.5181113139837739,
           -0.5326403543609652,
           -0.5326403543609652,
           -0.5181113139837739,
           -0.4894495475764996,
           -0.4474368734110839,
           -0.3932192877198916,
           -0.32827570490588087,
           -0.2543776166129326,
           -0.17354077005173962,
           -0.0879701836705594,
           -6.54531863221057e-17
          ],
          [
           0,
           -0.10914640223901477,
           -0.21531557514838484,
           -0.3156115004535206,
           -0.40729836676406217,
           -0.4878751953768802,
           -0.5551440604555327,
           -0.6072700427175175,
           -0.6428312812490223,
           -0.6608577581641378,
           -0.6608577581641378,
           -0.6428312812490223,
           -0.6072700427175176,
           -0.5551440604555327,
           -0.48787519537688034,
           -0.4072983667640623,
           -0.3156115004535207,
           -0.21531557514838495,
           -0.10914640223901487,
           -8.120910408566738e-17
          ],
          [
           0,
           -0.12749578632144626,
           -0.2515138199487534,
           -0.36867121221545385,
           -0.47577221486704,
           -0.5698953917426536,
           -0.6484733079379376,
           -0.7093625627364246,
           -0.7509022559936528,
           -0.7719592931634636,
           -0.7719592931634636,
           -0.7509022559936528,
           -0.7093625627364246,
           -0.6484733079379377,
           -0.5698953917426537,
           -0.47577221486704013,
           -0.36867121221545396,
           -0.25151381994875355,
           -0.12749578632144637,
           -9.486174871058944e-17
          ],
          [
           0,
           -0.14254309650860678,
           -0.2811979889265788,
           -0.41218253323508236,
           -0.5319238125166048,
           -0.6371555968145649,
           -0.7250074373721025,
           -0.7930829649914645,
           -0.8395252567388505,
           -0.8630674879614111,
           -0.8630674879614111,
           -0.8395252567388505,
           -0.7930829649914646,
           -0.7250074373721026,
           -0.637155596814565,
           -0.5319238125166049,
           -0.4121825332350825,
           -0.28119798892657893,
           -0.1425430965086069,
           -1.0605752387249065e-16
          ],
          [
           0,
           -0.1538986153706371,
           -0.30359927769771167,
           -0.4450185431534428,
           -0.5742988628287093,
           -0.6879138066114112,
           -0.7827642550072104,
           -0.8562629350405347,
           -0.9064049943168345,
           -0.9318226881696454,
           -0.9318226881696454,
           -0.9064049943168345,
           -0.8562629350405349,
           -0.7827642550072105,
           -0.6879138066114114,
           -0.5742988628287095,
           -0.44501854315344297,
           -0.3035992776977118,
           -0.1538986153706372,
           -1.145064648755478e-16
          ],
          [
           0,
           -0.16126824093379016,
           -0.31813750464983503,
           -0.4663288065616117,
           -0.6017998742588596,
           -0.7208554101615147,
           -0.8202478896047718,
           -0.8972661448462753,
           -0.9498093186546442,
           -0.9764441702182178,
           -0.9764441702182178,
           -0.9498093186546442,
           -0.8972661448462754,
           -0.8202478896047719,
           -0.7208554101615149,
           -0.6017998742588597,
           -0.46632880656161185,
           -0.3181375046498352,
           -0.1612682409337903,
           -1.1998974858580612e-16
          ],
          [
           0,
           -0.16446110376706646,
           -0.3244361373414681,
           -0.4755613988310837,
           -0.6137145850566313,
           -0.7351272372363558,
           -0.836487534717957,
           -0.9150306328127124,
           -0.9686140805511726,
           -0.9957762611606561,
           -0.9957762611606561,
           -0.9686140805511726,
           -0.9150306328127125,
           -0.8364875347179571,
           -0.735127237236356,
           -0.6137145850566315,
           -0.4755613988310839,
           -0.32443613734146826,
           -0.1644611037670666,
           -1.2236536083540631e-16
          ],
          [
           0,
           -0.16339451040021785,
           -0.3223320444944171,
           -0.47247720067173726,
           -0.6097344104708717,
           -0.7303596550113418,
           -0.8310625920686278,
           -0.9090963080327715,
           -0.9623322465509868,
           -0.9893182699962313,
           -0.9893182699962313,
           -0.9623322465509868,
           -0.9090963080327716,
           -0.8310625920686279,
           -0.730359655011342,
           -0.6097344104708718,
           -0.47247720067173743,
           -0.32233204449441727,
           -0.163394510400218,
           -1.2157177451493547e-16
          ],
          [
           0,
           -0.15809608504118997,
           -0.3118797210081915,
           -0.4571560911958445,
           -0.5899624349326624,
           -0.7066761413618049,
           -0.8041135648218103,
           -0.8796168664010957,
           -0.9311265128549959,
           -0.9572374553038753,
           -0.9572374553038753,
           -0.9311265128549959,
           -0.8796168664010958,
           -0.8041135648218104,
           -0.7066761413618051,
           -0.5899624349326625,
           -0.45715609119584466,
           -0.31187972100819167,
           -0.1580960850411901,
           -1.1762954309324205e-16
          ],
          [
           0,
           -0.14870305412364687,
           -0.29334987657073175,
           -0.4299948790910226,
           -0.5549107422227023,
           -0.6646900868508909,
           -0.7563384186275247,
           -0.8273558099711074,
           -0.8758050915743083,
           -0.9003646933328435,
           -0.9003646933328435,
           -0.8758050915743083,
           -0.8273558099711075,
           -0.7563384186275248,
           -0.6646900868508911,
           -0.5549107422227024,
           -0.42999487909102274,
           -0.2933498765707319,
           -0.14870305412364698,
           -1.10640768293389e-16
          ],
          [
           0,
           -0.13545869221442086,
           -0.2672224244196887,
           -0.39169702548365837,
           -0.5054871527703726,
           -0.6054889082361731,
           -0.6889745046770736,
           -0.7536666726528735,
           -0.7978007784610889,
           -0.8201729587442989,
           -0.8201729587442989,
           -0.7978007784610889,
           -0.7536666726528736,
           -0.6889745046770737,
           -0.6054889082361733,
           -0.5054871527703727,
           -0.3916970254836585,
           -0.2672224244196888,
           -0.13545869221442097,
           -1.0078645571165811e-16
          ],
          [
           0,
           -0.11870602133001773,
           -0.2341740518416553,
           -0.34325442466524586,
           -0.4429717115814717,
           -0.5306058849468246,
           -0.603766512957138,
           -0.6604579643958141,
           -0.6991338442511899,
           -0.718739175341305,
           -0.718739175341305,
           -0.6991338442511899,
           -0.6604579643958141,
           -0.6037665129571381,
           -0.5306058849468247,
           -0.4429717115814718,
           -0.34325442466524597,
           -0.2341740518416554,
           -0.11870602133001784,
           -8.832182686768402e-17
          ],
          [
           0,
           -0.09887892684657063,
           -0.19506069432689166,
           -0.28592171455125515,
           -0.3689835357449427,
           -0.44198044795179814,
           -0.5029212856955667,
           -0.5501437417835061,
           -0.582359710713293,
           -0.5986904248332858,
           -0.5986904248332858,
           -0.582359710713293,
           -0.5501437417835062,
           -0.5029212856955668,
           -0.44198044795179825,
           -0.36898353574494275,
           -0.28592171455125526,
           -0.19506069432689177,
           -0.09887892684657071,
           -7.356970910115752e-17
          ],
          [
           0,
           -0.0764909200965072,
           -0.15089536728972863,
           -0.22118378221815133,
           -0.28543888015075064,
           -0.3419079495164644,
           -0.3890506613068734,
           -0.4255810852362131,
           -0.450502766567399,
           -0.46313590679969113,
           -0.46313590679969113,
           -0.450502766567399,
           -0.42558108523621313,
           -0.38905066130687344,
           -0.34190794951646447,
           -0.2854388801507507,
           -0.2211837822181514,
           -0.15089536728972872,
           -0.07649092009650726,
           -5.691217451330067e-17
          ],
          [
           0,
           -0.052121838694775435,
           -0.10282192950145029,
           -0.15071730610809125,
           -0.19450150749479767,
           -0.23298021478463474,
           -0.2651038291492394,
           -0.28999610212875804,
           -0.3069780374056222,
           -0.3155864120540803,
           -0.3155864120540803,
           -0.3069780374056222,
           -0.2899961021287581,
           -0.2651038291492394,
           -0.2329802147846348,
           -0.1945015074947977,
           -0.1507173061080913,
           -0.10282192950145033,
           -0.05212183869477548,
           -3.8780644500138786e-17
          ],
          [
           0,
           -0.02640282904919084,
           -0.05208545774895828,
           -0.07634733093798898,
           -0.09852664796166934,
           -0.1180184148687577,
           -0.13429094706927283,
           -0.14690037230411018,
           -0.15550273832318176,
           -0.1598633950061819,
           -0.1598633950061819,
           -0.15550273832318176,
           -0.1469003723041102,
           -0.13429094706927283,
           -0.11801841486875773,
           -0.09852664796166936,
           -0.07634733093798901,
           -0.0520854577489583,
           -0.026402829049190866,
           -1.9644716164958365e-17
          ],
          [
           0,
           -4.031404762885416e-17,
           -7.952843312927203e-17,
           -1.1657349028907586e-16,
           -1.5043872651820291e-16,
           -1.8020038645240475e-16,
           -2.0504664959153358e-16,
           -2.242997746465279e-16,
           -2.3743458655503876e-16,
           -2.4409280188810123e-16,
           -2.4409280188810123e-16,
           -2.3743458655503876e-16,
           -2.2429977464652795e-16,
           -2.050466495915336e-16,
           -1.8020038645240483e-16,
           -1.5043872651820294e-16,
           -1.165734902890759e-16,
           -7.952843312927208e-17,
           -4.03140476288542e-17,
           -2.999519565323715e-32
          ]
         ],
         "z": [
          [
           1,
           0.9863613034027223,
           0.9458172417006346,
           0.8794737512064891,
           0.7891405093963936,
           0.6772815716257411,
           0.546948158122427,
           0.40169542465296953,
           0.24548548714079924,
           0.0825793454723324,
           -0.08257934547233227,
           -0.24548548714079912,
           -0.40169542465296926,
           -0.5469481581224267,
           -0.6772815716257409,
           -0.7891405093963935,
           -0.879473751206489,
           -0.9458172417006346,
           -0.9863613034027223,
           -1
          ],
          [
           1,
           0.9863613034027223,
           0.9458172417006346,
           0.8794737512064891,
           0.7891405093963936,
           0.6772815716257411,
           0.546948158122427,
           0.40169542465296953,
           0.24548548714079924,
           0.0825793454723324,
           -0.08257934547233227,
           -0.24548548714079912,
           -0.40169542465296926,
           -0.5469481581224267,
           -0.6772815716257409,
           -0.7891405093963935,
           -0.879473751206489,
           -0.9458172417006346,
           -0.9863613034027223,
           -1
          ],
          [
           1,
           0.9863613034027223,
           0.9458172417006346,
           0.8794737512064891,
           0.7891405093963936,
           0.6772815716257411,
           0.546948158122427,
           0.40169542465296953,
           0.24548548714079924,
           0.0825793454723324,
           -0.08257934547233227,
           -0.24548548714079912,
           -0.40169542465296926,
           -0.5469481581224267,
           -0.6772815716257409,
           -0.7891405093963935,
           -0.879473751206489,
           -0.9458172417006346,
           -0.9863613034027223,
           -1
          ],
          [
           1,
           0.9863613034027223,
           0.9458172417006346,
           0.8794737512064891,
           0.7891405093963936,
           0.6772815716257411,
           0.546948158122427,
           0.40169542465296953,
           0.24548548714079924,
           0.0825793454723324,
           -0.08257934547233227,
           -0.24548548714079912,
           -0.40169542465296926,
           -0.5469481581224267,
           -0.6772815716257409,
           -0.7891405093963935,
           -0.879473751206489,
           -0.9458172417006346,
           -0.9863613034027223,
           -1
          ],
          [
           1,
           0.9863613034027223,
           0.9458172417006346,
           0.8794737512064891,
           0.7891405093963936,
           0.6772815716257411,
           0.546948158122427,
           0.40169542465296953,
           0.24548548714079924,
           0.0825793454723324,
           -0.08257934547233227,
           -0.24548548714079912,
           -0.40169542465296926,
           -0.5469481581224267,
           -0.6772815716257409,
           -0.7891405093963935,
           -0.879473751206489,
           -0.9458172417006346,
           -0.9863613034027223,
           -1
          ],
          [
           1,
           0.9863613034027223,
           0.9458172417006346,
           0.8794737512064891,
           0.7891405093963936,
           0.6772815716257411,
           0.546948158122427,
           0.40169542465296953,
           0.24548548714079924,
           0.0825793454723324,
           -0.08257934547233227,
           -0.24548548714079912,
           -0.40169542465296926,
           -0.5469481581224267,
           -0.6772815716257409,
           -0.7891405093963935,
           -0.879473751206489,
           -0.9458172417006346,
           -0.9863613034027223,
           -1
          ],
          [
           1,
           0.9863613034027223,
           0.9458172417006346,
           0.8794737512064891,
           0.7891405093963936,
           0.6772815716257411,
           0.546948158122427,
           0.40169542465296953,
           0.24548548714079924,
           0.0825793454723324,
           -0.08257934547233227,
           -0.24548548714079912,
           -0.40169542465296926,
           -0.5469481581224267,
           -0.6772815716257409,
           -0.7891405093963935,
           -0.879473751206489,
           -0.9458172417006346,
           -0.9863613034027223,
           -1
          ],
          [
           1,
           0.9863613034027223,
           0.9458172417006346,
           0.8794737512064891,
           0.7891405093963936,
           0.6772815716257411,
           0.546948158122427,
           0.40169542465296953,
           0.24548548714079924,
           0.0825793454723324,
           -0.08257934547233227,
           -0.24548548714079912,
           -0.40169542465296926,
           -0.5469481581224267,
           -0.6772815716257409,
           -0.7891405093963935,
           -0.879473751206489,
           -0.9458172417006346,
           -0.9863613034027223,
           -1
          ],
          [
           1,
           0.9863613034027223,
           0.9458172417006346,
           0.8794737512064891,
           0.7891405093963936,
           0.6772815716257411,
           0.546948158122427,
           0.40169542465296953,
           0.24548548714079924,
           0.0825793454723324,
           -0.08257934547233227,
           -0.24548548714079912,
           -0.40169542465296926,
           -0.5469481581224267,
           -0.6772815716257409,
           -0.7891405093963935,
           -0.879473751206489,
           -0.9458172417006346,
           -0.9863613034027223,
           -1
          ],
          [
           1,
           0.9863613034027223,
           0.9458172417006346,
           0.8794737512064891,
           0.7891405093963936,
           0.6772815716257411,
           0.546948158122427,
           0.40169542465296953,
           0.24548548714079924,
           0.0825793454723324,
           -0.08257934547233227,
           -0.24548548714079912,
           -0.40169542465296926,
           -0.5469481581224267,
           -0.6772815716257409,
           -0.7891405093963935,
           -0.879473751206489,
           -0.9458172417006346,
           -0.9863613034027223,
           -1
          ],
          [
           1,
           0.9863613034027223,
           0.9458172417006346,
           0.8794737512064891,
           0.7891405093963936,
           0.6772815716257411,
           0.546948158122427,
           0.40169542465296953,
           0.24548548714079924,
           0.0825793454723324,
           -0.08257934547233227,
           -0.24548548714079912,
           -0.40169542465296926,
           -0.5469481581224267,
           -0.6772815716257409,
           -0.7891405093963935,
           -0.879473751206489,
           -0.9458172417006346,
           -0.9863613034027223,
           -1
          ],
          [
           1,
           0.9863613034027223,
           0.9458172417006346,
           0.8794737512064891,
           0.7891405093963936,
           0.6772815716257411,
           0.546948158122427,
           0.40169542465296953,
           0.24548548714079924,
           0.0825793454723324,
           -0.08257934547233227,
           -0.24548548714079912,
           -0.40169542465296926,
           -0.5469481581224267,
           -0.6772815716257409,
           -0.7891405093963935,
           -0.879473751206489,
           -0.9458172417006346,
           -0.9863613034027223,
           -1
          ],
          [
           1,
           0.9863613034027223,
           0.9458172417006346,
           0.8794737512064891,
           0.7891405093963936,
           0.6772815716257411,
           0.546948158122427,
           0.40169542465296953,
           0.24548548714079924,
           0.0825793454723324,
           -0.08257934547233227,
           -0.24548548714079912,
           -0.40169542465296926,
           -0.5469481581224267,
           -0.6772815716257409,
           -0.7891405093963935,
           -0.879473751206489,
           -0.9458172417006346,
           -0.9863613034027223,
           -1
          ],
          [
           1,
           0.9863613034027223,
           0.9458172417006346,
           0.8794737512064891,
           0.7891405093963936,
           0.6772815716257411,
           0.546948158122427,
           0.40169542465296953,
           0.24548548714079924,
           0.0825793454723324,
           -0.08257934547233227,
           -0.24548548714079912,
           -0.40169542465296926,
           -0.5469481581224267,
           -0.6772815716257409,
           -0.7891405093963935,
           -0.879473751206489,
           -0.9458172417006346,
           -0.9863613034027223,
           -1
          ],
          [
           1,
           0.9863613034027223,
           0.9458172417006346,
           0.8794737512064891,
           0.7891405093963936,
           0.6772815716257411,
           0.546948158122427,
           0.40169542465296953,
           0.24548548714079924,
           0.0825793454723324,
           -0.08257934547233227,
           -0.24548548714079912,
           -0.40169542465296926,
           -0.5469481581224267,
           -0.6772815716257409,
           -0.7891405093963935,
           -0.879473751206489,
           -0.9458172417006346,
           -0.9863613034027223,
           -1
          ],
          [
           1,
           0.9863613034027223,
           0.9458172417006346,
           0.8794737512064891,
           0.7891405093963936,
           0.6772815716257411,
           0.546948158122427,
           0.40169542465296953,
           0.24548548714079924,
           0.0825793454723324,
           -0.08257934547233227,
           -0.24548548714079912,
           -0.40169542465296926,
           -0.5469481581224267,
           -0.6772815716257409,
           -0.7891405093963935,
           -0.879473751206489,
           -0.9458172417006346,
           -0.9863613034027223,
           -1
          ],
          [
           1,
           0.9863613034027223,
           0.9458172417006346,
           0.8794737512064891,
           0.7891405093963936,
           0.6772815716257411,
           0.546948158122427,
           0.40169542465296953,
           0.24548548714079924,
           0.0825793454723324,
           -0.08257934547233227,
           -0.24548548714079912,
           -0.40169542465296926,
           -0.5469481581224267,
           -0.6772815716257409,
           -0.7891405093963935,
           -0.879473751206489,
           -0.9458172417006346,
           -0.9863613034027223,
           -1
          ],
          [
           1,
           0.9863613034027223,
           0.9458172417006346,
           0.8794737512064891,
           0.7891405093963936,
           0.6772815716257411,
           0.546948158122427,
           0.40169542465296953,
           0.24548548714079924,
           0.0825793454723324,
           -0.08257934547233227,
           -0.24548548714079912,
           -0.40169542465296926,
           -0.5469481581224267,
           -0.6772815716257409,
           -0.7891405093963935,
           -0.879473751206489,
           -0.9458172417006346,
           -0.9863613034027223,
           -1
          ],
          [
           1,
           0.9863613034027223,
           0.9458172417006346,
           0.8794737512064891,
           0.7891405093963936,
           0.6772815716257411,
           0.546948158122427,
           0.40169542465296953,
           0.24548548714079924,
           0.0825793454723324,
           -0.08257934547233227,
           -0.24548548714079912,
           -0.40169542465296926,
           -0.5469481581224267,
           -0.6772815716257409,
           -0.7891405093963935,
           -0.879473751206489,
           -0.9458172417006346,
           -0.9863613034027223,
           -1
          ],
          [
           1,
           0.9863613034027223,
           0.9458172417006346,
           0.8794737512064891,
           0.7891405093963936,
           0.6772815716257411,
           0.546948158122427,
           0.40169542465296953,
           0.24548548714079924,
           0.0825793454723324,
           -0.08257934547233227,
           -0.24548548714079912,
           -0.40169542465296926,
           -0.5469481581224267,
           -0.6772815716257409,
           -0.7891405093963935,
           -0.879473751206489,
           -0.9458172417006346,
           -0.9863613034027223,
           -1
          ],
          [
           1,
           0.9863613034027223,
           0.9458172417006346,
           0.8794737512064891,
           0.7891405093963936,
           0.6772815716257411,
           0.546948158122427,
           0.40169542465296953,
           0.24548548714079924,
           0.0825793454723324,
           -0.08257934547233227,
           -0.24548548714079912,
           -0.40169542465296926,
           -0.5469481581224267,
           -0.6772815716257409,
           -0.7891405093963935,
           -0.879473751206489,
           -0.9458172417006346,
           -0.9863613034027223,
           -1
          ],
          [
           1,
           0.9863613034027223,
           0.9458172417006346,
           0.8794737512064891,
           0.7891405093963936,
           0.6772815716257411,
           0.546948158122427,
           0.40169542465296953,
           0.24548548714079924,
           0.0825793454723324,
           -0.08257934547233227,
           -0.24548548714079912,
           -0.40169542465296926,
           -0.5469481581224267,
           -0.6772815716257409,
           -0.7891405093963935,
           -0.879473751206489,
           -0.9458172417006346,
           -0.9863613034027223,
           -1
          ],
          [
           1,
           0.9863613034027223,
           0.9458172417006346,
           0.8794737512064891,
           0.7891405093963936,
           0.6772815716257411,
           0.546948158122427,
           0.40169542465296953,
           0.24548548714079924,
           0.0825793454723324,
           -0.08257934547233227,
           -0.24548548714079912,
           -0.40169542465296926,
           -0.5469481581224267,
           -0.6772815716257409,
           -0.7891405093963935,
           -0.879473751206489,
           -0.9458172417006346,
           -0.9863613034027223,
           -1
          ],
          [
           1,
           0.9863613034027223,
           0.9458172417006346,
           0.8794737512064891,
           0.7891405093963936,
           0.6772815716257411,
           0.546948158122427,
           0.40169542465296953,
           0.24548548714079924,
           0.0825793454723324,
           -0.08257934547233227,
           -0.24548548714079912,
           -0.40169542465296926,
           -0.5469481581224267,
           -0.6772815716257409,
           -0.7891405093963935,
           -0.879473751206489,
           -0.9458172417006346,
           -0.9863613034027223,
           -1
          ],
          [
           1,
           0.9863613034027223,
           0.9458172417006346,
           0.8794737512064891,
           0.7891405093963936,
           0.6772815716257411,
           0.546948158122427,
           0.40169542465296953,
           0.24548548714079924,
           0.0825793454723324,
           -0.08257934547233227,
           -0.24548548714079912,
           -0.40169542465296926,
           -0.5469481581224267,
           -0.6772815716257409,
           -0.7891405093963935,
           -0.879473751206489,
           -0.9458172417006346,
           -0.9863613034027223,
           -1
          ],
          [
           1,
           0.9863613034027223,
           0.9458172417006346,
           0.8794737512064891,
           0.7891405093963936,
           0.6772815716257411,
           0.546948158122427,
           0.40169542465296953,
           0.24548548714079924,
           0.0825793454723324,
           -0.08257934547233227,
           -0.24548548714079912,
           -0.40169542465296926,
           -0.5469481581224267,
           -0.6772815716257409,
           -0.7891405093963935,
           -0.879473751206489,
           -0.9458172417006346,
           -0.9863613034027223,
           -1
          ],
          [
           1,
           0.9863613034027223,
           0.9458172417006346,
           0.8794737512064891,
           0.7891405093963936,
           0.6772815716257411,
           0.546948158122427,
           0.40169542465296953,
           0.24548548714079924,
           0.0825793454723324,
           -0.08257934547233227,
           -0.24548548714079912,
           -0.40169542465296926,
           -0.5469481581224267,
           -0.6772815716257409,
           -0.7891405093963935,
           -0.879473751206489,
           -0.9458172417006346,
           -0.9863613034027223,
           -1
          ],
          [
           1,
           0.9863613034027223,
           0.9458172417006346,
           0.8794737512064891,
           0.7891405093963936,
           0.6772815716257411,
           0.546948158122427,
           0.40169542465296953,
           0.24548548714079924,
           0.0825793454723324,
           -0.08257934547233227,
           -0.24548548714079912,
           -0.40169542465296926,
           -0.5469481581224267,
           -0.6772815716257409,
           -0.7891405093963935,
           -0.879473751206489,
           -0.9458172417006346,
           -0.9863613034027223,
           -1
          ],
          [
           1,
           0.9863613034027223,
           0.9458172417006346,
           0.8794737512064891,
           0.7891405093963936,
           0.6772815716257411,
           0.546948158122427,
           0.40169542465296953,
           0.24548548714079924,
           0.0825793454723324,
           -0.08257934547233227,
           -0.24548548714079912,
           -0.40169542465296926,
           -0.5469481581224267,
           -0.6772815716257409,
           -0.7891405093963935,
           -0.879473751206489,
           -0.9458172417006346,
           -0.9863613034027223,
           -1
          ],
          [
           1,
           0.9863613034027223,
           0.9458172417006346,
           0.8794737512064891,
           0.7891405093963936,
           0.6772815716257411,
           0.546948158122427,
           0.40169542465296953,
           0.24548548714079924,
           0.0825793454723324,
           -0.08257934547233227,
           -0.24548548714079912,
           -0.40169542465296926,
           -0.5469481581224267,
           -0.6772815716257409,
           -0.7891405093963935,
           -0.879473751206489,
           -0.9458172417006346,
           -0.9863613034027223,
           -1
          ],
          [
           1,
           0.9863613034027223,
           0.9458172417006346,
           0.8794737512064891,
           0.7891405093963936,
           0.6772815716257411,
           0.546948158122427,
           0.40169542465296953,
           0.24548548714079924,
           0.0825793454723324,
           -0.08257934547233227,
           -0.24548548714079912,
           -0.40169542465296926,
           -0.5469481581224267,
           -0.6772815716257409,
           -0.7891405093963935,
           -0.879473751206489,
           -0.9458172417006346,
           -0.9863613034027223,
           -1
          ],
          [
           1,
           0.9863613034027223,
           0.9458172417006346,
           0.8794737512064891,
           0.7891405093963936,
           0.6772815716257411,
           0.546948158122427,
           0.40169542465296953,
           0.24548548714079924,
           0.0825793454723324,
           -0.08257934547233227,
           -0.24548548714079912,
           -0.40169542465296926,
           -0.5469481581224267,
           -0.6772815716257409,
           -0.7891405093963935,
           -0.879473751206489,
           -0.9458172417006346,
           -0.9863613034027223,
           -1
          ],
          [
           1,
           0.9863613034027223,
           0.9458172417006346,
           0.8794737512064891,
           0.7891405093963936,
           0.6772815716257411,
           0.546948158122427,
           0.40169542465296953,
           0.24548548714079924,
           0.0825793454723324,
           -0.08257934547233227,
           -0.24548548714079912,
           -0.40169542465296926,
           -0.5469481581224267,
           -0.6772815716257409,
           -0.7891405093963935,
           -0.879473751206489,
           -0.9458172417006346,
           -0.9863613034027223,
           -1
          ],
          [
           1,
           0.9863613034027223,
           0.9458172417006346,
           0.8794737512064891,
           0.7891405093963936,
           0.6772815716257411,
           0.546948158122427,
           0.40169542465296953,
           0.24548548714079924,
           0.0825793454723324,
           -0.08257934547233227,
           -0.24548548714079912,
           -0.40169542465296926,
           -0.5469481581224267,
           -0.6772815716257409,
           -0.7891405093963935,
           -0.879473751206489,
           -0.9458172417006346,
           -0.9863613034027223,
           -1
          ],
          [
           1,
           0.9863613034027223,
           0.9458172417006346,
           0.8794737512064891,
           0.7891405093963936,
           0.6772815716257411,
           0.546948158122427,
           0.40169542465296953,
           0.24548548714079924,
           0.0825793454723324,
           -0.08257934547233227,
           -0.24548548714079912,
           -0.40169542465296926,
           -0.5469481581224267,
           -0.6772815716257409,
           -0.7891405093963935,
           -0.879473751206489,
           -0.9458172417006346,
           -0.9863613034027223,
           -1
          ],
          [
           1,
           0.9863613034027223,
           0.9458172417006346,
           0.8794737512064891,
           0.7891405093963936,
           0.6772815716257411,
           0.546948158122427,
           0.40169542465296953,
           0.24548548714079924,
           0.0825793454723324,
           -0.08257934547233227,
           -0.24548548714079912,
           -0.40169542465296926,
           -0.5469481581224267,
           -0.6772815716257409,
           -0.7891405093963935,
           -0.879473751206489,
           -0.9458172417006346,
           -0.9863613034027223,
           -1
          ],
          [
           1,
           0.9863613034027223,
           0.9458172417006346,
           0.8794737512064891,
           0.7891405093963936,
           0.6772815716257411,
           0.546948158122427,
           0.40169542465296953,
           0.24548548714079924,
           0.0825793454723324,
           -0.08257934547233227,
           -0.24548548714079912,
           -0.40169542465296926,
           -0.5469481581224267,
           -0.6772815716257409,
           -0.7891405093963935,
           -0.879473751206489,
           -0.9458172417006346,
           -0.9863613034027223,
           -1
          ],
          [
           1,
           0.9863613034027223,
           0.9458172417006346,
           0.8794737512064891,
           0.7891405093963936,
           0.6772815716257411,
           0.546948158122427,
           0.40169542465296953,
           0.24548548714079924,
           0.0825793454723324,
           -0.08257934547233227,
           -0.24548548714079912,
           -0.40169542465296926,
           -0.5469481581224267,
           -0.6772815716257409,
           -0.7891405093963935,
           -0.879473751206489,
           -0.9458172417006346,
           -0.9863613034027223,
           -1
          ],
          [
           1,
           0.9863613034027223,
           0.9458172417006346,
           0.8794737512064891,
           0.7891405093963936,
           0.6772815716257411,
           0.546948158122427,
           0.40169542465296953,
           0.24548548714079924,
           0.0825793454723324,
           -0.08257934547233227,
           -0.24548548714079912,
           -0.40169542465296926,
           -0.5469481581224267,
           -0.6772815716257409,
           -0.7891405093963935,
           -0.879473751206489,
           -0.9458172417006346,
           -0.9863613034027223,
           -1
          ],
          [
           1,
           0.9863613034027223,
           0.9458172417006346,
           0.8794737512064891,
           0.7891405093963936,
           0.6772815716257411,
           0.546948158122427,
           0.40169542465296953,
           0.24548548714079924,
           0.0825793454723324,
           -0.08257934547233227,
           -0.24548548714079912,
           -0.40169542465296926,
           -0.5469481581224267,
           -0.6772815716257409,
           -0.7891405093963935,
           -0.879473751206489,
           -0.9458172417006346,
           -0.9863613034027223,
           -1
          ]
         ]
        },
        {
         "marker": {
          "color": "red",
          "size": 5
         },
         "mode": "markers",
         "name": "qubit",
         "type": "scatter3d",
         "x": [
          0
         ],
         "y": [
          0
         ],
         "z": [
          -1.0000000000000004
         ]
        },
        {
         "line": {
          "color": "red",
          "width": 3
         },
         "mode": "lines",
         "name": "qubit line",
         "opacity": 0.5,
         "type": "scatter3d",
         "x": [
          0,
          0
         ],
         "y": [
          0,
          0
         ],
         "z": [
          0,
          -1.0000000000000004
         ]
        },
        {
         "line": {
          "color": "gray",
          "width": 3
         },
         "mode": "lines",
         "name": "Equator",
         "opacity": 0.1,
         "type": "scatter3d",
         "x": [
          1,
          0.9979866764718844,
          0.9919548128307953,
          0.9819286972627067,
          0.9679487013963562,
          0.9500711177409454,
          0.9283679330160726,
          0.9029265382866212,
          0.8738493770697849,
          0.8412535328311812,
          0.8052702575310586,
          0.766044443118978,
          0.7237340381050701,
          0.6785094115571322,
          0.6305526670845225,
          0.5800569095711982,
          0.5272254676105024,
          0.4722710747726827,
          0.41541501300188644,
          0.3568862215918719,
          0.2969203753282749,
          0.23575893550942728,
          0.17364817766693041,
          0.1108381999010111,
          0.04758191582374218,
          -0.01586596383480803,
          -0.07924995685678854,
          -0.14231483827328523,
          -0.20480666806519074,
          -0.26647381369003503,
          -0.32706796331742166,
          -0.3863451256931287,
          -0.4440666126057741,
          -0.5000000000000002,
          -0.5539200638661103,
          -0.6056096871376668,
          -0.654860733945285,
          -0.7014748877063214,
          -0.7452644496757547,
          -0.7860530947427875,
          -0.8236765814298327,
          -0.8579834132349771,
          -0.8888354486549234,
          -0.9161084574320696,
          -0.9396926207859083,
          -0.9594929736144974,
          -0.975429786885407,
          -0.9874388886763943,
          -0.9954719225730846,
          -0.9994965423831851,
          -0.9994965423831851,
          -0.9954719225730846,
          -0.9874388886763943,
          -0.975429786885407,
          -0.9594929736144974,
          -0.9396926207859084,
          -0.9161084574320696,
          -0.8888354486549235,
          -0.857983413234977,
          -0.8236765814298328,
          -0.7860530947427874,
          -0.7452644496757548,
          -0.7014748877063213,
          -0.6548607339452852,
          -0.6056096871376666,
          -0.5539200638661105,
          -0.4999999999999996,
          -0.44406661260577396,
          -0.3863451256931287,
          -0.3270679633174219,
          -0.26647381369003464,
          -0.20480666806519054,
          -0.14231483827328523,
          -0.07924995685678879,
          -0.01586596383480761,
          0.04758191582374238,
          0.11083819990101086,
          0.17364817766692997,
          0.23575893550942748,
          0.2969203753282749,
          0.35688622159187167,
          0.4154150130018868,
          0.4722710747726829,
          0.5272254676105024,
          0.5800569095711979,
          0.6305526670845228,
          0.6785094115571323,
          0.7237340381050701,
          0.7660444431189778,
          0.8052702575310587,
          0.8412535328311812,
          0.8738493770697849,
          0.9029265382866211,
          0.9283679330160727,
          0.9500711177409454,
          0.9679487013963562,
          0.9819286972627068,
          0.9919548128307953,
          0.9979866764718844,
          1
         ],
         "y": [
          0,
          0.0634239196565645,
          0.12659245357374926,
          0.18925124436041021,
          0.2511479871810792,
          0.3120334456984871,
          0.3716624556603276,
          0.42979491208917164,
          0.4861967361004687,
          0.5406408174555976,
          0.5929079290546404,
          0.6427876096865393,
          0.690079011482112,
          0.7345917086575333,
          0.7761464642917568,
          0.8145759520503357,
          0.8497254299495144,
          0.8814533634475821,
          0.9096319953545183,
          0.9341478602651067,
          0.9549022414440739,
          0.9718115683235417,
          0.984807753012208,
          0.9938384644612541,
          0.998867339183008,
          0.9998741276738751,
          0.9968547759519424,
          0.9898214418809327,
          0.9788024462147787,
          0.963842158559942,
          0.9450008187146685,
          0.9223542941045814,
          0.8959937742913359,
          0.8660254037844385,
          0.8325698546347714,
          0.795761840530832,
          0.7557495743542583,
          0.7126941713788627,
          0.6667690005162917,
          0.6181589862206051,
          0.5670598638627709,
          0.5136773915734063,
          0.4582265217274105,
          0.4009305354066136,
          0.3420201433256689,
          0.28173255684142967,
          0.2203105327865408,
          0.1580013959733499,
          0.09505604330418244,
          0.031727933498067656,
          -0.03172793349806786,
          -0.09505604330418263,
          -0.15800139597335008,
          -0.22031053278654056,
          -0.28173255684142984,
          -0.34202014332566866,
          -0.4009305354066138,
          -0.4582265217274103,
          -0.5136773915734064,
          -0.5670598638627706,
          -0.6181589862206053,
          -0.6667690005162915,
          -0.7126941713788629,
          -0.7557495743542582,
          -0.7957618405308321,
          -0.8325698546347713,
          -0.8660254037844388,
          -0.895993774291336,
          -0.9223542941045814,
          -0.9450008187146683,
          -0.9638421585599422,
          -0.9788024462147787,
          -0.9898214418809327,
          -0.9968547759519423,
          -0.9998741276738751,
          -0.998867339183008,
          -0.9938384644612541,
          -0.9848077530122081,
          -0.9718115683235417,
          -0.9549022414440739,
          -0.9341478602651068,
          -0.9096319953545182,
          -0.881453363447582,
          -0.8497254299495144,
          -0.8145759520503358,
          -0.7761464642917566,
          -0.7345917086575332,
          -0.690079011482112,
          -0.6427876096865396,
          -0.5929079290546402,
          -0.5406408174555974,
          -0.4861967361004688,
          -0.4297949120891719,
          -0.37166245566032724,
          -0.31203344569848707,
          -0.2511479871810794,
          -0.18925124436040974,
          -0.12659245357374904,
          -0.06342391965656452,
          -2.4492935982947064e-16
         ],
         "z": [
          0,
          0,
          0,
          0,
          0,
          0,
          0,
          0,
          0,
          0,
          0,
          0,
          0,
          0,
          0,
          0,
          0,
          0,
          0,
          0,
          0,
          0,
          0,
          0,
          0,
          0,
          0,
          0,
          0,
          0,
          0,
          0,
          0,
          0,
          0,
          0,
          0,
          0,
          0,
          0,
          0,
          0,
          0,
          0,
          0,
          0,
          0,
          0,
          0,
          0,
          0,
          0,
          0,
          0,
          0,
          0,
          0,
          0,
          0,
          0,
          0,
          0,
          0,
          0,
          0,
          0,
          0,
          0,
          0,
          0,
          0,
          0,
          0,
          0,
          0,
          0,
          0,
          0,
          0,
          0,
          0,
          0,
          0,
          0,
          0,
          0,
          0,
          0,
          0,
          0,
          0,
          0,
          0,
          0,
          0,
          0,
          0,
          0,
          0,
          0
         ]
        },
        {
         "line": {
          "color": "gray",
          "width": 3
         },
         "mode": "lines",
         "name": "x line",
         "opacity": 0.1,
         "type": "scatter3d",
         "x": [
          1,
          -1
         ],
         "y": [
          0,
          0
         ],
         "z": [
          0,
          0
         ]
        },
        {
         "line": {
          "color": "gray",
          "width": 3
         },
         "mode": "lines",
         "name": "y line",
         "opacity": 0.1,
         "type": "scatter3d",
         "x": [
          0,
          0
         ],
         "y": [
          1,
          -1
         ],
         "z": [
          0,
          0
         ]
        },
        {
         "line": {
          "color": "gray",
          "width": 3
         },
         "mode": "lines",
         "name": "z line",
         "opacity": 0.1,
         "type": "scatter3d",
         "x": [
          0,
          0
         ],
         "y": [
          0,
          0
         ],
         "z": [
          1,
          -1
         ]
        },
        {
         "mode": "text",
         "name": "|0⟩",
         "text": [
          "|0⟩"
         ],
         "textposition": "middle center",
         "type": "scatter3d",
         "x": [
          0
         ],
         "y": [
          0
         ],
         "z": [
          1
         ]
        },
        {
         "mode": "text",
         "name": "|1⟩",
         "text": [
          "|1⟩"
         ],
         "textposition": "middle center",
         "type": "scatter3d",
         "x": [
          0
         ],
         "y": [
          0
         ],
         "z": [
          -1
         ]
        },
        {
         "mode": "text",
         "name": "|+⟩",
         "text": [
          "|+⟩"
         ],
         "textposition": "middle center",
         "type": "scatter3d",
         "x": [
          1
         ],
         "y": [
          0
         ],
         "z": [
          0
         ]
        },
        {
         "mode": "text",
         "name": "|‒⟩",
         "text": [
          "|‒⟩"
         ],
         "textposition": "middle center",
         "type": "scatter3d",
         "x": [
          -1
         ],
         "y": [
          0
         ],
         "z": [
          0
         ]
        },
        {
         "mode": "text",
         "name": "|i+⟩",
         "text": [
          "|i+⟩"
         ],
         "textposition": "middle center",
         "type": "scatter3d",
         "x": [
          0
         ],
         "y": [
          1
         ],
         "z": [
          0
         ]
        },
        {
         "mode": "text",
         "name": "|i‒⟩",
         "text": [
          "|i‒⟩"
         ],
         "textposition": "middle center",
         "type": "scatter3d",
         "x": [
          0
         ],
         "y": [
          -1
         ],
         "z": [
          0
         ]
        }
       ],
       "layout": {
        "scene": {
         "aspectmode": "cube",
         "xaxis": {
          "range": [
           -1,
           1
          ],
          "showbackground": false,
          "showgrid": false,
          "visible": false
         },
         "yaxis": {
          "range": [
           -1,
           1
          ],
          "showbackground": false,
          "showgrid": false,
          "visible": false
         },
         "zaxis": {
          "range": [
           -1,
           1
          ],
          "showbackground": false,
          "showgrid": false,
          "visible": false
         }
        },
        "showlegend": false,
        "template": {
         "data": {
          "bar": [
           {
            "error_x": {
             "color": "#2a3f5f"
            },
            "error_y": {
             "color": "#2a3f5f"
            },
            "marker": {
             "line": {
              "color": "#E5ECF6",
              "width": 0.5
             },
             "pattern": {
              "fillmode": "overlay",
              "size": 10,
              "solidity": 0.2
             }
            },
            "type": "bar"
           }
          ],
          "barpolar": [
           {
            "marker": {
             "line": {
              "color": "#E5ECF6",
              "width": 0.5
             },
             "pattern": {
              "fillmode": "overlay",
              "size": 10,
              "solidity": 0.2
             }
            },
            "type": "barpolar"
           }
          ],
          "carpet": [
           {
            "aaxis": {
             "endlinecolor": "#2a3f5f",
             "gridcolor": "white",
             "linecolor": "white",
             "minorgridcolor": "white",
             "startlinecolor": "#2a3f5f"
            },
            "baxis": {
             "endlinecolor": "#2a3f5f",
             "gridcolor": "white",
             "linecolor": "white",
             "minorgridcolor": "white",
             "startlinecolor": "#2a3f5f"
            },
            "type": "carpet"
           }
          ],
          "choropleth": [
           {
            "colorbar": {
             "outlinewidth": 0,
             "ticks": ""
            },
            "type": "choropleth"
           }
          ],
          "contour": [
           {
            "colorbar": {
             "outlinewidth": 0,
             "ticks": ""
            },
            "colorscale": [
             [
              0,
              "#0d0887"
             ],
             [
              0.1111111111111111,
              "#46039f"
             ],
             [
              0.2222222222222222,
              "#7201a8"
             ],
             [
              0.3333333333333333,
              "#9c179e"
             ],
             [
              0.4444444444444444,
              "#bd3786"
             ],
             [
              0.5555555555555556,
              "#d8576b"
             ],
             [
              0.6666666666666666,
              "#ed7953"
             ],
             [
              0.7777777777777778,
              "#fb9f3a"
             ],
             [
              0.8888888888888888,
              "#fdca26"
             ],
             [
              1,
              "#f0f921"
             ]
            ],
            "type": "contour"
           }
          ],
          "contourcarpet": [
           {
            "colorbar": {
             "outlinewidth": 0,
             "ticks": ""
            },
            "type": "contourcarpet"
           }
          ],
          "heatmap": [
           {
            "colorbar": {
             "outlinewidth": 0,
             "ticks": ""
            },
            "colorscale": [
             [
              0,
              "#0d0887"
             ],
             [
              0.1111111111111111,
              "#46039f"
             ],
             [
              0.2222222222222222,
              "#7201a8"
             ],
             [
              0.3333333333333333,
              "#9c179e"
             ],
             [
              0.4444444444444444,
              "#bd3786"
             ],
             [
              0.5555555555555556,
              "#d8576b"
             ],
             [
              0.6666666666666666,
              "#ed7953"
             ],
             [
              0.7777777777777778,
              "#fb9f3a"
             ],
             [
              0.8888888888888888,
              "#fdca26"
             ],
             [
              1,
              "#f0f921"
             ]
            ],
            "type": "heatmap"
           }
          ],
          "heatmapgl": [
           {
            "colorbar": {
             "outlinewidth": 0,
             "ticks": ""
            },
            "colorscale": [
             [
              0,
              "#0d0887"
             ],
             [
              0.1111111111111111,
              "#46039f"
             ],
             [
              0.2222222222222222,
              "#7201a8"
             ],
             [
              0.3333333333333333,
              "#9c179e"
             ],
             [
              0.4444444444444444,
              "#bd3786"
             ],
             [
              0.5555555555555556,
              "#d8576b"
             ],
             [
              0.6666666666666666,
              "#ed7953"
             ],
             [
              0.7777777777777778,
              "#fb9f3a"
             ],
             [
              0.8888888888888888,
              "#fdca26"
             ],
             [
              1,
              "#f0f921"
             ]
            ],
            "type": "heatmapgl"
           }
          ],
          "histogram": [
           {
            "marker": {
             "pattern": {
              "fillmode": "overlay",
              "size": 10,
              "solidity": 0.2
             }
            },
            "type": "histogram"
           }
          ],
          "histogram2d": [
           {
            "colorbar": {
             "outlinewidth": 0,
             "ticks": ""
            },
            "colorscale": [
             [
              0,
              "#0d0887"
             ],
             [
              0.1111111111111111,
              "#46039f"
             ],
             [
              0.2222222222222222,
              "#7201a8"
             ],
             [
              0.3333333333333333,
              "#9c179e"
             ],
             [
              0.4444444444444444,
              "#bd3786"
             ],
             [
              0.5555555555555556,
              "#d8576b"
             ],
             [
              0.6666666666666666,
              "#ed7953"
             ],
             [
              0.7777777777777778,
              "#fb9f3a"
             ],
             [
              0.8888888888888888,
              "#fdca26"
             ],
             [
              1,
              "#f0f921"
             ]
            ],
            "type": "histogram2d"
           }
          ],
          "histogram2dcontour": [
           {
            "colorbar": {
             "outlinewidth": 0,
             "ticks": ""
            },
            "colorscale": [
             [
              0,
              "#0d0887"
             ],
             [
              0.1111111111111111,
              "#46039f"
             ],
             [
              0.2222222222222222,
              "#7201a8"
             ],
             [
              0.3333333333333333,
              "#9c179e"
             ],
             [
              0.4444444444444444,
              "#bd3786"
             ],
             [
              0.5555555555555556,
              "#d8576b"
             ],
             [
              0.6666666666666666,
              "#ed7953"
             ],
             [
              0.7777777777777778,
              "#fb9f3a"
             ],
             [
              0.8888888888888888,
              "#fdca26"
             ],
             [
              1,
              "#f0f921"
             ]
            ],
            "type": "histogram2dcontour"
           }
          ],
          "mesh3d": [
           {
            "colorbar": {
             "outlinewidth": 0,
             "ticks": ""
            },
            "type": "mesh3d"
           }
          ],
          "parcoords": [
           {
            "line": {
             "colorbar": {
              "outlinewidth": 0,
              "ticks": ""
             }
            },
            "type": "parcoords"
           }
          ],
          "pie": [
           {
            "automargin": true,
            "type": "pie"
           }
          ],
          "scatter": [
           {
            "fillpattern": {
             "fillmode": "overlay",
             "size": 10,
             "solidity": 0.2
            },
            "type": "scatter"
           }
          ],
          "scatter3d": [
           {
            "line": {
             "colorbar": {
              "outlinewidth": 0,
              "ticks": ""
             }
            },
            "marker": {
             "colorbar": {
              "outlinewidth": 0,
              "ticks": ""
             }
            },
            "type": "scatter3d"
           }
          ],
          "scattercarpet": [
           {
            "marker": {
             "colorbar": {
              "outlinewidth": 0,
              "ticks": ""
             }
            },
            "type": "scattercarpet"
           }
          ],
          "scattergeo": [
           {
            "marker": {
             "colorbar": {
              "outlinewidth": 0,
              "ticks": ""
             }
            },
            "type": "scattergeo"
           }
          ],
          "scattergl": [
           {
            "marker": {
             "colorbar": {
              "outlinewidth": 0,
              "ticks": ""
             }
            },
            "type": "scattergl"
           }
          ],
          "scattermapbox": [
           {
            "marker": {
             "colorbar": {
              "outlinewidth": 0,
              "ticks": ""
             }
            },
            "type": "scattermapbox"
           }
          ],
          "scatterpolar": [
           {
            "marker": {
             "colorbar": {
              "outlinewidth": 0,
              "ticks": ""
             }
            },
            "type": "scatterpolar"
           }
          ],
          "scatterpolargl": [
           {
            "marker": {
             "colorbar": {
              "outlinewidth": 0,
              "ticks": ""
             }
            },
            "type": "scatterpolargl"
           }
          ],
          "scatterternary": [
           {
            "marker": {
             "colorbar": {
              "outlinewidth": 0,
              "ticks": ""
             }
            },
            "type": "scatterternary"
           }
          ],
          "surface": [
           {
            "colorbar": {
             "outlinewidth": 0,
             "ticks": ""
            },
            "colorscale": [
             [
              0,
              "#0d0887"
             ],
             [
              0.1111111111111111,
              "#46039f"
             ],
             [
              0.2222222222222222,
              "#7201a8"
             ],
             [
              0.3333333333333333,
              "#9c179e"
             ],
             [
              0.4444444444444444,
              "#bd3786"
             ],
             [
              0.5555555555555556,
              "#d8576b"
             ],
             [
              0.6666666666666666,
              "#ed7953"
             ],
             [
              0.7777777777777778,
              "#fb9f3a"
             ],
             [
              0.8888888888888888,
              "#fdca26"
             ],
             [
              1,
              "#f0f921"
             ]
            ],
            "type": "surface"
           }
          ],
          "table": [
           {
            "cells": {
             "fill": {
              "color": "#EBF0F8"
             },
             "line": {
              "color": "white"
             }
            },
            "header": {
             "fill": {
              "color": "#C8D4E3"
             },
             "line": {
              "color": "white"
             }
            },
            "type": "table"
           }
          ]
         },
         "layout": {
          "annotationdefaults": {
           "arrowcolor": "#2a3f5f",
           "arrowhead": 0,
           "arrowwidth": 1
          },
          "autotypenumbers": "strict",
          "coloraxis": {
           "colorbar": {
            "outlinewidth": 0,
            "ticks": ""
           }
          },
          "colorscale": {
           "diverging": [
            [
             0,
             "#8e0152"
            ],
            [
             0.1,
             "#c51b7d"
            ],
            [
             0.2,
             "#de77ae"
            ],
            [
             0.3,
             "#f1b6da"
            ],
            [
             0.4,
             "#fde0ef"
            ],
            [
             0.5,
             "#f7f7f7"
            ],
            [
             0.6,
             "#e6f5d0"
            ],
            [
             0.7,
             "#b8e186"
            ],
            [
             0.8,
             "#7fbc41"
            ],
            [
             0.9,
             "#4d9221"
            ],
            [
             1,
             "#276419"
            ]
           ],
           "sequential": [
            [
             0,
             "#0d0887"
            ],
            [
             0.1111111111111111,
             "#46039f"
            ],
            [
             0.2222222222222222,
             "#7201a8"
            ],
            [
             0.3333333333333333,
             "#9c179e"
            ],
            [
             0.4444444444444444,
             "#bd3786"
            ],
            [
             0.5555555555555556,
             "#d8576b"
            ],
            [
             0.6666666666666666,
             "#ed7953"
            ],
            [
             0.7777777777777778,
             "#fb9f3a"
            ],
            [
             0.8888888888888888,
             "#fdca26"
            ],
            [
             1,
             "#f0f921"
            ]
           ],
           "sequentialminus": [
            [
             0,
             "#0d0887"
            ],
            [
             0.1111111111111111,
             "#46039f"
            ],
            [
             0.2222222222222222,
             "#7201a8"
            ],
            [
             0.3333333333333333,
             "#9c179e"
            ],
            [
             0.4444444444444444,
             "#bd3786"
            ],
            [
             0.5555555555555556,
             "#d8576b"
            ],
            [
             0.6666666666666666,
             "#ed7953"
            ],
            [
             0.7777777777777778,
             "#fb9f3a"
            ],
            [
             0.8888888888888888,
             "#fdca26"
            ],
            [
             1,
             "#f0f921"
            ]
           ]
          },
          "colorway": [
           "#636efa",
           "#EF553B",
           "#00cc96",
           "#ab63fa",
           "#FFA15A",
           "#19d3f3",
           "#FF6692",
           "#B6E880",
           "#FF97FF",
           "#FECB52"
          ],
          "font": {
           "color": "#2a3f5f"
          },
          "geo": {
           "bgcolor": "white",
           "lakecolor": "white",
           "landcolor": "#E5ECF6",
           "showlakes": true,
           "showland": true,
           "subunitcolor": "white"
          },
          "hoverlabel": {
           "align": "left"
          },
          "hovermode": "closest",
          "mapbox": {
           "style": "light"
          },
          "paper_bgcolor": "white",
          "plot_bgcolor": "#E5ECF6",
          "polar": {
           "angularaxis": {
            "gridcolor": "white",
            "linecolor": "white",
            "ticks": ""
           },
           "bgcolor": "#E5ECF6",
           "radialaxis": {
            "gridcolor": "white",
            "linecolor": "white",
            "ticks": ""
           }
          },
          "scene": {
           "xaxis": {
            "backgroundcolor": "#E5ECF6",
            "gridcolor": "white",
            "gridwidth": 2,
            "linecolor": "white",
            "showbackground": true,
            "ticks": "",
            "zerolinecolor": "white"
           },
           "yaxis": {
            "backgroundcolor": "#E5ECF6",
            "gridcolor": "white",
            "gridwidth": 2,
            "linecolor": "white",
            "showbackground": true,
            "ticks": "",
            "zerolinecolor": "white"
           },
           "zaxis": {
            "backgroundcolor": "#E5ECF6",
            "gridcolor": "white",
            "gridwidth": 2,
            "linecolor": "white",
            "showbackground": true,
            "ticks": "",
            "zerolinecolor": "white"
           }
          },
          "shapedefaults": {
           "line": {
            "color": "#2a3f5f"
           }
          },
          "ternary": {
           "aaxis": {
            "gridcolor": "white",
            "linecolor": "white",
            "ticks": ""
           },
           "baxis": {
            "gridcolor": "white",
            "linecolor": "white",
            "ticks": ""
           },
           "bgcolor": "#E5ECF6",
           "caxis": {
            "gridcolor": "white",
            "linecolor": "white",
            "ticks": ""
           }
          },
          "title": {
           "x": 0.05
          },
          "xaxis": {
           "automargin": true,
           "gridcolor": "white",
           "linecolor": "white",
           "ticks": "",
           "title": {
            "standoff": 15
           },
           "zerolinecolor": "white",
           "zerolinewidth": 2
          },
          "yaxis": {
           "automargin": true,
           "gridcolor": "white",
           "linecolor": "white",
           "ticks": "",
           "title": {
            "standoff": 15
           },
           "zerolinecolor": "white",
           "zerolinewidth": 2
          }
         }
        }
       }
      }
     },
     "metadata": {},
     "output_type": "display_data"
    }
   ],
   "source": [
    "# Instanciando um novo do processo quântico\n",
    "processo = Process()\n",
    "\n",
    "# Alocação de um qubit\n",
    "qubits = processo.alloc()\n",
    "\n",
    "H(Z(H(qubits)))  # Equivalente a:\n",
    "# H(qubit)\n",
    "# Z(qubit)\n",
    "# H(qubit)\n",
    "\n",
    "bloch_sphere(qubits)  # Mostra o Bloch Sphere"
   ]
  },
  {
   "cell_type": "markdown",
   "metadata": {},
   "source": [
    "A segunda opção é utilizar a função {func}`~ket.operations.cat`, que permite criar uma nova porta que representa a concatenação das portas passadas como argumento. Esta abordagem pode ser particularmente útil em situações onde precisamos armazenar ou reutilizar uma sequência específica de operações quânticas. Ao criar uma nova porta quântica usando {func}`~ket.operations.cat`, podemos encapsular essa sequência de operações em uma única entidade que pode ser facilmente passada como argumento para outras funções, simplificando assim a estrutura do código e melhorando a sua modularidade e reutilização."
   ]
  },
  {
   "cell_type": "code",
   "execution_count": 8,
   "metadata": {},
   "outputs": [
    {
     "data": {
      "application/vnd.plotly.v1+json": {
       "config": {
        "plotlyServerURL": "https://plot.ly"
       },
       "data": [
        {
         "name": "Bloch Sphere",
         "opacity": 0.02,
         "showscale": false,
         "type": "surface",
         "x": [
          [
           0,
           0.1645945902807339,
           0.32469946920468346,
           0.4759473930370735,
           0.6142127126896678,
           0.7357239106731316,
           0.8371664782625285,
           0.9157733266550574,
           0.9694002659393304,
           0.9965844930066698,
           0.9965844930066698,
           0.9694002659393304,
           0.9157733266550575,
           0.8371664782625287,
           0.7357239106731318,
           0.6142127126896679,
           0.4759473930370737,
           0.3246994692046836,
           0.16459459028073403,
           1.2246467991473532e-16
          ],
          [
           0,
           0.16246313356537806,
           0.3204946963568737,
           0.46978399929907333,
           0.6062588193758816,
           0.7261964792589068,
           0.8263253922406854,
           0.9039143025916696,
           0.9568467870966786,
           0.9836789855631047,
           0.9836789855631047,
           0.9568467870966786,
           0.9039143025916697,
           0.8263253922406855,
           0.7261964792589071,
           0.6062588193758817,
           0.4697839992990735,
           0.3204946963568739,
           0.16246313356537817,
           1.2087879447370743e-16
          ],
          [
           0,
           0.15612396702863554,
           0.3079892792215372,
           0.45145344674540533,
           0.5826031410933619,
           0.6978609404853318,
           0.7940829126085611,
           0.8686443728954891,
           0.919511479076709,
           0.9452967090962465,
           0.9452967090962465,
           0.919511479076709,
           0.8686443728954892,
           0.7940829126085612,
           0.697860940485332,
           0.582603141093362,
           0.45145344674540544,
           0.30798927922153735,
           0.15612396702863568,
           1.161622117505191e-16
          ],
          [
           0,
           0.1457412717539971,
           0.28750710153368586,
           0.42143048705861336,
           0.5438583474838702,
           0.6514511699226683,
           0.7412741026524329,
           0.8108770102192059,
           0.8583613067458042,
           0.882431744405305,
           0.882431744405305,
           0.8583613067458042,
           0.810877010219206,
           0.741274102652433,
           0.6514511699226685,
           0.5438583474838703,
           0.42143048705861347,
           0.28750710153368597,
           0.1457412717539972,
           1.0843708876019402e-16
          ],
          [
           0,
           0.13158395409529697,
           0.2595786409366422,
           0.3804926991242503,
           0.4910279083501888,
           0.588169156250559,
           0.6692666828109729,
           0.7321083589123363,
           0.7749800274466272,
           0.7967122610543294,
           0.7967122610543294,
           0.7749800274466272,
           0.7321083589123364,
           0.669266682810973,
           0.5881691562505591,
           0.49102790835018884,
           0.3804926991242505,
           0.2595786409366423,
           0.13158395409529708,
           9.790350213036125e-17
          ],
          [
           0,
           0.11401868114339879,
           0.22492722988972447,
           0.329700350146186,
           0.4254801043153275,
           0.5096538703825993,
           0.5799256074343183,
           0.6343784856684599,
           0.6715271725148565,
           0.6903583486357373,
           0.6903583486357373,
           0.6715271725148565,
           0.63437848566846,
           0.5799256074343183,
           0.5096538703825996,
           0.42548010431532757,
           0.3297003501461861,
           0.22492722988972458,
           0.11401868114339889,
           8.483426622169505e-17
          ],
          [
           0,
           0.09350038424114347,
           0.18445032173749926,
           0.2703689352829591,
           0.3489125890731124,
           0.4179388169805881,
           0.475564763446017,
           0.5202185428694533,
           0.5506821165519409,
           0.5661245176160313,
           0.5661245176160313,
           0.5506821165519409,
           0.5202185428694533,
           0.4755647634460171,
           0.4179388169805882,
           0.34891258907311246,
           0.2703689352829592,
           0.18445032173749937,
           0.09350038424114356,
           6.95678673792762e-17
          ],
          [
           0,
           0.07056047650053407,
           0.13919624713956788,
           0.20403510701416921,
           0.26330842104925195,
           0.31539936775193667,
           0.35888704188713766,
           0.3925852130683524,
           0.41557468303033346,
           0.4272283589615935,
           0.4272283589615935,
           0.41557468303033346,
           0.3925852130683525,
           0.3588870418871377,
           0.3153993677519367,
           0.26330842104925195,
           0.2040351070141693,
           0.13919624713956794,
           0.07056047650053413,
           5.2499697314053056e-17
          ],
          [
           0,
           0.045793089482273404,
           0.09033706285714538,
           0.13241687664842175,
           0.1708847032297642,
           0.2046912405701735,
           0.23291433445806886,
           0.2547841324643033,
           0.26970408350957537,
           0.2772672102227795,
           0.2772672102227795,
           0.26970408350957537,
           0.25478413246430337,
           0.2329143344580689,
           0.20469124057017354,
           0.17088470322976423,
           0.1324168766484218,
           0.09033706285714542,
           0.045793089482273446,
           3.407181266521781e-17
          ],
          [
           0,
           0.019839685500424753,
           0.0391381960985981,
           0.057369118732864384,
           0.0740351613582292,
           0.08868171777700325,
           0.1009092681108054,
           0.11038427666137432,
           0.11684828989495437,
           0.12012498638095837,
           0.12012498638095837,
           0.11684828989495437,
           0.11038427666137433,
           0.10090926811080542,
           0.08868171777700327,
           0.07403516135822921,
           0.057369118732864405,
           0.03913819609859812,
           0.01983968550042477,
           1.4761485965452956e-17
          ],
          [
           0,
           -0.006627555914577715,
           -0.013074329380554592,
           -0.019164469223262957,
           -0.024731852303603426,
           -0.029624614924228836,
           -0.03370929527532877,
           -0.03687447392489219,
           -0.03903381305036396,
           -0.04012841150937818,
           -0.04012841150937818,
           -0.03903381305036396,
           -0.036874473924892195,
           -0.03370929527532877,
           -0.029624614924228843,
           -0.02473185230360343,
           -0.019164469223262964,
           -0.013074329380554599,
           -0.00662755591457772,
           -4.9311554669653986e-18
          ],
          [
           0,
           -0.03292314711268756,
           -0.06494823659638016,
           -0.09520170749314029,
           -0.122858323981817,
           -0.1471636856600176,
           -0.16745480562051002,
           -0.18317819500577392,
           -0.19390496074119645,
           -0.19934250462010655,
           -0.19934250462010655,
           -0.19390496074119645,
           -0.18317819500577395,
           -0.16745480562051004,
           -0.14716368566001767,
           -0.12285832398181702,
           -0.09520170749314032,
           -0.06494823659638019,
           -0.03292314711268759,
           -2.4496082563006136e-17
          ],
          [
           0,
           -0.05836604609431205,
           -0.115140018600098,
           -0.16877327154610067,
           -0.21780282960340894,
           -0.26089129423873825,
           -0.2968633244600811,
           -0.32473769705508354,
           -0.34375407180242007,
           -0.35339373157097265,
           -0.35339373157097265,
           -0.34375407180242007,
           -0.3247376970550836,
           -0.2968633244600812,
           -0.26089129423873836,
           -0.21780282960340897,
           -0.16877327154610072,
           -0.11514001860009805,
           -0.0583660460943121,
           -4.342657398786498e-17
          ],
          [
           0,
           -0.0822972951403669,
           -0.16234973460234164,
           -0.23797369651853664,
           -0.3071063563448338,
           -0.3678619553365656,
           -0.4185832391312641,
           -0.4578866633275285,
           -0.48470013296966497,
           -0.4982922465033347,
           -0.4982922465033347,
           -0.48470013296966497,
           -0.45788666332752853,
           -0.41858323913126416,
           -0.36786195533656574,
           -0.30710635634483385,
           -0.23797369651853673,
           -0.16234973460234173,
           -0.08229729514036697,
           -6.123233995736764e-17
          ],
          [
           0,
           -0.10409708747106597,
           -0.20535467775677563,
           -0.30101072775297255,
           -0.3884559897724724,
           -0.46530518502016843,
           -0.529462067780604,
           -0.5791766055365858,
           -0.6130927152942584,
           -0.6302852539921319,
           -0.6302852539921319,
           -0.6130927152942584,
           -0.5791766055365859,
           -0.5294620677806041,
           -0.46530518502016854,
           -0.38845598977247253,
           -0.30101072775297266,
           -0.20535467775677574,
           -0.10409708747106605,
           -7.745222048584242e-17
          ],
          [
           0,
           -0.12320081991594793,
           -0.24304104262515694,
           -0.3562517392522649,
           -0.4597448171115447,
           -0.550697254825314,
           -0.6266281069880509,
           -0.685466177889715,
           -0.7256065183355124,
           -0.7459542044761397,
           -0.7459542044761397,
           -0.7256065183355124,
           -0.6854661778897151,
           -0.6266281069880509,
           -0.5506972548253141,
           -0.45974481711154475,
           -0.356251739252265,
           -0.24304104262515705,
           -0.12320081991594804,
           -9.166612918751292e-17
          ],
          [
           0,
           -0.1391137158394193,
           -0.2744327721531311,
           -0.4022660178353502,
           -0.5191264951802664,
           -0.6218265549984392,
           -0.7075648073771038,
           -0.7740025362943134,
           -0.8193274936954399,
           -0.8423033328959264,
           -0.8423033328959264,
           -0.8193274936954399,
           -0.7740025362943134,
           -0.7075648073771038,
           -0.6218265549984394,
           -0.5191264951802665,
           -0.4022660178353503,
           -0.2744327721531313,
           -0.13911371583941942,
           -1.0350593329322857e-16
          ],
          [
           0,
           -0.1514236395957217,
           -0.2987168370352402,
           -0.43786181785711464,
           -0.5650630697084178,
           -0.676850874027562,
           -0.7701759509217782,
           -0.8424926355737105,
           -0.8918283173415814,
           -0.9168372474352875,
           -0.9168372474352875,
           -0.8918283173415814,
           -0.8424926355737105,
           -0.7701759509217783,
           -0.6768508740275623,
           -0.5650630697084179,
           -0.4378618178571148,
           -0.2987168370352404,
           -0.1514236395957218,
           -1.126649880958142e-16
          ],
          [
           0,
           -0.15981177062567214,
           -0.31526429274686973,
           -0.4621172267946076,
           -0.5963648075450915,
           -0.7143451109527726,
           -0.8128399418923868,
           -0.8891626181327629,
           -0.9412312560244315,
           -0.9676255588585165,
           -0.9676255588585165,
           -0.9412312560244315,
           -0.889162618132763,
           -0.812839941892387,
           -0.7143451109527729,
           -0.5963648075450916,
           -0.46211722679460776,
           -0.3152642927468699,
           -0.15981177062567228,
           -1.1890607888691283e-16
          ],
          [
           0,
           -0.1640608607416775,
           -0.32364656887706705,
           -0.4744040422971282,
           -0.6122210101223642,
           -0.7333381847325245,
           -0.8344518053331546,
           -0.9128037559378055,
           -0.9662567995822742,
           -0.9933528765776246,
           -0.9933528765776246,
           -0.9662567995822742,
           -0.9128037559378056,
           -0.8344518053331547,
           -0.7333381847325248,
           -0.6122210101223643,
           -0.47440404229712835,
           -0.3236465688770672,
           -0.16406086074167764,
           -1.2206756469332921e-16
          ],
          [
           0,
           -0.16406086074167753,
           -0.3236465688770671,
           -0.47440404229712824,
           -0.6122210101223643,
           -0.7333381847325247,
           -0.8344518053331547,
           -0.9128037559378056,
           -0.9662567995822743,
           -0.9933528765776247,
           -0.9933528765776247,
           -0.9662567995822743,
           -0.9128037559378057,
           -0.8344518053331548,
           -0.7333381847325249,
           -0.6122210101223644,
           -0.4744040422971284,
           -0.3236465688770673,
           -0.16406086074167767,
           -1.2206756469332924e-16
          ],
          [
           0,
           -0.15981177062567217,
           -0.3152642927468698,
           -0.4621172267946077,
           -0.5963648075450917,
           -0.7143451109527728,
           -0.8128399418923871,
           -0.8891626181327631,
           -0.9412312560244317,
           -0.9676255588585168,
           -0.9676255588585168,
           -0.9412312560244317,
           -0.8891626181327632,
           -0.8128399418923872,
           -0.714345110952773,
           -0.5963648075450918,
           -0.46211722679460787,
           -0.31526429274686996,
           -0.1598117706256723,
           -1.1890607888691286e-16
          ],
          [
           0,
           -0.1514236395957217,
           -0.2987168370352402,
           -0.43786181785711464,
           -0.5650630697084178,
           -0.676850874027562,
           -0.7701759509217782,
           -0.8424926355737105,
           -0.8918283173415814,
           -0.9168372474352875,
           -0.9168372474352875,
           -0.8918283173415814,
           -0.8424926355737105,
           -0.7701759509217783,
           -0.6768508740275623,
           -0.5650630697084179,
           -0.4378618178571148,
           -0.2987168370352404,
           -0.1514236395957218,
           -1.126649880958142e-16
          ],
          [
           0,
           -0.13911371583941937,
           -0.2744327721531313,
           -0.4022660178353504,
           -0.5191264951802668,
           -0.6218265549984395,
           -0.7075648073771041,
           -0.7740025362943137,
           -0.8193274936954403,
           -0.8423033328959268,
           -0.8423033328959268,
           -0.8193274936954403,
           -0.7740025362943138,
           -0.7075648073771043,
           -0.6218265549984398,
           -0.5191264951802669,
           -0.40226601783535054,
           -0.2744327721531314,
           -0.1391137158394195,
           -1.0350593329322863e-16
          ],
          [
           0,
           -0.123200819915948,
           -0.24304104262515708,
           -0.3562517392522651,
           -0.45974481711154497,
           -0.5506972548253142,
           -0.6266281069880513,
           -0.6854661778897153,
           -0.7256065183355127,
           -0.7459542044761401,
           -0.7459542044761401,
           -0.7256065183355127,
           -0.6854661778897154,
           -0.6266281069880514,
           -0.5506972548253144,
           -0.459744817111545,
           -0.3562517392522652,
           -0.24304104262515722,
           -0.12320081991594811,
           -9.166612918751298e-17
          ],
          [
           0,
           -0.10409708747106605,
           -0.20535467775677582,
           -0.30101072775297283,
           -0.3884559897724728,
           -0.4653051850201688,
           -0.5294620677806045,
           -0.5791766055365863,
           -0.6130927152942588,
           -0.6302852539921324,
           -0.6302852539921324,
           -0.6130927152942588,
           -0.5791766055365863,
           -0.5294620677806046,
           -0.465305185020169,
           -0.38845598977247286,
           -0.30101072775297294,
           -0.2053546777567759,
           -0.10409708747106615,
           -7.745222048584248e-17
          ],
          [
           0,
           -0.08229729514036702,
           -0.16234973460234187,
           -0.23797369651853698,
           -0.3071063563448342,
           -0.3678619553365661,
           -0.41858323913126466,
           -0.4578866633275291,
           -0.48470013296966563,
           -0.49829224650333537,
           -0.49829224650333537,
           -0.48470013296966563,
           -0.45788666332752914,
           -0.4185832391312647,
           -0.36786195533656624,
           -0.30710635634483424,
           -0.23797369651853706,
           -0.16234973460234195,
           -0.08229729514036709,
           -6.123233995736771e-17
          ],
          [
           0,
           -0.05836604609431212,
           -0.11514001860009813,
           -0.1687732715461009,
           -0.21780282960340921,
           -0.2608912942387386,
           -0.2968633244600815,
           -0.324737697055084,
           -0.3437540718024205,
           -0.3533937315709731,
           -0.3533937315709731,
           -0.3437540718024205,
           -0.324737697055084,
           -0.29686332446008157,
           -0.2608912942387387,
           -0.21780282960340924,
           -0.16877327154610094,
           -0.1151400186000982,
           -0.05836604609431217,
           -4.3426573987865036e-17
          ],
          [
           0,
           -0.0329231471126876,
           -0.06494823659638023,
           -0.09520170749314039,
           -0.12285832398181713,
           -0.14716368566001778,
           -0.1674548056205102,
           -0.18317819500577415,
           -0.19390496074119667,
           -0.19934250462010678,
           -0.19934250462010678,
           -0.19390496074119667,
           -0.18317819500577417,
           -0.16745480562051024,
           -0.14716368566001783,
           -0.12285832398181716,
           -0.09520170749314043,
           -0.06494823659638026,
           -0.03292314711268763,
           -2.4496082563006164e-17
          ],
          [
           0,
           -0.006627555914577755,
           -0.01307432938055467,
           -0.01916446922326307,
           -0.024731852303603575,
           -0.029624614924229013,
           -0.03370929527532897,
           -0.03687447392489241,
           -0.03903381305036419,
           -0.040128411509378424,
           -0.040128411509378424,
           -0.03903381305036419,
           -0.03687447392489242,
           -0.033709295275328975,
           -0.029624614924229024,
           -0.02473185230360358,
           -0.019164469223263078,
           -0.013074329380554677,
           -0.00662755591457776,
           -4.931155466965428e-18
          ],
          [
           0,
           0.019839685500424604,
           0.03913819609859781,
           0.057369118732863954,
           0.07403516135822864,
           0.08868171777700258,
           0.10090926811080465,
           0.1103842766613735,
           0.1168482898949535,
           0.12012498638095748,
           0.12012498638095748,
           0.1168482898949535,
           0.11038427666137351,
           0.10090926811080467,
           0.08868171777700261,
           0.07403516135822866,
           0.057369118732863975,
           0.03913819609859783,
           0.01983968550042462,
           1.4761485965452845e-17
          ],
          [
           0,
           0.04579308948227329,
           0.09033706285714516,
           0.13241687664842144,
           0.1708847032297638,
           0.204691240570173,
           0.2329143344580683,
           0.2547841324643027,
           0.2697040835095747,
           0.27726721022277884,
           0.27726721022277884,
           0.2697040835095747,
           0.25478413246430276,
           0.23291433445806833,
           0.20469124057017307,
           0.17088470322976385,
           0.13241687664842147,
           0.09033706285714521,
           0.045793089482273334,
           3.4071812665217726e-17
          ],
          [
           0,
           0.070560476500534,
           0.13919624713956774,
           0.20403510701416902,
           0.2633084210492517,
           0.31539936775193633,
           0.3588870418871373,
           0.39258521306835203,
           0.41557468303033307,
           0.42722835896159306,
           0.42722835896159306,
           0.41557468303033307,
           0.3925852130683521,
           0.3588870418871374,
           0.3153993677519364,
           0.2633084210492517,
           0.20403510701416908,
           0.1391962471395678,
           0.07056047650053406,
           5.2499697314053e-17
          ],
          [
           0,
           0.09350038424114342,
           0.18445032173749917,
           0.2703689352829589,
           0.3489125890731122,
           0.4179388169805878,
           0.4755647634460167,
           0.520218542869453,
           0.5506821165519405,
           0.566124517616031,
           0.566124517616031,
           0.5506821165519405,
           0.520218542869453,
           0.47556476344601684,
           0.41793881698058793,
           0.34891258907311223,
           0.270368935282959,
           0.18445032173749926,
           0.0935003842411435,
           6.956786737927616e-17
          ],
          [
           0,
           0.11401868114339876,
           0.22492722988972438,
           0.32970035014618587,
           0.4254801043153274,
           0.5096538703825992,
           0.5799256074343181,
           0.6343784856684597,
           0.6715271725148563,
           0.6903583486357371,
           0.6903583486357371,
           0.6715271725148563,
           0.6343784856684598,
           0.5799256074343182,
           0.5096538703825993,
           0.42548010431532746,
           0.329700350146186,
           0.2249272298897245,
           0.11401868114339886,
           8.483426622169503e-17
          ],
          [
           0,
           0.13158395409529686,
           0.259578640936642,
           0.3804926991242501,
           0.4910279083501884,
           0.5881691562505585,
           0.6692666828109725,
           0.7321083589123357,
           0.7749800274466266,
           0.7967122610543288,
           0.7967122610543288,
           0.7749800274466266,
           0.7321083589123358,
           0.6692666828109726,
           0.5881691562505588,
           0.4910279083501885,
           0.3804926991242502,
           0.2595786409366421,
           0.13158395409529697,
           9.790350213036119e-17
          ],
          [
           0,
           0.14574127175399704,
           0.28750710153368575,
           0.4214304870586132,
           0.54385834748387,
           0.651451169922668,
           0.7412741026524325,
           0.8108770102192056,
           0.8583613067458039,
           0.8824317444053047,
           0.8824317444053047,
           0.8583613067458039,
           0.8108770102192057,
           0.7412741026524327,
           0.6514511699226683,
           0.5438583474838701,
           0.4214304870586133,
           0.28750710153368586,
           0.14574127175399715,
           1.0843708876019398e-16
          ],
          [
           0,
           0.1561239670286355,
           0.3079892792215371,
           0.4514534467454053,
           0.5826031410933618,
           0.6978609404853316,
           0.794082912608561,
           0.868644372895489,
           0.9195114790767089,
           0.9452967090962464,
           0.9452967090962464,
           0.9195114790767089,
           0.8686443728954891,
           0.7940829126085611,
           0.6978609404853319,
           0.5826031410933619,
           0.45145344674540544,
           0.3079892792215373,
           0.15612396702863565,
           1.1616221175051907e-16
          ],
          [
           0,
           0.16246313356537806,
           0.3204946963568737,
           0.46978399929907333,
           0.6062588193758816,
           0.7261964792589068,
           0.8263253922406854,
           0.9039143025916696,
           0.9568467870966786,
           0.9836789855631047,
           0.9836789855631047,
           0.9568467870966786,
           0.9039143025916697,
           0.8263253922406855,
           0.7261964792589071,
           0.6062588193758817,
           0.4697839992990735,
           0.3204946963568739,
           0.16246313356537817,
           1.2087879447370743e-16
          ],
          [
           0,
           0.1645945902807339,
           0.32469946920468346,
           0.4759473930370735,
           0.6142127126896678,
           0.7357239106731316,
           0.8371664782625285,
           0.9157733266550574,
           0.9694002659393304,
           0.9965844930066698,
           0.9965844930066698,
           0.9694002659393304,
           0.9157733266550575,
           0.8371664782625287,
           0.7357239106731318,
           0.6142127126896679,
           0.4759473930370737,
           0.3246994692046836,
           0.16459459028073403,
           1.2246467991473532e-16
          ]
         ],
         "y": [
          [
           0,
           0,
           0,
           0,
           0,
           0,
           0,
           0,
           0,
           0,
           0,
           0,
           0,
           0,
           0,
           0,
           0,
           0,
           0,
           0
          ],
          [
           0,
           0.02640282904919078,
           0.05208545774895815,
           0.0763473309379888,
           0.0985266479616691,
           0.11801841486875742,
           0.1342909470692725,
           0.14690037230410982,
           0.1555027383231814,
           0.15986339500618152,
           0.15986339500618152,
           0.1555027383231814,
           0.14690037230410985,
           0.13429094706927253,
           0.11801841486875746,
           0.09852664796166911,
           0.07634733093798883,
           0.052085457748958175,
           0.0264028290491908,
           1.964471616495832e-17
          ],
          [
           0,
           0.052121838694775345,
           0.10282192950145011,
           0.15071730610809098,
           0.19450150749479733,
           0.23298021478463432,
           0.2651038291492389,
           0.28999610212875754,
           0.30697803740562163,
           0.3155864120540797,
           0.3155864120540797,
           0.30697803740562163,
           0.2899961021287576,
           0.26510382914923897,
           0.2329802147846344,
           0.19450150749479736,
           0.15071730610809103,
           0.10282192950145015,
           0.05212183869477539,
           3.878064450013872e-17
          ],
          [
           0,
           0.07649092009650708,
           0.1508953672897284,
           0.22118378221815102,
           0.28543888015075025,
           0.3419079495164639,
           0.3890506613068728,
           0.42558108523621246,
           0.45050276656739835,
           0.46313590679969047,
           0.46313590679969047,
           0.45050276656739835,
           0.4255810852362125,
           0.3890506613068729,
           0.341907949516464,
           0.2854388801507503,
           0.2211837822181511,
           0.1508953672897285,
           0.07649092009650715,
           5.691217451330058e-17
          ],
          [
           0,
           0.0988789268465705,
           0.1950606943268914,
           0.28592171455125476,
           0.3689835357449422,
           0.44198044795179753,
           0.502921285695566,
           0.5501437417835053,
           0.5823597107132922,
           0.598690424833285,
           0.598690424833285,
           0.5823597107132922,
           0.5501437417835054,
           0.5029212856955662,
           0.4419804479517977,
           0.36898353574494225,
           0.28592171455125487,
           0.19506069432689152,
           0.09887892684657058,
           7.356970910115742e-17
          ],
          [
           0,
           0.1187060213300177,
           0.2341740518416552,
           0.34325442466524575,
           0.4429717115814716,
           0.5306058849468245,
           0.6037665129571378,
           0.6604579643958138,
           0.6991338442511896,
           0.7187391753413048,
           0.7187391753413048,
           0.6991338442511896,
           0.660457964395814,
           0.6037665129571379,
           0.5306058849468246,
           0.44297171158147164,
           0.34325442466524586,
           0.23417405184165535,
           0.1187060213300178,
           8.8321826867684e-17
          ],
          [
           0,
           0.1354586922144208,
           0.26722242441968863,
           0.39169702548365826,
           0.5054871527703725,
           0.605488908236173,
           0.6889745046770733,
           0.7536666726528733,
           0.7978007784610887,
           0.8201729587442986,
           0.8201729587442986,
           0.7978007784610887,
           0.7536666726528733,
           0.6889745046770734,
           0.6054889082361731,
           0.5054871527703726,
           0.39169702548365837,
           0.26722242441968874,
           0.13545869221442092,
           1.0078645571165809e-16
          ],
          [
           0,
           0.14870305412364682,
           0.2933498765707317,
           0.42999487909102246,
           0.5549107422227022,
           0.6646900868508907,
           0.7563384186275245,
           0.8273558099711071,
           0.8758050915743081,
           0.9003646933328433,
           0.9003646933328433,
           0.8758050915743081,
           0.8273558099711072,
           0.7563384186275246,
           0.6646900868508909,
           0.5549107422227023,
           0.42999487909102263,
           0.29334987657073186,
           0.14870305412364695,
           1.1064076829338897e-16
          ],
          [
           0,
           0.15809608504118994,
           0.31187972100819145,
           0.4571560911958444,
           0.5899624349326623,
           0.7066761413618048,
           0.8041135648218102,
           0.8796168664010955,
           0.9311265128549957,
           0.957237455303875,
           0.957237455303875,
           0.9311265128549957,
           0.8796168664010956,
           0.8041135648218103,
           0.706676141361805,
           0.5899624349326624,
           0.45715609119584455,
           0.3118797210081916,
           0.15809608504119008,
           1.1762954309324202e-16
          ],
          [
           0,
           0.16339451040021785,
           0.32233204449441705,
           0.4724772006717372,
           0.6097344104708716,
           0.7303596550113417,
           0.8310625920686276,
           0.9090963080327714,
           0.9623322465509867,
           0.9893182699962312,
           0.9893182699962312,
           0.9623322465509867,
           0.9090963080327715,
           0.8310625920686278,
           0.7303596550113419,
           0.6097344104708717,
           0.4724772006717374,
           0.3223320444944172,
           0.163394510400218,
           1.2157177451493547e-16
          ],
          [
           0,
           0.1644611037670665,
           0.3244361373414681,
           0.4755613988310838,
           0.6137145850566313,
           0.7351272372363558,
           0.8364875347179571,
           0.9150306328127125,
           0.9686140805511727,
           0.9957762611606562,
           0.9957762611606562,
           0.9686140805511727,
           0.9150306328127126,
           0.8364875347179572,
           0.735127237236356,
           0.6137145850566315,
           0.47556139883108395,
           0.32443613734146826,
           0.16446110376706663,
           1.2236536083540634e-16
          ],
          [
           0,
           0.16126824093379016,
           0.31813750464983503,
           0.4663288065616117,
           0.6017998742588596,
           0.7208554101615147,
           0.8202478896047718,
           0.8972661448462753,
           0.9498093186546442,
           0.9764441702182178,
           0.9764441702182178,
           0.9498093186546442,
           0.8972661448462754,
           0.8202478896047719,
           0.7208554101615149,
           0.6017998742588597,
           0.46632880656161185,
           0.3181375046498352,
           0.1612682409337903,
           1.1998974858580612e-16
          ],
          [
           0,
           0.1538986153706371,
           0.30359927769771167,
           0.44501854315344286,
           0.5742988628287095,
           0.6879138066114112,
           0.7827642550072105,
           0.8562629350405349,
           0.9064049943168346,
           0.9318226881696455,
           0.9318226881696455,
           0.9064049943168346,
           0.856262935040535,
           0.7827642550072106,
           0.6879138066114114,
           0.5742988628287096,
           0.44501854315344297,
           0.30359927769771183,
           0.15389861537063723,
           1.145064648755478e-16
          ],
          [
           0,
           0.14254309650860683,
           0.28119798892657893,
           0.4121825332350825,
           0.531923812516605,
           0.6371555968145651,
           0.7250074373721028,
           0.7930829649914648,
           0.8395252567388508,
           0.8630674879614114,
           0.8630674879614114,
           0.8395252567388508,
           0.7930829649914649,
           0.7250074373721029,
           0.6371555968145652,
           0.5319238125166051,
           0.4121825332350827,
           0.28119798892657905,
           0.14254309650860694,
           1.0605752387249069e-16
          ],
          [
           0,
           0.1274957863214463,
           0.25151381994875355,
           0.368671212215454,
           0.4757722148670403,
           0.5698953917426538,
           0.648473307937938,
           0.709362562736425,
           0.7509022559936532,
           0.771959293163464,
           0.771959293163464,
           0.7509022559936532,
           0.7093625627364251,
           0.648473307937938,
           0.569895391742654,
           0.4757722148670404,
           0.3686712122154542,
           0.25151381994875366,
           0.12749578632144642,
           9.486174871058949e-17
          ],
          [
           0,
           0.10914640223901487,
           0.215315575148385,
           0.3156115004535209,
           0.4072983667640625,
           0.4878751953768806,
           0.5551440604555331,
           0.607270042717518,
           0.6428312812490229,
           0.6608577581641384,
           0.6608577581641384,
           0.6428312812490229,
           0.607270042717518,
           0.5551440604555332,
           0.4878751953768808,
           0.4072983667640626,
           0.315611500453521,
           0.21531557514838512,
           0.10914640223901496,
           8.120910408566745e-17
          ],
          [
           0,
           0.08797018367055941,
           0.1735407700517397,
           0.2543776166129328,
           0.32827570490588115,
           0.3932192877198919,
           0.4474368734110843,
           0.48944954757650005,
           0.5181113139837744,
           0.5326403543609658,
           0.5326403543609658,
           0.5181113139837744,
           0.4894495475765001,
           0.44743687341108435,
           0.39321928771989206,
           0.3282757049058812,
           0.2543776166129329,
           0.1735407700517398,
           0.08797018367055948,
           6.545318632210576e-17
          ],
          [
           0,
           0.06451558355364734,
           0.12727135016752564,
           0.18655548612048245,
           0.24075087472592946,
           0.2883792070595441,
           0.3281413063730616,
           0.358952566249266,
           0.3799725358376946,
           0.39062784516294613,
           0.39062784516294613,
           0.3799725358376946,
           0.3589525662492661,
           0.32814130637306166,
           0.28837920705954423,
           0.2407508747259295,
           0.1865554861204825,
           0.12727135016752572,
           0.0645155835536474,
           4.800206541377804e-17
          ],
          [
           0,
           0.039390063711172284,
           0.07770566916653633,
           0.11390166653059874,
           0.14699072335119093,
           0.17607025641498053,
           0.20034705186467258,
           0.21915890200528199,
           0.23199266860380632,
           0.2384982799625705,
           0.2384982799625705,
           0.23199266860380632,
           0.219158902005282,
           0.2003470518646726,
           0.17607025641498059,
           0.14699072335119096,
           0.11390166653059879,
           0.07770566916653637,
           0.03939006371117232,
           2.930771622555806e-17
          ],
          [
           0,
           0.013244361909226048,
           0.026127452151043146,
           0.03829785360736431,
           0.04942358945232989,
           0.059201178614717985,
           0.06736391395045133,
           0.07368913731823402,
           0.07800431311321966,
           0.08019173458854482,
           0.08019173458854482,
           0.07800431311321966,
           0.07368913731823402,
           0.06736391395045134,
           0.059201178614718006,
           0.0494235894523299,
           0.038297853607364325,
           0.02612745215104316,
           0.01324436190922606,
           9.854312581730915e-18
          ],
          [
           0,
           -0.013244361909225935,
           -0.02612745215104292,
           -0.038297853607363985,
           -0.04942358945232946,
           -0.05920117861471748,
           -0.06736391395045074,
           -0.07368913731823339,
           -0.078004313113219,
           -0.08019173458854413,
           -0.08019173458854413,
           -0.078004313113219,
           -0.07368913731823339,
           -0.06736391395045076,
           -0.05920117861471749,
           -0.049423589452329476,
           -0.038297853607364,
           -0.026127452151042934,
           -0.013244361909225946,
           -9.854312581730829e-18
          ],
          [
           0,
           -0.03939006371117217,
           -0.07770566916653612,
           -0.11390166653059844,
           -0.1469907233511905,
           -0.17607025641498006,
           -0.20034705186467203,
           -0.21915890200528138,
           -0.23199266860380569,
           -0.23849827996256984,
           -0.23849827996256984,
           -0.23199266860380569,
           -0.2191589020052814,
           -0.20034705186467205,
           -0.17607025641498011,
           -0.14699072335119054,
           -0.11390166653059848,
           -0.07770566916653616,
           -0.03939006371117221,
           -2.930771622555798e-17
          ],
          [
           0,
           -0.0645155835536473,
           -0.12727135016752558,
           -0.18655548612048234,
           -0.24075087472592932,
           -0.288379207059544,
           -0.32814130637306144,
           -0.35895256624926586,
           -0.37997253583769436,
           -0.3906278451629459,
           -0.3906278451629459,
           -0.37997253583769436,
           -0.35895256624926586,
           -0.32814130637306144,
           -0.28837920705954406,
           -0.24075087472592935,
           -0.1865554861204824,
           -0.12727135016752564,
           -0.06451558355364735,
           -4.8002065413778013e-17
          ],
          [
           0,
           -0.08797018367055931,
           -0.1735407700517395,
           -0.25437761661293257,
           -0.3282757049058808,
           -0.3932192877198915,
           -0.44743687341108385,
           -0.48944954757649956,
           -0.5181113139837739,
           -0.5326403543609652,
           -0.5326403543609652,
           -0.5181113139837739,
           -0.4894495475764996,
           -0.4474368734110839,
           -0.3932192877198916,
           -0.32827570490588087,
           -0.2543776166129326,
           -0.17354077005173962,
           -0.0879701836705594,
           -6.54531863221057e-17
          ],
          [
           0,
           -0.10914640223901477,
           -0.21531557514838484,
           -0.3156115004535206,
           -0.40729836676406217,
           -0.4878751953768802,
           -0.5551440604555327,
           -0.6072700427175175,
           -0.6428312812490223,
           -0.6608577581641378,
           -0.6608577581641378,
           -0.6428312812490223,
           -0.6072700427175176,
           -0.5551440604555327,
           -0.48787519537688034,
           -0.4072983667640623,
           -0.3156115004535207,
           -0.21531557514838495,
           -0.10914640223901487,
           -8.120910408566738e-17
          ],
          [
           0,
           -0.12749578632144626,
           -0.2515138199487534,
           -0.36867121221545385,
           -0.47577221486704,
           -0.5698953917426536,
           -0.6484733079379376,
           -0.7093625627364246,
           -0.7509022559936528,
           -0.7719592931634636,
           -0.7719592931634636,
           -0.7509022559936528,
           -0.7093625627364246,
           -0.6484733079379377,
           -0.5698953917426537,
           -0.47577221486704013,
           -0.36867121221545396,
           -0.25151381994875355,
           -0.12749578632144637,
           -9.486174871058944e-17
          ],
          [
           0,
           -0.14254309650860678,
           -0.2811979889265788,
           -0.41218253323508236,
           -0.5319238125166048,
           -0.6371555968145649,
           -0.7250074373721025,
           -0.7930829649914645,
           -0.8395252567388505,
           -0.8630674879614111,
           -0.8630674879614111,
           -0.8395252567388505,
           -0.7930829649914646,
           -0.7250074373721026,
           -0.637155596814565,
           -0.5319238125166049,
           -0.4121825332350825,
           -0.28119798892657893,
           -0.1425430965086069,
           -1.0605752387249065e-16
          ],
          [
           0,
           -0.1538986153706371,
           -0.30359927769771167,
           -0.4450185431534428,
           -0.5742988628287093,
           -0.6879138066114112,
           -0.7827642550072104,
           -0.8562629350405347,
           -0.9064049943168345,
           -0.9318226881696454,
           -0.9318226881696454,
           -0.9064049943168345,
           -0.8562629350405349,
           -0.7827642550072105,
           -0.6879138066114114,
           -0.5742988628287095,
           -0.44501854315344297,
           -0.3035992776977118,
           -0.1538986153706372,
           -1.145064648755478e-16
          ],
          [
           0,
           -0.16126824093379016,
           -0.31813750464983503,
           -0.4663288065616117,
           -0.6017998742588596,
           -0.7208554101615147,
           -0.8202478896047718,
           -0.8972661448462753,
           -0.9498093186546442,
           -0.9764441702182178,
           -0.9764441702182178,
           -0.9498093186546442,
           -0.8972661448462754,
           -0.8202478896047719,
           -0.7208554101615149,
           -0.6017998742588597,
           -0.46632880656161185,
           -0.3181375046498352,
           -0.1612682409337903,
           -1.1998974858580612e-16
          ],
          [
           0,
           -0.16446110376706646,
           -0.3244361373414681,
           -0.4755613988310837,
           -0.6137145850566313,
           -0.7351272372363558,
           -0.836487534717957,
           -0.9150306328127124,
           -0.9686140805511726,
           -0.9957762611606561,
           -0.9957762611606561,
           -0.9686140805511726,
           -0.9150306328127125,
           -0.8364875347179571,
           -0.735127237236356,
           -0.6137145850566315,
           -0.4755613988310839,
           -0.32443613734146826,
           -0.1644611037670666,
           -1.2236536083540631e-16
          ],
          [
           0,
           -0.16339451040021785,
           -0.3223320444944171,
           -0.47247720067173726,
           -0.6097344104708717,
           -0.7303596550113418,
           -0.8310625920686278,
           -0.9090963080327715,
           -0.9623322465509868,
           -0.9893182699962313,
           -0.9893182699962313,
           -0.9623322465509868,
           -0.9090963080327716,
           -0.8310625920686279,
           -0.730359655011342,
           -0.6097344104708718,
           -0.47247720067173743,
           -0.32233204449441727,
           -0.163394510400218,
           -1.2157177451493547e-16
          ],
          [
           0,
           -0.15809608504118997,
           -0.3118797210081915,
           -0.4571560911958445,
           -0.5899624349326624,
           -0.7066761413618049,
           -0.8041135648218103,
           -0.8796168664010957,
           -0.9311265128549959,
           -0.9572374553038753,
           -0.9572374553038753,
           -0.9311265128549959,
           -0.8796168664010958,
           -0.8041135648218104,
           -0.7066761413618051,
           -0.5899624349326625,
           -0.45715609119584466,
           -0.31187972100819167,
           -0.1580960850411901,
           -1.1762954309324205e-16
          ],
          [
           0,
           -0.14870305412364687,
           -0.29334987657073175,
           -0.4299948790910226,
           -0.5549107422227023,
           -0.6646900868508909,
           -0.7563384186275247,
           -0.8273558099711074,
           -0.8758050915743083,
           -0.9003646933328435,
           -0.9003646933328435,
           -0.8758050915743083,
           -0.8273558099711075,
           -0.7563384186275248,
           -0.6646900868508911,
           -0.5549107422227024,
           -0.42999487909102274,
           -0.2933498765707319,
           -0.14870305412364698,
           -1.10640768293389e-16
          ],
          [
           0,
           -0.13545869221442086,
           -0.2672224244196887,
           -0.39169702548365837,
           -0.5054871527703726,
           -0.6054889082361731,
           -0.6889745046770736,
           -0.7536666726528735,
           -0.7978007784610889,
           -0.8201729587442989,
           -0.8201729587442989,
           -0.7978007784610889,
           -0.7536666726528736,
           -0.6889745046770737,
           -0.6054889082361733,
           -0.5054871527703727,
           -0.3916970254836585,
           -0.2672224244196888,
           -0.13545869221442097,
           -1.0078645571165811e-16
          ],
          [
           0,
           -0.11870602133001773,
           -0.2341740518416553,
           -0.34325442466524586,
           -0.4429717115814717,
           -0.5306058849468246,
           -0.603766512957138,
           -0.6604579643958141,
           -0.6991338442511899,
           -0.718739175341305,
           -0.718739175341305,
           -0.6991338442511899,
           -0.6604579643958141,
           -0.6037665129571381,
           -0.5306058849468247,
           -0.4429717115814718,
           -0.34325442466524597,
           -0.2341740518416554,
           -0.11870602133001784,
           -8.832182686768402e-17
          ],
          [
           0,
           -0.09887892684657063,
           -0.19506069432689166,
           -0.28592171455125515,
           -0.3689835357449427,
           -0.44198044795179814,
           -0.5029212856955667,
           -0.5501437417835061,
           -0.582359710713293,
           -0.5986904248332858,
           -0.5986904248332858,
           -0.582359710713293,
           -0.5501437417835062,
           -0.5029212856955668,
           -0.44198044795179825,
           -0.36898353574494275,
           -0.28592171455125526,
           -0.19506069432689177,
           -0.09887892684657071,
           -7.356970910115752e-17
          ],
          [
           0,
           -0.0764909200965072,
           -0.15089536728972863,
           -0.22118378221815133,
           -0.28543888015075064,
           -0.3419079495164644,
           -0.3890506613068734,
           -0.4255810852362131,
           -0.450502766567399,
           -0.46313590679969113,
           -0.46313590679969113,
           -0.450502766567399,
           -0.42558108523621313,
           -0.38905066130687344,
           -0.34190794951646447,
           -0.2854388801507507,
           -0.2211837822181514,
           -0.15089536728972872,
           -0.07649092009650726,
           -5.691217451330067e-17
          ],
          [
           0,
           -0.052121838694775435,
           -0.10282192950145029,
           -0.15071730610809125,
           -0.19450150749479767,
           -0.23298021478463474,
           -0.2651038291492394,
           -0.28999610212875804,
           -0.3069780374056222,
           -0.3155864120540803,
           -0.3155864120540803,
           -0.3069780374056222,
           -0.2899961021287581,
           -0.2651038291492394,
           -0.2329802147846348,
           -0.1945015074947977,
           -0.1507173061080913,
           -0.10282192950145033,
           -0.05212183869477548,
           -3.8780644500138786e-17
          ],
          [
           0,
           -0.02640282904919084,
           -0.05208545774895828,
           -0.07634733093798898,
           -0.09852664796166934,
           -0.1180184148687577,
           -0.13429094706927283,
           -0.14690037230411018,
           -0.15550273832318176,
           -0.1598633950061819,
           -0.1598633950061819,
           -0.15550273832318176,
           -0.1469003723041102,
           -0.13429094706927283,
           -0.11801841486875773,
           -0.09852664796166936,
           -0.07634733093798901,
           -0.0520854577489583,
           -0.026402829049190866,
           -1.9644716164958365e-17
          ],
          [
           0,
           -4.031404762885416e-17,
           -7.952843312927203e-17,
           -1.1657349028907586e-16,
           -1.5043872651820291e-16,
           -1.8020038645240475e-16,
           -2.0504664959153358e-16,
           -2.242997746465279e-16,
           -2.3743458655503876e-16,
           -2.4409280188810123e-16,
           -2.4409280188810123e-16,
           -2.3743458655503876e-16,
           -2.2429977464652795e-16,
           -2.050466495915336e-16,
           -1.8020038645240483e-16,
           -1.5043872651820294e-16,
           -1.165734902890759e-16,
           -7.952843312927208e-17,
           -4.03140476288542e-17,
           -2.999519565323715e-32
          ]
         ],
         "z": [
          [
           1,
           0.9863613034027223,
           0.9458172417006346,
           0.8794737512064891,
           0.7891405093963936,
           0.6772815716257411,
           0.546948158122427,
           0.40169542465296953,
           0.24548548714079924,
           0.0825793454723324,
           -0.08257934547233227,
           -0.24548548714079912,
           -0.40169542465296926,
           -0.5469481581224267,
           -0.6772815716257409,
           -0.7891405093963935,
           -0.879473751206489,
           -0.9458172417006346,
           -0.9863613034027223,
           -1
          ],
          [
           1,
           0.9863613034027223,
           0.9458172417006346,
           0.8794737512064891,
           0.7891405093963936,
           0.6772815716257411,
           0.546948158122427,
           0.40169542465296953,
           0.24548548714079924,
           0.0825793454723324,
           -0.08257934547233227,
           -0.24548548714079912,
           -0.40169542465296926,
           -0.5469481581224267,
           -0.6772815716257409,
           -0.7891405093963935,
           -0.879473751206489,
           -0.9458172417006346,
           -0.9863613034027223,
           -1
          ],
          [
           1,
           0.9863613034027223,
           0.9458172417006346,
           0.8794737512064891,
           0.7891405093963936,
           0.6772815716257411,
           0.546948158122427,
           0.40169542465296953,
           0.24548548714079924,
           0.0825793454723324,
           -0.08257934547233227,
           -0.24548548714079912,
           -0.40169542465296926,
           -0.5469481581224267,
           -0.6772815716257409,
           -0.7891405093963935,
           -0.879473751206489,
           -0.9458172417006346,
           -0.9863613034027223,
           -1
          ],
          [
           1,
           0.9863613034027223,
           0.9458172417006346,
           0.8794737512064891,
           0.7891405093963936,
           0.6772815716257411,
           0.546948158122427,
           0.40169542465296953,
           0.24548548714079924,
           0.0825793454723324,
           -0.08257934547233227,
           -0.24548548714079912,
           -0.40169542465296926,
           -0.5469481581224267,
           -0.6772815716257409,
           -0.7891405093963935,
           -0.879473751206489,
           -0.9458172417006346,
           -0.9863613034027223,
           -1
          ],
          [
           1,
           0.9863613034027223,
           0.9458172417006346,
           0.8794737512064891,
           0.7891405093963936,
           0.6772815716257411,
           0.546948158122427,
           0.40169542465296953,
           0.24548548714079924,
           0.0825793454723324,
           -0.08257934547233227,
           -0.24548548714079912,
           -0.40169542465296926,
           -0.5469481581224267,
           -0.6772815716257409,
           -0.7891405093963935,
           -0.879473751206489,
           -0.9458172417006346,
           -0.9863613034027223,
           -1
          ],
          [
           1,
           0.9863613034027223,
           0.9458172417006346,
           0.8794737512064891,
           0.7891405093963936,
           0.6772815716257411,
           0.546948158122427,
           0.40169542465296953,
           0.24548548714079924,
           0.0825793454723324,
           -0.08257934547233227,
           -0.24548548714079912,
           -0.40169542465296926,
           -0.5469481581224267,
           -0.6772815716257409,
           -0.7891405093963935,
           -0.879473751206489,
           -0.9458172417006346,
           -0.9863613034027223,
           -1
          ],
          [
           1,
           0.9863613034027223,
           0.9458172417006346,
           0.8794737512064891,
           0.7891405093963936,
           0.6772815716257411,
           0.546948158122427,
           0.40169542465296953,
           0.24548548714079924,
           0.0825793454723324,
           -0.08257934547233227,
           -0.24548548714079912,
           -0.40169542465296926,
           -0.5469481581224267,
           -0.6772815716257409,
           -0.7891405093963935,
           -0.879473751206489,
           -0.9458172417006346,
           -0.9863613034027223,
           -1
          ],
          [
           1,
           0.9863613034027223,
           0.9458172417006346,
           0.8794737512064891,
           0.7891405093963936,
           0.6772815716257411,
           0.546948158122427,
           0.40169542465296953,
           0.24548548714079924,
           0.0825793454723324,
           -0.08257934547233227,
           -0.24548548714079912,
           -0.40169542465296926,
           -0.5469481581224267,
           -0.6772815716257409,
           -0.7891405093963935,
           -0.879473751206489,
           -0.9458172417006346,
           -0.9863613034027223,
           -1
          ],
          [
           1,
           0.9863613034027223,
           0.9458172417006346,
           0.8794737512064891,
           0.7891405093963936,
           0.6772815716257411,
           0.546948158122427,
           0.40169542465296953,
           0.24548548714079924,
           0.0825793454723324,
           -0.08257934547233227,
           -0.24548548714079912,
           -0.40169542465296926,
           -0.5469481581224267,
           -0.6772815716257409,
           -0.7891405093963935,
           -0.879473751206489,
           -0.9458172417006346,
           -0.9863613034027223,
           -1
          ],
          [
           1,
           0.9863613034027223,
           0.9458172417006346,
           0.8794737512064891,
           0.7891405093963936,
           0.6772815716257411,
           0.546948158122427,
           0.40169542465296953,
           0.24548548714079924,
           0.0825793454723324,
           -0.08257934547233227,
           -0.24548548714079912,
           -0.40169542465296926,
           -0.5469481581224267,
           -0.6772815716257409,
           -0.7891405093963935,
           -0.879473751206489,
           -0.9458172417006346,
           -0.9863613034027223,
           -1
          ],
          [
           1,
           0.9863613034027223,
           0.9458172417006346,
           0.8794737512064891,
           0.7891405093963936,
           0.6772815716257411,
           0.546948158122427,
           0.40169542465296953,
           0.24548548714079924,
           0.0825793454723324,
           -0.08257934547233227,
           -0.24548548714079912,
           -0.40169542465296926,
           -0.5469481581224267,
           -0.6772815716257409,
           -0.7891405093963935,
           -0.879473751206489,
           -0.9458172417006346,
           -0.9863613034027223,
           -1
          ],
          [
           1,
           0.9863613034027223,
           0.9458172417006346,
           0.8794737512064891,
           0.7891405093963936,
           0.6772815716257411,
           0.546948158122427,
           0.40169542465296953,
           0.24548548714079924,
           0.0825793454723324,
           -0.08257934547233227,
           -0.24548548714079912,
           -0.40169542465296926,
           -0.5469481581224267,
           -0.6772815716257409,
           -0.7891405093963935,
           -0.879473751206489,
           -0.9458172417006346,
           -0.9863613034027223,
           -1
          ],
          [
           1,
           0.9863613034027223,
           0.9458172417006346,
           0.8794737512064891,
           0.7891405093963936,
           0.6772815716257411,
           0.546948158122427,
           0.40169542465296953,
           0.24548548714079924,
           0.0825793454723324,
           -0.08257934547233227,
           -0.24548548714079912,
           -0.40169542465296926,
           -0.5469481581224267,
           -0.6772815716257409,
           -0.7891405093963935,
           -0.879473751206489,
           -0.9458172417006346,
           -0.9863613034027223,
           -1
          ],
          [
           1,
           0.9863613034027223,
           0.9458172417006346,
           0.8794737512064891,
           0.7891405093963936,
           0.6772815716257411,
           0.546948158122427,
           0.40169542465296953,
           0.24548548714079924,
           0.0825793454723324,
           -0.08257934547233227,
           -0.24548548714079912,
           -0.40169542465296926,
           -0.5469481581224267,
           -0.6772815716257409,
           -0.7891405093963935,
           -0.879473751206489,
           -0.9458172417006346,
           -0.9863613034027223,
           -1
          ],
          [
           1,
           0.9863613034027223,
           0.9458172417006346,
           0.8794737512064891,
           0.7891405093963936,
           0.6772815716257411,
           0.546948158122427,
           0.40169542465296953,
           0.24548548714079924,
           0.0825793454723324,
           -0.08257934547233227,
           -0.24548548714079912,
           -0.40169542465296926,
           -0.5469481581224267,
           -0.6772815716257409,
           -0.7891405093963935,
           -0.879473751206489,
           -0.9458172417006346,
           -0.9863613034027223,
           -1
          ],
          [
           1,
           0.9863613034027223,
           0.9458172417006346,
           0.8794737512064891,
           0.7891405093963936,
           0.6772815716257411,
           0.546948158122427,
           0.40169542465296953,
           0.24548548714079924,
           0.0825793454723324,
           -0.08257934547233227,
           -0.24548548714079912,
           -0.40169542465296926,
           -0.5469481581224267,
           -0.6772815716257409,
           -0.7891405093963935,
           -0.879473751206489,
           -0.9458172417006346,
           -0.9863613034027223,
           -1
          ],
          [
           1,
           0.9863613034027223,
           0.9458172417006346,
           0.8794737512064891,
           0.7891405093963936,
           0.6772815716257411,
           0.546948158122427,
           0.40169542465296953,
           0.24548548714079924,
           0.0825793454723324,
           -0.08257934547233227,
           -0.24548548714079912,
           -0.40169542465296926,
           -0.5469481581224267,
           -0.6772815716257409,
           -0.7891405093963935,
           -0.879473751206489,
           -0.9458172417006346,
           -0.9863613034027223,
           -1
          ],
          [
           1,
           0.9863613034027223,
           0.9458172417006346,
           0.8794737512064891,
           0.7891405093963936,
           0.6772815716257411,
           0.546948158122427,
           0.40169542465296953,
           0.24548548714079924,
           0.0825793454723324,
           -0.08257934547233227,
           -0.24548548714079912,
           -0.40169542465296926,
           -0.5469481581224267,
           -0.6772815716257409,
           -0.7891405093963935,
           -0.879473751206489,
           -0.9458172417006346,
           -0.9863613034027223,
           -1
          ],
          [
           1,
           0.9863613034027223,
           0.9458172417006346,
           0.8794737512064891,
           0.7891405093963936,
           0.6772815716257411,
           0.546948158122427,
           0.40169542465296953,
           0.24548548714079924,
           0.0825793454723324,
           -0.08257934547233227,
           -0.24548548714079912,
           -0.40169542465296926,
           -0.5469481581224267,
           -0.6772815716257409,
           -0.7891405093963935,
           -0.879473751206489,
           -0.9458172417006346,
           -0.9863613034027223,
           -1
          ],
          [
           1,
           0.9863613034027223,
           0.9458172417006346,
           0.8794737512064891,
           0.7891405093963936,
           0.6772815716257411,
           0.546948158122427,
           0.40169542465296953,
           0.24548548714079924,
           0.0825793454723324,
           -0.08257934547233227,
           -0.24548548714079912,
           -0.40169542465296926,
           -0.5469481581224267,
           -0.6772815716257409,
           -0.7891405093963935,
           -0.879473751206489,
           -0.9458172417006346,
           -0.9863613034027223,
           -1
          ],
          [
           1,
           0.9863613034027223,
           0.9458172417006346,
           0.8794737512064891,
           0.7891405093963936,
           0.6772815716257411,
           0.546948158122427,
           0.40169542465296953,
           0.24548548714079924,
           0.0825793454723324,
           -0.08257934547233227,
           -0.24548548714079912,
           -0.40169542465296926,
           -0.5469481581224267,
           -0.6772815716257409,
           -0.7891405093963935,
           -0.879473751206489,
           -0.9458172417006346,
           -0.9863613034027223,
           -1
          ],
          [
           1,
           0.9863613034027223,
           0.9458172417006346,
           0.8794737512064891,
           0.7891405093963936,
           0.6772815716257411,
           0.546948158122427,
           0.40169542465296953,
           0.24548548714079924,
           0.0825793454723324,
           -0.08257934547233227,
           -0.24548548714079912,
           -0.40169542465296926,
           -0.5469481581224267,
           -0.6772815716257409,
           -0.7891405093963935,
           -0.879473751206489,
           -0.9458172417006346,
           -0.9863613034027223,
           -1
          ],
          [
           1,
           0.9863613034027223,
           0.9458172417006346,
           0.8794737512064891,
           0.7891405093963936,
           0.6772815716257411,
           0.546948158122427,
           0.40169542465296953,
           0.24548548714079924,
           0.0825793454723324,
           -0.08257934547233227,
           -0.24548548714079912,
           -0.40169542465296926,
           -0.5469481581224267,
           -0.6772815716257409,
           -0.7891405093963935,
           -0.879473751206489,
           -0.9458172417006346,
           -0.9863613034027223,
           -1
          ],
          [
           1,
           0.9863613034027223,
           0.9458172417006346,
           0.8794737512064891,
           0.7891405093963936,
           0.6772815716257411,
           0.546948158122427,
           0.40169542465296953,
           0.24548548714079924,
           0.0825793454723324,
           -0.08257934547233227,
           -0.24548548714079912,
           -0.40169542465296926,
           -0.5469481581224267,
           -0.6772815716257409,
           -0.7891405093963935,
           -0.879473751206489,
           -0.9458172417006346,
           -0.9863613034027223,
           -1
          ],
          [
           1,
           0.9863613034027223,
           0.9458172417006346,
           0.8794737512064891,
           0.7891405093963936,
           0.6772815716257411,
           0.546948158122427,
           0.40169542465296953,
           0.24548548714079924,
           0.0825793454723324,
           -0.08257934547233227,
           -0.24548548714079912,
           -0.40169542465296926,
           -0.5469481581224267,
           -0.6772815716257409,
           -0.7891405093963935,
           -0.879473751206489,
           -0.9458172417006346,
           -0.9863613034027223,
           -1
          ],
          [
           1,
           0.9863613034027223,
           0.9458172417006346,
           0.8794737512064891,
           0.7891405093963936,
           0.6772815716257411,
           0.546948158122427,
           0.40169542465296953,
           0.24548548714079924,
           0.0825793454723324,
           -0.08257934547233227,
           -0.24548548714079912,
           -0.40169542465296926,
           -0.5469481581224267,
           -0.6772815716257409,
           -0.7891405093963935,
           -0.879473751206489,
           -0.9458172417006346,
           -0.9863613034027223,
           -1
          ],
          [
           1,
           0.9863613034027223,
           0.9458172417006346,
           0.8794737512064891,
           0.7891405093963936,
           0.6772815716257411,
           0.546948158122427,
           0.40169542465296953,
           0.24548548714079924,
           0.0825793454723324,
           -0.08257934547233227,
           -0.24548548714079912,
           -0.40169542465296926,
           -0.5469481581224267,
           -0.6772815716257409,
           -0.7891405093963935,
           -0.879473751206489,
           -0.9458172417006346,
           -0.9863613034027223,
           -1
          ],
          [
           1,
           0.9863613034027223,
           0.9458172417006346,
           0.8794737512064891,
           0.7891405093963936,
           0.6772815716257411,
           0.546948158122427,
           0.40169542465296953,
           0.24548548714079924,
           0.0825793454723324,
           -0.08257934547233227,
           -0.24548548714079912,
           -0.40169542465296926,
           -0.5469481581224267,
           -0.6772815716257409,
           -0.7891405093963935,
           -0.879473751206489,
           -0.9458172417006346,
           -0.9863613034027223,
           -1
          ],
          [
           1,
           0.9863613034027223,
           0.9458172417006346,
           0.8794737512064891,
           0.7891405093963936,
           0.6772815716257411,
           0.546948158122427,
           0.40169542465296953,
           0.24548548714079924,
           0.0825793454723324,
           -0.08257934547233227,
           -0.24548548714079912,
           -0.40169542465296926,
           -0.5469481581224267,
           -0.6772815716257409,
           -0.7891405093963935,
           -0.879473751206489,
           -0.9458172417006346,
           -0.9863613034027223,
           -1
          ],
          [
           1,
           0.9863613034027223,
           0.9458172417006346,
           0.8794737512064891,
           0.7891405093963936,
           0.6772815716257411,
           0.546948158122427,
           0.40169542465296953,
           0.24548548714079924,
           0.0825793454723324,
           -0.08257934547233227,
           -0.24548548714079912,
           -0.40169542465296926,
           -0.5469481581224267,
           -0.6772815716257409,
           -0.7891405093963935,
           -0.879473751206489,
           -0.9458172417006346,
           -0.9863613034027223,
           -1
          ],
          [
           1,
           0.9863613034027223,
           0.9458172417006346,
           0.8794737512064891,
           0.7891405093963936,
           0.6772815716257411,
           0.546948158122427,
           0.40169542465296953,
           0.24548548714079924,
           0.0825793454723324,
           -0.08257934547233227,
           -0.24548548714079912,
           -0.40169542465296926,
           -0.5469481581224267,
           -0.6772815716257409,
           -0.7891405093963935,
           -0.879473751206489,
           -0.9458172417006346,
           -0.9863613034027223,
           -1
          ],
          [
           1,
           0.9863613034027223,
           0.9458172417006346,
           0.8794737512064891,
           0.7891405093963936,
           0.6772815716257411,
           0.546948158122427,
           0.40169542465296953,
           0.24548548714079924,
           0.0825793454723324,
           -0.08257934547233227,
           -0.24548548714079912,
           -0.40169542465296926,
           -0.5469481581224267,
           -0.6772815716257409,
           -0.7891405093963935,
           -0.879473751206489,
           -0.9458172417006346,
           -0.9863613034027223,
           -1
          ],
          [
           1,
           0.9863613034027223,
           0.9458172417006346,
           0.8794737512064891,
           0.7891405093963936,
           0.6772815716257411,
           0.546948158122427,
           0.40169542465296953,
           0.24548548714079924,
           0.0825793454723324,
           -0.08257934547233227,
           -0.24548548714079912,
           -0.40169542465296926,
           -0.5469481581224267,
           -0.6772815716257409,
           -0.7891405093963935,
           -0.879473751206489,
           -0.9458172417006346,
           -0.9863613034027223,
           -1
          ],
          [
           1,
           0.9863613034027223,
           0.9458172417006346,
           0.8794737512064891,
           0.7891405093963936,
           0.6772815716257411,
           0.546948158122427,
           0.40169542465296953,
           0.24548548714079924,
           0.0825793454723324,
           -0.08257934547233227,
           -0.24548548714079912,
           -0.40169542465296926,
           -0.5469481581224267,
           -0.6772815716257409,
           -0.7891405093963935,
           -0.879473751206489,
           -0.9458172417006346,
           -0.9863613034027223,
           -1
          ],
          [
           1,
           0.9863613034027223,
           0.9458172417006346,
           0.8794737512064891,
           0.7891405093963936,
           0.6772815716257411,
           0.546948158122427,
           0.40169542465296953,
           0.24548548714079924,
           0.0825793454723324,
           -0.08257934547233227,
           -0.24548548714079912,
           -0.40169542465296926,
           -0.5469481581224267,
           -0.6772815716257409,
           -0.7891405093963935,
           -0.879473751206489,
           -0.9458172417006346,
           -0.9863613034027223,
           -1
          ],
          [
           1,
           0.9863613034027223,
           0.9458172417006346,
           0.8794737512064891,
           0.7891405093963936,
           0.6772815716257411,
           0.546948158122427,
           0.40169542465296953,
           0.24548548714079924,
           0.0825793454723324,
           -0.08257934547233227,
           -0.24548548714079912,
           -0.40169542465296926,
           -0.5469481581224267,
           -0.6772815716257409,
           -0.7891405093963935,
           -0.879473751206489,
           -0.9458172417006346,
           -0.9863613034027223,
           -1
          ],
          [
           1,
           0.9863613034027223,
           0.9458172417006346,
           0.8794737512064891,
           0.7891405093963936,
           0.6772815716257411,
           0.546948158122427,
           0.40169542465296953,
           0.24548548714079924,
           0.0825793454723324,
           -0.08257934547233227,
           -0.24548548714079912,
           -0.40169542465296926,
           -0.5469481581224267,
           -0.6772815716257409,
           -0.7891405093963935,
           -0.879473751206489,
           -0.9458172417006346,
           -0.9863613034027223,
           -1
          ],
          [
           1,
           0.9863613034027223,
           0.9458172417006346,
           0.8794737512064891,
           0.7891405093963936,
           0.6772815716257411,
           0.546948158122427,
           0.40169542465296953,
           0.24548548714079924,
           0.0825793454723324,
           -0.08257934547233227,
           -0.24548548714079912,
           -0.40169542465296926,
           -0.5469481581224267,
           -0.6772815716257409,
           -0.7891405093963935,
           -0.879473751206489,
           -0.9458172417006346,
           -0.9863613034027223,
           -1
          ],
          [
           1,
           0.9863613034027223,
           0.9458172417006346,
           0.8794737512064891,
           0.7891405093963936,
           0.6772815716257411,
           0.546948158122427,
           0.40169542465296953,
           0.24548548714079924,
           0.0825793454723324,
           -0.08257934547233227,
           -0.24548548714079912,
           -0.40169542465296926,
           -0.5469481581224267,
           -0.6772815716257409,
           -0.7891405093963935,
           -0.879473751206489,
           -0.9458172417006346,
           -0.9863613034027223,
           -1
          ],
          [
           1,
           0.9863613034027223,
           0.9458172417006346,
           0.8794737512064891,
           0.7891405093963936,
           0.6772815716257411,
           0.546948158122427,
           0.40169542465296953,
           0.24548548714079924,
           0.0825793454723324,
           -0.08257934547233227,
           -0.24548548714079912,
           -0.40169542465296926,
           -0.5469481581224267,
           -0.6772815716257409,
           -0.7891405093963935,
           -0.879473751206489,
           -0.9458172417006346,
           -0.9863613034027223,
           -1
          ]
         ]
        },
        {
         "marker": {
          "color": "red",
          "size": 5
         },
         "mode": "markers",
         "name": "qubit",
         "type": "scatter3d",
         "x": [
          0
         ],
         "y": [
          0
         ],
         "z": [
          -1.0000000000000004
         ]
        },
        {
         "line": {
          "color": "red",
          "width": 3
         },
         "mode": "lines",
         "name": "qubit line",
         "opacity": 0.5,
         "type": "scatter3d",
         "x": [
          0,
          0
         ],
         "y": [
          0,
          0
         ],
         "z": [
          0,
          -1.0000000000000004
         ]
        },
        {
         "line": {
          "color": "gray",
          "width": 3
         },
         "mode": "lines",
         "name": "Equator",
         "opacity": 0.1,
         "type": "scatter3d",
         "x": [
          1,
          0.9979866764718844,
          0.9919548128307953,
          0.9819286972627067,
          0.9679487013963562,
          0.9500711177409454,
          0.9283679330160726,
          0.9029265382866212,
          0.8738493770697849,
          0.8412535328311812,
          0.8052702575310586,
          0.766044443118978,
          0.7237340381050701,
          0.6785094115571322,
          0.6305526670845225,
          0.5800569095711982,
          0.5272254676105024,
          0.4722710747726827,
          0.41541501300188644,
          0.3568862215918719,
          0.2969203753282749,
          0.23575893550942728,
          0.17364817766693041,
          0.1108381999010111,
          0.04758191582374218,
          -0.01586596383480803,
          -0.07924995685678854,
          -0.14231483827328523,
          -0.20480666806519074,
          -0.26647381369003503,
          -0.32706796331742166,
          -0.3863451256931287,
          -0.4440666126057741,
          -0.5000000000000002,
          -0.5539200638661103,
          -0.6056096871376668,
          -0.654860733945285,
          -0.7014748877063214,
          -0.7452644496757547,
          -0.7860530947427875,
          -0.8236765814298327,
          -0.8579834132349771,
          -0.8888354486549234,
          -0.9161084574320696,
          -0.9396926207859083,
          -0.9594929736144974,
          -0.975429786885407,
          -0.9874388886763943,
          -0.9954719225730846,
          -0.9994965423831851,
          -0.9994965423831851,
          -0.9954719225730846,
          -0.9874388886763943,
          -0.975429786885407,
          -0.9594929736144974,
          -0.9396926207859084,
          -0.9161084574320696,
          -0.8888354486549235,
          -0.857983413234977,
          -0.8236765814298328,
          -0.7860530947427874,
          -0.7452644496757548,
          -0.7014748877063213,
          -0.6548607339452852,
          -0.6056096871376666,
          -0.5539200638661105,
          -0.4999999999999996,
          -0.44406661260577396,
          -0.3863451256931287,
          -0.3270679633174219,
          -0.26647381369003464,
          -0.20480666806519054,
          -0.14231483827328523,
          -0.07924995685678879,
          -0.01586596383480761,
          0.04758191582374238,
          0.11083819990101086,
          0.17364817766692997,
          0.23575893550942748,
          0.2969203753282749,
          0.35688622159187167,
          0.4154150130018868,
          0.4722710747726829,
          0.5272254676105024,
          0.5800569095711979,
          0.6305526670845228,
          0.6785094115571323,
          0.7237340381050701,
          0.7660444431189778,
          0.8052702575310587,
          0.8412535328311812,
          0.8738493770697849,
          0.9029265382866211,
          0.9283679330160727,
          0.9500711177409454,
          0.9679487013963562,
          0.9819286972627068,
          0.9919548128307953,
          0.9979866764718844,
          1
         ],
         "y": [
          0,
          0.0634239196565645,
          0.12659245357374926,
          0.18925124436041021,
          0.2511479871810792,
          0.3120334456984871,
          0.3716624556603276,
          0.42979491208917164,
          0.4861967361004687,
          0.5406408174555976,
          0.5929079290546404,
          0.6427876096865393,
          0.690079011482112,
          0.7345917086575333,
          0.7761464642917568,
          0.8145759520503357,
          0.8497254299495144,
          0.8814533634475821,
          0.9096319953545183,
          0.9341478602651067,
          0.9549022414440739,
          0.9718115683235417,
          0.984807753012208,
          0.9938384644612541,
          0.998867339183008,
          0.9998741276738751,
          0.9968547759519424,
          0.9898214418809327,
          0.9788024462147787,
          0.963842158559942,
          0.9450008187146685,
          0.9223542941045814,
          0.8959937742913359,
          0.8660254037844385,
          0.8325698546347714,
          0.795761840530832,
          0.7557495743542583,
          0.7126941713788627,
          0.6667690005162917,
          0.6181589862206051,
          0.5670598638627709,
          0.5136773915734063,
          0.4582265217274105,
          0.4009305354066136,
          0.3420201433256689,
          0.28173255684142967,
          0.2203105327865408,
          0.1580013959733499,
          0.09505604330418244,
          0.031727933498067656,
          -0.03172793349806786,
          -0.09505604330418263,
          -0.15800139597335008,
          -0.22031053278654056,
          -0.28173255684142984,
          -0.34202014332566866,
          -0.4009305354066138,
          -0.4582265217274103,
          -0.5136773915734064,
          -0.5670598638627706,
          -0.6181589862206053,
          -0.6667690005162915,
          -0.7126941713788629,
          -0.7557495743542582,
          -0.7957618405308321,
          -0.8325698546347713,
          -0.8660254037844388,
          -0.895993774291336,
          -0.9223542941045814,
          -0.9450008187146683,
          -0.9638421585599422,
          -0.9788024462147787,
          -0.9898214418809327,
          -0.9968547759519423,
          -0.9998741276738751,
          -0.998867339183008,
          -0.9938384644612541,
          -0.9848077530122081,
          -0.9718115683235417,
          -0.9549022414440739,
          -0.9341478602651068,
          -0.9096319953545182,
          -0.881453363447582,
          -0.8497254299495144,
          -0.8145759520503358,
          -0.7761464642917566,
          -0.7345917086575332,
          -0.690079011482112,
          -0.6427876096865396,
          -0.5929079290546402,
          -0.5406408174555974,
          -0.4861967361004688,
          -0.4297949120891719,
          -0.37166245566032724,
          -0.31203344569848707,
          -0.2511479871810794,
          -0.18925124436040974,
          -0.12659245357374904,
          -0.06342391965656452,
          -2.4492935982947064e-16
         ],
         "z": [
          0,
          0,
          0,
          0,
          0,
          0,
          0,
          0,
          0,
          0,
          0,
          0,
          0,
          0,
          0,
          0,
          0,
          0,
          0,
          0,
          0,
          0,
          0,
          0,
          0,
          0,
          0,
          0,
          0,
          0,
          0,
          0,
          0,
          0,
          0,
          0,
          0,
          0,
          0,
          0,
          0,
          0,
          0,
          0,
          0,
          0,
          0,
          0,
          0,
          0,
          0,
          0,
          0,
          0,
          0,
          0,
          0,
          0,
          0,
          0,
          0,
          0,
          0,
          0,
          0,
          0,
          0,
          0,
          0,
          0,
          0,
          0,
          0,
          0,
          0,
          0,
          0,
          0,
          0,
          0,
          0,
          0,
          0,
          0,
          0,
          0,
          0,
          0,
          0,
          0,
          0,
          0,
          0,
          0,
          0,
          0,
          0,
          0,
          0,
          0
         ]
        },
        {
         "line": {
          "color": "gray",
          "width": 3
         },
         "mode": "lines",
         "name": "x line",
         "opacity": 0.1,
         "type": "scatter3d",
         "x": [
          1,
          -1
         ],
         "y": [
          0,
          0
         ],
         "z": [
          0,
          0
         ]
        },
        {
         "line": {
          "color": "gray",
          "width": 3
         },
         "mode": "lines",
         "name": "y line",
         "opacity": 0.1,
         "type": "scatter3d",
         "x": [
          0,
          0
         ],
         "y": [
          1,
          -1
         ],
         "z": [
          0,
          0
         ]
        },
        {
         "line": {
          "color": "gray",
          "width": 3
         },
         "mode": "lines",
         "name": "z line",
         "opacity": 0.1,
         "type": "scatter3d",
         "x": [
          0,
          0
         ],
         "y": [
          0,
          0
         ],
         "z": [
          1,
          -1
         ]
        },
        {
         "mode": "text",
         "name": "|0⟩",
         "text": [
          "|0⟩"
         ],
         "textposition": "middle center",
         "type": "scatter3d",
         "x": [
          0
         ],
         "y": [
          0
         ],
         "z": [
          1
         ]
        },
        {
         "mode": "text",
         "name": "|1⟩",
         "text": [
          "|1⟩"
         ],
         "textposition": "middle center",
         "type": "scatter3d",
         "x": [
          0
         ],
         "y": [
          0
         ],
         "z": [
          -1
         ]
        },
        {
         "mode": "text",
         "name": "|+⟩",
         "text": [
          "|+⟩"
         ],
         "textposition": "middle center",
         "type": "scatter3d",
         "x": [
          1
         ],
         "y": [
          0
         ],
         "z": [
          0
         ]
        },
        {
         "mode": "text",
         "name": "|‒⟩",
         "text": [
          "|‒⟩"
         ],
         "textposition": "middle center",
         "type": "scatter3d",
         "x": [
          -1
         ],
         "y": [
          0
         ],
         "z": [
          0
         ]
        },
        {
         "mode": "text",
         "name": "|i+⟩",
         "text": [
          "|i+⟩"
         ],
         "textposition": "middle center",
         "type": "scatter3d",
         "x": [
          0
         ],
         "y": [
          1
         ],
         "z": [
          0
         ]
        },
        {
         "mode": "text",
         "name": "|i‒⟩",
         "text": [
          "|i‒⟩"
         ],
         "textposition": "middle center",
         "type": "scatter3d",
         "x": [
          0
         ],
         "y": [
          -1
         ],
         "z": [
          0
         ]
        }
       ],
       "layout": {
        "scene": {
         "aspectmode": "cube",
         "xaxis": {
          "range": [
           -1,
           1
          ],
          "showbackground": false,
          "showgrid": false,
          "visible": false
         },
         "yaxis": {
          "range": [
           -1,
           1
          ],
          "showbackground": false,
          "showgrid": false,
          "visible": false
         },
         "zaxis": {
          "range": [
           -1,
           1
          ],
          "showbackground": false,
          "showgrid": false,
          "visible": false
         }
        },
        "showlegend": false,
        "template": {
         "data": {
          "bar": [
           {
            "error_x": {
             "color": "#2a3f5f"
            },
            "error_y": {
             "color": "#2a3f5f"
            },
            "marker": {
             "line": {
              "color": "#E5ECF6",
              "width": 0.5
             },
             "pattern": {
              "fillmode": "overlay",
              "size": 10,
              "solidity": 0.2
             }
            },
            "type": "bar"
           }
          ],
          "barpolar": [
           {
            "marker": {
             "line": {
              "color": "#E5ECF6",
              "width": 0.5
             },
             "pattern": {
              "fillmode": "overlay",
              "size": 10,
              "solidity": 0.2
             }
            },
            "type": "barpolar"
           }
          ],
          "carpet": [
           {
            "aaxis": {
             "endlinecolor": "#2a3f5f",
             "gridcolor": "white",
             "linecolor": "white",
             "minorgridcolor": "white",
             "startlinecolor": "#2a3f5f"
            },
            "baxis": {
             "endlinecolor": "#2a3f5f",
             "gridcolor": "white",
             "linecolor": "white",
             "minorgridcolor": "white",
             "startlinecolor": "#2a3f5f"
            },
            "type": "carpet"
           }
          ],
          "choropleth": [
           {
            "colorbar": {
             "outlinewidth": 0,
             "ticks": ""
            },
            "type": "choropleth"
           }
          ],
          "contour": [
           {
            "colorbar": {
             "outlinewidth": 0,
             "ticks": ""
            },
            "colorscale": [
             [
              0,
              "#0d0887"
             ],
             [
              0.1111111111111111,
              "#46039f"
             ],
             [
              0.2222222222222222,
              "#7201a8"
             ],
             [
              0.3333333333333333,
              "#9c179e"
             ],
             [
              0.4444444444444444,
              "#bd3786"
             ],
             [
              0.5555555555555556,
              "#d8576b"
             ],
             [
              0.6666666666666666,
              "#ed7953"
             ],
             [
              0.7777777777777778,
              "#fb9f3a"
             ],
             [
              0.8888888888888888,
              "#fdca26"
             ],
             [
              1,
              "#f0f921"
             ]
            ],
            "type": "contour"
           }
          ],
          "contourcarpet": [
           {
            "colorbar": {
             "outlinewidth": 0,
             "ticks": ""
            },
            "type": "contourcarpet"
           }
          ],
          "heatmap": [
           {
            "colorbar": {
             "outlinewidth": 0,
             "ticks": ""
            },
            "colorscale": [
             [
              0,
              "#0d0887"
             ],
             [
              0.1111111111111111,
              "#46039f"
             ],
             [
              0.2222222222222222,
              "#7201a8"
             ],
             [
              0.3333333333333333,
              "#9c179e"
             ],
             [
              0.4444444444444444,
              "#bd3786"
             ],
             [
              0.5555555555555556,
              "#d8576b"
             ],
             [
              0.6666666666666666,
              "#ed7953"
             ],
             [
              0.7777777777777778,
              "#fb9f3a"
             ],
             [
              0.8888888888888888,
              "#fdca26"
             ],
             [
              1,
              "#f0f921"
             ]
            ],
            "type": "heatmap"
           }
          ],
          "heatmapgl": [
           {
            "colorbar": {
             "outlinewidth": 0,
             "ticks": ""
            },
            "colorscale": [
             [
              0,
              "#0d0887"
             ],
             [
              0.1111111111111111,
              "#46039f"
             ],
             [
              0.2222222222222222,
              "#7201a8"
             ],
             [
              0.3333333333333333,
              "#9c179e"
             ],
             [
              0.4444444444444444,
              "#bd3786"
             ],
             [
              0.5555555555555556,
              "#d8576b"
             ],
             [
              0.6666666666666666,
              "#ed7953"
             ],
             [
              0.7777777777777778,
              "#fb9f3a"
             ],
             [
              0.8888888888888888,
              "#fdca26"
             ],
             [
              1,
              "#f0f921"
             ]
            ],
            "type": "heatmapgl"
           }
          ],
          "histogram": [
           {
            "marker": {
             "pattern": {
              "fillmode": "overlay",
              "size": 10,
              "solidity": 0.2
             }
            },
            "type": "histogram"
           }
          ],
          "histogram2d": [
           {
            "colorbar": {
             "outlinewidth": 0,
             "ticks": ""
            },
            "colorscale": [
             [
              0,
              "#0d0887"
             ],
             [
              0.1111111111111111,
              "#46039f"
             ],
             [
              0.2222222222222222,
              "#7201a8"
             ],
             [
              0.3333333333333333,
              "#9c179e"
             ],
             [
              0.4444444444444444,
              "#bd3786"
             ],
             [
              0.5555555555555556,
              "#d8576b"
             ],
             [
              0.6666666666666666,
              "#ed7953"
             ],
             [
              0.7777777777777778,
              "#fb9f3a"
             ],
             [
              0.8888888888888888,
              "#fdca26"
             ],
             [
              1,
              "#f0f921"
             ]
            ],
            "type": "histogram2d"
           }
          ],
          "histogram2dcontour": [
           {
            "colorbar": {
             "outlinewidth": 0,
             "ticks": ""
            },
            "colorscale": [
             [
              0,
              "#0d0887"
             ],
             [
              0.1111111111111111,
              "#46039f"
             ],
             [
              0.2222222222222222,
              "#7201a8"
             ],
             [
              0.3333333333333333,
              "#9c179e"
             ],
             [
              0.4444444444444444,
              "#bd3786"
             ],
             [
              0.5555555555555556,
              "#d8576b"
             ],
             [
              0.6666666666666666,
              "#ed7953"
             ],
             [
              0.7777777777777778,
              "#fb9f3a"
             ],
             [
              0.8888888888888888,
              "#fdca26"
             ],
             [
              1,
              "#f0f921"
             ]
            ],
            "type": "histogram2dcontour"
           }
          ],
          "mesh3d": [
           {
            "colorbar": {
             "outlinewidth": 0,
             "ticks": ""
            },
            "type": "mesh3d"
           }
          ],
          "parcoords": [
           {
            "line": {
             "colorbar": {
              "outlinewidth": 0,
              "ticks": ""
             }
            },
            "type": "parcoords"
           }
          ],
          "pie": [
           {
            "automargin": true,
            "type": "pie"
           }
          ],
          "scatter": [
           {
            "fillpattern": {
             "fillmode": "overlay",
             "size": 10,
             "solidity": 0.2
            },
            "type": "scatter"
           }
          ],
          "scatter3d": [
           {
            "line": {
             "colorbar": {
              "outlinewidth": 0,
              "ticks": ""
             }
            },
            "marker": {
             "colorbar": {
              "outlinewidth": 0,
              "ticks": ""
             }
            },
            "type": "scatter3d"
           }
          ],
          "scattercarpet": [
           {
            "marker": {
             "colorbar": {
              "outlinewidth": 0,
              "ticks": ""
             }
            },
            "type": "scattercarpet"
           }
          ],
          "scattergeo": [
           {
            "marker": {
             "colorbar": {
              "outlinewidth": 0,
              "ticks": ""
             }
            },
            "type": "scattergeo"
           }
          ],
          "scattergl": [
           {
            "marker": {
             "colorbar": {
              "outlinewidth": 0,
              "ticks": ""
             }
            },
            "type": "scattergl"
           }
          ],
          "scattermapbox": [
           {
            "marker": {
             "colorbar": {
              "outlinewidth": 0,
              "ticks": ""
             }
            },
            "type": "scattermapbox"
           }
          ],
          "scatterpolar": [
           {
            "marker": {
             "colorbar": {
              "outlinewidth": 0,
              "ticks": ""
             }
            },
            "type": "scatterpolar"
           }
          ],
          "scatterpolargl": [
           {
            "marker": {
             "colorbar": {
              "outlinewidth": 0,
              "ticks": ""
             }
            },
            "type": "scatterpolargl"
           }
          ],
          "scatterternary": [
           {
            "marker": {
             "colorbar": {
              "outlinewidth": 0,
              "ticks": ""
             }
            },
            "type": "scatterternary"
           }
          ],
          "surface": [
           {
            "colorbar": {
             "outlinewidth": 0,
             "ticks": ""
            },
            "colorscale": [
             [
              0,
              "#0d0887"
             ],
             [
              0.1111111111111111,
              "#46039f"
             ],
             [
              0.2222222222222222,
              "#7201a8"
             ],
             [
              0.3333333333333333,
              "#9c179e"
             ],
             [
              0.4444444444444444,
              "#bd3786"
             ],
             [
              0.5555555555555556,
              "#d8576b"
             ],
             [
              0.6666666666666666,
              "#ed7953"
             ],
             [
              0.7777777777777778,
              "#fb9f3a"
             ],
             [
              0.8888888888888888,
              "#fdca26"
             ],
             [
              1,
              "#f0f921"
             ]
            ],
            "type": "surface"
           }
          ],
          "table": [
           {
            "cells": {
             "fill": {
              "color": "#EBF0F8"
             },
             "line": {
              "color": "white"
             }
            },
            "header": {
             "fill": {
              "color": "#C8D4E3"
             },
             "line": {
              "color": "white"
             }
            },
            "type": "table"
           }
          ]
         },
         "layout": {
          "annotationdefaults": {
           "arrowcolor": "#2a3f5f",
           "arrowhead": 0,
           "arrowwidth": 1
          },
          "autotypenumbers": "strict",
          "coloraxis": {
           "colorbar": {
            "outlinewidth": 0,
            "ticks": ""
           }
          },
          "colorscale": {
           "diverging": [
            [
             0,
             "#8e0152"
            ],
            [
             0.1,
             "#c51b7d"
            ],
            [
             0.2,
             "#de77ae"
            ],
            [
             0.3,
             "#f1b6da"
            ],
            [
             0.4,
             "#fde0ef"
            ],
            [
             0.5,
             "#f7f7f7"
            ],
            [
             0.6,
             "#e6f5d0"
            ],
            [
             0.7,
             "#b8e186"
            ],
            [
             0.8,
             "#7fbc41"
            ],
            [
             0.9,
             "#4d9221"
            ],
            [
             1,
             "#276419"
            ]
           ],
           "sequential": [
            [
             0,
             "#0d0887"
            ],
            [
             0.1111111111111111,
             "#46039f"
            ],
            [
             0.2222222222222222,
             "#7201a8"
            ],
            [
             0.3333333333333333,
             "#9c179e"
            ],
            [
             0.4444444444444444,
             "#bd3786"
            ],
            [
             0.5555555555555556,
             "#d8576b"
            ],
            [
             0.6666666666666666,
             "#ed7953"
            ],
            [
             0.7777777777777778,
             "#fb9f3a"
            ],
            [
             0.8888888888888888,
             "#fdca26"
            ],
            [
             1,
             "#f0f921"
            ]
           ],
           "sequentialminus": [
            [
             0,
             "#0d0887"
            ],
            [
             0.1111111111111111,
             "#46039f"
            ],
            [
             0.2222222222222222,
             "#7201a8"
            ],
            [
             0.3333333333333333,
             "#9c179e"
            ],
            [
             0.4444444444444444,
             "#bd3786"
            ],
            [
             0.5555555555555556,
             "#d8576b"
            ],
            [
             0.6666666666666666,
             "#ed7953"
            ],
            [
             0.7777777777777778,
             "#fb9f3a"
            ],
            [
             0.8888888888888888,
             "#fdca26"
            ],
            [
             1,
             "#f0f921"
            ]
           ]
          },
          "colorway": [
           "#636efa",
           "#EF553B",
           "#00cc96",
           "#ab63fa",
           "#FFA15A",
           "#19d3f3",
           "#FF6692",
           "#B6E880",
           "#FF97FF",
           "#FECB52"
          ],
          "font": {
           "color": "#2a3f5f"
          },
          "geo": {
           "bgcolor": "white",
           "lakecolor": "white",
           "landcolor": "#E5ECF6",
           "showlakes": true,
           "showland": true,
           "subunitcolor": "white"
          },
          "hoverlabel": {
           "align": "left"
          },
          "hovermode": "closest",
          "mapbox": {
           "style": "light"
          },
          "paper_bgcolor": "white",
          "plot_bgcolor": "#E5ECF6",
          "polar": {
           "angularaxis": {
            "gridcolor": "white",
            "linecolor": "white",
            "ticks": ""
           },
           "bgcolor": "#E5ECF6",
           "radialaxis": {
            "gridcolor": "white",
            "linecolor": "white",
            "ticks": ""
           }
          },
          "scene": {
           "xaxis": {
            "backgroundcolor": "#E5ECF6",
            "gridcolor": "white",
            "gridwidth": 2,
            "linecolor": "white",
            "showbackground": true,
            "ticks": "",
            "zerolinecolor": "white"
           },
           "yaxis": {
            "backgroundcolor": "#E5ECF6",
            "gridcolor": "white",
            "gridwidth": 2,
            "linecolor": "white",
            "showbackground": true,
            "ticks": "",
            "zerolinecolor": "white"
           },
           "zaxis": {
            "backgroundcolor": "#E5ECF6",
            "gridcolor": "white",
            "gridwidth": 2,
            "linecolor": "white",
            "showbackground": true,
            "ticks": "",
            "zerolinecolor": "white"
           }
          },
          "shapedefaults": {
           "line": {
            "color": "#2a3f5f"
           }
          },
          "ternary": {
           "aaxis": {
            "gridcolor": "white",
            "linecolor": "white",
            "ticks": ""
           },
           "baxis": {
            "gridcolor": "white",
            "linecolor": "white",
            "ticks": ""
           },
           "bgcolor": "#E5ECF6",
           "caxis": {
            "gridcolor": "white",
            "linecolor": "white",
            "ticks": ""
           }
          },
          "title": {
           "x": 0.05
          },
          "xaxis": {
           "automargin": true,
           "gridcolor": "white",
           "linecolor": "white",
           "ticks": "",
           "title": {
            "standoff": 15
           },
           "zerolinecolor": "white",
           "zerolinewidth": 2
          },
          "yaxis": {
           "automargin": true,
           "gridcolor": "white",
           "linecolor": "white",
           "ticks": "",
           "title": {
            "standoff": 15
           },
           "zerolinecolor": "white",
           "zerolinewidth": 2
          }
         }
        }
       }
      }
     },
     "metadata": {},
     "output_type": "display_data"
    }
   ],
   "source": [
    "# Instanciando um novo do processo quântico\n",
    "processo = Process()\n",
    "\n",
    "# Alocação de um qubit\n",
    "qubits = processo.alloc()\n",
    "\n",
    "porta_X = cat(H, Z, H)  # Concatena portas\n",
    "\n",
    "porta_X(qubits)\n",
    "\n",
    "bloch_sphere(qubits)  # Mostra o Bloch Sphere"
   ]
  },
  {
   "cell_type": "markdown",
   "metadata": {},
   "source": [
    "Para concatenar portas parametrizadas usando a função {func}`~ket.operations.cat`, basta fornecer o argumento clássico da função. Quando apenas o argumento clássico é passado, uma nova porta é criada com esse argumento já aplicado. Isso simplifica o processo de criação de portas com parâmetros pré-definidos, facilitando a sua utilização em diversas partes do código."
   ]
  },
  {
   "cell_type": "code",
   "execution_count": 9,
   "metadata": {},
   "outputs": [
    {
     "data": {
      "application/vnd.plotly.v1+json": {
       "config": {
        "plotlyServerURL": "https://plot.ly"
       },
       "data": [
        {
         "name": "Bloch Sphere",
         "opacity": 0.02,
         "showscale": false,
         "type": "surface",
         "x": [
          [
           0,
           0.1645945902807339,
           0.32469946920468346,
           0.4759473930370735,
           0.6142127126896678,
           0.7357239106731316,
           0.8371664782625285,
           0.9157733266550574,
           0.9694002659393304,
           0.9965844930066698,
           0.9965844930066698,
           0.9694002659393304,
           0.9157733266550575,
           0.8371664782625287,
           0.7357239106731318,
           0.6142127126896679,
           0.4759473930370737,
           0.3246994692046836,
           0.16459459028073403,
           1.2246467991473532e-16
          ],
          [
           0,
           0.16246313356537806,
           0.3204946963568737,
           0.46978399929907333,
           0.6062588193758816,
           0.7261964792589068,
           0.8263253922406854,
           0.9039143025916696,
           0.9568467870966786,
           0.9836789855631047,
           0.9836789855631047,
           0.9568467870966786,
           0.9039143025916697,
           0.8263253922406855,
           0.7261964792589071,
           0.6062588193758817,
           0.4697839992990735,
           0.3204946963568739,
           0.16246313356537817,
           1.2087879447370743e-16
          ],
          [
           0,
           0.15612396702863554,
           0.3079892792215372,
           0.45145344674540533,
           0.5826031410933619,
           0.6978609404853318,
           0.7940829126085611,
           0.8686443728954891,
           0.919511479076709,
           0.9452967090962465,
           0.9452967090962465,
           0.919511479076709,
           0.8686443728954892,
           0.7940829126085612,
           0.697860940485332,
           0.582603141093362,
           0.45145344674540544,
           0.30798927922153735,
           0.15612396702863568,
           1.161622117505191e-16
          ],
          [
           0,
           0.1457412717539971,
           0.28750710153368586,
           0.42143048705861336,
           0.5438583474838702,
           0.6514511699226683,
           0.7412741026524329,
           0.8108770102192059,
           0.8583613067458042,
           0.882431744405305,
           0.882431744405305,
           0.8583613067458042,
           0.810877010219206,
           0.741274102652433,
           0.6514511699226685,
           0.5438583474838703,
           0.42143048705861347,
           0.28750710153368597,
           0.1457412717539972,
           1.0843708876019402e-16
          ],
          [
           0,
           0.13158395409529697,
           0.2595786409366422,
           0.3804926991242503,
           0.4910279083501888,
           0.588169156250559,
           0.6692666828109729,
           0.7321083589123363,
           0.7749800274466272,
           0.7967122610543294,
           0.7967122610543294,
           0.7749800274466272,
           0.7321083589123364,
           0.669266682810973,
           0.5881691562505591,
           0.49102790835018884,
           0.3804926991242505,
           0.2595786409366423,
           0.13158395409529708,
           9.790350213036125e-17
          ],
          [
           0,
           0.11401868114339879,
           0.22492722988972447,
           0.329700350146186,
           0.4254801043153275,
           0.5096538703825993,
           0.5799256074343183,
           0.6343784856684599,
           0.6715271725148565,
           0.6903583486357373,
           0.6903583486357373,
           0.6715271725148565,
           0.63437848566846,
           0.5799256074343183,
           0.5096538703825996,
           0.42548010431532757,
           0.3297003501461861,
           0.22492722988972458,
           0.11401868114339889,
           8.483426622169505e-17
          ],
          [
           0,
           0.09350038424114347,
           0.18445032173749926,
           0.2703689352829591,
           0.3489125890731124,
           0.4179388169805881,
           0.475564763446017,
           0.5202185428694533,
           0.5506821165519409,
           0.5661245176160313,
           0.5661245176160313,
           0.5506821165519409,
           0.5202185428694533,
           0.4755647634460171,
           0.4179388169805882,
           0.34891258907311246,
           0.2703689352829592,
           0.18445032173749937,
           0.09350038424114356,
           6.95678673792762e-17
          ],
          [
           0,
           0.07056047650053407,
           0.13919624713956788,
           0.20403510701416921,
           0.26330842104925195,
           0.31539936775193667,
           0.35888704188713766,
           0.3925852130683524,
           0.41557468303033346,
           0.4272283589615935,
           0.4272283589615935,
           0.41557468303033346,
           0.3925852130683525,
           0.3588870418871377,
           0.3153993677519367,
           0.26330842104925195,
           0.2040351070141693,
           0.13919624713956794,
           0.07056047650053413,
           5.2499697314053056e-17
          ],
          [
           0,
           0.045793089482273404,
           0.09033706285714538,
           0.13241687664842175,
           0.1708847032297642,
           0.2046912405701735,
           0.23291433445806886,
           0.2547841324643033,
           0.26970408350957537,
           0.2772672102227795,
           0.2772672102227795,
           0.26970408350957537,
           0.25478413246430337,
           0.2329143344580689,
           0.20469124057017354,
           0.17088470322976423,
           0.1324168766484218,
           0.09033706285714542,
           0.045793089482273446,
           3.407181266521781e-17
          ],
          [
           0,
           0.019839685500424753,
           0.0391381960985981,
           0.057369118732864384,
           0.0740351613582292,
           0.08868171777700325,
           0.1009092681108054,
           0.11038427666137432,
           0.11684828989495437,
           0.12012498638095837,
           0.12012498638095837,
           0.11684828989495437,
           0.11038427666137433,
           0.10090926811080542,
           0.08868171777700327,
           0.07403516135822921,
           0.057369118732864405,
           0.03913819609859812,
           0.01983968550042477,
           1.4761485965452956e-17
          ],
          [
           0,
           -0.006627555914577715,
           -0.013074329380554592,
           -0.019164469223262957,
           -0.024731852303603426,
           -0.029624614924228836,
           -0.03370929527532877,
           -0.03687447392489219,
           -0.03903381305036396,
           -0.04012841150937818,
           -0.04012841150937818,
           -0.03903381305036396,
           -0.036874473924892195,
           -0.03370929527532877,
           -0.029624614924228843,
           -0.02473185230360343,
           -0.019164469223262964,
           -0.013074329380554599,
           -0.00662755591457772,
           -4.9311554669653986e-18
          ],
          [
           0,
           -0.03292314711268756,
           -0.06494823659638016,
           -0.09520170749314029,
           -0.122858323981817,
           -0.1471636856600176,
           -0.16745480562051002,
           -0.18317819500577392,
           -0.19390496074119645,
           -0.19934250462010655,
           -0.19934250462010655,
           -0.19390496074119645,
           -0.18317819500577395,
           -0.16745480562051004,
           -0.14716368566001767,
           -0.12285832398181702,
           -0.09520170749314032,
           -0.06494823659638019,
           -0.03292314711268759,
           -2.4496082563006136e-17
          ],
          [
           0,
           -0.05836604609431205,
           -0.115140018600098,
           -0.16877327154610067,
           -0.21780282960340894,
           -0.26089129423873825,
           -0.2968633244600811,
           -0.32473769705508354,
           -0.34375407180242007,
           -0.35339373157097265,
           -0.35339373157097265,
           -0.34375407180242007,
           -0.3247376970550836,
           -0.2968633244600812,
           -0.26089129423873836,
           -0.21780282960340897,
           -0.16877327154610072,
           -0.11514001860009805,
           -0.0583660460943121,
           -4.342657398786498e-17
          ],
          [
           0,
           -0.0822972951403669,
           -0.16234973460234164,
           -0.23797369651853664,
           -0.3071063563448338,
           -0.3678619553365656,
           -0.4185832391312641,
           -0.4578866633275285,
           -0.48470013296966497,
           -0.4982922465033347,
           -0.4982922465033347,
           -0.48470013296966497,
           -0.45788666332752853,
           -0.41858323913126416,
           -0.36786195533656574,
           -0.30710635634483385,
           -0.23797369651853673,
           -0.16234973460234173,
           -0.08229729514036697,
           -6.123233995736764e-17
          ],
          [
           0,
           -0.10409708747106597,
           -0.20535467775677563,
           -0.30101072775297255,
           -0.3884559897724724,
           -0.46530518502016843,
           -0.529462067780604,
           -0.5791766055365858,
           -0.6130927152942584,
           -0.6302852539921319,
           -0.6302852539921319,
           -0.6130927152942584,
           -0.5791766055365859,
           -0.5294620677806041,
           -0.46530518502016854,
           -0.38845598977247253,
           -0.30101072775297266,
           -0.20535467775677574,
           -0.10409708747106605,
           -7.745222048584242e-17
          ],
          [
           0,
           -0.12320081991594793,
           -0.24304104262515694,
           -0.3562517392522649,
           -0.4597448171115447,
           -0.550697254825314,
           -0.6266281069880509,
           -0.685466177889715,
           -0.7256065183355124,
           -0.7459542044761397,
           -0.7459542044761397,
           -0.7256065183355124,
           -0.6854661778897151,
           -0.6266281069880509,
           -0.5506972548253141,
           -0.45974481711154475,
           -0.356251739252265,
           -0.24304104262515705,
           -0.12320081991594804,
           -9.166612918751292e-17
          ],
          [
           0,
           -0.1391137158394193,
           -0.2744327721531311,
           -0.4022660178353502,
           -0.5191264951802664,
           -0.6218265549984392,
           -0.7075648073771038,
           -0.7740025362943134,
           -0.8193274936954399,
           -0.8423033328959264,
           -0.8423033328959264,
           -0.8193274936954399,
           -0.7740025362943134,
           -0.7075648073771038,
           -0.6218265549984394,
           -0.5191264951802665,
           -0.4022660178353503,
           -0.2744327721531313,
           -0.13911371583941942,
           -1.0350593329322857e-16
          ],
          [
           0,
           -0.1514236395957217,
           -0.2987168370352402,
           -0.43786181785711464,
           -0.5650630697084178,
           -0.676850874027562,
           -0.7701759509217782,
           -0.8424926355737105,
           -0.8918283173415814,
           -0.9168372474352875,
           -0.9168372474352875,
           -0.8918283173415814,
           -0.8424926355737105,
           -0.7701759509217783,
           -0.6768508740275623,
           -0.5650630697084179,
           -0.4378618178571148,
           -0.2987168370352404,
           -0.1514236395957218,
           -1.126649880958142e-16
          ],
          [
           0,
           -0.15981177062567214,
           -0.31526429274686973,
           -0.4621172267946076,
           -0.5963648075450915,
           -0.7143451109527726,
           -0.8128399418923868,
           -0.8891626181327629,
           -0.9412312560244315,
           -0.9676255588585165,
           -0.9676255588585165,
           -0.9412312560244315,
           -0.889162618132763,
           -0.812839941892387,
           -0.7143451109527729,
           -0.5963648075450916,
           -0.46211722679460776,
           -0.3152642927468699,
           -0.15981177062567228,
           -1.1890607888691283e-16
          ],
          [
           0,
           -0.1640608607416775,
           -0.32364656887706705,
           -0.4744040422971282,
           -0.6122210101223642,
           -0.7333381847325245,
           -0.8344518053331546,
           -0.9128037559378055,
           -0.9662567995822742,
           -0.9933528765776246,
           -0.9933528765776246,
           -0.9662567995822742,
           -0.9128037559378056,
           -0.8344518053331547,
           -0.7333381847325248,
           -0.6122210101223643,
           -0.47440404229712835,
           -0.3236465688770672,
           -0.16406086074167764,
           -1.2206756469332921e-16
          ],
          [
           0,
           -0.16406086074167753,
           -0.3236465688770671,
           -0.47440404229712824,
           -0.6122210101223643,
           -0.7333381847325247,
           -0.8344518053331547,
           -0.9128037559378056,
           -0.9662567995822743,
           -0.9933528765776247,
           -0.9933528765776247,
           -0.9662567995822743,
           -0.9128037559378057,
           -0.8344518053331548,
           -0.7333381847325249,
           -0.6122210101223644,
           -0.4744040422971284,
           -0.3236465688770673,
           -0.16406086074167767,
           -1.2206756469332924e-16
          ],
          [
           0,
           -0.15981177062567217,
           -0.3152642927468698,
           -0.4621172267946077,
           -0.5963648075450917,
           -0.7143451109527728,
           -0.8128399418923871,
           -0.8891626181327631,
           -0.9412312560244317,
           -0.9676255588585168,
           -0.9676255588585168,
           -0.9412312560244317,
           -0.8891626181327632,
           -0.8128399418923872,
           -0.714345110952773,
           -0.5963648075450918,
           -0.46211722679460787,
           -0.31526429274686996,
           -0.1598117706256723,
           -1.1890607888691286e-16
          ],
          [
           0,
           -0.1514236395957217,
           -0.2987168370352402,
           -0.43786181785711464,
           -0.5650630697084178,
           -0.676850874027562,
           -0.7701759509217782,
           -0.8424926355737105,
           -0.8918283173415814,
           -0.9168372474352875,
           -0.9168372474352875,
           -0.8918283173415814,
           -0.8424926355737105,
           -0.7701759509217783,
           -0.6768508740275623,
           -0.5650630697084179,
           -0.4378618178571148,
           -0.2987168370352404,
           -0.1514236395957218,
           -1.126649880958142e-16
          ],
          [
           0,
           -0.13911371583941937,
           -0.2744327721531313,
           -0.4022660178353504,
           -0.5191264951802668,
           -0.6218265549984395,
           -0.7075648073771041,
           -0.7740025362943137,
           -0.8193274936954403,
           -0.8423033328959268,
           -0.8423033328959268,
           -0.8193274936954403,
           -0.7740025362943138,
           -0.7075648073771043,
           -0.6218265549984398,
           -0.5191264951802669,
           -0.40226601783535054,
           -0.2744327721531314,
           -0.1391137158394195,
           -1.0350593329322863e-16
          ],
          [
           0,
           -0.123200819915948,
           -0.24304104262515708,
           -0.3562517392522651,
           -0.45974481711154497,
           -0.5506972548253142,
           -0.6266281069880513,
           -0.6854661778897153,
           -0.7256065183355127,
           -0.7459542044761401,
           -0.7459542044761401,
           -0.7256065183355127,
           -0.6854661778897154,
           -0.6266281069880514,
           -0.5506972548253144,
           -0.459744817111545,
           -0.3562517392522652,
           -0.24304104262515722,
           -0.12320081991594811,
           -9.166612918751298e-17
          ],
          [
           0,
           -0.10409708747106605,
           -0.20535467775677582,
           -0.30101072775297283,
           -0.3884559897724728,
           -0.4653051850201688,
           -0.5294620677806045,
           -0.5791766055365863,
           -0.6130927152942588,
           -0.6302852539921324,
           -0.6302852539921324,
           -0.6130927152942588,
           -0.5791766055365863,
           -0.5294620677806046,
           -0.465305185020169,
           -0.38845598977247286,
           -0.30101072775297294,
           -0.2053546777567759,
           -0.10409708747106615,
           -7.745222048584248e-17
          ],
          [
           0,
           -0.08229729514036702,
           -0.16234973460234187,
           -0.23797369651853698,
           -0.3071063563448342,
           -0.3678619553365661,
           -0.41858323913126466,
           -0.4578866633275291,
           -0.48470013296966563,
           -0.49829224650333537,
           -0.49829224650333537,
           -0.48470013296966563,
           -0.45788666332752914,
           -0.4185832391312647,
           -0.36786195533656624,
           -0.30710635634483424,
           -0.23797369651853706,
           -0.16234973460234195,
           -0.08229729514036709,
           -6.123233995736771e-17
          ],
          [
           0,
           -0.05836604609431212,
           -0.11514001860009813,
           -0.1687732715461009,
           -0.21780282960340921,
           -0.2608912942387386,
           -0.2968633244600815,
           -0.324737697055084,
           -0.3437540718024205,
           -0.3533937315709731,
           -0.3533937315709731,
           -0.3437540718024205,
           -0.324737697055084,
           -0.29686332446008157,
           -0.2608912942387387,
           -0.21780282960340924,
           -0.16877327154610094,
           -0.1151400186000982,
           -0.05836604609431217,
           -4.3426573987865036e-17
          ],
          [
           0,
           -0.0329231471126876,
           -0.06494823659638023,
           -0.09520170749314039,
           -0.12285832398181713,
           -0.14716368566001778,
           -0.1674548056205102,
           -0.18317819500577415,
           -0.19390496074119667,
           -0.19934250462010678,
           -0.19934250462010678,
           -0.19390496074119667,
           -0.18317819500577417,
           -0.16745480562051024,
           -0.14716368566001783,
           -0.12285832398181716,
           -0.09520170749314043,
           -0.06494823659638026,
           -0.03292314711268763,
           -2.4496082563006164e-17
          ],
          [
           0,
           -0.006627555914577755,
           -0.01307432938055467,
           -0.01916446922326307,
           -0.024731852303603575,
           -0.029624614924229013,
           -0.03370929527532897,
           -0.03687447392489241,
           -0.03903381305036419,
           -0.040128411509378424,
           -0.040128411509378424,
           -0.03903381305036419,
           -0.03687447392489242,
           -0.033709295275328975,
           -0.029624614924229024,
           -0.02473185230360358,
           -0.019164469223263078,
           -0.013074329380554677,
           -0.00662755591457776,
           -4.931155466965428e-18
          ],
          [
           0,
           0.019839685500424604,
           0.03913819609859781,
           0.057369118732863954,
           0.07403516135822864,
           0.08868171777700258,
           0.10090926811080465,
           0.1103842766613735,
           0.1168482898949535,
           0.12012498638095748,
           0.12012498638095748,
           0.1168482898949535,
           0.11038427666137351,
           0.10090926811080467,
           0.08868171777700261,
           0.07403516135822866,
           0.057369118732863975,
           0.03913819609859783,
           0.01983968550042462,
           1.4761485965452845e-17
          ],
          [
           0,
           0.04579308948227329,
           0.09033706285714516,
           0.13241687664842144,
           0.1708847032297638,
           0.204691240570173,
           0.2329143344580683,
           0.2547841324643027,
           0.2697040835095747,
           0.27726721022277884,
           0.27726721022277884,
           0.2697040835095747,
           0.25478413246430276,
           0.23291433445806833,
           0.20469124057017307,
           0.17088470322976385,
           0.13241687664842147,
           0.09033706285714521,
           0.045793089482273334,
           3.4071812665217726e-17
          ],
          [
           0,
           0.070560476500534,
           0.13919624713956774,
           0.20403510701416902,
           0.2633084210492517,
           0.31539936775193633,
           0.3588870418871373,
           0.39258521306835203,
           0.41557468303033307,
           0.42722835896159306,
           0.42722835896159306,
           0.41557468303033307,
           0.3925852130683521,
           0.3588870418871374,
           0.3153993677519364,
           0.2633084210492517,
           0.20403510701416908,
           0.1391962471395678,
           0.07056047650053406,
           5.2499697314053e-17
          ],
          [
           0,
           0.09350038424114342,
           0.18445032173749917,
           0.2703689352829589,
           0.3489125890731122,
           0.4179388169805878,
           0.4755647634460167,
           0.520218542869453,
           0.5506821165519405,
           0.566124517616031,
           0.566124517616031,
           0.5506821165519405,
           0.520218542869453,
           0.47556476344601684,
           0.41793881698058793,
           0.34891258907311223,
           0.270368935282959,
           0.18445032173749926,
           0.0935003842411435,
           6.956786737927616e-17
          ],
          [
           0,
           0.11401868114339876,
           0.22492722988972438,
           0.32970035014618587,
           0.4254801043153274,
           0.5096538703825992,
           0.5799256074343181,
           0.6343784856684597,
           0.6715271725148563,
           0.6903583486357371,
           0.6903583486357371,
           0.6715271725148563,
           0.6343784856684598,
           0.5799256074343182,
           0.5096538703825993,
           0.42548010431532746,
           0.329700350146186,
           0.2249272298897245,
           0.11401868114339886,
           8.483426622169503e-17
          ],
          [
           0,
           0.13158395409529686,
           0.259578640936642,
           0.3804926991242501,
           0.4910279083501884,
           0.5881691562505585,
           0.6692666828109725,
           0.7321083589123357,
           0.7749800274466266,
           0.7967122610543288,
           0.7967122610543288,
           0.7749800274466266,
           0.7321083589123358,
           0.6692666828109726,
           0.5881691562505588,
           0.4910279083501885,
           0.3804926991242502,
           0.2595786409366421,
           0.13158395409529697,
           9.790350213036119e-17
          ],
          [
           0,
           0.14574127175399704,
           0.28750710153368575,
           0.4214304870586132,
           0.54385834748387,
           0.651451169922668,
           0.7412741026524325,
           0.8108770102192056,
           0.8583613067458039,
           0.8824317444053047,
           0.8824317444053047,
           0.8583613067458039,
           0.8108770102192057,
           0.7412741026524327,
           0.6514511699226683,
           0.5438583474838701,
           0.4214304870586133,
           0.28750710153368586,
           0.14574127175399715,
           1.0843708876019398e-16
          ],
          [
           0,
           0.1561239670286355,
           0.3079892792215371,
           0.4514534467454053,
           0.5826031410933618,
           0.6978609404853316,
           0.794082912608561,
           0.868644372895489,
           0.9195114790767089,
           0.9452967090962464,
           0.9452967090962464,
           0.9195114790767089,
           0.8686443728954891,
           0.7940829126085611,
           0.6978609404853319,
           0.5826031410933619,
           0.45145344674540544,
           0.3079892792215373,
           0.15612396702863565,
           1.1616221175051907e-16
          ],
          [
           0,
           0.16246313356537806,
           0.3204946963568737,
           0.46978399929907333,
           0.6062588193758816,
           0.7261964792589068,
           0.8263253922406854,
           0.9039143025916696,
           0.9568467870966786,
           0.9836789855631047,
           0.9836789855631047,
           0.9568467870966786,
           0.9039143025916697,
           0.8263253922406855,
           0.7261964792589071,
           0.6062588193758817,
           0.4697839992990735,
           0.3204946963568739,
           0.16246313356537817,
           1.2087879447370743e-16
          ],
          [
           0,
           0.1645945902807339,
           0.32469946920468346,
           0.4759473930370735,
           0.6142127126896678,
           0.7357239106731316,
           0.8371664782625285,
           0.9157733266550574,
           0.9694002659393304,
           0.9965844930066698,
           0.9965844930066698,
           0.9694002659393304,
           0.9157733266550575,
           0.8371664782625287,
           0.7357239106731318,
           0.6142127126896679,
           0.4759473930370737,
           0.3246994692046836,
           0.16459459028073403,
           1.2246467991473532e-16
          ]
         ],
         "y": [
          [
           0,
           0,
           0,
           0,
           0,
           0,
           0,
           0,
           0,
           0,
           0,
           0,
           0,
           0,
           0,
           0,
           0,
           0,
           0,
           0
          ],
          [
           0,
           0.02640282904919078,
           0.05208545774895815,
           0.0763473309379888,
           0.0985266479616691,
           0.11801841486875742,
           0.1342909470692725,
           0.14690037230410982,
           0.1555027383231814,
           0.15986339500618152,
           0.15986339500618152,
           0.1555027383231814,
           0.14690037230410985,
           0.13429094706927253,
           0.11801841486875746,
           0.09852664796166911,
           0.07634733093798883,
           0.052085457748958175,
           0.0264028290491908,
           1.964471616495832e-17
          ],
          [
           0,
           0.052121838694775345,
           0.10282192950145011,
           0.15071730610809098,
           0.19450150749479733,
           0.23298021478463432,
           0.2651038291492389,
           0.28999610212875754,
           0.30697803740562163,
           0.3155864120540797,
           0.3155864120540797,
           0.30697803740562163,
           0.2899961021287576,
           0.26510382914923897,
           0.2329802147846344,
           0.19450150749479736,
           0.15071730610809103,
           0.10282192950145015,
           0.05212183869477539,
           3.878064450013872e-17
          ],
          [
           0,
           0.07649092009650708,
           0.1508953672897284,
           0.22118378221815102,
           0.28543888015075025,
           0.3419079495164639,
           0.3890506613068728,
           0.42558108523621246,
           0.45050276656739835,
           0.46313590679969047,
           0.46313590679969047,
           0.45050276656739835,
           0.4255810852362125,
           0.3890506613068729,
           0.341907949516464,
           0.2854388801507503,
           0.2211837822181511,
           0.1508953672897285,
           0.07649092009650715,
           5.691217451330058e-17
          ],
          [
           0,
           0.0988789268465705,
           0.1950606943268914,
           0.28592171455125476,
           0.3689835357449422,
           0.44198044795179753,
           0.502921285695566,
           0.5501437417835053,
           0.5823597107132922,
           0.598690424833285,
           0.598690424833285,
           0.5823597107132922,
           0.5501437417835054,
           0.5029212856955662,
           0.4419804479517977,
           0.36898353574494225,
           0.28592171455125487,
           0.19506069432689152,
           0.09887892684657058,
           7.356970910115742e-17
          ],
          [
           0,
           0.1187060213300177,
           0.2341740518416552,
           0.34325442466524575,
           0.4429717115814716,
           0.5306058849468245,
           0.6037665129571378,
           0.6604579643958138,
           0.6991338442511896,
           0.7187391753413048,
           0.7187391753413048,
           0.6991338442511896,
           0.660457964395814,
           0.6037665129571379,
           0.5306058849468246,
           0.44297171158147164,
           0.34325442466524586,
           0.23417405184165535,
           0.1187060213300178,
           8.8321826867684e-17
          ],
          [
           0,
           0.1354586922144208,
           0.26722242441968863,
           0.39169702548365826,
           0.5054871527703725,
           0.605488908236173,
           0.6889745046770733,
           0.7536666726528733,
           0.7978007784610887,
           0.8201729587442986,
           0.8201729587442986,
           0.7978007784610887,
           0.7536666726528733,
           0.6889745046770734,
           0.6054889082361731,
           0.5054871527703726,
           0.39169702548365837,
           0.26722242441968874,
           0.13545869221442092,
           1.0078645571165809e-16
          ],
          [
           0,
           0.14870305412364682,
           0.2933498765707317,
           0.42999487909102246,
           0.5549107422227022,
           0.6646900868508907,
           0.7563384186275245,
           0.8273558099711071,
           0.8758050915743081,
           0.9003646933328433,
           0.9003646933328433,
           0.8758050915743081,
           0.8273558099711072,
           0.7563384186275246,
           0.6646900868508909,
           0.5549107422227023,
           0.42999487909102263,
           0.29334987657073186,
           0.14870305412364695,
           1.1064076829338897e-16
          ],
          [
           0,
           0.15809608504118994,
           0.31187972100819145,
           0.4571560911958444,
           0.5899624349326623,
           0.7066761413618048,
           0.8041135648218102,
           0.8796168664010955,
           0.9311265128549957,
           0.957237455303875,
           0.957237455303875,
           0.9311265128549957,
           0.8796168664010956,
           0.8041135648218103,
           0.706676141361805,
           0.5899624349326624,
           0.45715609119584455,
           0.3118797210081916,
           0.15809608504119008,
           1.1762954309324202e-16
          ],
          [
           0,
           0.16339451040021785,
           0.32233204449441705,
           0.4724772006717372,
           0.6097344104708716,
           0.7303596550113417,
           0.8310625920686276,
           0.9090963080327714,
           0.9623322465509867,
           0.9893182699962312,
           0.9893182699962312,
           0.9623322465509867,
           0.9090963080327715,
           0.8310625920686278,
           0.7303596550113419,
           0.6097344104708717,
           0.4724772006717374,
           0.3223320444944172,
           0.163394510400218,
           1.2157177451493547e-16
          ],
          [
           0,
           0.1644611037670665,
           0.3244361373414681,
           0.4755613988310838,
           0.6137145850566313,
           0.7351272372363558,
           0.8364875347179571,
           0.9150306328127125,
           0.9686140805511727,
           0.9957762611606562,
           0.9957762611606562,
           0.9686140805511727,
           0.9150306328127126,
           0.8364875347179572,
           0.735127237236356,
           0.6137145850566315,
           0.47556139883108395,
           0.32443613734146826,
           0.16446110376706663,
           1.2236536083540634e-16
          ],
          [
           0,
           0.16126824093379016,
           0.31813750464983503,
           0.4663288065616117,
           0.6017998742588596,
           0.7208554101615147,
           0.8202478896047718,
           0.8972661448462753,
           0.9498093186546442,
           0.9764441702182178,
           0.9764441702182178,
           0.9498093186546442,
           0.8972661448462754,
           0.8202478896047719,
           0.7208554101615149,
           0.6017998742588597,
           0.46632880656161185,
           0.3181375046498352,
           0.1612682409337903,
           1.1998974858580612e-16
          ],
          [
           0,
           0.1538986153706371,
           0.30359927769771167,
           0.44501854315344286,
           0.5742988628287095,
           0.6879138066114112,
           0.7827642550072105,
           0.8562629350405349,
           0.9064049943168346,
           0.9318226881696455,
           0.9318226881696455,
           0.9064049943168346,
           0.856262935040535,
           0.7827642550072106,
           0.6879138066114114,
           0.5742988628287096,
           0.44501854315344297,
           0.30359927769771183,
           0.15389861537063723,
           1.145064648755478e-16
          ],
          [
           0,
           0.14254309650860683,
           0.28119798892657893,
           0.4121825332350825,
           0.531923812516605,
           0.6371555968145651,
           0.7250074373721028,
           0.7930829649914648,
           0.8395252567388508,
           0.8630674879614114,
           0.8630674879614114,
           0.8395252567388508,
           0.7930829649914649,
           0.7250074373721029,
           0.6371555968145652,
           0.5319238125166051,
           0.4121825332350827,
           0.28119798892657905,
           0.14254309650860694,
           1.0605752387249069e-16
          ],
          [
           0,
           0.1274957863214463,
           0.25151381994875355,
           0.368671212215454,
           0.4757722148670403,
           0.5698953917426538,
           0.648473307937938,
           0.709362562736425,
           0.7509022559936532,
           0.771959293163464,
           0.771959293163464,
           0.7509022559936532,
           0.7093625627364251,
           0.648473307937938,
           0.569895391742654,
           0.4757722148670404,
           0.3686712122154542,
           0.25151381994875366,
           0.12749578632144642,
           9.486174871058949e-17
          ],
          [
           0,
           0.10914640223901487,
           0.215315575148385,
           0.3156115004535209,
           0.4072983667640625,
           0.4878751953768806,
           0.5551440604555331,
           0.607270042717518,
           0.6428312812490229,
           0.6608577581641384,
           0.6608577581641384,
           0.6428312812490229,
           0.607270042717518,
           0.5551440604555332,
           0.4878751953768808,
           0.4072983667640626,
           0.315611500453521,
           0.21531557514838512,
           0.10914640223901496,
           8.120910408566745e-17
          ],
          [
           0,
           0.08797018367055941,
           0.1735407700517397,
           0.2543776166129328,
           0.32827570490588115,
           0.3932192877198919,
           0.4474368734110843,
           0.48944954757650005,
           0.5181113139837744,
           0.5326403543609658,
           0.5326403543609658,
           0.5181113139837744,
           0.4894495475765001,
           0.44743687341108435,
           0.39321928771989206,
           0.3282757049058812,
           0.2543776166129329,
           0.1735407700517398,
           0.08797018367055948,
           6.545318632210576e-17
          ],
          [
           0,
           0.06451558355364734,
           0.12727135016752564,
           0.18655548612048245,
           0.24075087472592946,
           0.2883792070595441,
           0.3281413063730616,
           0.358952566249266,
           0.3799725358376946,
           0.39062784516294613,
           0.39062784516294613,
           0.3799725358376946,
           0.3589525662492661,
           0.32814130637306166,
           0.28837920705954423,
           0.2407508747259295,
           0.1865554861204825,
           0.12727135016752572,
           0.0645155835536474,
           4.800206541377804e-17
          ],
          [
           0,
           0.039390063711172284,
           0.07770566916653633,
           0.11390166653059874,
           0.14699072335119093,
           0.17607025641498053,
           0.20034705186467258,
           0.21915890200528199,
           0.23199266860380632,
           0.2384982799625705,
           0.2384982799625705,
           0.23199266860380632,
           0.219158902005282,
           0.2003470518646726,
           0.17607025641498059,
           0.14699072335119096,
           0.11390166653059879,
           0.07770566916653637,
           0.03939006371117232,
           2.930771622555806e-17
          ],
          [
           0,
           0.013244361909226048,
           0.026127452151043146,
           0.03829785360736431,
           0.04942358945232989,
           0.059201178614717985,
           0.06736391395045133,
           0.07368913731823402,
           0.07800431311321966,
           0.08019173458854482,
           0.08019173458854482,
           0.07800431311321966,
           0.07368913731823402,
           0.06736391395045134,
           0.059201178614718006,
           0.0494235894523299,
           0.038297853607364325,
           0.02612745215104316,
           0.01324436190922606,
           9.854312581730915e-18
          ],
          [
           0,
           -0.013244361909225935,
           -0.02612745215104292,
           -0.038297853607363985,
           -0.04942358945232946,
           -0.05920117861471748,
           -0.06736391395045074,
           -0.07368913731823339,
           -0.078004313113219,
           -0.08019173458854413,
           -0.08019173458854413,
           -0.078004313113219,
           -0.07368913731823339,
           -0.06736391395045076,
           -0.05920117861471749,
           -0.049423589452329476,
           -0.038297853607364,
           -0.026127452151042934,
           -0.013244361909225946,
           -9.854312581730829e-18
          ],
          [
           0,
           -0.03939006371117217,
           -0.07770566916653612,
           -0.11390166653059844,
           -0.1469907233511905,
           -0.17607025641498006,
           -0.20034705186467203,
           -0.21915890200528138,
           -0.23199266860380569,
           -0.23849827996256984,
           -0.23849827996256984,
           -0.23199266860380569,
           -0.2191589020052814,
           -0.20034705186467205,
           -0.17607025641498011,
           -0.14699072335119054,
           -0.11390166653059848,
           -0.07770566916653616,
           -0.03939006371117221,
           -2.930771622555798e-17
          ],
          [
           0,
           -0.0645155835536473,
           -0.12727135016752558,
           -0.18655548612048234,
           -0.24075087472592932,
           -0.288379207059544,
           -0.32814130637306144,
           -0.35895256624926586,
           -0.37997253583769436,
           -0.3906278451629459,
           -0.3906278451629459,
           -0.37997253583769436,
           -0.35895256624926586,
           -0.32814130637306144,
           -0.28837920705954406,
           -0.24075087472592935,
           -0.1865554861204824,
           -0.12727135016752564,
           -0.06451558355364735,
           -4.8002065413778013e-17
          ],
          [
           0,
           -0.08797018367055931,
           -0.1735407700517395,
           -0.25437761661293257,
           -0.3282757049058808,
           -0.3932192877198915,
           -0.44743687341108385,
           -0.48944954757649956,
           -0.5181113139837739,
           -0.5326403543609652,
           -0.5326403543609652,
           -0.5181113139837739,
           -0.4894495475764996,
           -0.4474368734110839,
           -0.3932192877198916,
           -0.32827570490588087,
           -0.2543776166129326,
           -0.17354077005173962,
           -0.0879701836705594,
           -6.54531863221057e-17
          ],
          [
           0,
           -0.10914640223901477,
           -0.21531557514838484,
           -0.3156115004535206,
           -0.40729836676406217,
           -0.4878751953768802,
           -0.5551440604555327,
           -0.6072700427175175,
           -0.6428312812490223,
           -0.6608577581641378,
           -0.6608577581641378,
           -0.6428312812490223,
           -0.6072700427175176,
           -0.5551440604555327,
           -0.48787519537688034,
           -0.4072983667640623,
           -0.3156115004535207,
           -0.21531557514838495,
           -0.10914640223901487,
           -8.120910408566738e-17
          ],
          [
           0,
           -0.12749578632144626,
           -0.2515138199487534,
           -0.36867121221545385,
           -0.47577221486704,
           -0.5698953917426536,
           -0.6484733079379376,
           -0.7093625627364246,
           -0.7509022559936528,
           -0.7719592931634636,
           -0.7719592931634636,
           -0.7509022559936528,
           -0.7093625627364246,
           -0.6484733079379377,
           -0.5698953917426537,
           -0.47577221486704013,
           -0.36867121221545396,
           -0.25151381994875355,
           -0.12749578632144637,
           -9.486174871058944e-17
          ],
          [
           0,
           -0.14254309650860678,
           -0.2811979889265788,
           -0.41218253323508236,
           -0.5319238125166048,
           -0.6371555968145649,
           -0.7250074373721025,
           -0.7930829649914645,
           -0.8395252567388505,
           -0.8630674879614111,
           -0.8630674879614111,
           -0.8395252567388505,
           -0.7930829649914646,
           -0.7250074373721026,
           -0.637155596814565,
           -0.5319238125166049,
           -0.4121825332350825,
           -0.28119798892657893,
           -0.1425430965086069,
           -1.0605752387249065e-16
          ],
          [
           0,
           -0.1538986153706371,
           -0.30359927769771167,
           -0.4450185431534428,
           -0.5742988628287093,
           -0.6879138066114112,
           -0.7827642550072104,
           -0.8562629350405347,
           -0.9064049943168345,
           -0.9318226881696454,
           -0.9318226881696454,
           -0.9064049943168345,
           -0.8562629350405349,
           -0.7827642550072105,
           -0.6879138066114114,
           -0.5742988628287095,
           -0.44501854315344297,
           -0.3035992776977118,
           -0.1538986153706372,
           -1.145064648755478e-16
          ],
          [
           0,
           -0.16126824093379016,
           -0.31813750464983503,
           -0.4663288065616117,
           -0.6017998742588596,
           -0.7208554101615147,
           -0.8202478896047718,
           -0.8972661448462753,
           -0.9498093186546442,
           -0.9764441702182178,
           -0.9764441702182178,
           -0.9498093186546442,
           -0.8972661448462754,
           -0.8202478896047719,
           -0.7208554101615149,
           -0.6017998742588597,
           -0.46632880656161185,
           -0.3181375046498352,
           -0.1612682409337903,
           -1.1998974858580612e-16
          ],
          [
           0,
           -0.16446110376706646,
           -0.3244361373414681,
           -0.4755613988310837,
           -0.6137145850566313,
           -0.7351272372363558,
           -0.836487534717957,
           -0.9150306328127124,
           -0.9686140805511726,
           -0.9957762611606561,
           -0.9957762611606561,
           -0.9686140805511726,
           -0.9150306328127125,
           -0.8364875347179571,
           -0.735127237236356,
           -0.6137145850566315,
           -0.4755613988310839,
           -0.32443613734146826,
           -0.1644611037670666,
           -1.2236536083540631e-16
          ],
          [
           0,
           -0.16339451040021785,
           -0.3223320444944171,
           -0.47247720067173726,
           -0.6097344104708717,
           -0.7303596550113418,
           -0.8310625920686278,
           -0.9090963080327715,
           -0.9623322465509868,
           -0.9893182699962313,
           -0.9893182699962313,
           -0.9623322465509868,
           -0.9090963080327716,
           -0.8310625920686279,
           -0.730359655011342,
           -0.6097344104708718,
           -0.47247720067173743,
           -0.32233204449441727,
           -0.163394510400218,
           -1.2157177451493547e-16
          ],
          [
           0,
           -0.15809608504118997,
           -0.3118797210081915,
           -0.4571560911958445,
           -0.5899624349326624,
           -0.7066761413618049,
           -0.8041135648218103,
           -0.8796168664010957,
           -0.9311265128549959,
           -0.9572374553038753,
           -0.9572374553038753,
           -0.9311265128549959,
           -0.8796168664010958,
           -0.8041135648218104,
           -0.7066761413618051,
           -0.5899624349326625,
           -0.45715609119584466,
           -0.31187972100819167,
           -0.1580960850411901,
           -1.1762954309324205e-16
          ],
          [
           0,
           -0.14870305412364687,
           -0.29334987657073175,
           -0.4299948790910226,
           -0.5549107422227023,
           -0.6646900868508909,
           -0.7563384186275247,
           -0.8273558099711074,
           -0.8758050915743083,
           -0.9003646933328435,
           -0.9003646933328435,
           -0.8758050915743083,
           -0.8273558099711075,
           -0.7563384186275248,
           -0.6646900868508911,
           -0.5549107422227024,
           -0.42999487909102274,
           -0.2933498765707319,
           -0.14870305412364698,
           -1.10640768293389e-16
          ],
          [
           0,
           -0.13545869221442086,
           -0.2672224244196887,
           -0.39169702548365837,
           -0.5054871527703726,
           -0.6054889082361731,
           -0.6889745046770736,
           -0.7536666726528735,
           -0.7978007784610889,
           -0.8201729587442989,
           -0.8201729587442989,
           -0.7978007784610889,
           -0.7536666726528736,
           -0.6889745046770737,
           -0.6054889082361733,
           -0.5054871527703727,
           -0.3916970254836585,
           -0.2672224244196888,
           -0.13545869221442097,
           -1.0078645571165811e-16
          ],
          [
           0,
           -0.11870602133001773,
           -0.2341740518416553,
           -0.34325442466524586,
           -0.4429717115814717,
           -0.5306058849468246,
           -0.603766512957138,
           -0.6604579643958141,
           -0.6991338442511899,
           -0.718739175341305,
           -0.718739175341305,
           -0.6991338442511899,
           -0.6604579643958141,
           -0.6037665129571381,
           -0.5306058849468247,
           -0.4429717115814718,
           -0.34325442466524597,
           -0.2341740518416554,
           -0.11870602133001784,
           -8.832182686768402e-17
          ],
          [
           0,
           -0.09887892684657063,
           -0.19506069432689166,
           -0.28592171455125515,
           -0.3689835357449427,
           -0.44198044795179814,
           -0.5029212856955667,
           -0.5501437417835061,
           -0.582359710713293,
           -0.5986904248332858,
           -0.5986904248332858,
           -0.582359710713293,
           -0.5501437417835062,
           -0.5029212856955668,
           -0.44198044795179825,
           -0.36898353574494275,
           -0.28592171455125526,
           -0.19506069432689177,
           -0.09887892684657071,
           -7.356970910115752e-17
          ],
          [
           0,
           -0.0764909200965072,
           -0.15089536728972863,
           -0.22118378221815133,
           -0.28543888015075064,
           -0.3419079495164644,
           -0.3890506613068734,
           -0.4255810852362131,
           -0.450502766567399,
           -0.46313590679969113,
           -0.46313590679969113,
           -0.450502766567399,
           -0.42558108523621313,
           -0.38905066130687344,
           -0.34190794951646447,
           -0.2854388801507507,
           -0.2211837822181514,
           -0.15089536728972872,
           -0.07649092009650726,
           -5.691217451330067e-17
          ],
          [
           0,
           -0.052121838694775435,
           -0.10282192950145029,
           -0.15071730610809125,
           -0.19450150749479767,
           -0.23298021478463474,
           -0.2651038291492394,
           -0.28999610212875804,
           -0.3069780374056222,
           -0.3155864120540803,
           -0.3155864120540803,
           -0.3069780374056222,
           -0.2899961021287581,
           -0.2651038291492394,
           -0.2329802147846348,
           -0.1945015074947977,
           -0.1507173061080913,
           -0.10282192950145033,
           -0.05212183869477548,
           -3.8780644500138786e-17
          ],
          [
           0,
           -0.02640282904919084,
           -0.05208545774895828,
           -0.07634733093798898,
           -0.09852664796166934,
           -0.1180184148687577,
           -0.13429094706927283,
           -0.14690037230411018,
           -0.15550273832318176,
           -0.1598633950061819,
           -0.1598633950061819,
           -0.15550273832318176,
           -0.1469003723041102,
           -0.13429094706927283,
           -0.11801841486875773,
           -0.09852664796166936,
           -0.07634733093798901,
           -0.0520854577489583,
           -0.026402829049190866,
           -1.9644716164958365e-17
          ],
          [
           0,
           -4.031404762885416e-17,
           -7.952843312927203e-17,
           -1.1657349028907586e-16,
           -1.5043872651820291e-16,
           -1.8020038645240475e-16,
           -2.0504664959153358e-16,
           -2.242997746465279e-16,
           -2.3743458655503876e-16,
           -2.4409280188810123e-16,
           -2.4409280188810123e-16,
           -2.3743458655503876e-16,
           -2.2429977464652795e-16,
           -2.050466495915336e-16,
           -1.8020038645240483e-16,
           -1.5043872651820294e-16,
           -1.165734902890759e-16,
           -7.952843312927208e-17,
           -4.03140476288542e-17,
           -2.999519565323715e-32
          ]
         ],
         "z": [
          [
           1,
           0.9863613034027223,
           0.9458172417006346,
           0.8794737512064891,
           0.7891405093963936,
           0.6772815716257411,
           0.546948158122427,
           0.40169542465296953,
           0.24548548714079924,
           0.0825793454723324,
           -0.08257934547233227,
           -0.24548548714079912,
           -0.40169542465296926,
           -0.5469481581224267,
           -0.6772815716257409,
           -0.7891405093963935,
           -0.879473751206489,
           -0.9458172417006346,
           -0.9863613034027223,
           -1
          ],
          [
           1,
           0.9863613034027223,
           0.9458172417006346,
           0.8794737512064891,
           0.7891405093963936,
           0.6772815716257411,
           0.546948158122427,
           0.40169542465296953,
           0.24548548714079924,
           0.0825793454723324,
           -0.08257934547233227,
           -0.24548548714079912,
           -0.40169542465296926,
           -0.5469481581224267,
           -0.6772815716257409,
           -0.7891405093963935,
           -0.879473751206489,
           -0.9458172417006346,
           -0.9863613034027223,
           -1
          ],
          [
           1,
           0.9863613034027223,
           0.9458172417006346,
           0.8794737512064891,
           0.7891405093963936,
           0.6772815716257411,
           0.546948158122427,
           0.40169542465296953,
           0.24548548714079924,
           0.0825793454723324,
           -0.08257934547233227,
           -0.24548548714079912,
           -0.40169542465296926,
           -0.5469481581224267,
           -0.6772815716257409,
           -0.7891405093963935,
           -0.879473751206489,
           -0.9458172417006346,
           -0.9863613034027223,
           -1
          ],
          [
           1,
           0.9863613034027223,
           0.9458172417006346,
           0.8794737512064891,
           0.7891405093963936,
           0.6772815716257411,
           0.546948158122427,
           0.40169542465296953,
           0.24548548714079924,
           0.0825793454723324,
           -0.08257934547233227,
           -0.24548548714079912,
           -0.40169542465296926,
           -0.5469481581224267,
           -0.6772815716257409,
           -0.7891405093963935,
           -0.879473751206489,
           -0.9458172417006346,
           -0.9863613034027223,
           -1
          ],
          [
           1,
           0.9863613034027223,
           0.9458172417006346,
           0.8794737512064891,
           0.7891405093963936,
           0.6772815716257411,
           0.546948158122427,
           0.40169542465296953,
           0.24548548714079924,
           0.0825793454723324,
           -0.08257934547233227,
           -0.24548548714079912,
           -0.40169542465296926,
           -0.5469481581224267,
           -0.6772815716257409,
           -0.7891405093963935,
           -0.879473751206489,
           -0.9458172417006346,
           -0.9863613034027223,
           -1
          ],
          [
           1,
           0.9863613034027223,
           0.9458172417006346,
           0.8794737512064891,
           0.7891405093963936,
           0.6772815716257411,
           0.546948158122427,
           0.40169542465296953,
           0.24548548714079924,
           0.0825793454723324,
           -0.08257934547233227,
           -0.24548548714079912,
           -0.40169542465296926,
           -0.5469481581224267,
           -0.6772815716257409,
           -0.7891405093963935,
           -0.879473751206489,
           -0.9458172417006346,
           -0.9863613034027223,
           -1
          ],
          [
           1,
           0.9863613034027223,
           0.9458172417006346,
           0.8794737512064891,
           0.7891405093963936,
           0.6772815716257411,
           0.546948158122427,
           0.40169542465296953,
           0.24548548714079924,
           0.0825793454723324,
           -0.08257934547233227,
           -0.24548548714079912,
           -0.40169542465296926,
           -0.5469481581224267,
           -0.6772815716257409,
           -0.7891405093963935,
           -0.879473751206489,
           -0.9458172417006346,
           -0.9863613034027223,
           -1
          ],
          [
           1,
           0.9863613034027223,
           0.9458172417006346,
           0.8794737512064891,
           0.7891405093963936,
           0.6772815716257411,
           0.546948158122427,
           0.40169542465296953,
           0.24548548714079924,
           0.0825793454723324,
           -0.08257934547233227,
           -0.24548548714079912,
           -0.40169542465296926,
           -0.5469481581224267,
           -0.6772815716257409,
           -0.7891405093963935,
           -0.879473751206489,
           -0.9458172417006346,
           -0.9863613034027223,
           -1
          ],
          [
           1,
           0.9863613034027223,
           0.9458172417006346,
           0.8794737512064891,
           0.7891405093963936,
           0.6772815716257411,
           0.546948158122427,
           0.40169542465296953,
           0.24548548714079924,
           0.0825793454723324,
           -0.08257934547233227,
           -0.24548548714079912,
           -0.40169542465296926,
           -0.5469481581224267,
           -0.6772815716257409,
           -0.7891405093963935,
           -0.879473751206489,
           -0.9458172417006346,
           -0.9863613034027223,
           -1
          ],
          [
           1,
           0.9863613034027223,
           0.9458172417006346,
           0.8794737512064891,
           0.7891405093963936,
           0.6772815716257411,
           0.546948158122427,
           0.40169542465296953,
           0.24548548714079924,
           0.0825793454723324,
           -0.08257934547233227,
           -0.24548548714079912,
           -0.40169542465296926,
           -0.5469481581224267,
           -0.6772815716257409,
           -0.7891405093963935,
           -0.879473751206489,
           -0.9458172417006346,
           -0.9863613034027223,
           -1
          ],
          [
           1,
           0.9863613034027223,
           0.9458172417006346,
           0.8794737512064891,
           0.7891405093963936,
           0.6772815716257411,
           0.546948158122427,
           0.40169542465296953,
           0.24548548714079924,
           0.0825793454723324,
           -0.08257934547233227,
           -0.24548548714079912,
           -0.40169542465296926,
           -0.5469481581224267,
           -0.6772815716257409,
           -0.7891405093963935,
           -0.879473751206489,
           -0.9458172417006346,
           -0.9863613034027223,
           -1
          ],
          [
           1,
           0.9863613034027223,
           0.9458172417006346,
           0.8794737512064891,
           0.7891405093963936,
           0.6772815716257411,
           0.546948158122427,
           0.40169542465296953,
           0.24548548714079924,
           0.0825793454723324,
           -0.08257934547233227,
           -0.24548548714079912,
           -0.40169542465296926,
           -0.5469481581224267,
           -0.6772815716257409,
           -0.7891405093963935,
           -0.879473751206489,
           -0.9458172417006346,
           -0.9863613034027223,
           -1
          ],
          [
           1,
           0.9863613034027223,
           0.9458172417006346,
           0.8794737512064891,
           0.7891405093963936,
           0.6772815716257411,
           0.546948158122427,
           0.40169542465296953,
           0.24548548714079924,
           0.0825793454723324,
           -0.08257934547233227,
           -0.24548548714079912,
           -0.40169542465296926,
           -0.5469481581224267,
           -0.6772815716257409,
           -0.7891405093963935,
           -0.879473751206489,
           -0.9458172417006346,
           -0.9863613034027223,
           -1
          ],
          [
           1,
           0.9863613034027223,
           0.9458172417006346,
           0.8794737512064891,
           0.7891405093963936,
           0.6772815716257411,
           0.546948158122427,
           0.40169542465296953,
           0.24548548714079924,
           0.0825793454723324,
           -0.08257934547233227,
           -0.24548548714079912,
           -0.40169542465296926,
           -0.5469481581224267,
           -0.6772815716257409,
           -0.7891405093963935,
           -0.879473751206489,
           -0.9458172417006346,
           -0.9863613034027223,
           -1
          ],
          [
           1,
           0.9863613034027223,
           0.9458172417006346,
           0.8794737512064891,
           0.7891405093963936,
           0.6772815716257411,
           0.546948158122427,
           0.40169542465296953,
           0.24548548714079924,
           0.0825793454723324,
           -0.08257934547233227,
           -0.24548548714079912,
           -0.40169542465296926,
           -0.5469481581224267,
           -0.6772815716257409,
           -0.7891405093963935,
           -0.879473751206489,
           -0.9458172417006346,
           -0.9863613034027223,
           -1
          ],
          [
           1,
           0.9863613034027223,
           0.9458172417006346,
           0.8794737512064891,
           0.7891405093963936,
           0.6772815716257411,
           0.546948158122427,
           0.40169542465296953,
           0.24548548714079924,
           0.0825793454723324,
           -0.08257934547233227,
           -0.24548548714079912,
           -0.40169542465296926,
           -0.5469481581224267,
           -0.6772815716257409,
           -0.7891405093963935,
           -0.879473751206489,
           -0.9458172417006346,
           -0.9863613034027223,
           -1
          ],
          [
           1,
           0.9863613034027223,
           0.9458172417006346,
           0.8794737512064891,
           0.7891405093963936,
           0.6772815716257411,
           0.546948158122427,
           0.40169542465296953,
           0.24548548714079924,
           0.0825793454723324,
           -0.08257934547233227,
           -0.24548548714079912,
           -0.40169542465296926,
           -0.5469481581224267,
           -0.6772815716257409,
           -0.7891405093963935,
           -0.879473751206489,
           -0.9458172417006346,
           -0.9863613034027223,
           -1
          ],
          [
           1,
           0.9863613034027223,
           0.9458172417006346,
           0.8794737512064891,
           0.7891405093963936,
           0.6772815716257411,
           0.546948158122427,
           0.40169542465296953,
           0.24548548714079924,
           0.0825793454723324,
           -0.08257934547233227,
           -0.24548548714079912,
           -0.40169542465296926,
           -0.5469481581224267,
           -0.6772815716257409,
           -0.7891405093963935,
           -0.879473751206489,
           -0.9458172417006346,
           -0.9863613034027223,
           -1
          ],
          [
           1,
           0.9863613034027223,
           0.9458172417006346,
           0.8794737512064891,
           0.7891405093963936,
           0.6772815716257411,
           0.546948158122427,
           0.40169542465296953,
           0.24548548714079924,
           0.0825793454723324,
           -0.08257934547233227,
           -0.24548548714079912,
           -0.40169542465296926,
           -0.5469481581224267,
           -0.6772815716257409,
           -0.7891405093963935,
           -0.879473751206489,
           -0.9458172417006346,
           -0.9863613034027223,
           -1
          ],
          [
           1,
           0.9863613034027223,
           0.9458172417006346,
           0.8794737512064891,
           0.7891405093963936,
           0.6772815716257411,
           0.546948158122427,
           0.40169542465296953,
           0.24548548714079924,
           0.0825793454723324,
           -0.08257934547233227,
           -0.24548548714079912,
           -0.40169542465296926,
           -0.5469481581224267,
           -0.6772815716257409,
           -0.7891405093963935,
           -0.879473751206489,
           -0.9458172417006346,
           -0.9863613034027223,
           -1
          ],
          [
           1,
           0.9863613034027223,
           0.9458172417006346,
           0.8794737512064891,
           0.7891405093963936,
           0.6772815716257411,
           0.546948158122427,
           0.40169542465296953,
           0.24548548714079924,
           0.0825793454723324,
           -0.08257934547233227,
           -0.24548548714079912,
           -0.40169542465296926,
           -0.5469481581224267,
           -0.6772815716257409,
           -0.7891405093963935,
           -0.879473751206489,
           -0.9458172417006346,
           -0.9863613034027223,
           -1
          ],
          [
           1,
           0.9863613034027223,
           0.9458172417006346,
           0.8794737512064891,
           0.7891405093963936,
           0.6772815716257411,
           0.546948158122427,
           0.40169542465296953,
           0.24548548714079924,
           0.0825793454723324,
           -0.08257934547233227,
           -0.24548548714079912,
           -0.40169542465296926,
           -0.5469481581224267,
           -0.6772815716257409,
           -0.7891405093963935,
           -0.879473751206489,
           -0.9458172417006346,
           -0.9863613034027223,
           -1
          ],
          [
           1,
           0.9863613034027223,
           0.9458172417006346,
           0.8794737512064891,
           0.7891405093963936,
           0.6772815716257411,
           0.546948158122427,
           0.40169542465296953,
           0.24548548714079924,
           0.0825793454723324,
           -0.08257934547233227,
           -0.24548548714079912,
           -0.40169542465296926,
           -0.5469481581224267,
           -0.6772815716257409,
           -0.7891405093963935,
           -0.879473751206489,
           -0.9458172417006346,
           -0.9863613034027223,
           -1
          ],
          [
           1,
           0.9863613034027223,
           0.9458172417006346,
           0.8794737512064891,
           0.7891405093963936,
           0.6772815716257411,
           0.546948158122427,
           0.40169542465296953,
           0.24548548714079924,
           0.0825793454723324,
           -0.08257934547233227,
           -0.24548548714079912,
           -0.40169542465296926,
           -0.5469481581224267,
           -0.6772815716257409,
           -0.7891405093963935,
           -0.879473751206489,
           -0.9458172417006346,
           -0.9863613034027223,
           -1
          ],
          [
           1,
           0.9863613034027223,
           0.9458172417006346,
           0.8794737512064891,
           0.7891405093963936,
           0.6772815716257411,
           0.546948158122427,
           0.40169542465296953,
           0.24548548714079924,
           0.0825793454723324,
           -0.08257934547233227,
           -0.24548548714079912,
           -0.40169542465296926,
           -0.5469481581224267,
           -0.6772815716257409,
           -0.7891405093963935,
           -0.879473751206489,
           -0.9458172417006346,
           -0.9863613034027223,
           -1
          ],
          [
           1,
           0.9863613034027223,
           0.9458172417006346,
           0.8794737512064891,
           0.7891405093963936,
           0.6772815716257411,
           0.546948158122427,
           0.40169542465296953,
           0.24548548714079924,
           0.0825793454723324,
           -0.08257934547233227,
           -0.24548548714079912,
           -0.40169542465296926,
           -0.5469481581224267,
           -0.6772815716257409,
           -0.7891405093963935,
           -0.879473751206489,
           -0.9458172417006346,
           -0.9863613034027223,
           -1
          ],
          [
           1,
           0.9863613034027223,
           0.9458172417006346,
           0.8794737512064891,
           0.7891405093963936,
           0.6772815716257411,
           0.546948158122427,
           0.40169542465296953,
           0.24548548714079924,
           0.0825793454723324,
           -0.08257934547233227,
           -0.24548548714079912,
           -0.40169542465296926,
           -0.5469481581224267,
           -0.6772815716257409,
           -0.7891405093963935,
           -0.879473751206489,
           -0.9458172417006346,
           -0.9863613034027223,
           -1
          ],
          [
           1,
           0.9863613034027223,
           0.9458172417006346,
           0.8794737512064891,
           0.7891405093963936,
           0.6772815716257411,
           0.546948158122427,
           0.40169542465296953,
           0.24548548714079924,
           0.0825793454723324,
           -0.08257934547233227,
           -0.24548548714079912,
           -0.40169542465296926,
           -0.5469481581224267,
           -0.6772815716257409,
           -0.7891405093963935,
           -0.879473751206489,
           -0.9458172417006346,
           -0.9863613034027223,
           -1
          ],
          [
           1,
           0.9863613034027223,
           0.9458172417006346,
           0.8794737512064891,
           0.7891405093963936,
           0.6772815716257411,
           0.546948158122427,
           0.40169542465296953,
           0.24548548714079924,
           0.0825793454723324,
           -0.08257934547233227,
           -0.24548548714079912,
           -0.40169542465296926,
           -0.5469481581224267,
           -0.6772815716257409,
           -0.7891405093963935,
           -0.879473751206489,
           -0.9458172417006346,
           -0.9863613034027223,
           -1
          ],
          [
           1,
           0.9863613034027223,
           0.9458172417006346,
           0.8794737512064891,
           0.7891405093963936,
           0.6772815716257411,
           0.546948158122427,
           0.40169542465296953,
           0.24548548714079924,
           0.0825793454723324,
           -0.08257934547233227,
           -0.24548548714079912,
           -0.40169542465296926,
           -0.5469481581224267,
           -0.6772815716257409,
           -0.7891405093963935,
           -0.879473751206489,
           -0.9458172417006346,
           -0.9863613034027223,
           -1
          ],
          [
           1,
           0.9863613034027223,
           0.9458172417006346,
           0.8794737512064891,
           0.7891405093963936,
           0.6772815716257411,
           0.546948158122427,
           0.40169542465296953,
           0.24548548714079924,
           0.0825793454723324,
           -0.08257934547233227,
           -0.24548548714079912,
           -0.40169542465296926,
           -0.5469481581224267,
           -0.6772815716257409,
           -0.7891405093963935,
           -0.879473751206489,
           -0.9458172417006346,
           -0.9863613034027223,
           -1
          ],
          [
           1,
           0.9863613034027223,
           0.9458172417006346,
           0.8794737512064891,
           0.7891405093963936,
           0.6772815716257411,
           0.546948158122427,
           0.40169542465296953,
           0.24548548714079924,
           0.0825793454723324,
           -0.08257934547233227,
           -0.24548548714079912,
           -0.40169542465296926,
           -0.5469481581224267,
           -0.6772815716257409,
           -0.7891405093963935,
           -0.879473751206489,
           -0.9458172417006346,
           -0.9863613034027223,
           -1
          ],
          [
           1,
           0.9863613034027223,
           0.9458172417006346,
           0.8794737512064891,
           0.7891405093963936,
           0.6772815716257411,
           0.546948158122427,
           0.40169542465296953,
           0.24548548714079924,
           0.0825793454723324,
           -0.08257934547233227,
           -0.24548548714079912,
           -0.40169542465296926,
           -0.5469481581224267,
           -0.6772815716257409,
           -0.7891405093963935,
           -0.879473751206489,
           -0.9458172417006346,
           -0.9863613034027223,
           -1
          ],
          [
           1,
           0.9863613034027223,
           0.9458172417006346,
           0.8794737512064891,
           0.7891405093963936,
           0.6772815716257411,
           0.546948158122427,
           0.40169542465296953,
           0.24548548714079924,
           0.0825793454723324,
           -0.08257934547233227,
           -0.24548548714079912,
           -0.40169542465296926,
           -0.5469481581224267,
           -0.6772815716257409,
           -0.7891405093963935,
           -0.879473751206489,
           -0.9458172417006346,
           -0.9863613034027223,
           -1
          ],
          [
           1,
           0.9863613034027223,
           0.9458172417006346,
           0.8794737512064891,
           0.7891405093963936,
           0.6772815716257411,
           0.546948158122427,
           0.40169542465296953,
           0.24548548714079924,
           0.0825793454723324,
           -0.08257934547233227,
           -0.24548548714079912,
           -0.40169542465296926,
           -0.5469481581224267,
           -0.6772815716257409,
           -0.7891405093963935,
           -0.879473751206489,
           -0.9458172417006346,
           -0.9863613034027223,
           -1
          ],
          [
           1,
           0.9863613034027223,
           0.9458172417006346,
           0.8794737512064891,
           0.7891405093963936,
           0.6772815716257411,
           0.546948158122427,
           0.40169542465296953,
           0.24548548714079924,
           0.0825793454723324,
           -0.08257934547233227,
           -0.24548548714079912,
           -0.40169542465296926,
           -0.5469481581224267,
           -0.6772815716257409,
           -0.7891405093963935,
           -0.879473751206489,
           -0.9458172417006346,
           -0.9863613034027223,
           -1
          ],
          [
           1,
           0.9863613034027223,
           0.9458172417006346,
           0.8794737512064891,
           0.7891405093963936,
           0.6772815716257411,
           0.546948158122427,
           0.40169542465296953,
           0.24548548714079924,
           0.0825793454723324,
           -0.08257934547233227,
           -0.24548548714079912,
           -0.40169542465296926,
           -0.5469481581224267,
           -0.6772815716257409,
           -0.7891405093963935,
           -0.879473751206489,
           -0.9458172417006346,
           -0.9863613034027223,
           -1
          ],
          [
           1,
           0.9863613034027223,
           0.9458172417006346,
           0.8794737512064891,
           0.7891405093963936,
           0.6772815716257411,
           0.546948158122427,
           0.40169542465296953,
           0.24548548714079924,
           0.0825793454723324,
           -0.08257934547233227,
           -0.24548548714079912,
           -0.40169542465296926,
           -0.5469481581224267,
           -0.6772815716257409,
           -0.7891405093963935,
           -0.879473751206489,
           -0.9458172417006346,
           -0.9863613034027223,
           -1
          ],
          [
           1,
           0.9863613034027223,
           0.9458172417006346,
           0.8794737512064891,
           0.7891405093963936,
           0.6772815716257411,
           0.546948158122427,
           0.40169542465296953,
           0.24548548714079924,
           0.0825793454723324,
           -0.08257934547233227,
           -0.24548548714079912,
           -0.40169542465296926,
           -0.5469481581224267,
           -0.6772815716257409,
           -0.7891405093963935,
           -0.879473751206489,
           -0.9458172417006346,
           -0.9863613034027223,
           -1
          ],
          [
           1,
           0.9863613034027223,
           0.9458172417006346,
           0.8794737512064891,
           0.7891405093963936,
           0.6772815716257411,
           0.546948158122427,
           0.40169542465296953,
           0.24548548714079924,
           0.0825793454723324,
           -0.08257934547233227,
           -0.24548548714079912,
           -0.40169542465296926,
           -0.5469481581224267,
           -0.6772815716257409,
           -0.7891405093963935,
           -0.879473751206489,
           -0.9458172417006346,
           -0.9863613034027223,
           -1
          ]
         ]
        },
        {
         "marker": {
          "color": "red",
          "size": 5
         },
         "mode": "markers",
         "name": "qubit",
         "type": "scatter3d",
         "x": [
          0
         ],
         "y": [
          -1.2246467991473532e-16
         ],
         "z": [
          -1
         ]
        },
        {
         "line": {
          "color": "red",
          "width": 3
         },
         "mode": "lines",
         "name": "qubit line",
         "opacity": 0.5,
         "type": "scatter3d",
         "x": [
          0,
          0
         ],
         "y": [
          0,
          -1.2246467991473532e-16
         ],
         "z": [
          0,
          -1
         ]
        },
        {
         "line": {
          "color": "gray",
          "width": 3
         },
         "mode": "lines",
         "name": "Equator",
         "opacity": 0.1,
         "type": "scatter3d",
         "x": [
          1,
          0.9979866764718844,
          0.9919548128307953,
          0.9819286972627067,
          0.9679487013963562,
          0.9500711177409454,
          0.9283679330160726,
          0.9029265382866212,
          0.8738493770697849,
          0.8412535328311812,
          0.8052702575310586,
          0.766044443118978,
          0.7237340381050701,
          0.6785094115571322,
          0.6305526670845225,
          0.5800569095711982,
          0.5272254676105024,
          0.4722710747726827,
          0.41541501300188644,
          0.3568862215918719,
          0.2969203753282749,
          0.23575893550942728,
          0.17364817766693041,
          0.1108381999010111,
          0.04758191582374218,
          -0.01586596383480803,
          -0.07924995685678854,
          -0.14231483827328523,
          -0.20480666806519074,
          -0.26647381369003503,
          -0.32706796331742166,
          -0.3863451256931287,
          -0.4440666126057741,
          -0.5000000000000002,
          -0.5539200638661103,
          -0.6056096871376668,
          -0.654860733945285,
          -0.7014748877063214,
          -0.7452644496757547,
          -0.7860530947427875,
          -0.8236765814298327,
          -0.8579834132349771,
          -0.8888354486549234,
          -0.9161084574320696,
          -0.9396926207859083,
          -0.9594929736144974,
          -0.975429786885407,
          -0.9874388886763943,
          -0.9954719225730846,
          -0.9994965423831851,
          -0.9994965423831851,
          -0.9954719225730846,
          -0.9874388886763943,
          -0.975429786885407,
          -0.9594929736144974,
          -0.9396926207859084,
          -0.9161084574320696,
          -0.8888354486549235,
          -0.857983413234977,
          -0.8236765814298328,
          -0.7860530947427874,
          -0.7452644496757548,
          -0.7014748877063213,
          -0.6548607339452852,
          -0.6056096871376666,
          -0.5539200638661105,
          -0.4999999999999996,
          -0.44406661260577396,
          -0.3863451256931287,
          -0.3270679633174219,
          -0.26647381369003464,
          -0.20480666806519054,
          -0.14231483827328523,
          -0.07924995685678879,
          -0.01586596383480761,
          0.04758191582374238,
          0.11083819990101086,
          0.17364817766692997,
          0.23575893550942748,
          0.2969203753282749,
          0.35688622159187167,
          0.4154150130018868,
          0.4722710747726829,
          0.5272254676105024,
          0.5800569095711979,
          0.6305526670845228,
          0.6785094115571323,
          0.7237340381050701,
          0.7660444431189778,
          0.8052702575310587,
          0.8412535328311812,
          0.8738493770697849,
          0.9029265382866211,
          0.9283679330160727,
          0.9500711177409454,
          0.9679487013963562,
          0.9819286972627068,
          0.9919548128307953,
          0.9979866764718844,
          1
         ],
         "y": [
          0,
          0.0634239196565645,
          0.12659245357374926,
          0.18925124436041021,
          0.2511479871810792,
          0.3120334456984871,
          0.3716624556603276,
          0.42979491208917164,
          0.4861967361004687,
          0.5406408174555976,
          0.5929079290546404,
          0.6427876096865393,
          0.690079011482112,
          0.7345917086575333,
          0.7761464642917568,
          0.8145759520503357,
          0.8497254299495144,
          0.8814533634475821,
          0.9096319953545183,
          0.9341478602651067,
          0.9549022414440739,
          0.9718115683235417,
          0.984807753012208,
          0.9938384644612541,
          0.998867339183008,
          0.9998741276738751,
          0.9968547759519424,
          0.9898214418809327,
          0.9788024462147787,
          0.963842158559942,
          0.9450008187146685,
          0.9223542941045814,
          0.8959937742913359,
          0.8660254037844385,
          0.8325698546347714,
          0.795761840530832,
          0.7557495743542583,
          0.7126941713788627,
          0.6667690005162917,
          0.6181589862206051,
          0.5670598638627709,
          0.5136773915734063,
          0.4582265217274105,
          0.4009305354066136,
          0.3420201433256689,
          0.28173255684142967,
          0.2203105327865408,
          0.1580013959733499,
          0.09505604330418244,
          0.031727933498067656,
          -0.03172793349806786,
          -0.09505604330418263,
          -0.15800139597335008,
          -0.22031053278654056,
          -0.28173255684142984,
          -0.34202014332566866,
          -0.4009305354066138,
          -0.4582265217274103,
          -0.5136773915734064,
          -0.5670598638627706,
          -0.6181589862206053,
          -0.6667690005162915,
          -0.7126941713788629,
          -0.7557495743542582,
          -0.7957618405308321,
          -0.8325698546347713,
          -0.8660254037844388,
          -0.895993774291336,
          -0.9223542941045814,
          -0.9450008187146683,
          -0.9638421585599422,
          -0.9788024462147787,
          -0.9898214418809327,
          -0.9968547759519423,
          -0.9998741276738751,
          -0.998867339183008,
          -0.9938384644612541,
          -0.9848077530122081,
          -0.9718115683235417,
          -0.9549022414440739,
          -0.9341478602651068,
          -0.9096319953545182,
          -0.881453363447582,
          -0.8497254299495144,
          -0.8145759520503358,
          -0.7761464642917566,
          -0.7345917086575332,
          -0.690079011482112,
          -0.6427876096865396,
          -0.5929079290546402,
          -0.5406408174555974,
          -0.4861967361004688,
          -0.4297949120891719,
          -0.37166245566032724,
          -0.31203344569848707,
          -0.2511479871810794,
          -0.18925124436040974,
          -0.12659245357374904,
          -0.06342391965656452,
          -2.4492935982947064e-16
         ],
         "z": [
          0,
          0,
          0,
          0,
          0,
          0,
          0,
          0,
          0,
          0,
          0,
          0,
          0,
          0,
          0,
          0,
          0,
          0,
          0,
          0,
          0,
          0,
          0,
          0,
          0,
          0,
          0,
          0,
          0,
          0,
          0,
          0,
          0,
          0,
          0,
          0,
          0,
          0,
          0,
          0,
          0,
          0,
          0,
          0,
          0,
          0,
          0,
          0,
          0,
          0,
          0,
          0,
          0,
          0,
          0,
          0,
          0,
          0,
          0,
          0,
          0,
          0,
          0,
          0,
          0,
          0,
          0,
          0,
          0,
          0,
          0,
          0,
          0,
          0,
          0,
          0,
          0,
          0,
          0,
          0,
          0,
          0,
          0,
          0,
          0,
          0,
          0,
          0,
          0,
          0,
          0,
          0,
          0,
          0,
          0,
          0,
          0,
          0,
          0,
          0
         ]
        },
        {
         "line": {
          "color": "gray",
          "width": 3
         },
         "mode": "lines",
         "name": "x line",
         "opacity": 0.1,
         "type": "scatter3d",
         "x": [
          1,
          -1
         ],
         "y": [
          0,
          0
         ],
         "z": [
          0,
          0
         ]
        },
        {
         "line": {
          "color": "gray",
          "width": 3
         },
         "mode": "lines",
         "name": "y line",
         "opacity": 0.1,
         "type": "scatter3d",
         "x": [
          0,
          0
         ],
         "y": [
          1,
          -1
         ],
         "z": [
          0,
          0
         ]
        },
        {
         "line": {
          "color": "gray",
          "width": 3
         },
         "mode": "lines",
         "name": "z line",
         "opacity": 0.1,
         "type": "scatter3d",
         "x": [
          0,
          0
         ],
         "y": [
          0,
          0
         ],
         "z": [
          1,
          -1
         ]
        },
        {
         "mode": "text",
         "name": "|0⟩",
         "text": [
          "|0⟩"
         ],
         "textposition": "middle center",
         "type": "scatter3d",
         "x": [
          0
         ],
         "y": [
          0
         ],
         "z": [
          1
         ]
        },
        {
         "mode": "text",
         "name": "|1⟩",
         "text": [
          "|1⟩"
         ],
         "textposition": "middle center",
         "type": "scatter3d",
         "x": [
          0
         ],
         "y": [
          0
         ],
         "z": [
          -1
         ]
        },
        {
         "mode": "text",
         "name": "|+⟩",
         "text": [
          "|+⟩"
         ],
         "textposition": "middle center",
         "type": "scatter3d",
         "x": [
          1
         ],
         "y": [
          0
         ],
         "z": [
          0
         ]
        },
        {
         "mode": "text",
         "name": "|‒⟩",
         "text": [
          "|‒⟩"
         ],
         "textposition": "middle center",
         "type": "scatter3d",
         "x": [
          -1
         ],
         "y": [
          0
         ],
         "z": [
          0
         ]
        },
        {
         "mode": "text",
         "name": "|i+⟩",
         "text": [
          "|i+⟩"
         ],
         "textposition": "middle center",
         "type": "scatter3d",
         "x": [
          0
         ],
         "y": [
          1
         ],
         "z": [
          0
         ]
        },
        {
         "mode": "text",
         "name": "|i‒⟩",
         "text": [
          "|i‒⟩"
         ],
         "textposition": "middle center",
         "type": "scatter3d",
         "x": [
          0
         ],
         "y": [
          -1
         ],
         "z": [
          0
         ]
        }
       ],
       "layout": {
        "scene": {
         "aspectmode": "cube",
         "xaxis": {
          "range": [
           -1,
           1
          ],
          "showbackground": false,
          "showgrid": false,
          "visible": false
         },
         "yaxis": {
          "range": [
           -1,
           1
          ],
          "showbackground": false,
          "showgrid": false,
          "visible": false
         },
         "zaxis": {
          "range": [
           -1,
           1
          ],
          "showbackground": false,
          "showgrid": false,
          "visible": false
         }
        },
        "showlegend": false,
        "template": {
         "data": {
          "bar": [
           {
            "error_x": {
             "color": "#2a3f5f"
            },
            "error_y": {
             "color": "#2a3f5f"
            },
            "marker": {
             "line": {
              "color": "#E5ECF6",
              "width": 0.5
             },
             "pattern": {
              "fillmode": "overlay",
              "size": 10,
              "solidity": 0.2
             }
            },
            "type": "bar"
           }
          ],
          "barpolar": [
           {
            "marker": {
             "line": {
              "color": "#E5ECF6",
              "width": 0.5
             },
             "pattern": {
              "fillmode": "overlay",
              "size": 10,
              "solidity": 0.2
             }
            },
            "type": "barpolar"
           }
          ],
          "carpet": [
           {
            "aaxis": {
             "endlinecolor": "#2a3f5f",
             "gridcolor": "white",
             "linecolor": "white",
             "minorgridcolor": "white",
             "startlinecolor": "#2a3f5f"
            },
            "baxis": {
             "endlinecolor": "#2a3f5f",
             "gridcolor": "white",
             "linecolor": "white",
             "minorgridcolor": "white",
             "startlinecolor": "#2a3f5f"
            },
            "type": "carpet"
           }
          ],
          "choropleth": [
           {
            "colorbar": {
             "outlinewidth": 0,
             "ticks": ""
            },
            "type": "choropleth"
           }
          ],
          "contour": [
           {
            "colorbar": {
             "outlinewidth": 0,
             "ticks": ""
            },
            "colorscale": [
             [
              0,
              "#0d0887"
             ],
             [
              0.1111111111111111,
              "#46039f"
             ],
             [
              0.2222222222222222,
              "#7201a8"
             ],
             [
              0.3333333333333333,
              "#9c179e"
             ],
             [
              0.4444444444444444,
              "#bd3786"
             ],
             [
              0.5555555555555556,
              "#d8576b"
             ],
             [
              0.6666666666666666,
              "#ed7953"
             ],
             [
              0.7777777777777778,
              "#fb9f3a"
             ],
             [
              0.8888888888888888,
              "#fdca26"
             ],
             [
              1,
              "#f0f921"
             ]
            ],
            "type": "contour"
           }
          ],
          "contourcarpet": [
           {
            "colorbar": {
             "outlinewidth": 0,
             "ticks": ""
            },
            "type": "contourcarpet"
           }
          ],
          "heatmap": [
           {
            "colorbar": {
             "outlinewidth": 0,
             "ticks": ""
            },
            "colorscale": [
             [
              0,
              "#0d0887"
             ],
             [
              0.1111111111111111,
              "#46039f"
             ],
             [
              0.2222222222222222,
              "#7201a8"
             ],
             [
              0.3333333333333333,
              "#9c179e"
             ],
             [
              0.4444444444444444,
              "#bd3786"
             ],
             [
              0.5555555555555556,
              "#d8576b"
             ],
             [
              0.6666666666666666,
              "#ed7953"
             ],
             [
              0.7777777777777778,
              "#fb9f3a"
             ],
             [
              0.8888888888888888,
              "#fdca26"
             ],
             [
              1,
              "#f0f921"
             ]
            ],
            "type": "heatmap"
           }
          ],
          "heatmapgl": [
           {
            "colorbar": {
             "outlinewidth": 0,
             "ticks": ""
            },
            "colorscale": [
             [
              0,
              "#0d0887"
             ],
             [
              0.1111111111111111,
              "#46039f"
             ],
             [
              0.2222222222222222,
              "#7201a8"
             ],
             [
              0.3333333333333333,
              "#9c179e"
             ],
             [
              0.4444444444444444,
              "#bd3786"
             ],
             [
              0.5555555555555556,
              "#d8576b"
             ],
             [
              0.6666666666666666,
              "#ed7953"
             ],
             [
              0.7777777777777778,
              "#fb9f3a"
             ],
             [
              0.8888888888888888,
              "#fdca26"
             ],
             [
              1,
              "#f0f921"
             ]
            ],
            "type": "heatmapgl"
           }
          ],
          "histogram": [
           {
            "marker": {
             "pattern": {
              "fillmode": "overlay",
              "size": 10,
              "solidity": 0.2
             }
            },
            "type": "histogram"
           }
          ],
          "histogram2d": [
           {
            "colorbar": {
             "outlinewidth": 0,
             "ticks": ""
            },
            "colorscale": [
             [
              0,
              "#0d0887"
             ],
             [
              0.1111111111111111,
              "#46039f"
             ],
             [
              0.2222222222222222,
              "#7201a8"
             ],
             [
              0.3333333333333333,
              "#9c179e"
             ],
             [
              0.4444444444444444,
              "#bd3786"
             ],
             [
              0.5555555555555556,
              "#d8576b"
             ],
             [
              0.6666666666666666,
              "#ed7953"
             ],
             [
              0.7777777777777778,
              "#fb9f3a"
             ],
             [
              0.8888888888888888,
              "#fdca26"
             ],
             [
              1,
              "#f0f921"
             ]
            ],
            "type": "histogram2d"
           }
          ],
          "histogram2dcontour": [
           {
            "colorbar": {
             "outlinewidth": 0,
             "ticks": ""
            },
            "colorscale": [
             [
              0,
              "#0d0887"
             ],
             [
              0.1111111111111111,
              "#46039f"
             ],
             [
              0.2222222222222222,
              "#7201a8"
             ],
             [
              0.3333333333333333,
              "#9c179e"
             ],
             [
              0.4444444444444444,
              "#bd3786"
             ],
             [
              0.5555555555555556,
              "#d8576b"
             ],
             [
              0.6666666666666666,
              "#ed7953"
             ],
             [
              0.7777777777777778,
              "#fb9f3a"
             ],
             [
              0.8888888888888888,
              "#fdca26"
             ],
             [
              1,
              "#f0f921"
             ]
            ],
            "type": "histogram2dcontour"
           }
          ],
          "mesh3d": [
           {
            "colorbar": {
             "outlinewidth": 0,
             "ticks": ""
            },
            "type": "mesh3d"
           }
          ],
          "parcoords": [
           {
            "line": {
             "colorbar": {
              "outlinewidth": 0,
              "ticks": ""
             }
            },
            "type": "parcoords"
           }
          ],
          "pie": [
           {
            "automargin": true,
            "type": "pie"
           }
          ],
          "scatter": [
           {
            "fillpattern": {
             "fillmode": "overlay",
             "size": 10,
             "solidity": 0.2
            },
            "type": "scatter"
           }
          ],
          "scatter3d": [
           {
            "line": {
             "colorbar": {
              "outlinewidth": 0,
              "ticks": ""
             }
            },
            "marker": {
             "colorbar": {
              "outlinewidth": 0,
              "ticks": ""
             }
            },
            "type": "scatter3d"
           }
          ],
          "scattercarpet": [
           {
            "marker": {
             "colorbar": {
              "outlinewidth": 0,
              "ticks": ""
             }
            },
            "type": "scattercarpet"
           }
          ],
          "scattergeo": [
           {
            "marker": {
             "colorbar": {
              "outlinewidth": 0,
              "ticks": ""
             }
            },
            "type": "scattergeo"
           }
          ],
          "scattergl": [
           {
            "marker": {
             "colorbar": {
              "outlinewidth": 0,
              "ticks": ""
             }
            },
            "type": "scattergl"
           }
          ],
          "scattermapbox": [
           {
            "marker": {
             "colorbar": {
              "outlinewidth": 0,
              "ticks": ""
             }
            },
            "type": "scattermapbox"
           }
          ],
          "scatterpolar": [
           {
            "marker": {
             "colorbar": {
              "outlinewidth": 0,
              "ticks": ""
             }
            },
            "type": "scatterpolar"
           }
          ],
          "scatterpolargl": [
           {
            "marker": {
             "colorbar": {
              "outlinewidth": 0,
              "ticks": ""
             }
            },
            "type": "scatterpolargl"
           }
          ],
          "scatterternary": [
           {
            "marker": {
             "colorbar": {
              "outlinewidth": 0,
              "ticks": ""
             }
            },
            "type": "scatterternary"
           }
          ],
          "surface": [
           {
            "colorbar": {
             "outlinewidth": 0,
             "ticks": ""
            },
            "colorscale": [
             [
              0,
              "#0d0887"
             ],
             [
              0.1111111111111111,
              "#46039f"
             ],
             [
              0.2222222222222222,
              "#7201a8"
             ],
             [
              0.3333333333333333,
              "#9c179e"
             ],
             [
              0.4444444444444444,
              "#bd3786"
             ],
             [
              0.5555555555555556,
              "#d8576b"
             ],
             [
              0.6666666666666666,
              "#ed7953"
             ],
             [
              0.7777777777777778,
              "#fb9f3a"
             ],
             [
              0.8888888888888888,
              "#fdca26"
             ],
             [
              1,
              "#f0f921"
             ]
            ],
            "type": "surface"
           }
          ],
          "table": [
           {
            "cells": {
             "fill": {
              "color": "#EBF0F8"
             },
             "line": {
              "color": "white"
             }
            },
            "header": {
             "fill": {
              "color": "#C8D4E3"
             },
             "line": {
              "color": "white"
             }
            },
            "type": "table"
           }
          ]
         },
         "layout": {
          "annotationdefaults": {
           "arrowcolor": "#2a3f5f",
           "arrowhead": 0,
           "arrowwidth": 1
          },
          "autotypenumbers": "strict",
          "coloraxis": {
           "colorbar": {
            "outlinewidth": 0,
            "ticks": ""
           }
          },
          "colorscale": {
           "diverging": [
            [
             0,
             "#8e0152"
            ],
            [
             0.1,
             "#c51b7d"
            ],
            [
             0.2,
             "#de77ae"
            ],
            [
             0.3,
             "#f1b6da"
            ],
            [
             0.4,
             "#fde0ef"
            ],
            [
             0.5,
             "#f7f7f7"
            ],
            [
             0.6,
             "#e6f5d0"
            ],
            [
             0.7,
             "#b8e186"
            ],
            [
             0.8,
             "#7fbc41"
            ],
            [
             0.9,
             "#4d9221"
            ],
            [
             1,
             "#276419"
            ]
           ],
           "sequential": [
            [
             0,
             "#0d0887"
            ],
            [
             0.1111111111111111,
             "#46039f"
            ],
            [
             0.2222222222222222,
             "#7201a8"
            ],
            [
             0.3333333333333333,
             "#9c179e"
            ],
            [
             0.4444444444444444,
             "#bd3786"
            ],
            [
             0.5555555555555556,
             "#d8576b"
            ],
            [
             0.6666666666666666,
             "#ed7953"
            ],
            [
             0.7777777777777778,
             "#fb9f3a"
            ],
            [
             0.8888888888888888,
             "#fdca26"
            ],
            [
             1,
             "#f0f921"
            ]
           ],
           "sequentialminus": [
            [
             0,
             "#0d0887"
            ],
            [
             0.1111111111111111,
             "#46039f"
            ],
            [
             0.2222222222222222,
             "#7201a8"
            ],
            [
             0.3333333333333333,
             "#9c179e"
            ],
            [
             0.4444444444444444,
             "#bd3786"
            ],
            [
             0.5555555555555556,
             "#d8576b"
            ],
            [
             0.6666666666666666,
             "#ed7953"
            ],
            [
             0.7777777777777778,
             "#fb9f3a"
            ],
            [
             0.8888888888888888,
             "#fdca26"
            ],
            [
             1,
             "#f0f921"
            ]
           ]
          },
          "colorway": [
           "#636efa",
           "#EF553B",
           "#00cc96",
           "#ab63fa",
           "#FFA15A",
           "#19d3f3",
           "#FF6692",
           "#B6E880",
           "#FF97FF",
           "#FECB52"
          ],
          "font": {
           "color": "#2a3f5f"
          },
          "geo": {
           "bgcolor": "white",
           "lakecolor": "white",
           "landcolor": "#E5ECF6",
           "showlakes": true,
           "showland": true,
           "subunitcolor": "white"
          },
          "hoverlabel": {
           "align": "left"
          },
          "hovermode": "closest",
          "mapbox": {
           "style": "light"
          },
          "paper_bgcolor": "white",
          "plot_bgcolor": "#E5ECF6",
          "polar": {
           "angularaxis": {
            "gridcolor": "white",
            "linecolor": "white",
            "ticks": ""
           },
           "bgcolor": "#E5ECF6",
           "radialaxis": {
            "gridcolor": "white",
            "linecolor": "white",
            "ticks": ""
           }
          },
          "scene": {
           "xaxis": {
            "backgroundcolor": "#E5ECF6",
            "gridcolor": "white",
            "gridwidth": 2,
            "linecolor": "white",
            "showbackground": true,
            "ticks": "",
            "zerolinecolor": "white"
           },
           "yaxis": {
            "backgroundcolor": "#E5ECF6",
            "gridcolor": "white",
            "gridwidth": 2,
            "linecolor": "white",
            "showbackground": true,
            "ticks": "",
            "zerolinecolor": "white"
           },
           "zaxis": {
            "backgroundcolor": "#E5ECF6",
            "gridcolor": "white",
            "gridwidth": 2,
            "linecolor": "white",
            "showbackground": true,
            "ticks": "",
            "zerolinecolor": "white"
           }
          },
          "shapedefaults": {
           "line": {
            "color": "#2a3f5f"
           }
          },
          "ternary": {
           "aaxis": {
            "gridcolor": "white",
            "linecolor": "white",
            "ticks": ""
           },
           "baxis": {
            "gridcolor": "white",
            "linecolor": "white",
            "ticks": ""
           },
           "bgcolor": "#E5ECF6",
           "caxis": {
            "gridcolor": "white",
            "linecolor": "white",
            "ticks": ""
           }
          },
          "title": {
           "x": 0.05
          },
          "xaxis": {
           "automargin": true,
           "gridcolor": "white",
           "linecolor": "white",
           "ticks": "",
           "title": {
            "standoff": 15
           },
           "zerolinecolor": "white",
           "zerolinewidth": 2
          },
          "yaxis": {
           "automargin": true,
           "gridcolor": "white",
           "linecolor": "white",
           "ticks": "",
           "title": {
            "standoff": 15
           },
           "zerolinecolor": "white",
           "zerolinewidth": 2
          }
         }
        }
       }
      }
     },
     "metadata": {},
     "output_type": "display_data"
    }
   ],
   "source": [
    "from math import pi\n",
    "\n",
    "# Instanciando um novo do processo quântico\n",
    "processo = Process()\n",
    "\n",
    "# Alocação de um qubit\n",
    "qubits = processo.alloc()\n",
    "\n",
    "porta_H = cat(RY(pi / 2), RX(pi))\n",
    "porta_X = cat(porta_H, RZ(pi), porta_H)\n",
    "\n",
    "porta_X(qubits)\n",
    "\n",
    "bloch_sphere(qubits)  # Mostra o Bloch Sphere"
   ]
  },
  {
   "cell_type": "markdown",
   "metadata": {},
   "source": [
    "### Portas de 2 Qubits\n",
    "\n",
    "Para explorar todo o potencial da computação quântica, é necessário utilizar o conceito de entrelaçamento, o qual requer o uso de portas que operam em dois qubits, como a {func}`~ket.gates.CNOT`. Junto com as portas de 1 qubit apresentadas anteriormente, a porta {func}`~ket.gates.CNOT` forma um conjunto universal de portas lógicas quânticas. Além disso, o Ket oferece outras portas para facilitar a implementação de algoritmos quânticos, tais como {func}`~ket.gates.SWAP`, {func}`~ket.gates.RXX`, {func}`~ket.gates.RYY` e {func}`~ket.gates.RZZ`.\n",
    "\n",
    "Para exemplificar o uso de portas controladas, vamos criar um estado de Bell $\\frac{1}{\\sqrt{2}}(\\ket{00}+\\ket{11})$. Para isso, podemos utilizar a porta {func}`~ket.gates.CNOT`.\n",
    "\n",
    ":::{tip}\n",
    "Como a geração de entrelaçamento requer dois ou mais qubits, não podemos mais utilizar a função `bloch_sphere`. No entanto, podemos usar a função `print_state` para imprimir o estado quântico com a combinação linear dos estados da base computacional. É importante observar que a função `print_state` não faz parte do Ket.\n",
    ":::\n"
   ]
  },
  {
   "cell_type": "code",
   "execution_count": 10,
   "metadata": {},
   "outputs": [
    {
     "data": {
      "text/latex": [
       "$\\displaystyle \\frac{1}{\\sqrt{2}} \\left|00\\right>+\\frac{1}{\\sqrt{2}} \\left|11\\right>$"
      ],
      "text/plain": [
       "<IPython.core.display.Math object>"
      ]
     },
     "metadata": {},
     "output_type": "display_data"
    }
   ],
   "source": [
    "# Instanciando um novo  processo quântico\n",
    "p = Process()\n",
    "\n",
    "# Alocação de dois qubits\n",
    "a, b = p.alloc(2)\n",
    "\n",
    "# Aplicando a porta Hadamard em 'a' para criar superposição\n",
    "H(a)\n",
    "\n",
    "# Aplicando a porta CNOT controlada por 'a' e alvo 'b'\n",
    "# para criar o estado de Bell\n",
    "CNOT(a, b)\n",
    "\n",
    "# Imprimindo o estado do sistema\n",
    "print_state(a + b)"
   ]
  },
  {
   "cell_type": "markdown",
   "metadata": {},
   "source": [
    "Assim como acontece com portas de 1 qubit, é possível concatenar operações com portas de 2 qubits, como exemplificado no código abaixo que preparar o estado de Bell:"
   ]
  },
  {
   "cell_type": "code",
   "execution_count": 11,
   "metadata": {},
   "outputs": [
    {
     "data": {
      "text/latex": [
       "$\\displaystyle \\frac{1}{\\sqrt{2}} \\left|00\\right>+\\frac{1}{\\sqrt{2}} \\left|11\\right>$"
      ],
      "text/plain": [
       "<IPython.core.display.Math object>"
      ]
     },
     "metadata": {},
     "output_type": "display_data"
    }
   ],
   "source": [
    "# Instanciando um novo processo quântico\n",
    "p = Process()\n",
    "\n",
    "# Alocação de dois qubits\n",
    "a, b = p.alloc(2)\n",
    "\n",
    "# Aplicando a porta CNOT controlada por 'a' e alvo 'b'\n",
    "# após a aplicação da porta Hadamard em 'a'\n",
    "CNOT(H(a), b)\n",
    "\n",
    "# Imprimindo o estado do sistema\n",
    "print_state(a + b)"
   ]
  },
  {
   "cell_type": "markdown",
   "metadata": {},
   "source": [
    "#### Produto Tensorial de Portas\n",
    "\n",
    "É possível criar portas de múltiplos qubits usando o produto tensorial com a função {func}`~ket.operations.kron`. Esta função aceita múltiplas portas como argumento e gera uma nova porta lógica para múltiplos qubits. É importante notar que, como esta função utiliza o produto tensorial, a porta resultante não tem a capacidade de gerar entrelaçamento. No entanto, a função {func}`~ket.operations.kron` nos permite ter uma maior expressividade na manipulação de portas lógicas quânticas.\n",
    "\n",
    "Por exemplo, podemos utilizar a função {func}`~ket.operations.kron` em conjunto com a função {func}`~ket.operations.cat` para criar uma nova porta de dois qubits que prepara um estado de Bell, como no exemplo abaixo:"
   ]
  },
  {
   "cell_type": "code",
   "execution_count": 12,
   "metadata": {},
   "outputs": [
    {
     "data": {
      "text/latex": [
       "$\\displaystyle \\frac{1}{\\sqrt{2}} \\left|00\\right>+\\frac{1}{\\sqrt{2}} \\left|11\\right>$"
      ],
      "text/plain": [
       "<IPython.core.display.Math object>"
      ]
     },
     "metadata": {},
     "output_type": "display_data"
    }
   ],
   "source": [
    "# Instanciando um novo processo quântico\n",
    "p = Process()\n",
    "\n",
    "# Alocação de dois qubits\n",
    "a, b = p.alloc(2)\n",
    "\n",
    "# Concatenando as operações para preparar o estado de Bell\n",
    "bell = cat(kron(H, I), CNOT)\n",
    "bell(a, b)\n",
    "\n",
    "# Imprimindo o estado do sistema\n",
    "print_state(a + b)"
   ]
  },
  {
   "cell_type": "markdown",
   "metadata": {},
   "source": [
    "Neste exemplo, a operação `kron(H, I)` cria uma porta de dois qubits com a operação Hadamard aplicada a `a` e a identidade aplicada a `b`, enquanto a operação `CNOT` é aplicada como uma operação controlada entre `a` e `b`. Isso resulta na preparação do estado de Bell nos qubits `a` e `b`.\""
   ]
  },
  {
   "cell_type": "markdown",
   "metadata": {},
   "source": [
    "## Instruções Quânticas\n",
    "\n",
    "Além das portas lógicas quânticas apresentadas, o Ket oferece instruções que exploram a especificidade da computação quântica para facilitar a programação.\n",
    "\n",
    "### Operações Controladas\n",
    "\n",
    "É comum construir portas lógicas quânticas de múltiplos qubits adicionando qubits de controle a portas já existentes. No Libket, a biblioteca de tempo de execução do Ket, apenas portas de 1 qubit são implementadas, mas permitem a adição de controles a elas. Por exemplo, podemos criar a porta {func}`~ket.gates.CNOT` a partir da porta {func}`~ket.gates.X`. No Ket, as operações controladas são aplicadas apenas se todos os qubits de controle estiverem no estado $\\ket{1}$.\n",
    "\n",
    "Existem duas maneiras de realizar operações controladas no Ket: utilizando a instrução `with` {func}`~ket.operations.control` para criar um contexto controlado ou utilizando a função {func}`~ket.operations.ctrl` para criar uma nova porta controlada. Abaixo estão exemplos de como criar as portas CNOT, Toffoli (CCNOT), SWAP e Fredkin (CSWAP) a partir da porta {func}`~ket.gates.X`:\n"
   ]
  },
  {
   "cell_type": "code",
   "execution_count": 13,
   "metadata": {},
   "outputs": [],
   "source": [
    "processo = Process()\n",
    "\n",
    "a, b, c = processo.alloc(3)\n",
    "\n",
    "# CNOT(a, b)\n",
    "ctrl(a, X)(b)\n",
    "# ou\n",
    "with control(a):\n",
    "    X(b)\n",
    "\n",
    "# Toffoli(a, b, c)\n",
    "ctrl(a + b, X)(c)\n",
    "# ou\n",
    "with control(a + b):\n",
    "    X(c)\n",
    "\n",
    "# SWAP(a, b)\n",
    "ctrl(a, X)(b)\n",
    "ctrl(b, X)(a)\n",
    "ctrl(a, X)(b)\n",
    "\n",
    "# Fredkin(a, b, c)\n",
    "with control(a):\n",
    "    ctrl(b, X)(c)\n",
    "    ctrl(c, X)(b)\n",
    "    ctrl(b, X)(c)"
   ]
  },
  {
   "cell_type": "markdown",
   "metadata": {},
   "source": [
    "### Exercício: Implementando o Estado GHZ com a Função `ctrl`\n",
    "\n",
    "Neste exercício, o objetivo é usar a função {func}`ket.operations.ctrl` para implementar uma porta quântica que prepara o estado GHZ de $n$ qubits.\n",
    "\n",
    "O estado GHZ é definido como:\n",
    "\n",
    "$$\n",
    "\\begin{aligned}\n",
    "\\ket{\\text{GHZ}} &= \\frac{1}{\\sqrt{2}}(\\ket{0}^{\\otimes n} + \\ket{1}^{\\otimes n})  \\\\\n",
    "&= \\frac{1}{\\sqrt{2}}(\\ket{0} \\otimes \\ket{0} \\otimes \\cdots \\otimes \\ket{0} + \\ket{1} \\otimes \\ket{1} \\otimes \\cdots \\otimes \\ket{1})\n",
    "\\end{aligned}\n",
    "$$\n",
    "\n",
    "Para implementar essa funcionalidade, você precisa completar a função `ghz` que recebe um objeto {class}`~ket.base.Quant` representando os qubits e realiza as operações necessárias para preparar o estado GHZ."
   ]
  },
  {
   "cell_type": "code",
   "execution_count": 14,
   "metadata": {},
   "outputs": [
    {
     "data": {
      "text/latex": [
       "$\\displaystyle  \\left|0000000000\\right>$"
      ],
      "text/plain": [
       "<IPython.core.display.Math object>"
      ]
     },
     "metadata": {},
     "output_type": "display_data"
    }
   ],
   "source": [
    "def ghz(qubits: Quant):\n",
    "    # Implemente aqui a função ghz usando a função ctrl\n",
    "    ...\n",
    "\n",
    "\n",
    "n = 10\n",
    "\n",
    "processo = Process()\n",
    "qubits = processo.alloc(n)\n",
    "\n",
    "ghz(qubits)\n",
    "\n",
    "print_state(qubits)"
   ]
  },
  {
   "cell_type": "markdown",
   "metadata": {},
   "source": [
    "\n",
    "A função {func}`~ket.operations.ctrl` recebe dois argumentos: um objeto do tipo {class}`~ket.base.Quant` com os qubits de controle (sendo possível utilizar múltiplos qubits de controle) e uma função que atua como uma porta lógica quântica. É importante ressaltar que a função {func}`~ket.operations.ctrl` não está limitada a adicionar qubits de controle apenas às portas quânticas disponíveis no módulo {mod}`~ket.gates`, mas pode adicionar qubits de controle a qualquer função. Por exemplo, podemos implementar uma porta de Bell e adicionar qubits de controle a ela como no código abaixo."
   ]
  },
  {
   "cell_type": "code",
   "execution_count": 15,
   "metadata": {},
   "outputs": [
    {
     "data": {
      "text/latex": [
       "$\\displaystyle \\frac{1}{\\sqrt{2}} \\left|000\\right>+\\frac{1}{\\sqrt{4}} \\left|100\\right>+\\frac{1}{\\sqrt{4}} \\left|111\\right>$"
      ],
      "text/plain": [
       "<IPython.core.display.Math object>"
      ]
     },
     "metadata": {},
     "output_type": "display_data"
    }
   ],
   "source": [
    "def bell(a: Quant, b: Quant) -> tuple[Quant, Quant]:\n",
    "    \"\"\"\n",
    "    Implementa a preparação do estado de Bell entre dois qubits.\n",
    "\n",
    "    Parâmetros:\n",
    "        a (Quant): O primeiro qubit.\n",
    "        b (Quant): O segundo qubit.\n",
    "\n",
    "    Retorna:\n",
    "        tuple[Quant, Quant]: Os qubits de entrada a e b.\n",
    "\n",
    "    Observação:\n",
    "        Por convenção, as portas implementadas no Ket retornam os Quants de\n",
    "        entrada para facilitar a concatenação de portas.\n",
    "        No entanto, isso não é necessário.\n",
    "    \"\"\"\n",
    "    H(a)  # Aplica a porta Hadamard ao primeiro qubit\n",
    "    CNOT(a, b)  # Aplica a porta CNOT controlada pelo primeiro qubit 'a' e alvo 'b'\n",
    "    return a, b  # Retorna os qubits de entrada 'a' e 'b'\n",
    "\n",
    "\n",
    "# Instancia um novo processo quântico\n",
    "processo = Process()\n",
    "\n",
    "# Aloca três qubits 'a', 'b' e 'c'\n",
    "a, b, c = processo.alloc(3)\n",
    "\n",
    "# Aplica uma operação controlada com o qubit 'a' e a função bell aos qubits 'b' e 'c'\n",
    "ctrl(H(a), bell)(b, c)\n",
    "\n",
    "# Imprime o estado do sistema\n",
    "print_state(a + b + c)"
   ]
  },
  {
   "cell_type": "markdown",
   "metadata": {},
   "source": [
    "### Operações Inversas\n",
    "\n",
    "Com exceção das operações de medida, toda computação quântica é reversível, ou seja, para todas as portas lógicas quânticas existe uma operação inversa correspondente. Isso é explorado em diversos algoritmos quânticos. Por exemplo, o algoritmo de estimação de fase requer uma operação de transformada de Fourier quântica inversa. No entanto, podemos implementar a transformada normalmente no Ket e usar a função {func}`~ket.operations.adj` para criar a transformada inversa. Podemos ver isso em ação no código abaixo.\n",
    "\n",
    ":::{tip}\n",
    "O código abaixo apresenta algumas operações que ainda não foram vistas neste capítulo. Não se preocupe em entender o código, o objetivo é apenas ilustrar o uso da função {func}`~ket.operations.adj`.\n",
    ":::"
   ]
  },
  {
   "cell_type": "code",
   "execution_count": 16,
   "metadata": {},
   "outputs": [
    {
     "data": {
      "text/plain": [
       "3.141632080078125"
      ]
     },
     "execution_count": 16,
     "metadata": {},
     "output_type": "execute_result"
    }
   ],
   "source": [
    "from math import pi\n",
    "\n",
    "\n",
    "def qft(qubits: Quant, invert: bool = True):\n",
    "    if len(qubits) == 1:\n",
    "        H(qubits)\n",
    "    else:\n",
    "        *head, tail = qubits\n",
    "        H(tail)\n",
    "        for i, ctrl_qubit in enumerate(reversed(head)):\n",
    "            ctrl(ctrl_qubit, PHASE(pi / 2 ** (i + 1)))(tail)\n",
    "        qft(head, invert=False)\n",
    "    if invert:\n",
    "        size = len(qubits)\n",
    "        for i in range(size // 2):\n",
    "            SWAP(qubits[i], qubits[size - i - 1])\n",
    "\n",
    "\n",
    "def estimador_de_fase(oraculo, precisão: int) -> float:\n",
    "    assert precisão <= 20, \"o tempo de computação pode ser muito grande\"\n",
    "    p = Process(simulator=\"dense\", num_qubits=precisão + 1)\n",
    "    ctr = H(p.alloc(precisão))\n",
    "    tgr = X(p.alloc())\n",
    "    for i, c in enumerate(ctr):\n",
    "        ctrl(c, oraculo)(i, tgr)\n",
    "\n",
    "    adj(qft)(ctr)  # <- chada da transformada de Fourier quântica inversa\n",
    "\n",
    "    return measure(reversed(ctr)).value / 2**precisão\n",
    "\n",
    "\n",
    "fase = pi\n",
    "\n",
    "estimador_de_fase(\n",
    "    oraculo=lambda i, tgr: PHASE(2 * pi * (fase / 10) * 2**i, tgr),\n",
    "    precisão=18,\n",
    ") * 10"
   ]
  },
  {
   "cell_type": "markdown",
   "metadata": {},
   "source": [
    "\n",
    "Para realizar operações inversas, uma abordagem alternativa é empregar a instrução `with` {func}`~ket.operations.inverse`. Esta instrução cria um contexto onde as operações são executadas na ordem usual do Python, mas as portas lógicas quânticas são aplicadas de maneira inversa no estado quântico. Abaixo está um exemplo que demonstra o uso dessa instrução. Note que é necessário fornecer o {class}`~ket.base.Process` onde as operações inversas serão aplicadas.\n"
   ]
  },
  {
   "cell_type": "code",
   "execution_count": 17,
   "metadata": {},
   "outputs": [
    {
     "name": "stdout",
     "output_type": "stream",
     "text": [
      "Estado inicial:\n"
     ]
    },
    {
     "data": {
      "text/latex": [
       "$\\displaystyle  \\left|00\\right>$"
      ],
      "text/plain": [
       "<IPython.core.display.Math object>"
      ]
     },
     "metadata": {},
     "output_type": "display_data"
    },
    {
     "name": "stdout",
     "output_type": "stream",
     "text": [
      "Estado após a preparação:\n"
     ]
    },
    {
     "data": {
      "text/latex": [
       "$\\displaystyle \\frac{1}{\\sqrt{2}} \\left|00\\right>+\\frac{1}{\\sqrt{2}} \\left|11\\right>$"
      ],
      "text/plain": [
       "<IPython.core.display.Math object>"
      ]
     },
     "metadata": {},
     "output_type": "display_data"
    },
    {
     "name": "stdout",
     "output_type": "stream",
     "text": [
      "Estado após a inversão da preparação:\n"
     ]
    },
    {
     "data": {
      "text/latex": [
       "$\\displaystyle  \\left|00\\right>$"
      ],
      "text/plain": [
       "<IPython.core.display.Math object>"
      ]
     },
     "metadata": {},
     "output_type": "display_data"
    }
   ],
   "source": [
    "processo = Process()\n",
    "\n",
    "a, b = processo.alloc(2)\n",
    "\n",
    "print(\"Estado inicial:\")\n",
    "print_state(a + b)\n",
    "\n",
    "# Prepara o estado de Bell\n",
    "H(a)\n",
    "CNOT(a, b)\n",
    "\n",
    "print(\"Estado após a preparação:\")\n",
    "print_state(a + b)\n",
    "\n",
    "# Invertendo a preparação do estado de Bell\n",
    "with inverse(processo):\n",
    "    H(a)\n",
    "    CNOT(a, b)\n",
    "\n",
    "print(\"Estado após a inversão da preparação:\")\n",
    "print_state(a + b)"
   ]
  },
  {
   "cell_type": "markdown",
   "metadata": {},
   "source": [
    "### Operações $UVU^\\dagger$\n",
    "\n",
    "Uma construção comum em algoritmos quânticos é aplicar uma operação $U$ em torno de outra operação $V$, seguida pela operação inversa $U^\\dagger$. Essa sequência de operações é representada matematicamente como $UVU^\\dagger$.\n",
    "\n",
    "Um exemplo do uso desse tipo de construção está na implementação do difusor do algoritmo de Grover. Nele, uma operação controlada é envolta por portas de Hadamard. Aqui, as portas $U$ são as portas de Hadamard, e é importante observar que a Hadamard é sua própria inversa. A porta controlada é representada pela porta $V$.\n",
    "\n",
    ":::{figure} https://cnot.io/quantum_algorithms/grover/img/fig14.png\n",
    "\n",
    "Fonte: https://cnot.io.\n",
    ":::\n",
    "\n",
    "Para viabilizar essa construção no Ket, a instrução `with` {func}`~ket.operations.around` é oferecida. No exemplo abaixo, implementamos o difusor de Grover usando essa instrução. No circuito, a porta controlada é aplicada se os qubits estiverem no estado $\\ket{0}$, o que é diferente do comportamento padrão no Ket. Portanto, aplicamos portas X para inverter o controle."
   ]
  },
  {
   "cell_type": "code",
   "execution_count": 18,
   "metadata": {},
   "outputs": [],
   "source": [
    "def difusor(qubits: Quant, auxiliar: Quant):\n",
    "    with around(cat(H, X), qubits):\n",
    "        ctrl(qubits, X)(auxiliar)"
   ]
  },
  {
   "cell_type": "markdown",
   "metadata": {},
   "source": [
    "A título de comparação, a seguir está implementado o difusor de Grover sem usar a instrução `with` {func}`~ket.operations.around`. Além da redução do número de linhas, o uso de `with` {func}`~ket.operations.around` torna o código mais legível e menos propenso a erros, proporcionando uma implementação mais eficiente."
   ]
  },
  {
   "cell_type": "code",
   "execution_count": 19,
   "metadata": {},
   "outputs": [],
   "source": [
    "def difusor(qubits: Quant, auxiliar: Quant):\n",
    "    H(qubits)\n",
    "    X(qubits)\n",
    "    ctrl(qubits, X)(auxiliar)\n",
    "    X(qubits)\n",
    "    H(qubits)"
   ]
  },
  {
   "cell_type": "markdown",
   "metadata": {},
   "source": [
    "#### Alterando o Estado de Controle\n",
    "\n",
    "Por padrão, as operações quânticas são aplicadas apenas quando os qubits de controle estão no estado $\\ket{1}$. No entanto, em certos casos, precisamos alterar esse comportamento. Para isso, podemos usar a função {func}`ket.lib.flip_to_control` em conjunto com a instrução `with` {func}`~ket.operations.around` para mudar o estado de controle de uma operação quântica. \n",
    "\n",
    "O exemplo abaixo ilustra esse uso, onde queremos aplicar operações condicionais de acordo com os dados carregados. Neste exemplo, as operações condicionais são aplicadas nos qubits `qubits` com base nos dados carregados, e em seguida o emaranhamento é removido condicionalmente de acordo com esses mesmos dados.\n"
   ]
  },
  {
   "cell_type": "code",
   "execution_count": 20,
   "metadata": {},
   "outputs": [
    {
     "name": "stdout",
     "output_type": "stream",
     "text": [
      "Dados carregados:\n"
     ]
    },
    {
     "data": {
      "text/latex": [
       "$\\displaystyle \\frac{1}{\\sqrt{4}} \\left|11\\right>\\left|00\\right>+\\frac{1}{\\sqrt{4}} \\left|22\\right>\\left|01\\right>+\\frac{1}{\\sqrt{4}} \\left|33\\right>\\left|10\\right>+\\frac{1}{\\sqrt{4}} \\left|44\\right>\\left|11\\right>$"
      ],
      "text/plain": [
       "<IPython.core.display.Math object>"
      ]
     },
     "metadata": {},
     "output_type": "display_data"
    },
    {
     "name": "stdout",
     "output_type": "stream",
     "text": [
      "Emaranhamento removido condicionalmente:\n"
     ]
    },
    {
     "data": {
      "text/latex": [
       "$\\displaystyle \\frac{1}{\\sqrt{4}} \\left|11\\right>\\left|0\\right>+\\frac{1}{\\sqrt{4}} \\left|22\\right>\\left|0\\right>+\\frac{1}{\\sqrt{4}} \\left|33\\right>\\left|0\\right>+\\frac{1}{\\sqrt{4}} \\left|44\\right>\\left|0\\right>$"
      ],
      "text/plain": [
       "<IPython.core.display.Math object>"
      ]
     },
     "metadata": {},
     "output_type": "display_data"
    }
   ],
   "source": [
    "from ket import lib\n",
    "\n",
    "processo = Process()\n",
    "\n",
    "# Aloca qubits\n",
    "qubits = processo.alloc(8)\n",
    "aux = processo.alloc(2)\n",
    "\n",
    "# Dados para processamento\n",
    "dados = [11, 22, 33, 44]\n",
    "\n",
    "# Aplica a Hadamard no registrador auxiliar\n",
    "H(aux)\n",
    "\n",
    "# Aplica as operações condicionais com base nos dados\n",
    "for i, dado in enumerate(dados):\n",
    "    with around(lib.flip_to_control(i), aux):\n",
    "        with control(aux):\n",
    "            for state, qubit in zip(f\"{dado:0{len(qubits)}b}\", qubits):\n",
    "                if state == \"1\":\n",
    "                    X(qubit)\n",
    "\n",
    "print(\"Dados carregados:\")\n",
    "print_state(qubits, aux, format=[\"int\", \"bin\"])\n",
    "\n",
    "# Remove o emaranhamento condicionalmente com base nos dados\n",
    "for i, dado in enumerate(dados):\n",
    "    with around(lib.flip_to_control(dado), qubits):\n",
    "        with control(qubits):\n",
    "            for state, qubit in zip(f\"{i:0{len(aux)}b}\", aux):\n",
    "                if state == \"1\":\n",
    "                    X(qubit)\n",
    "\n",
    "print(\"Emaranhamento removido condicionalmente:\")\n",
    "print_state(qubits, aux, format=\"int\")"
   ]
  },
  {
   "cell_type": "markdown",
   "metadata": {},
   "source": [
    "#### Exercício: Reimplementando Portas Quânticas com `around`\n",
    "\n",
    "Neste exercício, sua tarefa é utilizar a instrução `with` {func}`~ket.operations.around` para reimplementar as portas lógicas quânticas {func}`~ket.gates.RXX`, {func}`~ket.gates.RYY` e {func}`~ket.gates.RZZ`. Use como base para a reimplementação o circuito quântico de decomposição de cada porta."
   ]
  },
  {
   "cell_type": "code",
   "execution_count": 21,
   "metadata": {
    "tags": [
     "hide-input"
    ]
   },
   "outputs": [
    {
     "data": {
      "text/latex": [
       "\\text{Porta Quântica RXX}(\\theta)"
      ],
      "text/plain": [
       "<IPython.core.display.Latex object>"
      ]
     },
     "metadata": {},
     "output_type": "display_data"
    },
    {
     "data": {
      "image/png": "[encoded data removed]",
      "text/plain": [
       "<Figure size 700x200 with 1 Axes>"
      ]
     },
     "metadata": {},
     "output_type": "display_data"
    }
   ],
   "source": [
    "def plot_rxx():\n",
    "    from sympy.physics.quantum.circuitplot import CircuitPlot, CreateOneQubitGate\n",
    "    from sympy.physics.quantum.gate import CNOT, H\n",
    "    from IPython.display import display, Latex\n",
    "\n",
    "    RZ = CreateOneQubitGate(\"RZ\", \"R_Z(\\\\theta)\")\n",
    "\n",
    "    display(Latex(r\"\\text{Porta Quântica RXX}(\\theta)\"))\n",
    "    CircuitPlot(H(1) * H(0) * CNOT(1, 0) * RZ(0) * CNOT(1, 0) * H(0) * H(1), 2)\n",
    "\n",
    "\n",
    "plot_rxx()"
   ]
  },
  {
   "cell_type": "code",
   "execution_count": 22,
   "metadata": {},
   "outputs": [],
   "source": [
    "def porta_rxx(theta: float, qubits: Quant):\n",
    "    # Implemente a portas RXX(ϴ)\n",
    "    ..."
   ]
  },
  {
   "cell_type": "code",
   "execution_count": 23,
   "metadata": {
    "tags": [
     "hide-input"
    ]
   },
   "outputs": [
    {
     "data": {
      "text/latex": [
       "\\text{Porta Quântica RZZ}(\\theta)"
      ],
      "text/plain": [
       "<IPython.core.display.Latex object>"
      ]
     },
     "metadata": {},
     "output_type": "display_data"
    },
    {
     "data": {
      "image/png": "[encoded data removed]",
      "text/plain": [
       "<Figure size 700x200 with 1 Axes>"
      ]
     },
     "metadata": {},
     "output_type": "display_data"
    }
   ],
   "source": [
    "def plot_ryy():\n",
    "    from sympy.physics.quantum.circuitplot import CircuitPlot, CreateOneQubitGate\n",
    "    from sympy.physics.quantum.gate import CNOT\n",
    "    from IPython.display import display, Latex\n",
    "\n",
    "    RZ = CreateOneQubitGate(\"RZ\", \"R_Z(\\\\theta)\")\n",
    "    RX_PI_2 = CreateOneQubitGate(\"RX(π/2)\", \"R_X(\\\\frac{\\\\pi}{2})\")\n",
    "    RX_mPI_2 = CreateOneQubitGate(\"RX(-π/2)\", \"R_X(\\\\frac{-\\\\pi}{2})\")\n",
    "\n",
    "    display(Latex(r\"\\text{Porta Quântica RZZ}(\\theta)\"))\n",
    "    CircuitPlot(\n",
    "        RX_mPI_2(1)\n",
    "        * RX_mPI_2(0)\n",
    "        * CNOT(1, 0)\n",
    "        * RZ(0)\n",
    "        * CNOT(1, 0)\n",
    "        * RX_PI_2(0)\n",
    "        * RX_PI_2(1),\n",
    "        2,\n",
    "    )\n",
    "\n",
    "\n",
    "plot_ryy()"
   ]
  },
  {
   "cell_type": "code",
   "execution_count": 24,
   "metadata": {},
   "outputs": [],
   "source": [
    "def porta_ryy(theta: float, qubits: Quant):\n",
    "    # Implemente a portas RYY(ϴ)\n",
    "    ..."
   ]
  },
  {
   "cell_type": "code",
   "execution_count": 25,
   "metadata": {
    "tags": [
     "hide-input"
    ]
   },
   "outputs": [
    {
     "data": {
      "text/latex": [
       "\\text{Porta Quântica RZZ}(\\theta)"
      ],
      "text/plain": [
       "<IPython.core.display.Latex object>"
      ]
     },
     "metadata": {},
     "output_type": "display_data"
    },
    {
     "data": {
      "image/png": "[encoded data removed]",
      "text/plain": [
       "<Figure size 300x200 with 1 Axes>"
      ]
     },
     "metadata": {},
     "output_type": "display_data"
    }
   ],
   "source": [
    "def plot_rzz():\n",
    "    from sympy.physics.quantum.circuitplot import CircuitPlot, CreateOneQubitGate\n",
    "    from sympy.physics.quantum.gate import CNOT, H\n",
    "    from IPython.display import display, Latex\n",
    "\n",
    "    RZ = CreateOneQubitGate(\"RZ\", \"R_Z(\\\\theta)\")\n",
    "\n",
    "    display(Latex(r\"\\text{Porta Quântica RZZ}(\\theta)\"))\n",
    "    CircuitPlot(CNOT(1, 0) * RZ(0) * CNOT(1, 0), 2)\n",
    "\n",
    "\n",
    "plot_rzz()"
   ]
  },
  {
   "cell_type": "code",
   "execution_count": 26,
   "metadata": {},
   "outputs": [],
   "source": [
    "def porta_rzz(theta: float, qubits: Quant):\n",
    "    # Implemente a portas RZZ(ϴ)\n",
    "    ..."
   ]
  },
  {
   "cell_type": "markdown",
   "metadata": {},
   "source": [
    "## Medidas\n",
    "\n",
    "Após realizar os cálculos na computação quântica, é necessário extrair os resultados para o ambiente clássico. Isso é feito por meio de medidas nos qubits. Nesta seção, exploraremos diferentes formas de medir qubits no Ket.\n",
    "\n",
    "### Extrair o Estado Quântico\n",
    "\n",
    "Ao simularmos um computador quântico, como fazemos neste capítulo, não estamos restritos às limitações da mecânica quântica. Assim, podemos extrair todo o estado quântico do simulador para manipulá-lo dentro do Python. Para isso, utilizamos a função {func}`~ket.operations.dump`, que retorna uma instância de {class}`~ket.base.QuantumState`.\n",
    "\n",
    "Com o objeto {class}`~ket.base.QuantumState`, é possível iterar sobre o estado quântico usando o atributo {attr}`~ket.base.QuantumState.states`. Neste atributo, o estado quântico é representado por um dicionário que mapeia o estado da base, representado por um número inteiro ({class}`int`), para sua amplitude de probabilidade associada, representada por um número complexo ({class}`complex`).\n",
    "\n",
    ":::{warning}\n",
    "A extração do {class}`~ket.base.QuantumState` só é possível quando estamos em um ambiente simulado. Além disso, o {class}`~ket.base.QuantumState` não tem a capacidade de representar estados mistos. Portanto, se o {class}`~ket.base.QuantumState` representar um qubit entrelaçado com um qubit que não pertence ao mesmo {class}`~ket.base.QuantumState`, a representação não será completa.\n",
    "\n",
    "Tendo isso em mente, o uso da função {func}`~ket.operations.dump` é uma ótima maneira de testar e debugar uma execução quântica. No entanto, não é recomendado substituir uma medida por esta abordagem.\n",
    ":::\n",
    "\n",
    "Além do atributo {attr}`~ket.base.QuantumState.states`, é possível acessar o atributo {attr}`~ket.base.QuantumState.probabilities` para obter as probabilidades de medida. Também podemos utilizar o método {meth}`~ket.base.QuantumState.sample` para simular uma amostragem a partir do {class}`~ket.base.QuantumState`.\n",
    "\n",
    "Abaixo, seguem exemplos de como utilizar a função {func}`~ket.operations.dump` para extrair o estado quântico e iterar sobre ele através do atributo {attr}`~ket.base.QuantumState.states`."
   ]
  },
  {
   "cell_type": "code",
   "execution_count": 27,
   "metadata": {},
   "outputs": [
    {
     "name": "stdout",
     "output_type": "stream",
     "text": [
      "(0.7071067811865476+0j) |0⟩\n",
      "(0.7071067811865476+0j) |3⟩\n"
     ]
    }
   ],
   "source": [
    "processo = Process()\n",
    "\n",
    "qubits = processo.alloc(2)\n",
    "\n",
    "# prepara estado de Bell\n",
    "cat(kron(H, I), CNOT)(*qubits)\n",
    "\n",
    "estado_quântico = dump(qubits)\n",
    "\n",
    "for estado, amplitude in estado_quântico.states.items():\n",
    "    print(f\"{amplitude} |{estado}⟩\")"
   ]
  },
  {
   "cell_type": "markdown",
   "metadata": {},
   "source": [
    "Uma maneira alternativa de exibir o estado quântico é utilizando o método {meth}`~ket.base.QuantumState.show` da classe {class}`~ket.base.QuantumState`."
   ]
  },
  {
   "cell_type": "code",
   "execution_count": 28,
   "metadata": {},
   "outputs": [
    {
     "name": "stdout",
     "output_type": "stream",
     "text": [
      "|00⟩\t(50.00%)\n",
      " 0.707107       \t≅      1/√2\n",
      "|11⟩\t(50.00%)\n",
      " 0.707107       \t≅      1/√2\n"
     ]
    }
   ],
   "source": [
    "print(estado_quântico.show())"
   ]
  },
  {
   "cell_type": "markdown",
   "metadata": {},
   "source": [
    "### Medição de Qubits\n",
    "\n",
    "A função {func}`~ket.operations.measure` é utilizada para medir qubits na base computacional, resultando em um objeto do tipo {class}`~ket.base.Measurement`. Após a medição, o estado do qubit colapsa para o estado correspondente à medida realizada. Para extrair o resultado da medida, basta acessar o atributo {attr}`~ket.base.Measurement.value`, o qual retorna um número inteiro sem sinal. É importante observar que o qubit de índice 0 corresponde ao bit de maior magnitude no resultado final. Portanto, a medição dos qubits $\\ket{\\texttt{xyz}}$ resulta no número binário $\\texttt{0b}\\texttt{xyz}$.\n",
    "\n",
    "Abaixo está um exemplo de uso da função {func}`~ket.operations.measure`. Neste exemplo, estamos medindo o primeiro qubit após a preparação do estado de Bell e exibindo o resultado da medida."
   ]
  },
  {
   "cell_type": "code",
   "execution_count": 29,
   "metadata": {},
   "outputs": [
    {
     "name": "stdout",
     "output_type": "stream",
     "text": [
      "Estado quântico antes da medida\n"
     ]
    },
    {
     "data": {
      "text/latex": [
       "$\\displaystyle \\frac{1}{\\sqrt{2}} \\left|00\\right>+\\frac{1}{\\sqrt{2}} \\left|11\\right>$"
      ],
      "text/plain": [
       "<IPython.core.display.Math object>"
      ]
     },
     "metadata": {},
     "output_type": "display_data"
    },
    {
     "name": "stdout",
     "output_type": "stream",
     "text": [
      "Resultado da medida do primeiro qubit: 0\n",
      "Estado quântico após o colapso\n"
     ]
    },
    {
     "data": {
      "text/latex": [
       "$\\displaystyle  \\left|00\\right>$"
      ],
      "text/plain": [
       "<IPython.core.display.Math object>"
      ]
     },
     "metadata": {},
     "output_type": "display_data"
    }
   ],
   "source": [
    "processo = Process()\n",
    "\n",
    "qubits = processo.alloc(2)\n",
    "\n",
    "# Preparando o estado de Bell\n",
    "cat(kron(H, I), CNOT)(*qubits)\n",
    "\n",
    "estado_quântico = dump(qubits)\n",
    "\n",
    "print(\"Estado quântico antes da medida\")\n",
    "print_state(qubits)\n",
    "\n",
    "medida = measure(qubits[0])\n",
    "print(\"Resultado da medida do primeiro qubit:\", medida.value)\n",
    "\n",
    "print(\"Estado quântico após o colapso\")\n",
    "print_state(qubits)"
   ]
  },
  {
   "cell_type": "markdown",
   "metadata": {},
   "source": [
    "#### Exercício: Medidas em Outras Bases\n",
    "\n",
    "Os computadores quânticos normalmente realizam medidas apenas na base computacional (base Z). No entanto, aplicando algumas operações quânticas, é possível realizar medidas em outras bases. Neste exercício, exploraremos medidas nas bases X e Y.\n",
    "\n",
    "**Medidas na Base X (Hadamard):**\n",
    "\n",
    "Na base X, também conhecida como base de Hadamard, a medida de um qubit no estado $\\frac{1}{\\sqrt{2}}(\\ket{0}+\\ket{1})$ retorna 0, e a medida no estado $\\frac{1}{\\sqrt{2}}(\\ket{0}-\\ket{1})$ retorna 1. Implemente as rotações necessárias nos qubits para efetuar uma medida na base computacional usando a função {func}`~ket.operations.measure`.\n",
    "\n"
   ]
  },
  {
   "cell_type": "code",
   "execution_count": 39,
   "metadata": {},
   "outputs": [],
   "source": [
    "def medir_x(qubit: Quant) -> int: ...\n",
    "\n",
    "\n",
    "def verificar_medir_x():\n",
    "    processo = Process()\n",
    "\n",
    "    a, b = processo.alloc(2)\n",
    "    X(b)\n",
    "    H(a + b)\n",
    "\n",
    "    assert medir_x(a) == 0\n",
    "    assert medir_x(b) == 1\n",
    "    print(\"Verificação concluída com sucesso\")\n",
    "\n",
    "\n",
    "# verificar_medir_x()"
   ]
  },
  {
   "cell_type": "markdown",
   "metadata": {},
   "source": [
    "**Medidas na Base Y:**\n",
    "\n",
    "Na base Y, a medida de um qubit no estado $\\frac{1}{\\sqrt{2}}(\\ket{0}+i\\ket{1})$ retorna 0, e a medida no estado $\\frac{1}{\\sqrt{2}}(\\ket{0}-i\\ket{1})$ retorna 1. Implemente as rotações necessárias nos qubits para efetuar uma medida na base computacional usando a função {func}`~ket.operations.measure`."
   ]
  },
  {
   "cell_type": "code",
   "execution_count": 43,
   "metadata": {},
   "outputs": [],
   "source": [
    "def medir_y(qubit: Quant) -> int: ...\n",
    "\n",
    "\n",
    "def verificar_medir_y():\n",
    "    processo = Process()\n",
    "\n",
    "    a, b = processo.alloc(2)\n",
    "    X(b)\n",
    "    S(H(a + b))\n",
    "\n",
    "    assert medir_y(a) == 0\n",
    "    assert medir_y(b) == 1\n",
    "    print(\"Verificação concluída com sucesso\")\n",
    "\n",
    "\n",
    "# verificar_medir_y()"
   ]
  },
  {
   "cell_type": "markdown",
   "metadata": {},
   "source": [
    "### Amostragem de Qubits\n",
    "\n",
    "Muitos algoritmos quânticos dependem não apenas de uma medida exata, mas de uma distribuição de probabilidades. Portanto, é necessário executar várias medições em vez de apenas uma. Muitos computadores quânticos implementam esse comportamento, e o Ket oferece a função {func}`~ket.operations.sample`, que retorna uma instância de {class}`~ket.base.Samples` com os resultados das medições. Para acessar o resultado, basta ler o atributo {attr}`~ket.base.Samples.value`, que retorna um dicionário mapeando o estado medido ao número de vezes que esse estado foi observado.\n",
    "\n",
    ":::{attention}\n",
    "Nos simuladores padrão do Ket o estado quântico não é colapsado após a chamada da função {func}`~ket.operations.sample`, e os qubits permanecem disponíveis para outras operações. No entanto, esse comportamento não é garantido em computadores quânticos reais, onde os qubits normalmente se tornam indisponíveis após a medição.\n",
    ":::\n",
    "\n",
    "A seguir, apresentamos um exemplo de uso da função {func}`~ket.operations.sample`:"
   ]
  },
  {
   "cell_type": "code",
   "execution_count": 32,
   "metadata": {},
   "outputs": [
    {
     "name": "stdout",
     "output_type": "stream",
     "text": [
      "Estado quântico\n"
     ]
    },
    {
     "data": {
      "text/latex": [
       "$\\displaystyle \\frac{1}{\\sqrt{2}} \\left|0\\right>+\\frac{1}{\\sqrt{2}} \\left|3\\right>$"
      ],
      "text/plain": [
       "<IPython.core.display.Math object>"
      ]
     },
     "metadata": {},
     "output_type": "display_data"
    },
    {
     "name": "stdout",
     "output_type": "stream",
     "text": [
      "Resultado das medidas: {0: 1016, 3: 1032}\n"
     ]
    }
   ],
   "source": [
    "processo = Process()\n",
    "\n",
    "qubits = processo.alloc(2)\n",
    "\n",
    "# Preparando o estado de Bell\n",
    "cat(kron(H, I), CNOT)(*qubits)\n",
    "\n",
    "estado_quântico = dump(qubits)\n",
    "\n",
    "print(\"Estado quântico\")\n",
    "print_state(qubits, format=\"int\")\n",
    "\n",
    "medida = sample(qubits)\n",
    "print(\"Resultado das medidas:\", medida.value)"
   ]
  },
  {
   "cell_type": "markdown",
   "metadata": {},
   "source": [
    "\n",
    "### Calcular Valor Esperado\n",
    "\n",
    "## Execução Quântica e Simulação    \n",
    "\n",
    "### Modos de Execução Quântica\n",
    "\n",
    "### Configuração do Processo e dos Simuladores"
   ]
  }
 ],
 "metadata": {
  "kernelspec": {
   "display_name": "ket-book-n9ijbcno-py3.10",
   "language": "python",
   "name": "python3"
  },
  "language_info": {
   "codemirror_mode": {
    "name": "ipython",
    "version": 3
   },
   "file_extension": ".py",
   "mimetype": "text/x-python",
   "name": "python",
   "nbconvert_exporter": "python",
   "pygments_lexer": "ipython3",
   "version": "3.10.13"
  }
 },
 "nbformat": 4,
 "nbformat_minor": 2
}

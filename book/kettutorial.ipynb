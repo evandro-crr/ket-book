{
 "cells": [
  {
   "cell_type": "code",
   "execution_count": 38,
   "metadata": {
    "tags": [
     "hide-input",
     "thebe-init",
     "remove-output"
    ]
   },
   "outputs": [],
   "source": [
    "!pip install -U -q pip\n",
    "!pip install -U -q 'ket-lang[full]>=0.8.3,<0.9'\n",
    "\n",
    "from IPython.display import display\n",
    "\n",
    "import plotly.io as pio\n",
    "\n",
    "pio.renderers.default = \"iframe\""
   ]
  },
  {
   "cell_type": "markdown",
   "metadata": {},
   "source": [
    "# Programacão Quântica com Ket\n",
    "\n",
    "Neste capítulo, exploraremos a plataforma de programação quântica Ket, um projeto de código aberto que permite desenvolver e testar aplicações quânticas.\n",
    "\n",
    "## Introdução\n",
    "\n",
    "### Instalação\n",
    "\n",
    "Se você estiver executando esta página com <i class=\"fas fa-rocket\"></i> **Live Code**, o Ket será instalado automaticamente quando o ambiente de execução for carregado. Caso esteja utilizando um Notebook <i class=\"fas fa-download\"></i> baixado desta página ou acessando via <i class=\"fas fa-rocket\"></i> **Binder/Colab**, os comandos de instalação estarão na primeira célula do notebook.\n",
    "\n",
    "Para integrar o Ket em um projeto externo, instale-o via PyPI utilizando o seguinte comando:\n",
    "\n",
    "```bash\n",
    "pip install -U pip\n",
    "pip install ket-lang\n",
    "```\n",
    "\n",
    "### Documentação\n",
    "\n",
    "A documentação completa da API do Ket está disponível em [quantumket.org](https://quantumket.org). Caso tenha dúvidas sobre alguma função ou queira conhecer as funcionalidades disponíveis, recomendamos a consulta à documentação. Além disso, todas as classes, métodos e funções referenciados nesta página possuem links diretos para suas respectivas documentações. Sempre que encontrar um novo elemento, sugerimos a leitura do material correspondente para uma compreensão mais detalhada.\n",
    "\n",
    "### Importando o Ket\n",
    "\n",
    "A célula abaixo importa todas as funcionalidades do Ket, permitindo o acesso direto a todas as suas classes e funções:\n"
   ]
  },
  {
   "cell_type": "code",
   "execution_count": 39,
   "metadata": {
    "tags": [
     "thebe-init"
    ]
   },
   "outputs": [],
   "source": [
    "from ket import *\n",
    "from ket import lib as qulib"
   ]
  },
  {
   "cell_type": "markdown",
   "metadata": {},
   "source": [
    "## Processo Quântico  \n",
    "\n",
    "Por trás de toda execução quântica no Ket, há um processo quântico, uma instância da classe {class}`~ket.base.Process`. Ele é responsável por gerenciar desde a alocação dos qubits até a compilação do código quântico.  \n",
    "\n",
    "Para iniciar uma execução quântica, é necessário instanciar um {class}`~ket.base.Process`. Existem diversas configurações que podem ser ajustadas, mas um bom ponto de partida é utilizar o construtor padrão. Se nenhum argumento for passado, o simulador **KBW Sparse** será utilizado com **32 qubits**, e a **execução dinâmica** (*live execution*) será ativada por padrão.  \n",
    "\n",
    "Exploraremos o significado de cada parâmetro mais adiante neste capítulo.  \n",
    "\n",
    "Abaixo, temos a criação de um processo:"
   ]
  },
  {
   "cell_type": "code",
   "execution_count": 40,
   "metadata": {},
   "outputs": [],
   "source": [
    "processo = Process()"
   ]
  },
  {
   "cell_type": "markdown",
   "metadata": {},
   "source": [
    "### Alocação de Qubits  \n",
    "\n",
    "Na computação quântica, a unidade básica de computação é o **qubit**. No Ket, o elemento fundamental da programação é a classe {class}`~ket.base.Quant`, que nada mais é do que uma lista de qubits. Toda operação quântica, seja a aplicação de portas lógicas ou medições, é realizada sobre um objeto do tipo {class}`~ket.base.Quant`.  \n",
    "\n",
    "Em breve, veremos como aplicar essas operações nos qubits, mas primeiro, vamos entender como instanciá-los.  \n",
    "\n",
    "No Ket, um qubit está sempre associado a um {class}`~ket.base.Process`. Para acessar qubits, é necessário fazer uma chamada de alocação para o processo quântico, utilizando o método {meth}`~ket.base.Process.alloc`. O resultado dessa alocação é uma lista de qubits encapsulada em um objeto {class}`~ket.base.Quant`. Mesmo que apenas um qubit seja alocado, ele ainda estará dentro de um {class}`~ket.base.Quant`.  \n",
    "\n",
    "Em muitos casos, um processo quântico é criado apenas para alocar qubits. No entanto, ele também armazena **metadados** ({meth}`~ket.base.Process.get_metadata`), que podem ser úteis para experimentos e análises.  \n",
    "\n",
    "```{note}  \n",
    "Dentro de um {class}`~ket.base.Quant`, os qubits são referências opacas. Isso significa que eles não armazenam diretamente a informação quântica, mas sim uma referência a essa informação dentro do computador quântico. Além disso, os qubits expostos ao programador são **qubits lógicos**, que, após o processo de compilação, serão mapeados para **qubits físicos** no hardware quântico.  \n",
    "```  \n",
    "\n",
    "A classe {class}`~ket.base.Quant` funciona como uma lista de qubits, e suas instâncias suportam as operações padrão do Python para listas. Por exemplo, é possível:  \n",
    "- **Indexar** qubits usando colchetes `[]`.  \n",
    "- **Concatenar** dois objetos {class}`~ket.base.Quant` utilizando o operador de adição `+`.  \n",
    "\n",
    "Abaixo, temos exemplos de alocação de qubits:"
   ]
  },
  {
   "cell_type": "code",
   "execution_count": 41,
   "metadata": {},
   "outputs": [
    {
     "name": "stdout",
     "output_type": "stream",
     "text": [
      "Qubit alocado: <Ket 'Quant' [0] pid=0x7f3548952150>\n",
      "Par de qubits alocados: <Ket 'Quant' [1, 2] pid=0x7f3548952150>\n",
      "Qubits concatenados: <Ket 'Quant' [0, 1, 2] pid=0x7f3548952150>\n"
     ]
    }
   ],
   "source": [
    "# Instanciando um novo processo quântico\n",
    "processo = Process()\n",
    "\n",
    "# Alocação de um único qubit\n",
    "qubits = processo.alloc()\n",
    "\n",
    "# Alocação de dois qubits\n",
    "par_qubit = processo.alloc(2)\n",
    "\n",
    "# Acessando os qubits individualmente\n",
    "primeiro_qubit = par_qubit[0]\n",
    "segundo_qubit = par_qubit[1]\n",
    "\n",
    "# Concatenando os qubits\n",
    "qubits_concatenados = qubits + primeiro_qubit + segundo_qubit\n",
    "\n",
    "# Mostrando os qubits alocados e concatenados\n",
    "print(\"Qubit alocado:\", qubits)\n",
    "print(\"Par de qubits alocados:\", par_qubit)\n",
    "print(\"Qubits concatenados:\", qubits_concatenados)"
   ]
  },
  {
   "cell_type": "markdown",
   "metadata": {},
   "source": [
    "Ao imprimir na tela uma variável do tipo {class}`~ket.base.Quant`, podemos observar uma lista com os índices dos qubits que esse objeto referencia.  \n",
    "\n",
    "É importante notar que, ao indexarmos elementos em um {class}`~ket.base.Quant`, mesmo que estejamos acessando apenas um qubit, o retorno sempre será outro objeto do tipo {class}`~ket.base.Quant`. No Ket, os qubits estão sempre encapsulados em instâncias dessa classe.  "
   ]
  },
  {
   "cell_type": "markdown",
   "metadata": {},
   "source": [
    "## Portas Lógicas Quânticas  \n",
    "\n",
    "O Ket oferece um conjunto universal de portas lógicas quânticas, permitindo a descrição de qualquer computação quântica. Todas as portas implementadas no Ket estão disponíveis no módulo {mod}`~ket.gates`. Na documentação, é possível visualizar tanto a representação matricial das portas quanto seus efeitos.  \n",
    "\n",
    "### Portas de 1 Qubit  \n",
    "\n",
    "As portas quânticas são aplicadas diretamente a qubits encapsulados em objetos {class}`~ket.base.Quant`. No Ket, os qubits são implementados como referências opacas, garantindo que a aplicação de portas quânticas não tenha efeitos colaterais no estado clássico do sistema, afetando apenas o estado quântico.  \n",
    "\n",
    "As portas implementadas no Ket seguem a convenção de nomes em letras maiúsculas. Por exemplo, as **portas de Pauli** incluem {func}`~ket.gates.X`, {func}`~ket.gates.Y` e {func}`~ket.gates.Z`, enquanto a **porta de Hadamard** é representada por {func}`~ket.gates.H`.  \n",
    "\n",
    "#### Portas de Pauli e de Hadamard  \n",
    "\n",
    "As portas de Pauli e a porta de Hadamard são fundamentais para muitos algoritmos quânticos. As portas de Pauli realizam rotações de 180º nos eixos X, Y e Z da [esfera de Bloch](esfera-de-bloch). No entanto, essas portas, por si só, não são suficientes para gerar **superposição**. Para isso, utilizamos a porta de Hadamard, que transforma um qubit do estado {math}`\\ket{0}` ou {math}`\\ket{1}` para o estado de superposição:  \n",
    "\n",
    "```{math}\n",
    "\\frac{1}{\\sqrt{2}}(\\ket{0} \\pm \\ket{1})\n",
    "```\n",
    "\n",
    "```{tip}  \n",
    "Para visualizar o efeito das portas, podemos utilizar o comando:  \n",
    "`dump(<qubits>).sphere()`  \n",
    "```  \n",
    "\n",
    "A seguir, apresentamos um exemplo que demonstra a aplicação das **portas de Pauli** e da **porta de Hadamard**. Recomendamos que você execute este código e experimente modificar a aplicação das portas para entender melhor seus efeitos:  "
   ]
  },
  {
   "cell_type": "code",
   "execution_count": 42,
   "metadata": {},
   "outputs": [
    {
     "data": {
      "text/html": [
       "<iframe\n",
       "    scrolling=\"no\"\n",
       "    width=\"100%\"\n",
       "    height=\"545px\"\n",
       "    src=\"iframe_figures/figure_42.html\"\n",
       "    frameborder=\"0\"\n",
       "    allowfullscreen\n",
       "></iframe>\n"
      ]
     },
     "metadata": {},
     "output_type": "display_data"
    }
   ],
   "source": [
    "# Instanciando um novo do processo quântico\n",
    "processo = Process()\n",
    "\n",
    "# Alocação de um qubit\n",
    "qubits = processo.alloc()\n",
    "\n",
    "X(qubits)  # Porta de Pauli X\n",
    "Y(qubits)  # Porta de Pauli Y\n",
    "Z(qubits)  # Porta de Pauli Z\n",
    "H(qubits)  # Porta de Hadamard\n",
    "\n",
    "dump(qubits).sphere()  # Mostra o Bloch Sphere"
   ]
  },
  {
   "cell_type": "markdown",
   "metadata": {},
   "source": [
    "#### Portas Parametrizadas  \n",
    "\n",
    "Além das portas de Pauli e da porta de Hadamard, o Ket também oferece **portas de rotação** e a **porta de fase**, que desempenham um papel essencial na construção de algoritmos quânticos.  \n",
    "\n",
    "As portas de rotação, como {func}`~ket.gates.RX`, {func}`~ket.gates.RY` e {func}`~ket.gates.RZ`, realizam rotações controladas em torno dos eixos X, Y e Z, respectivamente. Essas portas permitem manipular o estado de um qubit de forma precisa e controlada.  \n",
    "\n",
    "Já a porta de fase, representada por {func}`~ket.gates.PHASE`, aplica uma fase ao estado do qubit. Essas portas são chamadas de portas parametrizadas, pois recebem um parâmetro clássico (um número real, `float`), que controla a operação aplicada.  \n",
    "\n",
    "A porta {func}`~ket.gates.RZ` e a {func}`~ket.gates.PHASE` são equivalentes em termos de fase global, ou seja, ao analisarmos seu efeito na esfera de Bloch, não conseguimos distingui-las. No entanto, quando usadas em operações controladas, a fase global pode gerar diferenças no estado quântico.  \n",
    "\n",
    "A seguir, apresentamos um exemplo que demonstra a aplicação das portas parametrizadas. Recomendamos que você execute este código e experimente modificar os parâmetros das portas para compreender melhor seus efeitos:  "
   ]
  },
  {
   "cell_type": "code",
   "execution_count": 43,
   "metadata": {},
   "outputs": [
    {
     "data": {
      "text/html": [
       "<iframe\n",
       "    scrolling=\"no\"\n",
       "    width=\"100%\"\n",
       "    height=\"545px\"\n",
       "    src=\"iframe_figures/figure_43.html\"\n",
       "    frameborder=\"0\"\n",
       "    allowfullscreen\n",
       "></iframe>\n"
      ]
     },
     "metadata": {},
     "output_type": "display_data"
    }
   ],
   "source": [
    "# Instanciando um novo do processo quântico\n",
    "processo = Process()\n",
    "\n",
    "# Alocação de um qubit\n",
    "qubits = processo.alloc()\n",
    "\n",
    "# Aplicação das portas parametrizadas\n",
    "RX(0.5, qubits)  # Porta de rotação Rx com ângulo de 0.5 radianos\n",
    "RY(0.2, qubits)  # Porta de rotação Ry com ângulo de 0.2 radianos\n",
    "RZ(2.3, qubits)  # Porta de rotação Rz com ângulo de 2.3 radianos\n",
    "PHASE(0.2, qubits)  # Porta de fase com ângulo de 0.2 radianos\n",
    "\n",
    "dump(qubits).sphere()  # Mostra o Bloch Sphere"
   ]
  },
  {
   "cell_type": "markdown",
   "metadata": {},
   "source": [
    "#### Concatenando Portas Quânticas  \n",
    "\n",
    "Ao listar a aplicação de portas lógicas quânticas linha por linha, podemos inflar desnecessariamente o número de linhas de código, tornando o programa menos legível e mais difícil de entender. Para evitar esse problema, uma prática útil na implementação de algoritmos quânticos é a concatenação de portas lógicas, que permite expressar operações de forma mais concisa.  \n",
    "\n",
    "No Ket, existem duas maneiras de concatenar portas lógicas.  \n",
    "\n",
    "##### Encadeamento de chamadas de função\n",
    "\n",
    "Essa abordagem é recomendada quando o número de portas encadeadas não é muito grande. No entanto, o uso excessivo de parênteses pode comprometer a legibilidade do código. Como cada porta implementada no Ket retorna o próprio objeto {class}`~ket.base.Quant` passado como parâmetro, podemos encadear as operações conforme mostrado no exemplo abaixo:  "
   ]
  },
  {
   "cell_type": "code",
   "execution_count": 44,
   "metadata": {},
   "outputs": [
    {
     "data": {
      "text/html": [
       "<iframe\n",
       "    scrolling=\"no\"\n",
       "    width=\"100%\"\n",
       "    height=\"545px\"\n",
       "    src=\"iframe_figures/figure_44.html\"\n",
       "    frameborder=\"0\"\n",
       "    allowfullscreen\n",
       "></iframe>\n"
      ]
     },
     "metadata": {},
     "output_type": "display_data"
    }
   ],
   "source": [
    "# Instanciando um novo do processo quântico\n",
    "processo = Process()\n",
    "\n",
    "# Alocação de um qubit\n",
    "qubits = processo.alloc()\n",
    "\n",
    "H(Z(H(qubits)))  # Equivalente a:\n",
    "# H(qubit)\n",
    "# Z(qubit)\n",
    "# H(qubit)\n",
    "\n",
    "dump(qubits).sphere()  # Mostra o Bloch Sphere"
   ]
  },
  {
   "cell_type": "markdown",
   "metadata": {},
   "source": [
    "##### Concatenação de portas\n",
    "\n",
    "A segunda opção é utilizar a função {func}`~ket.operations.cat`, que permite criar uma nova porta representando a concatenação das portas passadas como argumento.  \n",
    "\n",
    "Essa abordagem é especialmente útil em situações onde precisamos armazenar ou reutilizar uma sequência específica de operações quânticas. Ao criar uma nova porta quântica com {func}`~ket.operations.cat`, podemos encapsular essa sequência de operações em uma única entidade. Isso torna o código mais modular, facilita a reutilização de blocos de operações e melhora a organização do programa.  "
   ]
  },
  {
   "cell_type": "code",
   "execution_count": 45,
   "metadata": {},
   "outputs": [
    {
     "data": {
      "text/html": [
       "<iframe\n",
       "    scrolling=\"no\"\n",
       "    width=\"100%\"\n",
       "    height=\"545px\"\n",
       "    src=\"iframe_figures/figure_45.html\"\n",
       "    frameborder=\"0\"\n",
       "    allowfullscreen\n",
       "></iframe>\n"
      ]
     },
     "metadata": {},
     "output_type": "display_data"
    }
   ],
   "source": [
    "# Instanciando um novo do processo quântico\n",
    "processo = Process()\n",
    "\n",
    "# Alocação de um qubit\n",
    "qubits = processo.alloc()\n",
    "\n",
    "porta_X = cat(H, Z, H)  # Concatena portas\n",
    "\n",
    "porta_X(qubits)\n",
    "\n",
    "dump(qubits).sphere()  # Mostra o Bloch Sphere"
   ]
  },
  {
   "cell_type": "markdown",
   "metadata": {},
   "source": [
    "Para concatenar portas parametrizadas usando a função {func}`~ket.operations.cat`, basta fornecer o argumento clássico correspondente. Quando apenas esse argumento é passado, a função cria uma nova porta com o parâmetro já aplicado."
   ]
  },
  {
   "cell_type": "code",
   "execution_count": 46,
   "metadata": {},
   "outputs": [
    {
     "data": {
      "text/html": [
       "<iframe\n",
       "    scrolling=\"no\"\n",
       "    width=\"100%\"\n",
       "    height=\"545px\"\n",
       "    src=\"iframe_figures/figure_46.html\"\n",
       "    frameborder=\"0\"\n",
       "    allowfullscreen\n",
       "></iframe>\n"
      ]
     },
     "metadata": {},
     "output_type": "display_data"
    }
   ],
   "source": [
    "from math import pi\n",
    "\n",
    "# Instanciando um novo do processo quântico\n",
    "processo = Process()\n",
    "\n",
    "# Alocação de um qubit\n",
    "qubits = processo.alloc()\n",
    "\n",
    "porta_H = cat(RY(pi / 2), RX(pi))\n",
    "porta_X = cat(porta_H, RZ(pi), porta_H)\n",
    "\n",
    "porta_X(qubits)\n",
    "\n",
    "dump(qubits).sphere()  # Mostra o Bloch Sphere"
   ]
  },
  {
   "cell_type": "markdown",
   "metadata": {},
   "source": [
    "### Portas de 2 Qubits  \n",
    "\n",
    "Para explorar todo o potencial da computação quântica, é necessário utilizar o **entrelaçamento** quântico, que requer o uso de portas que operam em dois qubits, como a {func}`~ket.gates.CNOT`. Juntas com as portas de 1 qubit apresentadas anteriormente, a porta {func}`~ket.gates.CNOT` forma um conjunto universal de portas lógicas quânticas. Além disso, o Ket oferece outras portas para facilitar a implementação de algoritmos quânticos, como {func}`~ket.gates.SWAP`, {func}`~ket.gates.RXX`, {func}`~ket.gates.RYY` e {func}`~ket.gates.RZZ`.  \n",
    "\n",
    "Para exemplificar o uso de portas de 2 qubits, vamos criar um **estado de Bell**:  \n",
    "\n",
    "$$\n",
    "\\frac{1}{\\sqrt{2}}(\\ket{00} + \\ket{11})\n",
    "$$\n",
    "\n",
    "Para isso, podemos utilizar a porta {func}`~ket.gates.CNOT`.  \n",
    "\n",
    "```{tip}  \n",
    "Como a geração de entrelaçamento requer dois ou mais qubits, não podemos mais usar a `dump(<qubits>).sphere()`. No entanto, podemos utilizar a função `dump(qubits).show()` para imprimir o estado quântico com a combinação linear dos estados da base computacional.  \n",
    "```  "
   ]
  },
  {
   "cell_type": "code",
   "execution_count": 47,
   "metadata": {},
   "outputs": [
    {
     "data": {
      "text/latex": [
       "$\\displaystyle \\frac{1}{\\sqrt{2}} \\left|00\\right>+\\frac{1}{\\sqrt{2}} \\left|11\\right>$"
      ],
      "text/plain": [
       "<IPython.core.display.Math object>"
      ]
     },
     "execution_count": 47,
     "metadata": {},
     "output_type": "execute_result"
    }
   ],
   "source": [
    "# Instanciando um novo  processo quântico\n",
    "p = Process()\n",
    "\n",
    "# Alocação de dois qubits\n",
    "a, b = p.alloc(2)\n",
    "\n",
    "# Aplicando a porta Hadamard em 'a' para criar superposição\n",
    "H(a)\n",
    "\n",
    "# Aplicando a porta CNOT controlada por 'a' e alvo 'b'\n",
    "# para criar o estado de Bell\n",
    "CNOT(a, b)\n",
    "\n",
    "# Imprimindo o estado do sistema\n",
    "dump(a + b).show()"
   ]
  },
  {
   "cell_type": "markdown",
   "metadata": {},
   "source": [
    "Assim como ocorre com as portas de 1 qubit, também é possível oncatenar operações com portas de 2 qubits, como exemplificado no código abaixo, que prepara o estado de Bell:"
   ]
  },
  {
   "cell_type": "code",
   "execution_count": 48,
   "metadata": {},
   "outputs": [
    {
     "data": {
      "text/latex": [
       "$\\displaystyle \\frac{1}{\\sqrt{2}} \\left|00\\right>+\\frac{1}{\\sqrt{2}} \\left|11\\right>$"
      ],
      "text/plain": [
       "<IPython.core.display.Math object>"
      ]
     },
     "execution_count": 48,
     "metadata": {},
     "output_type": "execute_result"
    }
   ],
   "source": [
    "# Instanciando um novo processo quântico\n",
    "p = Process()\n",
    "\n",
    "# Alocação de dois qubits\n",
    "a, b = p.alloc(2)\n",
    "\n",
    "# Aplicando a porta CNOT controlada por 'a' e alvo 'b'\n",
    "# após a aplicação da porta Hadamard em 'a'\n",
    "CNOT(H(a), b)\n",
    "\n",
    "# Imprimindo o estado do sistema\n",
    "dump(a + b).show()"
   ]
  },
  {
   "cell_type": "markdown",
   "metadata": {},
   "source": [
    "#### Produto Tensorial de Portas  \n",
    "\n",
    "É possível criar **portas de múltiplos qubits utilizando o produto tensorial com a função {func}`~ket.operations.kron`. Essa função aceita múltiplas portas como argumentos e gera uma nova porta lógica que opera em múltiplos qubits.  \n",
    "\n",
    "Podemos usar a função {func}`~ket.operations.kron` em conjunto com a função {func}`~ket.operations.cat` para criar uma nova porta de dois qubits que prepara um estado de Bell, como no exemplo abaixo:  "
   ]
  },
  {
   "cell_type": "code",
   "execution_count": 49,
   "metadata": {},
   "outputs": [
    {
     "data": {
      "text/latex": [
       "$\\displaystyle \\frac{1}{\\sqrt{2}} \\left|00\\right>+\\frac{1}{\\sqrt{2}} \\left|11\\right>$"
      ],
      "text/plain": [
       "<IPython.core.display.Math object>"
      ]
     },
     "execution_count": 49,
     "metadata": {},
     "output_type": "execute_result"
    }
   ],
   "source": [
    "# Instanciando um novo processo quântico\n",
    "p = Process()\n",
    "\n",
    "# Alocação de dois qubits\n",
    "a, b = p.alloc(2)\n",
    "\n",
    "# Concatenando as operações para preparar o estado de Bell\n",
    "bell = cat(kron(H, I), CNOT)\n",
    "bell(a, b)\n",
    "\n",
    "# Imprimindo o estado do sistema\n",
    "dump(a + b).show()"
   ]
  },
  {
   "cell_type": "markdown",
   "metadata": {},
   "source": [
    "Neste exemplo, a operação `kron(H, I)` cria uma porta de dois qubits, aplicando a operação Hadamard em `a` e a operação identidade em `b`. Em seguida, a operação `CNOT` é aplicada como uma operação controlada entre `a` e `b`. Isso resulta na preparação do estado de Bell nos qubits `a` e `b`.\n",
    "\n",
    "Aqui está o seu texto corrigido e aprimorado:\n",
    "\n",
    "\n",
    "Como `bell` é considerada uma nova porta lógica quântica, podemos usar a função {func}`~ket.lib.draw` para visualizar o circuito quântico que ela representa."
   ]
  },
  {
   "cell_type": "code",
   "execution_count": 50,
   "metadata": {},
   "outputs": [
    {
     "data": {
      "image/png": "[encoded data removed]",
      "text/plain": [
       "<Figure size 287.294x284.278 with 1 Axes>"
      ]
     },
     "execution_count": 50,
     "metadata": {},
     "output_type": "execute_result"
    }
   ],
   "source": [
    "qulib.draw(gate=bell, num_qubits=(1, 1), output=\"mpl\")"
   ]
  },
  {
   "cell_type": "markdown",
   "metadata": {},
   "source": [
    "## Instruções Quânticas\n",
    "\n",
    "Além das portas lógicas quânticas já apresentadas, o Ket oferece instruções que aproveitam a especificidade da computação quântica para facilitar a programação.\n",
    "\n",
    "### Operações Controladas\n",
    "\n",
    "É comum criar portas lógicas quânticas de múltiplos qubits adicionando qubits de controle a portas já existentes. No Libket, a biblioteca de tempo de execução do Ket, apenas portas de 1 qubit são implementadas, mas elas permitem a adição de controles. Por exemplo, podemos gerar a porta {func}`~ket.gates.CNOT` a partir da porta {func}`~ket.gates.X`. No Ket, as operações controladas são aplicadas somente se todos os qubits de controle estiverem no estado $\\ket{1}$.\n",
    "\n",
    "Existem duas maneiras de realizar operações controladas no Ket:  \n",
    "1. Usando a instrução `with` {func}`~ket.operations.control` para criar um contexto controlado.  \n",
    "2. Utilizando a função {func}`~ket.operations.ctrl` para criar uma nova porta controlada.\n",
    "\n",
    "Abaixo, apresentamos exemplos de como criar as portas CNOT, Toffoli (CCNOT), SWAP e Fredkin (CSWAP) a partir da porta {func}`~ket.gates.X`.\n",
    "\n",
    "No Ket, qualquer função Python que aceite qubits como argumento e não realize nenhuma medida ou alocação de qubits pode ser considerada uma porta lógica quântica, o que facilita a criação de novas portas. Além disso, podemos usar a função {func}`~ket.lib.draw` para visualizar a porta gerada."
   ]
  },
  {
   "cell_type": "code",
   "execution_count": 51,
   "metadata": {},
   "outputs": [
    {
     "data": {
      "image/png": "[encoded data removed]",
      "text/plain": [
       "<Figure size 203.683x284.278 with 1 Axes>"
      ]
     },
     "execution_count": 51,
     "metadata": {},
     "output_type": "execute_result"
    }
   ],
   "source": [
    "def meu_cnot(a, b):\n",
    "    ctrl(a, X)(b)\n",
    "\n",
    "\n",
    "qulib.draw(gate=meu_cnot, num_qubits=(1, 1), output=\"mpl\")"
   ]
  },
  {
   "cell_type": "code",
   "execution_count": 52,
   "metadata": {},
   "outputs": [
    {
     "data": {
      "image/png": "[encoded data removed]",
      "text/plain": [
       "<Figure size 203.683x284.278 with 1 Axes>"
      ]
     },
     "execution_count": 52,
     "metadata": {},
     "output_type": "execute_result"
    }
   ],
   "source": [
    "def meu_cnot2(a, b):\n",
    "    with control(a):\n",
    "        X(b)\n",
    "\n",
    "\n",
    "qulib.draw(gate=meu_cnot2, num_qubits=(1, 1), output=\"mpl\")"
   ]
  },
  {
   "cell_type": "code",
   "execution_count": 53,
   "metadata": {},
   "outputs": [
    {
     "data": {
      "image/png": "[encoded data removed]",
      "text/plain": [
       "<Figure size 203.885x367.889 with 1 Axes>"
      ]
     },
     "execution_count": 53,
     "metadata": {},
     "output_type": "execute_result"
    }
   ],
   "source": [
    "def toffoli(a, b, c):\n",
    "    ctrl(a + b, X)(c)\n",
    "\n",
    "\n",
    "qulib.draw(gate=toffoli, num_qubits=(1, 1, 1), output=\"mpl\")"
   ]
  },
  {
   "cell_type": "code",
   "execution_count": 54,
   "metadata": {},
   "outputs": [
    {
     "data": {
      "image/png": "[encoded data removed]",
      "text/plain": [
       "<Figure size 203.885x367.889 with 1 Axes>"
      ]
     },
     "execution_count": 54,
     "metadata": {},
     "output_type": "execute_result"
    }
   ],
   "source": [
    "def toffoli2(a, b, c):\n",
    "    with control(a + b):\n",
    "        X(c)\n",
    "\n",
    "\n",
    "qulib.draw(gate=toffoli2, num_qubits=(1, 1, 1), output=\"mpl\")"
   ]
  },
  {
   "cell_type": "code",
   "execution_count": 55,
   "metadata": {},
   "outputs": [
    {
     "data": {
      "image/png": "[encoded data removed]",
      "text/plain": [
       "<Figure size 370.906x284.278 with 1 Axes>"
      ]
     },
     "execution_count": 55,
     "metadata": {},
     "output_type": "execute_result"
    }
   ],
   "source": [
    "def meu_swap(a, b):\n",
    "    meu_cnot(a, b)\n",
    "    meu_cnot(b, a)\n",
    "    meu_cnot(a, b)\n",
    "\n",
    "\n",
    "qulib.draw(gate=meu_swap, num_qubits=(1, 1), output=\"mpl\")"
   ]
  },
  {
   "cell_type": "markdown",
   "metadata": {},
   "source": [
    "```{tip}  \n",
    "Embora a implementação de `meu_swap` esteja correta, ela não aproveita uma otimização introduzida pelo uso de `with` {func}`~ket.operations.around`, que será abordada mais adiante neste capítulo.  \n",
    "\n",
    "A ausência dessa otimização pode ser observada no circuito da porta Fredkin abaixo, que não está em sua forma otimizada.  \n",
    "```"
   ]
  },
  {
   "cell_type": "code",
   "execution_count": 56,
   "metadata": {},
   "outputs": [
    {
     "data": {
      "image/png": "[encoded data removed]",
      "text/plain": [
       "<Figure size 371.107x367.889 with 1 Axes>"
      ]
     },
     "execution_count": 56,
     "metadata": {},
     "output_type": "execute_result"
    }
   ],
   "source": [
    "def fredkin(a, b, c):\n",
    "    with control(a):\n",
    "        meu_swap(b, c)\n",
    "\n",
    "\n",
    "qulib.draw(gate=fredkin, num_qubits=(1, 1, 1), output=\"mpl\")"
   ]
  },
  {
   "cell_type": "markdown",
   "metadata": {},
   "source": [
    "### Exercício: Implementando o Estado GHZ\n",
    "\n",
    "Neste exercício, o objetivo é usar a função {func}`~ket.operations.ctrl` para implementar uma porta quântica que prepara o estado GHZ de $n$ qubits.\n",
    "\n",
    "O estado GHZ é definido como:\n",
    "\n",
    "$$\n",
    "\\begin{aligned}\n",
    "\\ket{\\text{GHZ}} &= \\frac{1}{\\sqrt{2}}(\\ket{0}^{\\otimes n} + \\ket{1}^{\\otimes n})  \\\\\n",
    "&= \\frac{1}{\\sqrt{2}}(\\ket{0} \\otimes \\ket{0} \\otimes \\cdots \\otimes \\ket{0} + \\ket{1} \\otimes \\ket{1} \\otimes \\cdots \\otimes \\ket{1})\n",
    "\\end{aligned}\n",
    "$$\n",
    "\n",
    "Para implementar essa funcionalidade, você precisa completar a função `ghz` que recebe um objeto {class}`~ket.base.Quant` representando os qubits e realiza as operações necessárias para preparar o estado GHZ."
   ]
  },
  {
   "cell_type": "code",
   "execution_count": 57,
   "metadata": {},
   "outputs": [
    {
     "data": {
      "text/latex": [
       "$\\displaystyle  \\left|0000000000\\right>$"
      ],
      "text/plain": [
       "<IPython.core.display.Math object>"
      ]
     },
     "execution_count": 57,
     "metadata": {},
     "output_type": "execute_result"
    }
   ],
   "source": [
    "def ghz(qubits: Quant):\n",
    "    # Implemente aqui a função ghz usando a função ctrl\n",
    "    ...\n",
    "\n",
    "\n",
    "n = 10\n",
    "\n",
    "processo = Process()\n",
    "qubits = processo.alloc(n)\n",
    "\n",
    "ghz(qubits)\n",
    "\n",
    "dump(qubits).show()"
   ]
  },
  {
   "cell_type": "markdown",
   "metadata": {},
   "source": [
    "\n",
    "A função {func}`~ket.operations.ctrl` recebe dois argumentos: um objeto do tipo {class}`~ket.base.Quant` com os qubits de controle (sendo possível utilizar múltiplos qubits de controle) e uma função que atua como uma porta lógica quântica. É importante ressaltar que a função {func}`~ket.operations.ctrl` não está limitada a adicionar qubits de controle apenas às portas quânticas disponíveis no módulo {mod}`~ket.gates`, mas pode adicionar qubits de controle a qualquer função. Por exemplo, podemos implementar uma porta de Bell e adicionar qubits de controle a ela como no código abaixo."
   ]
  },
  {
   "cell_type": "code",
   "execution_count": 58,
   "metadata": {},
   "outputs": [
    {
     "data": {
      "text/latex": [
       "$\\displaystyle \\frac{1}{\\sqrt{2}} \\left|000\\right>+\\frac{1}{\\sqrt{4}} \\left|100\\right>+\\frac{1}{\\sqrt{4}} \\left|111\\right>$"
      ],
      "text/plain": [
       "<IPython.core.display.Math object>"
      ]
     },
     "execution_count": 58,
     "metadata": {},
     "output_type": "execute_result"
    }
   ],
   "source": [
    "def bell(a: Quant, b: Quant) -> tuple[Quant, Quant]:\n",
    "    \"\"\"\n",
    "    Implementa a preparação do estado de Bell entre dois qubits.\n",
    "\n",
    "    Parâmetros:\n",
    "        a (Quant): O primeiro qubit.\n",
    "        b (Quant): O segundo qubit.\n",
    "\n",
    "    Retorna:\n",
    "        tuple[Quant, Quant]: Os qubits de entrada a e b.\n",
    "\n",
    "    Observação:\n",
    "        Por convenção, as portas implementadas no Ket retornam os Quants de\n",
    "        entrada para facilitar a concatenação de portas.\n",
    "        No entanto, isso não é necessário.\n",
    "    \"\"\"\n",
    "    H(a)  # Aplica a porta Hadamard ao primeiro qubit\n",
    "    CNOT(a, b)  # Aplica a porta CNOT controlada pelo primeiro qubit 'a' e alvo 'b'\n",
    "    return a, b  # Retorna os qubits de entrada 'a' e 'b'\n",
    "\n",
    "\n",
    "# Instancia um novo processo quântico\n",
    "processo = Process()\n",
    "\n",
    "# Aloca três qubits 'a', 'b' e 'c'\n",
    "a, b, c = processo.alloc(3)\n",
    "\n",
    "# Aplica uma operação controlada com o qubit 'a' e a função bell aos qubits 'b' e 'c'\n",
    "ctrl(H(a), bell)(b, c)\n",
    "\n",
    "# Imprime o estado do sistema\n",
    "dump(a + b + c).show()"
   ]
  },
  {
   "cell_type": "markdown",
   "metadata": {},
   "source": [
    "### Operações Inversas\n",
    "\n",
    "Com exceção das operações de medida, toda computação quântica é reversível, ou seja, para todas as portas lógicas quânticas existe uma operação inversa correspondente. Isso é explorado em diversos algoritmos quânticos. Por exemplo, o algoritmo de estimação de fase requer uma operação de transformada de Fourier quântica inversa. No entanto, podemos implementar a transformada normalmente no Ket e usar a função {func}`~ket.operations.adj` para criar a transformada inversa. Podemos ver isso em ação no código abaixo.\n",
    "\n",
    ":::{tip}\n",
    "O código abaixo apresenta algumas operações que ainda não foram vistas neste capítulo. Não se preocupe em entender o código, o objetivo é apenas ilustrar o uso da função {func}`~ket.operations.adj`.\n",
    ":::"
   ]
  },
  {
   "cell_type": "code",
   "execution_count": 59,
   "metadata": {},
   "outputs": [
    {
     "data": {
      "text/plain": [
       "3.1415939331054688"
      ]
     },
     "execution_count": 59,
     "metadata": {},
     "output_type": "execute_result"
    }
   ],
   "source": [
    "from math import pi\n",
    "\n",
    "\n",
    "def qft(qubits: Quant, invert: bool = True):\n",
    "    if len(qubits) == 1:\n",
    "        H(qubits)\n",
    "    else:\n",
    "        *head, tail = qubits\n",
    "        H(tail)\n",
    "        for i, ctrl_qubit in enumerate(reversed(head)):\n",
    "            ctrl(ctrl_qubit, PHASE(pi / 2 ** (i + 1)))(tail)\n",
    "        qft(head, invert=False)\n",
    "    if invert:\n",
    "        size = len(qubits)\n",
    "        for i in range(size // 2):\n",
    "            SWAP(qubits[i], qubits[size - i - 1])\n",
    "\n",
    "\n",
    "def estimador_de_fase(oraculo, precisão: int) -> float:\n",
    "    assert precisão <= 20, \"o tempo de computação pode ser muito grande\"\n",
    "    p = Process(simulator=\"dense\", num_qubits=precisão + 1)\n",
    "    ctr = H(p.alloc(precisão))\n",
    "    tgr = X(p.alloc())\n",
    "    for i, c in enumerate(ctr):\n",
    "        ctrl(c, oraculo)(i, tgr)\n",
    "\n",
    "    adj(qft)(ctr)  # <- chada da transformada de Fourier quântica inversa\n",
    "\n",
    "    return measure(reversed(ctr)).value / 2**precisão\n",
    "\n",
    "\n",
    "fase = pi\n",
    "\n",
    "estimador_de_fase(\n",
    "    oraculo=lambda i, tgr: PHASE(2 * pi * (fase / 10) * 2**i, tgr),\n",
    "    precisão=18,\n",
    ") * 10"
   ]
  },
  {
   "cell_type": "markdown",
   "metadata": {},
   "source": [
    "\n",
    "Para realizar operações inversas, uma abordagem alternativa é empregar a instrução `with` {func}`~ket.operations.inverse`. Esta instrução cria um contexto onde as operações são executadas na ordem usual do Python, mas as portas lógicas quânticas são aplicadas de maneira inversa no estado quântico. Abaixo está um exemplo que demonstra o uso dessa instrução. Note que é necessário fornecer o {class}`~ket.base.Process` onde as operações inversas serão aplicadas.\n"
   ]
  },
  {
   "cell_type": "code",
   "execution_count": 60,
   "metadata": {},
   "outputs": [
    {
     "name": "stdout",
     "output_type": "stream",
     "text": [
      "Estado inicial:\n"
     ]
    },
    {
     "data": {
      "text/latex": [
       "$\\displaystyle  \\left|00\\right>$"
      ],
      "text/plain": [
       "<IPython.core.display.Math object>"
      ]
     },
     "metadata": {},
     "output_type": "display_data"
    },
    {
     "name": "stdout",
     "output_type": "stream",
     "text": [
      "Estado após a preparação:\n"
     ]
    },
    {
     "data": {
      "text/latex": [
       "$\\displaystyle \\frac{1}{\\sqrt{2}} \\left|00\\right>+\\frac{1}{\\sqrt{2}} \\left|11\\right>$"
      ],
      "text/plain": [
       "<IPython.core.display.Math object>"
      ]
     },
     "metadata": {},
     "output_type": "display_data"
    },
    {
     "name": "stdout",
     "output_type": "stream",
     "text": [
      "Estado após a inversão da preparação:\n"
     ]
    },
    {
     "data": {
      "text/latex": [
       "$\\displaystyle  \\left|00\\right>$"
      ],
      "text/plain": [
       "<IPython.core.display.Math object>"
      ]
     },
     "execution_count": 60,
     "metadata": {},
     "output_type": "execute_result"
    }
   ],
   "source": [
    "processo = Process()\n",
    "\n",
    "a, b = processo.alloc(2)\n",
    "\n",
    "print(\"Estado inicial:\")\n",
    "display(dump(a + b).show())\n",
    "\n",
    "# Prepara o estado de Bell\n",
    "H(a)\n",
    "CNOT(a, b)\n",
    "\n",
    "print(\"Estado após a preparação:\")\n",
    "display(dump(a + b).show())\n",
    "\n",
    "# Invertendo a preparação do estado de Bell\n",
    "with inverse(processo):\n",
    "    H(a)\n",
    "    CNOT(a, b)\n",
    "\n",
    "print(\"Estado após a inversão da preparação:\")\n",
    "dump(a + b).show()"
   ]
  },
  {
   "cell_type": "markdown",
   "metadata": {},
   "source": [
    "### Operações $UVU^\\dagger$\n",
    "\n",
    "Uma construção comum em algoritmos quânticos é aplicar uma operação $U$ em torno de outra operação $V$, seguida pela operação inversa $U^\\dagger$. Essa sequência de operações é representada matematicamente como $UVU^\\dagger$.\n",
    "\n",
    "Um exemplo do uso desse tipo de construção está na implementação do difusor do algoritmo de Grover. Nele, uma operação controlada é envolta por portas de Hadamard. Aqui, as portas $U$ são as portas de Hadamard, e é importante observar que a Hadamard é sua própria inversa. A porta controlada é representada pela porta $V$."
   ]
  },
  {
   "cell_type": "code",
   "execution_count": 61,
   "metadata": {},
   "outputs": [
    {
     "name": "stdout",
     "output_type": "stream",
     "text": [
      "Difusor do algoritmo de Grover\n"
     ]
    },
    {
     "data": {
      "image/png": "[encoded data removed]",
      "text/plain": [
       "<Figure size 538.33x451.5 with 1 Axes>"
      ]
     },
     "execution_count": 61,
     "metadata": {},
     "output_type": "execute_result"
    }
   ],
   "source": [
    "def difusor(qubits: Quant, auxiliar: Quant):\n",
    "    with around(cat(H, X), qubits):\n",
    "        ctrl(qubits, X)(auxiliar)\n",
    "\n",
    "\n",
    "print(\"Difusor do algoritmo de Grover\")\n",
    "qulib.draw(gate=difusor, num_qubits=(3, 1), output=\"mpl\")"
   ]
  },
  {
   "cell_type": "markdown",
   "metadata": {},
   "source": [
    "Para facilitar essa construção no Ket, a instrução `with` {func}`~ket.operations.around` é oferecida. No exemplo acima, implementamos o difusor de Grover usando essa instrução."
   ]
  },
  {
   "cell_type": "markdown",
   "metadata": {},
   "source": [
    "A título de comparação, a seguir está implementado o difusor de Grover sem usar a instrução `with` {func}`~ket.operations.around`. Além da redução do número de linhas, o uso de `with` {func}`~ket.operations.around` torna o código mais legível e menos propenso a erros, proporcionando uma implementação mais eficiente."
   ]
  },
  {
   "cell_type": "code",
   "execution_count": 62,
   "metadata": {},
   "outputs": [
    {
     "name": "stdout",
     "output_type": "stream",
     "text": [
      "Difusor do algoritmo de Grover\n"
     ]
    },
    {
     "data": {
      "image/png": "[encoded data removed]",
      "text/plain": [
       "<Figure size 538.33x451.5 with 1 Axes>"
      ]
     },
     "execution_count": 62,
     "metadata": {},
     "output_type": "execute_result"
    }
   ],
   "source": [
    "def difusor_2(qubits: Quant, auxiliar: Quant):\n",
    "    H(qubits)\n",
    "    X(qubits)\n",
    "    ctrl(qubits, X)(auxiliar)\n",
    "    X(qubits)\n",
    "    H(qubits)\n",
    "\n",
    "\n",
    "print(\"Difusor do algoritmo de Grover\")\n",
    "qulib.draw(gate=difusor_2, num_qubits=(3, 1), output=\"mpl\")"
   ]
  },
  {
   "cell_type": "markdown",
   "metadata": {},
   "source": [
    "Além de facilitar a construção de algumas operações quânticas, a estrutura `with` {func}`~ket.operations.around` também permite [reduzir o número de qubits de controle em certas operações](https://arxiv.org/abs/2406.05581).  \n",
    "\n",
    "No exemplo abaixo, utilizamos `with` {func}`~ket.operations.around` para definir uma porta SWAP e, em seguida, empregamos essa mesma porta para implementar uma porta de Fredkin, que é essencialmente uma versão controlada da SWAP.  \n",
    "\n",
    "Note que, no circuito abaixo, há menos qubits de controle em comparação com o exemplo anterior da porta de Fredkin.\n"
   ]
  },
  {
   "cell_type": "code",
   "execution_count": 63,
   "metadata": {},
   "outputs": [
    {
     "data": {
      "image/png": "[encoded data removed]",
      "text/plain": [
       "<Figure size 371.107x367.889 with 1 Axes>"
      ]
     },
     "execution_count": 63,
     "metadata": {},
     "output_type": "execute_result"
    }
   ],
   "source": [
    "def meu_swap_op(a, b):\n",
    "    with around(CNOT, a, b):\n",
    "        CNOT(b, a)\n",
    "\n",
    "\n",
    "def fredkin_op(a, b, c):\n",
    "    ctrl(a, meu_swap_op)(b, c)\n",
    "\n",
    "\n",
    "qulib.draw(gate=fredkin_op, num_qubits=(1, 1, 1), output=\"mpl\")"
   ]
  },
  {
   "cell_type": "markdown",
   "metadata": {},
   "source": [
    "#### Alterando o Estado de Controle\n",
    "\n",
    "Por padrão, as operações quânticas são aplicadas apenas quando os qubits de controle estão no estado $\\ket{1}$. No entanto, em certos casos, precisamos alterar esse comportamento. Para isso, podemos usar a função {func}`ket.lib.flip_to_control` em conjunto com a instrução `with` {func}`~ket.operations.around` para mudar o estado de controle de uma operação quântica. \n",
    "\n",
    "O exemplo abaixo ilustra esse uso, onde queremos aplicar operações condicionais de acordo com os dados carregados. Neste exemplo, as operações condicionais são aplicadas nos qubits `qubits` com base nos dados carregados, e em seguida o emaranhamento é removido condicionalmente de acordo com esses mesmos dados.\n"
   ]
  },
  {
   "cell_type": "code",
   "execution_count": 64,
   "metadata": {},
   "outputs": [
    {
     "name": "stdout",
     "output_type": "stream",
     "text": [
      "Dados carregados:\n"
     ]
    },
    {
     "data": {
      "text/latex": [
       "$\\displaystyle \\frac{1}{\\sqrt{4}} \\left|11\\right>\\left|00\\right>+\\frac{1}{\\sqrt{4}} \\left|33\\right>\\left|10\\right>+\\frac{1}{\\sqrt{4}} \\left|22\\right>\\left|01\\right>+\\frac{1}{\\sqrt{4}} \\left|44\\right>\\left|11\\right>$"
      ],
      "text/plain": [
       "<IPython.core.display.Math object>"
      ]
     },
     "metadata": {},
     "output_type": "display_data"
    },
    {
     "name": "stdout",
     "output_type": "stream",
     "text": [
      "Emaranhamento removido condicionalmente:\n"
     ]
    },
    {
     "data": {
      "text/latex": [
       "$\\displaystyle \\frac{1}{\\sqrt{4}} \\left|44\\right>\\left|00\\right>+\\frac{1}{\\sqrt{4}} \\left|22\\right>\\left|00\\right>+\\frac{1}{\\sqrt{4}} \\left|33\\right>\\left|00\\right>+\\frac{1}{\\sqrt{4}} \\left|11\\right>\\left|00\\right>$"
      ],
      "text/plain": [
       "<IPython.core.display.Math object>"
      ]
     },
     "metadata": {},
     "output_type": "display_data"
    }
   ],
   "source": [
    "processo = Process()\n",
    "\n",
    "# Aloca qubits\n",
    "qubits = processo.alloc(8)\n",
    "aux = processo.alloc(2)\n",
    "\n",
    "# Dados para processamento\n",
    "dados = [11, 22, 33, 44]\n",
    "\n",
    "# Aplica a Hadamard no registrador auxiliar\n",
    "H(aux)\n",
    "\n",
    "# Aplica as operações condicionais com base nos dados\n",
    "for i, dado in enumerate(dados):\n",
    "    with around(qulib.flip_to_control(i), aux):\n",
    "        with control(aux):\n",
    "            for state, qubit in zip(f\"{dado:0{len(qubits)}b}\", qubits):\n",
    "                if state == \"1\":\n",
    "                    X(qubit)\n",
    "\n",
    "print(\"Dados carregados:\")\n",
    "display(dump(qubits + aux).show(f\"i{len(qubits)}\"))\n",
    "\n",
    "# Remove o emaranhamento condicionalmente com base nos dados\n",
    "for i, dado in enumerate(dados):\n",
    "    with around(qulib.flip_to_control(dado), qubits):\n",
    "        with control(qubits):\n",
    "            for state, qubit in zip(f\"{i:0{len(aux)}b}\", aux):\n",
    "                if state == \"1\":\n",
    "                    X(qubit)\n",
    "\n",
    "print(\"Emaranhamento removido condicionalmente:\")\n",
    "display(dump(qubits + aux).show(f\"i{len(qubits)}\"))"
   ]
  },
  {
   "cell_type": "markdown",
   "metadata": {},
   "source": [
    "#### Exercício: Reimplementando Portas Quânticas com `around`\n",
    "\n",
    "Neste exercício, sua tarefa é utilizar a instrução `with` {func}`~ket.operations.around` para reimplementar as portas lógicas quânticas {func}`~ket.gates.RXX`, {func}`~ket.gates.RYY` e {func}`~ket.gates.RZZ`. Use como base para a reimplementação o circuito quântico de decomposição de cada porta."
   ]
  },
  {
   "cell_type": "code",
   "execution_count": 74,
   "metadata": {
    "tags": [
     "hide-input"
    ]
   },
   "outputs": [
    {
     "data": {
      "image/png": "[encoded data removed]",
      "text/plain": [
       "<Figure size 538.128x284.278 with 1 Axes>"
      ]
     },
     "execution_count": 74,
     "metadata": {},
     "output_type": "execute_result"
    }
   ],
   "source": [
    "qulib.draw(gate=RXX(3.141592654), num_qubits=(1, 1), output=\"mpl\")"
   ]
  },
  {
   "cell_type": "code",
   "execution_count": 76,
   "metadata": {},
   "outputs": [
    {
     "data": {
      "image/png": "[encoded data removed]",
      "text/plain": [
       "<Figure size 161.878x284.278 with 1 Axes>"
      ]
     },
     "execution_count": 76,
     "metadata": {},
     "output_type": "execute_result"
    }
   ],
   "source": [
    "def porta_rxx(theta: float, qubits: Quant):\n",
    "    # Implemente a portas RXX(ϴ)\n",
    "    ...\n",
    "\n",
    "\n",
    "qulib.draw(gate=porta_rxx, num_qubits=(2,), args=(3.141592654,), output=\"mpl\")"
   ]
  },
  {
   "cell_type": "code",
   "execution_count": 67,
   "metadata": {
    "tags": [
     "hide-input"
    ]
   },
   "outputs": [
    {
     "data": {
      "image/png": "[encoded data removed]",
      "text/plain": [
       "<Figure size 538.128x284.278 with 1 Axes>"
      ]
     },
     "execution_count": 67,
     "metadata": {},
     "output_type": "execute_result"
    }
   ],
   "source": [
    "qulib.draw(gate=RYY(3.141592654, None, None), num_qubits=(1, 1), output=\"mpl\")"
   ]
  },
  {
   "cell_type": "code",
   "execution_count": 77,
   "metadata": {},
   "outputs": [
    {
     "data": {
      "image/png": "[encoded data removed]",
      "text/plain": [
       "<Figure size 161.878x284.278 with 1 Axes>"
      ]
     },
     "execution_count": 77,
     "metadata": {},
     "output_type": "execute_result"
    }
   ],
   "source": [
    "def porta_ryy(theta: float, qubits: Quant):\n",
    "    # Implemente a portas RYY(ϴ)\n",
    "    ...\n",
    "\n",
    "\n",
    "qulib.draw(gate=porta_ryy, num_qubits=(2,), args=(3.141592654,), output=\"mpl\")"
   ]
  },
  {
   "cell_type": "code",
   "execution_count": 69,
   "metadata": {
    "tags": [
     "hide-input"
    ]
   },
   "outputs": [
    {
     "data": {
      "image/png": "[encoded data removed]",
      "text/plain": [
       "<Figure size 370.906x284.278 with 1 Axes>"
      ]
     },
     "execution_count": 69,
     "metadata": {},
     "output_type": "execute_result"
    }
   ],
   "source": [
    "qulib.draw(gate=RZZ(3.141592654, None, None), num_qubits=(1, 1), output=\"mpl\")"
   ]
  },
  {
   "cell_type": "code",
   "execution_count": null,
   "metadata": {},
   "outputs": [],
   "source": [
    "def porta_rzz(theta: float, qubits: Quant):\n",
    "    # Implemente a portas RZZ(ϴ)\n",
    "    ...\n",
    "\n",
    "\n",
    "qulib.draw(gate=porta_rzz, num_qubits=(2,), args=(3.141592654,), output=\"mpl\")"
   ]
  },
  {
   "cell_type": "markdown",
   "metadata": {},
   "source": [
    "## Medidas\n",
    "\n",
    "Após realizar os cálculos na computação quântica, é necessário extrair os resultados para o ambiente clássico. Isso é feito por meio de medidas nos qubits. Nesta seção, exploraremos diferentes formas de medir qubits no Ket.\n",
    "\n",
    "### Extrair o Estado Quântico\n",
    "\n",
    "Ao simularmos um computador quântico, como fazemos neste capítulo, não estamos restritos às limitações da mecânica quântica. Assim, podemos extrair todo o estado quântico do simulador para manipulá-lo dentro do Python. Para isso, utilizamos a função {func}`~ket.operations.dump`, que retorna uma instância de {class}`~ket.base.QuantumState`.\n",
    "\n",
    "Com o objeto {class}`~ket.base.QuantumState`, é possível iterar sobre o estado quântico usando o atributo {attr}`~ket.base.QuantumState.states`. Neste atributo, o estado quântico é representado por um dicionário que mapeia o estado da base, representado por um número inteiro ({class}`int`), para sua amplitude de probabilidade associada, representada por um número complexo ({class}`complex`).\n",
    "\n",
    ":::{warning}\n",
    "A extração do {class}`~ket.base.QuantumState` só é possível quando estamos em um ambiente simulado. Além disso, o {class}`~ket.base.QuantumState` não tem a capacidade de representar estados mistos. Portanto, se o {class}`~ket.base.QuantumState` representar um qubit entrelaçado com um qubit que não pertence ao mesmo {class}`~ket.base.QuantumState`, a representação não será completa.\n",
    "\n",
    "Tendo isso em mente, o uso da função {func}`~ket.operations.dump` é uma ótima maneira de testar e debugar uma execução quântica. No entanto, não é recomendado substituir uma medida por esta abordagem.\n",
    ":::\n",
    "\n",
    "Além do atributo {attr}`~ket.base.QuantumState.states`, é possível acessar o atributo {attr}`~ket.base.QuantumState.probabilities` para obter as probabilidades de medida. Também podemos utilizar o método {meth}`~ket.base.QuantumState.sample` para simular uma amostragem a partir do {class}`~ket.base.QuantumState`.\n",
    "\n",
    "Abaixo, seguem exemplos de como utilizar a função {func}`~ket.operations.dump` para extrair o estado quântico e iterar sobre ele através do atributo {attr}`~ket.base.QuantumState.states`."
   ]
  },
  {
   "cell_type": "code",
   "execution_count": 71,
   "metadata": {},
   "outputs": [
    {
     "name": "stdout",
     "output_type": "stream",
     "text": [
      "(0.7071067811865476+0j) |0⟩\n",
      "(0.7071067811865476+0j) |3⟩\n"
     ]
    }
   ],
   "source": [
    "processo = Process()\n",
    "\n",
    "qubits = processo.alloc(2)\n",
    "\n",
    "# prepara estado de Bell\n",
    "cat(kron(H, I), CNOT)(*qubits)\n",
    "\n",
    "estado_quântico = dump(qubits)\n",
    "\n",
    "for estado, amplitude in estado_quântico.states.items():\n",
    "    print(f\"{amplitude} |{estado}⟩\")"
   ]
  },
  {
   "cell_type": "markdown",
   "metadata": {},
   "source": [
    "Uma maneira alternativa de exibir o estado quântico é utilizando o método {meth}`~ket.base.QuantumState.show` da classe {class}`~ket.base.QuantumState`."
   ]
  },
  {
   "cell_type": "code",
   "execution_count": 78,
   "metadata": {},
   "outputs": [
    {
     "data": {
      "text/latex": [
       "$\\displaystyle \\frac{1}{\\sqrt{2}} \\left|00\\right>+\\frac{1}{\\sqrt{2}} \\left|11\\right>$"
      ],
      "text/plain": [
       "<IPython.core.display.Math object>"
      ]
     },
     "execution_count": 78,
     "metadata": {},
     "output_type": "execute_result"
    }
   ],
   "source": [
    "estado_quântico.show()"
   ]
  },
  {
   "cell_type": "markdown",
   "metadata": {},
   "source": [
    "### Medição de Qubits\n",
    "\n",
    "A função {func}`~ket.operations.measure` é utilizada para medir qubits na base computacional, resultando em um objeto do tipo {class}`~ket.base.Measurement`. Após a medição, o estado do qubit colapsa para o estado correspondente à medida realizada. Para extrair o resultado da medida, basta acessar o atributo {attr}`~ket.base.Measurement.value`, o qual retorna um número inteiro sem sinal. É importante observar que o qubit de índice 0 corresponde ao bit de maior magnitude no resultado final. Portanto, a medição dos qubits $\\ket{\\texttt{xyz}}$ resulta no número binário $\\texttt{0b}\\texttt{xyz}$.\n",
    "\n",
    "Abaixo está um exemplo de uso da função {func}`~ket.operations.measure`. Neste exemplo, estamos medindo o primeiro qubit após a preparação do estado de Bell e exibindo o resultado da medida."
   ]
  },
  {
   "cell_type": "code",
   "execution_count": 79,
   "metadata": {},
   "outputs": [
    {
     "name": "stdout",
     "output_type": "stream",
     "text": [
      "Estado quântico antes da medida\n"
     ]
    },
    {
     "data": {
      "text/latex": [
       "$\\displaystyle \\frac{1}{\\sqrt{2}} \\left|00\\right>+\\frac{1}{\\sqrt{2}} \\left|11\\right>$"
      ],
      "text/plain": [
       "<IPython.core.display.Math object>"
      ]
     },
     "metadata": {},
     "output_type": "display_data"
    },
    {
     "name": "stdout",
     "output_type": "stream",
     "text": [
      "Resultado da medida do primeiro qubit: 1\n",
      "Estado quântico após o colapso\n"
     ]
    },
    {
     "data": {
      "text/latex": [
       "$\\displaystyle  \\left|11\\right>$"
      ],
      "text/plain": [
       "<IPython.core.display.Math object>"
      ]
     },
     "metadata": {},
     "output_type": "display_data"
    }
   ],
   "source": [
    "processo = Process()\n",
    "\n",
    "qubits = processo.alloc(2)\n",
    "\n",
    "# Preparando o estado de Bell\n",
    "cat(kron(H, I), CNOT)(*qubits)\n",
    "\n",
    "print(\"Estado quântico antes da medida\")\n",
    "display(dump(qubits).show())\n",
    "\n",
    "medida = measure(qubits[0])\n",
    "print(\"Resultado da medida do primeiro qubit:\", medida.value)\n",
    "\n",
    "print(\"Estado quântico após o colapso\")\n",
    "display(dump(qubits).show())"
   ]
  },
  {
   "cell_type": "markdown",
   "metadata": {},
   "source": [
    "#### Exercício: Medidas em Outras Bases\n",
    "\n",
    "Os computadores quânticos normalmente realizam medidas apenas na base computacional (base Z). No entanto, aplicando algumas operações quânticas, é possível realizar medidas em outras bases. Neste exercício, exploraremos medidas nas bases X e Y.\n",
    "\n",
    "**Medidas na Base X (Hadamard):**\n",
    "\n",
    "Na base X, também conhecida como base de Hadamard, a medida de um qubit no estado $\\frac{1}{\\sqrt{2}}(\\ket{0}+\\ket{1})$ retorna 0, e a medida no estado $\\frac{1}{\\sqrt{2}}(\\ket{0}-\\ket{1})$ retorna 1. Implemente as rotações necessárias nos qubits para efetuar uma medida na base computacional usando a função {func}`~ket.operations.measure`.\n",
    "\n"
   ]
  },
  {
   "cell_type": "code",
   "execution_count": null,
   "metadata": {},
   "outputs": [],
   "source": [
    "def medir_x(qubit: Quant) -> int: ...\n",
    "\n",
    "\n",
    "def verificar_medir_x():\n",
    "    processo = Process()\n",
    "\n",
    "    a, b = processo.alloc(2)\n",
    "    X(b)\n",
    "    H(a + b)\n",
    "\n",
    "    assert medir_x(a) == 0\n",
    "    assert medir_x(b) == 1\n",
    "    print(\"Verificação concluída com sucesso\")\n",
    "\n",
    "\n",
    "# verificar_medir_x()"
   ]
  },
  {
   "cell_type": "markdown",
   "metadata": {},
   "source": [
    "**Medidas na Base Y:**\n",
    "\n",
    "Na base Y, a medida de um qubit no estado $\\frac{1}{\\sqrt{2}}(\\ket{0}+i\\ket{1})$ retorna 0, e a medida no estado $\\frac{1}{\\sqrt{2}}(\\ket{0}-i\\ket{1})$ retorna 1. Implemente as rotações necessárias nos qubits para efetuar uma medida na base computacional usando a função {func}`~ket.operations.measure`."
   ]
  },
  {
   "cell_type": "code",
   "execution_count": null,
   "metadata": {},
   "outputs": [],
   "source": [
    "def medir_y(qubit: Quant) -> int: ...\n",
    "\n",
    "\n",
    "def verificar_medir_y():\n",
    "    processo = Process()\n",
    "\n",
    "    a, b = processo.alloc(2)\n",
    "    X(b)\n",
    "    S(H(a + b))\n",
    "\n",
    "    assert medir_y(a) == 0\n",
    "    assert medir_y(b) == 1\n",
    "    print(\"Verificação concluída com sucesso\")\n",
    "\n",
    "\n",
    "# verificar_medir_y()"
   ]
  },
  {
   "cell_type": "markdown",
   "metadata": {},
   "source": [
    "### Amostragem de Qubits\n",
    "\n",
    "Muitos algoritmos quânticos dependem não apenas de uma medida exata, mas de uma distribuição de probabilidades. Portanto, é necessário executar várias medições em vez de apenas uma. Muitos computadores quânticos implementam esse comportamento, e o Ket oferece a função {func}`~ket.operations.sample`, que retorna uma instância de {class}`~ket.base.Samples` com os resultados das medições. Para acessar o resultado, basta ler o atributo {attr}`~ket.base.Samples.value`, que retorna um dicionário mapeando o estado medido ao número de vezes que esse estado foi observado.\n",
    "\n",
    ":::{attention}\n",
    "Nos simuladores padrão do Ket o estado quântico não é colapsado após a chamada da função {func}`~ket.operations.sample`, e os qubits permanecem disponíveis para outras operações. No entanto, esse comportamento não é garantido em computadores quânticos reais, onde os qubits normalmente se tornam indisponíveis após a medição.\n",
    ":::\n",
    "\n",
    "A seguir, apresentamos um exemplo de uso da função {func}`~ket.operations.sample`:"
   ]
  },
  {
   "cell_type": "code",
   "execution_count": 80,
   "metadata": {},
   "outputs": [
    {
     "name": "stdout",
     "output_type": "stream",
     "text": [
      "Estado quântico\n"
     ]
    },
    {
     "data": {
      "text/latex": [
       "$\\displaystyle \\frac{1}{\\sqrt{2}} \\left|0\\right>+\\frac{1}{\\sqrt{2}} \\left|3\\right>$"
      ],
      "text/plain": [
       "<IPython.core.display.Math object>"
      ]
     },
     "metadata": {},
     "output_type": "display_data"
    },
    {
     "name": "stdout",
     "output_type": "stream",
     "text": [
      "Resultado das medidas: {0: 1008, 3: 1040}\n"
     ]
    }
   ],
   "source": [
    "processo = Process()\n",
    "\n",
    "qubits = processo.alloc(2)\n",
    "\n",
    "# Preparando o estado de Bell\n",
    "cat(kron(H, I), CNOT)(*qubits)\n",
    "\n",
    "estado_quântico = dump(qubits)\n",
    "\n",
    "print(\"Estado quântico\")\n",
    "display(dump(qubits).show('i'))\n",
    "\n",
    "medida = sample(qubits)\n",
    "print(\"Resultado das medidas:\", medida.value)"
   ]
  },
  {
   "cell_type": "markdown",
   "metadata": {},
   "source": [
    "\n",
    "### Calcular Valor Esperado\n",
    "\n",
    "## Execução Quântica e Simulação    \n",
    "\n",
    "### Modos de Execução Quântica\n",
    "\n",
    "### Configuração do Processo e dos Simuladores"
   ]
  }
 ],
 "metadata": {
  "kernelspec": {
   "display_name": "venv",
   "language": "python",
   "name": "python3"
  },
  "language_info": {
   "codemirror_mode": {
    "name": "ipython",
    "version": 3
   },
   "file_extension": ".py",
   "mimetype": "text/x-python",
   "name": "python",
   "nbconvert_exporter": "python",
   "pygments_lexer": "ipython3",
   "version": "3.13.2"
  }
 },
 "nbformat": 4,
 "nbformat_minor": 4
}

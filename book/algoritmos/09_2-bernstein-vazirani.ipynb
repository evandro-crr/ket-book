{
 "cells": [
  {
   "cell_type": "code",
   "execution_count": null,
   "id": "5402d560",
   "metadata": {},
   "outputs": [
    {
     "name": "stdout",
     "output_type": "stream",
     "text": [
      "Defaulting to user installation because normal site-packages is not writeable\n",
      "Requirement already satisfied: ket-lang in c:\\users\\migui\\appdata\\roaming\\python\\python313\\site-packages (0.9.1)\n",
      "Defaulting to user installation because normal site-packages is not writeable\n",
      "Requirement already satisfied: numpy in c:\\users\\migui\\appdata\\roaming\\python\\python313\\site-packages (2.2.5)\n"
     ]
    }
   ],
   "source": [
    "!pip install ket-lang\n",
    "!pip install numpy\n",
    "import numpy as np\n",
    "import math\n",
    "from ket import *"
   ]
  },
  {
   "cell_type": "markdown",
   "id": "6a6c870c",
   "metadata": {},
   "source": [
    ":::{admonition} Referências\n",
    "Material extraído do TCC [*Computação Quântica: Uma abordagem para estudantes de graduação em Ciências Exatas*](../tcc-giovani.pdf), de Giovani Goraiebe Pollachini.\n",
    ":::\n",
    "\n",
    "O Algoritmo de Bernstein-Vazirani é um algoritmo quântico desenvolvido para resolver o Problema de Bernstein-Vazirani. Embora este problema não possua aplicações práticas diretas de grande relevância, ele serve como um laboratório teórico fundamental para explorar e compreender as capacidades distintivas da Computação Quântica. A principal referência para esta discussão é o livro {cite}nielsen_quantum_2010."
   ]
  },
  {
   "cell_type": "markdown",
   "id": "5695605e",
   "metadata": {},
   "source": [
    "**Problema de Bernstein-Vazirani**\n",
    "\n",
    "Seja ${ f: \\{0,1\\}^n \\to \\{0,1\\} }$ uma função tal que ${ f(x) = x \\cdot s }$, onde \" · \" representa o produto escalar (módulo 2) entre ${x}$ e ${s}$, e ${ s \\in \\{0,1\\}^n }$ é uma string secreta de tamanho ${ n }$. O objetivo é encontrar ${s}$.\n",
    "\n",
    "## Algorítimo clássico\n",
    "\n",
    "Agora considere o problema de Bernstein-Vazirani no contexto clássico. A seguir serão vistas brevemente a abordagem clássica para o problema. \n",
    "\n",
    "### Algoritmo Clássico Determinístico\n",
    "\n",
    "A Computação Clássica Determinística é um tipo de computação em que se busca algoritmos que não façam uso de recursos probabilísticos para resolver um problema. Os algoritmos determinísticos são tais que, ao serem executados diversas vezes para uma mesma entrada, produz-se sempre a mesma saída. Para que se resolva o problema nesse tipo de computação, é necessário realizar uma verificação de cada bit separadamente, o que equivale a testa uma base da matriz identidade. Desse modo, precisamento realizar uma chamada a função $n$ vezes, sendo $n$ o número de bits da string. Por exemplo:\n",
    "\n",
    "$$\n",
    "\\begin{array}{|c|c|}\n",
    "\\hline\n",
    "\\text{Input} & \\text{Output} \\\\\n",
    "\\hline\n",
    "000 & 0 \\\\\n",
    "001 & 0 \\\\\n",
    "010 & 1 \\\\\n",
    "011 & 1 \\\\\n",
    "100 & 1 \\\\\n",
    "101 & 1 \\\\\n",
    "110 & 0 \\\\\n",
    "111 & 0 \\\\\n",
    "\\hline\n",
    "\\end{array}\n",
    "$$\n",
    "\n",
    "Para resolver essa série de entradas e saídas devemos realizar o texto para bit específicos, como, nesse exemplo: ${f(001), \\space f(010) \\space e \\space f(100)}$. Sendo assim, temos a seguinte solução\n",
    "\n",
    "$$\n",
    "\\begin{array}{|c|c|}\n",
    "\\hline\n",
    "\\text{Input} & \\text{Output} \\\\\n",
    "\\hline\n",
    "001 & 0 \\\\\n",
    "010 & 1 \\\\\n",
    "100 & 1 \\\\\n",
    "\\hline\n",
    "\\end{array}\n",
    "$$\n",
    "\n",
    "Portanto, a resposta para o problema é: ${110}$\n",
    "  \n",
    "Dessa forma, nota-se que o custo computacional desse algoritmo é de $n$ aplicações de $f$."
   ]
  },
  {
   "cell_type": "markdown",
   "id": "aece4d88",
   "metadata": {},
   "source": [
    "## Algoritmo de Bernstein-Vazirani\n",
    "\n",
    "Para resolver o problema de Bernstein-Vazirani com um algoritmo quântico, é necessário ter uma versão quântica da função linear $f(x) = s \\cdot x \\mod 2$, fornecida como um oráculo quântico. Considere que $f$ seja implementada por meio de um **oráculo de fase** $U_f$, que atua sobre estados quânticos da seguinte forma:\n",
    "\n",
    "${\n",
    "O_f \\ket{x} = (-1)^{f(x)} \\ket{x} = (-1)^{s \\cdot x} \\ket{x}\n",
    "}$\n",
    "\n",
    "O algoritmo de Bernstein-Vazirani para determinar a string secreta ${ s \\in \\{0,1\\}^n }$ é dado pelo seguinte procedimento:\n",
    "\n",
    "**Procedimento:**\n",
    "\n",
    "$$\n",
    "\\begin{array}{ccc}\n",
    "   \\text{Etapa 0:} & \\ket{0}^{\\otimes n}\\ket{1} & \\text{Preparação do estado inicial} \\\\\n",
    "   \\text{Etapa 1:} & \\ket{+}^{\\otimes n}\\ket{-} & \\text{Superposição com } H^{\\otimes (n+1)} \\\\\n",
    "   \\text{Etapa 2:} & O_f\\ket{+}^{\\otimes n}\\ket{-} & \\text{Aplicação do oráculo } O_f \\text{ (fase)} \\\\\n",
    "   \\text{Etapa 3:} & H^{\\otimes n}O_f\\ket{+}^{\\otimes n}\\ket{-} & \\text{Transformada de Hadamard nos n qubits} \\\\\n",
    "  \\end{array}\n",
    "$$\n",
    "\n",
    "**Saída:** A probabilidade da medida de $\\ket{\\psi_3}$ resultar em $\\ket{0}^{\\otimes n}$ é\n",
    "\n",
    "$$\n",
    "\\begin{cases}\n",
    "   1 & \\text{se } s = 0^n \\\\\n",
    "   0 & \\text{se } s \\neq 0^n\n",
    "\\end{cases}\n",
    "$$\n",
    "\n",
    "A medida de $\\ket{\\psi_3}$ resulta deterministicamente no estado $\\ket{s}$ com probabilidade 1, revelando exatamente a string secreta $s$.\n",
    "\n",
    "**Circuito**\n",
    "Notação compacta:\n",
    "\n",
    "![bv_notacao_compacta](../images/algoritmos/bernstein-vazirani/bv_notacao_compacta.png)\n",
    "\n",
    "Notação expandida:\n",
    "\n",
    "![bv_notacao_expandida](../images/algoritmos/bernstein-vazirani/bv_notacao_expandida.png)\n",
    "\n",
    "Análise detalhada do algoritmo:\n",
    "\n",
    "Na etapa 1, aplica-se $H$ para cada qubit de entrada, resultando em:\n",
    "\n",
    "$$\n",
    "\\begin{split}\n",
    "    \\ket{\\psi_1} &= H^{\\otimes (n+1)} \\ket{\\psi_0} \\\\\n",
    "    &= H^{\\otimes n} \\ket{0}^{\\otimes n} \\otimes H \\ket{1} \\\\\n",
    "    &= \\ket{+}^{\\otimes n} \\otimes \\ket{-} \\\\\n",
    "    &= \\left(\\frac{\\ket{0} + \\ket{1}}{\\sqrt{2}} \\right)^{\\otimes n} \\otimes \\left(\\frac{\\ket{0} - \\ket{1}}{\\sqrt{2}} \\right) \\\\\n",
    "    &= \\frac{1}{\\sqrt{2^n}} \\sum_{x \\in \\mathbb{B}_n} \\ket{x} \\otimes \\frac{\\ket{0} - \\ket{1}}{\\sqrt{2}}\n",
    "\\end{split}\n",
    "$$\n",
    "em que $\\mathbb{B}_n$ representa o conjunto de todas as palavras de $n$ bits. Isto é, \n",
    "\n",
    "A segunda etapa é caracterizada pela aplicação do oráculo de fase, fornecendo:\n",
    "\n",
    "$$\n",
    "\\begin{split}\n",
    "    \\ket{\\psi_2} &= O_f \\ket{\\psi_1} \\\\\n",
    "    &= \\frac{1}{\\sqrt{2^n}} \\sum_{x \\in \\mathbb{B}_n} O_f \\left( \\ket{x} \\otimes \\frac{\\ket{0} - \\ket{1}}{\\sqrt{2}} \\right) \\\\\n",
    "    &= \\frac{1}{\\sqrt{2^n}} \\sum_{x \\in \\mathbb{B}_n} (-1)^{f(x)} \\ket{x} \\otimes \\frac{\\ket{0} - \\ket{1}}{\\sqrt{2}} \\\\\n",
    "    &= \\frac{1}{\\sqrt{2^n}} \\sum_{x \\in \\mathbb{B}_n} (-1)^{s \\cdot x} \\ket{x} \\otimes \\frac{\\ket{0} - \\ket{1}}{\\sqrt{2}}\n",
    "\\end{split}\n",
    "$$\n",
    "\n",
    "Por final, a aplicação de $H$ nos qubits resulta em:\n",
    "\n",
    "$$\n",
    "\\begin{split}\n",
    "    \\ket{\\psi_3} &= (H^{\\otimes n} \\otimes I) \\ket{\\psi_2} \\\\\n",
    "    &= \\frac{1}{\\sqrt{2^n}} \\sum_{x \\in \\mathbb{B}_n} (-1)^{s \\cdot x} H^{\\otimes n} \\ket{x} \\otimes \\frac{\\ket{0} - \\ket{1}}{\\sqrt{2}} \\\\\n",
    "    &= \\frac{1}{\\sqrt{2^n}} \\sum_{x \\in \\mathbb{B}_n} (-1)^{s \\cdot x} \\left( \\frac{1}{\\sqrt{2^n}} \\sum_{z \\in \\mathbb{B}_n} (-1)^{x \\cdot z} \\ket{z} \\right) \\otimes \\frac{\\ket{0} - \\ket{1}}{\\sqrt{2}} \\\\\n",
    "    &= \\frac{1}{2^n} \\sum_{z \\in \\mathbb{B}_n} \\left( \\sum_{x \\in \\mathbb{B}_n} (-1)^{x \\cdot (s \\oplus z)} \\right) \\ket{z} \\otimes \\frac{\\ket{0} - \\ket{1}}{\\sqrt{2}}\n",
    "\\end{split}\n",
    "$$\n",
    "\n",
    "**Simplificação usando propriedade de ortogonalidade**\n",
    "$$\n",
    "    \\sum_{x \\in \\mathbb{B}_n} (-1)^{x \\cdot (s \\oplus z)} = \n",
    "\\begin{cases}\n",
    "    2^n & \\text{se } s \\oplus z = 0^n \\\\\n",
    "    0 & \\text{caso contrário}\n",
    "\\end{cases}\n",
    "$$\n",
    "\n",
    "Portanto:\n",
    "$$\n",
    "\\ket{\\psi_3} = \\ket{s} \\otimes \\frac{\\ket{0} - \\ket{1}}{\\sqrt{2}}\n",
    "$$\n",
    "\n",
    "## Comparação de desempenho \n",
    "\n",
    "A tabela abaixo traz a comparação entre o desempenho dos algoritmos clássico e quântico. \n",
    "\n",
    "\n",
    "$$\n",
    "\\begin{array}{l|l}\n",
    "\\text{Algoritmo} & \\text{Desempenho } (\\# \\text{ aplicações de } f) \\\\ \\hline\n",
    "\\text{Clássico} & n \\\\\n",
    "\\text{Quântico} & 1\n",
    "\\end{array}\n",
    "$$\n",
    "\n",
    "A comparação direta entre as complexidades de consulta clássica (Θ(n)) e quântica (Θ(1)) para o problema de Bernstein-Vazirani, embora matematicamente correta, deve ser interpretada com cautela, pois operações em arquiteturas distintas possuem naturezas e custos computacionais fundamentalmente diferentes que não permitem uma equiparação direta. No entanto, como exercício teórico, essa análise revela o potencial da computação quântica para explorar paralelismo e interferência de formas radicalmente novas, oferecendo um vislumbre conceitual de como certos problemas poderiam ser resolvidos de maneira intrinsicamente mais eficiente em princípio, mesmo que desafios práticos de implementação permaneçam.\n",
    "\n",
    "\n",
    "Em relação ao algoritmo clássico, o algoritmo quântico apresenta ganho exponencial em desempenho."
   ]
  },
  {
   "cell_type": "markdown",
   "id": "5efef1de",
   "metadata": {},
   "source": [
    "## Simulação do algorítimo de Bernstein-Vazirani\n",
    "\n",
    "Para simular o algorítimo de Deutsch Simplificado usaremos a línguagem Ket de computação quântica, para isso precisamos ter ela instalada, caso não possua o pacote instalado rode o seguinte código:"
   ]
  },
  {
   "cell_type": "markdown",
   "id": "e45311f8",
   "metadata": {},
   "source": [
    "```python\n",
    "pip install ket-lang\n",
    "```"
   ]
  },
  {
   "cell_type": "markdown",
   "id": "ee4028a8",
   "metadata": {},
   "source": [
    "Com a biblioteca instalada, importa-se para ser usada dentro do seu código:"
   ]
  },
  {
   "cell_type": "code",
   "execution_count": 4,
   "id": "56beb9f7",
   "metadata": {},
   "outputs": [],
   "source": [
    "from ket import *"
   ]
  },
  {
   "cell_type": "markdown",
   "id": "134d8624",
   "metadata": {},
   "source": [
    "**Exercício:**\n",
    "\n",
    "Antes de implementarmos o algorítmo de Bernstein Vazirani, tente realizar uma versão mais fácil, unicamente para a string $s = 1010$ "
   ]
  },
  {
   "cell_type": "markdown",
   "id": "12110bab",
   "metadata": {},
   "source": [
    "Faremos o mesmo exemplo realizado com o Algoritmo de Bernstein-Vazirani, implementaremos um *oráculo* que pode ser usada para qualquer string $s$:\n",
    "\n",
    "Em seguida, implementaremo ele no algoritmo completo de Bernstein-Vazirani para verificar se o algoritmo consegue retornar a string secreta com *uma única chamada ao oráculo*"
   ]
  },
  {
   "cell_type": "code",
   "execution_count": 47,
   "id": "8f40bd7a",
   "metadata": {},
   "outputs": [],
   "source": [
    "# Exemplo de oráculo\n",
    "def oracle(qubits, bits):\n",
    "    # Aplica CNOT controlado em todos os qubits, com o último qubit como alvo\n",
    "    for c in range(len(bits)):\n",
    "        if bits[c] == '1':\n",
    "            CNOT(qubits[c], qubits[-1])"
   ]
  },
  {
   "cell_type": "markdown",
   "id": "48ea8af4",
   "metadata": {},
   "source": [
    "Agora implementaremos o algoritmo de Bernstein-Vazirani, utilizando esses oráculos que criamos"
   ]
  },
  {
   "cell_type": "code",
   "execution_count": 54,
   "id": "b1da306d",
   "metadata": {},
   "outputs": [],
   "source": [
    "def bernstein_vazirani(bits):\n",
    "    # Cria um processo quântico\n",
    "    p = Process()\n",
    "\n",
    "    # Número de bits na string secreta\n",
    "    n = len(bits)\n",
    "\n",
    "    # Aloca n qubits para a entrada e 1 qubit auxiliar\n",
    "    qubits = p.alloc(n + 1)\n",
    "\n",
    "    # Inicializa o qubit auxiliar no estado |1⟩\n",
    "    X(qubits[-1])\n",
    "\n",
    "    # Aplica a porta Hadamard a todos os qubits\n",
    "    H(qubits)\n",
    "\n",
    "    # Aplica o oráculo\n",
    "    oracle(qubits, bits)\n",
    "\n",
    "    # Aplica a porta Hadamard aos qubits de entrada\n",
    "    H(qubits[:-1])\n",
    "\n",
    "    # Mede os qubits de entrada\n",
    "    results = [measure(q).value for q in qubits[:-1]]\n",
    "\n",
    "    return results"
   ]
  },
  {
   "cell_type": "markdown",
   "id": "d63aed9c",
   "metadata": {},
   "source": [
    "**Provavel Dúvida:**\n",
    "\n",
    "O algoritmo de Bernstein-Vazirani não recebe a string secreta diretamente como input, mas sim acesso a um oráculo que contém essa string de forma oculta. A string secreta está embutida internamente no oráculo como parte de sua implementação, e o objetivo do algoritmo é descobrir essa string desconhecida analisando o comportamento do oráculo quando consultado com diferentes entradas. A vantagem quântica surge porque o algoritmo consegue extrair todos os bits da string secreta simultaneamente usando superposição quântica, exigindo apenas uma consulta ao oráculo, enquanto abordagens clássicas precisariam de múltiplas consultas sequenciais."
   ]
  }
 ],
 "metadata": {
  "kernelspec": {
   "display_name": "Python 3",
   "language": "python",
   "name": "python3"
  },
  "language_info": {
   "codemirror_mode": {
    "name": "ipython",
    "version": 3
   },
   "file_extension": ".py",
   "mimetype": "text/x-python",
   "name": "python",
   "nbconvert_exporter": "python",
   "pygments_lexer": "ipython3",
   "version": "3.12.4"
  }
 },
 "nbformat": 4,
 "nbformat_minor": 5
}
